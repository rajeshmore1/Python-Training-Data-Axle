{
 "cells": [
  {
   "cell_type": "code",
   "execution_count": 2,
   "metadata": {},
   "outputs": [
    {
     "name": "stdout",
     "output_type": "stream",
     "text": [
      "hello world\n"
     ]
    }
   ],
   "source": [
    "print(\"hello world\")"
   ]
  },
  {
   "cell_type": "code",
   "execution_count": 3,
   "metadata": {},
   "outputs": [
    {
     "name": "stdout",
     "output_type": "stream",
     "text": [
      "hello world\n"
     ]
    }
   ],
   "source": [
    "print(\"hello world\")"
   ]
  },
  {
   "cell_type": "code",
   "execution_count": 4,
   "metadata": {},
   "outputs": [],
   "source": [
    "x = 10"
   ]
  },
  {
   "cell_type": "code",
   "execution_count": 5,
   "metadata": {},
   "outputs": [
    {
     "data": {
      "text/plain": [
       "10"
      ]
     },
     "execution_count": 5,
     "metadata": {},
     "output_type": "execute_result"
    }
   ],
   "source": [
    "x"
   ]
  },
  {
   "cell_type": "code",
   "execution_count": 6,
   "metadata": {},
   "outputs": [
    {
     "data": {
      "text/plain": [
       "int"
      ]
     },
     "execution_count": 6,
     "metadata": {},
     "output_type": "execute_result"
    }
   ],
   "source": [
    "type(x)"
   ]
  },
  {
   "cell_type": "code",
   "execution_count": 7,
   "metadata": {},
   "outputs": [
    {
     "name": "stdout",
     "output_type": "stream",
     "text": [
      "the value of x: 10\n"
     ]
    }
   ],
   "source": [
    "print(\"the value of x:\", x)"
   ]
  },
  {
   "cell_type": "code",
   "execution_count": 8,
   "metadata": {},
   "outputs": [
    {
     "name": "stdout",
     "output_type": "stream",
     "text": [
      "the value of x 10\n"
     ]
    }
   ],
   "source": [
    "print('the value of x', x)"
   ]
  },
  {
   "cell_type": "code",
   "execution_count": 9,
   "metadata": {},
   "outputs": [
    {
     "name": "stdout",
     "output_type": "stream",
     "text": [
      "Car pool Capacity: 320\n"
     ]
    }
   ],
   "source": [
    "cars = 100\n",
    "drivers = 80\n",
    "print('Car pool Capacity:', drivers*4)"
   ]
  },
  {
   "cell_type": "code",
   "execution_count": 10,
   "metadata": {},
   "outputs": [
    {
     "data": {
      "text/plain": [
       "10"
      ]
     },
     "execution_count": 10,
     "metadata": {},
     "output_type": "execute_result"
    }
   ],
   "source": [
    "x"
   ]
  },
  {
   "cell_type": "code",
   "execution_count": 11,
   "metadata": {},
   "outputs": [
    {
     "ename": "NameError",
     "evalue": "name 'd' is not defined",
     "output_type": "error",
     "traceback": [
      "\u001b[0;31m---------------------------------------------------------------------------\u001b[0m",
      "\u001b[0;31mNameError\u001b[0m                                 Traceback (most recent call last)",
      "\u001b[0;32m<ipython-input-11-e983f374794d>\u001b[0m in \u001b[0;36m<module>\u001b[0;34m\u001b[0m\n\u001b[0;32m----> 1\u001b[0;31m \u001b[0md\u001b[0m\u001b[0;34m\u001b[0m\u001b[0;34m\u001b[0m\u001b[0m\n\u001b[0m",
      "\u001b[0;31mNameError\u001b[0m: name 'd' is not defined"
     ]
    }
   ],
   "source": [
    "d"
   ]
  },
  {
   "cell_type": "code",
   "execution_count": 12,
   "metadata": {},
   "outputs": [],
   "source": [
    "d = None"
   ]
  },
  {
   "cell_type": "code",
   "execution_count": 13,
   "metadata": {},
   "outputs": [
    {
     "name": "stdout",
     "output_type": "stream",
     "text": [
      "There are 100 cars 80 drivers\n"
     ]
    }
   ],
   "source": [
    "print(\"There are {} cars {} drivers\".format(cars, drivers))"
   ]
  },
  {
   "cell_type": "code",
   "execution_count": 14,
   "metadata": {},
   "outputs": [
    {
     "name": "stdout",
     "output_type": "stream",
     "text": [
      "there are 100 and 80 drivers\n"
     ]
    }
   ],
   "source": [
    "print(f'there are {cars} and {drivers} drivers')"
   ]
  },
  {
   "cell_type": "code",
   "execution_count": 15,
   "metadata": {},
   "outputs": [
    {
     "name": "stdout",
     "output_type": "stream",
     "text": [
      "there are 100 cars and 80 drivers\n"
     ]
    }
   ],
   "source": [
    "print(\"there are %d cars and %d drivers\" %(cars, drivers)) "
   ]
  },
  {
   "cell_type": "code",
   "execution_count": 20,
   "metadata": {},
   "outputs": [
    {
     "name": "stdout",
     "output_type": "stream",
     "text": [
      "python is fun\n"
     ]
    }
   ],
   "source": [
    "# str\n",
    "s = 'python is fun'\n",
    "print(s)"
   ]
  },
  {
   "cell_type": "code",
   "execution_count": null,
   "metadata": {},
   "outputs": [],
   "source": []
  },
  {
   "cell_type": "code",
   "execution_count": null,
   "metadata": {},
   "outputs": [],
   "source": []
  },
  {
   "cell_type": "code",
   "execution_count": 18,
   "metadata": {},
   "outputs": [
    {
     "data": {
      "text/plain": [
       "'python is fun'"
      ]
     },
     "execution_count": 18,
     "metadata": {},
     "output_type": "execute_result"
    }
   ],
   "source": [
    "s"
   ]
  },
  {
   "cell_type": "code",
   "execution_count": 21,
   "metadata": {},
   "outputs": [
    {
     "data": {
      "text/plain": [
       "str"
      ]
     },
     "execution_count": 21,
     "metadata": {},
     "output_type": "execute_result"
    }
   ],
   "source": [
    "type(s)"
   ]
  },
  {
   "cell_type": "code",
   "execution_count": 22,
   "metadata": {},
   "outputs": [
    {
     "data": {
      "text/plain": [
       "10"
      ]
     },
     "execution_count": 22,
     "metadata": {},
     "output_type": "execute_result"
    }
   ],
   "source": [
    "x"
   ]
  },
  {
   "cell_type": "code",
   "execution_count": 23,
   "metadata": {},
   "outputs": [
    {
     "data": {
      "text/plain": [
       "15"
      ]
     },
     "execution_count": 23,
     "metadata": {},
     "output_type": "execute_result"
    }
   ],
   "source": [
    "x + 5"
   ]
  },
  {
   "cell_type": "code",
   "execution_count": 24,
   "metadata": {},
   "outputs": [
    {
     "ename": "TypeError",
     "evalue": "can only concatenate str (not \"int\") to str",
     "output_type": "error",
     "traceback": [
      "\u001b[0;31m---------------------------------------------------------------------------\u001b[0m",
      "\u001b[0;31mTypeError\u001b[0m                                 Traceback (most recent call last)",
      "\u001b[0;32m<ipython-input-24-bdd2275bd5ba>\u001b[0m in \u001b[0;36m<module>\u001b[0;34m\u001b[0m\n\u001b[0;32m----> 1\u001b[0;31m \u001b[0ms\u001b[0m \u001b[0;34m+\u001b[0m \u001b[0;36m5\u001b[0m\u001b[0;34m\u001b[0m\u001b[0;34m\u001b[0m\u001b[0m\n\u001b[0m",
      "\u001b[0;31mTypeError\u001b[0m: can only concatenate str (not \"int\") to str"
     ]
    }
   ],
   "source": [
    "s + 5"
   ]
  },
  {
   "cell_type": "code",
   "execution_count": 25,
   "metadata": {},
   "outputs": [
    {
     "data": {
      "text/plain": [
       "'python is funonkar'"
      ]
     },
     "execution_count": 25,
     "metadata": {},
     "output_type": "execute_result"
    }
   ],
   "source": [
    "s + 'onkar'"
   ]
  },
  {
   "cell_type": "code",
   "execution_count": 26,
   "metadata": {},
   "outputs": [
    {
     "name": "stdout",
     "output_type": "stream",
     "text": [
      "value of x is 10\n",
      "15\n",
      "End of program\n"
     ]
    }
   ],
   "source": [
    "x = 10\n",
    "print('value of x is', x)\n",
    "print(x+5)\n",
    "print(\"End of program\")"
   ]
  },
  {
   "cell_type": "code",
   "execution_count": 33,
   "metadata": {},
   "outputs": [],
   "source": [
    "s1 = \"python is \\\n",
    "fun\"\n",
    "s2 = 'python is fun'\n",
    "s3 = '''python is fun'''\n",
    "s4 = \"\"\"python is \n",
    "'fun\"\"\""
   ]
  },
  {
   "cell_type": "code",
   "execution_count": null,
   "metadata": {},
   "outputs": [],
   "source": []
  },
  {
   "cell_type": "code",
   "execution_count": null,
   "metadata": {},
   "outputs": [],
   "source": []
  },
  {
   "cell_type": "code",
   "execution_count": null,
   "metadata": {},
   "outputs": [],
   "source": []
  },
  {
   "cell_type": "code",
   "execution_count": 34,
   "metadata": {},
   "outputs": [
    {
     "name": "stdout",
     "output_type": "stream",
     "text": [
      "python is fun\n",
      "python is fun\n",
      "python is fun\n",
      "python is \n",
      "'fun\n"
     ]
    }
   ],
   "source": [
    "print(s1)\n",
    "print(s2)\n",
    "print(s3)\n",
    "print(s4)"
   ]
  },
  {
   "cell_type": "code",
   "execution_count": 35,
   "metadata": {},
   "outputs": [
    {
     "data": {
      "text/plain": [
       "\"aws's turnover 10 bn\""
      ]
     },
     "execution_count": 35,
     "metadata": {},
     "output_type": "execute_result"
    }
   ],
   "source": [
    "\"aws's turnover 10 bn\""
   ]
  },
  {
   "cell_type": "code",
   "execution_count": 36,
   "metadata": {},
   "outputs": [
    {
     "data": {
      "text/plain": [
       "\"aws's turnover 10 bn\""
      ]
     },
     "execution_count": 36,
     "metadata": {},
     "output_type": "execute_result"
    }
   ],
   "source": [
    "\"aws\\'s turnover 10 bn\""
   ]
  },
  {
   "cell_type": "code",
   "execution_count": 37,
   "metadata": {},
   "outputs": [
    {
     "name": "stdout",
     "output_type": "stream",
     "text": [
      "30\n"
     ]
    }
   ],
   "source": [
    "x = 10\n",
    "y = 20\n",
    "c = 10\n",
    "print(x+y)"
   ]
  },
  {
   "cell_type": "code",
   "execution_count": 38,
   "metadata": {},
   "outputs": [
    {
     "name": "stdout",
     "output_type": "stream",
     "text": [
      "onkar\n"
     ]
    }
   ],
   "source": [
    "# input user input\n",
    "\n",
    "c = input()"
   ]
  },
  {
   "cell_type": "code",
   "execution_count": 39,
   "metadata": {},
   "outputs": [
    {
     "data": {
      "text/plain": [
       "'onkar'"
      ]
     },
     "execution_count": 39,
     "metadata": {},
     "output_type": "execute_result"
    }
   ],
   "source": [
    "c"
   ]
  },
  {
   "cell_type": "code",
   "execution_count": 40,
   "metadata": {},
   "outputs": [
    {
     "data": {
      "text/plain": [
       "str"
      ]
     },
     "execution_count": 40,
     "metadata": {},
     "output_type": "execute_result"
    }
   ],
   "source": [
    "type(c)"
   ]
  },
  {
   "cell_type": "code",
   "execution_count": 41,
   "metadata": {},
   "outputs": [
    {
     "name": "stdout",
     "output_type": "stream",
     "text": [
      "Enter the nameraj\n"
     ]
    }
   ],
   "source": [
    "c = input('Enter the name')"
   ]
  },
  {
   "cell_type": "code",
   "execution_count": 42,
   "metadata": {},
   "outputs": [
    {
     "data": {
      "text/plain": [
       "'raj'"
      ]
     },
     "execution_count": 42,
     "metadata": {},
     "output_type": "execute_result"
    }
   ],
   "source": [
    "c"
   ]
  },
  {
   "cell_type": "code",
   "execution_count": 43,
   "metadata": {},
   "outputs": [
    {
     "name": "stdout",
     "output_type": "stream",
     "text": [
      "Enter the namefdfdv\n"
     ]
    }
   ],
   "source": [
    "d = None\n",
    "d = input('Enter the name')"
   ]
  },
  {
   "cell_type": "code",
   "execution_count": 44,
   "metadata": {},
   "outputs": [
    {
     "data": {
      "text/plain": [
       "'fdfdv'"
      ]
     },
     "execution_count": 44,
     "metadata": {},
     "output_type": "execute_result"
    }
   ],
   "source": [
    "d"
   ]
  },
  {
   "cell_type": "code",
   "execution_count": 46,
   "metadata": {},
   "outputs": [
    {
     "name": "stdout",
     "output_type": "stream",
     "text": [
      "10\n",
      "<class 'int'>\n",
      "string\n",
      "<class 'str'>\n"
     ]
    }
   ],
   "source": [
    "a = 10\n",
    "print(a)\n",
    "print(type(a))\n",
    "a = 'string'\n",
    "print(a)\n",
    "print(type(a))"
   ]
  },
  {
   "cell_type": "code",
   "execution_count": 47,
   "metadata": {},
   "outputs": [
    {
     "name": "stdout",
     "output_type": "stream",
     "text": [
      "Enter your age:10\n"
     ]
    }
   ],
   "source": [
    "age = input(\"Enter your age:\")"
   ]
  },
  {
   "cell_type": "code",
   "execution_count": 48,
   "metadata": {},
   "outputs": [
    {
     "data": {
      "text/plain": [
       "'10'"
      ]
     },
     "execution_count": 48,
     "metadata": {},
     "output_type": "execute_result"
    }
   ],
   "source": [
    "age"
   ]
  },
  {
   "cell_type": "code",
   "execution_count": 49,
   "metadata": {},
   "outputs": [
    {
     "data": {
      "text/plain": [
       "str"
      ]
     },
     "execution_count": 49,
     "metadata": {},
     "output_type": "execute_result"
    }
   ],
   "source": [
    "type(age)"
   ]
  },
  {
   "cell_type": "code",
   "execution_count": 50,
   "metadata": {},
   "outputs": [],
   "source": [
    "a = int(age)"
   ]
  },
  {
   "cell_type": "code",
   "execution_count": 51,
   "metadata": {},
   "outputs": [
    {
     "data": {
      "text/plain": [
       "10"
      ]
     },
     "execution_count": 51,
     "metadata": {},
     "output_type": "execute_result"
    }
   ],
   "source": [
    "a"
   ]
  },
  {
   "cell_type": "code",
   "execution_count": 52,
   "metadata": {},
   "outputs": [
    {
     "name": "stdout",
     "output_type": "stream",
     "text": [
      "Enter your age:10\n"
     ]
    }
   ],
   "source": [
    "age = int(input(\"Enter your age:\"))"
   ]
  },
  {
   "cell_type": "code",
   "execution_count": 53,
   "metadata": {},
   "outputs": [
    {
     "data": {
      "text/plain": [
       "10"
      ]
     },
     "execution_count": 53,
     "metadata": {},
     "output_type": "execute_result"
    }
   ],
   "source": [
    "age"
   ]
  },
  {
   "cell_type": "code",
   "execution_count": 54,
   "metadata": {},
   "outputs": [
    {
     "data": {
      "text/plain": [
       "int"
      ]
     },
     "execution_count": 54,
     "metadata": {},
     "output_type": "execute_result"
    }
   ],
   "source": [
    "type(age)"
   ]
  },
  {
   "cell_type": "code",
   "execution_count": 55,
   "metadata": {},
   "outputs": [],
   "source": [
    "a = int('765')"
   ]
  },
  {
   "cell_type": "code",
   "execution_count": 56,
   "metadata": {},
   "outputs": [
    {
     "data": {
      "text/plain": [
       "765"
      ]
     },
     "execution_count": 56,
     "metadata": {},
     "output_type": "execute_result"
    }
   ],
   "source": [
    "a"
   ]
  },
  {
   "cell_type": "code",
   "execution_count": 57,
   "metadata": {},
   "outputs": [
    {
     "ename": "ValueError",
     "evalue": "invalid literal for int() with base 10: 'tt765'",
     "output_type": "error",
     "traceback": [
      "\u001b[0;31m---------------------------------------------------------------------------\u001b[0m",
      "\u001b[0;31mValueError\u001b[0m                                Traceback (most recent call last)",
      "\u001b[0;32m<ipython-input-57-9c8701ab1000>\u001b[0m in \u001b[0;36m<module>\u001b[0;34m\u001b[0m\n\u001b[0;32m----> 1\u001b[0;31m \u001b[0ma\u001b[0m \u001b[0;34m=\u001b[0m \u001b[0mint\u001b[0m\u001b[0;34m(\u001b[0m\u001b[0;34m'tt765'\u001b[0m\u001b[0;34m)\u001b[0m\u001b[0;34m\u001b[0m\u001b[0;34m\u001b[0m\u001b[0m\n\u001b[0m",
      "\u001b[0;31mValueError\u001b[0m: invalid literal for int() with base 10: 'tt765'"
     ]
    }
   ],
   "source": [
    "a = int('tt765')"
   ]
  },
  {
   "cell_type": "code",
   "execution_count": 58,
   "metadata": {},
   "outputs": [],
   "source": [
    "n = 100\n",
    "string_n = str(n)"
   ]
  },
  {
   "cell_type": "code",
   "execution_count": 59,
   "metadata": {},
   "outputs": [
    {
     "data": {
      "text/plain": [
       "'100'"
      ]
     },
     "execution_count": 59,
     "metadata": {},
     "output_type": "execute_result"
    }
   ],
   "source": [
    "string_n"
   ]
  },
  {
   "cell_type": "code",
   "execution_count": 60,
   "metadata": {},
   "outputs": [
    {
     "data": {
      "text/plain": [
       "str"
      ]
     },
     "execution_count": 60,
     "metadata": {},
     "output_type": "execute_result"
    }
   ],
   "source": [
    "type(string_n)"
   ]
  },
  {
   "cell_type": "code",
   "execution_count": 61,
   "metadata": {},
   "outputs": [
    {
     "data": {
      "text/plain": [
       "25"
      ]
     },
     "execution_count": 61,
     "metadata": {},
     "output_type": "execute_result"
    }
   ],
   "source": [
    "x = 5\n",
    "x **2"
   ]
  },
  {
   "cell_type": "code",
   "execution_count": 62,
   "metadata": {},
   "outputs": [],
   "source": [
    "import math"
   ]
  },
  {
   "cell_type": "code",
   "execution_count": 64,
   "metadata": {},
   "outputs": [
    {
     "data": {
      "text/plain": [
       "5.0"
      ]
     },
     "execution_count": 64,
     "metadata": {},
     "output_type": "execute_result"
    }
   ],
   "source": [
    "math.sqrt(25)"
   ]
  },
  {
   "cell_type": "code",
   "execution_count": 66,
   "metadata": {},
   "outputs": [],
   "source": [
    "import time"
   ]
  },
  {
   "cell_type": "code",
   "execution_count": null,
   "metadata": {},
   "outputs": [],
   "source": []
  },
  {
   "cell_type": "code",
   "execution_count": 65,
   "metadata": {},
   "outputs": [
    {
     "ename": "NameError",
     "evalue": "name 'time' is not defined",
     "output_type": "error",
     "traceback": [
      "\u001b[0;31m---------------------------------------------------------------------------\u001b[0m",
      "\u001b[0;31mNameError\u001b[0m                                 Traceback (most recent call last)",
      "\u001b[0;32m<ipython-input-65-e0dd5f34ad7e>\u001b[0m in \u001b[0;36m<module>\u001b[0;34m\u001b[0m\n\u001b[0;32m----> 1\u001b[0;31m \u001b[0mtime\u001b[0m\u001b[0;34m.\u001b[0m\u001b[0msleep\u001b[0m\u001b[0;34m(\u001b[0m\u001b[0;36m2\u001b[0m\u001b[0;34m)\u001b[0m\u001b[0;34m\u001b[0m\u001b[0;34m\u001b[0m\u001b[0m\n\u001b[0m",
      "\u001b[0;31mNameError\u001b[0m: name 'time' is not defined"
     ]
    }
   ],
   "source": [
    "time.sleep(2)"
   ]
  },
  {
   "cell_type": "code",
   "execution_count": 67,
   "metadata": {},
   "outputs": [],
   "source": [
    "import math"
   ]
  },
  {
   "cell_type": "code",
   "execution_count": 68,
   "metadata": {},
   "outputs": [],
   "source": [
    "area = math.pi * 7**2"
   ]
  },
  {
   "cell_type": "code",
   "execution_count": 69,
   "metadata": {},
   "outputs": [
    {
     "data": {
      "text/plain": [
       "153.93804002589985"
      ]
     },
     "execution_count": 69,
     "metadata": {},
     "output_type": "execute_result"
    }
   ],
   "source": [
    "area"
   ]
  },
  {
   "cell_type": "code",
   "execution_count": 70,
   "metadata": {},
   "outputs": [
    {
     "data": {
      "text/plain": [
       "3.141592653589793"
      ]
     },
     "execution_count": 70,
     "metadata": {},
     "output_type": "execute_result"
    }
   ],
   "source": [
    "math.pi"
   ]
  },
  {
   "cell_type": "code",
   "execution_count": 71,
   "metadata": {},
   "outputs": [
    {
     "name": "stdout",
     "output_type": "stream",
     "text": [
      "Help on built-in function print in module builtins:\n",
      "\n",
      "print(...)\n",
      "    print(value, ..., sep=' ', end='\\n', file=sys.stdout, flush=False)\n",
      "    \n",
      "    Prints the values to a stream, or to sys.stdout by default.\n",
      "    Optional keyword arguments:\n",
      "    file:  a file-like object (stream); defaults to the current sys.stdout.\n",
      "    sep:   string inserted between values, default a space.\n",
      "    end:   string appended after the last value, default a newline.\n",
      "    flush: whether to forcibly flush the stream.\n",
      "\n"
     ]
    }
   ],
   "source": [
    "help(print)"
   ]
  },
  {
   "cell_type": "code",
   "execution_count": 74,
   "metadata": {},
   "outputs": [
    {
     "name": "stdout",
     "output_type": "stream",
     "text": [
      "Help on module random:\n",
      "\n",
      "NAME\n",
      "    random - Random variable generators.\n",
      "\n",
      "MODULE REFERENCE\n",
      "    https://docs.python.org/3.8/library/random\n",
      "    \n",
      "    The following documentation is automatically generated from the Python\n",
      "    source files.  It may be incomplete, incorrect or include features that\n",
      "    are considered implementation detail and may vary between Python\n",
      "    implementations.  When in doubt, consult the module reference at the\n",
      "    location listed above.\n",
      "\n",
      "DESCRIPTION\n",
      "        integers\n",
      "        --------\n",
      "               uniform within range\n",
      "    \n",
      "        sequences\n",
      "        ---------\n",
      "               pick random element\n",
      "               pick random sample\n",
      "               pick weighted random sample\n",
      "               generate random permutation\n",
      "    \n",
      "        distributions on the real line:\n",
      "        ------------------------------\n",
      "               uniform\n",
      "               triangular\n",
      "               normal (Gaussian)\n",
      "               lognormal\n",
      "               negative exponential\n",
      "               gamma\n",
      "               beta\n",
      "               pareto\n",
      "               Weibull\n",
      "    \n",
      "        distributions on the circle (angles 0 to 2pi)\n",
      "        ---------------------------------------------\n",
      "               circular uniform\n",
      "               von Mises\n",
      "    \n",
      "    General notes on the underlying Mersenne Twister core generator:\n",
      "    \n",
      "    * The period is 2**19937-1.\n",
      "    * It is one of the most extensively tested generators in existence.\n",
      "    * The random() method is implemented in C, executes in a single Python step,\n",
      "      and is, therefore, threadsafe.\n",
      "\n",
      "CLASSES\n",
      "    _random.Random(builtins.object)\n",
      "        Random\n",
      "            SystemRandom\n",
      "    \n",
      "    class Random(_random.Random)\n",
      "     |  Random(x=None)\n",
      "     |  \n",
      "     |  Random number generator base class used by bound module functions.\n",
      "     |  \n",
      "     |  Used to instantiate instances of Random to get generators that don't\n",
      "     |  share state.\n",
      "     |  \n",
      "     |  Class Random can also be subclassed if you want to use a different basic\n",
      "     |  generator of your own devising: in that case, override the following\n",
      "     |  methods:  random(), seed(), getstate(), and setstate().\n",
      "     |  Optionally, implement a getrandbits() method so that randrange()\n",
      "     |  can cover arbitrarily large ranges.\n",
      "     |  \n",
      "     |  Method resolution order:\n",
      "     |      Random\n",
      "     |      _random.Random\n",
      "     |      builtins.object\n",
      "     |  \n",
      "     |  Methods defined here:\n",
      "     |  \n",
      "     |  __getstate__(self)\n",
      "     |      # Issue 17489: Since __reduce__ was defined to fix #759889 this is no\n",
      "     |      # longer called; we leave it here because it has been here since random was\n",
      "     |      # rewritten back in 2001 and why risk breaking something.\n",
      "     |  \n",
      "     |  __init__(self, x=None)\n",
      "     |      Initialize an instance.\n",
      "     |      \n",
      "     |      Optional argument x controls seeding, as for Random.seed().\n",
      "     |  \n",
      "     |  __reduce__(self)\n",
      "     |      Helper for pickle.\n",
      "     |  \n",
      "     |  __setstate__(self, state)\n",
      "     |  \n",
      "     |  betavariate(self, alpha, beta)\n",
      "     |      Beta distribution.\n",
      "     |      \n",
      "     |      Conditions on the parameters are alpha > 0 and beta > 0.\n",
      "     |      Returned values range between 0 and 1.\n",
      "     |  \n",
      "     |  choice(self, seq)\n",
      "     |      Choose a random element from a non-empty sequence.\n",
      "     |  \n",
      "     |  choices(self, population, weights=None, *, cum_weights=None, k=1)\n",
      "     |      Return a k sized list of population elements chosen with replacement.\n",
      "     |      \n",
      "     |      If the relative weights or cumulative weights are not specified,\n",
      "     |      the selections are made with equal probability.\n",
      "     |  \n",
      "     |  expovariate(self, lambd)\n",
      "     |      Exponential distribution.\n",
      "     |      \n",
      "     |      lambd is 1.0 divided by the desired mean.  It should be\n",
      "     |      nonzero.  (The parameter would be called \"lambda\", but that is\n",
      "     |      a reserved word in Python.)  Returned values range from 0 to\n",
      "     |      positive infinity if lambd is positive, and from negative\n",
      "     |      infinity to 0 if lambd is negative.\n",
      "     |  \n",
      "     |  gammavariate(self, alpha, beta)\n",
      "     |      Gamma distribution.  Not the gamma function!\n",
      "     |      \n",
      "     |      Conditions on the parameters are alpha > 0 and beta > 0.\n",
      "     |      \n",
      "     |      The probability distribution function is:\n",
      "     |      \n",
      "     |                  x ** (alpha - 1) * math.exp(-x / beta)\n",
      "     |        pdf(x) =  --------------------------------------\n",
      "     |                    math.gamma(alpha) * beta ** alpha\n",
      "     |  \n",
      "     |  gauss(self, mu, sigma)\n",
      "     |      Gaussian distribution.\n",
      "     |      \n",
      "     |      mu is the mean, and sigma is the standard deviation.  This is\n",
      "     |      slightly faster than the normalvariate() function.\n",
      "     |      \n",
      "     |      Not thread-safe without a lock around calls.\n",
      "     |  \n",
      "     |  getstate(self)\n",
      "     |      Return internal state; can be passed to setstate() later.\n",
      "     |  \n",
      "     |  lognormvariate(self, mu, sigma)\n",
      "     |      Log normal distribution.\n",
      "     |      \n",
      "     |      If you take the natural logarithm of this distribution, you'll get a\n",
      "     |      normal distribution with mean mu and standard deviation sigma.\n",
      "     |      mu can have any value, and sigma must be greater than zero.\n",
      "     |  \n",
      "     |  normalvariate(self, mu, sigma)\n",
      "     |      Normal distribution.\n",
      "     |      \n",
      "     |      mu is the mean, and sigma is the standard deviation.\n",
      "     |  \n",
      "     |  paretovariate(self, alpha)\n",
      "     |      Pareto distribution.  alpha is the shape parameter.\n",
      "     |  \n",
      "     |  randint(self, a, b)\n",
      "     |      Return random integer in range [a, b], including both end points.\n",
      "     |  \n",
      "     |  randrange(self, start, stop=None, step=1, _int=<class 'int'>)\n",
      "     |      Choose a random item from range(start, stop[, step]).\n",
      "     |      \n",
      "     |      This fixes the problem with randint() which includes the\n",
      "     |      endpoint; in Python this is usually not what you want.\n",
      "     |  \n",
      "     |  sample(self, population, k)\n",
      "     |      Chooses k unique random elements from a population sequence or set.\n",
      "     |      \n",
      "     |      Returns a new list containing elements from the population while\n",
      "     |      leaving the original population unchanged.  The resulting list is\n",
      "     |      in selection order so that all sub-slices will also be valid random\n",
      "     |      samples.  This allows raffle winners (the sample) to be partitioned\n",
      "     |      into grand prize and second place winners (the subslices).\n",
      "     |      \n",
      "     |      Members of the population need not be hashable or unique.  If the\n",
      "     |      population contains repeats, then each occurrence is a possible\n",
      "     |      selection in the sample.\n",
      "     |      \n",
      "     |      To choose a sample in a range of integers, use range as an argument.\n",
      "     |      This is especially fast and space efficient for sampling from a\n",
      "     |      large population:   sample(range(10000000), 60)\n",
      "     |  \n",
      "     |  seed(self, a=None, version=2)\n",
      "     |      Initialize internal state from hashable object.\n",
      "     |      \n",
      "     |      None or no argument seeds from current time or from an operating\n",
      "     |      system specific randomness source if available.\n",
      "     |      \n",
      "     |      If *a* is an int, all bits are used.\n",
      "     |      \n",
      "     |      For version 2 (the default), all of the bits are used if *a* is a str,\n",
      "     |      bytes, or bytearray.  For version 1 (provided for reproducing random\n",
      "     |      sequences from older versions of Python), the algorithm for str and\n",
      "     |      bytes generates a narrower range of seeds.\n",
      "     |  \n",
      "     |  setstate(self, state)\n",
      "     |      Restore internal state from object returned by getstate().\n",
      "     |  \n",
      "     |  shuffle(self, x, random=None)\n",
      "     |      Shuffle list x in place, and return None.\n",
      "     |      \n",
      "     |      Optional argument random is a 0-argument function returning a\n",
      "     |      random float in [0.0, 1.0); if it is the default None, the\n",
      "     |      standard random.random will be used.\n",
      "     |  \n",
      "     |  triangular(self, low=0.0, high=1.0, mode=None)\n",
      "     |      Triangular distribution.\n",
      "     |      \n",
      "     |      Continuous distribution bounded by given lower and upper limits,\n",
      "     |      and having a given mode value in-between.\n",
      "     |      \n",
      "     |      http://en.wikipedia.org/wiki/Triangular_distribution\n",
      "     |  \n",
      "     |  uniform(self, a, b)\n",
      "     |      Get a random number in the range [a, b) or [a, b] depending on rounding.\n",
      "     |  \n",
      "     |  vonmisesvariate(self, mu, kappa)\n",
      "     |      Circular data distribution.\n",
      "     |      \n",
      "     |      mu is the mean angle, expressed in radians between 0 and 2*pi, and\n",
      "     |      kappa is the concentration parameter, which must be greater than or\n",
      "     |      equal to zero.  If kappa is equal to zero, this distribution reduces\n",
      "     |      to a uniform random angle over the range 0 to 2*pi.\n",
      "     |  \n",
      "     |  weibullvariate(self, alpha, beta)\n",
      "     |      Weibull distribution.\n",
      "     |      \n",
      "     |      alpha is the scale parameter and beta is the shape parameter.\n",
      "     |  \n",
      "     |  ----------------------------------------------------------------------\n",
      "     |  Class methods defined here:\n",
      "     |  \n",
      "     |  __init_subclass__(**kwargs) from builtins.type\n",
      "     |      Control how subclasses generate random integers.\n",
      "     |      \n",
      "     |      The algorithm a subclass can use depends on the random() and/or\n",
      "     |      getrandbits() implementation available to it and determines\n",
      "     |      whether it can generate random integers from arbitrarily large\n",
      "     |      ranges.\n",
      "     |  \n",
      "     |  ----------------------------------------------------------------------\n",
      "     |  Data descriptors defined here:\n",
      "     |  \n",
      "     |  __dict__\n",
      "     |      dictionary for instance variables (if defined)\n",
      "     |  \n",
      "     |  __weakref__\n",
      "     |      list of weak references to the object (if defined)\n",
      "     |  \n",
      "     |  ----------------------------------------------------------------------\n",
      "     |  Data and other attributes defined here:\n",
      "     |  \n",
      "     |  VERSION = 3\n",
      "     |  \n",
      "     |  ----------------------------------------------------------------------\n",
      "     |  Methods inherited from _random.Random:\n",
      "     |  \n",
      "     |  __getattribute__(self, name, /)\n",
      "     |      Return getattr(self, name).\n",
      "     |  \n",
      "     |  getrandbits(self, k, /)\n",
      "     |      getrandbits(k) -> x.  Generates an int with k random bits.\n",
      "     |  \n",
      "     |  random(self, /)\n",
      "     |      random() -> x in the interval [0, 1).\n",
      "     |  \n",
      "     |  ----------------------------------------------------------------------\n",
      "     |  Static methods inherited from _random.Random:\n",
      "     |  \n",
      "     |  __new__(*args, **kwargs) from builtins.type\n",
      "     |      Create and return a new object.  See help(type) for accurate signature.\n",
      "    \n",
      "    class SystemRandom(Random)\n",
      "     |  SystemRandom(x=None)\n",
      "     |  \n",
      "     |  Alternate random number generator using sources provided\n",
      "     |  by the operating system (such as /dev/urandom on Unix or\n",
      "     |  CryptGenRandom on Windows).\n",
      "     |  \n",
      "     |   Not available on all systems (see os.urandom() for details).\n",
      "     |  \n",
      "     |  Method resolution order:\n",
      "     |      SystemRandom\n",
      "     |      Random\n",
      "     |      _random.Random\n",
      "     |      builtins.object\n",
      "     |  \n",
      "     |  Methods defined here:\n",
      "     |  \n",
      "     |  getrandbits(self, k)\n",
      "     |      getrandbits(k) -> x.  Generates an int with k random bits.\n",
      "     |  \n",
      "     |  getstate = _notimplemented(self, *args, **kwds)\n",
      "     |  \n",
      "     |  random(self)\n",
      "     |      Get the next random number in the range [0.0, 1.0).\n",
      "     |  \n",
      "     |  seed(self, *args, **kwds)\n",
      "     |      Stub method.  Not used for a system random number generator.\n",
      "     |  \n",
      "     |  setstate = _notimplemented(self, *args, **kwds)\n",
      "     |  \n",
      "     |  ----------------------------------------------------------------------\n",
      "     |  Methods inherited from Random:\n",
      "     |  \n",
      "     |  __getstate__(self)\n",
      "     |      # Issue 17489: Since __reduce__ was defined to fix #759889 this is no\n",
      "     |      # longer called; we leave it here because it has been here since random was\n",
      "     |      # rewritten back in 2001 and why risk breaking something.\n",
      "     |  \n",
      "     |  __init__(self, x=None)\n",
      "     |      Initialize an instance.\n",
      "     |      \n",
      "     |      Optional argument x controls seeding, as for Random.seed().\n",
      "     |  \n",
      "     |  __reduce__(self)\n",
      "     |      Helper for pickle.\n",
      "     |  \n",
      "     |  __setstate__(self, state)\n",
      "     |  \n",
      "     |  betavariate(self, alpha, beta)\n",
      "     |      Beta distribution.\n",
      "     |      \n",
      "     |      Conditions on the parameters are alpha > 0 and beta > 0.\n",
      "     |      Returned values range between 0 and 1.\n",
      "     |  \n",
      "     |  choice(self, seq)\n",
      "     |      Choose a random element from a non-empty sequence.\n",
      "     |  \n",
      "     |  choices(self, population, weights=None, *, cum_weights=None, k=1)\n",
      "     |      Return a k sized list of population elements chosen with replacement.\n",
      "     |      \n",
      "     |      If the relative weights or cumulative weights are not specified,\n",
      "     |      the selections are made with equal probability.\n",
      "     |  \n",
      "     |  expovariate(self, lambd)\n",
      "     |      Exponential distribution.\n",
      "     |      \n",
      "     |      lambd is 1.0 divided by the desired mean.  It should be\n",
      "     |      nonzero.  (The parameter would be called \"lambda\", but that is\n",
      "     |      a reserved word in Python.)  Returned values range from 0 to\n",
      "     |      positive infinity if lambd is positive, and from negative\n",
      "     |      infinity to 0 if lambd is negative.\n",
      "     |  \n",
      "     |  gammavariate(self, alpha, beta)\n",
      "     |      Gamma distribution.  Not the gamma function!\n",
      "     |      \n",
      "     |      Conditions on the parameters are alpha > 0 and beta > 0.\n",
      "     |      \n",
      "     |      The probability distribution function is:\n",
      "     |      \n",
      "     |                  x ** (alpha - 1) * math.exp(-x / beta)\n",
      "     |        pdf(x) =  --------------------------------------\n",
      "     |                    math.gamma(alpha) * beta ** alpha\n",
      "     |  \n",
      "     |  gauss(self, mu, sigma)\n",
      "     |      Gaussian distribution.\n",
      "     |      \n",
      "     |      mu is the mean, and sigma is the standard deviation.  This is\n",
      "     |      slightly faster than the normalvariate() function.\n",
      "     |      \n",
      "     |      Not thread-safe without a lock around calls.\n",
      "     |  \n",
      "     |  lognormvariate(self, mu, sigma)\n",
      "     |      Log normal distribution.\n",
      "     |      \n",
      "     |      If you take the natural logarithm of this distribution, you'll get a\n",
      "     |      normal distribution with mean mu and standard deviation sigma.\n",
      "     |      mu can have any value, and sigma must be greater than zero.\n",
      "     |  \n",
      "     |  normalvariate(self, mu, sigma)\n",
      "     |      Normal distribution.\n",
      "     |      \n",
      "     |      mu is the mean, and sigma is the standard deviation.\n",
      "     |  \n",
      "     |  paretovariate(self, alpha)\n",
      "     |      Pareto distribution.  alpha is the shape parameter.\n",
      "     |  \n",
      "     |  randint(self, a, b)\n",
      "     |      Return random integer in range [a, b], including both end points.\n",
      "     |  \n",
      "     |  randrange(self, start, stop=None, step=1, _int=<class 'int'>)\n",
      "     |      Choose a random item from range(start, stop[, step]).\n",
      "     |      \n",
      "     |      This fixes the problem with randint() which includes the\n",
      "     |      endpoint; in Python this is usually not what you want.\n",
      "     |  \n",
      "     |  sample(self, population, k)\n",
      "     |      Chooses k unique random elements from a population sequence or set.\n",
      "     |      \n",
      "     |      Returns a new list containing elements from the population while\n",
      "     |      leaving the original population unchanged.  The resulting list is\n",
      "     |      in selection order so that all sub-slices will also be valid random\n",
      "     |      samples.  This allows raffle winners (the sample) to be partitioned\n",
      "     |      into grand prize and second place winners (the subslices).\n",
      "     |      \n",
      "     |      Members of the population need not be hashable or unique.  If the\n",
      "     |      population contains repeats, then each occurrence is a possible\n",
      "     |      selection in the sample.\n",
      "     |      \n",
      "     |      To choose a sample in a range of integers, use range as an argument.\n",
      "     |      This is especially fast and space efficient for sampling from a\n",
      "     |      large population:   sample(range(10000000), 60)\n",
      "     |  \n",
      "     |  shuffle(self, x, random=None)\n",
      "     |      Shuffle list x in place, and return None.\n",
      "     |      \n",
      "     |      Optional argument random is a 0-argument function returning a\n",
      "     |      random float in [0.0, 1.0); if it is the default None, the\n",
      "     |      standard random.random will be used.\n",
      "     |  \n",
      "     |  triangular(self, low=0.0, high=1.0, mode=None)\n",
      "     |      Triangular distribution.\n",
      "     |      \n",
      "     |      Continuous distribution bounded by given lower and upper limits,\n",
      "     |      and having a given mode value in-between.\n",
      "     |      \n",
      "     |      http://en.wikipedia.org/wiki/Triangular_distribution\n",
      "     |  \n",
      "     |  uniform(self, a, b)\n",
      "     |      Get a random number in the range [a, b) or [a, b] depending on rounding.\n",
      "     |  \n",
      "     |  vonmisesvariate(self, mu, kappa)\n",
      "     |      Circular data distribution.\n",
      "     |      \n",
      "     |      mu is the mean angle, expressed in radians between 0 and 2*pi, and\n",
      "     |      kappa is the concentration parameter, which must be greater than or\n",
      "     |      equal to zero.  If kappa is equal to zero, this distribution reduces\n",
      "     |      to a uniform random angle over the range 0 to 2*pi.\n",
      "     |  \n",
      "     |  weibullvariate(self, alpha, beta)\n",
      "     |      Weibull distribution.\n",
      "     |      \n",
      "     |      alpha is the scale parameter and beta is the shape parameter.\n",
      "     |  \n",
      "     |  ----------------------------------------------------------------------\n",
      "     |  Class methods inherited from Random:\n",
      "     |  \n",
      "     |  __init_subclass__(**kwargs) from builtins.type\n",
      "     |      Control how subclasses generate random integers.\n",
      "     |      \n",
      "     |      The algorithm a subclass can use depends on the random() and/or\n",
      "     |      getrandbits() implementation available to it and determines\n",
      "     |      whether it can generate random integers from arbitrarily large\n",
      "     |      ranges.\n",
      "     |  \n",
      "     |  ----------------------------------------------------------------------\n",
      "     |  Data descriptors inherited from Random:\n",
      "     |  \n",
      "     |  __dict__\n",
      "     |      dictionary for instance variables (if defined)\n",
      "     |  \n",
      "     |  __weakref__\n",
      "     |      list of weak references to the object (if defined)\n",
      "     |  \n",
      "     |  ----------------------------------------------------------------------\n",
      "     |  Data and other attributes inherited from Random:\n",
      "     |  \n",
      "     |  VERSION = 3\n",
      "     |  \n",
      "     |  ----------------------------------------------------------------------\n",
      "     |  Methods inherited from _random.Random:\n",
      "     |  \n",
      "     |  __getattribute__(self, name, /)\n",
      "     |      Return getattr(self, name).\n",
      "     |  \n",
      "     |  ----------------------------------------------------------------------\n",
      "     |  Static methods inherited from _random.Random:\n",
      "     |  \n",
      "     |  __new__(*args, **kwargs) from builtins.type\n",
      "     |      Create and return a new object.  See help(type) for accurate signature.\n",
      "\n",
      "FUNCTIONS\n",
      "    betavariate(alpha, beta) method of Random instance\n",
      "        Beta distribution.\n",
      "        \n",
      "        Conditions on the parameters are alpha > 0 and beta > 0.\n",
      "        Returned values range between 0 and 1.\n",
      "    \n",
      "    choice(seq) method of Random instance\n",
      "        Choose a random element from a non-empty sequence.\n",
      "    \n",
      "    choices(population, weights=None, *, cum_weights=None, k=1) method of Random instance\n",
      "        Return a k sized list of population elements chosen with replacement.\n",
      "        \n",
      "        If the relative weights or cumulative weights are not specified,\n",
      "        the selections are made with equal probability.\n",
      "    \n",
      "    expovariate(lambd) method of Random instance\n",
      "        Exponential distribution.\n",
      "        \n",
      "        lambd is 1.0 divided by the desired mean.  It should be\n",
      "        nonzero.  (The parameter would be called \"lambda\", but that is\n",
      "        a reserved word in Python.)  Returned values range from 0 to\n",
      "        positive infinity if lambd is positive, and from negative\n",
      "        infinity to 0 if lambd is negative.\n",
      "    \n",
      "    gammavariate(alpha, beta) method of Random instance\n",
      "        Gamma distribution.  Not the gamma function!\n",
      "        \n",
      "        Conditions on the parameters are alpha > 0 and beta > 0.\n",
      "        \n",
      "        The probability distribution function is:\n",
      "        \n",
      "                    x ** (alpha - 1) * math.exp(-x / beta)\n",
      "          pdf(x) =  --------------------------------------\n",
      "                      math.gamma(alpha) * beta ** alpha\n",
      "    \n",
      "    gauss(mu, sigma) method of Random instance\n",
      "        Gaussian distribution.\n",
      "        \n",
      "        mu is the mean, and sigma is the standard deviation.  This is\n",
      "        slightly faster than the normalvariate() function.\n",
      "        \n",
      "        Not thread-safe without a lock around calls.\n",
      "    \n",
      "    getrandbits(k, /) method of Random instance\n",
      "        getrandbits(k) -> x.  Generates an int with k random bits.\n",
      "    \n",
      "    getstate() method of Random instance\n",
      "        Return internal state; can be passed to setstate() later.\n",
      "    \n",
      "    lognormvariate(mu, sigma) method of Random instance\n",
      "        Log normal distribution.\n",
      "        \n",
      "        If you take the natural logarithm of this distribution, you'll get a\n",
      "        normal distribution with mean mu and standard deviation sigma.\n",
      "        mu can have any value, and sigma must be greater than zero.\n",
      "    \n",
      "    normalvariate(mu, sigma) method of Random instance\n",
      "        Normal distribution.\n",
      "        \n",
      "        mu is the mean, and sigma is the standard deviation.\n",
      "    \n",
      "    paretovariate(alpha) method of Random instance\n",
      "        Pareto distribution.  alpha is the shape parameter.\n",
      "    \n",
      "    randint(a, b) method of Random instance\n",
      "        Return random integer in range [a, b], including both end points.\n",
      "    \n",
      "    random() method of Random instance\n",
      "        random() -> x in the interval [0, 1).\n",
      "    \n",
      "    randrange(start, stop=None, step=1, _int=<class 'int'>) method of Random instance\n",
      "        Choose a random item from range(start, stop[, step]).\n",
      "        \n",
      "        This fixes the problem with randint() which includes the\n",
      "        endpoint; in Python this is usually not what you want.\n",
      "    \n",
      "    sample(population, k) method of Random instance\n",
      "        Chooses k unique random elements from a population sequence or set.\n",
      "        \n",
      "        Returns a new list containing elements from the population while\n",
      "        leaving the original population unchanged.  The resulting list is\n",
      "        in selection order so that all sub-slices will also be valid random\n",
      "        samples.  This allows raffle winners (the sample) to be partitioned\n",
      "        into grand prize and second place winners (the subslices).\n",
      "        \n",
      "        Members of the population need not be hashable or unique.  If the\n",
      "        population contains repeats, then each occurrence is a possible\n",
      "        selection in the sample.\n",
      "        \n",
      "        To choose a sample in a range of integers, use range as an argument.\n",
      "        This is especially fast and space efficient for sampling from a\n",
      "        large population:   sample(range(10000000), 60)\n",
      "    \n",
      "    seed(a=None, version=2) method of Random instance\n",
      "        Initialize internal state from hashable object.\n",
      "        \n",
      "        None or no argument seeds from current time or from an operating\n",
      "        system specific randomness source if available.\n",
      "        \n",
      "        If *a* is an int, all bits are used.\n",
      "        \n",
      "        For version 2 (the default), all of the bits are used if *a* is a str,\n",
      "        bytes, or bytearray.  For version 1 (provided for reproducing random\n",
      "        sequences from older versions of Python), the algorithm for str and\n",
      "        bytes generates a narrower range of seeds.\n",
      "    \n",
      "    setstate(state) method of Random instance\n",
      "        Restore internal state from object returned by getstate().\n",
      "    \n",
      "    shuffle(x, random=None) method of Random instance\n",
      "        Shuffle list x in place, and return None.\n",
      "        \n",
      "        Optional argument random is a 0-argument function returning a\n",
      "        random float in [0.0, 1.0); if it is the default None, the\n",
      "        standard random.random will be used.\n",
      "    \n",
      "    triangular(low=0.0, high=1.0, mode=None) method of Random instance\n",
      "        Triangular distribution.\n",
      "        \n",
      "        Continuous distribution bounded by given lower and upper limits,\n",
      "        and having a given mode value in-between.\n",
      "        \n",
      "        http://en.wikipedia.org/wiki/Triangular_distribution\n",
      "    \n",
      "    uniform(a, b) method of Random instance\n",
      "        Get a random number in the range [a, b) or [a, b] depending on rounding.\n",
      "    \n",
      "    vonmisesvariate(mu, kappa) method of Random instance\n",
      "        Circular data distribution.\n",
      "        \n",
      "        mu is the mean angle, expressed in radians between 0 and 2*pi, and\n",
      "        kappa is the concentration parameter, which must be greater than or\n",
      "        equal to zero.  If kappa is equal to zero, this distribution reduces\n",
      "        to a uniform random angle over the range 0 to 2*pi.\n",
      "    \n",
      "    weibullvariate(alpha, beta) method of Random instance\n",
      "        Weibull distribution.\n",
      "        \n",
      "        alpha is the scale parameter and beta is the shape parameter.\n",
      "\n",
      "DATA\n",
      "    __all__ = ['Random', 'seed', 'random', 'uniform', 'randint', 'choice',...\n",
      "\n",
      "FILE\n",
      "    /Users/onkar/opt/anaconda3/lib/python3.8/random.py\n",
      "\n",
      "\n"
     ]
    }
   ],
   "source": [
    "help(random)"
   ]
  },
  {
   "cell_type": "code",
   "execution_count": null,
   "metadata": {},
   "outputs": [],
   "source": []
  },
  {
   "cell_type": "code",
   "execution_count": 73,
   "metadata": {},
   "outputs": [],
   "source": [
    "import random"
   ]
  },
  {
   "cell_type": "code",
   "execution_count": 75,
   "metadata": {},
   "outputs": [
    {
     "data": {
      "text/plain": [
       "254"
      ]
     },
     "execution_count": 75,
     "metadata": {},
     "output_type": "execute_result"
    }
   ],
   "source": [
    "random.randint(1, 1000)"
   ]
  },
  {
   "cell_type": "code",
   "execution_count": 76,
   "metadata": {},
   "outputs": [
    {
     "data": {
      "text/plain": [
       "725"
      ]
     },
     "execution_count": 76,
     "metadata": {},
     "output_type": "execute_result"
    }
   ],
   "source": [
    "random.randint(1, 1000)"
   ]
  },
  {
   "cell_type": "code",
   "execution_count": 77,
   "metadata": {},
   "outputs": [],
   "source": [
    "s = 'python is fun'"
   ]
  },
  {
   "cell_type": "code",
   "execution_count": 78,
   "metadata": {},
   "outputs": [
    {
     "data": {
      "text/plain": [
       "str"
      ]
     },
     "execution_count": 78,
     "metadata": {},
     "output_type": "execute_result"
    }
   ],
   "source": [
    "type(s)"
   ]
  },
  {
   "cell_type": "code",
   "execution_count": 79,
   "metadata": {},
   "outputs": [
    {
     "data": {
      "text/plain": [
       "'Python is fun'"
      ]
     },
     "execution_count": 79,
     "metadata": {},
     "output_type": "execute_result"
    }
   ],
   "source": [
    "s.capitalize()"
   ]
  },
  {
   "cell_type": "code",
   "execution_count": 80,
   "metadata": {},
   "outputs": [
    {
     "data": {
      "text/plain": [
       "'PYTHON IS FUN'"
      ]
     },
     "execution_count": 80,
     "metadata": {},
     "output_type": "execute_result"
    }
   ],
   "source": [
    "s.upper()"
   ]
  },
  {
   "cell_type": "code",
   "execution_count": 81,
   "metadata": {},
   "outputs": [
    {
     "data": {
      "text/plain": [
       "'PYTHON IS FUN'"
      ]
     },
     "execution_count": 81,
     "metadata": {},
     "output_type": "execute_result"
    }
   ],
   "source": [
    "s.swapcase()"
   ]
  },
  {
   "cell_type": "code",
   "execution_count": 82,
   "metadata": {},
   "outputs": [],
   "source": [
    "s = 'python is FUN'"
   ]
  },
  {
   "cell_type": "code",
   "execution_count": 83,
   "metadata": {},
   "outputs": [
    {
     "data": {
      "text/plain": [
       "'PYTHON IS fun'"
      ]
     },
     "execution_count": 83,
     "metadata": {},
     "output_type": "execute_result"
    }
   ],
   "source": [
    "s.swapcase()"
   ]
  },
  {
   "cell_type": "code",
   "execution_count": 84,
   "metadata": {},
   "outputs": [
    {
     "data": {
      "text/plain": [
       "['__add__',\n",
       " '__class__',\n",
       " '__contains__',\n",
       " '__delattr__',\n",
       " '__dir__',\n",
       " '__doc__',\n",
       " '__eq__',\n",
       " '__format__',\n",
       " '__ge__',\n",
       " '__getattribute__',\n",
       " '__getitem__',\n",
       " '__getnewargs__',\n",
       " '__gt__',\n",
       " '__hash__',\n",
       " '__init__',\n",
       " '__init_subclass__',\n",
       " '__iter__',\n",
       " '__le__',\n",
       " '__len__',\n",
       " '__lt__',\n",
       " '__mod__',\n",
       " '__mul__',\n",
       " '__ne__',\n",
       " '__new__',\n",
       " '__reduce__',\n",
       " '__reduce_ex__',\n",
       " '__repr__',\n",
       " '__rmod__',\n",
       " '__rmul__',\n",
       " '__setattr__',\n",
       " '__sizeof__',\n",
       " '__str__',\n",
       " '__subclasshook__',\n",
       " 'capitalize',\n",
       " 'casefold',\n",
       " 'center',\n",
       " 'count',\n",
       " 'encode',\n",
       " 'endswith',\n",
       " 'expandtabs',\n",
       " 'find',\n",
       " 'format',\n",
       " 'format_map',\n",
       " 'index',\n",
       " 'isalnum',\n",
       " 'isalpha',\n",
       " 'isascii',\n",
       " 'isdecimal',\n",
       " 'isdigit',\n",
       " 'isidentifier',\n",
       " 'islower',\n",
       " 'isnumeric',\n",
       " 'isprintable',\n",
       " 'isspace',\n",
       " 'istitle',\n",
       " 'isupper',\n",
       " 'join',\n",
       " 'ljust',\n",
       " 'lower',\n",
       " 'lstrip',\n",
       " 'maketrans',\n",
       " 'partition',\n",
       " 'replace',\n",
       " 'rfind',\n",
       " 'rindex',\n",
       " 'rjust',\n",
       " 'rpartition',\n",
       " 'rsplit',\n",
       " 'rstrip',\n",
       " 'split',\n",
       " 'splitlines',\n",
       " 'startswith',\n",
       " 'strip',\n",
       " 'swapcase',\n",
       " 'title',\n",
       " 'translate',\n",
       " 'upper',\n",
       " 'zfill']"
      ]
     },
     "execution_count": 84,
     "metadata": {},
     "output_type": "execute_result"
    }
   ],
   "source": [
    "dir(s)"
   ]
  },
  {
   "cell_type": "code",
   "execution_count": null,
   "metadata": {},
   "outputs": [],
   "source": [
    "# Home all expolre method in str"
   ]
  },
  {
   "cell_type": "code",
   "execution_count": 85,
   "metadata": {},
   "outputs": [],
   "source": [
    "s = 'python'"
   ]
  },
  {
   "cell_type": "code",
   "execution_count": 86,
   "metadata": {},
   "outputs": [
    {
     "data": {
      "text/plain": [
       "'python'"
      ]
     },
     "execution_count": 86,
     "metadata": {},
     "output_type": "execute_result"
    }
   ],
   "source": [
    "s"
   ]
  },
  {
   "cell_type": "code",
   "execution_count": 87,
   "metadata": {},
   "outputs": [
    {
     "data": {
      "text/plain": [
       "'p'"
      ]
     },
     "execution_count": 87,
     "metadata": {},
     "output_type": "execute_result"
    }
   ],
   "source": [
    "s[0]"
   ]
  },
  {
   "cell_type": "code",
   "execution_count": 88,
   "metadata": {},
   "outputs": [
    {
     "data": {
      "text/plain": [
       "'y'"
      ]
     },
     "execution_count": 88,
     "metadata": {},
     "output_type": "execute_result"
    }
   ],
   "source": [
    "s[1]"
   ]
  },
  {
   "cell_type": "code",
   "execution_count": 89,
   "metadata": {},
   "outputs": [
    {
     "data": {
      "text/plain": [
       "'t'"
      ]
     },
     "execution_count": 89,
     "metadata": {},
     "output_type": "execute_result"
    }
   ],
   "source": [
    "s[2]"
   ]
  },
  {
   "cell_type": "code",
   "execution_count": 90,
   "metadata": {},
   "outputs": [
    {
     "data": {
      "text/plain": [
       "'h'"
      ]
     },
     "execution_count": 90,
     "metadata": {},
     "output_type": "execute_result"
    }
   ],
   "source": [
    "s[3]"
   ]
  },
  {
   "cell_type": "code",
   "execution_count": 91,
   "metadata": {},
   "outputs": [
    {
     "data": {
      "text/plain": [
       "'n'"
      ]
     },
     "execution_count": 91,
     "metadata": {},
     "output_type": "execute_result"
    }
   ],
   "source": [
    "s[-1]"
   ]
  },
  {
   "cell_type": "code",
   "execution_count": 92,
   "metadata": {},
   "outputs": [
    {
     "data": {
      "text/plain": [
       "'o'"
      ]
     },
     "execution_count": 92,
     "metadata": {},
     "output_type": "execute_result"
    }
   ],
   "source": [
    "s[-2]"
   ]
  },
  {
   "cell_type": "code",
   "execution_count": 93,
   "metadata": {},
   "outputs": [
    {
     "data": {
      "text/plain": [
       "'h'"
      ]
     },
     "execution_count": 93,
     "metadata": {},
     "output_type": "execute_result"
    }
   ],
   "source": [
    "s[-3]"
   ]
  },
  {
   "cell_type": "code",
   "execution_count": 94,
   "metadata": {},
   "outputs": [
    {
     "data": {
      "text/plain": [
       "True"
      ]
     },
     "execution_count": 94,
     "metadata": {},
     "output_type": "execute_result"
    }
   ],
   "source": [
    "s[0] == s[-6]"
   ]
  },
  {
   "cell_type": "code",
   "execution_count": 95,
   "metadata": {},
   "outputs": [
    {
     "data": {
      "text/plain": [
       "0"
      ]
     },
     "execution_count": 95,
     "metadata": {},
     "output_type": "execute_result"
    }
   ],
   "source": [
    "s.index('p')"
   ]
  },
  {
   "cell_type": "code",
   "execution_count": 96,
   "metadata": {},
   "outputs": [
    {
     "data": {
      "text/plain": [
       "1"
      ]
     },
     "execution_count": 96,
     "metadata": {},
     "output_type": "execute_result"
    }
   ],
   "source": [
    "s.index('y')"
   ]
  },
  {
   "cell_type": "code",
   "execution_count": 97,
   "metadata": {},
   "outputs": [
    {
     "data": {
      "text/plain": [
       "6"
      ]
     },
     "execution_count": 97,
     "metadata": {},
     "output_type": "execute_result"
    }
   ],
   "source": [
    "len(s)"
   ]
  },
  {
   "cell_type": "code",
   "execution_count": 98,
   "metadata": {},
   "outputs": [
    {
     "data": {
      "text/plain": [
       "'ytho'"
      ]
     },
     "execution_count": 98,
     "metadata": {},
     "output_type": "execute_result"
    }
   ],
   "source": [
    "s[1:5]"
   ]
  },
  {
   "cell_type": "code",
   "execution_count": 99,
   "metadata": {},
   "outputs": [
    {
     "data": {
      "text/plain": [
       "'th'"
      ]
     },
     "execution_count": 99,
     "metadata": {},
     "output_type": "execute_result"
    }
   ],
   "source": [
    "s[2:4]"
   ]
  },
  {
   "cell_type": "code",
   "execution_count": null,
   "metadata": {},
   "outputs": [],
   "source": [
    "Syntax:\n",
    "    s[start_index:stop_index]\n",
    "    s[start_index:stop_index:step_size]"
   ]
  },
  {
   "cell_type": "code",
   "execution_count": 103,
   "metadata": {},
   "outputs": [],
   "source": [
    "s = \"pythonisfun\""
   ]
  },
  {
   "cell_type": "code",
   "execution_count": null,
   "metadata": {},
   "outputs": [],
   "source": []
  },
  {
   "cell_type": "code",
   "execution_count": 106,
   "metadata": {},
   "outputs": [
    {
     "data": {
      "text/plain": [
       "'ythonis'"
      ]
     },
     "execution_count": 106,
     "metadata": {},
     "output_type": "execute_result"
    }
   ],
   "source": [
    "s[1:8:1]"
   ]
  },
  {
   "cell_type": "code",
   "execution_count": null,
   "metadata": {},
   "outputs": [],
   "source": []
  },
  {
   "cell_type": "code",
   "execution_count": null,
   "metadata": {},
   "outputs": [],
   "source": []
  },
  {
   "cell_type": "code",
   "execution_count": 105,
   "metadata": {},
   "outputs": [
    {
     "data": {
      "text/plain": [
       "'yh'"
      ]
     },
     "execution_count": 105,
     "metadata": {},
     "output_type": "execute_result"
    }
   ],
   "source": [
    "s[1:5:2]"
   ]
  },
  {
   "cell_type": "code",
   "execution_count": null,
   "metadata": {},
   "outputs": [],
   "source": [
    "# build in function: print, input, type, int, str, help, dir\n",
    "# build in module: math, random, time(explore), \n",
    "# module function: math.sqrt, random, string modules\n",
    "# keyword: import\n",
    "# string: index, slicing \n",
    "\n",
    "# installation pycharm, notebook, python\n",
    "# run python simple code: cli, pycharm, notebook\n",
    "\n",
    "# int, str"
   ]
  },
  {
   "cell_type": "code",
   "execution_count": 107,
   "metadata": {},
   "outputs": [],
   "source": [
    "f = 3.4"
   ]
  },
  {
   "cell_type": "code",
   "execution_count": 108,
   "metadata": {},
   "outputs": [
    {
     "data": {
      "text/plain": [
       "3.4"
      ]
     },
     "execution_count": 108,
     "metadata": {},
     "output_type": "execute_result"
    }
   ],
   "source": [
    "f"
   ]
  },
  {
   "cell_type": "code",
   "execution_count": 109,
   "metadata": {},
   "outputs": [
    {
     "data": {
      "text/plain": [
       "float"
      ]
     },
     "execution_count": 109,
     "metadata": {},
     "output_type": "execute_result"
    }
   ],
   "source": [
    "type(f)"
   ]
  },
  {
   "cell_type": "code",
   "execution_count": 110,
   "metadata": {},
   "outputs": [],
   "source": [
    "a = 5/2"
   ]
  },
  {
   "cell_type": "code",
   "execution_count": 111,
   "metadata": {},
   "outputs": [
    {
     "data": {
      "text/plain": [
       "2.5"
      ]
     },
     "execution_count": 111,
     "metadata": {},
     "output_type": "execute_result"
    }
   ],
   "source": [
    "a"
   ]
  },
  {
   "cell_type": "code",
   "execution_count": 112,
   "metadata": {},
   "outputs": [
    {
     "data": {
      "text/plain": [
       "float"
      ]
     },
     "execution_count": 112,
     "metadata": {},
     "output_type": "execute_result"
    }
   ],
   "source": [
    "type(a)"
   ]
  },
  {
   "cell_type": "code",
   "execution_count": 113,
   "metadata": {},
   "outputs": [
    {
     "data": {
      "text/plain": [
       "2"
      ]
     },
     "execution_count": 113,
     "metadata": {},
     "output_type": "execute_result"
    }
   ],
   "source": [
    "math.floor(5/2)"
   ]
  },
  {
   "cell_type": "code",
   "execution_count": 114,
   "metadata": {},
   "outputs": [
    {
     "data": {
      "text/plain": [
       "3"
      ]
     },
     "execution_count": 114,
     "metadata": {},
     "output_type": "execute_result"
    }
   ],
   "source": [
    "math.ceil(5/2)"
   ]
  },
  {
   "cell_type": "code",
   "execution_count": 115,
   "metadata": {},
   "outputs": [
    {
     "data": {
      "text/plain": [
       "'pythonisfun'"
      ]
     },
     "execution_count": 115,
     "metadata": {},
     "output_type": "execute_result"
    }
   ],
   "source": [
    "s"
   ]
  },
  {
   "cell_type": "code",
   "execution_count": 116,
   "metadata": {},
   "outputs": [
    {
     "data": {
      "text/plain": [
       "'ythonisfun'"
      ]
     },
     "execution_count": 116,
     "metadata": {},
     "output_type": "execute_result"
    }
   ],
   "source": [
    "s[1:]"
   ]
  },
  {
   "cell_type": "code",
   "execution_count": 117,
   "metadata": {},
   "outputs": [
    {
     "data": {
      "text/plain": [
       "'honisfun'"
      ]
     },
     "execution_count": 117,
     "metadata": {},
     "output_type": "execute_result"
    }
   ],
   "source": [
    "s[3::]"
   ]
  },
  {
   "cell_type": "code",
   "execution_count": 118,
   "metadata": {},
   "outputs": [
    {
     "data": {
      "text/plain": [
       "'nufsinohtyp'"
      ]
     },
     "execution_count": 118,
     "metadata": {},
     "output_type": "execute_result"
    }
   ],
   "source": [
    "s[::-1]"
   ]
  },
  {
   "cell_type": "code",
   "execution_count": 119,
   "metadata": {},
   "outputs": [],
   "source": [
    "s = 'nitin'"
   ]
  },
  {
   "cell_type": "code",
   "execution_count": 120,
   "metadata": {},
   "outputs": [
    {
     "data": {
      "text/plain": [
       "'nitin'"
      ]
     },
     "execution_count": 120,
     "metadata": {},
     "output_type": "execute_result"
    }
   ],
   "source": [
    "s"
   ]
  },
  {
   "cell_type": "code",
   "execution_count": 121,
   "metadata": {},
   "outputs": [
    {
     "data": {
      "text/plain": [
       "True"
      ]
     },
     "execution_count": 121,
     "metadata": {},
     "output_type": "execute_result"
    }
   ],
   "source": [
    "s == s[::-1]"
   ]
  },
  {
   "cell_type": "code",
   "execution_count": 122,
   "metadata": {},
   "outputs": [],
   "source": [
    "s = \"$45$46\""
   ]
  },
  {
   "cell_type": "code",
   "execution_count": null,
   "metadata": {},
   "outputs": [],
   "source": [
    "s[1:3]"
   ]
  },
  {
   "cell_type": "code",
   "execution_count": 123,
   "metadata": {},
   "outputs": [
    {
     "data": {
      "text/plain": [
       "['', '45', '46']"
      ]
     },
     "execution_count": 123,
     "metadata": {},
     "output_type": "execute_result"
    }
   ],
   "source": [
    "s.split(\"$\")"
   ]
  },
  {
   "cell_type": "code",
   "execution_count": 124,
   "metadata": {},
   "outputs": [],
   "source": [
    "l = s.split(\"$\")"
   ]
  },
  {
   "cell_type": "code",
   "execution_count": 125,
   "metadata": {},
   "outputs": [
    {
     "data": {
      "text/plain": [
       "['', '45', '46']"
      ]
     },
     "execution_count": 125,
     "metadata": {},
     "output_type": "execute_result"
    }
   ],
   "source": [
    "l"
   ]
  },
  {
   "cell_type": "code",
   "execution_count": 126,
   "metadata": {},
   "outputs": [
    {
     "data": {
      "text/plain": [
       "list"
      ]
     },
     "execution_count": 126,
     "metadata": {},
     "output_type": "execute_result"
    }
   ],
   "source": [
    "type(l)"
   ]
  },
  {
   "cell_type": "code",
   "execution_count": 127,
   "metadata": {},
   "outputs": [],
   "source": [
    "s='anup,chouhan,pune'"
   ]
  },
  {
   "cell_type": "code",
   "execution_count": 128,
   "metadata": {},
   "outputs": [
    {
     "data": {
      "text/plain": [
       "['anup', 'chouhan', 'pune']"
      ]
     },
     "execution_count": 128,
     "metadata": {},
     "output_type": "execute_result"
    }
   ],
   "source": [
    "s.split(',')"
   ]
  },
  {
   "cell_type": "code",
   "execution_count": 129,
   "metadata": {},
   "outputs": [],
   "source": [
    "f = s.split(',')"
   ]
  },
  {
   "cell_type": "code",
   "execution_count": 130,
   "metadata": {},
   "outputs": [
    {
     "data": {
      "text/plain": [
       "'anup'"
      ]
     },
     "execution_count": 130,
     "metadata": {},
     "output_type": "execute_result"
    }
   ],
   "source": [
    "f[0]"
   ]
  },
  {
   "cell_type": "code",
   "execution_count": 131,
   "metadata": {},
   "outputs": [
    {
     "data": {
      "text/plain": [
       "'chouhan'"
      ]
     },
     "execution_count": 131,
     "metadata": {},
     "output_type": "execute_result"
    }
   ],
   "source": [
    "f[1]"
   ]
  },
  {
   "cell_type": "code",
   "execution_count": 132,
   "metadata": {},
   "outputs": [
    {
     "data": {
      "text/plain": [
       "'pune'"
      ]
     },
     "execution_count": 132,
     "metadata": {},
     "output_type": "execute_result"
    }
   ],
   "source": [
    "f[2]"
   ]
  },
  {
   "cell_type": "code",
   "execution_count": 133,
   "metadata": {},
   "outputs": [
    {
     "data": {
      "text/plain": [
       "'anupchouhanpune'"
      ]
     },
     "execution_count": 133,
     "metadata": {},
     "output_type": "execute_result"
    }
   ],
   "source": [
    "''.join(f)"
   ]
  },
  {
   "cell_type": "code",
   "execution_count": 134,
   "metadata": {},
   "outputs": [],
   "source": [
    "s = \"a$45$46\""
   ]
  },
  {
   "cell_type": "code",
   "execution_count": 135,
   "metadata": {},
   "outputs": [],
   "source": [
    "l = s.split(\"$\")"
   ]
  },
  {
   "cell_type": "code",
   "execution_count": 136,
   "metadata": {},
   "outputs": [
    {
     "data": {
      "text/plain": [
       "['a', '45', '46']"
      ]
     },
     "execution_count": 136,
     "metadata": {},
     "output_type": "execute_result"
    }
   ],
   "source": [
    "l"
   ]
  },
  {
   "cell_type": "code",
   "execution_count": 137,
   "metadata": {},
   "outputs": [],
   "source": [
    "d = '  onkar. '"
   ]
  },
  {
   "cell_type": "code",
   "execution_count": 138,
   "metadata": {},
   "outputs": [
    {
     "data": {
      "text/plain": [
       "'onkar.'"
      ]
     },
     "execution_count": 138,
     "metadata": {},
     "output_type": "execute_result"
    }
   ],
   "source": [
    "d.strip()"
   ]
  },
  {
   "cell_type": "code",
   "execution_count": 139,
   "metadata": {},
   "outputs": [
    {
     "name": "stdout",
     "output_type": "stream",
     "text": [
      "hi\n"
     ]
    }
   ],
   "source": [
    "print(\"hi\")"
   ]
  },
  {
   "cell_type": "code",
   "execution_count": null,
   "metadata": {},
   "outputs": [],
   "source": [
    "# virtul env "
   ]
  },
  {
   "cell_type": "code",
   "execution_count": null,
   "metadata": {},
   "outputs": [],
   "source": [
    "# control\n",
    "\n",
    "if else"
   ]
  },
  {
   "cell_type": "code",
   "execution_count": 141,
   "metadata": {},
   "outputs": [
    {
     "name": "stdout",
     "output_type": "stream",
     "text": [
      "hi\n"
     ]
    }
   ],
   "source": [
    "x = 11\n",
    "if x == 10:\n",
    "    print(\"x is 10\")\n",
    "    print(\"end of the block\")\n",
    "print(\"hi\")"
   ]
  },
  {
   "cell_type": "code",
   "execution_count": 143,
   "metadata": {},
   "outputs": [
    {
     "name": "stdout",
     "output_type": "stream",
     "text": [
      "x is not 10\n",
      "end of else block\n"
     ]
    }
   ],
   "source": [
    "x =11\n",
    "if x == 10:\n",
    "    print(\"x is 10\")\n",
    "    print(\"end of block\")\n",
    "else:\n",
    "    print(\"x is not 10\")\n",
    "    print(\"end of else block\")"
   ]
  },
  {
   "cell_type": "code",
   "execution_count": 144,
   "metadata": {},
   "outputs": [
    {
     "name": "stdout",
     "output_type": "stream",
     "text": [
      "x is 10\n",
      "end of block\n",
      "y is five\n",
      "inside the inner if\n",
      "outside the inner if\n"
     ]
    }
   ],
   "source": [
    "x = 10\n",
    "if x == 10:\n",
    "    print(\"x is 10\")\n",
    "    print(\"end of block\")\n",
    "    y = x /2\n",
    "    if y == 5:\n",
    "        print(\"y is five\")\n",
    "        print(\"inside the inner if\")\n",
    "    print('outside the inner if')\n",
    "else:\n",
    "    print(\"x is not 10\")\n",
    "    print('end of else block')"
   ]
  },
  {
   "cell_type": "code",
   "execution_count": 145,
   "metadata": {},
   "outputs": [
    {
     "name": "stdout",
     "output_type": "stream",
     "text": [
      "loss making business\n"
     ]
    }
   ],
   "source": [
    "invest = 100\n",
    "income = 80\n",
    "if invest > income:\n",
    "    print(\"loss making business\")\n",
    "else:\n",
    "    print(\"profitable business\")"
   ]
  },
  {
   "cell_type": "code",
   "execution_count": 146,
   "metadata": {},
   "outputs": [
    {
     "name": "stdout",
     "output_type": "stream",
     "text": [
      "breakeven\n"
     ]
    }
   ],
   "source": [
    "invest = 100\n",
    "income = 100\n",
    "if invest > income:\n",
    "    print(\"loss making business\")\n",
    "elif invest == income:\n",
    "    print(\"breakeven\")\n",
    "else:\n",
    "    print('profitable business')"
   ]
  },
  {
   "cell_type": "code",
   "execution_count": 147,
   "metadata": {},
   "outputs": [
    {
     "name": "stdout",
     "output_type": "stream",
     "text": [
      "loss\n"
     ]
    }
   ],
   "source": [
    "invest = 90\n",
    "income = 100\n",
    "if invest > income:\n",
    "    print(\"loss making business\")\n",
    "elif invest < income:\n",
    "    print(\"loss\")\n",
    "elif invest == income:\n",
    "    print(\"breakeven\")\n",
    "else:\n",
    "    print('profitable business')"
   ]
  },
  {
   "cell_type": "code",
   "execution_count": 149,
   "metadata": {},
   "outputs": [
    {
     "name": "stdout",
     "output_type": "stream",
     "text": [
      "Enter the number:11\n",
      "11 is odd number\n"
     ]
    }
   ],
   "source": [
    "number = int(input(\"Enter the number:\"))\n",
    "if number%2 == 0:\n",
    "    print('{} is even number'.format(number))\n",
    "else:\n",
    "    print(\"{} is odd number\".format(number))\n"
   ]
  },
  {
   "cell_type": "code",
   "execution_count": 151,
   "metadata": {},
   "outputs": [
    {
     "name": "stdout",
     "output_type": "stream",
     "text": [
      "p  y  t  h  o  n  "
     ]
    }
   ],
   "source": [
    "for i in 'python':\n",
    "    print(i, end='  ')\n",
    "    "
   ]
  },
  {
   "cell_type": "code",
   "execution_count": 152,
   "metadata": {},
   "outputs": [
    {
     "name": "stdout",
     "output_type": "stream",
     "text": [
      "p\n",
      "y\n",
      "t\n",
      "h\n",
      "o\n",
      "n\n"
     ]
    }
   ],
   "source": [
    "for i in 'python':\n",
    "    print(i)"
   ]
  },
  {
   "cell_type": "code",
   "execution_count": 153,
   "metadata": {},
   "outputs": [
    {
     "name": "stdout",
     "output_type": "stream",
     "text": [
      "0\n",
      "1\n",
      "2\n",
      "3\n",
      "4\n",
      "5\n",
      "6\n",
      "7\n",
      "8\n",
      "9\n"
     ]
    }
   ],
   "source": [
    "for i in range(10):\n",
    "    print(i)"
   ]
  },
  {
   "cell_type": "code",
   "execution_count": null,
   "metadata": {},
   "outputs": [],
   "source": [
    "# simple factorial\n",
    "1. Get the input from user (input)\n",
    "2. use range() wrt for to itrate\n",
    "3. print fact"
   ]
  },
  {
   "cell_type": "code",
   "execution_count": 154,
   "metadata": {},
   "outputs": [
    {
     "name": "stdout",
     "output_type": "stream",
     "text": [
      "enter the number to find factorial5\n",
      "120\n"
     ]
    }
   ],
   "source": [
    "# \n",
    "num = int(input(\"enter the number to find factorial\"))\n",
    "fact =1\n",
    "for i in range(1, num+1):\n",
    "    fact = fact * i\n",
    "print(fact)"
   ]
  },
  {
   "cell_type": "code",
   "execution_count": 155,
   "metadata": {},
   "outputs": [
    {
     "name": "stdout",
     "output_type": "stream",
     "text": [
      "5\n",
      "4\n",
      "3\n",
      "2\n",
      "1\n"
     ]
    }
   ],
   "source": [
    "count = 5\n",
    "while count:\n",
    "    print(count)\n",
    "    count-=1\n",
    "    "
   ]
  },
  {
   "cell_type": "code",
   "execution_count": 156,
   "metadata": {},
   "outputs": [
    {
     "name": "stdout",
     "output_type": "stream",
     "text": [
      "enter a number and find its factorial:5\n",
      "120\n"
     ]
    }
   ],
   "source": [
    "num = int(input(\"enter a number and find its factorial:\"))\n",
    "fact =1\n",
    "while num > 0:\n",
    "    fact = fact * num\n",
    "    num -=1 \n",
    "print(fact)"
   ]
  },
  {
   "cell_type": "code",
   "execution_count": 158,
   "metadata": {},
   "outputs": [
    {
     "name": "stdout",
     "output_type": "stream",
     "text": [
      "take precautions\n",
      "ware mask\n",
      "avoid public places\n",
      "is vaccine available?no\n",
      "take precautions\n",
      "ware mask\n",
      "avoid public places\n",
      "is vaccine available?yes\n",
      "hurrey!!!!\n"
     ]
    }
   ],
   "source": [
    "\n",
    "no_vaccine = True  \n",
    "while no_vaccine:\n",
    "    print(\"take precautions\")\n",
    "    print('ware mask')\n",
    "    print('avoid public places')\n",
    "    check = input(\"is vaccine available?\")\n",
    "    if check == 'yes':\n",
    "        print(\"hurrey!!!!\")\n",
    "        break\n",
    "    time.sleep(1)\n",
    "    "
   ]
  },
  {
   "cell_type": "code",
   "execution_count": null,
   "metadata": {},
   "outputs": [],
   "source": [
    "# list\n",
    "# number: int, float\n",
    "bool: True, False\n",
    "string, "
   ]
  },
  {
   "cell_type": "code",
   "execution_count": 160,
   "metadata": {},
   "outputs": [],
   "source": [
    "l = list()\n",
    "l1 = [1,2, 'hi', 2.0, True]"
   ]
  },
  {
   "cell_type": "code",
   "execution_count": 161,
   "metadata": {},
   "outputs": [
    {
     "data": {
      "text/plain": [
       "list"
      ]
     },
     "execution_count": 161,
     "metadata": {},
     "output_type": "execute_result"
    }
   ],
   "source": [
    "type(l1)"
   ]
  },
  {
   "cell_type": "code",
   "execution_count": 162,
   "metadata": {},
   "outputs": [
    {
     "data": {
      "text/plain": [
       "list"
      ]
     },
     "execution_count": 162,
     "metadata": {},
     "output_type": "execute_result"
    }
   ],
   "source": [
    "type(l)"
   ]
  },
  {
   "cell_type": "code",
   "execution_count": 163,
   "metadata": {},
   "outputs": [
    {
     "data": {
      "text/plain": [
       "[1, 2, 'hi', 2.0, True]"
      ]
     },
     "execution_count": 163,
     "metadata": {},
     "output_type": "execute_result"
    }
   ],
   "source": [
    "l1"
   ]
  },
  {
   "cell_type": "code",
   "execution_count": 164,
   "metadata": {},
   "outputs": [
    {
     "data": {
      "text/plain": [
       "5"
      ]
     },
     "execution_count": 164,
     "metadata": {},
     "output_type": "execute_result"
    }
   ],
   "source": [
    "len(l1)"
   ]
  },
  {
   "cell_type": "code",
   "execution_count": 165,
   "metadata": {},
   "outputs": [
    {
     "data": {
      "text/plain": [
       "['__add__',\n",
       " '__class__',\n",
       " '__contains__',\n",
       " '__delattr__',\n",
       " '__delitem__',\n",
       " '__dir__',\n",
       " '__doc__',\n",
       " '__eq__',\n",
       " '__format__',\n",
       " '__ge__',\n",
       " '__getattribute__',\n",
       " '__getitem__',\n",
       " '__gt__',\n",
       " '__hash__',\n",
       " '__iadd__',\n",
       " '__imul__',\n",
       " '__init__',\n",
       " '__init_subclass__',\n",
       " '__iter__',\n",
       " '__le__',\n",
       " '__len__',\n",
       " '__lt__',\n",
       " '__mul__',\n",
       " '__ne__',\n",
       " '__new__',\n",
       " '__reduce__',\n",
       " '__reduce_ex__',\n",
       " '__repr__',\n",
       " '__reversed__',\n",
       " '__rmul__',\n",
       " '__setattr__',\n",
       " '__setitem__',\n",
       " '__sizeof__',\n",
       " '__str__',\n",
       " '__subclasshook__',\n",
       " 'append',\n",
       " 'clear',\n",
       " 'copy',\n",
       " 'count',\n",
       " 'extend',\n",
       " 'index',\n",
       " 'insert',\n",
       " 'pop',\n",
       " 'remove',\n",
       " 'reverse',\n",
       " 'sort']"
      ]
     },
     "execution_count": 165,
     "metadata": {},
     "output_type": "execute_result"
    }
   ],
   "source": [
    "dir(l1)"
   ]
  },
  {
   "cell_type": "code",
   "execution_count": 166,
   "metadata": {},
   "outputs": [],
   "source": [
    "l1.append(34)"
   ]
  },
  {
   "cell_type": "code",
   "execution_count": 167,
   "metadata": {},
   "outputs": [
    {
     "data": {
      "text/plain": [
       "[1, 2, 'hi', 2.0, True, 34]"
      ]
     },
     "execution_count": 167,
     "metadata": {},
     "output_type": "execute_result"
    }
   ],
   "source": [
    "l1"
   ]
  },
  {
   "cell_type": "code",
   "execution_count": 168,
   "metadata": {},
   "outputs": [
    {
     "data": {
      "text/plain": [
       "1"
      ]
     },
     "execution_count": 168,
     "metadata": {},
     "output_type": "execute_result"
    }
   ],
   "source": [
    "l1[0]"
   ]
  },
  {
   "cell_type": "code",
   "execution_count": 169,
   "metadata": {},
   "outputs": [
    {
     "data": {
      "text/plain": [
       "2"
      ]
     },
     "execution_count": 169,
     "metadata": {},
     "output_type": "execute_result"
    }
   ],
   "source": [
    "l1[1]"
   ]
  },
  {
   "cell_type": "code",
   "execution_count": 170,
   "metadata": {},
   "outputs": [
    {
     "data": {
      "text/plain": [
       "2.0"
      ]
     },
     "execution_count": 170,
     "metadata": {},
     "output_type": "execute_result"
    }
   ],
   "source": [
    "l1[3]"
   ]
  },
  {
   "cell_type": "code",
   "execution_count": 173,
   "metadata": {},
   "outputs": [
    {
     "data": {
      "text/plain": [
       "'h'"
      ]
     },
     "execution_count": 173,
     "metadata": {},
     "output_type": "execute_result"
    }
   ],
   "source": [
    "l1[2][0]"
   ]
  },
  {
   "cell_type": "code",
   "execution_count": 174,
   "metadata": {},
   "outputs": [
    {
     "data": {
      "text/plain": [
       "'i'"
      ]
     },
     "execution_count": 174,
     "metadata": {},
     "output_type": "execute_result"
    }
   ],
   "source": [
    "l1[2][1]"
   ]
  },
  {
   "cell_type": "code",
   "execution_count": 175,
   "metadata": {},
   "outputs": [
    {
     "data": {
      "text/plain": [
       "34"
      ]
     },
     "execution_count": 175,
     "metadata": {},
     "output_type": "execute_result"
    }
   ],
   "source": [
    "l1[-1]"
   ]
  },
  {
   "cell_type": "code",
   "execution_count": 176,
   "metadata": {},
   "outputs": [
    {
     "data": {
      "text/plain": [
       "True"
      ]
     },
     "execution_count": 176,
     "metadata": {},
     "output_type": "execute_result"
    }
   ],
   "source": [
    "l1[-2]"
   ]
  },
  {
   "cell_type": "code",
   "execution_count": 177,
   "metadata": {},
   "outputs": [
    {
     "data": {
      "text/plain": [
       "[34, True, 2.0, 'hi', 2, 1]"
      ]
     },
     "execution_count": 177,
     "metadata": {},
     "output_type": "execute_result"
    }
   ],
   "source": [
    "l1[::-1]"
   ]
  },
  {
   "cell_type": "code",
   "execution_count": 178,
   "metadata": {},
   "outputs": [],
   "source": [
    "l1.insert(3, 6)"
   ]
  },
  {
   "cell_type": "code",
   "execution_count": 179,
   "metadata": {},
   "outputs": [
    {
     "data": {
      "text/plain": [
       "[1, 2, 'hi', 6, 2.0, True, 34]"
      ]
     },
     "execution_count": 179,
     "metadata": {},
     "output_type": "execute_result"
    }
   ],
   "source": [
    "l1"
   ]
  },
  {
   "cell_type": "code",
   "execution_count": 180,
   "metadata": {},
   "outputs": [],
   "source": [
    "# string\n",
    "a = 'onkar'\n",
    "\n",
    "# immutable: we are not able to modify the element with in same memory location\n",
    "# mutable: we can modify the element in same memory "
   ]
  },
  {
   "cell_type": "code",
   "execution_count": 181,
   "metadata": {},
   "outputs": [
    {
     "data": {
      "text/plain": [
       "140578949683952"
      ]
     },
     "execution_count": 181,
     "metadata": {},
     "output_type": "execute_result"
    }
   ],
   "source": [
    "id(a)"
   ]
  },
  {
   "cell_type": "code",
   "execution_count": 182,
   "metadata": {},
   "outputs": [
    {
     "data": {
      "text/plain": [
       "'o'"
      ]
     },
     "execution_count": 182,
     "metadata": {},
     "output_type": "execute_result"
    }
   ],
   "source": [
    "a[0]"
   ]
  },
  {
   "cell_type": "code",
   "execution_count": 183,
   "metadata": {},
   "outputs": [
    {
     "ename": "TypeError",
     "evalue": "'str' object does not support item assignment",
     "output_type": "error",
     "traceback": [
      "\u001b[0;31m---------------------------------------------------------------------------\u001b[0m",
      "\u001b[0;31mTypeError\u001b[0m                                 Traceback (most recent call last)",
      "\u001b[0;32m<ipython-input-183-e8c55d024dfe>\u001b[0m in \u001b[0;36m<module>\u001b[0;34m\u001b[0m\n\u001b[0;32m----> 1\u001b[0;31m \u001b[0ma\u001b[0m\u001b[0;34m[\u001b[0m\u001b[0;36m0\u001b[0m\u001b[0;34m]\u001b[0m \u001b[0;34m=\u001b[0m \u001b[0;34m'p'\u001b[0m\u001b[0;34m\u001b[0m\u001b[0;34m\u001b[0m\u001b[0m\n\u001b[0m",
      "\u001b[0;31mTypeError\u001b[0m: 'str' object does not support item assignment"
     ]
    }
   ],
   "source": [
    "a[0] = 'p'"
   ]
  },
  {
   "cell_type": "code",
   "execution_count": 188,
   "metadata": {},
   "outputs": [],
   "source": [
    "a = 'kmdcdk c'"
   ]
  },
  {
   "cell_type": "code",
   "execution_count": 189,
   "metadata": {},
   "outputs": [
    {
     "data": {
      "text/plain": [
       "'kmdcdk c'"
      ]
     },
     "execution_count": 189,
     "metadata": {},
     "output_type": "execute_result"
    }
   ],
   "source": [
    "a"
   ]
  },
  {
   "cell_type": "code",
   "execution_count": 190,
   "metadata": {},
   "outputs": [
    {
     "data": {
      "text/plain": [
       "140578951607792"
      ]
     },
     "execution_count": 190,
     "metadata": {},
     "output_type": "execute_result"
    }
   ],
   "source": [
    "id(a)"
   ]
  },
  {
   "cell_type": "code",
   "execution_count": null,
   "metadata": {},
   "outputs": [],
   "source": []
  },
  {
   "cell_type": "code",
   "execution_count": 184,
   "metadata": {},
   "outputs": [],
   "source": [
    "g = [1,2,3]"
   ]
  },
  {
   "cell_type": "code",
   "execution_count": 185,
   "metadata": {},
   "outputs": [
    {
     "data": {
      "text/plain": [
       "2"
      ]
     },
     "execution_count": 185,
     "metadata": {},
     "output_type": "execute_result"
    }
   ],
   "source": [
    "g[1]"
   ]
  },
  {
   "cell_type": "code",
   "execution_count": 186,
   "metadata": {},
   "outputs": [],
   "source": [
    "g[1] = 5"
   ]
  },
  {
   "cell_type": "code",
   "execution_count": 187,
   "metadata": {},
   "outputs": [
    {
     "data": {
      "text/plain": [
       "[1, 5, 3]"
      ]
     },
     "execution_count": 187,
     "metadata": {},
     "output_type": "execute_result"
    }
   ],
   "source": [
    "g"
   ]
  },
  {
   "cell_type": "code",
   "execution_count": 191,
   "metadata": {},
   "outputs": [
    {
     "data": {
      "text/plain": [
       "140578951554624"
      ]
     },
     "execution_count": 191,
     "metadata": {},
     "output_type": "execute_result"
    }
   ],
   "source": [
    "id(g)"
   ]
  },
  {
   "cell_type": "code",
   "execution_count": 192,
   "metadata": {},
   "outputs": [],
   "source": [
    "g[1] = 1000"
   ]
  },
  {
   "cell_type": "code",
   "execution_count": 193,
   "metadata": {},
   "outputs": [
    {
     "data": {
      "text/plain": [
       "[1, 1000, 3]"
      ]
     },
     "execution_count": 193,
     "metadata": {},
     "output_type": "execute_result"
    }
   ],
   "source": [
    "g"
   ]
  },
  {
   "cell_type": "code",
   "execution_count": 194,
   "metadata": {},
   "outputs": [
    {
     "data": {
      "text/plain": [
       "140578951554624"
      ]
     },
     "execution_count": 194,
     "metadata": {},
     "output_type": "execute_result"
    }
   ],
   "source": [
    "id(g)"
   ]
  },
  {
   "cell_type": "code",
   "execution_count": 196,
   "metadata": {},
   "outputs": [
    {
     "data": {
      "text/plain": [
       "'0x7fdb16786640'"
      ]
     },
     "execution_count": 196,
     "metadata": {},
     "output_type": "execute_result"
    }
   ],
   "source": [
    "hex(id(g))"
   ]
  },
  {
   "cell_type": "code",
   "execution_count": 197,
   "metadata": {},
   "outputs": [],
   "source": [
    "new_list = []\n",
    "new_list_1 = list()"
   ]
  },
  {
   "cell_type": "code",
   "execution_count": 198,
   "metadata": {},
   "outputs": [
    {
     "data": {
      "text/plain": [
       "[]"
      ]
     },
     "execution_count": 198,
     "metadata": {},
     "output_type": "execute_result"
    }
   ],
   "source": [
    "new_list"
   ]
  },
  {
   "cell_type": "code",
   "execution_count": 199,
   "metadata": {},
   "outputs": [
    {
     "data": {
      "text/plain": [
       "[]"
      ]
     },
     "execution_count": 199,
     "metadata": {},
     "output_type": "execute_result"
    }
   ],
   "source": [
    "new_list_1"
   ]
  },
  {
   "cell_type": "code",
   "execution_count": 200,
   "metadata": {},
   "outputs": [],
   "source": [
    "new_list.append(1)\n",
    "new_list_1.append(2)"
   ]
  },
  {
   "cell_type": "code",
   "execution_count": 202,
   "metadata": {},
   "outputs": [
    {
     "name": "stdout",
     "output_type": "stream",
     "text": [
      "[1]\n"
     ]
    },
    {
     "data": {
      "text/plain": [
       "[2]"
      ]
     },
     "execution_count": 202,
     "metadata": {},
     "output_type": "execute_result"
    }
   ],
   "source": [
    "print(new_list)\n",
    "new_list_1"
   ]
  },
  {
   "cell_type": "code",
   "execution_count": 203,
   "metadata": {},
   "outputs": [],
   "source": [
    "new_list_1.append(5.6)"
   ]
  },
  {
   "cell_type": "code",
   "execution_count": 204,
   "metadata": {},
   "outputs": [
    {
     "data": {
      "text/plain": [
       "[2, 5.6]"
      ]
     },
     "execution_count": 204,
     "metadata": {},
     "output_type": "execute_result"
    }
   ],
   "source": [
    "new_list_1"
   ]
  },
  {
   "cell_type": "code",
   "execution_count": 205,
   "metadata": {},
   "outputs": [
    {
     "ename": "TypeError",
     "evalue": "append() takes exactly one argument (2 given)",
     "output_type": "error",
     "traceback": [
      "\u001b[0;31m---------------------------------------------------------------------------\u001b[0m",
      "\u001b[0;31mTypeError\u001b[0m                                 Traceback (most recent call last)",
      "\u001b[0;32m<ipython-input-205-2c9aee3ca3bb>\u001b[0m in \u001b[0;36m<module>\u001b[0;34m\u001b[0m\n\u001b[0;32m----> 1\u001b[0;31m \u001b[0mnew_list_1\u001b[0m\u001b[0;34m.\u001b[0m\u001b[0mappend\u001b[0m\u001b[0;34m(\u001b[0m\u001b[0;36m1\u001b[0m\u001b[0;34m,\u001b[0m\u001b[0;36m6\u001b[0m\u001b[0;34m)\u001b[0m\u001b[0;34m\u001b[0m\u001b[0;34m\u001b[0m\u001b[0m\n\u001b[0m",
      "\u001b[0;31mTypeError\u001b[0m: append() takes exactly one argument (2 given)"
     ]
    }
   ],
   "source": [
    "new_list_1.append(1,6)"
   ]
  },
  {
   "cell_type": "code",
   "execution_count": 206,
   "metadata": {},
   "outputs": [
    {
     "data": {
      "text/plain": [
       "[2, 5.6]"
      ]
     },
     "execution_count": 206,
     "metadata": {},
     "output_type": "execute_result"
    }
   ],
   "source": [
    "new_list_1"
   ]
  },
  {
   "cell_type": "code",
   "execution_count": 207,
   "metadata": {},
   "outputs": [
    {
     "data": {
      "text/plain": [
       "[1]"
      ]
     },
     "execution_count": 207,
     "metadata": {},
     "output_type": "execute_result"
    }
   ],
   "source": [
    "new_list"
   ]
  },
  {
   "cell_type": "code",
   "execution_count": 208,
   "metadata": {},
   "outputs": [],
   "source": [
    "new_list.extend(new_list_1)"
   ]
  },
  {
   "cell_type": "code",
   "execution_count": 209,
   "metadata": {},
   "outputs": [
    {
     "data": {
      "text/plain": [
       "[1, 2, 5.6]"
      ]
     },
     "execution_count": 209,
     "metadata": {},
     "output_type": "execute_result"
    }
   ],
   "source": [
    "new_list"
   ]
  },
  {
   "cell_type": "code",
   "execution_count": 210,
   "metadata": {},
   "outputs": [],
   "source": [
    "new_list.append([1,2,4,5])"
   ]
  },
  {
   "cell_type": "code",
   "execution_count": 211,
   "metadata": {},
   "outputs": [
    {
     "data": {
      "text/plain": [
       "[1, 2, 5.6, [1, 2, 4, 5]]"
      ]
     },
     "execution_count": 211,
     "metadata": {},
     "output_type": "execute_result"
    }
   ],
   "source": [
    "new_list"
   ]
  },
  {
   "cell_type": "code",
   "execution_count": 212,
   "metadata": {},
   "outputs": [
    {
     "data": {
      "text/plain": [
       "[1, 2, 4, 5]"
      ]
     },
     "execution_count": 212,
     "metadata": {},
     "output_type": "execute_result"
    }
   ],
   "source": [
    "new_list[3]"
   ]
  },
  {
   "cell_type": "code",
   "execution_count": 213,
   "metadata": {},
   "outputs": [
    {
     "data": {
      "text/plain": [
       "1"
      ]
     },
     "execution_count": 213,
     "metadata": {},
     "output_type": "execute_result"
    }
   ],
   "source": [
    "new_list[3][0]"
   ]
  },
  {
   "cell_type": "code",
   "execution_count": 214,
   "metadata": {},
   "outputs": [
    {
     "data": {
      "text/plain": [
       "5"
      ]
     },
     "execution_count": 214,
     "metadata": {},
     "output_type": "execute_result"
    }
   ],
   "source": [
    "new_list[3][-1]"
   ]
  },
  {
   "cell_type": "code",
   "execution_count": 216,
   "metadata": {},
   "outputs": [],
   "source": [
    "new_list.extend([1,40,5])"
   ]
  },
  {
   "cell_type": "code",
   "execution_count": 217,
   "metadata": {},
   "outputs": [
    {
     "data": {
      "text/plain": [
       "[1, 2, 5.6, [1, 2, 4, 5], 1, 40, 5]"
      ]
     },
     "execution_count": 217,
     "metadata": {},
     "output_type": "execute_result"
    }
   ],
   "source": [
    "new_list"
   ]
  },
  {
   "cell_type": "code",
   "execution_count": 218,
   "metadata": {},
   "outputs": [
    {
     "data": {
      "text/plain": [
       "5"
      ]
     },
     "execution_count": 218,
     "metadata": {},
     "output_type": "execute_result"
    }
   ],
   "source": [
    "new_list.pop()"
   ]
  },
  {
   "cell_type": "code",
   "execution_count": 219,
   "metadata": {},
   "outputs": [
    {
     "data": {
      "text/plain": [
       "40"
      ]
     },
     "execution_count": 219,
     "metadata": {},
     "output_type": "execute_result"
    }
   ],
   "source": [
    "new_list.pop()"
   ]
  },
  {
   "cell_type": "code",
   "execution_count": 220,
   "metadata": {},
   "outputs": [
    {
     "data": {
      "text/plain": [
       "[1, 2, 5.6, [1, 2, 4, 5], 1]"
      ]
     },
     "execution_count": 220,
     "metadata": {},
     "output_type": "execute_result"
    }
   ],
   "source": [
    "new_list"
   ]
  },
  {
   "cell_type": "code",
   "execution_count": 221,
   "metadata": {},
   "outputs": [
    {
     "data": {
      "text/plain": [
       "1"
      ]
     },
     "execution_count": 221,
     "metadata": {},
     "output_type": "execute_result"
    }
   ],
   "source": [
    "new_list.index(2)"
   ]
  },
  {
   "cell_type": "code",
   "execution_count": 222,
   "metadata": {},
   "outputs": [],
   "source": [
    "new_list.remove(2)"
   ]
  },
  {
   "cell_type": "code",
   "execution_count": 223,
   "metadata": {},
   "outputs": [
    {
     "data": {
      "text/plain": [
       "[1, 5.6, [1, 2, 4, 5], 1]"
      ]
     },
     "execution_count": 223,
     "metadata": {},
     "output_type": "execute_result"
    }
   ],
   "source": [
    "new_list"
   ]
  },
  {
   "cell_type": "code",
   "execution_count": 224,
   "metadata": {},
   "outputs": [],
   "source": [
    "new_list.append(list('abc'))"
   ]
  },
  {
   "cell_type": "code",
   "execution_count": 225,
   "metadata": {},
   "outputs": [
    {
     "data": {
      "text/plain": [
       "[1, 5.6, [1, 2, 4, 5], 1, ['a', 'b', 'c']]"
      ]
     },
     "execution_count": 225,
     "metadata": {},
     "output_type": "execute_result"
    }
   ],
   "source": [
    "new_list"
   ]
  },
  {
   "cell_type": "code",
   "execution_count": 226,
   "metadata": {},
   "outputs": [
    {
     "data": {
      "text/plain": [
       "list"
      ]
     },
     "execution_count": 226,
     "metadata": {},
     "output_type": "execute_result"
    }
   ],
   "source": [
    "type(new_list)"
   ]
  },
  {
   "cell_type": "code",
   "execution_count": 227,
   "metadata": {},
   "outputs": [
    {
     "data": {
      "text/plain": [
       "True"
      ]
     },
     "execution_count": 227,
     "metadata": {},
     "output_type": "execute_result"
    }
   ],
   "source": [
    "isinstance(new_list, list)"
   ]
  },
  {
   "cell_type": "code",
   "execution_count": 228,
   "metadata": {},
   "outputs": [
    {
     "data": {
      "text/plain": [
       "False"
      ]
     },
     "execution_count": 228,
     "metadata": {},
     "output_type": "execute_result"
    }
   ],
   "source": [
    "isinstance(new_list, str)"
   ]
  },
  {
   "cell_type": "code",
   "execution_count": 229,
   "metadata": {},
   "outputs": [
    {
     "data": {
      "text/plain": [
       "[1, 5.6, [1, 2, 4, 5], 1, ['a', 'b', 'c']]"
      ]
     },
     "execution_count": 229,
     "metadata": {},
     "output_type": "execute_result"
    }
   ],
   "source": [
    "new_list"
   ]
  },
  {
   "cell_type": "code",
   "execution_count": 230,
   "metadata": {},
   "outputs": [
    {
     "name": "stdout",
     "output_type": "stream",
     "text": [
      "[1, 2, 4, 5]\n",
      "['a', 'b', 'c']\n"
     ]
    }
   ],
   "source": [
    "for ele in new_list:\n",
    "    if isinstance(ele, list):\n",
    "        print(ele)"
   ]
  },
  {
   "cell_type": "code",
   "execution_count": 237,
   "metadata": {},
   "outputs": [
    {
     "name": "stdout",
     "output_type": "stream",
     "text": [
      "1\n",
      "5.6\n",
      "1\n",
      "19.6\n"
     ]
    }
   ],
   "source": [
    "s = 0\n",
    "for ele in new_list:\n",
    "    if isinstance(ele, int) or isinstance(ele, float):\n",
    "        print(ele)\n",
    "        s +=ele\n",
    "    elif isinstance(ele, list):\n",
    "        for i in ele:\n",
    "            if  not isinstance(i, str):\n",
    "                s +=i\n",
    "print(s)"
   ]
  },
  {
   "cell_type": "code",
   "execution_count": 238,
   "metadata": {},
   "outputs": [
    {
     "name": "stdout",
     "output_type": "stream",
     "text": [
      "hi\n"
     ]
    }
   ],
   "source": [
    "print('hi')"
   ]
  },
  {
   "cell_type": "code",
   "execution_count": 239,
   "metadata": {},
   "outputs": [],
   "source": [
    "lst = list(range(30, 50, 2))"
   ]
  },
  {
   "cell_type": "code",
   "execution_count": 240,
   "metadata": {},
   "outputs": [
    {
     "data": {
      "text/plain": [
       "[30, 32, 34, 36, 38, 40, 42, 44, 46, 48]"
      ]
     },
     "execution_count": 240,
     "metadata": {},
     "output_type": "execute_result"
    }
   ],
   "source": [
    "lst"
   ]
  },
  {
   "cell_type": "code",
   "execution_count": 244,
   "metadata": {},
   "outputs": [
    {
     "data": {
      "text/plain": [
       "390"
      ]
     },
     "execution_count": 244,
     "metadata": {},
     "output_type": "execute_result"
    }
   ],
   "source": [
    "sum(lst)"
   ]
  },
  {
   "cell_type": "code",
   "execution_count": null,
   "metadata": {},
   "outputs": [],
   "source": []
  },
  {
   "cell_type": "code",
   "execution_count": 245,
   "metadata": {},
   "outputs": [],
   "source": [
    "s = 0\n",
    "for i in range(0, len(lst)):\n",
    "    s += lst[i]"
   ]
  },
  {
   "cell_type": "code",
   "execution_count": 246,
   "metadata": {},
   "outputs": [
    {
     "data": {
      "text/plain": [
       "390"
      ]
     },
     "execution_count": 246,
     "metadata": {},
     "output_type": "execute_result"
    }
   ],
   "source": [
    "s"
   ]
  },
  {
   "cell_type": "code",
   "execution_count": null,
   "metadata": {},
   "outputs": [],
   "source": []
  },
  {
   "cell_type": "code",
   "execution_count": 243,
   "metadata": {},
   "outputs": [
    {
     "data": {
      "text/plain": [
       "190"
      ]
     },
     "execution_count": 243,
     "metadata": {},
     "output_type": "execute_result"
    }
   ],
   "source": [
    "s"
   ]
  },
  {
   "cell_type": "code",
   "execution_count": 247,
   "metadata": {},
   "outputs": [
    {
     "name": "stdout",
     "output_type": "stream",
     "text": [
      "hi\n"
     ]
    }
   ],
   "source": [
    "print('hi')"
   ]
  },
  {
   "cell_type": "code",
   "execution_count": 249,
   "metadata": {},
   "outputs": [],
   "source": [
    "# dict \n",
    "\n",
    "mydict = {}\n",
    "mydict_1 = dict()\n"
   ]
  },
  {
   "cell_type": "code",
   "execution_count": null,
   "metadata": {},
   "outputs": [],
   "source": []
  },
  {
   "cell_type": "code",
   "execution_count": 250,
   "metadata": {},
   "outputs": [
    {
     "data": {
      "text/plain": [
       "{}"
      ]
     },
     "execution_count": 250,
     "metadata": {},
     "output_type": "execute_result"
    }
   ],
   "source": [
    "mydict"
   ]
  },
  {
   "cell_type": "code",
   "execution_count": 251,
   "metadata": {},
   "outputs": [],
   "source": [
    "mydict['key'] = \"value1\""
   ]
  },
  {
   "cell_type": "code",
   "execution_count": 252,
   "metadata": {},
   "outputs": [
    {
     "data": {
      "text/plain": [
       "{'key': 'value1'}"
      ]
     },
     "execution_count": 252,
     "metadata": {},
     "output_type": "execute_result"
    }
   ],
   "source": [
    "mydict #{'id':101, 'name': 'onkar', 'add':'pune', 'branch':'pune'}"
   ]
  },
  {
   "cell_type": "code",
   "execution_count": 253,
   "metadata": {},
   "outputs": [
    {
     "data": {
      "text/plain": [
       "1"
      ]
     },
     "execution_count": 253,
     "metadata": {},
     "output_type": "execute_result"
    }
   ],
   "source": [
    "len(mydict)"
   ]
  },
  {
   "cell_type": "code",
   "execution_count": 254,
   "metadata": {},
   "outputs": [],
   "source": [
    "d = {'id':101, 'name': 'onkar', 'add':'pune', 'branch':'pune'}"
   ]
  },
  {
   "cell_type": "code",
   "execution_count": 255,
   "metadata": {},
   "outputs": [
    {
     "data": {
      "text/plain": [
       "{'id': 101, 'name': 'onkar', 'add': 'pune', 'branch': 'pune'}"
      ]
     },
     "execution_count": 255,
     "metadata": {},
     "output_type": "execute_result"
    }
   ],
   "source": [
    "d "
   ]
  },
  {
   "cell_type": "code",
   "execution_count": 256,
   "metadata": {},
   "outputs": [],
   "source": [
    "l = list()"
   ]
  },
  {
   "cell_type": "code",
   "execution_count": 257,
   "metadata": {},
   "outputs": [],
   "source": [
    "l.append(d)"
   ]
  },
  {
   "cell_type": "code",
   "execution_count": 258,
   "metadata": {},
   "outputs": [
    {
     "data": {
      "text/plain": [
       "[{'id': 101, 'name': 'onkar', 'add': 'pune', 'branch': 'pune'}]"
      ]
     },
     "execution_count": 258,
     "metadata": {},
     "output_type": "execute_result"
    }
   ],
   "source": [
    "l"
   ]
  },
  {
   "cell_type": "code",
   "execution_count": 259,
   "metadata": {},
   "outputs": [],
   "source": [
    "l.append({'id': 103, 'name': 'ede', 'add': 'puncdce', 'branch': 'cdcd'})"
   ]
  },
  {
   "cell_type": "code",
   "execution_count": 260,
   "metadata": {},
   "outputs": [
    {
     "data": {
      "text/plain": [
       "[{'id': 101, 'name': 'onkar', 'add': 'pune', 'branch': 'pune'},\n",
       " {'id': 103, 'name': 'ede', 'add': 'puncdce', 'branch': 'cdcd'}]"
      ]
     },
     "execution_count": 260,
     "metadata": {},
     "output_type": "execute_result"
    }
   ],
   "source": [
    "l"
   ]
  },
  {
   "cell_type": "code",
   "execution_count": 261,
   "metadata": {},
   "outputs": [
    {
     "data": {
      "text/plain": [
       "{'id': 101, 'name': 'onkar', 'add': 'pune', 'branch': 'pune'}"
      ]
     },
     "execution_count": 261,
     "metadata": {},
     "output_type": "execute_result"
    }
   ],
   "source": [
    "l[0]"
   ]
  },
  {
   "cell_type": "code",
   "execution_count": 262,
   "metadata": {},
   "outputs": [
    {
     "data": {
      "text/plain": [
       "{'id': 101, 'name': 'onkar', 'add': 'pune', 'branch': 'pune'}"
      ]
     },
     "execution_count": 262,
     "metadata": {},
     "output_type": "execute_result"
    }
   ],
   "source": [
    "d"
   ]
  },
  {
   "cell_type": "code",
   "execution_count": 263,
   "metadata": {},
   "outputs": [],
   "source": [
    "d['mainbranch'] = 'pune'"
   ]
  },
  {
   "cell_type": "code",
   "execution_count": 264,
   "metadata": {},
   "outputs": [
    {
     "data": {
      "text/plain": [
       "{'id': 101,\n",
       " 'name': 'onkar',\n",
       " 'add': 'pune',\n",
       " 'branch': 'pune',\n",
       " 'mainbranch': 'pune'}"
      ]
     },
     "execution_count": 264,
     "metadata": {},
     "output_type": "execute_result"
    }
   ],
   "source": [
    "d"
   ]
  },
  {
   "cell_type": "code",
   "execution_count": 265,
   "metadata": {},
   "outputs": [],
   "source": [
    "d['branch'] = 'us'"
   ]
  },
  {
   "cell_type": "code",
   "execution_count": 266,
   "metadata": {},
   "outputs": [
    {
     "data": {
      "text/plain": [
       "{'id': 101,\n",
       " 'name': 'onkar',\n",
       " 'add': 'pune',\n",
       " 'branch': 'us',\n",
       " 'mainbranch': 'pune'}"
      ]
     },
     "execution_count": 266,
     "metadata": {},
     "output_type": "execute_result"
    }
   ],
   "source": [
    "d"
   ]
  },
  {
   "cell_type": "code",
   "execution_count": 267,
   "metadata": {},
   "outputs": [
    {
     "data": {
      "text/plain": [
       "140578950584064"
      ]
     },
     "execution_count": 267,
     "metadata": {},
     "output_type": "execute_result"
    }
   ],
   "source": [
    "id(d)"
   ]
  },
  {
   "cell_type": "code",
   "execution_count": 268,
   "metadata": {},
   "outputs": [],
   "source": [
    "d['branch'] = 'eu'"
   ]
  },
  {
   "cell_type": "code",
   "execution_count": 269,
   "metadata": {},
   "outputs": [
    {
     "data": {
      "text/plain": [
       "{'id': 101,\n",
       " 'name': 'onkar',\n",
       " 'add': 'pune',\n",
       " 'branch': 'eu',\n",
       " 'mainbranch': 'pune'}"
      ]
     },
     "execution_count": 269,
     "metadata": {},
     "output_type": "execute_result"
    }
   ],
   "source": [
    "d"
   ]
  },
  {
   "cell_type": "code",
   "execution_count": 270,
   "metadata": {},
   "outputs": [
    {
     "data": {
      "text/plain": [
       "140578950584064"
      ]
     },
     "execution_count": 270,
     "metadata": {},
     "output_type": "execute_result"
    }
   ],
   "source": [
    "id(d)"
   ]
  },
  {
   "cell_type": "code",
   "execution_count": 271,
   "metadata": {},
   "outputs": [],
   "source": [
    "d['mainbranch'] = 'dcbcksjdc'"
   ]
  },
  {
   "cell_type": "code",
   "execution_count": 272,
   "metadata": {},
   "outputs": [
    {
     "data": {
      "text/plain": [
       "{'id': 101,\n",
       " 'name': 'onkar',\n",
       " 'add': 'pune',\n",
       " 'branch': 'eu',\n",
       " 'mainbranch': 'dcbcksjdc'}"
      ]
     },
     "execution_count": 272,
     "metadata": {},
     "output_type": "execute_result"
    }
   ],
   "source": [
    "d"
   ]
  },
  {
   "cell_type": "code",
   "execution_count": 273,
   "metadata": {},
   "outputs": [],
   "source": [
    "wallet = {\"cards\": 3, \"cash\":1800, \"candies\": 7}"
   ]
  },
  {
   "cell_type": "code",
   "execution_count": 274,
   "metadata": {},
   "outputs": [
    {
     "data": {
      "text/plain": [
       "{'cards': 3, 'cash': 1800, 'candies': 7}"
      ]
     },
     "execution_count": 274,
     "metadata": {},
     "output_type": "execute_result"
    }
   ],
   "source": [
    "wallet"
   ]
  },
  {
   "cell_type": "code",
   "execution_count": 275,
   "metadata": {},
   "outputs": [],
   "source": [
    "wallet['candies'] +=2\n",
    "\n",
    "# \n",
    "wallet['candies'] = wallet['candies'] + 2"
   ]
  },
  {
   "cell_type": "code",
   "execution_count": 276,
   "metadata": {},
   "outputs": [
    {
     "data": {
      "text/plain": [
       "{'cards': 3, 'cash': 1800, 'candies': 9}"
      ]
     },
     "execution_count": 276,
     "metadata": {},
     "output_type": "execute_result"
    }
   ],
   "source": [
    "wallet"
   ]
  },
  {
   "cell_type": "code",
   "execution_count": 277,
   "metadata": {},
   "outputs": [
    {
     "data": {
      "text/plain": [
       "9"
      ]
     },
     "execution_count": 277,
     "metadata": {},
     "output_type": "execute_result"
    }
   ],
   "source": [
    "wallet['candies']"
   ]
  },
  {
   "cell_type": "code",
   "execution_count": 278,
   "metadata": {},
   "outputs": [],
   "source": [
    "wallet['cards'] =  {\"amex\":1, \"visa\":{\"hdfc\":1, \"icic\":'gold'}}"
   ]
  },
  {
   "cell_type": "code",
   "execution_count": 279,
   "metadata": {},
   "outputs": [
    {
     "data": {
      "text/plain": [
       "{'cards': {'amex': 1, 'visa': {'hdfc': 1, 'icic': 'gold'}},\n",
       " 'cash': 1800,\n",
       " 'candies': 9}"
      ]
     },
     "execution_count": 279,
     "metadata": {},
     "output_type": "execute_result"
    }
   ],
   "source": [
    "wallet"
   ]
  },
  {
   "cell_type": "code",
   "execution_count": 280,
   "metadata": {},
   "outputs": [
    {
     "data": {
      "text/plain": [
       "dict_keys(['cards', 'cash', 'candies'])"
      ]
     },
     "execution_count": 280,
     "metadata": {},
     "output_type": "execute_result"
    }
   ],
   "source": [
    "wallet.keys()"
   ]
  },
  {
   "cell_type": "code",
   "execution_count": 281,
   "metadata": {},
   "outputs": [
    {
     "data": {
      "text/plain": [
       "{'amex': 1, 'visa': {'hdfc': 1, 'icic': 'gold'}}"
      ]
     },
     "execution_count": 281,
     "metadata": {},
     "output_type": "execute_result"
    }
   ],
   "source": [
    "wallet['cards']"
   ]
  },
  {
   "cell_type": "code",
   "execution_count": 282,
   "metadata": {},
   "outputs": [
    {
     "data": {
      "text/plain": [
       "{'hdfc': 1, 'icic': 'gold'}"
      ]
     },
     "execution_count": 282,
     "metadata": {},
     "output_type": "execute_result"
    }
   ],
   "source": [
    "wallet['cards']['visa']"
   ]
  },
  {
   "cell_type": "code",
   "execution_count": 283,
   "metadata": {},
   "outputs": [
    {
     "data": {
      "text/plain": [
       "'gold'"
      ]
     },
     "execution_count": 283,
     "metadata": {},
     "output_type": "execute_result"
    }
   ],
   "source": [
    "wallet['cards']['visa']['icic']"
   ]
  },
  {
   "cell_type": "code",
   "execution_count": 284,
   "metadata": {},
   "outputs": [
    {
     "data": {
      "text/plain": [
       "'d'"
      ]
     },
     "execution_count": 284,
     "metadata": {},
     "output_type": "execute_result"
    }
   ],
   "source": [
    "wallet['cards']['visa']['icic'][-1]"
   ]
  },
  {
   "cell_type": "code",
   "execution_count": 285,
   "metadata": {},
   "outputs": [
    {
     "name": "stdout",
     "output_type": "stream",
     "text": [
      "cards\n",
      "cash\n",
      "candies\n"
     ]
    }
   ],
   "source": [
    "# iterate on dict\n",
    "\n",
    "for item in wallet:\n",
    "    print(item)"
   ]
  },
  {
   "cell_type": "code",
   "execution_count": 286,
   "metadata": {},
   "outputs": [
    {
     "name": "stdout",
     "output_type": "stream",
     "text": [
      "{'amex': 1, 'visa': {'hdfc': 1, 'icic': 'gold'}}\n",
      "1800\n",
      "9\n"
     ]
    }
   ],
   "source": [
    "# iterate on dict\n",
    "\n",
    "for item in wallet:\n",
    "    print(wallet[item])"
   ]
  },
  {
   "cell_type": "code",
   "execution_count": 288,
   "metadata": {},
   "outputs": [
    {
     "name": "stdout",
     "output_type": "stream",
     "text": [
      "cards -----> {'amex': 1, 'visa': {'hdfc': 1, 'icic': 'gold'}}\n",
      "cash -----> 1800\n",
      "candies -----> 9\n"
     ]
    }
   ],
   "source": [
    "# iterate on dict\n",
    "\n",
    "for item in wallet:\n",
    "    print(item, '----->', wallet[item])"
   ]
  },
  {
   "cell_type": "code",
   "execution_count": 289,
   "metadata": {},
   "outputs": [
    {
     "name": "stdout",
     "output_type": "stream",
     "text": [
      "cards -----> {'amex': 1, 'visa': {'hdfc': 1, 'icic': 'gold'}}\n",
      "cash -----> 1800\n",
      "candies -----> 9\n"
     ]
    }
   ],
   "source": [
    "for item in wallet.keys():\n",
    "    print(item, '----->', wallet[item])"
   ]
  },
  {
   "cell_type": "code",
   "execution_count": 290,
   "metadata": {},
   "outputs": [
    {
     "data": {
      "text/plain": [
       "dict_values([{'amex': 1, 'visa': {'hdfc': 1, 'icic': 'gold'}}, 1800, 9])"
      ]
     },
     "execution_count": 290,
     "metadata": {},
     "output_type": "execute_result"
    }
   ],
   "source": [
    "wallet.values()"
   ]
  },
  {
   "cell_type": "code",
   "execution_count": 291,
   "metadata": {},
   "outputs": [
    {
     "name": "stdout",
     "output_type": "stream",
     "text": [
      "{'amex': 1, 'visa': {'hdfc': 1, 'icic': 'gold'}}\n",
      "1800\n",
      "9\n"
     ]
    }
   ],
   "source": [
    "for item in wallet.values():\n",
    "    print(item)"
   ]
  },
  {
   "cell_type": "code",
   "execution_count": 294,
   "metadata": {},
   "outputs": [
    {
     "name": "stdout",
     "output_type": "stream",
     "text": [
      "key:cards value:{'amex': 1, 'visa': {'hdfc': 1, 'icic': 'gold'}}\n",
      "key:cash value:1800\n",
      "key:candies value:9\n"
     ]
    }
   ],
   "source": [
    "for key, value in wallet.items():\n",
    "    print(\"key:%s value:%s\" %(key,value))"
   ]
  },
  {
   "cell_type": "code",
   "execution_count": 295,
   "metadata": {},
   "outputs": [
    {
     "data": {
      "text/plain": [
       "{'cards': {'amex': 1, 'visa': {'hdfc': 1, 'icic': 'gold'}},\n",
       " 'cash': 1800,\n",
       " 'candies': 9}"
      ]
     },
     "execution_count": 295,
     "metadata": {},
     "output_type": "execute_result"
    }
   ],
   "source": [
    "wallet"
   ]
  },
  {
   "cell_type": "code",
   "execution_count": 296,
   "metadata": {},
   "outputs": [],
   "source": [
    "del wallet['candies']"
   ]
  },
  {
   "cell_type": "code",
   "execution_count": 297,
   "metadata": {},
   "outputs": [
    {
     "data": {
      "text/plain": [
       "{'cards': {'amex': 1, 'visa': {'hdfc': 1, 'icic': 'gold'}}, 'cash': 1800}"
      ]
     },
     "execution_count": 297,
     "metadata": {},
     "output_type": "execute_result"
    }
   ],
   "source": [
    "wallet"
   ]
  },
  {
   "cell_type": "code",
   "execution_count": 298,
   "metadata": {},
   "outputs": [
    {
     "data": {
      "text/plain": [
       "1800"
      ]
     },
     "execution_count": 298,
     "metadata": {},
     "output_type": "execute_result"
    }
   ],
   "source": [
    "wallet.pop('cash')"
   ]
  },
  {
   "cell_type": "code",
   "execution_count": 299,
   "metadata": {},
   "outputs": [
    {
     "data": {
      "text/plain": [
       "{'cards': {'amex': 1, 'visa': {'hdfc': 1, 'icic': 'gold'}}}"
      ]
     },
     "execution_count": 299,
     "metadata": {},
     "output_type": "execute_result"
    }
   ],
   "source": [
    "wallet"
   ]
  },
  {
   "cell_type": "code",
   "execution_count": 300,
   "metadata": {},
   "outputs": [
    {
     "ename": "KeyError",
     "evalue": "'cash'",
     "output_type": "error",
     "traceback": [
      "\u001b[0;31m---------------------------------------------------------------------------\u001b[0m",
      "\u001b[0;31mKeyError\u001b[0m                                  Traceback (most recent call last)",
      "\u001b[0;32m<ipython-input-300-07638a43b7f6>\u001b[0m in \u001b[0;36m<module>\u001b[0;34m\u001b[0m\n\u001b[0;32m----> 1\u001b[0;31m \u001b[0mwallet\u001b[0m\u001b[0;34m.\u001b[0m\u001b[0mpop\u001b[0m\u001b[0;34m(\u001b[0m\u001b[0;34m'cash'\u001b[0m\u001b[0;34m)\u001b[0m\u001b[0;34m\u001b[0m\u001b[0;34m\u001b[0m\u001b[0m\n\u001b[0m",
      "\u001b[0;31mKeyError\u001b[0m: 'cash'"
     ]
    }
   ],
   "source": [
    "wallet.pop('cash')"
   ]
  },
  {
   "cell_type": "code",
   "execution_count": 301,
   "metadata": {},
   "outputs": [],
   "source": [
    "wallet.pop('cash', None)"
   ]
  },
  {
   "cell_type": "code",
   "execution_count": 302,
   "metadata": {},
   "outputs": [
    {
     "data": {
      "text/plain": [
       "{'cards': {'amex': 1, 'visa': {'hdfc': 1, 'icic': 'gold'}}}"
      ]
     },
     "execution_count": 302,
     "metadata": {},
     "output_type": "execute_result"
    }
   ],
   "source": [
    "wallet"
   ]
  },
  {
   "cell_type": "code",
   "execution_count": 304,
   "metadata": {},
   "outputs": [
    {
     "data": {
      "text/plain": [
       "('cards', {'amex': 1, 'visa': {'hdfc': 1, 'icic': 'gold'}})"
      ]
     },
     "execution_count": 304,
     "metadata": {},
     "output_type": "execute_result"
    }
   ],
   "source": [
    "wallet.popitem()"
   ]
  },
  {
   "cell_type": "code",
   "execution_count": 305,
   "metadata": {},
   "outputs": [
    {
     "data": {
      "text/plain": [
       "{}"
      ]
     },
     "execution_count": 305,
     "metadata": {},
     "output_type": "execute_result"
    }
   ],
   "source": [
    "wallet"
   ]
  },
  {
   "cell_type": "code",
   "execution_count": 306,
   "metadata": {},
   "outputs": [
    {
     "data": {
      "text/plain": [
       "['__class__',\n",
       " '__contains__',\n",
       " '__delattr__',\n",
       " '__delitem__',\n",
       " '__dir__',\n",
       " '__doc__',\n",
       " '__eq__',\n",
       " '__format__',\n",
       " '__ge__',\n",
       " '__getattribute__',\n",
       " '__getitem__',\n",
       " '__gt__',\n",
       " '__hash__',\n",
       " '__init__',\n",
       " '__init_subclass__',\n",
       " '__iter__',\n",
       " '__le__',\n",
       " '__len__',\n",
       " '__lt__',\n",
       " '__ne__',\n",
       " '__new__',\n",
       " '__reduce__',\n",
       " '__reduce_ex__',\n",
       " '__repr__',\n",
       " '__reversed__',\n",
       " '__setattr__',\n",
       " '__setitem__',\n",
       " '__sizeof__',\n",
       " '__str__',\n",
       " '__subclasshook__',\n",
       " 'clear',\n",
       " 'copy',\n",
       " 'fromkeys',\n",
       " 'get',\n",
       " 'items',\n",
       " 'keys',\n",
       " 'pop',\n",
       " 'popitem',\n",
       " 'setdefault',\n",
       " 'update',\n",
       " 'values']"
      ]
     },
     "execution_count": 306,
     "metadata": {},
     "output_type": "execute_result"
    }
   ],
   "source": [
    "dir(wallet)"
   ]
  },
  {
   "cell_type": "code",
   "execution_count": 307,
   "metadata": {},
   "outputs": [],
   "source": [
    "wallet['cards'] =  {\"amex\":1, \"visa\":{\"hdfc\":1, \"icic\":'gold'}}"
   ]
  },
  {
   "cell_type": "code",
   "execution_count": 308,
   "metadata": {},
   "outputs": [],
   "source": [
    "del wallet['cards']['visa']['icic']"
   ]
  },
  {
   "cell_type": "code",
   "execution_count": 309,
   "metadata": {},
   "outputs": [
    {
     "data": {
      "text/plain": [
       "{'cards': {'amex': 1, 'visa': {'hdfc': 1}}}"
      ]
     },
     "execution_count": 309,
     "metadata": {},
     "output_type": "execute_result"
    }
   ],
   "source": [
    "wallet"
   ]
  },
  {
   "cell_type": "code",
   "execution_count": 311,
   "metadata": {},
   "outputs": [
    {
     "name": "stdout",
     "output_type": "stream",
     "text": [
      "first level cards {'amex': 1, 'visa': {'hdfc': 1}}\n",
      "inside amex 1\n",
      "inside visa {'hdfc': 1}\n"
     ]
    }
   ],
   "source": [
    "for k, v in wallet.items():\n",
    "    print(\"first level\", k, v)\n",
    "    if isinstance(v, dict):\n",
    "        for k1, v1 in v.items():\n",
    "            print(\"inside\", k1,v1)"
   ]
  },
  {
   "cell_type": "code",
   "execution_count": 313,
   "metadata": {},
   "outputs": [],
   "source": [
    "# tuple\n",
    "a = {}\n",
    "a ['d'] = 10\n",
    "a['d'] = 14"
   ]
  },
  {
   "cell_type": "code",
   "execution_count": 314,
   "metadata": {},
   "outputs": [
    {
     "data": {
      "text/plain": [
       "{'d': 10, 'd ': 14}"
      ]
     },
     "execution_count": 314,
     "metadata": {},
     "output_type": "execute_result"
    }
   ],
   "source": [
    "a"
   ]
  },
  {
   "cell_type": "code",
   "execution_count": 315,
   "metadata": {},
   "outputs": [],
   "source": [
    "tp = (34, 7.6, 7, 'data', 66)"
   ]
  },
  {
   "cell_type": "code",
   "execution_count": 316,
   "metadata": {},
   "outputs": [
    {
     "data": {
      "text/plain": [
       "(34, 7.6, 7, 'data', 66)"
      ]
     },
     "execution_count": 316,
     "metadata": {},
     "output_type": "execute_result"
    }
   ],
   "source": [
    "tp"
   ]
  },
  {
   "cell_type": "code",
   "execution_count": 317,
   "metadata": {},
   "outputs": [
    {
     "data": {
      "text/plain": [
       "tuple"
      ]
     },
     "execution_count": 317,
     "metadata": {},
     "output_type": "execute_result"
    }
   ],
   "source": [
    "type(tp)"
   ]
  },
  {
   "cell_type": "code",
   "execution_count": 318,
   "metadata": {},
   "outputs": [
    {
     "data": {
      "text/plain": [
       "66"
      ]
     },
     "execution_count": 318,
     "metadata": {},
     "output_type": "execute_result"
    }
   ],
   "source": [
    "tp[-1]"
   ]
  },
  {
   "cell_type": "code",
   "execution_count": 319,
   "metadata": {},
   "outputs": [
    {
     "data": {
      "text/plain": [
       "(34, 7.6, 7, 'data')"
      ]
     },
     "execution_count": 319,
     "metadata": {},
     "output_type": "execute_result"
    }
   ],
   "source": [
    "tp[:4]"
   ]
  },
  {
   "cell_type": "code",
   "execution_count": 320,
   "metadata": {},
   "outputs": [],
   "source": [
    "tp = tp + (1,2,)"
   ]
  },
  {
   "cell_type": "code",
   "execution_count": 321,
   "metadata": {},
   "outputs": [
    {
     "data": {
      "text/plain": [
       "(34, 7.6, 7, 'data', 66, 1, 2)"
      ]
     },
     "execution_count": 321,
     "metadata": {},
     "output_type": "execute_result"
    }
   ],
   "source": [
    "tp"
   ]
  },
  {
   "cell_type": "code",
   "execution_count": 322,
   "metadata": {},
   "outputs": [
    {
     "data": {
      "text/plain": [
       "(34, 7.6, 7, 'data', 66, 1, 2)"
      ]
     },
     "execution_count": 322,
     "metadata": {},
     "output_type": "execute_result"
    }
   ],
   "source": [
    "tp"
   ]
  },
  {
   "cell_type": "code",
   "execution_count": 323,
   "metadata": {},
   "outputs": [
    {
     "data": {
      "text/plain": [
       "140578950228960"
      ]
     },
     "execution_count": 323,
     "metadata": {},
     "output_type": "execute_result"
    }
   ],
   "source": [
    "id(tp)"
   ]
  },
  {
   "cell_type": "code",
   "execution_count": 324,
   "metadata": {},
   "outputs": [],
   "source": [
    "tp = tp + (5,4,)"
   ]
  },
  {
   "cell_type": "code",
   "execution_count": 325,
   "metadata": {},
   "outputs": [
    {
     "data": {
      "text/plain": [
       "(34, 7.6, 7, 'data', 66, 1, 2, 5, 4)"
      ]
     },
     "execution_count": 325,
     "metadata": {},
     "output_type": "execute_result"
    }
   ],
   "source": [
    "tp"
   ]
  },
  {
   "cell_type": "code",
   "execution_count": 326,
   "metadata": {},
   "outputs": [
    {
     "data": {
      "text/plain": [
       "140578947471728"
      ]
     },
     "execution_count": 326,
     "metadata": {},
     "output_type": "execute_result"
    }
   ],
   "source": [
    "id(tp)"
   ]
  },
  {
   "cell_type": "code",
   "execution_count": 327,
   "metadata": {},
   "outputs": [
    {
     "data": {
      "text/plain": [
       "34"
      ]
     },
     "execution_count": 327,
     "metadata": {},
     "output_type": "execute_result"
    }
   ],
   "source": [
    "tp[0]"
   ]
  },
  {
   "cell_type": "code",
   "execution_count": 328,
   "metadata": {},
   "outputs": [
    {
     "ename": "TypeError",
     "evalue": "'tuple' object does not support item assignment",
     "output_type": "error",
     "traceback": [
      "\u001b[0;31m---------------------------------------------------------------------------\u001b[0m",
      "\u001b[0;31mTypeError\u001b[0m                                 Traceback (most recent call last)",
      "\u001b[0;32m<ipython-input-328-31a2bcf0362e>\u001b[0m in \u001b[0;36m<module>\u001b[0;34m\u001b[0m\n\u001b[0;32m----> 1\u001b[0;31m \u001b[0mtp\u001b[0m\u001b[0;34m[\u001b[0m\u001b[0;36m0\u001b[0m\u001b[0;34m]\u001b[0m \u001b[0;34m=\u001b[0m \u001b[0;36m50\u001b[0m\u001b[0;34m\u001b[0m\u001b[0;34m\u001b[0m\u001b[0m\n\u001b[0m",
      "\u001b[0;31mTypeError\u001b[0m: 'tuple' object does not support item assignment"
     ]
    }
   ],
   "source": [
    "tp[0] = 50"
   ]
  },
  {
   "cell_type": "code",
   "execution_count": 329,
   "metadata": {},
   "outputs": [],
   "source": [
    "tp = ((1,2,3),7,(56,67,78),(6,7,8))"
   ]
  },
  {
   "cell_type": "code",
   "execution_count": 330,
   "metadata": {},
   "outputs": [
    {
     "data": {
      "text/plain": [
       "((1, 2, 3), 7, (56, 67, 78), (6, 7, 8))"
      ]
     },
     "execution_count": 330,
     "metadata": {},
     "output_type": "execute_result"
    }
   ],
   "source": [
    "tp"
   ]
  },
  {
   "cell_type": "code",
   "execution_count": 331,
   "metadata": {
    "scrolled": true
   },
   "outputs": [
    {
     "name": "stdout",
     "output_type": "stream",
     "text": [
      "(1, 2, 3)\n",
      "7\n",
      "(56, 67, 78)\n",
      "(6, 7, 8)\n"
     ]
    }
   ],
   "source": [
    "for i in tp:\n",
    "    print(i)"
   ]
  },
  {
   "cell_type": "code",
   "execution_count": 334,
   "metadata": {},
   "outputs": [
    {
     "name": "stdout",
     "output_type": "stream",
     "text": [
      "1\n",
      "2\n",
      "3\n",
      "7\n",
      "56\n",
      "67\n",
      "78\n",
      "6\n",
      "7\n",
      "8\n"
     ]
    }
   ],
   "source": [
    "# isinstance ( tuple)\n",
    "# for \n",
    "\n",
    "for i in tp:\n",
    "    if isinstance(i , int):\n",
    "        print(i)\n",
    "    if isinstance(i, tuple):\n",
    "        for v in i:\n",
    "            print(v)\n",
    "    \n"
   ]
  },
  {
   "cell_type": "code",
   "execution_count": 335,
   "metadata": {},
   "outputs": [
    {
     "data": {
      "text/plain": [
       "['__add__',\n",
       " '__class__',\n",
       " '__contains__',\n",
       " '__delattr__',\n",
       " '__dir__',\n",
       " '__doc__',\n",
       " '__eq__',\n",
       " '__format__',\n",
       " '__ge__',\n",
       " '__getattribute__',\n",
       " '__getitem__',\n",
       " '__getnewargs__',\n",
       " '__gt__',\n",
       " '__hash__',\n",
       " '__init__',\n",
       " '__init_subclass__',\n",
       " '__iter__',\n",
       " '__le__',\n",
       " '__len__',\n",
       " '__lt__',\n",
       " '__mul__',\n",
       " '__ne__',\n",
       " '__new__',\n",
       " '__reduce__',\n",
       " '__reduce_ex__',\n",
       " '__repr__',\n",
       " '__rmul__',\n",
       " '__setattr__',\n",
       " '__sizeof__',\n",
       " '__str__',\n",
       " '__subclasshook__',\n",
       " 'count',\n",
       " 'index']"
      ]
     },
     "execution_count": 335,
     "metadata": {},
     "output_type": "execute_result"
    }
   ],
   "source": [
    "dir(tp)"
   ]
  },
  {
   "cell_type": "code",
   "execution_count": 339,
   "metadata": {},
   "outputs": [
    {
     "data": {
      "text/plain": [
       "0"
      ]
     },
     "execution_count": 339,
     "metadata": {},
     "output_type": "execute_result"
    }
   ],
   "source": []
  },
  {
   "cell_type": "code",
   "execution_count": 341,
   "metadata": {},
   "outputs": [
    {
     "name": "stdout",
     "output_type": "stream",
     "text": [
      "1. Create the employee information\n",
      "2. Update the employee details\n",
      "3. Delete Employee\n",
      "4. Display\n",
      "5. Exit\n",
      "Enter your choice[1-4]:1\n",
      "Enter the name:onkar\n",
      "Enter employee id:101\n",
      "Enter the phone number:9665544\n",
      "Technologies [comma seprated e.g: C++, python, java]python, java, c++\n",
      "1. Create the employee information\n",
      "2. Update the employee details\n",
      "3. Delete Employee\n",
      "4. Display\n",
      "5. Exit\n",
      "Enter your choice[1-4]:4\n",
      "{101: {'name': 'onkar', 'phone': '9665544', 'tech': ['python', ' java', ' c++']}}\n",
      "1. Create the employee information\n",
      "2. Update the employee details\n",
      "3. Delete Employee\n",
      "4. Display\n",
      "5. Exit\n",
      "Enter your choice[1-4]:2\n",
      "Whose details you want to update?. Please enter emp_id:101\n",
      "name(onkar)\n",
      "phone(9665544)7878288282\n",
      "tech(['python', ' java', ' c++'])\n",
      "1. Create the employee information\n",
      "2. Update the employee details\n",
      "3. Delete Employee\n",
      "4. Display\n",
      "5. Exit\n",
      "Enter your choice[1-4]:4\n",
      "{101: {'name': 'onkar', 'phone': '7878288282', 'tech': ['python', ' java', ' c++']}}\n",
      "1. Create the employee information\n",
      "2. Update the employee details\n",
      "3. Delete Employee\n",
      "4. Display\n",
      "5. Exit\n",
      "Enter your choice[1-4]:5\n"
     ]
    }
   ],
   "source": [
    "# create emp pgm\n",
    "emp_info = {}\n",
    "while True:\n",
    "    print(\"1. Create the employee information\")\n",
    "    print(\"2. Update the employee details\")\n",
    "    print(\"3. Delete Employee\")\n",
    "    print(\"4. Display\")\n",
    "    print(\"5. Exit\")\n",
    "    ch = int(input(\"Enter your choice[1-4]:\"))\n",
    "    if ch==1:\n",
    "        name = input(\"Enter the name:\")\n",
    "        emp_id = int(input(\"Enter employee id:\"))\n",
    "        ph=input(\"Enter the phone number:\")\n",
    "        tech = input(\"Technologies [comma seprated e.g: C++, python, java]\")\n",
    "        emp_info[emp_id] = {\"name\":name, \"phone\":ph, \"tech\": tech.split(\",\")}\n",
    "    elif ch==2:\n",
    "        emp_id = int(input(\"Whose details you want to update?. Please enter emp_id:\"))\n",
    "        if emp_id not in emp_info:\n",
    "            print(\"Emp details not found\") \n",
    "        else:\n",
    "            rec = emp_info[emp_id]\n",
    "            for key, value in rec.items():\n",
    "                new = input(\"{}({})\".format(key, value))\n",
    "                emp_info[emp_id][key] = value \n",
    "                if new == '' :\n",
    "                    emp_info[emp_id][key] = value \n",
    "                else:\n",
    "                    emp_info[emp_id][key] = new \n",
    "            \n",
    "    elif ch==3:\n",
    "        \n",
    "        # take input from user as emp_id to be deleted\n",
    "        # check emp_id present in dict or not\n",
    "        # perform deletion using del method or pop\n",
    "        emp_id = int(input(\"Enter the emp id\"))\n",
    "        if emp_id in emp_info:\n",
    "            del emp_info[emp_id]\n",
    "        else:\n",
    "            print(\"Emp record not found....\")\n",
    "    elif ch ==4:\n",
    "        print(emp_info)\n",
    "    else:\n",
    "        break\n",
    "            \n",
    "        \n",
    "    "
   ]
  },
  {
   "cell_type": "code",
   "execution_count": 348,
   "metadata": {},
   "outputs": [],
   "source": [
    "d = {'a':1, \"b\":3}"
   ]
  },
  {
   "cell_type": "code",
   "execution_count": 349,
   "metadata": {},
   "outputs": [
    {
     "data": {
      "text/plain": [
       "140578950433536"
      ]
     },
     "execution_count": 349,
     "metadata": {},
     "output_type": "execute_result"
    }
   ],
   "source": [
    "id(d)"
   ]
  },
  {
   "cell_type": "code",
   "execution_count": 350,
   "metadata": {},
   "outputs": [],
   "source": [
    "d['a'] = 40"
   ]
  },
  {
   "cell_type": "code",
   "execution_count": 351,
   "metadata": {},
   "outputs": [
    {
     "data": {
      "text/plain": [
       "140578950433536"
      ]
     },
     "execution_count": 351,
     "metadata": {},
     "output_type": "execute_result"
    }
   ],
   "source": [
    "id(d)"
   ]
  },
  {
   "cell_type": "code",
   "execution_count": null,
   "metadata": {},
   "outputs": [],
   "source": [
    "# argparser\n",
    "python abc.py --name 'onkar', --address 'pune'\n"
   ]
  },
  {
   "cell_type": "code",
   "execution_count": null,
   "metadata": {},
   "outputs": [],
   "source": []
  },
  {
   "cell_type": "code",
   "execution_count": 347,
   "metadata": {},
   "outputs": [
    {
     "data": {
      "text/plain": [
       "140578951635072"
      ]
     },
     "execution_count": 347,
     "metadata": {},
     "output_type": "execute_result"
    }
   ],
   "source": [
    "id(d)"
   ]
  },
  {
   "cell_type": "code",
   "execution_count": null,
   "metadata": {},
   "outputs": [],
   "source": [
    "# list"
   ]
  },
  {
   "cell_type": "code",
   "execution_count": 352,
   "metadata": {},
   "outputs": [
    {
     "name": "stdout",
     "output_type": "stream",
     "text": [
      "0\n",
      "1\n",
      "2\n",
      "3\n",
      "4\n",
      "5\n",
      "6\n",
      "7\n",
      "8\n",
      "9\n"
     ]
    }
   ],
   "source": [
    "for i in range(10):\n",
    "    print(i)"
   ]
  },
  {
   "cell_type": "code",
   "execution_count": 354,
   "metadata": {},
   "outputs": [
    {
     "data": {
      "text/plain": [
       "[0, 1, 2, 3, 4, 5, 6, 7, 8, 9]"
      ]
     },
     "execution_count": 354,
     "metadata": {},
     "output_type": "execute_result"
    }
   ],
   "source": [
    "[i for i in range(10)]"
   ]
  },
  {
   "cell_type": "code",
   "execution_count": 356,
   "metadata": {},
   "outputs": [
    {
     "data": {
      "text/plain": [
       "[0, 2, 4, 6, 8]"
      ]
     },
     "execution_count": 356,
     "metadata": {},
     "output_type": "execute_result"
    }
   ],
   "source": [
    "[i for i in range(10) if i%2==0 ]"
   ]
  },
  {
   "cell_type": "code",
   "execution_count": null,
   "metadata": {},
   "outputs": [],
   "source": []
  },
  {
   "cell_type": "code",
   "execution_count": 355,
   "metadata": {},
   "outputs": [
    {
     "name": "stdout",
     "output_type": "stream",
     "text": [
      "0\n",
      "2\n",
      "4\n",
      "6\n",
      "8\n"
     ]
    }
   ],
   "source": [
    "for i in range(10):\n",
    "    if i%2==0:\n",
    "        print(i)"
   ]
  },
  {
   "cell_type": "code",
   "execution_count": 357,
   "metadata": {},
   "outputs": [
    {
     "name": "stdout",
     "output_type": "stream",
     "text": [
      "10\n"
     ]
    }
   ],
   "source": [
    "x = 10\n",
    "y = 20\n",
    "if x > y:\n",
    "    print(x-y)\n",
    "else:\n",
    "    print(y-x)"
   ]
  },
  {
   "cell_type": "code",
   "execution_count": 358,
   "metadata": {},
   "outputs": [
    {
     "name": "stdout",
     "output_type": "stream",
     "text": [
      "10\n"
     ]
    }
   ],
   "source": [
    "print(x-y if x>y else y-x)"
   ]
  },
  {
   "cell_type": "code",
   "execution_count": 360,
   "metadata": {},
   "outputs": [
    {
     "name": "stdout",
     "output_type": "stream",
     "text": [
      "Enter the a number for which you want to see square:2\n",
      "64\n"
     ]
    }
   ],
   "source": [
    "n = [1,2,3,4,5,6,7,8]\n",
    "num = int(input(\"Enter the a number for which you want to see square:\"))\n",
    "squares = []\n",
    "for num in n:\n",
    "    squares.append(num**2)\n",
    "idx_pos = n.index(num)\n",
    "print(squares[idx_pos])"
   ]
  },
  {
   "cell_type": "code",
   "execution_count": 361,
   "metadata": {},
   "outputs": [
    {
     "name": "stdout",
     "output_type": "stream",
     "text": [
      "Enter the a number for which you want to see square:2\n",
      "squares: [1, 4, 9, 16, 25, 36, 49, 64]\n"
     ]
    }
   ],
   "source": [
    "num = int(input(\"Enter the a number for which you want to see square:\"))\n",
    "squares = [num**2 for num in n]\n",
    "print(\"squares:\",squares)\n"
   ]
  },
  {
   "cell_type": "code",
   "execution_count": 362,
   "metadata": {},
   "outputs": [
    {
     "data": {
      "text/plain": [
       "{1: 1, 2: 4, 3: 9, 4: 16, 5: 25}"
      ]
     },
     "execution_count": 362,
     "metadata": {},
     "output_type": "execute_result"
    }
   ],
   "source": [
    "{k:k**2 for k in range(1,6)}"
   ]
  },
  {
   "cell_type": "code",
   "execution_count": 364,
   "metadata": {},
   "outputs": [],
   "source": [
    "tp = (45, 77, 109, 'data', ['alex', 'john'])\n"
   ]
  },
  {
   "cell_type": "code",
   "execution_count": null,
   "metadata": {},
   "outputs": [],
   "source": []
  },
  {
   "cell_type": "code",
   "execution_count": 365,
   "metadata": {},
   "outputs": [
    {
     "data": {
      "text/plain": [
       "{0: 45, 1: 77, 2: 109, 3: 'data', 4: ['alex', 'john']}"
      ]
     },
     "execution_count": 365,
     "metadata": {},
     "output_type": "execute_result"
    }
   ],
   "source": [
    "{k: tp[k] for k in range(len(tp))}"
   ]
  },
  {
   "cell_type": "code",
   "execution_count": 366,
   "metadata": {},
   "outputs": [
    {
     "data": {
      "text/plain": [
       "{0: 45, 1: 77, 2: 109, 3: 'data', 4: ['alex', 'john']}"
      ]
     },
     "execution_count": 366,
     "metadata": {},
     "output_type": "execute_result"
    }
   ],
   "source": [
    "{tp.index(v):v for v in tp}"
   ]
  },
  {
   "cell_type": "code",
   "execution_count": 367,
   "metadata": {},
   "outputs": [],
   "source": [
    "tp = (1, 2,3, [40,44])"
   ]
  },
  {
   "cell_type": "code",
   "execution_count": 368,
   "metadata": {},
   "outputs": [
    {
     "data": {
      "text/plain": [
       "[40, 44]"
      ]
     },
     "execution_count": 368,
     "metadata": {},
     "output_type": "execute_result"
    }
   ],
   "source": [
    "tp[3]"
   ]
  },
  {
   "cell_type": "code",
   "execution_count": 369,
   "metadata": {},
   "outputs": [
    {
     "data": {
      "text/plain": [
       "140578953232272"
      ]
     },
     "execution_count": 369,
     "metadata": {},
     "output_type": "execute_result"
    }
   ],
   "source": [
    "id(tp)"
   ]
  },
  {
   "cell_type": "code",
   "execution_count": 375,
   "metadata": {},
   "outputs": [
    {
     "data": {
      "text/plain": [
       "4348592896"
      ]
     },
     "execution_count": 375,
     "metadata": {},
     "output_type": "execute_result"
    }
   ],
   "source": [
    "id(tp[3][0])"
   ]
  },
  {
   "cell_type": "code",
   "execution_count": 376,
   "metadata": {},
   "outputs": [
    {
     "ename": "TypeError",
     "evalue": "'tuple' object does not support item assignment",
     "output_type": "error",
     "traceback": [
      "\u001b[0;31m---------------------------------------------------------------------------\u001b[0m",
      "\u001b[0;31mTypeError\u001b[0m                                 Traceback (most recent call last)",
      "\u001b[0;32m<ipython-input-376-652142f42d0a>\u001b[0m in \u001b[0;36m<module>\u001b[0;34m\u001b[0m\n\u001b[0;32m----> 1\u001b[0;31m \u001b[0mtp\u001b[0m\u001b[0;34m[\u001b[0m\u001b[0;36m3\u001b[0m\u001b[0;34m]\u001b[0m \u001b[0;34m=\u001b[0m \u001b[0;36m10\u001b[0m\u001b[0;34m\u001b[0m\u001b[0;34m\u001b[0m\u001b[0m\n\u001b[0m",
      "\u001b[0;31mTypeError\u001b[0m: 'tuple' object does not support item assignment"
     ]
    }
   ],
   "source": [
    "tp[3] = 10"
   ]
  },
  {
   "cell_type": "code",
   "execution_count": 377,
   "metadata": {},
   "outputs": [
    {
     "data": {
      "text/plain": [
       "140578951586944"
      ]
     },
     "execution_count": 377,
     "metadata": {},
     "output_type": "execute_result"
    }
   ],
   "source": [
    "id(tp[3])"
   ]
  },
  {
   "cell_type": "code",
   "execution_count": 378,
   "metadata": {},
   "outputs": [
    {
     "data": {
      "text/plain": [
       "[78, 44]"
      ]
     },
     "execution_count": 378,
     "metadata": {},
     "output_type": "execute_result"
    }
   ],
   "source": [
    "tp[3]"
   ]
  },
  {
   "cell_type": "code",
   "execution_count": 379,
   "metadata": {},
   "outputs": [
    {
     "data": {
      "text/plain": [
       "4348592896"
      ]
     },
     "execution_count": 379,
     "metadata": {},
     "output_type": "execute_result"
    }
   ],
   "source": [
    "id(tp[3][0])"
   ]
  },
  {
   "cell_type": "code",
   "execution_count": 380,
   "metadata": {},
   "outputs": [],
   "source": [
    "tp[3][0] = 100"
   ]
  },
  {
   "cell_type": "code",
   "execution_count": 381,
   "metadata": {},
   "outputs": [
    {
     "data": {
      "text/plain": [
       "140578951586944"
      ]
     },
     "execution_count": 381,
     "metadata": {},
     "output_type": "execute_result"
    }
   ],
   "source": [
    "id(tp[3])"
   ]
  },
  {
   "cell_type": "code",
   "execution_count": 382,
   "metadata": {},
   "outputs": [
    {
     "data": {
      "text/plain": [
       "4348593600"
      ]
     },
     "execution_count": 382,
     "metadata": {},
     "output_type": "execute_result"
    }
   ],
   "source": [
    "id(tp[3][0])"
   ]
  },
  {
   "cell_type": "code",
   "execution_count": 383,
   "metadata": {},
   "outputs": [
    {
     "data": {
      "text/plain": [
       "[100, 44]"
      ]
     },
     "execution_count": 383,
     "metadata": {},
     "output_type": "execute_result"
    }
   ],
   "source": [
    "tp[3]"
   ]
  },
  {
   "cell_type": "code",
   "execution_count": null,
   "metadata": {},
   "outputs": [],
   "source": []
  },
  {
   "cell_type": "code",
   "execution_count": null,
   "metadata": {},
   "outputs": [],
   "source": []
  },
  {
   "cell_type": "code",
   "execution_count": null,
   "metadata": {},
   "outputs": [],
   "source": []
  },
  {
   "cell_type": "code",
   "execution_count": 371,
   "metadata": {},
   "outputs": [
    {
     "data": {
      "text/plain": [
       "(1, 2, 3, [78, 44])"
      ]
     },
     "execution_count": 371,
     "metadata": {},
     "output_type": "execute_result"
    }
   ],
   "source": [
    "tp"
   ]
  },
  {
   "cell_type": "code",
   "execution_count": 372,
   "metadata": {},
   "outputs": [
    {
     "data": {
      "text/plain": [
       "140578953232272"
      ]
     },
     "execution_count": 372,
     "metadata": {},
     "output_type": "execute_result"
    }
   ],
   "source": [
    "id(tp)"
   ]
  },
  {
   "cell_type": "code",
   "execution_count": 384,
   "metadata": {},
   "outputs": [
    {
     "name": "stdout",
     "output_type": "stream",
     "text": [
      "hi\n"
     ]
    }
   ],
   "source": [
    "print('hi')"
   ]
  },
  {
   "cell_type": "code",
   "execution_count": 385,
   "metadata": {},
   "outputs": [],
   "source": [
    "s = set()\n",
    "s1 = {2,3,4,5,6,7,8,9,10}\n"
   ]
  },
  {
   "cell_type": "code",
   "execution_count": 386,
   "metadata": {},
   "outputs": [
    {
     "data": {
      "text/plain": [
       "{2, 3, 4, 5, 6, 7, 8, 9, 10}"
      ]
     },
     "execution_count": 386,
     "metadata": {},
     "output_type": "execute_result"
    }
   ],
   "source": [
    "s1"
   ]
  },
  {
   "cell_type": "code",
   "execution_count": 387,
   "metadata": {},
   "outputs": [
    {
     "data": {
      "text/plain": [
       "set"
      ]
     },
     "execution_count": 387,
     "metadata": {},
     "output_type": "execute_result"
    }
   ],
   "source": [
    "type(s1)"
   ]
  },
  {
   "cell_type": "code",
   "execution_count": 388,
   "metadata": {},
   "outputs": [
    {
     "data": {
      "text/plain": [
       "set"
      ]
     },
     "execution_count": 388,
     "metadata": {},
     "output_type": "execute_result"
    }
   ],
   "source": [
    "type(s)"
   ]
  },
  {
   "cell_type": "code",
   "execution_count": 389,
   "metadata": {},
   "outputs": [
    {
     "data": {
      "text/plain": [
       "set()"
      ]
     },
     "execution_count": 389,
     "metadata": {},
     "output_type": "execute_result"
    }
   ],
   "source": [
    "s"
   ]
  },
  {
   "cell_type": "code",
   "execution_count": 390,
   "metadata": {},
   "outputs": [],
   "source": [
    "l = [1,1,2,2,3,3,4,4]"
   ]
  },
  {
   "cell_type": "code",
   "execution_count": 391,
   "metadata": {},
   "outputs": [
    {
     "data": {
      "text/plain": [
       "list"
      ]
     },
     "execution_count": 391,
     "metadata": {},
     "output_type": "execute_result"
    }
   ],
   "source": [
    "type(l)"
   ]
  },
  {
   "cell_type": "code",
   "execution_count": 396,
   "metadata": {},
   "outputs": [
    {
     "data": {
      "text/plain": [
       "[1, 2, 3, 4]"
      ]
     },
     "execution_count": 396,
     "metadata": {},
     "output_type": "execute_result"
    }
   ],
   "source": [
    "list(set(l))\n"
   ]
  },
  {
   "cell_type": "code",
   "execution_count": null,
   "metadata": {},
   "outputs": [],
   "source": []
  },
  {
   "cell_type": "code",
   "execution_count": 393,
   "metadata": {},
   "outputs": [
    {
     "data": {
      "text/plain": [
       "set()"
      ]
     },
     "execution_count": 393,
     "metadata": {},
     "output_type": "execute_result"
    }
   ],
   "source": [
    "s"
   ]
  },
  {
   "cell_type": "code",
   "execution_count": 394,
   "metadata": {},
   "outputs": [],
   "source": [
    "s.add(10)"
   ]
  },
  {
   "cell_type": "code",
   "execution_count": 395,
   "metadata": {},
   "outputs": [
    {
     "data": {
      "text/plain": [
       "{10}"
      ]
     },
     "execution_count": 395,
     "metadata": {},
     "output_type": "execute_result"
    }
   ],
   "source": [
    "s"
   ]
  },
  {
   "cell_type": "code",
   "execution_count": 397,
   "metadata": {},
   "outputs": [],
   "source": [
    "s1 = {1,2,3,4,5,6,7,8}\n",
    "s2 = {5,6,7,8,9,10,11}"
   ]
  },
  {
   "cell_type": "code",
   "execution_count": 398,
   "metadata": {},
   "outputs": [
    {
     "data": {
      "text/plain": [
       "{1, 2, 3, 4, 5, 6, 7, 8, 9, 10, 11}"
      ]
     },
     "execution_count": 398,
     "metadata": {},
     "output_type": "execute_result"
    }
   ],
   "source": [
    "s1.union(s2)"
   ]
  },
  {
   "cell_type": "code",
   "execution_count": 399,
   "metadata": {},
   "outputs": [
    {
     "data": {
      "text/plain": [
       "{1, 2, 3, 4}"
      ]
     },
     "execution_count": 399,
     "metadata": {},
     "output_type": "execute_result"
    }
   ],
   "source": [
    "s1.difference(s2)"
   ]
  },
  {
   "cell_type": "code",
   "execution_count": 400,
   "metadata": {},
   "outputs": [
    {
     "data": {
      "text/plain": [
       "{5, 6, 7, 8}"
      ]
     },
     "execution_count": 400,
     "metadata": {},
     "output_type": "execute_result"
    }
   ],
   "source": [
    "s1.intersection(s2)"
   ]
  },
  {
   "cell_type": "code",
   "execution_count": 401,
   "metadata": {},
   "outputs": [
    {
     "data": {
      "text/plain": [
       "{1, 2, 3, 4}"
      ]
     },
     "execution_count": 401,
     "metadata": {},
     "output_type": "execute_result"
    }
   ],
   "source": [
    "s1-s2"
   ]
  },
  {
   "cell_type": "code",
   "execution_count": 402,
   "metadata": {},
   "outputs": [
    {
     "data": {
      "text/plain": [
       "['__and__',\n",
       " '__class__',\n",
       " '__contains__',\n",
       " '__delattr__',\n",
       " '__dir__',\n",
       " '__doc__',\n",
       " '__eq__',\n",
       " '__format__',\n",
       " '__ge__',\n",
       " '__getattribute__',\n",
       " '__gt__',\n",
       " '__hash__',\n",
       " '__iand__',\n",
       " '__init__',\n",
       " '__init_subclass__',\n",
       " '__ior__',\n",
       " '__isub__',\n",
       " '__iter__',\n",
       " '__ixor__',\n",
       " '__le__',\n",
       " '__len__',\n",
       " '__lt__',\n",
       " '__ne__',\n",
       " '__new__',\n",
       " '__or__',\n",
       " '__rand__',\n",
       " '__reduce__',\n",
       " '__reduce_ex__',\n",
       " '__repr__',\n",
       " '__ror__',\n",
       " '__rsub__',\n",
       " '__rxor__',\n",
       " '__setattr__',\n",
       " '__sizeof__',\n",
       " '__str__',\n",
       " '__sub__',\n",
       " '__subclasshook__',\n",
       " '__xor__',\n",
       " 'add',\n",
       " 'clear',\n",
       " 'copy',\n",
       " 'difference',\n",
       " 'difference_update',\n",
       " 'discard',\n",
       " 'intersection',\n",
       " 'intersection_update',\n",
       " 'isdisjoint',\n",
       " 'issubset',\n",
       " 'issuperset',\n",
       " 'pop',\n",
       " 'remove',\n",
       " 'symmetric_difference',\n",
       " 'symmetric_difference_update',\n",
       " 'union',\n",
       " 'update']"
      ]
     },
     "execution_count": 402,
     "metadata": {},
     "output_type": "execute_result"
    }
   ],
   "source": [
    "dir(s)"
   ]
  },
  {
   "cell_type": "code",
   "execution_count": 403,
   "metadata": {},
   "outputs": [
    {
     "data": {
      "text/plain": [
       "10"
      ]
     },
     "execution_count": 403,
     "metadata": {},
     "output_type": "execute_result"
    }
   ],
   "source": [
    "s.pop()"
   ]
  },
  {
   "cell_type": "code",
   "execution_count": null,
   "metadata": {},
   "outputs": [],
   "source": [
    "# all the basic data type in python \n"
   ]
  },
  {
   "cell_type": "code",
   "execution_count": null,
   "metadata": {},
   "outputs": [],
   "source": [
    "# User defined functions\n",
    "\n",
    "print(\"hello akash\")\n",
    "\"welcome to python\"\n",
    "\"you age is 26\"\n",
    "\n",
    "\"hello john\"\n",
    "\"welcome to python\"\n",
    "\"your age is 788\"\n",
    "\n",
    "\n",
    "\"hello john\"\n",
    "\"welcome to python\"\n",
    "\"your age is 788\"\n",
    "\"\""
   ]
  },
  {
   "cell_type": "code",
   "execution_count": 405,
   "metadata": {},
   "outputs": [],
   "source": [
    "def greeting():\n",
    "    print(\"hello\")\n",
    "    print(\"welcome to python\")\n",
    "    print(\"your age is 26\")"
   ]
  },
  {
   "cell_type": "code",
   "execution_count": 406,
   "metadata": {},
   "outputs": [
    {
     "name": "stdout",
     "output_type": "stream",
     "text": [
      "hello\n",
      "welcome to python\n",
      "your age is 26\n"
     ]
    }
   ],
   "source": [
    "greeting()"
   ]
  },
  {
   "cell_type": "code",
   "execution_count": 407,
   "metadata": {},
   "outputs": [
    {
     "name": "stdout",
     "output_type": "stream",
     "text": [
      "hello\n",
      "welcome to python\n",
      "your age is 26\n"
     ]
    }
   ],
   "source": [
    "greeting()"
   ]
  },
  {
   "cell_type": "code",
   "execution_count": 408,
   "metadata": {},
   "outputs": [],
   "source": [
    "def greeting(name, age):\n",
    "    print(\"hello {}\".format(name))\n",
    "    print(\"welcome to python\")\n",
    "    print(\"your age is\", age)\n",
    "    "
   ]
  },
  {
   "cell_type": "code",
   "execution_count": 410,
   "metadata": {},
   "outputs": [
    {
     "name": "stdout",
     "output_type": "stream",
     "text": [
      "hello onkar\n",
      "welcome to python\n",
      "your age is 24\n"
     ]
    }
   ],
   "source": [
    "greeting('onkar', 24)"
   ]
  },
  {
   "cell_type": "code",
   "execution_count": 412,
   "metadata": {},
   "outputs": [
    {
     "name": "stdout",
     "output_type": "stream",
     "text": [
      "hello xyd\n",
      "welcome to python\n",
      "your age is 24\n"
     ]
    }
   ],
   "source": [
    "greeting('xyd', \"24\")"
   ]
  },
  {
   "cell_type": "code",
   "execution_count": null,
   "metadata": {},
   "outputs": [],
   "source": []
  },
  {
   "cell_type": "code",
   "execution_count": 413,
   "metadata": {},
   "outputs": [],
   "source": [
    "def greeting(name, age):\n",
    "    print(\"hello {}\".format(name))\n",
    "    print(\"welcome to python\")\n",
    "    if isinstance(age, (int, float)):\n",
    "        print(\"age is\", age)\n",
    "        \n",
    "    "
   ]
  },
  {
   "cell_type": "code",
   "execution_count": 414,
   "metadata": {},
   "outputs": [
    {
     "name": "stdout",
     "output_type": "stream",
     "text": [
      "hello john\n",
      "welcome to python\n",
      "age is 20\n"
     ]
    }
   ],
   "source": [
    "greeting(\"john\", 20)"
   ]
  },
  {
   "cell_type": "code",
   "execution_count": 415,
   "metadata": {},
   "outputs": [
    {
     "name": "stdout",
     "output_type": "stream",
     "text": [
      "hello john\n",
      "welcome to python\n"
     ]
    }
   ],
   "source": [
    "greeting(\"john\", \"20\")"
   ]
  },
  {
   "cell_type": "code",
   "execution_count": 417,
   "metadata": {},
   "outputs": [],
   "source": [
    "def greeting(name, age=25):\n",
    "    print(\"hello {}\".format(name))\n",
    "    print(\"welcome to python\")\n",
    "    print(\"age is\", age)"
   ]
  },
  {
   "cell_type": "code",
   "execution_count": 418,
   "metadata": {},
   "outputs": [
    {
     "name": "stdout",
     "output_type": "stream",
     "text": [
      "hello onkar\n",
      "welcome to python\n",
      "age is 28\n"
     ]
    }
   ],
   "source": [
    "greeting(\"onkar\", age=28)"
   ]
  },
  {
   "cell_type": "code",
   "execution_count": 419,
   "metadata": {},
   "outputs": [
    {
     "name": "stdout",
     "output_type": "stream",
     "text": [
      "hello onkar\n",
      "welcome to python\n",
      "age is 25\n"
     ]
    }
   ],
   "source": [
    "greeting(\"onkar\")"
   ]
  },
  {
   "cell_type": "code",
   "execution_count": 420,
   "metadata": {},
   "outputs": [],
   "source": [
    "def greeting(name='', age=25):\n",
    "    print(name)\n",
    "    print(age)"
   ]
  },
  {
   "cell_type": "code",
   "execution_count": 421,
   "metadata": {},
   "outputs": [
    {
     "name": "stdout",
     "output_type": "stream",
     "text": [
      "\n",
      "25\n"
     ]
    }
   ],
   "source": [
    "greeting()"
   ]
  },
  {
   "cell_type": "code",
   "execution_count": 422,
   "metadata": {},
   "outputs": [],
   "source": [
    "def greeting(name, age, address):\n",
    "    print(\"hello {}\".format(name))\n",
    "    print(\"welcome to python\")\n",
    "    print(\"age is\", age)\n",
    "    print(\"address\", address)"
   ]
  },
  {
   "cell_type": "code",
   "execution_count": 423,
   "metadata": {},
   "outputs": [
    {
     "ename": "TypeError",
     "evalue": "greeting() missing 1 required positional argument: 'address'",
     "output_type": "error",
     "traceback": [
      "\u001b[0;31m---------------------------------------------------------------------------\u001b[0m",
      "\u001b[0;31mTypeError\u001b[0m                                 Traceback (most recent call last)",
      "\u001b[0;32m<ipython-input-423-6e2a4c1207f6>\u001b[0m in \u001b[0;36m<module>\u001b[0;34m\u001b[0m\n\u001b[0;32m----> 1\u001b[0;31m \u001b[0mgreeting\u001b[0m\u001b[0;34m(\u001b[0m\u001b[0;34m'john'\u001b[0m\u001b[0;34m,\u001b[0m \u001b[0;36m23\u001b[0m\u001b[0;34m)\u001b[0m\u001b[0;34m\u001b[0m\u001b[0;34m\u001b[0m\u001b[0m\n\u001b[0m",
      "\u001b[0;31mTypeError\u001b[0m: greeting() missing 1 required positional argument: 'address'"
     ]
    }
   ],
   "source": [
    "greeting('john', 23)"
   ]
  },
  {
   "cell_type": "code",
   "execution_count": 424,
   "metadata": {},
   "outputs": [],
   "source": [
    "def greeting(name, age, address=None):\n",
    "    print(\"hello {}\".format(name))\n",
    "    print(\"welcome to python\")\n",
    "    print(\"age is\", age)\n",
    "    if address:\n",
    "        print(\"address\", address)\n",
    "        "
   ]
  },
  {
   "cell_type": "code",
   "execution_count": 425,
   "metadata": {},
   "outputs": [
    {
     "name": "stdout",
     "output_type": "stream",
     "text": [
      "hello john\n",
      "welcome to python\n",
      "age is 23\n"
     ]
    }
   ],
   "source": [
    "greeting('john', 23)"
   ]
  },
  {
   "cell_type": "code",
   "execution_count": 426,
   "metadata": {
    "scrolled": true
   },
   "outputs": [
    {
     "name": "stdout",
     "output_type": "stream",
     "text": [
      "hello john\n",
      "welcome to python\n",
      "age is 23\n",
      "address pune\n"
     ]
    }
   ],
   "source": [
    "greeting('john', 23, 'pune')"
   ]
  },
  {
   "cell_type": "code",
   "execution_count": 427,
   "metadata": {},
   "outputs": [],
   "source": [
    "def greeting(name, age,.,.... ph='976', addr='23 high stree'):\n",
    "    print(\"hello\", name)\n",
    "    print(\"age\", age)\n",
    "    print('phone', ph)\n",
    "    print('addr', addr)\n",
    "    "
   ]
  },
  {
   "cell_type": "code",
   "execution_count": 428,
   "metadata": {},
   "outputs": [
    {
     "name": "stdout",
     "output_type": "stream",
     "text": [
      "hello name\n",
      "age 24\n",
      "phone 976\n",
      "addr 23 high stree\n"
     ]
    }
   ],
   "source": [
    "greeting('name', 24, ph='976', addr='23 high stree')"
   ]
  },
  {
   "cell_type": "code",
   "execution_count": 429,
   "metadata": {},
   "outputs": [],
   "source": [
    "def discount(*args):\n",
    "    print(args)"
   ]
  },
  {
   "cell_type": "code",
   "execution_count": 430,
   "metadata": {},
   "outputs": [
    {
     "name": "stdout",
     "output_type": "stream",
     "text": [
      "(1,)\n"
     ]
    }
   ],
   "source": [
    "discount(1)"
   ]
  },
  {
   "cell_type": "code",
   "execution_count": 431,
   "metadata": {},
   "outputs": [
    {
     "name": "stdout",
     "output_type": "stream",
     "text": [
      "(1, 3)\n"
     ]
    }
   ],
   "source": [
    "discount(1,3)"
   ]
  },
  {
   "cell_type": "code",
   "execution_count": 432,
   "metadata": {},
   "outputs": [
    {
     "name": "stdout",
     "output_type": "stream",
     "text": [
      "(1, 34, 5, 6, 7)\n"
     ]
    }
   ],
   "source": [
    "discount(1,34,5,6,7)"
   ]
  },
  {
   "cell_type": "code",
   "execution_count": 434,
   "metadata": {},
   "outputs": [],
   "source": [
    "def discount(*args):\n",
    "    print(args[0])"
   ]
  },
  {
   "cell_type": "code",
   "execution_count": 435,
   "metadata": {},
   "outputs": [
    {
     "name": "stdout",
     "output_type": "stream",
     "text": [
      "1\n"
     ]
    }
   ],
   "source": [
    "discount(1,34,5,6,7)"
   ]
  },
  {
   "cell_type": "code",
   "execution_count": 436,
   "metadata": {},
   "outputs": [],
   "source": [
    "def discount(*args, ph='897', addr=\"24 high\"):\n",
    "    print(args[0])\n",
    "    print(\"ph\", ph)\n",
    "    print(\"addr\", addr)"
   ]
  },
  {
   "cell_type": "code",
   "execution_count": 438,
   "metadata": {},
   "outputs": [
    {
     "name": "stdout",
     "output_type": "stream",
     "text": [
      "1\n",
      "ph 900\n",
      "addr mumbai\n"
     ]
    }
   ],
   "source": [
    "discount(1,34,5,6,7, ph=900, addr='mumbai')"
   ]
  },
  {
   "cell_type": "code",
   "execution_count": 441,
   "metadata": {},
   "outputs": [],
   "source": [
    "def discount(total,discount,*args, ph='897', addr=\"24 high\"):\n",
    "    print(\"total\", total)\n",
    "    print(\"discount\", discount)\n",
    "    print(args)\n",
    "    for i in args:\n",
    "        print(i)\n",
    "    print(\"ph\", ph)\n",
    "    print(\"addr\", addr)"
   ]
  },
  {
   "cell_type": "code",
   "execution_count": null,
   "metadata": {},
   "outputs": [],
   "source": []
  },
  {
   "cell_type": "code",
   "execution_count": 442,
   "metadata": {},
   "outputs": [
    {
     "name": "stdout",
     "output_type": "stream",
     "text": [
      "total 1\n",
      "discount 34\n",
      "(5, 6, 7)\n",
      "5\n",
      "6\n",
      "7\n",
      "ph 900\n",
      "addr mumbai\n"
     ]
    }
   ],
   "source": [
    "discount(1,34,5,6,7, ph=900, addr='mumbai')"
   ]
  },
  {
   "cell_type": "code",
   "execution_count": 448,
   "metadata": {},
   "outputs": [],
   "source": [
    "def discount(total,discount,*args, **kwargs):\n",
    "    print(\"total\", total)\n",
    "    print(\"discount\", discount)\n",
    "    print(args)\n",
    "    print(kwargs)\n",
    "    for i in args:\n",
    "        print(i)\n",
    "    print(\"ph\", kwargs['ph'])\n",
    "    print(\"addr\", kwargs['addr'])"
   ]
  },
  {
   "cell_type": "code",
   "execution_count": null,
   "metadata": {},
   "outputs": [],
   "source": []
  },
  {
   "cell_type": "code",
   "execution_count": null,
   "metadata": {},
   "outputs": [],
   "source": []
  },
  {
   "cell_type": "code",
   "execution_count": null,
   "metadata": {},
   "outputs": [],
   "source": []
  },
  {
   "cell_type": "code",
   "execution_count": 449,
   "metadata": {},
   "outputs": [
    {
     "name": "stdout",
     "output_type": "stream",
     "text": [
      "total 1\n",
      "discount 34\n",
      "(5, 6, 7)\n",
      "{'ph': 900, 'addr': 'mumbai'}\n",
      "5\n",
      "6\n",
      "7\n",
      "ph 900\n",
      "addr mumbai\n"
     ]
    }
   ],
   "source": [
    "discount(1,34,5,6,7, ph=900, addr='mumbai')"
   ]
  },
  {
   "cell_type": "code",
   "execution_count": 450,
   "metadata": {},
   "outputs": [],
   "source": [
    "def add(a, b):\n",
    "    print(a+b)"
   ]
  },
  {
   "cell_type": "code",
   "execution_count": 451,
   "metadata": {},
   "outputs": [
    {
     "name": "stdout",
     "output_type": "stream",
     "text": [
      "9\n"
     ]
    }
   ],
   "source": [
    "add(4,5)"
   ]
  },
  {
   "cell_type": "code",
   "execution_count": 452,
   "metadata": {},
   "outputs": [],
   "source": [
    "y = add"
   ]
  },
  {
   "cell_type": "code",
   "execution_count": 453,
   "metadata": {},
   "outputs": [
    {
     "data": {
      "text/plain": [
       "<function __main__.add(a, b)>"
      ]
     },
     "execution_count": 453,
     "metadata": {},
     "output_type": "execute_result"
    }
   ],
   "source": [
    "y"
   ]
  },
  {
   "cell_type": "code",
   "execution_count": 454,
   "metadata": {},
   "outputs": [
    {
     "name": "stdout",
     "output_type": "stream",
     "text": [
      "9\n"
     ]
    }
   ],
   "source": [
    "y(5,4)"
   ]
  },
  {
   "cell_type": "code",
   "execution_count": null,
   "metadata": {},
   "outputs": [],
   "source": [
    "x = lambda args: expression"
   ]
  },
  {
   "cell_type": "code",
   "execution_count": 455,
   "metadata": {},
   "outputs": [],
   "source": [
    "x = lambda y: y**2"
   ]
  },
  {
   "cell_type": "code",
   "execution_count": 456,
   "metadata": {},
   "outputs": [
    {
     "data": {
      "text/plain": [
       "49"
      ]
     },
     "execution_count": 456,
     "metadata": {},
     "output_type": "execute_result"
    }
   ],
   "source": [
    "x(7)"
   ]
  },
  {
   "cell_type": "code",
   "execution_count": 457,
   "metadata": {},
   "outputs": [
    {
     "data": {
      "text/plain": [
       "<function __main__.<lambda>(y)>"
      ]
     },
     "execution_count": 457,
     "metadata": {},
     "output_type": "execute_result"
    }
   ],
   "source": [
    "x"
   ]
  },
  {
   "cell_type": "code",
   "execution_count": 475,
   "metadata": {},
   "outputs": [],
   "source": [
    "def sqauare(x):\n",
    "    return x**2,10\n",
    "    "
   ]
  },
  {
   "cell_type": "code",
   "execution_count": 476,
   "metadata": {},
   "outputs": [],
   "source": [
    "y = sqauare"
   ]
  },
  {
   "cell_type": "code",
   "execution_count": 477,
   "metadata": {},
   "outputs": [],
   "source": [
    "c = y(7)"
   ]
  },
  {
   "cell_type": "code",
   "execution_count": 478,
   "metadata": {},
   "outputs": [
    {
     "data": {
      "text/plain": [
       "(49, 10)"
      ]
     },
     "execution_count": 478,
     "metadata": {},
     "output_type": "execute_result"
    }
   ],
   "source": [
    "c"
   ]
  },
  {
   "cell_type": "code",
   "execution_count": 135,
   "metadata": {},
   "outputs": [
    {
     "name": "stdout",
     "output_type": "stream",
     "text": [
      "Decorated\n",
      "Ordinary\n"
     ]
    }
   ],
   "source": []
  },
  {
   "cell_type": "code",
   "execution_count": 140,
   "metadata": {},
   "outputs": [
    {
     "data": {
      "text/plain": [
       "generator"
      ]
     },
     "execution_count": 140,
     "metadata": {},
     "output_type": "execute_result"
    }
   ],
   "source": [
    "g = (i for i in range(5))\n",
    "type(g)"
   ]
  },
  {
   "cell_type": "code",
   "execution_count": 141,
   "metadata": {},
   "outputs": [
    {
     "name": "stdout",
     "output_type": "stream",
     "text": [
      "3\n"
     ]
    }
   ],
   "source": []
  },
  {
   "cell_type": "code",
   "execution_count": null,
   "metadata": {},
   "outputs": [],
   "source": []
  },
  {
   "cell_type": "code",
   "execution_count": null,
   "metadata": {},
   "outputs": [],
   "source": []
  },
  {
   "cell_type": "code",
   "execution_count": null,
   "metadata": {},
   "outputs": [],
   "source": []
  },
  {
   "cell_type": "code",
   "execution_count": 137,
   "metadata": {},
   "outputs": [
    {
     "name": "stdout",
     "output_type": "stream",
     "text": [
      "[0, 1, 2, 3, 4]\n"
     ]
    }
   ],
   "source": []
  },
  {
   "cell_type": "code",
   "execution_count": null,
   "metadata": {},
   "outputs": [],
   "source": []
  },
  {
   "cell_type": "code",
   "execution_count": null,
   "metadata": {},
   "outputs": [],
   "source": []
  },
  {
   "cell_type": "code",
   "execution_count": null,
   "metadata": {},
   "outputs": [],
   "source": []
  },
  {
   "cell_type": "code",
   "execution_count": 466,
   "metadata": {},
   "outputs": [],
   "source": [
    "y = sqauare"
   ]
  },
  {
   "cell_type": "code",
   "execution_count": null,
   "metadata": {},
   "outputs": [],
   "source": []
  },
  {
   "cell_type": "code",
   "execution_count": 467,
   "metadata": {},
   "outputs": [],
   "source": [
    "c = y(7)"
   ]
  },
  {
   "cell_type": "code",
   "execution_count": 469,
   "metadata": {},
   "outputs": [
    {
     "data": {
      "text/plain": [
       "49"
      ]
     },
     "execution_count": 469,
     "metadata": {},
     "output_type": "execute_result"
    }
   ],
   "source": [
    "c[0]"
   ]
  },
  {
   "cell_type": "code",
   "execution_count": 470,
   "metadata": {},
   "outputs": [
    {
     "data": {
      "text/plain": [
       "10"
      ]
     },
     "execution_count": 470,
     "metadata": {},
     "output_type": "execute_result"
    }
   ],
   "source": [
    "c[1]"
   ]
  },
  {
   "cell_type": "code",
   "execution_count": 471,
   "metadata": {},
   "outputs": [
    {
     "data": {
      "text/plain": [
       "(49, 10)"
      ]
     },
     "execution_count": 471,
     "metadata": {},
     "output_type": "execute_result"
    }
   ],
   "source": [
    "c"
   ]
  },
  {
   "cell_type": "code",
   "execution_count": 472,
   "metadata": {},
   "outputs": [],
   "source": [
    "c, f = y(7)"
   ]
  },
  {
   "cell_type": "code",
   "execution_count": 473,
   "metadata": {},
   "outputs": [
    {
     "data": {
      "text/plain": [
       "49"
      ]
     },
     "execution_count": 473,
     "metadata": {},
     "output_type": "execute_result"
    }
   ],
   "source": [
    "c"
   ]
  },
  {
   "cell_type": "code",
   "execution_count": 474,
   "metadata": {},
   "outputs": [
    {
     "data": {
      "text/plain": [
       "10"
      ]
     },
     "execution_count": 474,
     "metadata": {},
     "output_type": "execute_result"
    }
   ],
   "source": [
    "f"
   ]
  },
  {
   "cell_type": "code",
   "execution_count": null,
   "metadata": {},
   "outputs": [],
   "source": []
  },
  {
   "cell_type": "code",
   "execution_count": null,
   "metadata": {},
   "outputs": [],
   "source": []
  },
  {
   "cell_type": "code",
   "execution_count": null,
   "metadata": {},
   "outputs": [],
   "source": []
  },
  {
   "cell_type": "code",
   "execution_count": 462,
   "metadata": {},
   "outputs": [
    {
     "data": {
      "text/plain": [
       "49"
      ]
     },
     "execution_count": 462,
     "metadata": {},
     "output_type": "execute_result"
    }
   ],
   "source": [
    "c"
   ]
  },
  {
   "cell_type": "code",
   "execution_count": 480,
   "metadata": {},
   "outputs": [],
   "source": [
    "def sqauare(x):\n",
    "    return x**2"
   ]
  },
  {
   "cell_type": "code",
   "execution_count": 536,
   "metadata": {},
   "outputs": [
    {
     "data": {
      "text/plain": [
       "[4, 9, 16, 25, 36, 49]"
      ]
     },
     "execution_count": 536,
     "metadata": {},
     "output_type": "execute_result"
    }
   ],
   "source": [
    "list(map(sqauare, (2,3,4,5,6,7)))"
   ]
  },
  {
   "cell_type": "code",
   "execution_count": null,
   "metadata": {},
   "outputs": [],
   "source": []
  },
  {
   "cell_type": "code",
   "execution_count": 484,
   "metadata": {},
   "outputs": [
    {
     "data": {
      "text/plain": [
       "[4, 16, 25, 49, 64]"
      ]
     },
     "execution_count": 484,
     "metadata": {},
     "output_type": "execute_result"
    }
   ],
   "source": [
    "list(map(lambda x: x**2, (2,4,5,7,8,)))"
   ]
  },
  {
   "cell_type": "code",
   "execution_count": 486,
   "metadata": {},
   "outputs": [],
   "source": [
    "u = lambda x,y: x-y if x>y else y-x"
   ]
  },
  {
   "cell_type": "code",
   "execution_count": 487,
   "metadata": {},
   "outputs": [
    {
     "data": {
      "text/plain": [
       "7"
      ]
     },
     "execution_count": 487,
     "metadata": {},
     "output_type": "execute_result"
    }
   ],
   "source": [
    "u(10,3)"
   ]
  },
  {
   "cell_type": "code",
   "execution_count": 488,
   "metadata": {},
   "outputs": [
    {
     "data": {
      "text/plain": [
       "10"
      ]
     },
     "execution_count": 488,
     "metadata": {},
     "output_type": "execute_result"
    }
   ],
   "source": [
    "u(3, 13)"
   ]
  },
  {
   "cell_type": "code",
   "execution_count": 489,
   "metadata": {},
   "outputs": [
    {
     "data": {
      "text/plain": [
       "['PYTHON', 'IS', 'GOOD']"
      ]
     },
     "execution_count": 489,
     "metadata": {},
     "output_type": "execute_result"
    }
   ],
   "source": [
    "[word.upper() for word in ['python', 'is', \"good\"]]"
   ]
  },
  {
   "cell_type": "code",
   "execution_count": 490,
   "metadata": {},
   "outputs": [
    {
     "data": {
      "text/plain": [
       "['PYTHON', 'IS', 'GOOD']"
      ]
     },
     "execution_count": 490,
     "metadata": {},
     "output_type": "execute_result"
    }
   ],
   "source": [
    "list(map(str.upper, ['python', 'is', \"good\"]))"
   ]
  },
  {
   "cell_type": "code",
   "execution_count": 491,
   "metadata": {},
   "outputs": [
    {
     "name": "stdout",
     "output_type": "stream",
     "text": [
      "PYTHON\n",
      "IS\n",
      "GOOD\n"
     ]
    }
   ],
   "source": [
    "for w in ['python', 'is', \"good\"]:\n",
    "    print(w.upper())"
   ]
  },
  {
   "cell_type": "code",
   "execution_count": 493,
   "metadata": {},
   "outputs": [],
   "source": [
    "def outer():\n",
    "    j = 10\n",
    "    i = 8\n",
    "    def inner():\n",
    "        print(i)\n",
    "        print(\"i am inside inner function\")\n",
    "    def inner2():\n",
    "        print('second inner')\n",
    "    inner()\n",
    "    inner2()\n",
    "    return inner, inner2"
   ]
  },
  {
   "cell_type": "code",
   "execution_count": 508,
   "metadata": {},
   "outputs": [
    {
     "ename": "ValueError",
     "evalue": "tuple.index(x): x not in tuple",
     "output_type": "error",
     "traceback": [
      "\u001b[0;31m---------------------------------------------------------------------------\u001b[0m",
      "\u001b[0;31mValueError\u001b[0m                                Traceback (most recent call last)",
      "\u001b[0;32m<ipython-input-508-6da826af6d00>\u001b[0m in \u001b[0;36m<module>\u001b[0;34m\u001b[0m\n\u001b[0;32m----> 1\u001b[0;31m \u001b[0mv\u001b[0m \u001b[0;34m=\u001b[0m \u001b[0mp\u001b[0m\u001b[0;34m.\u001b[0m\u001b[0mindex\u001b[0m\u001b[0;34m(\u001b[0m\u001b[0;36m0\u001b[0m\u001b[0;34m)\u001b[0m\u001b[0;34m\u001b[0m\u001b[0;34m\u001b[0m\u001b[0m\n\u001b[0m",
      "\u001b[0;31mValueError\u001b[0m: tuple.index(x): x not in tuple"
     ]
    }
   ],
   "source": [
    "v = p.index(0)"
   ]
  },
  {
   "cell_type": "code",
   "execution_count": null,
   "metadata": {},
   "outputs": [],
   "source": []
  },
  {
   "cell_type": "code",
   "execution_count": 509,
   "metadata": {
    "scrolled": true
   },
   "outputs": [
    {
     "name": "stdout",
     "output_type": "stream",
     "text": [
      "8\n",
      "i am inside inner function\n",
      "second inner\n"
     ]
    }
   ],
   "source": [
    "p = outer()"
   ]
  },
  {
   "cell_type": "code",
   "execution_count": 510,
   "metadata": {},
   "outputs": [
    {
     "ename": "ValueError",
     "evalue": "tuple.index(x): x not in tuple",
     "output_type": "error",
     "traceback": [
      "\u001b[0;31m---------------------------------------------------------------------------\u001b[0m",
      "\u001b[0;31mValueError\u001b[0m                                Traceback (most recent call last)",
      "\u001b[0;32m<ipython-input-510-9ddd8c0d1b16>\u001b[0m in \u001b[0;36m<module>\u001b[0;34m\u001b[0m\n\u001b[0;32m----> 1\u001b[0;31m \u001b[0mp\u001b[0m\u001b[0;34m.\u001b[0m\u001b[0mindex\u001b[0m\u001b[0;34m(\u001b[0m\u001b[0;36m0\u001b[0m\u001b[0;34m)\u001b[0m\u001b[0;34m\u001b[0m\u001b[0;34m\u001b[0m\u001b[0m\n\u001b[0m",
      "\u001b[0;31mValueError\u001b[0m: tuple.index(x): x not in tuple"
     ]
    }
   ],
   "source": [
    "p.index(0)"
   ]
  },
  {
   "cell_type": "code",
   "execution_count": null,
   "metadata": {},
   "outputs": [],
   "source": []
  },
  {
   "cell_type": "code",
   "execution_count": 495,
   "metadata": {},
   "outputs": [
    {
     "data": {
      "text/plain": [
       "(<function __main__.outer.<locals>.inner()>,\n",
       " <function __main__.outer.<locals>.inner2()>)"
      ]
     },
     "execution_count": 495,
     "metadata": {},
     "output_type": "execute_result"
    }
   ],
   "source": [
    "p"
   ]
  },
  {
   "cell_type": "code",
   "execution_count": 496,
   "metadata": {},
   "outputs": [
    {
     "name": "stdout",
     "output_type": "stream",
     "text": [
      "8\n",
      "i am inside inner function\n"
     ]
    }
   ],
   "source": [
    "p[0]()"
   ]
  },
  {
   "cell_type": "code",
   "execution_count": 497,
   "metadata": {},
   "outputs": [
    {
     "name": "stdout",
     "output_type": "stream",
     "text": [
      "second inner\n"
     ]
    }
   ],
   "source": [
    "p[1]()"
   ]
  },
  {
   "cell_type": "code",
   "execution_count": 498,
   "metadata": {},
   "outputs": [
    {
     "name": "stdout",
     "output_type": "stream",
     "text": [
      "8\n",
      "i am inside inner function\n",
      "second inner\n"
     ]
    }
   ],
   "source": [
    "for i in p:\n",
    "    i()\n",
    "    "
   ]
  },
  {
   "cell_type": "code",
   "execution_count": 499,
   "metadata": {},
   "outputs": [
    {
     "name": "stdout",
     "output_type": "stream",
     "text": [
      "8\n",
      "i am inside inner function\n",
      "second inner\n"
     ]
    }
   ],
   "source": [
    "p1, p2 = outer()"
   ]
  },
  {
   "cell_type": "code",
   "execution_count": 500,
   "metadata": {},
   "outputs": [
    {
     "name": "stdout",
     "output_type": "stream",
     "text": [
      "8\n",
      "i am inside inner function\n"
     ]
    }
   ],
   "source": [
    "p1()"
   ]
  },
  {
   "cell_type": "code",
   "execution_count": 501,
   "metadata": {},
   "outputs": [
    {
     "name": "stdout",
     "output_type": "stream",
     "text": [
      "second inner\n"
     ]
    }
   ],
   "source": [
    "p2()"
   ]
  },
  {
   "cell_type": "code",
   "execution_count": 502,
   "metadata": {},
   "outputs": [
    {
     "data": {
      "text/plain": [
       "['__add__',\n",
       " '__class__',\n",
       " '__contains__',\n",
       " '__delattr__',\n",
       " '__dir__',\n",
       " '__doc__',\n",
       " '__eq__',\n",
       " '__format__',\n",
       " '__ge__',\n",
       " '__getattribute__',\n",
       " '__getitem__',\n",
       " '__getnewargs__',\n",
       " '__gt__',\n",
       " '__hash__',\n",
       " '__init__',\n",
       " '__init_subclass__',\n",
       " '__iter__',\n",
       " '__le__',\n",
       " '__len__',\n",
       " '__lt__',\n",
       " '__mul__',\n",
       " '__ne__',\n",
       " '__new__',\n",
       " '__reduce__',\n",
       " '__reduce_ex__',\n",
       " '__repr__',\n",
       " '__rmul__',\n",
       " '__setattr__',\n",
       " '__sizeof__',\n",
       " '__str__',\n",
       " '__subclasshook__',\n",
       " 'count',\n",
       " 'index']"
      ]
     },
     "execution_count": 502,
     "metadata": {},
     "output_type": "execute_result"
    }
   ],
   "source": [
    "dir(p)"
   ]
  },
  {
   "cell_type": "code",
   "execution_count": 507,
   "metadata": {},
   "outputs": [
    {
     "ename": "ValueError",
     "evalue": "tuple.index(x): x not in tuple",
     "output_type": "error",
     "traceback": [
      "\u001b[0;31m---------------------------------------------------------------------------\u001b[0m",
      "\u001b[0;31mValueError\u001b[0m                                Traceback (most recent call last)",
      "\u001b[0;32m<ipython-input-507-9ddd8c0d1b16>\u001b[0m in \u001b[0;36m<module>\u001b[0;34m\u001b[0m\n\u001b[0;32m----> 1\u001b[0;31m \u001b[0mp\u001b[0m\u001b[0;34m.\u001b[0m\u001b[0mindex\u001b[0m\u001b[0;34m(\u001b[0m\u001b[0;36m0\u001b[0m\u001b[0;34m)\u001b[0m\u001b[0;34m\u001b[0m\u001b[0;34m\u001b[0m\u001b[0m\n\u001b[0m",
      "\u001b[0;31mValueError\u001b[0m: tuple.index(x): x not in tuple"
     ]
    }
   ],
   "source": []
  },
  {
   "cell_type": "code",
   "execution_count": null,
   "metadata": {},
   "outputs": [],
   "source": []
  },
  {
   "cell_type": "code",
   "execution_count": 506,
   "metadata": {},
   "outputs": [
    {
     "data": {
      "text/plain": [
       "2"
      ]
     },
     "execution_count": 506,
     "metadata": {},
     "output_type": "execute_result"
    }
   ],
   "source": [
    "len(p)"
   ]
  },
  {
   "cell_type": "code",
   "execution_count": 515,
   "metadata": {},
   "outputs": [],
   "source": [
    "def outer(f): #2 \n",
    "    def inner():\n",
    "        result = f()  \n",
    "        return result**2\n",
    "    return inner #3"
   ]
  },
  {
   "cell_type": "code",
   "execution_count": null,
   "metadata": {},
   "outputs": [],
   "source": []
  },
  {
   "cell_type": "code",
   "execution_count": null,
   "metadata": {},
   "outputs": [],
   "source": []
  },
  {
   "cell_type": "code",
   "execution_count": 516,
   "metadata": {},
   "outputs": [],
   "source": [
    "def num():\n",
    "    return 5 #1"
   ]
  },
  {
   "cell_type": "code",
   "execution_count": null,
   "metadata": {},
   "outputs": [],
   "source": []
  },
  {
   "cell_type": "code",
   "execution_count": 520,
   "metadata": {},
   "outputs": [],
   "source": [
    "p = outer(num) #1"
   ]
  },
  {
   "cell_type": "code",
   "execution_count": 521,
   "metadata": {},
   "outputs": [
    {
     "data": {
      "text/plain": [
       "<function __main__.outer.<locals>.inner()>"
      ]
     },
     "execution_count": 521,
     "metadata": {},
     "output_type": "execute_result"
    }
   ],
   "source": [
    "p"
   ]
  },
  {
   "cell_type": "code",
   "execution_count": null,
   "metadata": {},
   "outputs": [],
   "source": []
  },
  {
   "cell_type": "code",
   "execution_count": 519,
   "metadata": {},
   "outputs": [
    {
     "data": {
      "text/plain": [
       "25"
      ]
     },
     "execution_count": 519,
     "metadata": {},
     "output_type": "execute_result"
    }
   ],
   "source": [
    "p()"
   ]
  },
  {
   "cell_type": "code",
   "execution_count": 522,
   "metadata": {},
   "outputs": [
    {
     "ename": "NameError",
     "evalue": "name 'inner' is not defined",
     "output_type": "error",
     "traceback": [
      "\u001b[0;31m---------------------------------------------------------------------------\u001b[0m",
      "\u001b[0;31mNameError\u001b[0m                                 Traceback (most recent call last)",
      "\u001b[0;32m<ipython-input-522-bc10f1654870>\u001b[0m in \u001b[0;36m<module>\u001b[0;34m\u001b[0m\n\u001b[0;32m----> 1\u001b[0;31m \u001b[0minner\u001b[0m\u001b[0;34m(\u001b[0m\u001b[0;34m)\u001b[0m\u001b[0;34m\u001b[0m\u001b[0;34m\u001b[0m\u001b[0m\n\u001b[0m",
      "\u001b[0;31mNameError\u001b[0m: name 'inner' is not defined"
     ]
    }
   ],
   "source": [
    "inner()"
   ]
  },
  {
   "cell_type": "code",
   "execution_count": 523,
   "metadata": {},
   "outputs": [],
   "source": [
    "def outer(f): #2 \n",
    "    def inner():\n",
    "        result = f() #num()  \n",
    "        return result**2\n",
    "    return inner #3"
   ]
  },
  {
   "cell_type": "code",
   "execution_count": 526,
   "metadata": {},
   "outputs": [],
   "source": [
    "@outer\n",
    "def num():\n",
    "    return 5"
   ]
  },
  {
   "cell_type": "code",
   "execution_count": 528,
   "metadata": {},
   "outputs": [],
   "source": [
    "@outer\n",
    "def sum():\n",
    "    return 10+3"
   ]
  },
  {
   "cell_type": "code",
   "execution_count": 529,
   "metadata": {},
   "outputs": [
    {
     "name": "stdout",
     "output_type": "stream",
     "text": [
      "169\n"
     ]
    }
   ],
   "source": [
    "print(sum())"
   ]
  },
  {
   "cell_type": "code",
   "execution_count": null,
   "metadata": {},
   "outputs": [],
   "source": []
  },
  {
   "cell_type": "code",
   "execution_count": 527,
   "metadata": {},
   "outputs": [
    {
     "name": "stdout",
     "output_type": "stream",
     "text": [
      "25\n"
     ]
    }
   ],
   "source": [
    "print(num())"
   ]
  },
  {
   "cell_type": "code",
   "execution_count": 533,
   "metadata": {},
   "outputs": [],
   "source": [
    "def outer(f): \n",
    "    def inner(n1, n2):\n",
    "        result = f(n1, n2)  #num(19,4)\n",
    "        return result**2\n",
    "    return inner"
   ]
  },
  {
   "cell_type": "code",
   "execution_count": null,
   "metadata": {},
   "outputs": [],
   "source": []
  },
  {
   "cell_type": "code",
   "execution_count": 534,
   "metadata": {},
   "outputs": [],
   "source": [
    "@outer\n",
    "def num(n1, n2):\n",
    "    return n1+n2+5"
   ]
  },
  {
   "cell_type": "code",
   "execution_count": null,
   "metadata": {},
   "outputs": [],
   "source": []
  },
  {
   "cell_type": "code",
   "execution_count": null,
   "metadata": {},
   "outputs": [],
   "source": []
  },
  {
   "cell_type": "code",
   "execution_count": 535,
   "metadata": {},
   "outputs": [
    {
     "name": "stdout",
     "output_type": "stream",
     "text": [
      "784\n"
     ]
    }
   ],
   "source": [
    "print(num(1,2))"
   ]
  },
  {
   "cell_type": "code",
   "execution_count": 537,
   "metadata": {},
   "outputs": [
    {
     "name": "stdout",
     "output_type": "stream",
     "text": [
      "hi\n"
     ]
    }
   ],
   "source": [
    "print(\"hi\")"
   ]
  },
  {
   "cell_type": "code",
   "execution_count": 538,
   "metadata": {},
   "outputs": [
    {
     "data": {
      "text/plain": [
       "[2, 4, 6, 8]"
      ]
     },
     "execution_count": 538,
     "metadata": {},
     "output_type": "execute_result"
    }
   ],
   "source": [
    "list_1 = [1,2,3,4,5,6,7,8,9]\n",
    "list(filter(lambda x: x%2==0, list_1))\n"
   ]
  },
  {
   "cell_type": "code",
   "execution_count": 547,
   "metadata": {},
   "outputs": [],
   "source": [
    "def validate(func):\n",
    "    def validator(*args, **kwargs):\n",
    "        print(args, kwargs)\n",
    "        if len(args) > 1:\n",
    "            if args[1] == 0:\n",
    "                print(\"we are expecting the non zero value\")\n",
    "                return None\n",
    "            else:\n",
    "                power = func(args[0], args[1])\n",
    "                return power\n",
    "        else:\n",
    "            print(\"Invalid args\")\n",
    "    return validator"
   ]
  },
  {
   "cell_type": "code",
   "execution_count": null,
   "metadata": {},
   "outputs": [],
   "source": []
  },
  {
   "cell_type": "code",
   "execution_count": null,
   "metadata": {},
   "outputs": [],
   "source": []
  },
  {
   "cell_type": "code",
   "execution_count": null,
   "metadata": {},
   "outputs": [],
   "source": []
  },
  {
   "cell_type": "code",
   "execution_count": 545,
   "metadata": {},
   "outputs": [],
   "source": [
    "import math\n",
    "@validate\n",
    "def mypower(x,y):\n",
    "    return math.pow(x,y)"
   ]
  },
  {
   "cell_type": "code",
   "execution_count": null,
   "metadata": {},
   "outputs": [],
   "source": []
  },
  {
   "cell_type": "code",
   "execution_count": 549,
   "metadata": {},
   "outputs": [
    {
     "name": "stdout",
     "output_type": "stream",
     "text": [
      "() {}\n",
      "Invalid args\n",
      "None\n"
     ]
    }
   ],
   "source": [
    "mypower()"
   ]
  },
  {
   "cell_type": "code",
   "execution_count": 551,
   "metadata": {},
   "outputs": [
    {
     "name": "stdout",
     "output_type": "stream",
     "text": [
      "The positional arguments are ()\n",
      "The keyword arguments are {}\n",
      "The positional arguments are ()\n",
      "The keyword arguments are {}\n",
      "The positional arguments are ()\n",
      "The keyword arguments are {}\n",
      "The positional arguments are ()\n",
      "The keyword arguments are {}\n",
      "The positional arguments are ()\n",
      "The keyword arguments are {}\n",
      "The positional arguments are ()\n",
      "The keyword arguments are {}\n",
      "The positional arguments are ()\n",
      "The keyword arguments are {}\n",
      "The positional arguments are ()\n",
      "The keyword arguments are {}\n",
      "The positional arguments are ()\n",
      "The keyword arguments are {}\n",
      "The positional arguments are ()\n",
      "The keyword arguments are {}\n",
      "The positional arguments are ()\n",
      "The keyword arguments are {}\n",
      "The positional arguments are ()\n",
      "The keyword arguments are {}\n",
      "The positional arguments are ()\n",
      "The keyword arguments are {}\n",
      "The positional arguments are ()\n",
      "The keyword arguments are {}\n",
      "The positional arguments are ()\n",
      "The keyword arguments are {}\n",
      "The positional arguments are ()\n",
      "The keyword arguments are {}\n",
      "The positional arguments are ()\n",
      "The keyword arguments are {}\n",
      "The positional arguments are ()\n",
      "The keyword arguments are {}\n",
      "The positional arguments are ()\n",
      "The keyword arguments are {}\n",
      "The positional arguments are ()\n",
      "The keyword arguments are {}\n",
      "The positional arguments are ()\n",
      "The keyword arguments are {}\n",
      "The positional arguments are ()\n",
      "The keyword arguments are {}\n",
      "The positional arguments are ()\n",
      "The keyword arguments are {}\n",
      "The positional arguments are ()\n",
      "The keyword arguments are {}\n",
      "The positional arguments are ()\n",
      "The keyword arguments are {}\n",
      "The positional arguments are ()\n",
      "The keyword arguments are {}\n",
      "The positional arguments are ()\n",
      "The keyword arguments are {}\n",
      "The positional arguments are ()\n",
      "The keyword arguments are {}\n",
      "The positional arguments are ()\n",
      "The keyword arguments are {}\n",
      "The positional arguments are ()\n",
      "The keyword arguments are {}\n",
      "The positional arguments are ()\n",
      "The keyword arguments are {}\n",
      "The positional arguments are ()\n",
      "The keyword arguments are {}\n",
      "The positional arguments are ()\n",
      "The keyword arguments are {}\n",
      "The positional arguments are ()\n",
      "The keyword arguments are {}\n",
      "The positional arguments are ()\n",
      "The keyword arguments are {}\n",
      "The positional arguments are ()\n",
      "The keyword arguments are {}\n",
      "The positional arguments are ()\n",
      "The keyword arguments are {}\n",
      "The positional arguments are ()\n",
      "The keyword arguments are {}\n",
      "The positional arguments are ()\n",
      "The keyword arguments are {}\n",
      "The positional arguments are ()\n",
      "The keyword arguments are {}\n",
      "The positional arguments are ()\n",
      "The keyword arguments are {}\n",
      "The positional arguments are ()\n",
      "The keyword arguments are {}\n",
      "The positional arguments are ()\n",
      "The keyword arguments are {}\n",
      "The positional arguments are ()\n",
      "The keyword arguments are {}\n",
      "The positional arguments are ()\n",
      "The keyword arguments are {}\n",
      "The positional arguments are ()\n",
      "The keyword arguments are {}\n",
      "The positional arguments are ()\n",
      "The keyword arguments are {}\n",
      "The positional arguments are ()\n",
      "The keyword arguments are {}\n",
      "The positional arguments are ()\n",
      "The keyword arguments are {}\n",
      "The positional arguments are ()\n",
      "The keyword arguments are {}\n",
      "The positional arguments are ()\n",
      "The keyword arguments are {}\n",
      "The positional arguments are ()\n",
      "The keyword arguments are {}\n",
      "The positional arguments are ()\n",
      "The keyword arguments are {}\n",
      "The positional arguments are ()\n",
      "The keyword arguments are {}\n",
      "The positional arguments are ()\n",
      "The keyword arguments are {}\n",
      "The positional arguments are ()\n",
      "The keyword arguments are {}\n",
      "The positional arguments are ()\n",
      "The keyword arguments are {}\n",
      "The positional arguments are ()\n",
      "The keyword arguments are {}\n",
      "The positional arguments are ()\n",
      "The keyword arguments are {}\n",
      "The positional arguments are ()\n",
      "The keyword arguments are {}\n",
      "The positional arguments are ()\n",
      "The keyword arguments are {}\n",
      "The positional arguments are ()\n",
      "The keyword arguments are {}\n",
      "The positional arguments are ()\n",
      "The keyword arguments are {}\n",
      "The positional arguments are ()\n",
      "The keyword arguments are {}\n",
      "The positional arguments are ()\n",
      "The keyword arguments are {}\n",
      "The positional arguments are ()\n",
      "The keyword arguments are {}\n",
      "The positional arguments are ()\n",
      "The keyword arguments are {}\n",
      "The positional arguments are ()\n",
      "The keyword arguments are {}\n",
      "The positional arguments are ()\n",
      "The keyword arguments are {}\n",
      "The positional arguments are ()\n",
      "The keyword arguments are {}\n",
      "The positional arguments are ()\n",
      "The keyword arguments are {}\n",
      "The positional arguments are ()\n",
      "The keyword arguments are {}\n",
      "The positional arguments are ()\n",
      "The keyword arguments are {}\n",
      "The positional arguments are ()\n",
      "The keyword arguments are {}\n",
      "The positional arguments are ()\n",
      "The keyword arguments are {}\n",
      "The positional arguments are ()\n",
      "The keyword arguments are {}\n",
      "The positional arguments are ()\n",
      "The keyword arguments are {}\n",
      "The positional arguments are ()\n",
      "The keyword arguments are {}\n",
      "The positional arguments are ()\n",
      "The keyword arguments are {}\n",
      "The positional arguments are ()\n",
      "The keyword arguments are {}\n",
      "The positional arguments are ()\n",
      "The keyword arguments are {}\n",
      "The positional arguments are ()\n",
      "The keyword arguments are {}\n",
      "The positional arguments are ()\n",
      "The keyword arguments are {}\n",
      "The positional arguments are ()\n",
      "The keyword arguments are {}\n",
      "The positional arguments are ()\n",
      "The keyword arguments are {}\n",
      "The positional arguments are ()\n",
      "The keyword arguments are {}\n",
      "The positional arguments are ()\n",
      "The keyword arguments are {}\n",
      "The positional arguments are ()\n",
      "The keyword arguments are {}\n",
      "The positional arguments are ()\n",
      "The keyword arguments are {}\n",
      "The positional arguments are ()\n",
      "The keyword arguments are {}\n",
      "The positional arguments are ()\n",
      "The keyword arguments are {}\n",
      "The positional arguments are ()\n",
      "The keyword arguments are {}\n",
      "The positional arguments are ()\n",
      "The keyword arguments are {}\n",
      "The positional arguments are ()\n",
      "The keyword arguments are {}\n",
      "The positional arguments are ()\n",
      "The keyword arguments are {}\n",
      "The positional arguments are ()\n",
      "The keyword arguments are {}\n",
      "The positional arguments are ()\n",
      "The keyword arguments are {}\n",
      "The positional arguments are ()\n",
      "The keyword arguments are {}\n",
      "The positional arguments are ()\n",
      "The keyword arguments are {}\n",
      "The positional arguments are ()\n",
      "The keyword arguments are {}\n",
      "The positional arguments are ()\n",
      "The keyword arguments are {}\n",
      "The positional arguments are ()\n",
      "The keyword arguments are {}\n",
      "The positional arguments are ()\n",
      "The keyword arguments are {}\n",
      "The positional arguments are ()\n",
      "The keyword arguments are {}\n",
      "The positional arguments are ()\n",
      "The keyword arguments are {}\n",
      "The positional arguments are ()\n",
      "The keyword arguments are {}\n",
      "The positional arguments are ()\n",
      "The keyword arguments are {}\n",
      "The positional arguments are ()\n",
      "The keyword arguments are {}\n",
      "The positional arguments are ()\n",
      "The keyword arguments are {}\n",
      "The positional arguments are ()\n",
      "The keyword arguments are {}\n",
      "The positional arguments are ()\n",
      "The keyword arguments are {}\n",
      "The positional arguments are ()\n",
      "The keyword arguments are {}\n",
      "The positional arguments are ()\n",
      "The keyword arguments are {}\n",
      "The positional arguments are ()\n",
      "The keyword arguments are {}\n",
      "The positional arguments are ()\n",
      "The keyword arguments are {}\n",
      "The positional arguments are ()\n",
      "The keyword arguments are {}\n",
      "The positional arguments are ()\n",
      "The keyword arguments are {}\n",
      "The positional arguments are ()\n",
      "The keyword arguments are {}\n",
      "The positional arguments are ()\n",
      "The keyword arguments are {}\n",
      "The positional arguments are ()\n",
      "The keyword arguments are {}\n",
      "The positional arguments are ()\n",
      "The keyword arguments are {}\n",
      "The positional arguments are ()\n",
      "The keyword arguments are {}\n",
      "The positional arguments are ()\n",
      "The keyword arguments are {}\n",
      "The positional arguments are ()\n",
      "The keyword arguments are {}\n",
      "The positional arguments are ()\n",
      "The keyword arguments are {}\n",
      "The positional arguments are ()\n",
      "The keyword arguments are {}\n",
      "The positional arguments are ()\n",
      "The keyword arguments are {}\n",
      "The positional arguments are ()\n",
      "The keyword arguments are {}\n",
      "The positional arguments are ()\n",
      "The keyword arguments are {}\n",
      "The positional arguments are ()\n",
      "The keyword arguments are {}\n",
      "The positional arguments are ()\n",
      "The keyword arguments are {}\n",
      "The positional arguments are ()\n",
      "The keyword arguments are {}\n",
      "The positional arguments are ()\n",
      "The keyword arguments are {}\n",
      "The positional arguments are ()\n",
      "The keyword arguments are {}\n",
      "The positional arguments are ()\n",
      "The keyword arguments are {}\n",
      "The positional arguments are ()\n",
      "The keyword arguments are {}\n",
      "The positional arguments are ()\n",
      "The keyword arguments are {}\n",
      "The positional arguments are ()\n",
      "The keyword arguments are {}\n",
      "The positional arguments are ()\n",
      "The keyword arguments are {}\n",
      "The positional arguments are ()\n",
      "The keyword arguments are {}\n",
      "The positional arguments are ()\n",
      "The keyword arguments are {}\n",
      "The positional arguments are ()\n",
      "The keyword arguments are {}\n",
      "The positional arguments are ()\n",
      "The keyword arguments are {}\n",
      "The positional arguments are ()\n",
      "The keyword arguments are {}\n",
      "The positional arguments are ()\n",
      "The keyword arguments are {}\n",
      "The positional arguments are ()\n",
      "The keyword arguments are {}\n",
      "The positional arguments are ()\n",
      "The keyword arguments are {}\n",
      "The positional arguments are ()\n",
      "The keyword arguments are {}\n",
      "The positional arguments are ()\n",
      "The keyword arguments are {}\n",
      "The positional arguments are ()\n",
      "The keyword arguments are {}\n",
      "The positional arguments are ()\n",
      "The keyword arguments are {}\n",
      "The positional arguments are ()\n",
      "The keyword arguments are {}\n",
      "The positional arguments are ()\n",
      "The keyword arguments are {}\n",
      "The positional arguments are ()\n",
      "The keyword arguments are {}\n",
      "The positional arguments are ()\n",
      "The keyword arguments are {}\n",
      "The positional arguments are ()\n",
      "The keyword arguments are {}\n",
      "The positional arguments are ()\n",
      "The keyword arguments are {}\n",
      "The positional arguments are ()\n",
      "The keyword arguments are {}\n",
      "The positional arguments are ()\n",
      "The keyword arguments are {}\n",
      "The positional arguments are ()\n",
      "The keyword arguments are {}\n",
      "The positional arguments are ()\n",
      "The keyword arguments are {}\n",
      "The positional arguments are ()\n",
      "The keyword arguments are {}\n",
      "The positional arguments are ()\n",
      "The keyword arguments are {}\n",
      "The positional arguments are ()\n",
      "The keyword arguments are {}\n",
      "The positional arguments are ()\n",
      "The keyword arguments are {}\n",
      "The positional arguments are ()\n",
      "The keyword arguments are {}\n",
      "The positional arguments are ()\n",
      "The keyword arguments are {}\n",
      "The positional arguments are ()\n",
      "The keyword arguments are {}\n",
      "The positional arguments are ()\n",
      "The keyword arguments are {}\n",
      "The positional arguments are ()\n",
      "The keyword arguments are {}\n",
      "The positional arguments are ()\n",
      "The keyword arguments are {}\n",
      "The positional arguments are ()\n",
      "The keyword arguments are {}\n",
      "The positional arguments are ()\n",
      "The keyword arguments are {}\n",
      "The positional arguments are ()\n",
      "The keyword arguments are {}\n",
      "The positional arguments are ()\n",
      "The keyword arguments are {}\n",
      "The positional arguments are ()\n",
      "The keyword arguments are {}\n",
      "The positional arguments are ()\n",
      "The keyword arguments are {}\n",
      "The positional arguments are ()\n",
      "The keyword arguments are {}\n",
      "The positional arguments are ()\n",
      "The keyword arguments are {}\n",
      "The positional arguments are ()\n",
      "The keyword arguments are {}\n",
      "The positional arguments are ()\n",
      "The keyword arguments are {}\n",
      "The positional arguments are ()\n",
      "The keyword arguments are {}\n",
      "The positional arguments are ()\n",
      "The keyword arguments are {}\n",
      "The positional arguments are ()\n",
      "The keyword arguments are {}\n",
      "The positional arguments are ()\n",
      "The keyword arguments are {}\n",
      "The positional arguments are ()\n",
      "The keyword arguments are {}\n",
      "The positional arguments are ()\n",
      "The keyword arguments are {}\n",
      "The positional arguments are ()\n",
      "The keyword arguments are {}\n",
      "The positional arguments are ()\n",
      "The keyword arguments are {}\n",
      "The positional arguments are ()\n",
      "The keyword arguments are {}\n",
      "The positional arguments are ()\n",
      "The keyword arguments are {}\n",
      "The positional arguments are ()\n",
      "The keyword arguments are {}\n",
      "The positional arguments are ()\n",
      "The keyword arguments are {}\n",
      "The positional arguments are ()\n",
      "The keyword arguments are {}\n",
      "The positional arguments are ()\n",
      "The keyword arguments are {}\n",
      "The positional arguments are ()\n",
      "The keyword arguments are {}\n",
      "The positional arguments are ()\n",
      "The keyword arguments are {}\n",
      "The positional arguments are ()\n",
      "The keyword arguments are {}\n",
      "The positional arguments are ()\n",
      "The keyword arguments are {}\n",
      "The positional arguments are ()\n",
      "The keyword arguments are {}\n",
      "The positional arguments are ()\n",
      "The keyword arguments are {}\n",
      "The positional arguments are ()\n",
      "The keyword arguments are {}\n",
      "The positional arguments are ()\n",
      "The keyword arguments are {}\n",
      "The positional arguments are ()\n",
      "The keyword arguments are {}\n",
      "The positional arguments are ()\n",
      "The keyword arguments are {}\n",
      "The positional arguments are ()\n",
      "The keyword arguments are {}\n",
      "The positional arguments are ()\n",
      "The keyword arguments are {}\n",
      "The positional arguments are ()\n",
      "The keyword arguments are {}\n",
      "The positional arguments are ()\n",
      "The keyword arguments are {}\n",
      "The positional arguments are ()\n",
      "The keyword arguments are {}\n",
      "The positional arguments are ()\n",
      "The keyword arguments are {}\n",
      "The positional arguments are ()\n",
      "The keyword arguments are {}\n",
      "The positional arguments are ()\n",
      "The keyword arguments are {}\n",
      "The positional arguments are ()\n",
      "The keyword arguments are {}\n",
      "The positional arguments are ()\n",
      "The keyword arguments are {}\n",
      "The positional arguments are ()\n",
      "The keyword arguments are {}\n",
      "The positional arguments are ()\n",
      "The keyword arguments are {}\n",
      "The positional arguments are ()\n",
      "The keyword arguments are {}\n",
      "The positional arguments are ()\n",
      "The keyword arguments are {}\n",
      "The positional arguments are ()\n",
      "The keyword arguments are {}\n",
      "The positional arguments are ()\n",
      "The keyword arguments are {}\n",
      "The positional arguments are ()\n",
      "The keyword arguments are {}\n",
      "The positional arguments are ()\n",
      "The keyword arguments are {}\n",
      "The positional arguments are ()\n",
      "The keyword arguments are {}\n",
      "The positional arguments are ()\n",
      "The keyword arguments are {}\n",
      "The positional arguments are ()\n",
      "The keyword arguments are {}\n",
      "The positional arguments are ()\n",
      "The keyword arguments are {}\n",
      "The positional arguments are ()\n",
      "The keyword arguments are {}\n",
      "The positional arguments are ()\n",
      "The keyword arguments are {}\n",
      "The positional arguments are ()\n",
      "The keyword arguments are {}\n",
      "The positional arguments are ()\n",
      "The keyword arguments are {}\n",
      "The positional arguments are ()\n",
      "The keyword arguments are {}\n",
      "The positional arguments are ()\n",
      "The keyword arguments are {}\n",
      "The positional arguments are ()\n",
      "The keyword arguments are {}\n",
      "The positional arguments are ()\n",
      "The keyword arguments are {}\n",
      "The positional arguments are ()\n",
      "The keyword arguments are {}\n",
      "The positional arguments are ()\n",
      "The keyword arguments are {}\n",
      "The positional arguments are ()\n",
      "The keyword arguments are {}\n",
      "The positional arguments are ()\n",
      "The keyword arguments are {}\n",
      "The positional arguments are ()\n",
      "The keyword arguments are {}\n",
      "The positional arguments are ()\n",
      "The keyword arguments are {}\n",
      "The positional arguments are ()\n",
      "The keyword arguments are {}\n",
      "The positional arguments are ()\n",
      "The keyword arguments are {}\n",
      "The positional arguments are ()\n",
      "The keyword arguments are {}\n",
      "The positional arguments are ()\n",
      "The keyword arguments are {}\n",
      "The positional arguments are ()\n",
      "The keyword arguments are {}\n",
      "The positional arguments are ()\n",
      "The keyword arguments are {}\n",
      "The positional arguments are ()\n",
      "The keyword arguments are {}\n",
      "The positional arguments are ()\n",
      "The keyword arguments are {}\n",
      "The positional arguments are ()\n",
      "The keyword arguments are {}\n",
      "The positional arguments are ()\n",
      "The keyword arguments are {}\n",
      "The positional arguments are ()\n",
      "The keyword arguments are {}\n",
      "The positional arguments are ()\n",
      "The keyword arguments are {}\n",
      "The positional arguments are ()\n",
      "The keyword arguments are {}\n",
      "The positional arguments are ()\n",
      "The keyword arguments are {}\n",
      "The positional arguments are ()\n",
      "The keyword arguments are {}\n",
      "The positional arguments are ()\n",
      "The keyword arguments are {}\n",
      "The positional arguments are ()\n",
      "The keyword arguments are {}\n",
      "The positional arguments are ()\n",
      "The keyword arguments are {}\n",
      "The positional arguments are ()\n",
      "The keyword arguments are {}\n",
      "The positional arguments are ()\n",
      "The keyword arguments are {}\n",
      "The positional arguments are ()\n",
      "The keyword arguments are {}\n",
      "The positional arguments are ()\n",
      "The keyword arguments are {}\n",
      "The positional arguments are ()\n",
      "The keyword arguments are {}\n",
      "The positional arguments are ()\n",
      "The keyword arguments are {}\n",
      "The positional arguments are ()\n",
      "The keyword arguments are {}\n",
      "The positional arguments are ()\n",
      "The keyword arguments are {}\n",
      "The positional arguments are ()\n",
      "The keyword arguments are {}\n",
      "The positional arguments are ()\n",
      "The keyword arguments are {}\n",
      "The positional arguments are ()\n",
      "The keyword arguments are {}\n",
      "The positional arguments are ()\n",
      "The keyword arguments are {}\n",
      "The positional arguments are ()\n",
      "The keyword arguments are {}\n",
      "The positional arguments are ()\n",
      "The keyword arguments are {}\n",
      "The positional arguments are ()\n",
      "The keyword arguments are {}\n",
      "The positional arguments are ()\n",
      "The keyword arguments are {}\n",
      "The positional arguments are ()\n",
      "The keyword arguments are {}\n",
      "The positional arguments are ()\n",
      "The keyword arguments are {}\n",
      "The positional arguments are ()\n",
      "The keyword arguments are {}\n",
      "The positional arguments are ()\n",
      "The keyword arguments are {}\n",
      "The positional arguments are ()\n",
      "The keyword arguments are {}\n",
      "The positional arguments are ()\n",
      "The keyword arguments are {}\n",
      "The positional arguments are ()\n",
      "The keyword arguments are {}\n",
      "The positional arguments are ()\n",
      "The keyword arguments are {}\n",
      "The positional arguments are ()\n",
      "The keyword arguments are {}\n",
      "The positional arguments are ()\n",
      "The keyword arguments are {}\n",
      "The positional arguments are ()\n",
      "The keyword arguments are {}\n",
      "The positional arguments are ()\n",
      "The keyword arguments are {}\n",
      "The positional arguments are ()\n",
      "The keyword arguments are {}\n",
      "The positional arguments are ()\n",
      "The keyword arguments are {}\n",
      "The positional arguments are ()\n",
      "The keyword arguments are {}\n",
      "The positional arguments are ()\n",
      "The keyword arguments are {}\n",
      "The positional arguments are ()\n",
      "The keyword arguments are {}\n",
      "The positional arguments are ()\n",
      "The keyword arguments are {}\n",
      "The positional arguments are ()\n",
      "The keyword arguments are {}\n",
      "The positional arguments are ()\n",
      "The keyword arguments are {}\n",
      "The positional arguments are ()\n",
      "The keyword arguments are {}\n",
      "The positional arguments are ()\n",
      "The keyword arguments are {}\n",
      "The positional arguments are ()\n",
      "The keyword arguments are {}\n",
      "The positional arguments are ()\n",
      "The keyword arguments are {}\n",
      "The positional arguments are ()\n",
      "The keyword arguments are {}\n",
      "The positional arguments are ()\n",
      "The keyword arguments are {}\n",
      "The positional arguments are ()\n",
      "The keyword arguments are {}\n",
      "The positional arguments are ()\n",
      "The keyword arguments are {}\n",
      "The positional arguments are ()\n",
      "The keyword arguments are {}\n",
      "The positional arguments are ()\n",
      "The keyword arguments are {}\n",
      "The positional arguments are ()\n",
      "The keyword arguments are {}\n",
      "The positional arguments are ()\n",
      "The keyword arguments are {}\n",
      "The positional arguments are ()\n",
      "The keyword arguments are {}\n",
      "The positional arguments are ()\n",
      "The keyword arguments are {}\n",
      "The positional arguments are ()\n",
      "The keyword arguments are {}\n",
      "The positional arguments are ()\n",
      "The keyword arguments are {}\n",
      "The positional arguments are ()\n",
      "The keyword arguments are {}\n",
      "The positional arguments are ()\n",
      "The keyword arguments are {}\n",
      "The positional arguments are ()\n",
      "The keyword arguments are {}\n",
      "The positional arguments are ()\n",
      "The keyword arguments are {}\n",
      "The positional arguments are ()\n",
      "The keyword arguments are {}\n",
      "The positional arguments are ()\n",
      "The keyword arguments are {}\n",
      "The positional arguments are ()\n",
      "The keyword arguments are {}\n",
      "The positional arguments are ()\n",
      "The keyword arguments are {}\n",
      "The positional arguments are ()\n",
      "The keyword arguments are {}\n",
      "The positional arguments are ()\n",
      "The keyword arguments are {}\n",
      "The positional arguments are ()\n",
      "The keyword arguments are {}\n",
      "The positional arguments are ()\n",
      "The keyword arguments are {}\n",
      "The positional arguments are ()\n",
      "The keyword arguments are {}\n",
      "The positional arguments are ()\n",
      "The keyword arguments are {}\n",
      "The positional arguments are ()\n",
      "The keyword arguments are {}\n",
      "The positional arguments are ()\n",
      "The keyword arguments are {}\n",
      "The positional arguments are ()\n",
      "The keyword arguments are {}\n",
      "The positional arguments are ()\n",
      "The keyword arguments are {}\n",
      "The positional arguments are ()\n",
      "The keyword arguments are {}\n",
      "The positional arguments are ()\n",
      "The keyword arguments are {}\n",
      "The positional arguments are ()\n",
      "The keyword arguments are {}\n",
      "The positional arguments are ()\n",
      "The keyword arguments are {}\n",
      "The positional arguments are ()\n",
      "The keyword arguments are {}\n",
      "The positional arguments are ()\n",
      "The keyword arguments are {}\n",
      "The positional arguments are ()\n",
      "The keyword arguments are {}\n",
      "The positional arguments are ()\n",
      "The keyword arguments are {}\n",
      "The positional arguments are ()\n",
      "The keyword arguments are {}\n",
      "The positional arguments are ()\n",
      "The keyword arguments are {}\n",
      "The positional arguments are ()\n",
      "The keyword arguments are {}\n",
      "The positional arguments are ()\n",
      "The keyword arguments are {}\n",
      "The positional arguments are ()\n",
      "The keyword arguments are {}\n",
      "The positional arguments are ()\n",
      "The keyword arguments are {}\n",
      "The positional arguments are ()\n",
      "The keyword arguments are {}\n",
      "The positional arguments are ()\n",
      "The keyword arguments are {}\n",
      "The positional arguments are ()\n",
      "The keyword arguments are {}\n",
      "The positional arguments are ()\n",
      "The keyword arguments are {}\n",
      "The positional arguments are ()\n",
      "The keyword arguments are {}\n",
      "The positional arguments are ()\n",
      "The keyword arguments are {}\n",
      "The positional arguments are ()\n",
      "The keyword arguments are {}\n",
      "The positional arguments are ()\n",
      "The keyword arguments are {}\n",
      "The positional arguments are ()\n",
      "The keyword arguments are {}\n",
      "The positional arguments are ()\n",
      "The keyword arguments are {}\n",
      "The positional arguments are ()\n",
      "The keyword arguments are {}\n",
      "The positional arguments are ()\n",
      "The keyword arguments are {}\n",
      "The positional arguments are ()\n",
      "The keyword arguments are {}\n",
      "The positional arguments are ()\n",
      "The keyword arguments are {}\n",
      "The positional arguments are ()\n",
      "The keyword arguments are {}\n",
      "The positional arguments are ()\n",
      "The keyword arguments are {}\n",
      "The positional arguments are ()\n",
      "The keyword arguments are {}\n",
      "The positional arguments are ()\n",
      "The keyword arguments are {}\n",
      "The positional arguments are ()\n",
      "The keyword arguments are {}\n",
      "The positional arguments are ()\n",
      "The keyword arguments are {}\n",
      "The positional arguments are ()\n",
      "The keyword arguments are {}\n",
      "The positional arguments are ()\n",
      "The keyword arguments are {}\n",
      "The positional arguments are ()\n",
      "The keyword arguments are {}\n",
      "The positional arguments are ()\n",
      "The keyword arguments are {}\n",
      "The positional arguments are ()\n",
      "The keyword arguments are {}\n",
      "The positional arguments are ()\n",
      "The keyword arguments are {}\n",
      "The positional arguments are ()\n",
      "The keyword arguments are {}\n",
      "The positional arguments are ()\n",
      "The keyword arguments are {}\n",
      "The positional arguments are ()\n",
      "The keyword arguments are {}\n",
      "The positional arguments are ()\n",
      "The keyword arguments are {}\n",
      "The positional arguments are ()\n",
      "The keyword arguments are {}\n",
      "The positional arguments are ()\n",
      "The keyword arguments are {}\n",
      "The positional arguments are ()\n",
      "The keyword arguments are {}\n",
      "The positional arguments are ()\n",
      "The keyword arguments are {}\n",
      "The positional arguments are ()\n",
      "The keyword arguments are {}\n",
      "The positional arguments are ()\n",
      "The keyword arguments are {}\n",
      "The positional arguments are ()\n",
      "The keyword arguments are {}\n",
      "The positional arguments are ()\n",
      "The keyword arguments are {}\n",
      "The positional arguments are ()\n",
      "The keyword arguments are {}\n",
      "The positional arguments are ()\n",
      "The keyword arguments are {}\n",
      "The positional arguments are ()\n",
      "The keyword arguments are {}\n",
      "The positional arguments are ()\n",
      "The keyword arguments are {}\n",
      "The positional arguments are ()\n",
      "The keyword arguments are {}\n",
      "The positional arguments are ()\n",
      "The keyword arguments are {}\n",
      "The positional arguments are ()\n",
      "The keyword arguments are {}\n",
      "The positional arguments are ()\n",
      "The keyword arguments are {}\n",
      "The positional arguments are ()\n",
      "The keyword arguments are {}\n",
      "The positional arguments are ()\n",
      "The keyword arguments are {}\n",
      "The positional arguments are ()\n",
      "The keyword arguments are {}\n",
      "The positional arguments are ()\n",
      "The keyword arguments are {}\n",
      "The positional arguments are ()\n",
      "The keyword arguments are {}\n",
      "The positional arguments are ()\n",
      "The keyword arguments are {}\n",
      "The positional arguments are ()\n",
      "The keyword arguments are {}\n",
      "The positional arguments are ()\n",
      "The keyword arguments are {}\n",
      "The positional arguments are ()\n",
      "The keyword arguments are {}\n",
      "The positional arguments are ()\n",
      "The keyword arguments are {}\n",
      "The positional arguments are ()\n",
      "The keyword arguments are {}\n",
      "The positional arguments are ()\n",
      "The keyword arguments are {}\n",
      "The positional arguments are ()\n",
      "The keyword arguments are {}\n",
      "The positional arguments are ()\n"
     ]
    },
    {
     "name": "stdout",
     "output_type": "stream",
     "text": [
      "The keyword arguments are {}\n",
      "The positional arguments are ()\n",
      "The keyword arguments are {}\n",
      "The positional arguments are ()\n",
      "The keyword arguments are {}\n",
      "The positional arguments are ()\n",
      "The keyword arguments are {}\n",
      "The positional arguments are ()\n",
      "The keyword arguments are {}\n",
      "The positional arguments are ()\n",
      "The keyword arguments are {}\n",
      "The positional arguments are ()\n",
      "The keyword arguments are {}\n",
      "The positional arguments are ()\n",
      "The keyword arguments are {}\n",
      "The positional arguments are ()\n",
      "The keyword arguments are {}\n",
      "The positional arguments are ()\n",
      "The keyword arguments are {}\n",
      "The positional arguments are ()\n",
      "The keyword arguments are {}\n",
      "The positional arguments are ()\n",
      "The keyword arguments are {}\n",
      "The positional arguments are ()\n",
      "The keyword arguments are {}\n",
      "The positional arguments are ()\n",
      "The keyword arguments are {}\n",
      "The positional arguments are ()\n",
      "The keyword arguments are {}\n",
      "The positional arguments are ()\n",
      "The keyword arguments are {}\n",
      "The positional arguments are ()\n",
      "The keyword arguments are {}\n",
      "The positional arguments are ()\n",
      "The keyword arguments are {}\n",
      "The positional arguments are ()\n",
      "The keyword arguments are {}\n",
      "The positional arguments are ()\n",
      "The keyword arguments are {}\n",
      "The positional arguments are ()\n",
      "The keyword arguments are {}\n",
      "The positional arguments are ()\n",
      "The keyword arguments are {}\n",
      "The positional arguments are ()\n",
      "The keyword arguments are {}\n",
      "The positional arguments are ()\n",
      "The keyword arguments are {}\n",
      "The positional arguments are ()\n",
      "The keyword arguments are {}\n",
      "The positional arguments are ()\n",
      "The keyword arguments are {}\n",
      "The positional arguments are ()\n",
      "The keyword arguments are {}\n",
      "The positional arguments are ()\n",
      "The keyword arguments are {}\n",
      "The positional arguments are ()\n",
      "The keyword arguments are {}\n",
      "The positional arguments are ()\n",
      "The keyword arguments are {}\n",
      "The positional arguments are ()\n",
      "The keyword arguments are {}\n",
      "The positional arguments are ()\n",
      "The keyword arguments are {}\n",
      "The positional arguments are ()\n",
      "The keyword arguments are {}\n",
      "The positional arguments are ()\n",
      "The keyword arguments are {}\n",
      "The positional arguments are ()\n",
      "The keyword arguments are {}\n",
      "The positional arguments are ()\n",
      "The keyword arguments are {}\n",
      "The positional arguments are ()\n",
      "The keyword arguments are {}\n",
      "The positional arguments are ()\n",
      "The keyword arguments are {}\n",
      "The positional arguments are ()\n",
      "The keyword arguments are {}\n",
      "The positional arguments are ()\n",
      "The keyword arguments are {}\n",
      "The positional arguments are ()\n",
      "The keyword arguments are {}\n",
      "The positional arguments are ()\n",
      "The keyword arguments are {}\n",
      "The positional arguments are ()\n",
      "The keyword arguments are {}\n",
      "The positional arguments are ()\n",
      "The keyword arguments are {}\n",
      "The positional arguments are ()\n",
      "The keyword arguments are {}\n",
      "The positional arguments are ()\n",
      "The keyword arguments are {}\n",
      "The positional arguments are ()\n",
      "The keyword arguments are {}\n",
      "The positional arguments are ()\n",
      "The keyword arguments are {}\n",
      "The positional arguments are ()\n",
      "The keyword arguments are {}\n",
      "The positional arguments are ()\n",
      "The keyword arguments are {}\n",
      "The positional arguments are ()\n",
      "The keyword arguments are {}\n",
      "The positional arguments are ()\n",
      "The keyword arguments are {}\n",
      "The positional arguments are ()\n",
      "The keyword arguments are {}\n",
      "The positional arguments are ()\n",
      "The keyword arguments are {}\n",
      "The positional arguments are ()\n",
      "The keyword arguments are {}\n",
      "The positional arguments are ()\n",
      "The keyword arguments are {}\n",
      "The positional arguments are ()\n",
      "The keyword arguments are {}\n",
      "The positional arguments are ()\n",
      "The keyword arguments are {}\n",
      "The positional arguments are ()\n",
      "The keyword arguments are {}\n",
      "The positional arguments are ()\n",
      "The keyword arguments are {}\n",
      "The positional arguments are ()\n",
      "The keyword arguments are {}\n",
      "The positional arguments are ()\n",
      "The keyword arguments are {}\n",
      "The positional arguments are ()\n",
      "The keyword arguments are {}\n",
      "The positional arguments are ()\n",
      "The keyword arguments are {}\n",
      "The positional arguments are ()\n",
      "The keyword arguments are {}\n",
      "The positional arguments are ()\n",
      "The keyword arguments are {}\n",
      "The positional arguments are ()\n",
      "The keyword arguments are {}\n",
      "The positional arguments are ()\n",
      "The keyword arguments are {}\n",
      "The positional arguments are ()\n",
      "The keyword arguments are {}\n",
      "The positional arguments are ()\n",
      "The keyword arguments are {}\n",
      "The positional arguments are ()\n",
      "The keyword arguments are {}\n",
      "The positional arguments are ()\n",
      "The keyword arguments are {}\n",
      "The positional arguments are ()\n",
      "The keyword arguments are {}\n",
      "The positional arguments are ()\n",
      "The keyword arguments are {}\n",
      "The positional arguments are ()\n",
      "The keyword arguments are {}\n",
      "The positional arguments are ()\n",
      "The keyword arguments are {}\n",
      "The positional arguments are ()\n",
      "The keyword arguments are {}\n",
      "The positional arguments are ()\n",
      "The keyword arguments are {}\n",
      "The positional arguments are ()\n",
      "The keyword arguments are {}\n",
      "The positional arguments are ()\n",
      "The keyword arguments are {}\n",
      "The positional arguments are ()\n",
      "The keyword arguments are {}\n",
      "The positional arguments are ()\n",
      "The keyword arguments are {}\n",
      "The positional arguments are ()\n",
      "The keyword arguments are {}\n",
      "The positional arguments are ()\n",
      "The keyword arguments are {}\n",
      "The positional arguments are ()\n",
      "The keyword arguments are {}\n",
      "The positional arguments are ()\n",
      "The keyword arguments are {}\n",
      "The positional arguments are ()\n",
      "The keyword arguments are {}\n",
      "The positional arguments are ()\n",
      "The keyword arguments are {}\n",
      "The positional arguments are ()\n",
      "The keyword arguments are {}\n",
      "The positional arguments are ()\n",
      "The keyword arguments are {}\n",
      "The positional arguments are ()\n",
      "The keyword arguments are {}\n",
      "The positional arguments are ()\n",
      "The keyword arguments are {}\n",
      "The positional arguments are ()\n",
      "The keyword arguments are {}\n",
      "The positional arguments are ()\n",
      "The keyword arguments are {}\n",
      "The positional arguments are ()\n",
      "The keyword arguments are {}\n",
      "The positional arguments are ()\n",
      "The keyword arguments are {}\n",
      "The positional arguments are ()\n",
      "The keyword arguments are {}\n",
      "The positional arguments are ()\n",
      "The keyword arguments are {}\n",
      "The positional arguments are ()\n",
      "The keyword arguments are {}\n",
      "The positional arguments are ()\n",
      "The keyword arguments are {}\n",
      "The positional arguments are ()\n",
      "The keyword arguments are {}\n",
      "The positional arguments are ()\n",
      "The keyword arguments are {}\n",
      "The positional arguments are ()\n",
      "The keyword arguments are {}\n",
      "The positional arguments are ()\n",
      "The keyword arguments are {}\n",
      "The positional arguments are ()\n",
      "The keyword arguments are {}\n",
      "The positional arguments are ()\n",
      "The keyword arguments are {}\n",
      "The positional arguments are ()\n",
      "The keyword arguments are {}\n",
      "The positional arguments are ()\n",
      "The keyword arguments are {}\n",
      "The positional arguments are ()\n",
      "The keyword arguments are {}\n",
      "The positional arguments are ()\n",
      "The keyword arguments are {}\n",
      "The positional arguments are ()\n",
      "The keyword arguments are {}\n",
      "The positional arguments are ()\n",
      "The keyword arguments are {}\n",
      "The positional arguments are ()\n",
      "The keyword arguments are {}\n",
      "The positional arguments are ()\n",
      "The keyword arguments are {}\n",
      "The positional arguments are ()\n",
      "The keyword arguments are {}\n",
      "The positional arguments are ()\n",
      "The keyword arguments are {}\n",
      "The positional arguments are ()\n",
      "The keyword arguments are {}\n",
      "The positional arguments are ()\n",
      "The keyword arguments are {}\n",
      "The positional arguments are ()\n",
      "The keyword arguments are {}\n",
      "The positional arguments are ()\n",
      "The keyword arguments are {}\n",
      "The positional arguments are ()\n",
      "The keyword arguments are {}\n",
      "The positional arguments are ()\n",
      "The keyword arguments are {}\n",
      "The positional arguments are ()\n",
      "The keyword arguments are {}\n",
      "The positional arguments are ()\n",
      "The keyword arguments are {}\n",
      "The positional arguments are ()\n",
      "The keyword arguments are {}\n",
      "The positional arguments are ()\n",
      "The keyword arguments are {}\n",
      "The positional arguments are ()\n",
      "The keyword arguments are {}\n",
      "The positional arguments are ()\n",
      "The keyword arguments are {}\n",
      "The positional arguments are ()\n",
      "The keyword arguments are {}\n",
      "The positional arguments are ()\n",
      "The keyword arguments are {}\n",
      "The positional arguments are ()\n",
      "The keyword arguments are {}\n",
      "The positional arguments are ()\n",
      "The keyword arguments are {}\n",
      "The positional arguments are ()\n",
      "The keyword arguments are {}\n",
      "The positional arguments are ()\n",
      "The keyword arguments are {}\n",
      "The positional arguments are ()\n",
      "The keyword arguments are {}\n",
      "The positional arguments are ()\n",
      "The keyword arguments are {}\n",
      "The positional arguments are ()\n",
      "The keyword arguments are {}\n",
      "The positional arguments are ()\n",
      "The keyword arguments are {}\n",
      "The positional arguments are ()\n",
      "The keyword arguments are {}\n",
      "The positional arguments are ()\n",
      "The keyword arguments are {}\n",
      "The positional arguments are ()\n",
      "The keyword arguments are {}\n",
      "The positional arguments are ()\n",
      "The keyword arguments are {}\n",
      "The positional arguments are ()\n",
      "The keyword arguments are {}\n",
      "The positional arguments are ()\n",
      "The keyword arguments are {}\n",
      "The positional arguments are ()\n",
      "The keyword arguments are {}\n",
      "The positional arguments are ()\n",
      "The keyword arguments are {}\n",
      "The positional arguments are ()\n",
      "The keyword arguments are {}\n",
      "The positional arguments are ()\n",
      "The keyword arguments are {}\n",
      "The positional arguments are ()\n",
      "The keyword arguments are {}\n",
      "The positional arguments are ()\n",
      "The keyword arguments are {}\n",
      "The positional arguments are ()\n",
      "The keyword arguments are {}\n",
      "The positional arguments are ()\n",
      "The keyword arguments are {}\n",
      "The positional arguments are ()\n",
      "The keyword arguments are {}\n",
      "The positional arguments are ()\n",
      "The keyword arguments are {}\n",
      "The positional arguments are ()\n",
      "The keyword arguments are {}\n",
      "The positional arguments are ()\n",
      "The keyword arguments are {}\n",
      "The positional arguments are ()\n",
      "The keyword arguments are {}\n",
      "The positional arguments are ()\n",
      "The keyword arguments are {}\n",
      "The positional arguments are ()\n",
      "The keyword arguments are {}\n",
      "The positional arguments are ()\n",
      "The keyword arguments are {}\n",
      "The positional arguments are ()\n",
      "The keyword arguments are {}\n",
      "The positional arguments are ()\n",
      "The keyword arguments are {}\n",
      "The positional arguments are ()\n",
      "The keyword arguments are {}\n",
      "The positional arguments are ()\n",
      "The keyword arguments are {}\n",
      "The positional arguments are ()\n",
      "The keyword arguments are {}\n",
      "The positional arguments are ()\n",
      "The keyword arguments are {}\n",
      "The positional arguments are ()\n",
      "The keyword arguments are {}\n",
      "The positional arguments are ()\n",
      "The keyword arguments are {}\n",
      "The positional arguments are ()\n",
      "The keyword arguments are {}\n",
      "The positional arguments are ()\n",
      "The keyword arguments are {}\n",
      "The positional arguments are ()\n",
      "The keyword arguments are {}\n",
      "The positional arguments are ()\n",
      "The keyword arguments are {}\n",
      "The positional arguments are ()\n",
      "The keyword arguments are {}\n",
      "The positional arguments are ()\n",
      "The keyword arguments are {}\n",
      "The positional arguments are ()\n",
      "The keyword arguments are {}\n",
      "The positional arguments are ()\n",
      "The keyword arguments are {}\n",
      "The positional arguments are ()\n",
      "The keyword arguments are {}\n",
      "The positional arguments are ()\n",
      "The keyword arguments are {}\n",
      "The positional arguments are ()\n",
      "The keyword arguments are {}\n",
      "The positional arguments are ()\n",
      "The keyword arguments are {}\n",
      "The positional arguments are ()\n",
      "The keyword arguments are {}\n",
      "The positional arguments are ()\n",
      "The keyword arguments are {}\n",
      "The positional arguments are ()\n",
      "The keyword arguments are {}\n",
      "The positional arguments are ()\n",
      "The keyword arguments are {}\n",
      "The positional arguments are ()\n",
      "The keyword arguments are {}\n",
      "The positional arguments are ()\n",
      "The keyword arguments are {}\n",
      "The positional arguments are ()\n",
      "The keyword arguments are {}\n",
      "The positional arguments are ()\n",
      "The keyword arguments are {}\n",
      "The positional arguments are ()\n",
      "The keyword arguments are {}\n",
      "The positional arguments are ()\n",
      "The keyword arguments are {}\n",
      "The positional arguments are ()\n",
      "The keyword arguments are {}\n",
      "The positional arguments are ()\n",
      "The keyword arguments are {}\n",
      "The positional arguments are ()\n",
      "The keyword arguments are {}\n",
      "The positional arguments are ()\n",
      "The keyword arguments are {}\n",
      "The positional arguments are ()\n",
      "The keyword arguments are {}\n",
      "The positional arguments are ()\n",
      "The keyword arguments are {}\n",
      "The positional arguments are ()\n",
      "The keyword arguments are {}\n",
      "The positional arguments are ()\n",
      "The keyword arguments are {}\n",
      "The positional arguments are ()\n",
      "The keyword arguments are {}\n",
      "The positional arguments are ()\n",
      "The keyword arguments are {}\n",
      "The positional arguments are ()\n",
      "The keyword arguments are {}\n",
      "The positional arguments are ()\n",
      "The keyword arguments are {}\n",
      "The positional arguments are ()\n",
      "The keyword arguments are {}\n",
      "The positional arguments are ()\n",
      "The keyword arguments are {}\n",
      "The positional arguments are ()\n",
      "The keyword arguments are {}\n",
      "The positional arguments are ()\n",
      "The keyword arguments are {}\n",
      "The positional arguments are ()\n",
      "The keyword arguments are {}\n",
      "The positional arguments are ()\n",
      "The keyword arguments are {}\n",
      "The positional arguments are ()\n",
      "The keyword arguments are {}\n",
      "The positional arguments are ()\n",
      "The keyword arguments are {}\n",
      "The positional arguments are ()\n",
      "The keyword arguments are {}\n",
      "The positional arguments are ()\n",
      "The keyword arguments are {}\n",
      "The positional arguments are ()\n",
      "The keyword arguments are {}\n",
      "The positional arguments are ()\n",
      "The keyword arguments are {}\n",
      "The positional arguments are ()\n",
      "The keyword arguments are {}\n",
      "The positional arguments are ()\n",
      "The keyword arguments are {}\n",
      "The positional arguments are ()\n",
      "The keyword arguments are {}\n",
      "The positional arguments are ()\n",
      "The keyword arguments are {}\n",
      "The positional arguments are ()\n",
      "The keyword arguments are {}\n",
      "The positional arguments are ()\n",
      "The keyword arguments are {}\n",
      "The positional arguments are ()\n",
      "The keyword arguments are {}\n",
      "The positional arguments are ()\n",
      "The keyword arguments are {}\n",
      "The positional arguments are ()\n",
      "The keyword arguments are {}\n",
      "The positional arguments are ()\n",
      "The keyword arguments are {}\n",
      "The positional arguments are ()\n",
      "The keyword arguments are {}\n",
      "The positional arguments are ()\n",
      "The keyword arguments are {}\n",
      "The positional arguments are ()\n",
      "The keyword arguments are {}\n",
      "The positional arguments are ()\n",
      "The keyword arguments are {}\n",
      "The positional arguments are ()\n",
      "The keyword arguments are {}\n",
      "The positional arguments are ()\n",
      "The keyword arguments are {}\n",
      "The positional arguments are ()\n",
      "The keyword arguments are {}\n",
      "The positional arguments are ()\n",
      "The keyword arguments are {}\n",
      "The positional arguments are ()\n",
      "The keyword arguments are {}\n",
      "The positional arguments are ()\n",
      "The keyword arguments are {}\n",
      "The positional arguments are ()\n",
      "The keyword arguments are {}\n",
      "The positional arguments are ()\n",
      "The keyword arguments are {}\n",
      "The positional arguments are ()\n",
      "The keyword arguments are {}\n",
      "The positional arguments are ()\n",
      "The keyword arguments are {}\n",
      "The positional arguments are ()\n",
      "The keyword arguments are {}\n",
      "The positional arguments are ()\n",
      "The keyword arguments are {}\n",
      "The positional arguments are ()\n",
      "The keyword arguments are {}\n",
      "The positional arguments are ()\n",
      "The keyword arguments are {}\n",
      "The positional arguments are ()\n",
      "The keyword arguments are {}\n",
      "The positional arguments are ()\n",
      "The keyword arguments are {}\n",
      "The positional arguments are ()\n",
      "The keyword arguments are {}\n",
      "The positional arguments are ()\n",
      "The keyword arguments are {}\n",
      "The positional arguments are ()\n",
      "The keyword arguments are {}\n",
      "The positional arguments are ()\n",
      "The keyword arguments are {}\n",
      "The positional arguments are ()\n",
      "The keyword arguments are {}\n",
      "The positional arguments are ()\n",
      "The keyword arguments are {}\n",
      "The positional arguments are ()\n",
      "The keyword arguments are {}\n",
      "The positional arguments are ()\n",
      "The keyword arguments are {}\n",
      "The positional arguments are ()\n",
      "The keyword arguments are {}\n",
      "The positional arguments are ()\n",
      "The keyword arguments are {}\n",
      "The positional arguments are ()\n",
      "The keyword arguments are {}\n",
      "The positional arguments are ()\n",
      "The keyword arguments are {}\n",
      "The positional arguments are ()\n",
      "The keyword arguments are {}\n",
      "The positional arguments are ()\n",
      "The keyword arguments are {}\n",
      "The positional arguments are ()\n",
      "The keyword arguments are {}\n",
      "The positional arguments are ()\n",
      "The keyword arguments are {}\n",
      "The positional arguments are ()\n",
      "The keyword arguments are {}\n",
      "The positional arguments are ()\n",
      "The keyword arguments are {}\n",
      "The positional arguments are ()\n",
      "The keyword arguments are {}\n",
      "The positional arguments are ()\n",
      "The keyword arguments are {}\n",
      "The positional arguments are ()\n",
      "The keyword arguments are {}\n",
      "The positional arguments are ()\n",
      "The keyword arguments are {}\n",
      "The positional arguments are ()\n",
      "The keyword arguments are {}\n",
      "The positional arguments are ()\n",
      "The keyword arguments are {}\n",
      "The positional arguments are ()\n",
      "The keyword arguments are {}\n",
      "The positional arguments are ()\n",
      "The keyword arguments are {}\n",
      "The positional arguments are ()\n",
      "The keyword arguments are {}\n",
      "The positional arguments are ()\n",
      "The keyword arguments are {}\n",
      "The positional arguments are ()\n",
      "The keyword arguments are {}\n",
      "The positional arguments are ()\n",
      "The keyword arguments are {}\n",
      "The positional arguments are ()\n",
      "The keyword arguments are {}\n",
      "The positional arguments are ()\n",
      "The keyword arguments are {}\n",
      "The positional arguments are ()\n",
      "The keyword arguments are {}\n",
      "The positional arguments are ()\n"
     ]
    },
    {
     "name": "stdout",
     "output_type": "stream",
     "text": [
      "The keyword arguments are {}\n",
      "The positional arguments are ()\n",
      "The keyword arguments are {}\n",
      "The positional arguments are ()\n",
      "The keyword arguments are {}\n",
      "The positional arguments are ()\n",
      "The keyword arguments are {}\n",
      "The positional arguments are ()\n",
      "The keyword arguments are {}\n",
      "The positional arguments are ()\n",
      "The keyword arguments are {}\n",
      "The positional arguments are ()\n",
      "The keyword arguments are {}\n",
      "The positional arguments are ()\n",
      "The keyword arguments are {}\n",
      "The positional arguments are ()\n",
      "The keyword arguments are {}\n",
      "The positional arguments are ()\n",
      "The keyword arguments are {}\n",
      "The positional arguments are ()\n",
      "The keyword arguments are {}\n",
      "The positional arguments are ()\n",
      "The keyword arguments are {}\n",
      "The positional arguments are ()\n",
      "The keyword arguments are {}\n",
      "The positional arguments are ()\n",
      "The keyword arguments are {}\n",
      "The positional arguments are ()\n",
      "The keyword arguments are {}\n",
      "The positional arguments are ()\n",
      "The keyword arguments are {}\n",
      "The positional arguments are ()\n",
      "The keyword arguments are {}\n",
      "The positional arguments are ()\n",
      "The keyword arguments are {}\n",
      "The positional arguments are ()\n",
      "The keyword arguments are {}\n",
      "The positional arguments are ()\n",
      "The keyword arguments are {}\n",
      "The positional arguments are ()\n",
      "The keyword arguments are {}\n",
      "The positional arguments are ()\n",
      "The keyword arguments are {}\n",
      "The positional arguments are ()\n",
      "The keyword arguments are {}\n",
      "The positional arguments are ()\n",
      "The keyword arguments are {}\n",
      "The positional arguments are ()\n",
      "The keyword arguments are {}\n",
      "The positional arguments are ()\n",
      "The keyword arguments are {}\n",
      "The positional arguments are ()\n",
      "The keyword arguments are {}\n",
      "The positional arguments are ()\n",
      "The keyword arguments are {}\n",
      "The positional arguments are ()\n",
      "The keyword arguments are {}\n",
      "The positional arguments are ()\n",
      "The keyword arguments are {}\n",
      "The positional arguments are ()\n",
      "The keyword arguments are {}\n",
      "The positional arguments are ()\n",
      "The keyword arguments are {}\n",
      "The positional arguments are ()\n",
      "The keyword arguments are {}\n",
      "The positional arguments are ()\n",
      "The keyword arguments are {}\n",
      "The positional arguments are ()\n",
      "The keyword arguments are {}\n",
      "The positional arguments are ()\n",
      "The keyword arguments are {}\n",
      "The positional arguments are ()\n",
      "The keyword arguments are {}\n",
      "The positional arguments are ()\n",
      "The keyword arguments are {}\n",
      "The positional arguments are ()\n",
      "The keyword arguments are {}\n",
      "The positional arguments are ()\n",
      "The keyword arguments are {}\n",
      "The positional arguments are ()\n",
      "The keyword arguments are {}\n",
      "The positional arguments are ()\n",
      "The keyword arguments are {}\n",
      "The positional arguments are ()\n",
      "The keyword arguments are {}\n",
      "The positional arguments are ()\n",
      "The keyword arguments are {}\n",
      "The positional arguments are ()\n",
      "The keyword arguments are {}\n",
      "The positional arguments are ()\n",
      "The keyword arguments are {}\n",
      "The positional arguments are ()\n",
      "The keyword arguments are {}\n",
      "The positional arguments are ()\n",
      "The keyword arguments are {}\n",
      "The positional arguments are ()\n",
      "The keyword arguments are {}\n",
      "The positional arguments are ()\n",
      "The keyword arguments are {}\n",
      "The positional arguments are ()\n",
      "The keyword arguments are {}\n",
      "The positional arguments are ()\n",
      "The keyword arguments are {}\n",
      "The positional arguments are ()\n",
      "The keyword arguments are {}\n",
      "The positional arguments are ()\n",
      "The keyword arguments are {}\n",
      "The positional arguments are ()\n",
      "The keyword arguments are {}\n",
      "The positional arguments are ()\n",
      "The keyword arguments are {}\n",
      "The positional arguments are ()\n",
      "The keyword arguments are {}\n",
      "The positional arguments are ()\n",
      "The keyword arguments are {}\n",
      "The positional arguments are ()\n",
      "The keyword arguments are {}\n",
      "The positional arguments are ()\n",
      "The keyword arguments are {}\n",
      "The positional arguments are ()\n",
      "The keyword arguments are {}\n",
      "The positional arguments are ()\n",
      "The keyword arguments are {}\n",
      "The positional arguments are ()\n",
      "The keyword arguments are {}\n",
      "The positional arguments are ()\n",
      "The keyword arguments are {}\n",
      "The positional arguments are ()\n",
      "The keyword arguments are {}\n",
      "The positional arguments are ()\n",
      "The keyword arguments are {}\n",
      "The positional arguments are ()\n",
      "The keyword arguments are {}\n",
      "The positional arguments are ()\n",
      "The keyword arguments are {}\n",
      "The positional arguments are ()\n",
      "The keyword arguments are {}\n",
      "The positional arguments are ()\n",
      "The keyword arguments are {}\n",
      "The positional arguments are ()\n",
      "The keyword arguments are {}\n",
      "The positional arguments are ()\n",
      "The keyword arguments are {}\n",
      "The positional arguments are ()\n",
      "The keyword arguments are {}\n",
      "The positional arguments are ()\n",
      "The keyword arguments are {}\n",
      "The positional arguments are ()\n",
      "The keyword arguments are {}\n",
      "The positional arguments are ()\n",
      "The keyword arguments are {}\n",
      "The positional arguments are ()\n",
      "The keyword arguments are {}\n",
      "The positional arguments are ()\n",
      "The keyword arguments are {}\n",
      "The positional arguments are ()\n",
      "The keyword arguments are {}\n",
      "The positional arguments are ()\n",
      "The keyword arguments are {}\n",
      "The positional arguments are ()\n",
      "The keyword arguments are {}\n",
      "The positional arguments are ()\n",
      "The keyword arguments are {}\n",
      "The positional arguments are ()\n",
      "The keyword arguments are {}\n",
      "The positional arguments are ()\n",
      "The keyword arguments are {}\n",
      "The positional arguments are ()\n",
      "The keyword arguments are {}\n",
      "The positional arguments are ()\n",
      "The keyword arguments are {}\n",
      "The positional arguments are ()\n",
      "The keyword arguments are {}\n",
      "The positional arguments are ()\n",
      "The keyword arguments are {}\n",
      "The positional arguments are ()\n",
      "The keyword arguments are {}\n",
      "The positional arguments are ()\n",
      "The keyword arguments are {}\n",
      "The positional arguments are ()\n",
      "The keyword arguments are {}\n",
      "The positional arguments are ()\n",
      "The keyword arguments are {}\n",
      "The positional arguments are ()\n",
      "The keyword arguments are {}\n",
      "The positional arguments are ()\n",
      "The keyword arguments are {}\n",
      "The positional arguments are ()\n",
      "The keyword arguments are {}\n",
      "The positional arguments are ()\n",
      "The keyword arguments are {}\n",
      "The positional arguments are ()\n",
      "The keyword arguments are {}\n",
      "The positional arguments are ()\n",
      "The keyword arguments are {}\n",
      "The positional arguments are ()\n",
      "The keyword arguments are {}\n",
      "The positional arguments are ()\n",
      "The keyword arguments are {}\n",
      "The positional arguments are ()\n",
      "The keyword arguments are {}\n",
      "The positional arguments are ()\n",
      "The keyword arguments are {}\n",
      "The positional arguments are ()\n",
      "The keyword arguments are {}\n",
      "The positional arguments are ()\n",
      "The keyword arguments are {}\n",
      "The positional arguments are ()\n",
      "The keyword arguments are {}\n",
      "The positional arguments are ()\n",
      "The keyword arguments are {}\n",
      "The positional arguments are ()\n",
      "The keyword arguments are {}\n",
      "The positional arguments are ()\n",
      "The keyword arguments are {}\n",
      "The positional arguments are ()\n",
      "The keyword arguments are {}\n",
      "The positional arguments are ()\n",
      "The keyword arguments are {}\n",
      "The positional arguments are ()\n",
      "The keyword arguments are {}\n",
      "The positional arguments are ()\n",
      "The keyword arguments are {}\n",
      "The positional arguments are ()\n",
      "The keyword arguments are {}\n",
      "The positional arguments are ()\n",
      "The keyword arguments are {}\n",
      "The positional arguments are ()\n",
      "The keyword arguments are {}\n",
      "The positional arguments are ()\n",
      "The keyword arguments are {}\n",
      "The positional arguments are ()\n",
      "The keyword arguments are {}\n",
      "The positional arguments are ()\n",
      "The keyword arguments are {}\n",
      "The positional arguments are ()\n",
      "The keyword arguments are {}\n",
      "The positional arguments are ()\n",
      "The keyword arguments are {}\n",
      "The positional arguments are ()\n",
      "The keyword arguments are {}\n",
      "The positional arguments are ()\n",
      "The keyword arguments are {}\n",
      "The positional arguments are ()\n",
      "The keyword arguments are {}\n",
      "The positional arguments are ()\n",
      "The keyword arguments are {}\n",
      "The positional arguments are ()\n",
      "The keyword arguments are {}\n",
      "The positional arguments are ()\n",
      "The keyword arguments are {}\n",
      "The positional arguments are ()\n",
      "The keyword arguments are {}\n",
      "The positional arguments are ()\n",
      "The keyword arguments are {}\n",
      "The positional arguments are ()\n",
      "The keyword arguments are {}\n",
      "The positional arguments are ()\n",
      "The keyword arguments are {}\n",
      "The positional arguments are ()\n",
      "The keyword arguments are {}\n",
      "The positional arguments are ()\n",
      "The keyword arguments are {}\n",
      "The positional arguments are ()\n",
      "The keyword arguments are {}\n",
      "The positional arguments are ()\n",
      "The keyword arguments are {}\n",
      "The positional arguments are ()\n",
      "The keyword arguments are {}\n",
      "The positional arguments are ()\n",
      "The keyword arguments are {}\n",
      "The positional arguments are ()\n",
      "The keyword arguments are {}\n",
      "The positional arguments are ()\n",
      "The keyword arguments are {}\n",
      "The positional arguments are ()\n",
      "The keyword arguments are {}\n",
      "The positional arguments are ()\n",
      "The keyword arguments are {}\n",
      "The positional arguments are ()\n",
      "The keyword arguments are {}\n",
      "The positional arguments are ()\n",
      "The keyword arguments are {}\n",
      "The positional arguments are ()\n",
      "The keyword arguments are {}\n",
      "The positional arguments are ()\n",
      "The keyword arguments are {}\n",
      "The positional arguments are ()\n",
      "The keyword arguments are {}\n",
      "The positional arguments are ()\n",
      "The keyword arguments are {}\n",
      "The positional arguments are ()\n",
      "The keyword arguments are {}\n",
      "The positional arguments are ()\n",
      "The keyword arguments are {}\n",
      "The positional arguments are ()\n",
      "The keyword arguments are {}\n",
      "The positional arguments are ()\n",
      "The keyword arguments are {}\n",
      "The positional arguments are ()\n",
      "The keyword arguments are {}\n",
      "The positional arguments are ()\n",
      "The keyword arguments are {}\n",
      "The positional arguments are ()\n",
      "The keyword arguments are {}\n",
      "The positional arguments are ()\n",
      "The keyword arguments are {}\n",
      "The positional arguments are ()\n",
      "The keyword arguments are {}\n",
      "The positional arguments are ()\n",
      "The keyword arguments are {}\n",
      "The positional arguments are ()\n",
      "The keyword arguments are {}\n",
      "The positional arguments are ()\n",
      "The keyword arguments are {}\n",
      "The positional arguments are ()\n",
      "The keyword arguments are {}\n",
      "The positional arguments are ()\n",
      "The keyword arguments are {}\n",
      "The positional arguments are ()\n",
      "The keyword arguments are {}\n",
      "The positional arguments are ()\n",
      "The keyword arguments are {}\n",
      "The positional arguments are ()\n",
      "The keyword arguments are {}\n",
      "The positional arguments are ()\n",
      "The keyword arguments are {}\n",
      "The positional arguments are ()\n",
      "The keyword arguments are {}\n",
      "The positional arguments are ()\n",
      "The keyword arguments are {}\n",
      "The positional arguments are ()\n",
      "The keyword arguments are {}\n",
      "The positional arguments are ()\n",
      "The keyword arguments are {}\n",
      "The positional arguments are ()\n",
      "The keyword arguments are {}\n",
      "The positional arguments are ()\n",
      "The keyword arguments are {}\n",
      "The positional arguments are ()\n",
      "The keyword arguments are {}\n",
      "The positional arguments are ()\n",
      "The keyword arguments are {}\n",
      "The positional arguments are ()\n",
      "The keyword arguments are {}\n",
      "The positional arguments are ()\n",
      "The keyword arguments are {}\n",
      "The positional arguments are ()\n",
      "The keyword arguments are {}\n",
      "The positional arguments are ()\n",
      "The keyword arguments are {}\n",
      "The positional arguments are ()\n",
      "The keyword arguments are {}\n",
      "The positional arguments are ()\n",
      "The keyword arguments are {}\n",
      "The positional arguments are ()\n",
      "The keyword arguments are {}\n",
      "The positional arguments are ()\n",
      "The keyword arguments are {}\n",
      "The positional arguments are ()\n",
      "The keyword arguments are {}\n",
      "The positional arguments are ()\n",
      "The keyword arguments are {}\n",
      "The positional arguments are ()\n",
      "The keyword arguments are {}\n",
      "The positional arguments are ()\n",
      "The keyword arguments are {}\n",
      "The positional arguments are ()\n",
      "The keyword arguments are {}\n",
      "The positional arguments are ()\n",
      "The keyword arguments are {}\n",
      "The positional arguments are ()\n",
      "The keyword arguments are {}\n",
      "The positional arguments are ()\n",
      "The keyword arguments are {}\n",
      "The positional arguments are ()\n",
      "The keyword arguments are {}\n",
      "The positional arguments are ()\n",
      "The keyword arguments are {}\n",
      "The positional arguments are ()\n",
      "The keyword arguments are {}\n",
      "The positional arguments are ()\n",
      "The keyword arguments are {}\n",
      "The positional arguments are ()\n",
      "The keyword arguments are {}\n",
      "The positional arguments are ()\n",
      "The keyword arguments are {}\n",
      "The positional arguments are ()\n",
      "The keyword arguments are {}\n",
      "The positional arguments are ()\n",
      "The keyword arguments are {}\n",
      "The positional arguments are ()\n",
      "The keyword arguments are {}\n",
      "The positional arguments are ()\n",
      "The keyword arguments are {}\n",
      "The positional arguments are ()\n",
      "The keyword arguments are {}\n",
      "The positional arguments are ()\n",
      "The keyword arguments are {}\n",
      "The positional arguments are ()\n",
      "The keyword arguments are {}\n",
      "The positional arguments are ()\n",
      "The keyword arguments are {}\n",
      "The positional arguments are ()\n",
      "The keyword arguments are {}\n",
      "The positional arguments are ()\n",
      "The keyword arguments are {}\n",
      "The positional arguments are ()\n",
      "The keyword arguments are {}\n",
      "The positional arguments are ()\n",
      "The keyword arguments are {}\n",
      "The positional arguments are ()\n",
      "The keyword arguments are {}\n",
      "The positional arguments are ()\n",
      "The keyword arguments are {}\n",
      "The positional arguments are ()\n",
      "The keyword arguments are {}\n",
      "The positional arguments are ()\n",
      "The keyword arguments are {}\n",
      "The positional arguments are ()\n",
      "The keyword arguments are {}\n",
      "The positional arguments are ()\n",
      "The keyword arguments are {}\n",
      "The positional arguments are ()\n",
      "The keyword arguments are {}\n",
      "The positional arguments are ()\n",
      "The keyword arguments are {}\n",
      "The positional arguments are ()\n",
      "The keyword arguments are {}\n",
      "The positional arguments are ()\n",
      "The keyword arguments are {}\n",
      "The positional arguments are ()\n",
      "The keyword arguments are {}\n",
      "The positional arguments are ()\n",
      "The keyword arguments are {}\n",
      "The positional arguments are ()\n",
      "The keyword arguments are {}\n",
      "The positional arguments are ()\n",
      "The keyword arguments are {}\n",
      "The positional arguments are ()\n",
      "The keyword arguments are {}\n",
      "The positional arguments are ()\n",
      "The keyword arguments are {}\n",
      "The positional arguments are ()\n",
      "The keyword arguments are {}\n",
      "The positional arguments are ()\n",
      "The keyword arguments are {}\n",
      "The positional arguments are ()\n",
      "The keyword arguments are {}\n",
      "The positional arguments are ()\n",
      "The keyword arguments are {}\n",
      "The positional arguments are ()\n",
      "The keyword arguments are {}\n",
      "The positional arguments are ()\n",
      "The keyword arguments are {}\n",
      "The positional arguments are ()\n",
      "The keyword arguments are {}\n",
      "The positional arguments are ()\n",
      "The keyword arguments are {}\n",
      "The positional arguments are ()\n",
      "The keyword arguments are {}\n",
      "The positional arguments are ()\n",
      "The keyword arguments are {}\n",
      "The positional arguments are ()\n",
      "The keyword arguments are {}\n",
      "The positional arguments are ()\n",
      "The keyword arguments are {}\n",
      "The positional arguments are ()\n",
      "The keyword arguments are {}\n",
      "The positional arguments are ()\n",
      "The keyword arguments are {}\n",
      "The positional arguments are ()\n",
      "The keyword arguments are {}\n",
      "The positional arguments are ()\n",
      "The keyword arguments are {}\n",
      "The positional arguments are ()\n",
      "The keyword arguments are {}\n",
      "The positional arguments are ()\n",
      "The keyword arguments are {}\n",
      "The positional arguments are ()\n",
      "The keyword arguments are {}\n",
      "The positional arguments are ()\n",
      "The keyword arguments are {}\n",
      "The positional arguments are ()\n",
      "The keyword arguments are {}\n",
      "The positional arguments are ()\n",
      "The keyword arguments are {}\n",
      "The positional arguments are ()\n",
      "The keyword arguments are {}\n",
      "The positional arguments are ()\n",
      "The keyword arguments are {}\n",
      "The positional arguments are ()\n",
      "The keyword arguments are {}\n",
      "The positional arguments are ()\n",
      "The keyword arguments are {}\n",
      "The positional arguments are ()\n",
      "The keyword arguments are {}\n",
      "The positional arguments are ()\n",
      "The keyword arguments are {}\n",
      "The positional arguments are ()\n",
      "The keyword arguments are {}\n",
      "The positional arguments are ()\n",
      "The keyword arguments are {}\n",
      "The positional arguments are ()\n",
      "The keyword arguments are {}\n",
      "The positional arguments are ()\n",
      "The keyword arguments are {}\n",
      "The positional arguments are ()\n",
      "The keyword arguments are {}\n",
      "The positional arguments are ()\n",
      "The keyword arguments are {}\n",
      "The positional arguments are ()\n",
      "The keyword arguments are {}\n",
      "The positional arguments are ()\n",
      "The keyword arguments are {}\n",
      "The positional arguments are ()\n",
      "The keyword arguments are {}\n",
      "The positional arguments are ()\n",
      "The keyword arguments are {}\n",
      "The positional arguments are ()\n",
      "The keyword arguments are {}\n",
      "The positional arguments are ()\n",
      "The keyword arguments are {}\n",
      "The positional arguments are ()\n",
      "The keyword arguments are {}\n",
      "The positional arguments are ()\n",
      "The keyword arguments are {}\n",
      "The positional arguments are ()\n",
      "The keyword arguments are {}\n",
      "The positional arguments are ()\n",
      "The keyword arguments are {}\n",
      "The positional arguments are ()\n",
      "The keyword arguments are {}\n",
      "The positional arguments are ()\n",
      "The keyword arguments are {}\n",
      "The positional arguments are ()\n",
      "The keyword arguments are {}\n",
      "The positional arguments are ()\n",
      "The keyword arguments are {}\n",
      "The positional arguments are ()\n",
      "The keyword arguments are {}\n",
      "The positional arguments are ()\n",
      "The keyword arguments are {}\n",
      "The positional arguments are ()\n",
      "The keyword arguments are {}\n",
      "The positional arguments are ()\n",
      "The keyword arguments are {}\n",
      "The positional arguments are ()\n",
      "The keyword arguments are {}\n",
      "The positional arguments are ()\n",
      "The keyword arguments are {}\n",
      "The positional arguments are ()\n",
      "The keyword arguments are {}\n",
      "The positional arguments are ()\n",
      "The keyword arguments are {}\n",
      "The positional arguments are ()\n",
      "The keyword arguments are {}\n",
      "The positional arguments are ()\n",
      "The keyword arguments are {}\n",
      "The positional arguments are ()\n",
      "The keyword arguments are {}\n",
      "The positional arguments are ()\n",
      "The keyword arguments are {}\n",
      "The positional arguments are ()\n",
      "The keyword arguments are {}\n",
      "The positional arguments are ()\n",
      "The keyword arguments are {}\n",
      "The positional arguments are ()\n",
      "The keyword arguments are {}\n",
      "The positional arguments are ()\n",
      "The keyword arguments are {}\n",
      "The positional arguments are ()\n",
      "The keyword arguments are {}\n",
      "The positional arguments are ()\n",
      "The keyword arguments are {}\n",
      "The positional arguments are ()\n",
      "The keyword arguments are {}\n",
      "The positional arguments are ()\n",
      "The keyword arguments are {}\n",
      "The positional arguments are ()\n",
      "The keyword arguments are {}\n",
      "The positional arguments are ()\n",
      "The keyword arguments are {}\n",
      "The positional arguments are ()\n",
      "The keyword arguments are {}\n",
      "The positional arguments are ()\n",
      "The keyword arguments are {}\n",
      "The positional arguments are ()\n",
      "The keyword arguments are {}\n",
      "The positional arguments are ()\n",
      "The keyword arguments are {}\n",
      "The positional arguments are ()\n",
      "The keyword arguments are {}\n",
      "The positional arguments are ()\n",
      "The keyword arguments are {}\n",
      "The positional arguments are ()\n",
      "The keyword arguments are {}\n",
      "The positional arguments are ()\n",
      "The keyword arguments are {}\n",
      "The positional arguments are ()\n",
      "The keyword arguments are {}\n",
      "The positional arguments are ()\n",
      "The keyword arguments are {}\n",
      "The positional arguments are ()\n",
      "The keyword arguments are {}\n",
      "The positional arguments are ()\n",
      "The keyword arguments are {}\n",
      "The positional arguments are ()\n",
      "The keyword arguments are {}\n",
      "The positional arguments are ()\n",
      "The keyword arguments are {}\n",
      "The positional arguments are ()\n",
      "The keyword arguments are {}\n",
      "The positional arguments are ()\n",
      "The keyword arguments are {}\n",
      "The positional arguments are ()\n",
      "The keyword arguments are {}\n",
      "The positional arguments are ()\n",
      "The keyword arguments are {}\n",
      "The positional arguments are ()\n",
      "The keyword arguments are {}\n",
      "The positional arguments are ()\n",
      "The keyword arguments are {}\n",
      "The positional arguments are ()\n",
      "The keyword arguments are {}\n",
      "The positional arguments are ()\n",
      "The keyword arguments are {}\n",
      "The positional arguments are ()\n",
      "The keyword arguments are {}\n",
      "The positional arguments are ()\n",
      "The keyword arguments are {}\n",
      "The positional arguments are ()\n",
      "The keyword arguments are {}\n",
      "The positional arguments are ()\n",
      "The keyword arguments are {}\n",
      "The positional arguments are ()\n",
      "The keyword arguments are {}\n",
      "The positional arguments are ()\n",
      "The keyword arguments are {}\n",
      "The positional arguments are ()\n",
      "The keyword arguments are {}\n",
      "The positional arguments are ()\n",
      "The keyword arguments are {}\n",
      "The positional arguments are ()\n",
      "The keyword arguments are {}\n",
      "The positional arguments are ()\n",
      "The keyword arguments are {}\n",
      "The positional arguments are ()\n",
      "The keyword arguments are {}\n",
      "The positional arguments are ()\n",
      "The keyword arguments are {}\n",
      "The positional arguments are ()\n",
      "The keyword arguments are {}\n",
      "The positional arguments are ()\n",
      "The keyword arguments are {}\n",
      "The positional arguments are ()\n",
      "The keyword arguments are {}\n",
      "The positional arguments are ()\n",
      "The keyword arguments are {}\n",
      "The positional arguments are ()\n",
      "The keyword arguments are {}\n",
      "The positional arguments are ()\n",
      "The keyword arguments are {}\n",
      "The positional arguments are ()\n",
      "The keyword arguments are {}\n",
      "The positional arguments are ()\n",
      "The keyword arguments are {}\n",
      "The positional arguments are ()\n",
      "The keyword arguments are {}\n",
      "The positional arguments are ()\n",
      "The keyword arguments are {}\n",
      "The positional arguments are ()\n",
      "The keyword arguments are {}\n",
      "The positional arguments are ()\n",
      "The keyword arguments are {}\n",
      "The positional arguments are ()\n",
      "The keyword arguments are {}\n",
      "The positional arguments are ()\n",
      "The keyword arguments are {}\n",
      "The positional arguments are ()\n",
      "The keyword arguments are {}\n",
      "The positional arguments are ()\n",
      "The keyword arguments are {}\n",
      "The positional arguments are ()\n",
      "The keyword arguments are {}\n",
      "The positional arguments are ()\n",
      "The keyword arguments are {}\n",
      "The positional arguments are ()\n",
      "The keyword arguments are {}\n",
      "The positional arguments are ()\n",
      "The keyword arguments are {}\n",
      "The positional arguments are ()\n",
      "The keyword arguments are {}\n",
      "The positional arguments are ()\n",
      "The keyword arguments are {}\n"
     ]
    },
    {
     "name": "stdout",
     "output_type": "stream",
     "text": [
      "The positional arguments are ()\n",
      "The keyword arguments are {}\n",
      "The positional arguments are ()\n",
      "The keyword arguments are {}\n",
      "The positional arguments are ()\n",
      "The keyword arguments are {}\n",
      "The positional arguments are ()\n",
      "The keyword arguments are {}\n",
      "The positional arguments are ()\n",
      "The keyword arguments are {}\n",
      "The positional arguments are ()\n",
      "The keyword arguments are {}\n",
      "The positional arguments are ()\n",
      "The keyword arguments are {}\n",
      "The positional arguments are ()\n",
      "The keyword arguments are {}\n",
      "The positional arguments are ()\n",
      "The keyword arguments are {}\n",
      "The positional arguments are ()\n",
      "The keyword arguments are {}\n",
      "The positional arguments are ()\n",
      "The keyword arguments are {}\n",
      "The positional arguments are ()\n",
      "The keyword arguments are {}\n",
      "The positional arguments are ()\n",
      "The keyword arguments are {}\n",
      "The positional arguments are ()\n",
      "The keyword arguments are {}\n",
      "The positional arguments are ()\n",
      "The keyword arguments are {}\n",
      "The positional arguments are ()\n",
      "The keyword arguments are {}\n",
      "The positional arguments are ()\n",
      "The keyword arguments are {}\n",
      "The positional arguments are ()\n",
      "The keyword arguments are {}\n",
      "The positional arguments are ()\n",
      "The keyword arguments are {}\n",
      "The positional arguments are ()\n",
      "The keyword arguments are {}\n",
      "The positional arguments are ()\n",
      "The keyword arguments are {}\n",
      "The positional arguments are ()\n",
      "The keyword arguments are {}\n",
      "The positional arguments are ()\n",
      "The keyword arguments are {}\n",
      "The positional arguments are ()\n",
      "The keyword arguments are {}\n",
      "The positional arguments are ()\n",
      "The keyword arguments are {}\n",
      "The positional arguments are ()\n",
      "The keyword arguments are {}\n",
      "The positional arguments are ()\n",
      "The keyword arguments are {}\n",
      "The positional arguments are ()\n",
      "The keyword arguments are {}\n",
      "The positional arguments are ()\n",
      "The keyword arguments are {}\n",
      "The positional arguments are ()\n",
      "The keyword arguments are {}\n",
      "The positional arguments are ()\n",
      "The keyword arguments are {}\n",
      "The positional arguments are ()\n",
      "The keyword arguments are {}\n",
      "The positional arguments are ()\n",
      "The keyword arguments are {}\n",
      "The positional arguments are ()\n",
      "The keyword arguments are {}\n",
      "The positional arguments are ()\n",
      "The keyword arguments are {}\n",
      "The positional arguments are ()\n",
      "The keyword arguments are {}\n",
      "The positional arguments are ()\n",
      "The keyword arguments are {}\n",
      "The positional arguments are ()\n",
      "The keyword arguments are {}\n",
      "The positional arguments are ()\n",
      "The keyword arguments are {}\n",
      "The positional arguments are ()\n",
      "The keyword arguments are {}\n",
      "The positional arguments are ()\n",
      "The keyword arguments are {}\n",
      "The positional arguments are ()\n",
      "The keyword arguments are {}\n",
      "The positional arguments are ()\n",
      "The keyword arguments are {}\n",
      "The positional arguments are ()\n",
      "The keyword arguments are {}\n",
      "The positional arguments are ()\n",
      "The keyword arguments are {}\n",
      "The positional arguments are ()\n",
      "The keyword arguments are {}\n",
      "The positional arguments are ()\n",
      "The keyword arguments are {}\n",
      "The positional arguments are ()\n",
      "The keyword arguments are {}\n",
      "The positional arguments are ()\n",
      "The keyword arguments are {}\n",
      "The positional arguments are ()\n",
      "The keyword arguments are {}\n",
      "The positional arguments are ()\n",
      "The keyword arguments are {}\n",
      "The positional arguments are ()\n",
      "The keyword arguments are {}\n",
      "The positional arguments are ()\n",
      "The keyword arguments are {}\n",
      "The positional arguments are ()\n",
      "The keyword arguments are {}\n",
      "The positional arguments are ()\n",
      "The keyword arguments are {}\n",
      "The positional arguments are ()\n",
      "The keyword arguments are {}\n",
      "The positional arguments are ()\n",
      "The keyword arguments are {}\n",
      "The positional arguments are ()\n",
      "The keyword arguments are {}\n",
      "The positional arguments are ()\n",
      "The keyword arguments are {}\n",
      "The positional arguments are ()\n",
      "The keyword arguments are {}\n",
      "The positional arguments are ()\n",
      "The keyword arguments are {}\n",
      "The positional arguments are ()\n",
      "The keyword arguments are {}\n",
      "The positional arguments are ()\n",
      "The keyword arguments are {}\n",
      "The positional arguments are ()\n",
      "The keyword arguments are {}\n",
      "The positional arguments are ()\n",
      "The keyword arguments are {}\n",
      "The positional arguments are ()\n",
      "The keyword arguments are {}\n",
      "The positional arguments are ()\n",
      "The keyword arguments are {}\n",
      "The positional arguments are ()\n",
      "The keyword arguments are {}\n",
      "The positional arguments are ()\n",
      "The keyword arguments are {}\n",
      "The positional arguments are ()\n",
      "The keyword arguments are {}\n",
      "The positional arguments are ()\n",
      "The keyword arguments are {}\n",
      "The positional arguments are ()\n",
      "The keyword arguments are {}\n",
      "The positional arguments are ()\n",
      "The keyword arguments are {}\n",
      "The positional arguments are ()\n",
      "The keyword arguments are {}\n",
      "The positional arguments are ()\n",
      "The keyword arguments are {}\n",
      "The positional arguments are ()\n",
      "The keyword arguments are {}\n",
      "The positional arguments are ()\n",
      "The keyword arguments are {}\n",
      "The positional arguments are ()\n",
      "The keyword arguments are {}\n",
      "The positional arguments are ()\n",
      "The keyword arguments are {}\n",
      "The positional arguments are ()\n",
      "The keyword arguments are {}\n",
      "The positional arguments are ()\n",
      "The keyword arguments are {}\n",
      "The positional arguments are ()\n",
      "The keyword arguments are {}\n",
      "The positional arguments are ()\n",
      "The keyword arguments are {}\n",
      "The positional arguments are ()\n",
      "The keyword arguments are {}\n",
      "The positional arguments are ()\n",
      "The keyword arguments are {}\n",
      "The positional arguments are ()\n",
      "The keyword arguments are {}\n",
      "The positional arguments are ()\n",
      "The keyword arguments are {}\n",
      "The positional arguments are ()\n",
      "The keyword arguments are {}\n",
      "The positional arguments are ()\n",
      "The keyword arguments are {}\n",
      "The positional arguments are ()\n",
      "The keyword arguments are {}\n",
      "The positional arguments are ()\n",
      "The keyword arguments are {}\n",
      "The positional arguments are ()\n",
      "The keyword arguments are {}\n",
      "The positional arguments are ()\n",
      "The keyword arguments are {}\n",
      "The positional arguments are ()\n",
      "The keyword arguments are {}\n",
      "The positional arguments are ()\n",
      "The keyword arguments are {}\n",
      "The positional arguments are ()\n",
      "The keyword arguments are {}\n",
      "The positional arguments are ()\n",
      "The keyword arguments are {}\n",
      "The positional arguments are ()\n",
      "The keyword arguments are {}\n",
      "The positional arguments are ()\n",
      "The keyword arguments are {}\n",
      "The positional arguments are ()\n",
      "The keyword arguments are {}\n",
      "The positional arguments are ()\n",
      "The keyword arguments are {}\n",
      "The positional arguments are ()\n",
      "The keyword arguments are {}\n",
      "The positional arguments are ()\n",
      "The keyword arguments are {}\n",
      "The positional arguments are ()\n",
      "The keyword arguments are {}\n",
      "The positional arguments are ()\n",
      "The keyword arguments are {}\n",
      "The positional arguments are ()\n",
      "The keyword arguments are {}\n",
      "The positional arguments are ()\n",
      "The keyword arguments are {}\n",
      "The positional arguments are ()\n",
      "The keyword arguments are {}\n",
      "The positional arguments are ()\n",
      "The keyword arguments are {}\n",
      "The positional arguments are ()\n",
      "The keyword arguments are {}\n",
      "The positional arguments are ()\n",
      "The keyword arguments are {}\n",
      "The positional arguments are ()\n",
      "The keyword arguments are {}\n",
      "The positional arguments are ()\n",
      "The keyword arguments are {}\n",
      "The positional arguments are ()\n",
      "The keyword arguments are {}\n",
      "The positional arguments are ()\n",
      "The keyword arguments are {}\n",
      "The positional arguments are ()\n",
      "The keyword arguments are {}\n",
      "The positional arguments are ()\n",
      "The keyword arguments are {}\n",
      "The positional arguments are ()\n",
      "The keyword arguments are {}\n",
      "The positional arguments are ()\n",
      "The keyword arguments are {}\n",
      "The positional arguments are ()\n",
      "The keyword arguments are {}\n",
      "The positional arguments are ()\n",
      "The keyword arguments are {}\n",
      "The positional arguments are ()\n",
      "The keyword arguments are {}\n",
      "The positional arguments are ()\n",
      "The keyword arguments are {}\n",
      "The positional arguments are ()\n",
      "The keyword arguments are {}\n",
      "The positional arguments are ()\n",
      "The keyword arguments are {}\n",
      "The positional arguments are ()\n",
      "The keyword arguments are {}\n",
      "The positional arguments are ()\n",
      "The keyword arguments are {}\n",
      "The positional arguments are ()\n",
      "The keyword arguments are {}\n",
      "The positional arguments are ()\n",
      "The keyword arguments are {}\n",
      "The positional arguments are ()\n",
      "The keyword arguments are {}\n",
      "The positional arguments are ()\n",
      "The keyword arguments are {}\n",
      "The positional arguments are ()\n",
      "The keyword arguments are {}\n",
      "The positional arguments are ()\n",
      "The keyword arguments are {}\n",
      "The positional arguments are ()\n",
      "The keyword arguments are {}\n",
      "The positional arguments are ()\n",
      "The keyword arguments are {}\n",
      "The positional arguments are ()\n",
      "The keyword arguments are {}\n",
      "The positional arguments are ()\n",
      "The keyword arguments are {}\n",
      "The positional arguments are ()\n",
      "The keyword arguments are {}\n",
      "The positional arguments are ()\n",
      "The keyword arguments are {}\n",
      "The positional arguments are ()\n",
      "The keyword arguments are {}\n",
      "The positional arguments are ()\n",
      "The keyword arguments are {}\n",
      "The positional arguments are ()\n",
      "The keyword arguments are {}\n",
      "The positional arguments are ()\n",
      "The keyword arguments are {}\n",
      "The positional arguments are ()\n",
      "The keyword arguments are {}\n",
      "The positional arguments are ()\n",
      "The keyword arguments are {}\n",
      "The positional arguments are ()\n",
      "The keyword arguments are {}\n",
      "The positional arguments are ()\n",
      "The keyword arguments are {}\n",
      "The positional arguments are ()\n",
      "The keyword arguments are {}\n",
      "The positional arguments are ()\n",
      "The keyword arguments are {}\n",
      "The positional arguments are ()\n",
      "The keyword arguments are {}\n",
      "The positional arguments are ()\n",
      "The keyword arguments are {}\n",
      "The positional arguments are ()\n",
      "The keyword arguments are {}\n",
      "The positional arguments are ()\n",
      "The keyword arguments are {}\n",
      "The positional arguments are ()\n",
      "The keyword arguments are {}\n",
      "The positional arguments are ()\n",
      "The keyword arguments are {}\n",
      "The positional arguments are ()\n",
      "The keyword arguments are {}\n",
      "The positional arguments are ()\n",
      "The keyword arguments are {}\n",
      "The positional arguments are ()\n",
      "The keyword arguments are {}\n",
      "The positional arguments are ()\n",
      "The keyword arguments are {}\n",
      "The positional arguments are ()\n",
      "The keyword arguments are {}\n",
      "The positional arguments are ()\n",
      "The keyword arguments are {}\n",
      "The positional arguments are ()\n",
      "The keyword arguments are {}\n",
      "The positional arguments are ()\n",
      "The keyword arguments are {}\n",
      "The positional arguments are ()\n",
      "The keyword arguments are {}\n",
      "The positional arguments are ()\n",
      "The keyword arguments are {}\n",
      "The positional arguments are ()\n",
      "The keyword arguments are {}\n",
      "The positional arguments are ()\n",
      "The keyword arguments are {}\n",
      "The positional arguments are ()\n",
      "The keyword arguments are {}\n",
      "The positional arguments are ()\n",
      "The keyword arguments are {}\n",
      "The positional arguments are ()\n",
      "The keyword arguments are {}\n",
      "The positional arguments are ()\n",
      "The keyword arguments are {}\n",
      "The positional arguments are ()\n",
      "The keyword arguments are {}\n",
      "The positional arguments are ()\n",
      "The keyword arguments are {}\n",
      "The positional arguments are ()\n",
      "The keyword arguments are {}\n",
      "The positional arguments are ()\n",
      "The keyword arguments are {}\n",
      "The positional arguments are ()\n",
      "The keyword arguments are {}\n",
      "The positional arguments are ()\n",
      "The keyword arguments are {}\n",
      "The positional arguments are ()\n",
      "The keyword arguments are {}\n",
      "The positional arguments are ()\n",
      "The keyword arguments are {}\n",
      "The positional arguments are ()\n",
      "The keyword arguments are {}\n",
      "The positional arguments are ()\n",
      "The keyword arguments are {}\n",
      "The positional arguments are ()\n",
      "The keyword arguments are {}\n",
      "The positional arguments are ()\n",
      "The keyword arguments are {}\n",
      "The positional arguments are ()\n",
      "The keyword arguments are {}\n",
      "The positional arguments are ()\n",
      "The keyword arguments are {}\n",
      "The positional arguments are ()\n",
      "The keyword arguments are {}\n",
      "The positional arguments are ()\n",
      "The keyword arguments are {}\n",
      "The positional arguments are ()\n",
      "The keyword arguments are {}\n",
      "The positional arguments are ()\n",
      "The keyword arguments are {}\n",
      "The positional arguments are ()\n",
      "The keyword arguments are {}\n",
      "The positional arguments are ()\n",
      "The keyword arguments are {}\n",
      "The positional arguments are ()\n",
      "The keyword arguments are {}\n",
      "The positional arguments are ()\n",
      "The keyword arguments are {}\n",
      "The positional arguments are ()\n",
      "The keyword arguments are {}\n",
      "The positional arguments are ()\n",
      "The keyword arguments are {}\n",
      "The positional arguments are ()\n",
      "The keyword arguments are {}\n",
      "The positional arguments are ()\n",
      "The keyword arguments are {}\n",
      "The positional arguments are ()\n",
      "The keyword arguments are {}\n",
      "The positional arguments are ()\n",
      "The keyword arguments are {}\n",
      "The positional arguments are ()\n",
      "The keyword arguments are {}\n",
      "The positional arguments are ()\n",
      "The keyword arguments are {}\n",
      "The positional arguments are ()\n",
      "The keyword arguments are {}\n",
      "The positional arguments are ()\n",
      "The keyword arguments are {}\n",
      "The positional arguments are ()\n",
      "The keyword arguments are {}\n",
      "The positional arguments are ()\n",
      "The keyword arguments are {}\n",
      "The positional arguments are ()\n",
      "The keyword arguments are {}\n",
      "The positional arguments are ()\n",
      "The keyword arguments are {}\n",
      "The positional arguments are ()\n",
      "The keyword arguments are {}\n",
      "The positional arguments are ()\n",
      "The keyword arguments are {}\n",
      "The positional arguments are ()\n",
      "The keyword arguments are {}\n",
      "The positional arguments are ()\n",
      "The keyword arguments are {}\n",
      "The positional arguments are ()\n",
      "The keyword arguments are {}\n",
      "The positional arguments are ()\n",
      "The keyword arguments are {}\n",
      "The positional arguments are ()\n",
      "The keyword arguments are {}\n",
      "The positional arguments are ()\n",
      "The keyword arguments are {}\n",
      "The positional arguments are ()\n",
      "The keyword arguments are {}\n",
      "The positional arguments are ()\n",
      "The keyword arguments are {}\n",
      "The positional arguments are ()\n",
      "The keyword arguments are {}\n",
      "The positional arguments are ()\n",
      "The keyword arguments are {}\n",
      "The positional arguments are ()\n",
      "The keyword arguments are {}\n",
      "The positional arguments are ()\n",
      "The keyword arguments are {}\n",
      "The positional arguments are ()\n",
      "The keyword arguments are {}\n",
      "The positional arguments are ()\n",
      "The keyword arguments are {}\n",
      "The positional arguments are ()\n",
      "The keyword arguments are {}\n",
      "The positional arguments are ()\n",
      "The keyword arguments are {}\n",
      "The positional arguments are ()\n",
      "The keyword arguments are {}\n",
      "The positional arguments are ()\n",
      "The keyword arguments are {}\n",
      "The positional arguments are ()\n",
      "The keyword arguments are {}\n",
      "The positional arguments are ()\n",
      "The keyword arguments are {}\n",
      "The positional arguments are ()\n",
      "The keyword arguments are {}\n",
      "The positional arguments are ()\n",
      "The keyword arguments are {}\n",
      "The positional arguments are ()\n",
      "The keyword arguments are {}\n",
      "The positional arguments are ()\n",
      "The keyword arguments are {}\n",
      "The positional arguments are ()\n",
      "The keyword arguments are {}\n",
      "The positional arguments are ()\n",
      "The keyword arguments are {}\n",
      "The positional arguments are ()\n",
      "The keyword arguments are {}\n",
      "The positional arguments are ()\n",
      "The keyword arguments are {}\n",
      "The positional arguments are ()\n",
      "The keyword arguments are {}\n",
      "The positional arguments are ()\n",
      "The keyword arguments are {}\n",
      "The positional arguments are ()\n",
      "The keyword arguments are {}\n",
      "The positional arguments are ()\n",
      "The keyword arguments are {}\n",
      "The positional arguments are ()\n",
      "The keyword arguments are {}\n",
      "The positional arguments are ()\n",
      "The keyword arguments are {}\n",
      "The positional arguments are ()\n",
      "The keyword arguments are {}\n",
      "The positional arguments are ()\n",
      "The keyword arguments are {}\n",
      "The positional arguments are ()\n",
      "The keyword arguments are {}\n",
      "The positional arguments are ()\n",
      "The keyword arguments are {}\n",
      "The positional arguments are ()\n",
      "The keyword arguments are {}\n",
      "The positional arguments are ()\n",
      "The keyword arguments are {}\n",
      "The positional arguments are ()\n",
      "The keyword arguments are {}\n"
     ]
    },
    {
     "name": "stdout",
     "output_type": "stream",
     "text": [
      "The positional arguments are ()\n",
      "The keyword arguments are {}\n",
      "The positional arguments are ()\n",
      "The keyword arguments are {}\n",
      "The positional arguments are ()\n",
      "The keyword arguments are {}\n",
      "The positional arguments are ()\n",
      "The keyword arguments are {}\n",
      "The positional arguments are ()\n",
      "The keyword arguments are {}\n",
      "The positional arguments are ()\n",
      "The keyword arguments are {}\n",
      "The positional arguments are ()\n",
      "The keyword arguments are {}\n",
      "The positional arguments are ()\n",
      "The keyword arguments are {}\n",
      "The positional arguments are ()\n",
      "The keyword arguments are {}\n",
      "The positional arguments are ()\n",
      "The keyword arguments are {}\n",
      "The positional arguments are ()\n",
      "The keyword arguments are {}\n",
      "The positional arguments are ()\n",
      "The keyword arguments are {}\n",
      "The positional arguments are ()\n",
      "The keyword arguments are {}\n",
      "The positional arguments are ()\n",
      "The keyword arguments are {}\n",
      "The positional arguments are ()\n",
      "The keyword arguments are {}\n",
      "The positional arguments are ()\n",
      "The keyword arguments are {}\n",
      "The positional arguments are ()\n",
      "The keyword arguments are {}\n",
      "The positional arguments are ()\n",
      "The keyword arguments are {}\n",
      "The positional arguments are ()\n",
      "The keyword arguments are {}\n",
      "The positional arguments are ()\n",
      "The keyword arguments are {}\n",
      "The positional arguments are ()\n",
      "The keyword arguments are {}\n",
      "The positional arguments are ()\n",
      "The keyword arguments are {}\n",
      "The positional arguments are ()\n",
      "The keyword arguments are {}\n",
      "The positional arguments are ()\n",
      "The keyword arguments are {}\n",
      "The positional arguments are ()\n",
      "The keyword arguments are {}\n",
      "The positional arguments are ()\n",
      "The keyword arguments are {}\n",
      "The positional arguments are ()\n",
      "The keyword arguments are {}\n",
      "The positional arguments are ()\n",
      "The keyword arguments are {}\n",
      "The positional arguments are ()\n",
      "The keyword arguments are {}\n",
      "The positional arguments are ()\n",
      "The keyword arguments are {}\n",
      "The positional arguments are ()\n",
      "The keyword arguments are {}\n",
      "The positional arguments are ()\n",
      "The keyword arguments are {}\n",
      "The positional arguments are ()\n",
      "The keyword arguments are {}\n",
      "The positional arguments are ()\n",
      "The keyword arguments are {}\n",
      "The positional arguments are ()\n",
      "The keyword arguments are {}\n",
      "The positional arguments are ()\n",
      "The keyword arguments are {}\n",
      "The positional arguments are ()\n",
      "The keyword arguments are {}\n",
      "The positional arguments are ()\n",
      "The keyword arguments are {}\n",
      "The positional arguments are ()\n",
      "The keyword arguments are {}\n",
      "The positional arguments are ()\n",
      "The keyword arguments are {}\n",
      "The positional arguments are ()\n",
      "The keyword arguments are {}\n",
      "The positional arguments are ()\n",
      "The keyword arguments are {}\n",
      "The positional arguments are ()\n",
      "The keyword arguments are {}\n",
      "The positional arguments are ()\n",
      "The keyword arguments are {}\n",
      "The positional arguments are ()\n",
      "The keyword arguments are {}\n",
      "The positional arguments are ()\n",
      "The keyword arguments are {}\n",
      "The positional arguments are ()\n",
      "The keyword arguments are {}\n",
      "The positional arguments are ()\n",
      "The keyword arguments are {}\n",
      "The positional arguments are ()\n",
      "The keyword arguments are {}\n",
      "The positional arguments are ()\n",
      "The keyword arguments are {}\n",
      "The positional arguments are ()\n",
      "The keyword arguments are {}\n",
      "The positional arguments are ()\n",
      "The keyword arguments are {}\n",
      "The positional arguments are ()\n",
      "The keyword arguments are {}\n",
      "The positional arguments are ()\n",
      "The keyword arguments are {}\n",
      "The positional arguments are ()\n",
      "The keyword arguments are {}\n",
      "The positional arguments are ()\n",
      "The keyword arguments are {}\n",
      "The positional arguments are ()\n",
      "The keyword arguments are {}\n",
      "The positional arguments are ()\n",
      "The keyword arguments are {}\n",
      "The positional arguments are ()\n",
      "The keyword arguments are {}\n",
      "The positional arguments are ()\n",
      "The keyword arguments are {}\n",
      "The positional arguments are ()\n",
      "The keyword arguments are {}\n",
      "The positional arguments are ()\n",
      "The keyword arguments are {}\n",
      "The positional arguments are ()\n",
      "The keyword arguments are {}\n",
      "The positional arguments are ()\n",
      "The keyword arguments are {}\n",
      "The positional arguments are ()\n",
      "The keyword arguments are {}\n",
      "The positional arguments are ()\n",
      "The keyword arguments are {}\n",
      "The positional arguments are ()\n",
      "The keyword arguments are {}\n",
      "The positional arguments are ()\n",
      "The keyword arguments are {}\n",
      "The positional arguments are ()\n",
      "The keyword arguments are {}\n",
      "The positional arguments are ()\n",
      "The keyword arguments are {}\n",
      "The positional arguments are ()\n",
      "The keyword arguments are {}\n",
      "The positional arguments are ()\n",
      "The keyword arguments are {}\n",
      "The positional arguments are ()\n",
      "The keyword arguments are {}\n",
      "The positional arguments are ()\n",
      "The keyword arguments are {}\n",
      "The positional arguments are ()\n",
      "The keyword arguments are {}\n",
      "The positional arguments are ()\n",
      "The keyword arguments are {}\n",
      "The positional arguments are ()\n",
      "The keyword arguments are {}\n",
      "The positional arguments are ()\n",
      "The keyword arguments are {}\n",
      "The positional arguments are ()\n",
      "The keyword arguments are {}\n",
      "The positional arguments are ()\n",
      "The keyword arguments are {}\n",
      "The positional arguments are ()\n",
      "The keyword arguments are {}\n",
      "The positional arguments are ()\n",
      "The keyword arguments are {}\n",
      "The positional arguments are ()\n",
      "The keyword arguments are {}\n",
      "The positional arguments are ()\n",
      "The keyword arguments are {}\n",
      "The positional arguments are ()\n",
      "The keyword arguments are {}\n",
      "The positional arguments are ()\n",
      "The keyword arguments are {}\n",
      "The positional arguments are ()\n",
      "The keyword arguments are {}\n",
      "The positional arguments are ()\n",
      "The keyword arguments are {}\n",
      "The positional arguments are ()\n",
      "The keyword arguments are {}\n",
      "The positional arguments are ()\n",
      "The keyword arguments are {}\n",
      "The positional arguments are ()\n",
      "The keyword arguments are {}\n",
      "The positional arguments are ()\n",
      "The keyword arguments are {}\n",
      "The positional arguments are ()\n",
      "The keyword arguments are {}\n",
      "The positional arguments are ()\n",
      "The keyword arguments are {}\n",
      "The positional arguments are ()\n",
      "The keyword arguments are {}\n",
      "The positional arguments are ()\n",
      "The keyword arguments are {}\n",
      "The positional arguments are ()\n",
      "The keyword arguments are {}\n",
      "The positional arguments are ()\n",
      "The keyword arguments are {}\n",
      "The positional arguments are ()\n",
      "The keyword arguments are {}\n",
      "The positional arguments are ()\n",
      "The keyword arguments are {}\n",
      "The positional arguments are ()\n",
      "The keyword arguments are {}\n",
      "The positional arguments are ()\n",
      "The keyword arguments are {}\n",
      "The positional arguments are ()\n",
      "The keyword arguments are {}\n",
      "The positional arguments are ()\n",
      "The keyword arguments are {}\n",
      "The positional arguments are ()\n",
      "The keyword arguments are {}\n",
      "The positional arguments are ()\n",
      "The keyword arguments are {}\n",
      "The positional arguments are ()\n",
      "The keyword arguments are {}\n",
      "The positional arguments are ()\n",
      "The keyword arguments are {}\n",
      "The positional arguments are ()\n",
      "The keyword arguments are {}\n",
      "The positional arguments are ()\n",
      "The keyword arguments are {}\n",
      "The positional arguments are ()\n",
      "The keyword arguments are {}\n",
      "The positional arguments are ()\n",
      "The keyword arguments are {}\n",
      "The positional arguments are ()\n",
      "The keyword arguments are {}\n",
      "The positional arguments are ()\n",
      "The keyword arguments are {}\n",
      "The positional arguments are ()\n",
      "The keyword arguments are {}\n",
      "The positional arguments are ()\n",
      "The keyword arguments are {}\n",
      "The positional arguments are ()\n",
      "The keyword arguments are {}\n",
      "The positional arguments are ()\n",
      "The keyword arguments are {}\n",
      "The positional arguments are ()\n",
      "The keyword arguments are {}\n",
      "The positional arguments are ()\n",
      "The keyword arguments are {}\n",
      "The positional arguments are ()\n",
      "The keyword arguments are {}\n",
      "The positional arguments are ()\n",
      "The keyword arguments are {}\n",
      "The positional arguments are ()\n",
      "The keyword arguments are {}\n",
      "The positional arguments are ()\n",
      "The keyword arguments are {}\n",
      "The positional arguments are ()\n",
      "The keyword arguments are {}\n",
      "The positional arguments are ()\n",
      "The keyword arguments are {}\n",
      "The positional arguments are ()\n",
      "The keyword arguments are {}\n",
      "The positional arguments are ()\n",
      "The keyword arguments are {}\n",
      "The positional arguments are ()\n",
      "The keyword arguments are {}\n",
      "The positional arguments are ()\n",
      "The keyword arguments are {}\n",
      "The positional arguments are ()\n",
      "The keyword arguments are {}\n",
      "The positional arguments are ()\n",
      "The keyword arguments are {}\n",
      "The positional arguments are ()\n",
      "The keyword arguments are {}\n",
      "The positional arguments are ()\n",
      "The keyword arguments are {}\n",
      "The positional arguments are ()\n",
      "The keyword arguments are {}\n",
      "The positional arguments are ()\n",
      "The keyword arguments are {}\n",
      "The positional arguments are ()\n",
      "The keyword arguments are {}\n",
      "The positional arguments are ()\n",
      "The keyword arguments are {}\n",
      "The positional arguments are ()\n",
      "The keyword arguments are {}\n",
      "The positional arguments are ()\n",
      "The keyword arguments are {}\n",
      "The positional arguments are ()\n",
      "The keyword arguments are {}\n",
      "The positional arguments are ()\n",
      "The keyword arguments are {}\n",
      "The positional arguments are ()\n",
      "The keyword arguments are {}\n",
      "The positional arguments are ()\n",
      "The keyword arguments are {}\n",
      "The positional arguments are ()\n",
      "The keyword arguments are {}\n",
      "The positional arguments are ()\n",
      "The keyword arguments are {}\n",
      "The positional arguments are ()\n",
      "The keyword arguments are {}\n",
      "The positional arguments are ()\n",
      "The keyword arguments are {}\n",
      "The positional arguments are ()\n",
      "The keyword arguments are {}\n",
      "The positional arguments are ()\n",
      "The keyword arguments are {}\n",
      "The positional arguments are ()\n",
      "The keyword arguments are {}\n",
      "The positional arguments are ()\n",
      "The keyword arguments are {}\n",
      "The positional arguments are ()\n",
      "The keyword arguments are {}\n",
      "The positional arguments are ()\n",
      "The keyword arguments are {}\n",
      "The positional arguments are ()\n",
      "The keyword arguments are {}\n",
      "The positional arguments are ()\n",
      "The keyword arguments are {}\n",
      "The positional arguments are ()\n",
      "The keyword arguments are {}\n",
      "The positional arguments are ()\n",
      "The keyword arguments are {}\n",
      "The positional arguments are ()\n",
      "The keyword arguments are {}\n",
      "The positional arguments are ()\n",
      "The keyword arguments are {}\n",
      "The positional arguments are ()\n",
      "The keyword arguments are {}\n",
      "The positional arguments are ()\n",
      "The keyword arguments are {}\n",
      "The positional arguments are ()\n",
      "The keyword arguments are {}\n",
      "The positional arguments are ()\n",
      "The keyword arguments are {}\n",
      "The positional arguments are ()\n",
      "The keyword arguments are {}\n",
      "The positional arguments are ()\n",
      "The keyword arguments are {}\n",
      "The positional arguments are ()\n",
      "The keyword arguments are {}\n",
      "The positional arguments are ()\n",
      "The keyword arguments are {}\n",
      "The positional arguments are ()\n",
      "The keyword arguments are {}\n",
      "The positional arguments are ()\n",
      "The keyword arguments are {}\n",
      "The positional arguments are ()\n",
      "The keyword arguments are {}\n",
      "The positional arguments are ()\n",
      "The keyword arguments are {}\n",
      "The positional arguments are ()\n",
      "The keyword arguments are {}\n",
      "The positional arguments are ()\n",
      "The keyword arguments are {}\n",
      "The positional arguments are ()\n",
      "The keyword arguments are {}\n",
      "The positional arguments are ()\n",
      "The keyword arguments are {}\n",
      "The positional arguments are ()\n",
      "The keyword arguments are {}\n",
      "The positional arguments are ()\n",
      "The keyword arguments are {}\n",
      "The positional arguments are ()\n",
      "The keyword arguments are {}\n",
      "The positional arguments are ()\n",
      "The keyword arguments are {}\n",
      "The positional arguments are ()\n",
      "The keyword arguments are {}\n",
      "The positional arguments are ()\n",
      "The keyword arguments are {}\n",
      "The positional arguments are ()\n",
      "The keyword arguments are {}\n",
      "The positional arguments are ()\n",
      "The keyword arguments are {}\n",
      "The positional arguments are ()\n",
      "The keyword arguments are {}\n",
      "The positional arguments are ()\n",
      "The keyword arguments are {}\n",
      "The positional arguments are ()\n",
      "The keyword arguments are {}\n",
      "The positional arguments are ()\n",
      "The keyword arguments are {}\n",
      "The positional arguments are ()\n",
      "The keyword arguments are {}\n",
      "The positional arguments are ()\n",
      "The keyword arguments are {}\n",
      "The positional arguments are ()\n",
      "The keyword arguments are {}\n",
      "The positional arguments are ()\n",
      "The keyword arguments are {}\n",
      "The positional arguments are ()\n",
      "The keyword arguments are {}\n",
      "The positional arguments are ()\n",
      "The keyword arguments are {}\n",
      "The positional arguments are ()\n",
      "The keyword arguments are {}\n",
      "The positional arguments are ()\n",
      "The keyword arguments are {}\n",
      "The positional arguments are ()\n",
      "The keyword arguments are {}\n",
      "The positional arguments are ()\n",
      "The keyword arguments are {}\n",
      "The positional arguments are ()\n",
      "The keyword arguments are {}\n",
      "The positional arguments are ()\n",
      "The keyword arguments are {}\n",
      "The positional arguments are ()\n",
      "The keyword arguments are {}\n",
      "The positional arguments are ()\n",
      "The keyword arguments are {}\n",
      "The positional arguments are ()\n",
      "The keyword arguments are {}\n",
      "The positional arguments are ()\n",
      "The keyword arguments are {}\n",
      "The positional arguments are ()\n",
      "The keyword arguments are {}\n",
      "The positional arguments are ()\n",
      "The keyword arguments are {}\n",
      "The positional arguments are ()\n",
      "The keyword arguments are {}\n",
      "The positional arguments are ()\n",
      "The keyword arguments are {}\n",
      "The positional arguments are ()\n",
      "The keyword arguments are {}\n",
      "The positional arguments are ()\n",
      "The keyword arguments are {}\n",
      "The positional arguments are ()\n",
      "The keyword arguments are {}\n",
      "The positional arguments are ()\n",
      "The keyword arguments are {}\n",
      "The positional arguments are ()\n",
      "The keyword arguments are {}\n",
      "The positional arguments are ()\n",
      "The keyword arguments are {}\n",
      "The positional arguments are ()\n",
      "The keyword arguments are {}\n",
      "The positional arguments are ()\n",
      "The keyword arguments are {}\n",
      "The positional arguments are ()\n",
      "The keyword arguments are {}\n",
      "The positional arguments are ()\n",
      "The keyword arguments are {}\n",
      "The positional arguments are ()\n",
      "The keyword arguments are {}\n",
      "The positional arguments are ()\n",
      "The keyword arguments are {}\n",
      "The positional arguments are ()\n",
      "The keyword arguments are {}\n",
      "The positional arguments are ()\n",
      "The keyword arguments are {}\n",
      "The positional arguments are ()\n",
      "The keyword arguments are {}\n",
      "The positional arguments are ()\n",
      "The keyword arguments are {}\n",
      "The positional arguments are ()\n",
      "The keyword arguments are {}\n",
      "The positional arguments are ()\n",
      "The keyword arguments are {}\n",
      "The positional arguments are ()\n",
      "The keyword arguments are {}\n",
      "The positional arguments are ()\n",
      "The keyword arguments are {}\n",
      "The positional arguments are ()\n",
      "The keyword arguments are {}\n",
      "The positional arguments are ()\n",
      "The keyword arguments are {}\n",
      "The positional arguments are ()\n",
      "The keyword arguments are {}\n",
      "The positional arguments are ()\n",
      "The keyword arguments are {}\n",
      "The positional arguments are ()\n",
      "The keyword arguments are {}\n",
      "The positional arguments are ()\n",
      "The keyword arguments are {}\n",
      "The positional arguments are ()\n",
      "The keyword arguments are {}\n",
      "The positional arguments are ()\n",
      "The keyword arguments are {}\n",
      "The positional arguments are ()\n",
      "The keyword arguments are {}\n",
      "The positional arguments are ()\n",
      "The keyword arguments are {}\n",
      "The positional arguments are ()\n",
      "The keyword arguments are {}\n",
      "The positional arguments are ()\n",
      "The keyword arguments are {}\n",
      "The positional arguments are ()\n",
      "The keyword arguments are {}\n",
      "The positional arguments are ()\n",
      "The keyword arguments are {}\n",
      "The positional arguments are ()\n",
      "The keyword arguments are {}\n",
      "The positional arguments are ()\n",
      "The keyword arguments are {}\n",
      "The positional arguments are ()\n",
      "The keyword arguments are {}\n",
      "The positional arguments are ()\n",
      "The keyword arguments are {}\n",
      "The positional arguments are ()\n",
      "The keyword arguments are {}\n",
      "The positional arguments are ()\n",
      "The keyword arguments are {}\n",
      "The positional arguments are ()\n",
      "The keyword arguments are {}\n",
      "The positional arguments are ()\n",
      "The keyword arguments are {}\n",
      "The positional arguments are ()\n",
      "The keyword arguments are {}\n",
      "The positional arguments are ()\n",
      "The keyword arguments are {}\n",
      "The positional arguments are ()\n",
      "The keyword arguments are {}\n",
      "The positional arguments are ()\n",
      "The keyword arguments are {}\n",
      "The positional arguments are ()\n",
      "The keyword arguments are {}\n",
      "The positional arguments are ()\n",
      "The keyword arguments are {}\n",
      "The positional arguments are ()\n",
      "The keyword arguments are {}\n",
      "The positional arguments are ()\n",
      "The keyword arguments are {}\n",
      "The positional arguments are ()\n",
      "The keyword arguments are {}\n",
      "The positional arguments are ()\n",
      "The keyword arguments are {}\n",
      "The positional arguments are ()\n",
      "The keyword arguments are {}\n",
      "The positional arguments are ()\n",
      "The keyword arguments are {}\n",
      "The positional arguments are ()\n",
      "The keyword arguments are {}\n",
      "The positional arguments are ()\n",
      "The keyword arguments are {}\n",
      "The positional arguments are ()\n",
      "The keyword arguments are {}\n",
      "The positional arguments are ()\n",
      "The keyword arguments are {}\n",
      "The positional arguments are ()\n",
      "The keyword arguments are {}\n",
      "The positional arguments are ()\n",
      "The keyword arguments are {}\n",
      "The positional arguments are ()\n",
      "The keyword arguments are {}\n",
      "The positional arguments are ()\n",
      "The keyword arguments are {}\n",
      "The positional arguments are ()\n",
      "The keyword arguments are {}\n",
      "The positional arguments are ()\n",
      "The keyword arguments are {}\n",
      "The positional arguments are ()\n",
      "The keyword arguments are {}\n",
      "The positional arguments are ()\n",
      "The keyword arguments are {}\n",
      "The positional arguments are ()\n",
      "The keyword arguments are {}\n",
      "The positional arguments are ()\n",
      "The keyword arguments are {}\n",
      "The positional arguments are ()\n",
      "The keyword arguments are {}\n",
      "The positional arguments are ()\n",
      "The keyword arguments are {}\n",
      "The positional arguments are ()\n",
      "The keyword arguments are {}\n",
      "The positional arguments are ()\n",
      "The keyword arguments are {}\n",
      "The positional arguments are ()\n",
      "The keyword arguments are {}\n",
      "The positional arguments are ()\n",
      "The keyword arguments are {}\n",
      "The positional arguments are ()\n",
      "The keyword arguments are {}\n",
      "The positional arguments are ()\n",
      "The keyword arguments are {}\n",
      "The positional arguments are ()\n",
      "The keyword arguments are {}\n",
      "The positional arguments are ()\n",
      "The keyword arguments are {}\n",
      "The positional arguments are ()\n",
      "The keyword arguments are {}\n",
      "The positional arguments are ()\n",
      "The keyword arguments are {}\n",
      "The positional arguments are ()\n",
      "The keyword arguments are {}\n",
      "The positional arguments are ()\n",
      "The keyword arguments are {}\n",
      "The positional arguments are ()\n",
      "The keyword arguments are {}\n",
      "The positional arguments are ()\n",
      "The keyword arguments are {}\n",
      "The positional arguments are ()\n",
      "The keyword arguments are {}\n",
      "The positional arguments are ()\n",
      "The keyword arguments are {}\n",
      "The positional arguments are ()\n",
      "The keyword arguments are {}\n",
      "The positional arguments are ()\n",
      "The keyword arguments are {}\n",
      "The positional arguments are ()\n",
      "The keyword arguments are {}\n",
      "The positional arguments are ()\n",
      "The keyword arguments are {}\n",
      "The positional arguments are ()\n",
      "The keyword arguments are {}\n",
      "The positional arguments are ()\n",
      "The keyword arguments are {}\n",
      "The positional arguments are ()\n",
      "The keyword arguments are {}\n",
      "The positional arguments are ()\n",
      "The keyword arguments are {}\n",
      "The positional arguments are ()\n",
      "The keyword arguments are {}\n",
      "The positional arguments are ()\n",
      "The keyword arguments are {}\n",
      "The positional arguments are ()\n",
      "The keyword arguments are {}\n",
      "The positional arguments are ()\n",
      "The keyword arguments are {}\n",
      "The positional arguments are ()\n",
      "The keyword arguments are {}\n",
      "The positional arguments are ()\n",
      "The keyword arguments are {}\n",
      "The positional arguments are ()\n",
      "The keyword arguments are {}\n",
      "The positional arguments are ()\n",
      "The keyword arguments are {}\n",
      "The positional arguments are ()\n",
      "The keyword arguments are {}\n",
      "The positional arguments are ()\n",
      "The keyword arguments are {}\n",
      "The positional arguments are ()\n",
      "The keyword arguments are {}\n",
      "The positional arguments are ()\n",
      "The keyword arguments are {}\n",
      "The positional arguments are ()\n",
      "The keyword arguments are {}\n",
      "The positional arguments are ()\n",
      "The keyword arguments are {}\n",
      "The positional arguments are ()\n",
      "The keyword arguments are {}\n",
      "The positional arguments are ()\n",
      "The keyword arguments are {}\n",
      "The positional arguments are ()\n",
      "The keyword arguments are {}\n",
      "The positional arguments are ()\n",
      "The keyword arguments are {}\n",
      "The positional arguments are ()\n",
      "The keyword arguments are {}\n",
      "The positional arguments are ()\n",
      "The keyword arguments are {}\n",
      "The positional arguments are ()\n",
      "The keyword arguments are {}\n",
      "The positional arguments are ()\n",
      "The keyword arguments are {}\n",
      "The positional arguments are ()\n",
      "The keyword arguments are {}\n",
      "The positional arguments are ()\n",
      "The keyword arguments are {}\n",
      "The positional arguments are ()\n",
      "The keyword arguments are {}\n",
      "The positional arguments are ()\n",
      "The keyword arguments are {}\n",
      "The positional arguments are ()\n",
      "The keyword arguments are {}\n",
      "The positional arguments are ()\n",
      "The keyword arguments are {}\n",
      "The positional arguments are ()\n",
      "The keyword arguments are {}\n",
      "The positional arguments are ()\n",
      "The keyword arguments are {}\n",
      "The positional arguments are ()\n",
      "The keyword arguments are {}\n",
      "The positional arguments are ()\n",
      "The keyword arguments are {}\n",
      "The positional arguments are ()\n",
      "The keyword arguments are {}\n",
      "The positional arguments are ()\n",
      "The keyword arguments are {}\n",
      "The positional arguments are ()\n",
      "The keyword arguments are {}\n",
      "The positional arguments are ()\n",
      "The keyword arguments are {}\n",
      "The positional arguments are ()\n",
      "The keyword arguments are {}\n",
      "The positional arguments are ()\n",
      "The keyword arguments are {}\n",
      "The positional arguments are ()\n",
      "The keyword arguments are {}\n",
      "The positional arguments are ()\n",
      "The keyword arguments are {}\n",
      "The positional arguments are ()\n",
      "The keyword arguments are {}\n",
      "The positional arguments are ()\n",
      "The keyword arguments are {}\n",
      "The positional arguments are ()\n",
      "The keyword arguments are {}\n",
      "The positional arguments are ()\n",
      "The keyword arguments are {}\n",
      "The positional arguments are ()\n",
      "The keyword arguments are {}\n",
      "The positional arguments are ()\n",
      "The keyword arguments are {}\n",
      "The positional arguments are ()\n",
      "The keyword arguments are {}\n",
      "The positional arguments are ()\n",
      "The keyword arguments are {}\n",
      "The positional arguments are ()\n",
      "The keyword arguments are {}\n",
      "The positional arguments are ()\n",
      "The keyword arguments are {}\n",
      "The positional arguments are ()\n",
      "The keyword arguments are {}\n",
      "The positional arguments are ()\n",
      "The keyword arguments are {}\n",
      "The positional arguments are ()\n",
      "The keyword arguments are {}\n",
      "The positional arguments are ()\n",
      "The keyword arguments are {}\n",
      "The positional arguments are ()\n",
      "The keyword arguments are {}\n",
      "The positional arguments are ()\n",
      "The keyword arguments are {}\n",
      "The positional arguments are ()\n",
      "The keyword arguments are {}\n",
      "The positional arguments are ()\n",
      "The keyword arguments are {}\n",
      "The positional arguments are ()\n",
      "The keyword arguments are {}\n",
      "The positional arguments are ()\n",
      "The keyword arguments are {}\n",
      "The positional arguments are ()\n",
      "The keyword arguments are {}\n",
      "The positional arguments are ()\n",
      "The keyword arguments are {}\n",
      "The positional arguments are ()\n",
      "The keyword arguments are {}\n",
      "The positional arguments are ()\n",
      "The keyword arguments are {}\n",
      "The positional arguments are ()\n",
      "The keyword arguments are {}\n",
      "The positional arguments are ()\n",
      "The keyword arguments are {}\n",
      "The positional arguments are ()\n",
      "The keyword arguments are {}\n",
      "The positional arguments are ()\n",
      "The keyword arguments are {}\n",
      "The positional arguments are ()\n",
      "The keyword arguments are {}\n",
      "The positional arguments are ()\n",
      "The keyword arguments are {}\n",
      "The positional arguments are ()\n",
      "The keyword arguments are {}\n",
      "The positional arguments are ()\n",
      "The keyword arguments are {}\n",
      "The positional arguments are ()\n",
      "The keyword arguments are {}\n"
     ]
    },
    {
     "name": "stdout",
     "output_type": "stream",
     "text": [
      "The positional arguments are ()\n",
      "The keyword arguments are {}\n",
      "The positional arguments are ()\n",
      "The keyword arguments are {}\n",
      "The positional arguments are ()\n",
      "The keyword arguments are {}\n",
      "The positional arguments are ()\n",
      "The keyword arguments are {}\n",
      "The positional arguments are ()\n",
      "The keyword arguments are {}\n",
      "The positional arguments are ()\n",
      "The keyword arguments are {}\n",
      "The positional arguments are ()\n",
      "The keyword arguments are {}\n",
      "The positional arguments are ()\n",
      "The keyword arguments are {}\n",
      "The positional arguments are ()\n",
      "The keyword arguments are {}\n",
      "The positional arguments are ()\n",
      "The keyword arguments are {}\n",
      "The positional arguments are ()\n",
      "The keyword arguments are {}\n",
      "The positional arguments are ()\n",
      "The keyword arguments are {}\n",
      "The positional arguments are ()\n",
      "The keyword arguments are {}\n",
      "The positional arguments are ()\n",
      "The keyword arguments are {}\n",
      "The positional arguments are ()\n",
      "The keyword arguments are {}\n",
      "The positional arguments are ()\n",
      "The keyword arguments are {}\n",
      "The positional arguments are ()\n",
      "The keyword arguments are {}\n",
      "The positional arguments are ()\n",
      "The keyword arguments are {}\n",
      "The positional arguments are ()\n",
      "The keyword arguments are {}\n",
      "The positional arguments are ()\n",
      "The keyword arguments are {}\n",
      "The positional arguments are ()\n",
      "The keyword arguments are {}\n",
      "The positional arguments are ()\n",
      "The keyword arguments are {}\n",
      "The positional arguments are ()\n",
      "The keyword arguments are {}\n",
      "The positional arguments are ()\n",
      "The keyword arguments are {}\n",
      "The positional arguments are ()\n",
      "The keyword arguments are {}\n",
      "The positional arguments are ()\n",
      "The keyword arguments are {}\n",
      "The positional arguments are ()\n",
      "The keyword arguments are {}\n",
      "The positional arguments are ()\n",
      "The keyword arguments are {}\n",
      "The positional arguments are ()\n",
      "The keyword arguments are {}\n",
      "The positional arguments are ()\n",
      "The keyword arguments are {}\n",
      "The positional arguments are ()\n",
      "The keyword arguments are {}\n",
      "The positional arguments are ()\n",
      "The keyword arguments are {}\n",
      "The positional arguments are ()\n",
      "The keyword arguments are {}\n",
      "The positional arguments are ()\n",
      "The keyword arguments are {}\n",
      "The positional arguments are ()\n",
      "The keyword arguments are {}\n",
      "The positional arguments are ()\n",
      "The keyword arguments are {}\n",
      "The positional arguments are ()\n",
      "The keyword arguments are {}\n",
      "The positional arguments are ()\n",
      "The keyword arguments are {}\n",
      "The positional arguments are ()\n",
      "The keyword arguments are {}\n",
      "The positional arguments are ()\n",
      "The keyword arguments are {}\n",
      "The positional arguments are ()\n",
      "The keyword arguments are {}\n",
      "The positional arguments are ()\n",
      "The keyword arguments are {}\n",
      "The positional arguments are ()\n",
      "The keyword arguments are {}\n",
      "The positional arguments are ()\n",
      "The keyword arguments are {}\n",
      "The positional arguments are ()\n",
      "The keyword arguments are {}\n",
      "The positional arguments are ()\n",
      "The keyword arguments are {}\n",
      "The positional arguments are ()\n",
      "The keyword arguments are {}\n",
      "The positional arguments are ()\n",
      "The keyword arguments are {}\n",
      "The positional arguments are ()\n",
      "The keyword arguments are {}\n",
      "The positional arguments are ()\n",
      "The keyword arguments are {}\n",
      "The positional arguments are ()\n",
      "The keyword arguments are {}\n",
      "The positional arguments are ()\n",
      "The keyword arguments are {}\n",
      "The positional arguments are ()\n",
      "The keyword arguments are {}\n",
      "The positional arguments are ()\n",
      "The keyword arguments are {}\n",
      "The positional arguments are ()\n",
      "The keyword arguments are {}\n",
      "The positional arguments are ()\n",
      "The keyword arguments are {}\n",
      "The positional arguments are ()\n",
      "The keyword arguments are {}\n",
      "The positional arguments are ()\n",
      "The keyword arguments are {}\n",
      "The positional arguments are ()\n",
      "The keyword arguments are {}\n",
      "The positional arguments are ()\n",
      "The keyword arguments are {}\n",
      "The positional arguments are ()\n",
      "The keyword arguments are {}\n",
      "The positional arguments are ()\n",
      "The keyword arguments are {}\n",
      "The positional arguments are ()\n",
      "The keyword arguments are {}\n",
      "The positional arguments are ()\n",
      "The keyword arguments are {}\n",
      "The positional arguments are ()\n",
      "The keyword arguments are {}\n",
      "The positional arguments are ()\n",
      "The keyword arguments are {}\n",
      "The positional arguments are ()\n",
      "The keyword arguments are {}\n",
      "The positional arguments are ()\n",
      "The keyword arguments are {}\n",
      "The positional arguments are ()\n",
      "The keyword arguments are {}\n",
      "The positional arguments are ()\n",
      "The keyword arguments are {}\n",
      "The positional arguments are ()\n",
      "The keyword arguments are {}\n",
      "The positional arguments are ()\n",
      "The keyword arguments are {}\n",
      "The positional arguments are ()\n",
      "The keyword arguments are {}\n",
      "The positional arguments are ()\n",
      "The keyword arguments are {}\n",
      "The positional arguments are ()\n",
      "The keyword arguments are {}\n",
      "The positional arguments are ()\n",
      "The keyword arguments are {}\n",
      "The positional arguments are ()\n",
      "The keyword arguments are {}\n",
      "The positional arguments are ()\n",
      "The keyword arguments are {}\n",
      "The positional arguments are ()\n",
      "The keyword arguments are {}\n",
      "The positional arguments are ()\n",
      "The keyword arguments are {}\n",
      "The positional arguments are ()\n",
      "The keyword arguments are {}\n",
      "The positional arguments are ()\n",
      "The keyword arguments are {}\n",
      "The positional arguments are ()\n",
      "The keyword arguments are {}\n",
      "The positional arguments are ()\n",
      "The keyword arguments are {}\n",
      "The positional arguments are ()\n",
      "The keyword arguments are {}\n",
      "The positional arguments are ()\n",
      "The keyword arguments are {}\n",
      "The positional arguments are ()\n",
      "The keyword arguments are {}\n",
      "The positional arguments are ()\n",
      "The keyword arguments are {}\n",
      "The positional arguments are ()\n",
      "The keyword arguments are {}\n",
      "The positional arguments are ()\n",
      "The keyword arguments are {}\n",
      "The positional arguments are ()\n",
      "The keyword arguments are {}\n",
      "The positional arguments are ()\n",
      "The keyword arguments are {}\n",
      "The positional arguments are ()\n",
      "The keyword arguments are {}\n",
      "The positional arguments are ()\n",
      "The keyword arguments are {}\n",
      "The positional arguments are ()\n",
      "The keyword arguments are {}\n",
      "The positional arguments are ()\n",
      "The keyword arguments are {}\n",
      "The positional arguments are ()\n",
      "The keyword arguments are {}\n",
      "The positional arguments are ()\n",
      "The keyword arguments are {}\n",
      "The positional arguments are ()\n",
      "The keyword arguments are {}\n",
      "The positional arguments are ()\n",
      "The keyword arguments are {}\n",
      "The positional arguments are ()\n",
      "The keyword arguments are {}\n",
      "The positional arguments are ()\n",
      "The keyword arguments are {}\n",
      "The positional arguments are ()\n",
      "The keyword arguments are {}\n",
      "The positional arguments are ()\n",
      "The keyword arguments are {}\n",
      "The positional arguments are ()\n",
      "The keyword arguments are {}\n",
      "The positional arguments are ()\n",
      "The keyword arguments are {}\n",
      "The positional arguments are ()\n",
      "The keyword arguments are {}\n",
      "The positional arguments are ()\n",
      "The keyword arguments are {}\n",
      "The positional arguments are ()\n",
      "The keyword arguments are {}\n",
      "The positional arguments are ()\n",
      "The keyword arguments are {}\n",
      "The positional arguments are ()\n",
      "The keyword arguments are {}\n",
      "The positional arguments are ()\n",
      "The keyword arguments are {}\n",
      "The positional arguments are ()\n",
      "The keyword arguments are {}\n",
      "The positional arguments are ()\n",
      "The keyword arguments are {}\n",
      "The positional arguments are ()\n",
      "The keyword arguments are {}\n",
      "The positional arguments are ()\n",
      "The keyword arguments are {}\n",
      "The positional arguments are ()\n",
      "The keyword arguments are {}\n",
      "The positional arguments are ()\n",
      "The keyword arguments are {}\n",
      "The positional arguments are ()\n",
      "The keyword arguments are {}\n",
      "The positional arguments are ()\n",
      "The keyword arguments are {}\n",
      "The positional arguments are ()\n",
      "The keyword arguments are {}\n",
      "The positional arguments are ()\n",
      "The keyword arguments are {}\n",
      "The positional arguments are ()\n",
      "The keyword arguments are {}\n",
      "The positional arguments are ()\n",
      "The keyword arguments are {}\n",
      "The positional arguments are ()\n",
      "The keyword arguments are {}\n",
      "The positional arguments are ()\n",
      "The keyword arguments are {}\n",
      "The positional arguments are ()\n",
      "The keyword arguments are {}\n",
      "The positional arguments are ()\n",
      "The keyword arguments are {}\n",
      "The positional arguments are ()\n",
      "The keyword arguments are {}\n",
      "The positional arguments are ()\n",
      "The keyword arguments are {}\n",
      "The positional arguments are ()\n",
      "The keyword arguments are {}\n",
      "The positional arguments are ()\n",
      "The keyword arguments are {}\n",
      "The positional arguments are ()\n",
      "The keyword arguments are {}\n",
      "The positional arguments are ()\n",
      "The keyword arguments are {}\n",
      "The positional arguments are ()\n",
      "The keyword arguments are {}\n",
      "The positional arguments are ()\n",
      "The keyword arguments are {}\n",
      "The positional arguments are ()\n",
      "The keyword arguments are {}\n",
      "The positional arguments are ()\n",
      "The keyword arguments are {}\n",
      "The positional arguments are ()\n",
      "The keyword arguments are {}\n",
      "The positional arguments are ()\n",
      "The keyword arguments are {}\n",
      "The positional arguments are ()\n",
      "The keyword arguments are {}\n",
      "The positional arguments are ()\n",
      "The keyword arguments are {}\n",
      "The positional arguments are ()\n",
      "The keyword arguments are {}\n",
      "The positional arguments are ()\n",
      "The keyword arguments are {}\n",
      "The positional arguments are ()\n",
      "The keyword arguments are {}\n",
      "The positional arguments are ()\n",
      "The keyword arguments are {}\n",
      "The positional arguments are ()\n",
      "The keyword arguments are {}\n",
      "The positional arguments are ()\n",
      "The keyword arguments are {}\n",
      "The positional arguments are ()\n",
      "The keyword arguments are {}\n",
      "The positional arguments are ()\n",
      "The keyword arguments are {}\n",
      "The positional arguments are ()\n",
      "The keyword arguments are {}\n",
      "The positional arguments are ()\n",
      "The keyword arguments are {}\n",
      "The positional arguments are ()\n",
      "The keyword arguments are {}\n",
      "The positional arguments are ()\n",
      "The keyword arguments are {}\n",
      "The positional arguments are ()\n",
      "The keyword arguments are {}\n",
      "The positional arguments are ()\n",
      "The keyword arguments are {}\n",
      "The positional arguments are ()\n",
      "The keyword arguments are {}\n",
      "The positional arguments are ()\n",
      "The keyword arguments are {}\n",
      "The positional arguments are ()\n",
      "The keyword arguments are {}\n",
      "The positional arguments are ()\n",
      "The keyword arguments are {}\n",
      "The positional arguments are ()\n",
      "The keyword arguments are {}\n",
      "The positional arguments are ()\n",
      "The keyword arguments are {}\n",
      "The positional arguments are ()\n",
      "The keyword arguments are {}\n",
      "The positional arguments are ()\n",
      "The keyword arguments are {}\n",
      "The positional arguments are ()\n",
      "The keyword arguments are {}\n",
      "The positional arguments are ()\n",
      "The keyword arguments are {}\n",
      "The positional arguments are ()\n",
      "The keyword arguments are {}\n",
      "The positional arguments are ()\n",
      "The keyword arguments are {}\n",
      "The positional arguments are ()\n",
      "The keyword arguments are {}\n",
      "The positional arguments are ()\n",
      "The keyword arguments are {}\n",
      "The positional arguments are ()\n",
      "The keyword arguments are {}\n",
      "The positional arguments are ()\n",
      "The keyword arguments are {}\n",
      "The positional arguments are ()\n",
      "The keyword arguments are {}\n",
      "The positional arguments are ()\n",
      "The keyword arguments are {}\n",
      "The positional arguments are ()\n",
      "The keyword arguments are {}\n",
      "The positional arguments are ()\n",
      "The keyword arguments are {}\n",
      "The positional arguments are ()\n",
      "The keyword arguments are {}\n",
      "The positional arguments are ()\n",
      "The keyword arguments are {}\n",
      "The positional arguments are ()\n",
      "The keyword arguments are {}\n",
      "The positional arguments are ()\n",
      "The keyword arguments are {}\n",
      "The positional arguments are ()\n",
      "The keyword arguments are {}\n",
      "The positional arguments are ()\n",
      "The keyword arguments are {}\n",
      "The positional arguments are ()\n",
      "The keyword arguments are {}\n",
      "The positional arguments are ()\n",
      "The keyword arguments are {}\n",
      "The positional arguments are ()\n",
      "The keyword arguments are {}\n",
      "The positional arguments are ()\n",
      "The keyword arguments are {}\n",
      "The positional arguments are ()\n",
      "The keyword arguments are {}\n",
      "The positional arguments are ()\n",
      "The keyword arguments are {}\n",
      "The positional arguments are ()\n",
      "The keyword arguments are {}\n",
      "The positional arguments are ()\n",
      "The keyword arguments are {}\n",
      "The positional arguments are ()\n",
      "The keyword arguments are {}\n",
      "The positional arguments are ()\n",
      "The keyword arguments are {}\n",
      "The positional arguments are ()\n",
      "The keyword arguments are {}\n",
      "The positional arguments are ()\n",
      "The keyword arguments are {}\n",
      "The positional arguments are ()\n",
      "The keyword arguments are {}\n",
      "The positional arguments are ()\n",
      "The keyword arguments are {}\n",
      "The positional arguments are ()\n",
      "The keyword arguments are {}\n",
      "The positional arguments are ()\n",
      "The keyword arguments are {}\n",
      "The positional arguments are ()\n",
      "The keyword arguments are {}\n",
      "The positional arguments are ()\n",
      "The keyword arguments are {}\n",
      "The positional arguments are ()\n",
      "The keyword arguments are {}\n",
      "The positional arguments are ()\n",
      "The keyword arguments are {}\n",
      "The positional arguments are ()\n",
      "The keyword arguments are {}\n",
      "The positional arguments are ()\n",
      "The keyword arguments are {}\n",
      "The positional arguments are ()\n",
      "The keyword arguments are {}\n",
      "The positional arguments are ()\n",
      "The keyword arguments are {}\n",
      "The positional arguments are ()\n",
      "The keyword arguments are {}\n",
      "The positional arguments are ()\n",
      "The keyword arguments are {}\n",
      "The positional arguments are ()\n",
      "The keyword arguments are {}\n",
      "The positional arguments are ()\n",
      "The keyword arguments are {}\n",
      "The positional arguments are ()\n",
      "The keyword arguments are {}\n",
      "The positional arguments are ()\n",
      "The keyword arguments are {}\n",
      "The positional arguments are ()\n",
      "The keyword arguments are {}\n",
      "The positional arguments are ()\n",
      "The keyword arguments are {}\n",
      "The positional arguments are ()\n",
      "The keyword arguments are {}\n",
      "The positional arguments are ()\n",
      "The keyword arguments are {}\n",
      "The positional arguments are ()\n",
      "The keyword arguments are {}\n",
      "The positional arguments are ()\n",
      "The keyword arguments are {}\n",
      "The positional arguments are ()\n",
      "The keyword arguments are {}\n",
      "The positional arguments are ()\n",
      "The keyword arguments are {}\n",
      "The positional arguments are ()\n",
      "The keyword arguments are {}\n",
      "The positional arguments are ()\n",
      "The keyword arguments are {}\n",
      "The positional arguments are ()\n",
      "The keyword arguments are {}\n",
      "The positional arguments are ()\n",
      "The keyword arguments are {}\n",
      "The positional arguments are ()\n",
      "The keyword arguments are {}\n",
      "The positional arguments are ()\n",
      "The keyword arguments are {}\n",
      "The positional arguments are ()\n",
      "The keyword arguments are {}\n",
      "The positional arguments are ()\n",
      "The keyword arguments are {}\n",
      "The positional arguments are ()\n",
      "The keyword arguments are {}\n",
      "The positional arguments are ()\n",
      "The keyword arguments are {}\n",
      "The positional arguments are ()\n",
      "The keyword arguments are {}\n",
      "The positional arguments are ()\n",
      "The keyword arguments are {}\n",
      "The positional arguments are ()\n",
      "The keyword arguments are {}\n",
      "The positional arguments are ()\n",
      "The keyword arguments are {}\n",
      "The positional arguments are ()\n",
      "The keyword arguments are {}\n",
      "The positional arguments are ()\n",
      "The keyword arguments are {}\n",
      "The positional arguments are ()\n",
      "The keyword arguments are {}\n",
      "The positional arguments are ()\n",
      "The keyword arguments are {}\n",
      "The positional arguments are ()\n",
      "The keyword arguments are {}\n",
      "The positional arguments are ()\n",
      "The keyword arguments are {}\n",
      "The positional arguments are ()\n",
      "The keyword arguments are {}\n",
      "The positional arguments are ()\n",
      "The keyword arguments are {}\n",
      "The positional arguments are ()\n",
      "The keyword arguments are {}\n",
      "The positional arguments are ()\n",
      "The keyword arguments are {}\n",
      "The positional arguments are ()\n",
      "The keyword arguments are {}\n",
      "The positional arguments are ()\n",
      "The keyword arguments are {}\n",
      "The positional arguments are ()\n",
      "The keyword arguments are {}\n",
      "The positional arguments are ()\n",
      "The keyword arguments are {}\n",
      "The positional arguments are ()\n",
      "The keyword arguments are {}\n",
      "The positional arguments are ()\n",
      "The keyword arguments are {}\n",
      "The positional arguments are ()\n",
      "The keyword arguments are {}\n",
      "The positional arguments are ()\n",
      "The keyword arguments are {}\n",
      "The positional arguments are ()\n",
      "The keyword arguments are {}\n",
      "The positional arguments are ()\n",
      "The keyword arguments are {}\n",
      "The positional arguments are ()\n",
      "The keyword arguments are {}\n",
      "The positional arguments are ()\n",
      "The keyword arguments are {}\n",
      "The positional arguments are ()\n",
      "The keyword arguments are {}\n",
      "The positional arguments are ()\n",
      "The keyword arguments are {}\n",
      "The positional arguments are ()\n",
      "The keyword arguments are {}\n",
      "The positional arguments are ()\n",
      "The keyword arguments are {}\n",
      "The positional arguments are ()\n",
      "The keyword arguments are {}\n",
      "The positional arguments are ()\n",
      "The keyword arguments are {}\n",
      "The positional arguments are ()\n",
      "The keyword arguments are {}\n",
      "The positional arguments are ()\n",
      "The keyword arguments are {}\n",
      "The positional arguments are ()\n",
      "The keyword arguments are {}\n",
      "The positional arguments are ()\n",
      "The keyword arguments are {}\n",
      "The positional arguments are ()\n",
      "The keyword arguments are {}\n",
      "The positional arguments are ()\n",
      "The keyword arguments are {}\n",
      "The positional arguments are ()\n",
      "The keyword arguments are {}\n",
      "The positional arguments are ()\n",
      "The keyword arguments are {}\n",
      "The positional arguments are ()\n",
      "The keyword arguments are {}\n",
      "The positional arguments are ()\n",
      "The keyword arguments are {}\n",
      "The positional arguments are ()\n",
      "The keyword arguments are {}\n",
      "The positional arguments are ()\n",
      "The keyword arguments are {}\n",
      "The positional arguments are ()\n",
      "The keyword arguments are {}\n",
      "The positional arguments are ()\n",
      "The keyword arguments are {}\n",
      "The positional arguments are ()\n",
      "The keyword arguments are {}\n",
      "The positional arguments are ()\n",
      "The keyword arguments are {}\n",
      "The positional arguments are ()\n",
      "The keyword arguments are {}\n",
      "The positional arguments are ()\n",
      "The keyword arguments are {}\n",
      "The positional arguments are ()\n",
      "The keyword arguments are {}\n",
      "The positional arguments are ()\n",
      "The keyword arguments are {}\n",
      "The positional arguments are ()\n",
      "The keyword arguments are {}\n",
      "The positional arguments are ()\n",
      "The keyword arguments are {}\n",
      "The positional arguments are ()\n",
      "The keyword arguments are {}\n",
      "The positional arguments are ()\n",
      "The keyword arguments are {}\n",
      "The positional arguments are ()\n",
      "The keyword arguments are {}\n",
      "The positional arguments are ()\n",
      "The keyword arguments are {}\n",
      "The positional arguments are ()\n",
      "The keyword arguments are {}\n",
      "The positional arguments are ()\n",
      "The keyword arguments are {}\n",
      "The positional arguments are ()\n",
      "The keyword arguments are {}\n",
      "The positional arguments are ()\n",
      "The keyword arguments are {}\n",
      "The positional arguments are ()\n",
      "The keyword arguments are {}\n",
      "The positional arguments are ()\n",
      "The keyword arguments are {}\n",
      "The positional arguments are ()\n",
      "The keyword arguments are {}\n",
      "The positional arguments are ()\n",
      "The keyword arguments are {}\n",
      "The positional arguments are ()\n",
      "The keyword arguments are {}\n",
      "The positional arguments are ()\n",
      "The keyword arguments are {}\n",
      "The positional arguments are ()\n",
      "The keyword arguments are {}\n",
      "The positional arguments are ()\n",
      "The keyword arguments are {}\n",
      "The positional arguments are ()\n",
      "The keyword arguments are {}\n",
      "The positional arguments are ()\n",
      "The keyword arguments are {}\n",
      "The positional arguments are ()\n",
      "The keyword arguments are {}\n",
      "The positional arguments are ()\n",
      "The keyword arguments are {}\n",
      "The positional arguments are ()\n",
      "The keyword arguments are {}\n",
      "The positional arguments are ()\n",
      "The keyword arguments are {}\n",
      "The positional arguments are ()\n",
      "The keyword arguments are {}\n",
      "The positional arguments are ()\n",
      "The keyword arguments are {}\n",
      "The positional arguments are ()\n",
      "The keyword arguments are {}\n",
      "The positional arguments are ()\n",
      "The keyword arguments are {}\n",
      "The positional arguments are ()\n",
      "The keyword arguments are {}\n",
      "The positional arguments are ()\n",
      "The keyword arguments are {}\n",
      "The positional arguments are ()\n",
      "The keyword arguments are {}\n",
      "The positional arguments are ()\n",
      "The keyword arguments are {}\n",
      "The positional arguments are ()\n",
      "The keyword arguments are {}\n",
      "The positional arguments are ()\n",
      "The keyword arguments are {}\n",
      "The positional arguments are ()\n",
      "The keyword arguments are {}\n",
      "The positional arguments are ()\n",
      "The keyword arguments are {}\n",
      "The positional arguments are ()\n",
      "The keyword arguments are {}\n",
      "The positional arguments are ()\n",
      "The keyword arguments are {}\n",
      "The positional arguments are ()\n",
      "The keyword arguments are {}\n",
      "The positional arguments are ()\n",
      "The keyword arguments are {}\n",
      "The positional arguments are ()\n",
      "The keyword arguments are {}\n",
      "The positional arguments are ()\n",
      "The keyword arguments are {}\n",
      "The positional arguments are ()\n",
      "The keyword arguments are {}\n",
      "The positional arguments are ()\n",
      "The keyword arguments are {}\n",
      "The positional arguments are ()\n",
      "The keyword arguments are {}\n",
      "The positional arguments are ()\n",
      "The keyword arguments are {}\n",
      "The positional arguments are ()\n",
      "The keyword arguments are {}\n",
      "The positional arguments are ()\n",
      "The keyword arguments are {}\n",
      "The positional arguments are ()\n",
      "The keyword arguments are {}\n",
      "The positional arguments are ()\n",
      "The keyword arguments are {}\n",
      "The positional arguments are ()\n",
      "The keyword arguments are {}\n",
      "The positional arguments are ()\n",
      "The keyword arguments are {}\n",
      "The positional arguments are ()\n",
      "The keyword arguments are {}\n",
      "The positional arguments are ()\n",
      "The keyword arguments are {}\n",
      "The positional arguments are ()\n",
      "The keyword arguments are {}\n",
      "The positional arguments are ()\n",
      "The keyword arguments are {}\n",
      "The positional arguments are ()\n",
      "The keyword arguments are {}\n",
      "The positional arguments are ()\n",
      "The keyword arguments are {}\n",
      "The positional arguments are ()\n",
      "The keyword arguments are {}\n",
      "The positional arguments are ()\n",
      "The keyword arguments are {}\n",
      "The positional arguments are ()\n",
      "The keyword arguments are {}\n",
      "The positional arguments are ()\n",
      "The keyword arguments are {}\n",
      "The positional arguments are ()\n",
      "The keyword arguments are {}\n",
      "The positional arguments are ()\n",
      "The keyword arguments are {}\n",
      "The positional arguments are ()\n",
      "The keyword arguments are {}\n",
      "The positional arguments are ()\n",
      "The keyword arguments are {}\n",
      "The positional arguments are ()\n",
      "The keyword arguments are {}\n",
      "The positional arguments are ()\n",
      "The keyword arguments are {}\n",
      "The positional arguments are ()\n",
      "The keyword arguments are {}\n",
      "The positional arguments are ()\n",
      "The keyword arguments are {}\n",
      "The positional arguments are ()\n",
      "The keyword arguments are {}\n",
      "The positional arguments are ()\n",
      "The keyword arguments are {}\n",
      "The positional arguments are ()\n",
      "The keyword arguments are {}\n",
      "The positional arguments are ()\n",
      "The keyword arguments are {}\n",
      "The positional arguments are ()\n",
      "The keyword arguments are {}\n",
      "The positional arguments are ()\n",
      "The keyword arguments are {}\n",
      "The positional arguments are ()\n",
      "The keyword arguments are {}\n",
      "The positional arguments are ()\n",
      "The keyword arguments are {}\n",
      "The positional arguments are ()\n",
      "The keyword arguments are {}\n",
      "The positional arguments are ()\n",
      "The keyword arguments are {}\n",
      "The positional arguments are ()\n",
      "The keyword arguments are {}\n",
      "The positional arguments are ()\n",
      "The keyword arguments are {}\n",
      "The positional arguments are ()\n",
      "The keyword arguments are {}\n",
      "The positional arguments are ()\n",
      "The keyword arguments are {}\n",
      "The positional arguments are ()\n",
      "The keyword arguments are {}\n",
      "The positional arguments are ()\n",
      "The keyword arguments are {}\n",
      "The positional arguments are ()\n",
      "The keyword arguments are {}\n",
      "The positional arguments are ()\n",
      "The keyword arguments are {}\n",
      "The positional arguments are ()\n",
      "The keyword arguments are {}\n",
      "The positional arguments are ()\n",
      "The keyword arguments are {}\n",
      "The positional arguments are ()\n",
      "The keyword arguments are {}\n",
      "The positional arguments are ()\n",
      "The keyword arguments are {}\n",
      "The positional arguments are ()\n",
      "The keyword arguments are {}\n"
     ]
    },
    {
     "name": "stdout",
     "output_type": "stream",
     "text": [
      "The positional arguments are ()\n",
      "The keyword arguments are {}\n",
      "The positional arguments are ()\n",
      "The keyword arguments are {}\n",
      "The positional arguments are ()\n",
      "The keyword arguments are {}\n",
      "The positional arguments are ()\n",
      "The keyword arguments are {}\n",
      "The positional arguments are ()\n",
      "The keyword arguments are {}\n",
      "The positional arguments are ()\n",
      "The keyword arguments are {}\n",
      "The positional arguments are ()\n",
      "The keyword arguments are {}\n",
      "The positional arguments are ()\n",
      "The keyword arguments are {}\n",
      "The positional arguments are ()\n",
      "The keyword arguments are {}\n",
      "The positional arguments are ()\n",
      "The keyword arguments are {}\n",
      "The positional arguments are ()\n",
      "The keyword arguments are {}\n",
      "The positional arguments are ()\n",
      "The keyword arguments are {}\n",
      "The positional arguments are ()\n",
      "The keyword arguments are {}\n",
      "The positional arguments are ()\n",
      "The keyword arguments are {}\n",
      "The positional arguments are ()\n",
      "The keyword arguments are {}\n",
      "The positional arguments are ()\n",
      "The keyword arguments are {}\n",
      "The positional arguments are ()\n",
      "The keyword arguments are {}\n",
      "The positional arguments are ()\n",
      "The keyword arguments are {}\n",
      "The positional arguments are ()\n",
      "The keyword arguments are {}\n",
      "The positional arguments are ()\n",
      "The keyword arguments are {}\n",
      "The positional arguments are ()\n",
      "The keyword arguments are {}\n",
      "The positional arguments are ()\n",
      "The keyword arguments are {}\n",
      "The positional arguments are ()\n",
      "The keyword arguments are {}\n",
      "The positional arguments are ()\n",
      "The keyword arguments are {}\n",
      "The positional arguments are ()\n",
      "The keyword arguments are {}\n",
      "The positional arguments are ()\n",
      "The keyword arguments are {}\n",
      "The positional arguments are ()\n",
      "The keyword arguments are {}\n",
      "The positional arguments are ()\n",
      "The keyword arguments are {}\n",
      "The positional arguments are ()\n",
      "The keyword arguments are {}\n",
      "The positional arguments are ()\n",
      "The keyword arguments are {}\n",
      "The positional arguments are ()\n",
      "The keyword arguments are {}\n",
      "The positional arguments are ()\n",
      "The keyword arguments are {}\n",
      "The positional arguments are ()\n",
      "The keyword arguments are {}\n",
      "The positional arguments are ()\n",
      "The keyword arguments are {}\n",
      "The positional arguments are ()\n",
      "The keyword arguments are {}\n",
      "The positional arguments are ()\n",
      "The keyword arguments are {}\n",
      "The positional arguments are ()\n",
      "The keyword arguments are {}\n",
      "The positional arguments are ()\n",
      "The keyword arguments are {}\n",
      "The positional arguments are ()\n",
      "The keyword arguments are {}\n",
      "The positional arguments are ()\n",
      "The keyword arguments are {}\n",
      "The positional arguments are ()\n",
      "The keyword arguments are {}\n",
      "The positional arguments are ()\n",
      "The keyword arguments are {}\n",
      "The positional arguments are ()\n",
      "The keyword arguments are {}\n",
      "The positional arguments are ()\n",
      "The keyword arguments are {}\n",
      "The positional arguments are ()\n",
      "The keyword arguments are {}\n",
      "The positional arguments are ()\n",
      "The keyword arguments are {}\n",
      "The positional arguments are ()\n",
      "The keyword arguments are {}\n",
      "The positional arguments are ()\n",
      "The keyword arguments are {}\n",
      "The positional arguments are ()\n",
      "The keyword arguments are {}\n",
      "The positional arguments are ()\n",
      "The keyword arguments are {}\n",
      "The positional arguments are ()\n",
      "The keyword arguments are {}\n",
      "The positional arguments are ()\n",
      "The keyword arguments are {}\n",
      "The positional arguments are ()\n",
      "The keyword arguments are {}\n",
      "The positional arguments are ()\n",
      "The keyword arguments are {}\n",
      "The positional arguments are ()\n",
      "The keyword arguments are {}\n",
      "The positional arguments are ()\n",
      "The keyword arguments are {}\n",
      "The positional arguments are ()\n",
      "The keyword arguments are {}\n",
      "The positional arguments are ()\n",
      "The keyword arguments are {}\n",
      "The positional arguments are ()\n",
      "The keyword arguments are {}\n",
      "The positional arguments are ()\n",
      "The keyword arguments are {}\n",
      "The positional arguments are ()\n",
      "The keyword arguments are {}\n",
      "The positional arguments are ()\n",
      "The keyword arguments are {}\n",
      "The positional arguments are ()\n",
      "The keyword arguments are {}\n",
      "The positional arguments are ()\n",
      "The keyword arguments are {}\n",
      "The positional arguments are ()\n",
      "The keyword arguments are {}\n",
      "The positional arguments are ()\n",
      "The keyword arguments are {}\n",
      "The positional arguments are ()\n",
      "The keyword arguments are {}\n",
      "The positional arguments are ()\n",
      "The keyword arguments are {}\n",
      "The positional arguments are ()\n",
      "The keyword arguments are {}\n",
      "The positional arguments are ()\n",
      "The keyword arguments are {}\n",
      "The positional arguments are ()\n",
      "The keyword arguments are {}\n",
      "The positional arguments are ()\n",
      "The keyword arguments are {}\n",
      "The positional arguments are ()\n",
      "The keyword arguments are {}\n",
      "The positional arguments are ()\n",
      "The keyword arguments are {}\n",
      "The positional arguments are ()\n",
      "The keyword arguments are {}\n",
      "The positional arguments are ()\n",
      "The keyword arguments are {}\n",
      "The positional arguments are ()\n",
      "The keyword arguments are {}\n",
      "The positional arguments are ()\n",
      "The keyword arguments are {}\n",
      "The positional arguments are ()\n",
      "The keyword arguments are {}\n",
      "The positional arguments are ()\n",
      "The keyword arguments are {}\n",
      "The positional arguments are ()\n",
      "The keyword arguments are {}\n",
      "The positional arguments are ()\n",
      "The keyword arguments are {}\n",
      "The positional arguments are ()\n",
      "The keyword arguments are {}\n",
      "The positional arguments are ()\n",
      "The keyword arguments are {}\n",
      "The positional arguments are ()\n",
      "The keyword arguments are {}\n",
      "The positional arguments are ()\n",
      "The keyword arguments are {}\n",
      "The positional arguments are ()\n",
      "The keyword arguments are {}\n",
      "The positional arguments are ()\n",
      "The keyword arguments are {}\n",
      "The positional arguments are ()\n",
      "The keyword arguments are {}\n",
      "The positional arguments are ()\n",
      "The keyword arguments are {}\n",
      "The positional arguments are ()\n",
      "The keyword arguments are {}\n",
      "The positional arguments are ()\n",
      "The keyword arguments are {}\n",
      "The positional arguments are ()\n",
      "The keyword arguments are {}\n",
      "The positional arguments are ()\n",
      "The keyword arguments are {}\n",
      "The positional arguments are ()\n",
      "The keyword arguments are {}\n",
      "The positional arguments are ()\n",
      "The keyword arguments are {}\n",
      "The positional arguments are ()\n",
      "The keyword arguments are {}\n",
      "The positional arguments are ()\n",
      "The keyword arguments are {}\n",
      "The positional arguments are ()\n",
      "The keyword arguments are {}\n",
      "The positional arguments are ()\n",
      "The keyword arguments are {}\n",
      "The positional arguments are ()\n",
      "The keyword arguments are {}\n",
      "The positional arguments are ()\n",
      "The keyword arguments are {}\n",
      "The positional arguments are ()\n",
      "The keyword arguments are {}\n",
      "The positional arguments are ()\n",
      "The keyword arguments are {}\n",
      "The positional arguments are ()\n",
      "The keyword arguments are {}\n",
      "The positional arguments are ()\n",
      "The keyword arguments are {}\n",
      "The positional arguments are ()\n",
      "The keyword arguments are {}\n",
      "The positional arguments are ()\n",
      "The keyword arguments are {}\n",
      "The positional arguments are ()\n",
      "The keyword arguments are {}\n",
      "The positional arguments are ()\n",
      "The keyword arguments are {}\n",
      "The positional arguments are ()\n",
      "The keyword arguments are {}\n",
      "The positional arguments are ()\n",
      "The keyword arguments are {}\n",
      "The positional arguments are ()\n",
      "The keyword arguments are {}\n",
      "The positional arguments are ()\n",
      "The keyword arguments are {}\n",
      "The positional arguments are ()\n",
      "The keyword arguments are {}\n",
      "The positional arguments are ()\n",
      "The keyword arguments are {}\n",
      "The positional arguments are ()\n",
      "The keyword arguments are {}\n",
      "The positional arguments are ()\n",
      "The keyword arguments are {}\n",
      "The positional arguments are ()\n",
      "The keyword arguments are {}\n",
      "The positional arguments are ()\n",
      "The keyword arguments are {}\n",
      "The positional arguments are ()\n",
      "The keyword arguments are {}\n",
      "The positional arguments are ()\n",
      "The keyword arguments are {}\n",
      "The positional arguments are ()\n",
      "The keyword arguments are {}\n",
      "The positional arguments are ()\n",
      "The keyword arguments are {}\n",
      "The positional arguments are ()\n",
      "The keyword arguments are {}\n",
      "The positional arguments are ()\n",
      "The keyword arguments are {}\n",
      "The positional arguments are ()\n",
      "The keyword arguments are {}\n",
      "The positional arguments are ()\n",
      "The keyword arguments are {}\n",
      "The positional arguments are ()\n",
      "The keyword arguments are {}\n",
      "The positional arguments are ()\n",
      "The keyword arguments are {}\n",
      "The positional arguments are ()\n",
      "The keyword arguments are {}\n",
      "The positional arguments are ()\n",
      "The keyword arguments are {}\n",
      "The positional arguments are ()\n",
      "The keyword arguments are {}\n",
      "The positional arguments are ()\n",
      "The keyword arguments are {}\n",
      "The positional arguments are ()\n",
      "The keyword arguments are {}\n",
      "The positional arguments are ()\n",
      "The keyword arguments are {}\n",
      "The positional arguments are ()\n",
      "The keyword arguments are {}\n",
      "The positional arguments are ()\n",
      "The keyword arguments are {}\n",
      "The positional arguments are ()\n",
      "The keyword arguments are {}\n",
      "The positional arguments are ()\n",
      "The keyword arguments are {}\n",
      "The positional arguments are ()\n",
      "The keyword arguments are {}\n",
      "The positional arguments are ()\n",
      "The keyword arguments are {}\n",
      "The positional arguments are ()\n",
      "The keyword arguments are {}\n",
      "The positional arguments are ()\n",
      "The keyword arguments are {}\n",
      "The positional arguments are ()\n",
      "The keyword arguments are {}\n",
      "The positional arguments are ()\n",
      "The keyword arguments are {}\n",
      "The positional arguments are ()\n",
      "The keyword arguments are {}\n",
      "The positional arguments are ()\n",
      "The keyword arguments are {}\n",
      "The positional arguments are ()\n",
      "The keyword arguments are {}\n",
      "The positional arguments are ()\n",
      "The keyword arguments are {}\n",
      "The positional arguments are ()\n",
      "The keyword arguments are {}\n",
      "The positional arguments are ()\n",
      "The keyword arguments are {}\n",
      "The positional arguments are ()\n",
      "The keyword arguments are {}\n",
      "The positional arguments are ()\n",
      "The keyword arguments are {}\n",
      "The positional arguments are ()\n",
      "The keyword arguments are {}\n",
      "The positional arguments are ()\n",
      "The keyword arguments are {}\n",
      "The positional arguments are ()\n",
      "The keyword arguments are {}\n",
      "The positional arguments are ()\n",
      "The keyword arguments are {}\n",
      "The positional arguments are ()\n",
      "The keyword arguments are {}\n",
      "The positional arguments are ()\n",
      "The keyword arguments are {}\n",
      "The positional arguments are ()\n",
      "The keyword arguments are {}\n",
      "The positional arguments are ()\n",
      "The keyword arguments are {}\n",
      "The positional arguments are ()\n",
      "The keyword arguments are {}\n",
      "The positional arguments are ()\n",
      "The keyword arguments are {}\n",
      "The positional arguments are ()\n",
      "The keyword arguments are {}\n",
      "The positional arguments are ()\n",
      "The keyword arguments are {}\n",
      "The positional arguments are ()\n",
      "The keyword arguments are {}\n",
      "The positional arguments are ()\n",
      "The keyword arguments are {}\n",
      "The positional arguments are ()\n",
      "The keyword arguments are {}\n",
      "The positional arguments are ()\n",
      "The keyword arguments are {}\n",
      "The positional arguments are ()\n",
      "The keyword arguments are {}\n",
      "The positional arguments are ()\n",
      "The keyword arguments are {}\n",
      "The positional arguments are ()\n",
      "The keyword arguments are {}\n",
      "The positional arguments are ()\n",
      "The keyword arguments are {}\n",
      "The positional arguments are ()\n",
      "The keyword arguments are {}\n",
      "The positional arguments are ()\n",
      "The keyword arguments are {}\n",
      "The positional arguments are ()\n",
      "The keyword arguments are {}\n",
      "The positional arguments are ()\n",
      "The keyword arguments are {}\n",
      "The positional arguments are ()\n",
      "The keyword arguments are {}\n",
      "The positional arguments are ()\n",
      "The keyword arguments are {}\n",
      "The positional arguments are ()\n",
      "The keyword arguments are {}\n",
      "The positional arguments are ()\n",
      "The keyword arguments are {}\n",
      "The positional arguments are ()\n",
      "The keyword arguments are {}\n",
      "The positional arguments are ()\n",
      "The keyword arguments are {}\n",
      "The positional arguments are ()\n",
      "The keyword arguments are {}\n",
      "The positional arguments are ()\n",
      "The keyword arguments are {}\n",
      "The positional arguments are ()\n",
      "The keyword arguments are {}\n",
      "The positional arguments are ()\n",
      "The keyword arguments are {}\n",
      "The positional arguments are ()\n",
      "The keyword arguments are {}\n",
      "The positional arguments are ()\n",
      "The keyword arguments are {}\n",
      "The positional arguments are ()\n",
      "The keyword arguments are {}\n",
      "The positional arguments are ()\n",
      "The keyword arguments are {}\n",
      "The positional arguments are ()\n",
      "The keyword arguments are {}\n",
      "The positional arguments are ()\n",
      "The keyword arguments are {}\n",
      "The positional arguments are ()\n",
      "The keyword arguments are {}\n",
      "The positional arguments are ()\n",
      "The keyword arguments are {}\n",
      "The positional arguments are ()\n",
      "The keyword arguments are {}\n",
      "The positional arguments are ()\n",
      "The keyword arguments are {}\n",
      "The positional arguments are ()\n",
      "The keyword arguments are {}\n",
      "The positional arguments are ()\n",
      "The keyword arguments are {}\n",
      "The positional arguments are ()\n",
      "The keyword arguments are {}\n",
      "The positional arguments are ()\n",
      "The keyword arguments are {}\n",
      "The positional arguments are ()\n",
      "The keyword arguments are {}\n",
      "The positional arguments are ()\n",
      "The keyword arguments are {}\n",
      "The positional arguments are ()\n",
      "The keyword arguments are {}\n",
      "The positional arguments are ()\n",
      "The keyword arguments are {}\n",
      "The positional arguments are ()\n",
      "The keyword arguments are {}\n",
      "The positional arguments are ()\n",
      "The keyword arguments are {}\n",
      "The positional arguments are ()\n",
      "The keyword arguments are {}\n",
      "The positional arguments are ()\n",
      "The keyword arguments are {}\n",
      "The positional arguments are ()\n",
      "The keyword arguments are {}\n",
      "The positional arguments are ()\n",
      "The keyword arguments are {}\n",
      "The positional arguments are ()\n",
      "The keyword arguments are {}\n",
      "The positional arguments are ()\n",
      "The keyword arguments are {}\n",
      "The positional arguments are ()\n",
      "The keyword arguments are {}\n",
      "The positional arguments are ()\n",
      "The keyword arguments are {}\n",
      "The positional arguments are ()\n",
      "The keyword arguments are {}\n",
      "The positional arguments are ()\n",
      "The keyword arguments are {}\n",
      "The positional arguments are ()\n",
      "The keyword arguments are {}\n",
      "The positional arguments are ()\n",
      "The keyword arguments are {}\n",
      "The positional arguments are ()\n",
      "The keyword arguments are {}\n",
      "The positional arguments are ()\n",
      "The keyword arguments are {}\n",
      "The positional arguments are ()\n",
      "The keyword arguments are {}\n",
      "The positional arguments are ()\n",
      "The keyword arguments are {}\n",
      "The positional arguments are ()\n",
      "The keyword arguments are {}\n",
      "The positional arguments are ()\n",
      "The keyword arguments are {}\n",
      "The positional arguments are ()\n",
      "The keyword arguments are {}\n",
      "The positional arguments are ()\n",
      "The keyword arguments are {}\n",
      "The positional arguments are ()\n",
      "The keyword arguments are {}\n",
      "The positional arguments are ()\n",
      "The keyword arguments are {}\n",
      "The positional arguments are ()\n",
      "The keyword arguments are {}\n",
      "The positional arguments are ()\n",
      "The keyword arguments are {}\n",
      "The positional arguments are ()\n",
      "The keyword arguments are {}\n",
      "The positional arguments are ()\n",
      "The keyword arguments are {}\n",
      "The positional arguments are ()\n",
      "The keyword arguments are {}\n",
      "The positional arguments are ()\n",
      "The keyword arguments are {}\n",
      "The positional arguments are ()\n",
      "The keyword arguments are {}\n",
      "The positional arguments are ()\n",
      "The keyword arguments are {}\n",
      "The positional arguments are ()\n",
      "The keyword arguments are {}\n",
      "The positional arguments are ()\n",
      "The keyword arguments are {}\n",
      "The positional arguments are ()\n",
      "The keyword arguments are {}\n",
      "The positional arguments are ()\n",
      "The keyword arguments are {}\n",
      "The positional arguments are ()\n",
      "The keyword arguments are {}\n",
      "The positional arguments are ()\n",
      "The keyword arguments are {}\n",
      "The positional arguments are ()\n",
      "The keyword arguments are {}\n",
      "The positional arguments are ()\n",
      "The keyword arguments are {}\n",
      "The positional arguments are ()\n",
      "The keyword arguments are {}\n",
      "The positional arguments are ()\n",
      "The keyword arguments are {}\n",
      "The positional arguments are ()\n",
      "The keyword arguments are {}\n",
      "The positional arguments are ()\n",
      "The keyword arguments are {}\n",
      "The positional arguments are ()\n",
      "The keyword arguments are {}\n",
      "The positional arguments are ()\n",
      "The keyword arguments are {}\n",
      "The positional arguments are ()\n",
      "The keyword arguments are {}\n",
      "The positional arguments are ()\n",
      "The keyword arguments are {}\n",
      "The positional arguments are ()\n",
      "The keyword arguments are {}\n",
      "The positional arguments are ()\n",
      "The keyword arguments are {}\n",
      "The positional arguments are ()\n",
      "The keyword arguments are {}\n",
      "The positional arguments are ()\n",
      "The keyword arguments are {}\n",
      "The positional arguments are ()\n",
      "The keyword arguments are {}\n",
      "The positional arguments are ()\n",
      "The keyword arguments are {}\n",
      "The positional arguments are ()\n",
      "The keyword arguments are {}\n",
      "The positional arguments are ()\n",
      "The keyword arguments are {}\n",
      "The positional arguments are ()\n",
      "The keyword arguments are {}\n",
      "The positional arguments are ()\n",
      "The keyword arguments are {}\n",
      "The positional arguments are ()\n",
      "The keyword arguments are {}\n",
      "The positional arguments are ()\n",
      "The keyword arguments are {}\n",
      "The positional arguments are ()\n",
      "The keyword arguments are {}\n",
      "The positional arguments are ()\n",
      "The keyword arguments are {}\n",
      "The positional arguments are ()\n",
      "The keyword arguments are {}\n",
      "The positional arguments are ()\n",
      "The keyword arguments are {}\n",
      "The positional arguments are ()\n",
      "The keyword arguments are {}\n",
      "The positional arguments are ()\n",
      "The keyword arguments are {}\n",
      "The positional arguments are ()\n",
      "The keyword arguments are {}\n",
      "The positional arguments are ()\n",
      "The keyword arguments are {}\n",
      "The positional arguments are ()\n",
      "The keyword arguments are {}\n",
      "The positional arguments are ()\n",
      "The keyword arguments are {}\n",
      "The positional arguments are ()\n",
      "The keyword arguments are {}\n",
      "The positional arguments are ()\n",
      "The keyword arguments are {}\n",
      "The positional arguments are ()\n",
      "The keyword arguments are {}\n",
      "The positional arguments are ()\n",
      "The keyword arguments are {}\n",
      "The positional arguments are ()\n",
      "The keyword arguments are {}\n",
      "The positional arguments are ()\n",
      "The keyword arguments are {}\n",
      "The positional arguments are ()\n",
      "The keyword arguments are {}\n",
      "The positional arguments are ()\n",
      "The keyword arguments are {}\n",
      "The positional arguments are ()\n",
      "The keyword arguments are {}\n",
      "The positional arguments are ()\n",
      "The keyword arguments are {}\n",
      "The positional arguments are ()\n",
      "The keyword arguments are {}\n",
      "The positional arguments are ()\n",
      "The keyword arguments are {}\n",
      "The positional arguments are ()\n",
      "The keyword arguments are {}\n",
      "The positional arguments are ()\n",
      "The keyword arguments are {}\n",
      "The positional arguments are ()\n",
      "The keyword arguments are {}\n",
      "The positional arguments are ()\n",
      "The keyword arguments are {}\n",
      "The positional arguments are ()\n",
      "The keyword arguments are {}\n",
      "The positional arguments are ()\n",
      "The keyword arguments are {}\n",
      "The positional arguments are ()\n",
      "The keyword arguments are {}\n",
      "The positional arguments are ()\n",
      "The keyword arguments are {}\n",
      "The positional arguments are ()\n",
      "The keyword arguments are {}\n",
      "The positional arguments are ()\n",
      "The keyword arguments are {}\n",
      "The positional arguments are ()\n",
      "The keyword arguments are {}\n",
      "The positional arguments are ()\n",
      "The keyword arguments are {}\n",
      "The positional arguments are ()\n",
      "The keyword arguments are {}\n",
      "The positional arguments are ()\n",
      "The keyword arguments are {}\n",
      "The positional arguments are ()\n",
      "The keyword arguments are {}\n",
      "The positional arguments are ()\n",
      "The keyword arguments are {}\n",
      "The positional arguments are ()\n",
      "The keyword arguments are {}\n",
      "The positional arguments are ()\n",
      "The keyword arguments are {}\n",
      "The positional arguments are ()\n",
      "The keyword arguments are {}\n",
      "The positional arguments are ()\n",
      "The keyword arguments are {}\n",
      "The positional arguments are ()\n",
      "The keyword arguments are {}\n",
      "The positional arguments are ()\n",
      "The keyword arguments are {}\n",
      "The positional arguments are ()\n",
      "The keyword arguments are {}\n",
      "The positional arguments are ()\n",
      "The keyword arguments are {}\n",
      "The positional arguments are ()\n",
      "The keyword arguments are {}\n",
      "The positional arguments are ()\n",
      "The keyword arguments are {}\n",
      "The positional arguments are ()\n",
      "The keyword arguments are {}\n",
      "The positional arguments are ()\n",
      "The keyword arguments are {}\n",
      "The positional arguments are ()\n",
      "The keyword arguments are {}\n",
      "The positional arguments are ()\n",
      "The keyword arguments are {}\n",
      "The positional arguments are ()\n",
      "The keyword arguments are {}\n",
      "The positional arguments are ()\n",
      "The keyword arguments are {}\n",
      "The positional arguments are ()\n",
      "The keyword arguments are {}\n",
      "The positional arguments are ()\n",
      "The keyword arguments are {}\n",
      "The positional arguments are ()\n",
      "The keyword arguments are {}\n",
      "The positional arguments are ()\n",
      "The keyword arguments are {}\n",
      "The positional arguments are ()\n",
      "The keyword arguments are {}\n",
      "The positional arguments are ()\n",
      "The keyword arguments are {}\n",
      "The positional arguments are ()\n",
      "The keyword arguments are {}\n",
      "The positional arguments are ()\n",
      "The keyword arguments are {}\n",
      "The positional arguments are ()\n",
      "The keyword arguments are {}\n",
      "The positional arguments are ()\n",
      "The keyword arguments are {}\n",
      "The positional arguments are ()\n",
      "The keyword arguments are {}\n",
      "The positional arguments are ()\n",
      "The keyword arguments are {}\n",
      "The positional arguments are ()\n",
      "The keyword arguments are {}\n",
      "The positional arguments are ()\n",
      "The keyword arguments are {}\n",
      "The positional arguments are ()\n",
      "The keyword arguments are {}\n",
      "The positional arguments are ()\n",
      "The keyword arguments are {}\n",
      "The positional arguments are ()\n",
      "The keyword arguments are {}\n",
      "The positional arguments are ()\n",
      "The keyword arguments are {}\n",
      "The positional arguments are ()\n",
      "The keyword arguments are {}\n",
      "The positional arguments are ()\n",
      "The keyword arguments are {}\n",
      "The positional arguments are ()\n",
      "The keyword arguments are {}\n",
      "The positional arguments are ()\n",
      "The keyword arguments are {}\n",
      "The positional arguments are ()\n",
      "The keyword arguments are {}\n",
      "The positional arguments are ()\n",
      "The keyword arguments are {}\n",
      "The positional arguments are ()\n",
      "The keyword arguments are {}\n",
      "The positional arguments are ()\n",
      "The keyword arguments are {}\n",
      "The positional arguments are ()\n",
      "The keyword arguments are {}\n",
      "The positional arguments are ()\n",
      "The keyword arguments are {}\n",
      "The positional arguments are ()\n",
      "The keyword arguments are {}\n",
      "The positional arguments are ()\n",
      "The keyword arguments are {}\n",
      "The positional arguments are ()\n",
      "The keyword arguments are {}\n",
      "The positional arguments are ()\n",
      "The keyword arguments are {}\n",
      "The positional arguments are ()\n",
      "The keyword arguments are {}\n",
      "The positional arguments are ()\n",
      "The keyword arguments are {}\n",
      "The positional arguments are ()\n",
      "The keyword arguments are {}\n",
      "The positional arguments are ()\n",
      "The keyword arguments are {}\n",
      "The positional arguments are ()\n",
      "The keyword arguments are {}\n",
      "The positional arguments are ()\n",
      "The keyword arguments are {}\n",
      "The positional arguments are ()\n",
      "The keyword arguments are {}\n",
      "The positional arguments are ()\n",
      "The keyword arguments are {}\n",
      "The positional arguments are ()\n",
      "The keyword arguments are {}\n",
      "The positional arguments are ()\n",
      "The keyword arguments are {}\n",
      "The positional arguments are ()\n",
      "The keyword arguments are {}\n",
      "The positional arguments are ()\n",
      "The keyword arguments are {}\n",
      "The positional arguments are ()\n",
      "The keyword arguments are {}\n",
      "The positional arguments are ()\n",
      "The keyword arguments are {}\n",
      "The positional arguments are ()\n",
      "The keyword arguments are {}\n",
      "The positional arguments are ()\n",
      "The keyword arguments are {}\n",
      "The positional arguments are ()\n",
      "The keyword arguments are {}\n",
      "The positional arguments are ()\n",
      "The keyword arguments are {}\n",
      "The positional arguments are ()\n",
      "The keyword arguments are {}\n",
      "The positional arguments are ()\n",
      "The keyword arguments are {}\n",
      "The positional arguments are ()\n",
      "The keyword arguments are {}\n",
      "The positional arguments are ()\n",
      "The keyword arguments are {}\n",
      "The positional arguments are ()\n"
     ]
    },
    {
     "name": "stdout",
     "output_type": "stream",
     "text": [
      "The keyword arguments are {}\n",
      "The positional arguments are ()\n",
      "The keyword arguments are {}\n",
      "The positional arguments are ()\n",
      "The keyword arguments are {}\n",
      "The positional arguments are ()\n",
      "The keyword arguments are {}\n",
      "The positional arguments are ()\n",
      "The keyword arguments are {}\n",
      "The positional arguments are ()\n",
      "The keyword arguments are {}\n",
      "The positional arguments are ()\n",
      "The keyword arguments are {}\n",
      "The positional arguments are ()\n",
      "The keyword arguments are {}\n",
      "The positional arguments are ()\n",
      "The keyword arguments are {}\n",
      "The positional arguments are ()\n",
      "The keyword arguments are {}\n",
      "The positional arguments are ()\n",
      "The keyword arguments are {}\n",
      "The positional arguments are ()\n",
      "The keyword arguments are {}\n",
      "The positional arguments are ()\n",
      "The keyword arguments are {}\n",
      "The positional arguments are ()\n",
      "The keyword arguments are {}\n",
      "The positional arguments are ()\n",
      "The keyword arguments are {}\n",
      "The positional arguments are ()\n",
      "The keyword arguments are {}\n",
      "The positional arguments are ()\n",
      "The keyword arguments are {}\n",
      "The positional arguments are ()\n",
      "The keyword arguments are {}\n",
      "The positional arguments are ()\n",
      "The keyword arguments are {}\n",
      "The positional arguments are ()\n",
      "The keyword arguments are {}\n",
      "The positional arguments are ()\n",
      "The keyword arguments are {}\n",
      "The positional arguments are ()\n",
      "The keyword arguments are {}\n",
      "The positional arguments are ()\n",
      "The keyword arguments are {}\n",
      "The positional arguments are ()\n",
      "The keyword arguments are {}\n",
      "The positional arguments are ()\n",
      "The keyword arguments are {}\n",
      "The positional arguments are ()\n",
      "The keyword arguments are {}\n",
      "The positional arguments are ()\n",
      "The keyword arguments are {}\n",
      "The positional arguments are ()\n",
      "The keyword arguments are {}\n",
      "The positional arguments are ()\n",
      "The keyword arguments are {}\n",
      "The positional arguments are ()\n",
      "The keyword arguments are {}\n",
      "The positional arguments are ()\n",
      "The keyword arguments are {}\n",
      "The positional arguments are ()\n",
      "The keyword arguments are {}\n",
      "The positional arguments are ()\n",
      "The keyword arguments are {}\n",
      "The positional arguments are ()\n",
      "The keyword arguments are {}\n",
      "The positional arguments are ()\n",
      "The keyword arguments are {}\n",
      "The positional arguments are ()\n",
      "The keyword arguments are {}\n",
      "The positional arguments are ()\n",
      "The keyword arguments are {}\n",
      "The positional arguments are ()\n",
      "The keyword arguments are {}\n",
      "The positional arguments are ()\n",
      "The keyword arguments are {}\n",
      "The positional arguments are ()\n",
      "The keyword arguments are {}\n",
      "The positional arguments are ()\n",
      "The keyword arguments are {}\n",
      "The positional arguments are ()\n",
      "The keyword arguments are {}\n",
      "The positional arguments are ()\n",
      "The keyword arguments are {}\n",
      "The positional arguments are ()\n",
      "The keyword arguments are {}\n",
      "The positional arguments are ()\n",
      "The keyword arguments are {}\n",
      "The positional arguments are ()\n",
      "The keyword arguments are {}\n",
      "The positional arguments are ()\n",
      "The keyword arguments are {}\n",
      "The positional arguments are ()\n",
      "The keyword arguments are {}\n",
      "The positional arguments are ()\n",
      "The keyword arguments are {}\n",
      "The positional arguments are ()\n",
      "The keyword arguments are {}\n",
      "The positional arguments are ()\n",
      "The keyword arguments are {}\n",
      "The positional arguments are ()\n",
      "The keyword arguments are {}\n",
      "The positional arguments are ()\n",
      "The keyword arguments are {}\n",
      "The positional arguments are ()\n",
      "The keyword arguments are {}\n",
      "The positional arguments are ()\n",
      "The keyword arguments are {}\n",
      "The positional arguments are ()\n",
      "The keyword arguments are {}\n",
      "The positional arguments are ()\n",
      "The keyword arguments are {}\n",
      "The positional arguments are ()\n",
      "The keyword arguments are {}\n",
      "The positional arguments are ()\n",
      "The keyword arguments are {}\n",
      "The positional arguments are ()\n",
      "The keyword arguments are {}\n",
      "The positional arguments are ()\n",
      "The keyword arguments are {}\n",
      "The positional arguments are ()\n",
      "The keyword arguments are {}\n",
      "The positional arguments are ()\n",
      "The keyword arguments are {}\n",
      "The positional arguments are ()\n",
      "The keyword arguments are {}\n",
      "The positional arguments are ()\n",
      "The keyword arguments are {}\n",
      "The positional arguments are ()\n",
      "The keyword arguments are {}\n",
      "The positional arguments are ()\n",
      "The keyword arguments are {}\n",
      "The positional arguments are ()\n",
      "The keyword arguments are {}\n",
      "The positional arguments are ()\n",
      "The keyword arguments are {}\n",
      "The positional arguments are ()\n",
      "The keyword arguments are {}\n",
      "The positional arguments are ()\n",
      "The keyword arguments are {}\n",
      "The positional arguments are ()\n",
      "The keyword arguments are {}\n",
      "The positional arguments are ()\n",
      "The keyword arguments are {}\n",
      "The positional arguments are ()\n",
      "The keyword arguments are {}\n",
      "The positional arguments are ()\n",
      "The keyword arguments are {}\n",
      "The positional arguments are ()\n",
      "The keyword arguments are {}\n",
      "The positional arguments are ()\n",
      "The keyword arguments are {}\n",
      "The positional arguments are ()\n",
      "The keyword arguments are {}\n",
      "The positional arguments are ()\n",
      "The keyword arguments are {}\n",
      "The positional arguments are ()\n",
      "The keyword arguments are {}\n",
      "The positional arguments are ()\n",
      "The keyword arguments are {}\n",
      "The positional arguments are ()\n",
      "The keyword arguments are {}\n",
      "The positional arguments are ()\n",
      "The keyword arguments are {}\n",
      "The positional arguments are ()\n",
      "The keyword arguments are {}\n",
      "The positional arguments are ()\n",
      "The keyword arguments are {}\n",
      "The positional arguments are ()\n",
      "The keyword arguments are {}\n",
      "The positional arguments are ()\n",
      "The keyword arguments are {}\n",
      "The positional arguments are ()\n",
      "The keyword arguments are {}\n",
      "The positional arguments are ()\n",
      "The keyword arguments are {}\n",
      "The positional arguments are ()\n",
      "The keyword arguments are {}\n",
      "The positional arguments are ()\n",
      "The keyword arguments are {}\n",
      "The positional arguments are ()\n",
      "The keyword arguments are {}\n",
      "The positional arguments are ()\n",
      "The keyword arguments are {}\n",
      "The positional arguments are ()\n",
      "The keyword arguments are {}\n",
      "The positional arguments are ()\n",
      "The keyword arguments are {}\n",
      "The positional arguments are ()\n",
      "The keyword arguments are {}\n",
      "The positional arguments are ()\n",
      "The keyword arguments are {}\n",
      "The positional arguments are ()\n",
      "The keyword arguments are {}\n",
      "The positional arguments are ()\n",
      "The keyword arguments are {}\n",
      "The positional arguments are ()\n",
      "The keyword arguments are {}\n",
      "The positional arguments are ()\n",
      "The keyword arguments are {}\n",
      "The positional arguments are ()\n",
      "The keyword arguments are {}\n",
      "The positional arguments are ()\n",
      "The keyword arguments are {}\n",
      "The positional arguments are ()\n",
      "The keyword arguments are {}\n",
      "The positional arguments are ()\n",
      "The keyword arguments are {}\n",
      "The positional arguments are ()\n",
      "The keyword arguments are {}\n",
      "The positional arguments are ()\n",
      "The keyword arguments are {}\n",
      "The positional arguments are ()\n",
      "The keyword arguments are {}\n",
      "The positional arguments are ()\n",
      "The keyword arguments are {}\n",
      "The positional arguments are ()\n",
      "The keyword arguments are {}\n",
      "The positional arguments are ()\n",
      "The keyword arguments are {}\n",
      "The positional arguments are ()\n",
      "The keyword arguments are {}\n",
      "The positional arguments are ()\n",
      "The keyword arguments are {}\n",
      "The positional arguments are ()\n",
      "The keyword arguments are {}\n",
      "The positional arguments are ()\n",
      "The keyword arguments are {}\n",
      "The positional arguments are ()\n",
      "The keyword arguments are {}\n",
      "The positional arguments are ()\n",
      "The keyword arguments are {}\n",
      "The positional arguments are ()\n",
      "The keyword arguments are {}\n",
      "The positional arguments are ()\n",
      "The keyword arguments are {}\n",
      "The positional arguments are ()\n",
      "The keyword arguments are {}\n",
      "The positional arguments are ()\n",
      "The keyword arguments are {}\n",
      "The positional arguments are ()\n",
      "The keyword arguments are {}\n",
      "The positional arguments are ()\n",
      "The keyword arguments are {}\n",
      "The positional arguments are ()\n",
      "The keyword arguments are {}\n",
      "The positional arguments are ()\n",
      "The keyword arguments are {}\n",
      "The positional arguments are ()\n",
      "The keyword arguments are {}\n",
      "The positional arguments are ()\n",
      "The keyword arguments are {}\n",
      "The positional arguments are ()\n",
      "The keyword arguments are {}\n",
      "The positional arguments are ()\n",
      "The keyword arguments are {}\n",
      "The positional arguments are ()\n",
      "The keyword arguments are {}\n",
      "The positional arguments are ()\n",
      "The keyword arguments are {}\n",
      "The positional arguments are ()\n",
      "The keyword arguments are {}\n",
      "The positional arguments are ()\n",
      "The keyword arguments are {}\n",
      "The positional arguments are ()\n",
      "The keyword arguments are {}\n",
      "The positional arguments are ()\n",
      "The keyword arguments are {}\n",
      "The positional arguments are ()\n",
      "The keyword arguments are {}\n",
      "The positional arguments are ()\n",
      "The keyword arguments are {}\n",
      "The positional arguments are ()\n",
      "The keyword arguments are {}\n",
      "The positional arguments are ()\n",
      "The keyword arguments are {}\n",
      "The positional arguments are ()\n",
      "The keyword arguments are {}\n",
      "The positional arguments are ()\n",
      "The keyword arguments are {}\n",
      "The positional arguments are ()\n",
      "The keyword arguments are {}\n",
      "The positional arguments are ()\n",
      "The keyword arguments are {}\n",
      "The positional arguments are ()\n",
      "The keyword arguments are {}\n",
      "The positional arguments are ()\n",
      "The keyword arguments are {}\n",
      "The positional arguments are ()\n",
      "The keyword arguments are {}\n",
      "The positional arguments are ()\n",
      "The keyword arguments are {}\n",
      "The positional arguments are ()\n",
      "The keyword arguments are {}\n",
      "The positional arguments are ()\n",
      "The keyword arguments are {}\n",
      "The positional arguments are ()\n",
      "The keyword arguments are {}\n",
      "The positional arguments are ()\n",
      "The keyword arguments are {}\n",
      "The positional arguments are ()\n",
      "The keyword arguments are {}\n",
      "The positional arguments are ()\n",
      "The keyword arguments are {}\n",
      "The positional arguments are ()\n",
      "The keyword arguments are {}\n",
      "The positional arguments are ()\n",
      "The keyword arguments are {}\n",
      "The positional arguments are ()\n",
      "The keyword arguments are {}\n",
      "The positional arguments are ()\n",
      "The keyword arguments are {}\n",
      "The positional arguments are ()\n",
      "The keyword arguments are {}\n",
      "The positional arguments are ()\n",
      "The keyword arguments are {}\n",
      "The positional arguments are ()\n",
      "The keyword arguments are {}\n",
      "The positional arguments are ()\n",
      "The keyword arguments are {}\n",
      "The positional arguments are ()\n",
      "The keyword arguments are {}\n",
      "The positional arguments are ()\n",
      "The keyword arguments are {}\n",
      "The positional arguments are ()\n",
      "The keyword arguments are {}\n",
      "The positional arguments are ()\n",
      "The keyword arguments are {}\n",
      "The positional arguments are ()\n",
      "The keyword arguments are {}\n",
      "The positional arguments are ()\n",
      "The keyword arguments are {}\n",
      "The positional arguments are ()\n",
      "The keyword arguments are {}\n",
      "The positional arguments are ()\n",
      "The keyword arguments are {}\n",
      "The positional arguments are ()\n",
      "The keyword arguments are {}\n",
      "The positional arguments are ()\n",
      "The keyword arguments are {}\n",
      "The positional arguments are ()\n",
      "The keyword arguments are {}\n",
      "The positional arguments are ()\n",
      "The keyword arguments are {}\n",
      "The positional arguments are ()\n",
      "The keyword arguments are {}\n",
      "The positional arguments are ()\n",
      "The keyword arguments are {}\n",
      "The positional arguments are ()\n",
      "The keyword arguments are {}\n",
      "The positional arguments are ()\n",
      "The keyword arguments are {}\n",
      "The positional arguments are ()\n",
      "The keyword arguments are {}\n",
      "The positional arguments are ()\n",
      "The keyword arguments are {}\n",
      "The positional arguments are ()\n",
      "The keyword arguments are {}\n",
      "The positional arguments are ()\n",
      "The keyword arguments are {}\n",
      "The positional arguments are ()\n",
      "The keyword arguments are {}\n",
      "The positional arguments are ()\n",
      "The keyword arguments are {}\n",
      "The positional arguments are ()\n",
      "The keyword arguments are {}\n",
      "The positional arguments are ()\n",
      "The keyword arguments are {}\n",
      "The positional arguments are ()\n",
      "The keyword arguments are {}\n",
      "The positional arguments are ()\n",
      "The keyword arguments are {}\n",
      "The positional arguments are ()\n",
      "The keyword arguments are {}\n",
      "The positional arguments are ()\n",
      "The keyword arguments are {}\n",
      "The positional arguments are ()\n",
      "The keyword arguments are {}\n",
      "The positional arguments are ()\n",
      "The keyword arguments are {}\n",
      "The positional arguments are ()\n",
      "The keyword arguments are {}\n",
      "The positional arguments are ()\n",
      "The keyword arguments are {}\n",
      "The positional arguments are ()\n",
      "The keyword arguments are {}\n",
      "The positional arguments are ()\n",
      "The keyword arguments are {}\n",
      "The positional arguments are ()\n",
      "The keyword arguments are {}\n",
      "The positional arguments are ()\n",
      "The keyword arguments are {}\n",
      "The positional arguments are ()\n",
      "The keyword arguments are {}\n",
      "The positional arguments are ()\n",
      "The keyword arguments are {}\n",
      "The positional arguments are ()\n",
      "The keyword arguments are {}\n",
      "The positional arguments are ()\n",
      "The keyword arguments are {}\n",
      "The positional arguments are ()\n",
      "The keyword arguments are {}\n",
      "The positional arguments are ()\n",
      "The keyword arguments are {}\n",
      "The positional arguments are ()\n",
      "The keyword arguments are {}\n",
      "The positional arguments are ()\n",
      "The keyword arguments are {}\n",
      "The positional arguments are ()\n",
      "The keyword arguments are {}\n",
      "The positional arguments are ()\n",
      "The keyword arguments are {}\n",
      "The positional arguments are ()\n",
      "The keyword arguments are {}\n",
      "The positional arguments are ()\n",
      "The keyword arguments are {}\n",
      "The positional arguments are ()\n",
      "The keyword arguments are {}\n",
      "The positional arguments are ()\n",
      "The keyword arguments are {}\n",
      "The positional arguments are ()\n",
      "The keyword arguments are {}\n",
      "The positional arguments are ()\n",
      "The keyword arguments are {}\n",
      "The positional arguments are ()\n",
      "The keyword arguments are {}\n",
      "The positional arguments are ()\n",
      "The keyword arguments are {}\n",
      "The positional arguments are ()\n",
      "The keyword arguments are {}\n",
      "The positional arguments are ()\n",
      "The keyword arguments are {}\n",
      "The positional arguments are ()\n",
      "The keyword arguments are {}\n",
      "The positional arguments are ()\n",
      "The keyword arguments are {}\n",
      "The positional arguments are ()\n",
      "The keyword arguments are {}\n",
      "The positional arguments are ()\n",
      "The keyword arguments are {}\n",
      "The positional arguments are ()\n",
      "The keyword arguments are {}\n",
      "The positional arguments are ()\n",
      "The keyword arguments are {}\n",
      "The positional arguments are ()\n",
      "The keyword arguments are {}\n",
      "The positional arguments are ()\n",
      "The keyword arguments are {}\n",
      "The positional arguments are ()\n",
      "The keyword arguments are {}\n",
      "The positional arguments are ()\n",
      "The keyword arguments are {}\n",
      "The positional arguments are ()\n",
      "The keyword arguments are {}\n",
      "The positional arguments are ()\n",
      "The keyword arguments are {}\n",
      "The positional arguments are ()\n",
      "The keyword arguments are {}\n",
      "The positional arguments are ()\n",
      "The keyword arguments are {}\n",
      "The positional arguments are ()\n",
      "The keyword arguments are {}\n",
      "The positional arguments are ()\n",
      "The keyword arguments are {}\n",
      "The positional arguments are ()\n",
      "The keyword arguments are {}\n",
      "The positional arguments are ()\n",
      "The keyword arguments are {}\n",
      "The positional arguments are ()\n",
      "The keyword arguments are {}\n",
      "The positional arguments are ()\n",
      "The keyword arguments are {}\n",
      "The positional arguments are ()\n",
      "The keyword arguments are {}\n",
      "The positional arguments are ()\n",
      "The keyword arguments are {}\n",
      "The positional arguments are ()\n",
      "The keyword arguments are {}\n",
      "The positional arguments are ()\n",
      "The keyword arguments are {}\n",
      "The positional arguments are ()\n",
      "The keyword arguments are {}\n",
      "The positional arguments are ()\n",
      "The keyword arguments are {}\n",
      "The positional arguments are ()\n",
      "The keyword arguments are {}\n",
      "The positional arguments are ()\n",
      "The keyword arguments are {}\n",
      "The positional arguments are ()\n",
      "The keyword arguments are {}\n",
      "The positional arguments are ()\n",
      "The keyword arguments are {}\n",
      "The positional arguments are ()\n",
      "The keyword arguments are {}\n",
      "The positional arguments are ()\n",
      "The keyword arguments are {}\n",
      "The positional arguments are ()\n",
      "The keyword arguments are {}\n",
      "The positional arguments are ()\n",
      "The keyword arguments are {}\n",
      "The positional arguments are ()\n",
      "The keyword arguments are {}\n",
      "The positional arguments are ()\n",
      "The keyword arguments are {}\n",
      "The positional arguments are ()\n",
      "The keyword arguments are {}\n",
      "The positional arguments are ()\n",
      "The keyword arguments are {}\n",
      "The positional arguments are ()\n",
      "The keyword arguments are {}\n",
      "The positional arguments are ()\n",
      "The keyword arguments are {}\n",
      "The positional arguments are ()\n",
      "The keyword arguments are {}\n",
      "The positional arguments are ()\n",
      "The keyword arguments are {}\n",
      "The positional arguments are ()\n",
      "The keyword arguments are {}\n",
      "The positional arguments are ()\n",
      "The keyword arguments are {}\n",
      "The positional arguments are ()\n",
      "The keyword arguments are {}\n",
      "The positional arguments are ()\n",
      "The keyword arguments are {}\n",
      "The positional arguments are ()\n",
      "The keyword arguments are {}\n",
      "The positional arguments are ()\n",
      "The keyword arguments are {}\n",
      "The positional arguments are ()\n",
      "The keyword arguments are {}\n",
      "The positional arguments are ()\n",
      "The keyword arguments are {}\n",
      "The positional arguments are ()\n",
      "The keyword arguments are {}\n",
      "The positional arguments are ()\n",
      "The keyword arguments are {}\n",
      "The positional arguments are ()\n",
      "The keyword arguments are {}\n",
      "The positional arguments are ()\n",
      "The keyword arguments are {}\n",
      "The positional arguments are ()\n",
      "The keyword arguments are {}\n",
      "The positional arguments are ()\n",
      "The keyword arguments are {}\n",
      "The positional arguments are ()\n",
      "The keyword arguments are {}\n",
      "The positional arguments are ()\n",
      "The keyword arguments are {}\n",
      "The positional arguments are ()\n",
      "The keyword arguments are {}\n",
      "The positional arguments are ()\n",
      "The keyword arguments are {}\n",
      "The positional arguments are ()\n",
      "The keyword arguments are {}\n",
      "The positional arguments are ()\n",
      "The keyword arguments are {}\n",
      "The positional arguments are ()\n",
      "The keyword arguments are {}\n",
      "The positional arguments are ()\n",
      "The keyword arguments are {}\n",
      "The positional arguments are ()\n",
      "The keyword arguments are {}\n",
      "The positional arguments are ()\n",
      "The keyword arguments are {}\n",
      "The positional arguments are ()\n",
      "The keyword arguments are {}\n",
      "The positional arguments are ()\n",
      "The keyword arguments are {}\n",
      "The positional arguments are ()\n",
      "The keyword arguments are {}\n",
      "The positional arguments are ()\n",
      "The keyword arguments are {}\n",
      "The positional arguments are ()\n",
      "The keyword arguments are {}\n",
      "The positional arguments are ()\n",
      "The keyword arguments are {}\n",
      "The positional arguments are ()\n",
      "The keyword arguments are {}\n",
      "The positional arguments are ()\n",
      "The keyword arguments are {}\n",
      "The positional arguments are ()\n",
      "The keyword arguments are {}\n",
      "The positional arguments are ()\n",
      "The keyword arguments are {}\n",
      "The positional arguments are ()\n",
      "The keyword arguments are {}\n",
      "The positional arguments are ()\n",
      "The keyword arguments are {}\n",
      "The positional arguments are ()\n",
      "The keyword arguments are {}\n",
      "The positional arguments are ()\n",
      "The keyword arguments are {}\n",
      "The positional arguments are ()\n",
      "The keyword arguments are {}\n",
      "The positional arguments are ()\n",
      "The keyword arguments are {}\n",
      "The positional arguments are ()\n",
      "The keyword arguments are {}\n",
      "The positional arguments are ()\n",
      "The keyword arguments are {}\n",
      "The positional arguments are ()\n",
      "The keyword arguments are {}\n",
      "The positional arguments are ()\n",
      "The keyword arguments are {}\n",
      "The positional arguments are ()\n",
      "The keyword arguments are {}\n",
      "The positional arguments are ()\n",
      "The keyword arguments are {}\n",
      "The positional arguments are ()\n",
      "The keyword arguments are {}\n",
      "The positional arguments are ()\n",
      "The keyword arguments are {}\n",
      "The positional arguments are ()\n",
      "The keyword arguments are {}\n",
      "The positional arguments are ()\n",
      "The keyword arguments are {}\n",
      "The positional arguments are ()\n",
      "The keyword arguments are {}\n",
      "The positional arguments are ()\n",
      "The keyword arguments are {}\n",
      "The positional arguments are ()\n",
      "The keyword arguments are {}\n",
      "The positional arguments are ()\n",
      "The keyword arguments are {}\n",
      "The positional arguments are ()\n",
      "The keyword arguments are {}\n",
      "The positional arguments are ()\n",
      "The keyword arguments are {}\n",
      "The positional arguments are ()\n",
      "The keyword arguments are {}\n",
      "The positional arguments are ()\n",
      "The keyword arguments are {}\n",
      "The positional arguments are ()\n",
      "The keyword arguments are {}\n",
      "The positional arguments are ()\n",
      "The keyword arguments are {}\n",
      "The positional arguments are ()\n",
      "The keyword arguments are {}\n",
      "The positional arguments are ()\n",
      "The keyword arguments are {}\n",
      "The positional arguments are ()\n",
      "The keyword arguments are {}\n",
      "The positional arguments are ()\n",
      "The keyword arguments are {}\n",
      "The positional arguments are ()\n",
      "The keyword arguments are {}\n",
      "The positional arguments are ()\n",
      "The keyword arguments are {}\n",
      "The positional arguments are ()\n",
      "The keyword arguments are {}\n",
      "The positional arguments are ()\n",
      "The keyword arguments are {}\n",
      "The positional arguments are ()\n",
      "The keyword arguments are {}\n",
      "The positional arguments are ()\n",
      "The keyword arguments are {}\n",
      "The positional arguments are ()\n",
      "The keyword arguments are {}\n",
      "The positional arguments are ()\n",
      "The keyword arguments are {}\n",
      "The positional arguments are ()\n",
      "The keyword arguments are {}\n",
      "The positional arguments are ()\n",
      "The keyword arguments are {}\n",
      "The positional arguments are ()\n",
      "The keyword arguments are {}\n",
      "The positional arguments are ()\n",
      "The keyword arguments are {}\n",
      "The positional arguments are ()\n",
      "The keyword arguments are {}\n",
      "The positional arguments are ()\n",
      "The keyword arguments are {}\n",
      "The positional arguments are ()\n",
      "The keyword arguments are {}\n",
      "The positional arguments are ()\n",
      "The keyword arguments are {}\n",
      "The positional arguments are ()\n",
      "The keyword arguments are {}\n",
      "The positional arguments are ()\n",
      "The keyword arguments are {}\n",
      "The positional arguments are ()\n",
      "The keyword arguments are {}\n",
      "The positional arguments are ()\n",
      "The keyword arguments are {}\n",
      "The positional arguments are ()\n",
      "The keyword arguments are {}\n",
      "The positional arguments are ()\n",
      "The keyword arguments are {}\n",
      "The positional arguments are ()\n",
      "The keyword arguments are {}\n",
      "The positional arguments are ()\n",
      "The keyword arguments are {}\n",
      "The positional arguments are ()\n",
      "The keyword arguments are {}\n",
      "The positional arguments are ()\n",
      "The keyword arguments are {}\n",
      "The positional arguments are ()\n",
      "The keyword arguments are {}\n",
      "The positional arguments are ()\n",
      "The keyword arguments are {}\n",
      "The positional arguments are ()\n",
      "The keyword arguments are {}\n",
      "The positional arguments are ()\n",
      "The keyword arguments are {}\n",
      "The positional arguments are ()\n",
      "The keyword arguments are {}\n",
      "The positional arguments are ()\n",
      "The keyword arguments are {}\n",
      "The positional arguments are ()\n",
      "The keyword arguments are {}\n",
      "The positional arguments are ()\n",
      "The keyword arguments are {}\n",
      "The positional arguments are ()\n",
      "The keyword arguments are {}\n",
      "The positional arguments are ()\n",
      "The keyword arguments are {}\n",
      "The positional arguments are ()\n",
      "The keyword arguments are {}\n",
      "The positional arguments are ()\n",
      "The keyword arguments are {}\n",
      "The positional arguments are ()\n",
      "The keyword arguments are {}\n",
      "The positional arguments are ()\n",
      "The keyword arguments are {}\n",
      "The positional arguments are ()\n",
      "The keyword arguments are {}\n",
      "The positional arguments are ()\n",
      "The keyword arguments are {}\n",
      "The positional arguments are ()\n",
      "The keyword arguments are {}\n",
      "The positional arguments are ()\n",
      "The keyword arguments are {}\n",
      "The positional arguments are ()\n",
      "The keyword arguments are {}\n",
      "The positional arguments are ()\n",
      "The keyword arguments are {}\n",
      "The positional arguments are ()\n",
      "The keyword arguments are {}\n",
      "The positional arguments are ()\n",
      "The keyword arguments are {}\n",
      "The positional arguments are ()\n",
      "The keyword arguments are {}\n",
      "The positional arguments are ()\n",
      "The keyword arguments are {}\n",
      "The positional arguments are ()\n",
      "The keyword arguments are {}\n",
      "The positional arguments are ()\n",
      "The keyword arguments are {}\n",
      "The positional arguments are ()\n"
     ]
    },
    {
     "name": "stdout",
     "output_type": "stream",
     "text": [
      "The keyword arguments are {}\n",
      "The positional arguments are ()\n",
      "The keyword arguments are {}\n",
      "The positional arguments are ()\n",
      "The keyword arguments are {}\n",
      "The positional arguments are ()\n",
      "The keyword arguments are {}\n",
      "The positional arguments are ()\n",
      "The keyword arguments are {}\n",
      "The positional arguments are ()\n",
      "The keyword arguments are {}\n",
      "The positional arguments are ()\n",
      "The keyword arguments are {}\n",
      "The positional arguments are ()\n",
      "The keyword arguments are {}\n",
      "The positional arguments are ()\n",
      "The keyword arguments are {}\n",
      "The positional arguments are ()\n",
      "The keyword arguments are {}\n",
      "The positional arguments are ()\n",
      "The keyword arguments are {}\n",
      "The positional arguments are ()\n",
      "The keyword arguments are {}\n",
      "The positional arguments are ()\n",
      "The keyword arguments are {}\n",
      "The positional arguments are ()\n",
      "The keyword arguments are {}\n",
      "The positional arguments are ()\n",
      "The keyword arguments are {}\n",
      "The positional arguments are ()\n",
      "The keyword arguments are {}\n",
      "The positional arguments are ()\n",
      "The keyword arguments are {}\n",
      "The positional arguments are ()\n",
      "The keyword arguments are {}\n",
      "The positional arguments are ()\n",
      "The keyword arguments are {}\n",
      "The positional arguments are ()\n",
      "The keyword arguments are {}\n",
      "The positional arguments are ()\n",
      "The keyword arguments are {}\n",
      "The positional arguments are ()\n",
      "The keyword arguments are {}\n",
      "The positional arguments are ()\n",
      "The keyword arguments are {}\n",
      "The positional arguments are ()\n",
      "The keyword arguments are {}\n",
      "The positional arguments are ()\n",
      "The keyword arguments are {}\n",
      "The positional arguments are ()\n",
      "The keyword arguments are {}\n",
      "The positional arguments are ()\n",
      "The keyword arguments are {}\n",
      "The positional arguments are ()\n",
      "The keyword arguments are {}\n",
      "The positional arguments are ()\n",
      "The keyword arguments are {}\n",
      "The positional arguments are ()\n",
      "The keyword arguments are {}\n",
      "The positional arguments are ()\n",
      "The keyword arguments are {}\n",
      "The positional arguments are ()\n",
      "The keyword arguments are {}\n",
      "The positional arguments are ()\n",
      "The keyword arguments are {}\n",
      "The positional arguments are ()\n",
      "The keyword arguments are {}\n",
      "The positional arguments are ()\n",
      "The keyword arguments are {}\n",
      "The positional arguments are ()\n",
      "The keyword arguments are {}\n",
      "The positional arguments are ()\n",
      "The keyword arguments are {}\n",
      "The positional arguments are ()\n",
      "The keyword arguments are {}\n",
      "The positional arguments are ()\n",
      "The keyword arguments are {}\n",
      "The positional arguments are ()\n",
      "The keyword arguments are {}\n",
      "The positional arguments are ()\n",
      "The keyword arguments are {}\n",
      "The positional arguments are ()\n",
      "The keyword arguments are {}\n",
      "The positional arguments are ()\n",
      "The keyword arguments are {}\n",
      "The positional arguments are ()\n",
      "The keyword arguments are {}\n",
      "The positional arguments are ()\n",
      "The keyword arguments are {}\n",
      "The positional arguments are ()\n",
      "The keyword arguments are {}\n",
      "The positional arguments are ()\n",
      "The keyword arguments are {}\n",
      "The positional arguments are ()\n",
      "The keyword arguments are {}\n",
      "The positional arguments are ()\n",
      "The keyword arguments are {}\n",
      "The positional arguments are ()\n",
      "The keyword arguments are {}\n",
      "The positional arguments are ()\n",
      "The keyword arguments are {}\n",
      "The positional arguments are ()\n",
      "The keyword arguments are {}\n",
      "The positional arguments are ()\n",
      "The keyword arguments are {}\n",
      "The positional arguments are ()\n",
      "The keyword arguments are {}\n",
      "The positional arguments are ()\n",
      "The keyword arguments are {}\n",
      "The positional arguments are ()\n",
      "The keyword arguments are {}\n",
      "The positional arguments are ()\n",
      "The keyword arguments are {}\n",
      "The positional arguments are ()\n",
      "The keyword arguments are {}\n",
      "The positional arguments are ()\n",
      "The keyword arguments are {}\n",
      "The positional arguments are ()\n",
      "The keyword arguments are {}\n",
      "The positional arguments are ()\n",
      "The keyword arguments are {}\n",
      "The positional arguments are ()\n",
      "The keyword arguments are {}\n",
      "The positional arguments are ()\n",
      "The keyword arguments are {}\n",
      "The positional arguments are ()\n",
      "The keyword arguments are {}\n",
      "The positional arguments are ()\n",
      "The keyword arguments are {}\n",
      "The positional arguments are ()\n",
      "The keyword arguments are {}\n",
      "The positional arguments are ()\n",
      "The keyword arguments are {}\n",
      "The positional arguments are ()\n",
      "The keyword arguments are {}\n",
      "The positional arguments are ()\n",
      "The keyword arguments are {}\n",
      "The positional arguments are ()\n",
      "The keyword arguments are {}\n",
      "The positional arguments are ()\n",
      "The keyword arguments are {}\n",
      "The positional arguments are ()\n",
      "The keyword arguments are {}\n",
      "The positional arguments are ()\n",
      "The keyword arguments are {}\n",
      "The positional arguments are ()\n",
      "The keyword arguments are {}\n",
      "The positional arguments are ()\n",
      "The keyword arguments are {}\n",
      "The positional arguments are ()\n",
      "The keyword arguments are {}\n",
      "The positional arguments are ()\n",
      "The keyword arguments are {}\n",
      "The positional arguments are ()\n",
      "The keyword arguments are {}\n",
      "The positional arguments are ()\n",
      "The keyword arguments are {}\n",
      "The positional arguments are ()\n",
      "The keyword arguments are {}\n",
      "The positional arguments are ()\n",
      "The keyword arguments are {}\n",
      "The positional arguments are ()\n",
      "The keyword arguments are {}\n",
      "The positional arguments are ()\n",
      "The keyword arguments are {}\n",
      "The positional arguments are ()\n",
      "The keyword arguments are {}\n",
      "The positional arguments are ()\n",
      "The keyword arguments are {}\n",
      "The positional arguments are ()\n",
      "The keyword arguments are {}\n",
      "The positional arguments are ()\n",
      "The keyword arguments are {}\n",
      "The positional arguments are ()\n",
      "The keyword arguments are {}\n",
      "The positional arguments are ()\n",
      "The keyword arguments are {}\n",
      "The positional arguments are ()\n",
      "The keyword arguments are {}\n",
      "The positional arguments are ()\n",
      "The keyword arguments are {}\n",
      "The positional arguments are ()\n",
      "The keyword arguments are {}\n",
      "The positional arguments are ()\n",
      "The keyword arguments are {}\n",
      "The positional arguments are ()\n",
      "The keyword arguments are {}\n",
      "The positional arguments are ()\n",
      "The keyword arguments are {}\n",
      "The positional arguments are ()\n",
      "The keyword arguments are {}\n",
      "The positional arguments are ()\n",
      "The keyword arguments are {}\n",
      "The positional arguments are ()\n",
      "The keyword arguments are {}\n",
      "The positional arguments are ()\n",
      "The keyword arguments are {}\n",
      "The positional arguments are ()\n",
      "The keyword arguments are {}\n",
      "The positional arguments are ()\n",
      "The keyword arguments are {}\n",
      "The positional arguments are ()\n",
      "The keyword arguments are {}\n",
      "The positional arguments are ()\n",
      "The keyword arguments are {}\n",
      "The positional arguments are ()\n",
      "The keyword arguments are {}\n",
      "The positional arguments are ()\n",
      "The keyword arguments are {}\n",
      "The positional arguments are ()\n",
      "The keyword arguments are {}\n",
      "The positional arguments are ()\n",
      "The keyword arguments are {}\n",
      "The positional arguments are ()\n",
      "The keyword arguments are {}\n",
      "The positional arguments are ()\n",
      "The keyword arguments are {}\n",
      "The positional arguments are ()\n",
      "The keyword arguments are {}\n",
      "The positional arguments are ()\n",
      "The keyword arguments are {}\n",
      "The positional arguments are ()\n",
      "The keyword arguments are {}\n",
      "The positional arguments are ()\n",
      "The keyword arguments are {}\n",
      "The positional arguments are ()\n",
      "The keyword arguments are {}\n",
      "The positional arguments are ()\n",
      "The keyword arguments are {}\n",
      "The positional arguments are ()\n",
      "The keyword arguments are {}\n",
      "The positional arguments are ()\n",
      "The keyword arguments are {}\n",
      "The positional arguments are ()\n",
      "The keyword arguments are {}\n",
      "The positional arguments are ()\n",
      "The keyword arguments are {}\n",
      "The positional arguments are ()\n",
      "The keyword arguments are {}\n",
      "The positional arguments are ()\n",
      "The keyword arguments are {}\n",
      "The positional arguments are ()\n",
      "The keyword arguments are {}\n",
      "The positional arguments are ()\n",
      "The keyword arguments are {}\n",
      "The positional arguments are ()\n",
      "The keyword arguments are {}\n",
      "The positional arguments are ()\n",
      "The keyword arguments are {}\n",
      "The positional arguments are ()\n",
      "The keyword arguments are {}\n",
      "The positional arguments are ()\n",
      "The keyword arguments are {}\n",
      "The positional arguments are ()\n",
      "The keyword arguments are {}\n",
      "The positional arguments are ()\n",
      "The keyword arguments are {}\n",
      "The positional arguments are ()\n",
      "The keyword arguments are {}\n",
      "The positional arguments are ()\n",
      "The keyword arguments are {}\n",
      "The positional arguments are ()\n",
      "The keyword arguments are {}\n",
      "The positional arguments are ()\n",
      "The keyword arguments are {}\n",
      "The positional arguments are ()\n",
      "The keyword arguments are {}\n",
      "The positional arguments are ()\n",
      "The keyword arguments are {}\n",
      "The positional arguments are ()\n",
      "The keyword arguments are {}\n",
      "The positional arguments are ()\n",
      "The keyword arguments are {}\n",
      "The positional arguments are ()\n",
      "The keyword arguments are {}\n",
      "The positional arguments are ()\n",
      "The keyword arguments are {}\n",
      "The positional arguments are ()\n",
      "The keyword arguments are {}\n",
      "The positional arguments are ()\n",
      "The keyword arguments are {}\n",
      "The positional arguments are ()\n",
      "The keyword arguments are {}\n",
      "The positional arguments are ()\n",
      "The keyword arguments are {}\n",
      "The positional arguments are ()\n",
      "The keyword arguments are {}\n",
      "The positional arguments are ()\n",
      "The keyword arguments are {}\n",
      "The positional arguments are ()\n",
      "The keyword arguments are {}\n",
      "The positional arguments are ()\n",
      "The keyword arguments are {}\n",
      "The positional arguments are ()\n",
      "The keyword arguments are {}\n",
      "The positional arguments are ()\n",
      "The keyword arguments are {}\n",
      "The positional arguments are ()\n",
      "The keyword arguments are {}\n",
      "The positional arguments are ()\n",
      "The keyword arguments are {}\n",
      "The positional arguments are ()\n",
      "The keyword arguments are {}\n",
      "The positional arguments are ()\n",
      "The keyword arguments are {}\n",
      "The positional arguments are ()\n",
      "The keyword arguments are {}\n",
      "The positional arguments are ()\n",
      "The keyword arguments are {}\n",
      "The positional arguments are ()\n",
      "The keyword arguments are {}\n",
      "The positional arguments are ()\n",
      "The keyword arguments are {}\n",
      "The positional arguments are ()\n",
      "The keyword arguments are {}\n",
      "The positional arguments are ()\n",
      "The keyword arguments are {}\n",
      "The positional arguments are ()\n",
      "The keyword arguments are {}\n",
      "The positional arguments are ()\n",
      "The keyword arguments are {}\n",
      "The positional arguments are ()\n",
      "The keyword arguments are {}\n",
      "The positional arguments are ()\n",
      "The keyword arguments are {}\n",
      "The positional arguments are ()\n",
      "The keyword arguments are {}\n",
      "The positional arguments are ()\n",
      "The keyword arguments are {}\n",
      "The positional arguments are ()\n",
      "The keyword arguments are {}\n",
      "The positional arguments are ()\n",
      "The keyword arguments are {}\n",
      "The positional arguments are ()\n",
      "The keyword arguments are {}\n",
      "The positional arguments are ()\n",
      "The keyword arguments are {}\n",
      "The positional arguments are ()\n",
      "The keyword arguments are {}\n",
      "The positional arguments are ()\n",
      "The keyword arguments are {}\n",
      "The positional arguments are ()\n",
      "The keyword arguments are {}\n",
      "The positional arguments are ()\n",
      "The keyword arguments are {}\n",
      "The positional arguments are ()\n",
      "The keyword arguments are {}\n",
      "The positional arguments are ()\n",
      "The keyword arguments are {}\n",
      "The positional arguments are ()\n",
      "The keyword arguments are {}\n",
      "The positional arguments are ()\n",
      "The keyword arguments are {}\n",
      "The positional arguments are ()\n",
      "The keyword arguments are {}\n",
      "The positional arguments are ()\n",
      "The keyword arguments are {}\n",
      "The positional arguments are ()\n",
      "The keyword arguments are {}\n",
      "The positional arguments are ()\n",
      "The keyword arguments are {}\n"
     ]
    },
    {
     "ename": "RecursionError",
     "evalue": "maximum recursion depth exceeded while calling a Python object",
     "output_type": "error",
     "traceback": [
      "\u001b[0;31m---------------------------------------------------------------------------\u001b[0m",
      "\u001b[0;31mRecursionError\u001b[0m                            Traceback (most recent call last)",
      "\u001b[0;32m<ipython-input-551-0c83795cf224>\u001b[0m in \u001b[0;36m<module>\u001b[0;34m\u001b[0m\n\u001b[1;32m     12\u001b[0m \u001b[0;32mdef\u001b[0m \u001b[0mfunction_with_no_argument\u001b[0m\u001b[0;34m(\u001b[0m\u001b[0;34m)\u001b[0m\u001b[0;34m:\u001b[0m\u001b[0;34m\u001b[0m\u001b[0;34m\u001b[0m\u001b[0m\n\u001b[1;32m     13\u001b[0m     \u001b[0mprint\u001b[0m\u001b[0;34m(\u001b[0m\u001b[0;34m\"No arguments here\"\u001b[0m\u001b[0;34m)\u001b[0m\u001b[0;34m\u001b[0m\u001b[0;34m\u001b[0m\u001b[0m\n\u001b[0;32m---> 14\u001b[0;31m \u001b[0mfunction_with_no_argument\u001b[0m\u001b[0;34m(\u001b[0m\u001b[0;34m)\u001b[0m\u001b[0;34m\u001b[0m\u001b[0;34m\u001b[0m\u001b[0m\n\u001b[0m",
      "\u001b[0;32m<ipython-input-551-0c83795cf224>\u001b[0m in \u001b[0;36ma_wrapper_accepting_arguments\u001b[0;34m(*args, **kwargs)\u001b[0m\n\u001b[1;32m      5\u001b[0m         \u001b[0mprint\u001b[0m\u001b[0;34m(\u001b[0m\u001b[0;34m\"The positional arguments are\"\u001b[0m\u001b[0;34m,\u001b[0m \u001b[0margs\u001b[0m\u001b[0;34m)\u001b[0m\u001b[0;34m\u001b[0m\u001b[0;34m\u001b[0m\u001b[0m\n\u001b[1;32m      6\u001b[0m         \u001b[0mprint\u001b[0m\u001b[0;34m(\u001b[0m\u001b[0;34m\"The keyword arguments are\"\u001b[0m\u001b[0;34m,\u001b[0m \u001b[0mkwargs\u001b[0m\u001b[0;34m)\u001b[0m\u001b[0;34m\u001b[0m\u001b[0;34m\u001b[0m\u001b[0m\n\u001b[0;32m----> 7\u001b[0;31m         \u001b[0mfunction_with_no_argument\u001b[0m\u001b[0;34m(\u001b[0m\u001b[0;34m)\u001b[0m\u001b[0;34m\u001b[0m\u001b[0;34m\u001b[0m\u001b[0m\n\u001b[0m\u001b[1;32m      8\u001b[0m     \u001b[0;32mreturn\u001b[0m \u001b[0ma_wrapper_accepting_arguments\u001b[0m\u001b[0;34m\u001b[0m\u001b[0;34m\u001b[0m\u001b[0m\n\u001b[1;32m      9\u001b[0m \u001b[0;34m\u001b[0m\u001b[0m\n",
      "... last 1 frames repeated, from the frame below ...\n",
      "\u001b[0;32m<ipython-input-551-0c83795cf224>\u001b[0m in \u001b[0;36ma_wrapper_accepting_arguments\u001b[0;34m(*args, **kwargs)\u001b[0m\n\u001b[1;32m      5\u001b[0m         \u001b[0mprint\u001b[0m\u001b[0;34m(\u001b[0m\u001b[0;34m\"The positional arguments are\"\u001b[0m\u001b[0;34m,\u001b[0m \u001b[0margs\u001b[0m\u001b[0;34m)\u001b[0m\u001b[0;34m\u001b[0m\u001b[0;34m\u001b[0m\u001b[0m\n\u001b[1;32m      6\u001b[0m         \u001b[0mprint\u001b[0m\u001b[0;34m(\u001b[0m\u001b[0;34m\"The keyword arguments are\"\u001b[0m\u001b[0;34m,\u001b[0m \u001b[0mkwargs\u001b[0m\u001b[0;34m)\u001b[0m\u001b[0;34m\u001b[0m\u001b[0;34m\u001b[0m\u001b[0m\n\u001b[0;32m----> 7\u001b[0;31m         \u001b[0mfunction_with_no_argument\u001b[0m\u001b[0;34m(\u001b[0m\u001b[0;34m)\u001b[0m\u001b[0;34m\u001b[0m\u001b[0;34m\u001b[0m\u001b[0m\n\u001b[0m\u001b[1;32m      8\u001b[0m     \u001b[0;32mreturn\u001b[0m \u001b[0ma_wrapper_accepting_arguments\u001b[0m\u001b[0;34m\u001b[0m\u001b[0;34m\u001b[0m\u001b[0m\n\u001b[1;32m      9\u001b[0m \u001b[0;34m\u001b[0m\u001b[0m\n",
      "\u001b[0;31mRecursionError\u001b[0m: maximum recursion depth exceeded while calling a Python object"
     ]
    }
   ],
   "source": [
    "# general purpose decorator\n",
    "\n",
    "def a_dectorator_passing_arbitary_argument(function_to_decorate):\n",
    "    def a_wrapper_accepting_arguments(*args, **kwargs):\n",
    "        print(\"The positional arguments are\", args)\n",
    "        print(\"The keyword arguments are\", kwargs)\n",
    "        function_with_no_argument()\n",
    "    return a_wrapper_accepting_arguments\n",
    "\n",
    "\n",
    "@a_dectorator_passing_arbitary_argument\n",
    "def function_with_no_argument():\n",
    "    print(\"No arguments here\")\n",
    "function_with_no_argument()\n"
   ]
  },
  {
   "cell_type": "code",
   "execution_count": 552,
   "metadata": {},
   "outputs": [],
   "source": [
    "exit()\n"
   ]
  },
  {
   "cell_type": "code",
   "execution_count": 1,
   "metadata": {},
   "outputs": [
    {
     "name": "stdout",
     "output_type": "stream",
     "text": [
      "hi\n"
     ]
    }
   ],
   "source": [
    "print(\"hi\")"
   ]
  },
  {
   "cell_type": "code",
   "execution_count": 3,
   "metadata": {},
   "outputs": [],
   "source": [
    "def a_dectorator_passing_arbitary_argument(function_to_decorate):  \n",
    "    def a_wrapper_accepting_arguments(*args, **kwargs):\n",
    "        print(\"The positional arguments are\", args)\n",
    "        print(\"The keyword arguments are\", kwargs)\n",
    "        function_to_decorate()  #function_with_no_argument()\n",
    "    return a_wrapper_accepting_arguments\n",
    "\n",
    "\n",
    "@a_dectorator_passing_arbitary_argument\n",
    "def function_with_no_argument():   --- 101\n",
    "    print(\"No arguments here\")\n"
   ]
  },
  {
   "cell_type": "code",
   "execution_count": null,
   "metadata": {},
   "outputs": [],
   "source": []
  },
  {
   "cell_type": "code",
   "execution_count": null,
   "metadata": {},
   "outputs": [],
   "source": []
  },
  {
   "cell_type": "code",
   "execution_count": 4,
   "metadata": {},
   "outputs": [
    {
     "name": "stdout",
     "output_type": "stream",
     "text": [
      "The positional arguments are ()\n",
      "The keyword arguments are {}\n",
      "No arguments here\n"
     ]
    }
   ],
   "source": [
    "function_with_no_argument()"
   ]
  },
  {
   "cell_type": "code",
   "execution_count": null,
   "metadata": {},
   "outputs": [],
   "source": [
    "a_dectorator_passing_arbitary_argument(a, b)\n",
    "  a = a+1\n",
    "  a = 10+1 \n",
    "111\n",
    "\n",
    "\n",
    "\n",
    "a = 10 ---> 101\n",
    "b = 12 ---> 102\n",
    "\n",
    "a_dectorator_passing_arbitary_argument(a, b)"
   ]
  },
  {
   "cell_type": "code",
   "execution_count": 7,
   "metadata": {},
   "outputs": [
    {
     "name": "stdout",
     "output_type": "stream",
     "text": [
      "positional args: (1, 2, 3)\n",
      "kwargs: {}\n",
      "1 2 3\n",
      "(1, 2, 3)\n"
     ]
    }
   ],
   "source": [
    "# pasing positional based arguments\n",
    "def outer(func):\n",
    "    def inner(*args, **kwargs):\n",
    "        print(\"positional args:\", args)\n",
    "        print(\"kwargs:\", kwargs)\n",
    "        s = func(*args)\n",
    "        print(s)\n",
    "    return inner\n",
    "\n",
    "@outer\n",
    "def func_with_arguments(a,b,c):\n",
    "    print(a,b,c)\n",
    "    return a, b, c\n",
    "    s = \"hi how are you?##$$\"\n",
    "    return s\n",
    "\n",
    "\n",
    "func_with_arguments(1,2,3)"
   ]
  },
  {
   "cell_type": "code",
   "execution_count": null,
   "metadata": {},
   "outputs": [],
   "source": [
    "# passing kwargs based arguments"
   ]
  },
  {
   "cell_type": "code",
   "execution_count": 8,
   "metadata": {},
   "outputs": [
    {
     "data": {
      "text/plain": [
       "'hi how are you?'"
      ]
     },
     "execution_count": 8,
     "metadata": {},
     "output_type": "execute_result"
    }
   ],
   "source": [
    " \"hi how are you?##$$\".split(\"##$$\")[0]"
   ]
  },
  {
   "cell_type": "code",
   "execution_count": null,
   "metadata": {},
   "outputs": [],
   "source": [
    "# passing kwargs based arguments"
   ]
  },
  {
   "cell_type": "code",
   "execution_count": 9,
   "metadata": {},
   "outputs": [
    {
     "name": "stdout",
     "output_type": "stream",
     "text": [
      "args# (10, 12)\n",
      "keyword args {'addr': 'pune', 'name': 'derick'}\n",
      "Kwargs {'addr': 'pune', 'name': 'derick'}\n"
     ]
    }
   ],
   "source": [
    "def outer(func):\n",
    "    def inner(*args, **kwargs):\n",
    "        print(\"args#\", args)\n",
    "        print(\"keyword args\", kwargs)\n",
    "        func(*args, **kwargs)\n",
    "    return inner\n",
    "\n",
    "@outer\n",
    "def function_with_keyword_arguments(a,b, **kwargs):\n",
    "    print(\"Kwargs\", kwargs)\n",
    "\n",
    "function_with_keyword_arguments(10,12, addr='pune', name='derick')"
   ]
  },
  {
   "cell_type": "code",
   "execution_count": 12,
   "metadata": {},
   "outputs": [],
   "source": [
    "def outer(func):\n",
    "    def inner(arg1, arg2):\n",
    "        print(\"my args:\",arg1, arg2)\n",
    "        func(arg1, arg2)\n",
    "    return inner\n",
    "\n",
    "@outer\n",
    "def list_cities(city1, city2):\n",
    "    print(\"city1\", city1)\n",
    "    print(\"city2\", city2)"
   ]
  },
  {
   "cell_type": "code",
   "execution_count": 13,
   "metadata": {},
   "outputs": [
    {
     "name": "stdout",
     "output_type": "stream",
     "text": [
      "my args: pune mumbai\n",
      "city1 pune\n",
      "city2 mumbai\n"
     ]
    }
   ],
   "source": [
    "list_cities(\"pune\", \"mumbai\")"
   ]
  },
  {
   "cell_type": "code",
   "execution_count": null,
   "metadata": {},
   "outputs": [],
   "source": []
  },
  {
   "cell_type": "code",
   "execution_count": 24,
   "metadata": {},
   "outputs": [],
   "source": [
    "# passing arguments to decorator \n",
    "def decorator_maker_with_args(*args):\n",
    "    def decorator(func):\n",
    "        def wrapper(fun_arg1, fun_arg2, fun_arg3):\n",
    "            \"This is wrapper function\"\n",
    "            print(\"this function have access to all variables\")\n",
    "            print(\"decorator args\", args)\n",
    "            return func(fun_arg1, fun_arg2, fun_arg3)\n",
    "        return wrapper\n",
    "    return decorator        \n",
    "\n",
    "@decorator_maker_with_args(\"pandas\", \"numpy\", \"java\")\n",
    "def function_with_arguments(func_args1, func_args2, func_arg3):\n",
    "    print('inside the function', func_args1, func_args2, func_arg3)"
   ]
  },
  {
   "cell_type": "code",
   "execution_count": null,
   "metadata": {},
   "outputs": [],
   "source": []
  },
  {
   "cell_type": "code",
   "execution_count": null,
   "metadata": {},
   "outputs": [],
   "source": []
  },
  {
   "cell_type": "code",
   "execution_count": 16,
   "metadata": {},
   "outputs": [
    {
     "name": "stdout",
     "output_type": "stream",
     "text": [
      "this function have access to all variables\n",
      "decorator args pandas numpy java\n",
      "inside the function onkar science tech\n"
     ]
    }
   ],
   "source": [
    "function_with_arguments(\"onkar\", \"science\", \"tech\")"
   ]
  },
  {
   "cell_type": "code",
   "execution_count": null,
   "metadata": {},
   "outputs": [],
   "source": [
    "# decorted ---> d1 (10) -> d2(i/p->10) ---further calcultion"
   ]
  },
  {
   "cell_type": "code",
   "execution_count": null,
   "metadata": {},
   "outputs": [],
   "source": []
  },
  {
   "cell_type": "code",
   "execution_count": 22,
   "metadata": {},
   "outputs": [],
   "source": [
    "\n",
    "def decor1(func):\n",
    "    def inner():\n",
    "        x = func()\n",
    "        print(\"x in deco2\", x)\n",
    "        return x*x\n",
    "    return inner\n",
    "\n",
    "def decor(func):\n",
    "    def inner():\n",
    "        x = func() #num()\n",
    "        print(\"x in decor1...\", x)\n",
    "        return 2 * x\n",
    "    return inner\n",
    "\n",
    "@decor1\n",
    "@decor\n",
    "def num():\n",
    "    return 10\n"
   ]
  },
  {
   "cell_type": "code",
   "execution_count": 23,
   "metadata": {},
   "outputs": [
    {
     "name": "stdout",
     "output_type": "stream",
     "text": [
      "x in decor1... 10\n",
      "x in deco2 20\n",
      "400\n"
     ]
    }
   ],
   "source": [
    "print(num())"
   ]
  },
  {
   "cell_type": "code",
   "execution_count": null,
   "metadata": {},
   "outputs": [],
   "source": []
  },
  {
   "cell_type": "code",
   "execution_count": null,
   "metadata": {},
   "outputs": [],
   "source": []
  },
  {
   "cell_type": "code",
   "execution_count": null,
   "metadata": {},
   "outputs": [],
   "source": []
  },
  {
   "cell_type": "code",
   "execution_count": 20,
   "metadata": {},
   "outputs": [
    {
     "ename": "TypeError",
     "evalue": "'NoneType' object is not callable",
     "output_type": "error",
     "traceback": [
      "\u001b[0;31m---------------------------------------------------------------------------\u001b[0m",
      "\u001b[0;31mTypeError\u001b[0m                                 Traceback (most recent call last)",
      "\u001b[0;32m<ipython-input-20-758f9726a4ea>\u001b[0m in \u001b[0;36m<module>\u001b[0;34m\u001b[0m\n\u001b[0;32m----> 1\u001b[0;31m \u001b[0mprint\u001b[0m\u001b[0;34m(\u001b[0m\u001b[0mnum\u001b[0m\u001b[0;34m(\u001b[0m\u001b[0;34m)\u001b[0m\u001b[0;34m)\u001b[0m\u001b[0;34m\u001b[0m\u001b[0;34m\u001b[0m\u001b[0m\n\u001b[0m",
      "\u001b[0;31mTypeError\u001b[0m: 'NoneType' object is not callable"
     ]
    }
   ],
   "source": []
  },
  {
   "cell_type": "code",
   "execution_count": 26,
   "metadata": {},
   "outputs": [
    {
     "name": "stdout",
     "output_type": "stream",
     "text": [
      "args1 ('pandas', 'numpy', 'java')\n",
      "args2 ('pandas', 'numpy', 'java')\n",
      "this function have access to all variables\n",
      "args ('pandas', 'numpy', 'java')\n",
      "arsgs# ('onkar', 'science', 'tech')\n",
      "inside the function onkar science tech\n"
     ]
    }
   ],
   "source": [
    "# passing arguments to decorator\n",
    "def decorator_maker_with_args(*args):\n",
    "    print('args1',args)\n",
    "    def decorator(func):\n",
    "        print('args2',args)\n",
    "        def wrapper(*args1):\n",
    "            \"This is wrapper function\"\n",
    "            print(\"this function have access to all variables\")\n",
    "            print('args',args)\n",
    "            print(\"arsgs#\", args1)\n",
    "          #  print(\"decorator args\", decorator_arg1, decorator_arg2, decorator_arg3)\n",
    "            return func(*args1)\n",
    "        return wrapper\n",
    "    return decorator\n",
    "\n",
    "@decorator_maker_with_args(\"pandas\", \"numpy\", \"java\")\n",
    "def function_with_arguments(func_args1, func_args2, func_arg3):\n",
    "    print('inside the function', func_args1, func_args2, func_arg3)\n",
    "\n",
    "function_with_arguments(\"onkar\", \"science\", \"tech\")"
   ]
  },
  {
   "cell_type": "code",
   "execution_count": null,
   "metadata": {},
   "outputs": [],
   "source": [
    "# Operators in python\n",
    "\n",
    "\n",
    "# 1. Arithemtic operator: +, -, *, /, %, **, //\n",
    "# 2. Assignment Operators: =, +=, -=,*=, /=, %=, //=,**= &=, |=, ^=, >>==, <<= \n",
    "# 3. Comparision Operator:  ==, !=, >, <, >=, <=\n",
    "# 4. Logical Operator: and , or , not\n",
    "# 5. Identity operator: is, is not\n",
    "# 6. Membership Operator: in, not in\n",
    "# 7. bitwise operator: &, |, ^, ~, <<, >>\n",
    "\n",
    "5 | 4\n",
    "11001 & \n",
    "11101\n",
    "00110\n",
    "\n",
    "5 & 4\n",
    "x =5\n",
    "x = x+5\n",
    "x = x -5\n",
    "x = x*5\n",
    "x = x/5\n",
    "\n"
   ]
  },
  {
   "cell_type": "code",
   "execution_count": 44,
   "metadata": {},
   "outputs": [],
   "source": [
    "x = 5//2"
   ]
  },
  {
   "cell_type": "code",
   "execution_count": 48,
   "metadata": {},
   "outputs": [
    {
     "name": "stdout",
     "output_type": "stream",
     "text": [
      "True\n"
     ]
    }
   ],
   "source": [
    "x = ['pune', 'mumbai']\n",
    "# print(\"pun1e\" in x)\n",
    "\n",
    "print(\"bang\" not in x)"
   ]
  },
  {
   "cell_type": "code",
   "execution_count": null,
   "metadata": {},
   "outputs": [],
   "source": [
    "# assignment\n",
    "# 12345\n",
    "5\n",
    "1235455\n",
    "6\n",
    "# Assignment: write code to count the number of digits in a number\n",
    "\n",
    "# input: str = \"a,b$c\"\n",
    "# output: str = \"c,b$a\"\n",
    "\n",
    "# String that contain special character with english alphabets(\"a\" to \"z\" and \"A\" to \"Z\")\n",
    "# reverse the string in a way that special character are not affected.\n",
    "\n",
    "# note: any character that is not an alphabet should be consider as special character\n"
   ]
  },
  {
   "cell_type": "code",
   "execution_count": null,
   "metadata": {},
   "outputs": [],
   "source": []
  },
  {
   "cell_type": "code",
   "execution_count": null,
   "metadata": {},
   "outputs": [],
   "source": [
    "def f1():\n",
    "    print(\"hello\")\n",
    "    \n",
    "def f2(a,b):\n",
    "    print(a)\n",
    "\n",
    "f2(f1, 10)\n",
    "f2(f1(), 10)"
   ]
  },
  {
   "cell_type": "code",
   "execution_count": null,
   "metadata": {},
   "outputs": [],
   "source": [
    "l = [0,1,2,3]\n",
    "for l[-1] in l:\n",
    "    print(l[-1])\n",
    "    \n",
    "# output of above code"
   ]
  },
  {
   "cell_type": "code",
   "execution_count": null,
   "metadata": {},
   "outputs": [],
   "source": []
  },
  {
   "cell_type": "code",
   "execution_count": 28,
   "metadata": {},
   "outputs": [
    {
     "data": {
      "text/plain": [
       "2"
      ]
     },
     "execution_count": 28,
     "metadata": {},
     "output_type": "execute_result"
    }
   ],
   "source": [
    "x"
   ]
  },
  {
   "cell_type": "code",
   "execution_count": 29,
   "metadata": {},
   "outputs": [
    {
     "data": {
      "text/plain": [
       "True"
      ]
     },
     "execution_count": 29,
     "metadata": {},
     "output_type": "execute_result"
    }
   ],
   "source": [
    "'nitin' == 'nitin'"
   ]
  },
  {
   "cell_type": "code",
   "execution_count": 33,
   "metadata": {},
   "outputs": [
    {
     "name": "stdout",
     "output_type": "stream",
     "text": [
      "hi\n"
     ]
    }
   ],
   "source": [
    "x = 5 \n",
    "y = False\n",
    "\n",
    "if x == 5 and not y:\n",
    "    print(\"hi\")"
   ]
  },
  {
   "cell_type": "code",
   "execution_count": 34,
   "metadata": {},
   "outputs": [
    {
     "data": {
      "text/plain": [
       "True"
      ]
     },
     "execution_count": 34,
     "metadata": {},
     "output_type": "execute_result"
    }
   ],
   "source": [
    "x = [1,2,3,4,5]\n",
    "y = [1,2,3,4,5]\n",
    "\n",
    "x == y"
   ]
  },
  {
   "cell_type": "code",
   "execution_count": 35,
   "metadata": {},
   "outputs": [
    {
     "data": {
      "text/plain": [
       "False"
      ]
     },
     "execution_count": 35,
     "metadata": {},
     "output_type": "execute_result"
    }
   ],
   "source": [
    "x is y"
   ]
  },
  {
   "cell_type": "code",
   "execution_count": 36,
   "metadata": {},
   "outputs": [
    {
     "data": {
      "text/plain": [
       "140642320973760"
      ]
     },
     "execution_count": 36,
     "metadata": {},
     "output_type": "execute_result"
    }
   ],
   "source": [
    "id(y)"
   ]
  },
  {
   "cell_type": "code",
   "execution_count": 37,
   "metadata": {},
   "outputs": [
    {
     "data": {
      "text/plain": [
       "140642321025792"
      ]
     },
     "execution_count": 37,
     "metadata": {},
     "output_type": "execute_result"
    }
   ],
   "source": [
    "id(x)"
   ]
  },
  {
   "cell_type": "code",
   "execution_count": 38,
   "metadata": {},
   "outputs": [],
   "source": [
    "d = x"
   ]
  },
  {
   "cell_type": "code",
   "execution_count": 39,
   "metadata": {},
   "outputs": [
    {
     "data": {
      "text/plain": [
       "140642321025792"
      ]
     },
     "execution_count": 39,
     "metadata": {},
     "output_type": "execute_result"
    }
   ],
   "source": [
    "id(d)"
   ]
  },
  {
   "cell_type": "code",
   "execution_count": 40,
   "metadata": {},
   "outputs": [
    {
     "data": {
      "text/plain": [
       "True"
      ]
     },
     "execution_count": 40,
     "metadata": {},
     "output_type": "execute_result"
    }
   ],
   "source": [
    "x is d"
   ]
  },
  {
   "cell_type": "code",
   "execution_count": 41,
   "metadata": {},
   "outputs": [
    {
     "data": {
      "text/plain": [
       "False"
      ]
     },
     "execution_count": 41,
     "metadata": {},
     "output_type": "execute_result"
    }
   ],
   "source": [
    "x is not d"
   ]
  },
  {
   "cell_type": "code",
   "execution_count": 42,
   "metadata": {},
   "outputs": [
    {
     "data": {
      "text/plain": [
       "False"
      ]
     },
     "execution_count": 42,
     "metadata": {},
     "output_type": "execute_result"
    }
   ],
   "source": [
    "x !=y"
   ]
  },
  {
   "cell_type": "code",
   "execution_count": 43,
   "metadata": {},
   "outputs": [
    {
     "data": {
      "text/plain": [
       "True"
      ]
     },
     "execution_count": 43,
     "metadata": {},
     "output_type": "execute_result"
    }
   ],
   "source": [
    "x is not y"
   ]
  },
  {
   "cell_type": "code",
   "execution_count": 55,
   "metadata": {},
   "outputs": [
    {
     "name": "stdout",
     "output_type": "stream",
     "text": [
      "[2, 4, 8, 16, 32]\n"
     ]
    }
   ],
   "source": []
  },
  {
   "cell_type": "code",
   "execution_count": null,
   "metadata": {},
   "outputs": [],
   "source": []
  },
  {
   "cell_type": "code",
   "execution_count": 54,
   "metadata": {},
   "outputs": [
    {
     "name": "stdout",
     "output_type": "stream",
     "text": [
      "[1, -2, -3]\n"
     ]
    }
   ],
   "source": []
  },
  {
   "cell_type": "code",
   "execution_count": null,
   "metadata": {},
   "outputs": [],
   "source": []
  },
  {
   "cell_type": "code",
   "execution_count": 53,
   "metadata": {},
   "outputs": [
    {
     "data": {
      "text/plain": [
       "0"
      ]
     },
     "execution_count": 53,
     "metadata": {},
     "output_type": "execute_result"
    }
   ],
   "source": [
    "20%2"
   ]
  },
  {
   "cell_type": "code",
   "execution_count": 2,
   "metadata": {},
   "outputs": [
    {
     "name": "stdout",
     "output_type": "stream",
     "text": [
      "hello python\n"
     ]
    },
    {
     "ename": "NameError",
     "evalue": "name 's' is not defined",
     "output_type": "error",
     "traceback": [
      "\u001b[0;31m---------------------------------------------------------------------------\u001b[0m",
      "\u001b[0;31mNameError\u001b[0m                                 Traceback (most recent call last)",
      "\u001b[0;32m<ipython-input-2-eb76465c8494>\u001b[0m in \u001b[0;36m<module>\u001b[0;34m\u001b[0m\n\u001b[1;32m      6\u001b[0m     \u001b[0mprint\u001b[0m\u001b[0;34m(\u001b[0m\u001b[0ms\u001b[0m\u001b[0;34m)\u001b[0m\u001b[0;34m\u001b[0m\u001b[0;34m\u001b[0m\u001b[0m\n\u001b[1;32m      7\u001b[0m \u001b[0mlocal_f\u001b[0m\u001b[0;34m(\u001b[0m\u001b[0;34m)\u001b[0m\u001b[0;34m\u001b[0m\u001b[0;34m\u001b[0m\u001b[0m\n\u001b[0;32m----> 8\u001b[0;31m \u001b[0mprint\u001b[0m\u001b[0;34m(\u001b[0m\u001b[0ms\u001b[0m\u001b[0;34m)\u001b[0m\u001b[0;34m\u001b[0m\u001b[0;34m\u001b[0m\u001b[0m\n\u001b[0m",
      "\u001b[0;31mNameError\u001b[0m: name 's' is not defined"
     ]
    }
   ],
   "source": [
    "# local vs global varaibles\n",
    "\n",
    "def local_f():\n",
    "    # local varaibles\n",
    "    s = \"hello python\" # local variable\n",
    "    print(s) \n",
    "local_f() \n",
    "print(s)"
   ]
  },
  {
   "cell_type": "code",
   "execution_count": 3,
   "metadata": {},
   "outputs": [
    {
     "name": "stdout",
     "output_type": "stream",
     "text": [
      "inside the global f function Hi python\n",
      "outside of function Hi python\n"
     ]
    }
   ],
   "source": [
    "def global_f():\n",
    "    print(\"inside the global f function\", s)\n",
    "\n",
    "# Global scope\n",
    "s = \"Hi python\"\n",
    "global_f()\n",
    "print(\"outside of function\", s)\n"
   ]
  },
  {
   "cell_type": "code",
   "execution_count": 4,
   "metadata": {},
   "outputs": [
    {
     "name": "stdout",
     "output_type": "stream",
     "text": [
      "hello java\n",
      "hi python\n"
     ]
    }
   ],
   "source": [
    "# what if the local and global variable have same name\n",
    "\n",
    "def f():\n",
    "    s = \"hello java\"\n",
    "    print(s)\n",
    "\n",
    "# global scope\n",
    "s = \"hi python\"\n",
    "f()\n",
    "print(s)\n"
   ]
  },
  {
   "cell_type": "code",
   "execution_count": 5,
   "metadata": {},
   "outputs": [
    {
     "ename": "UnboundLocalError",
     "evalue": "local variable 's' referenced before assignment",
     "output_type": "error",
     "traceback": [
      "\u001b[0;31m---------------------------------------------------------------------------\u001b[0m",
      "\u001b[0;31mUnboundLocalError\u001b[0m                         Traceback (most recent call last)",
      "\u001b[0;32m<ipython-input-5-2c2abd5107a1>\u001b[0m in \u001b[0;36m<module>\u001b[0;34m\u001b[0m\n\u001b[1;32m      5\u001b[0m \u001b[0;31m# global scope\u001b[0m\u001b[0;34m\u001b[0m\u001b[0;34m\u001b[0m\u001b[0;34m\u001b[0m\u001b[0m\n\u001b[1;32m      6\u001b[0m \u001b[0ms\u001b[0m \u001b[0;34m=\u001b[0m \u001b[0;34m\"python\"\u001b[0m\u001b[0;34m\u001b[0m\u001b[0;34m\u001b[0m\u001b[0m\n\u001b[0;32m----> 7\u001b[0;31m \u001b[0mf\u001b[0m\u001b[0;34m(\u001b[0m\u001b[0;34m)\u001b[0m\u001b[0;34m\u001b[0m\u001b[0;34m\u001b[0m\u001b[0m\n\u001b[0m",
      "\u001b[0;32m<ipython-input-5-2c2abd5107a1>\u001b[0m in \u001b[0;36mf\u001b[0;34m()\u001b[0m\n\u001b[1;32m      1\u001b[0m \u001b[0;31m# modify the global variable value inside the block or function\u001b[0m\u001b[0;34m\u001b[0m\u001b[0;34m\u001b[0m\u001b[0;34m\u001b[0m\u001b[0m\n\u001b[1;32m      2\u001b[0m \u001b[0;32mdef\u001b[0m \u001b[0mf\u001b[0m\u001b[0;34m(\u001b[0m\u001b[0;34m)\u001b[0m\u001b[0;34m:\u001b[0m\u001b[0;34m\u001b[0m\u001b[0;34m\u001b[0m\u001b[0m\n\u001b[0;32m----> 3\u001b[0;31m     \u001b[0ms\u001b[0m \u001b[0;34m+=\u001b[0m\u001b[0;34m'abc'\u001b[0m \u001b[0;31m# s = s+ \"abc\"\u001b[0m\u001b[0;34m\u001b[0m\u001b[0;34m\u001b[0m\u001b[0m\n\u001b[0m\u001b[1;32m      4\u001b[0m     \u001b[0mprint\u001b[0m\u001b[0;34m(\u001b[0m\u001b[0;34m\"inside the function\"\u001b[0m\u001b[0;34m,\u001b[0m\u001b[0ms\u001b[0m\u001b[0;34m)\u001b[0m\u001b[0;34m\u001b[0m\u001b[0;34m\u001b[0m\u001b[0m\n\u001b[1;32m      5\u001b[0m \u001b[0;31m# global scope\u001b[0m\u001b[0;34m\u001b[0m\u001b[0;34m\u001b[0m\u001b[0;34m\u001b[0m\u001b[0m\n",
      "\u001b[0;31mUnboundLocalError\u001b[0m: local variable 's' referenced before assignment"
     ]
    }
   ],
   "source": [
    "# modify the global variable value inside the block or function\n",
    "def f():\n",
    "    s +='abc' # s = s+ \"abc\"\n",
    "    print(\"inside the function\",s)\n",
    "# global scope\n",
    "s = \"python\"\n",
    "f()"
   ]
  },
  {
   "cell_type": "code",
   "execution_count": 7,
   "metadata": {},
   "outputs": [
    {
     "name": "stdout",
     "output_type": "stream",
     "text": [
      "python is simple\n",
      "value of s python is simpleabvc\n",
      "java\n",
      "java\n"
     ]
    }
   ],
   "source": [
    "def f():\n",
    "    global s\n",
    "    s +=\"abvc\"\n",
    "    print(\"value of s\", s)\n",
    "    s = \"java\"\n",
    "    print(s)\n",
    "    \n",
    "s = \"python is simple\" # global scope \n",
    "print(s)\n",
    "f()\n",
    "print(s)"
   ]
  },
  {
   "cell_type": "code",
   "execution_count": 8,
   "metadata": {},
   "outputs": [
    {
     "name": "stdout",
     "output_type": "stream",
     "text": [
      "Global: 1\n",
      "Inside f(): 1\n",
      "Global: 1\n",
      "inside the g() function 2\n",
      "Global: 1\n",
      "Inside the h() 3\n",
      "Global: 3\n"
     ]
    }
   ],
   "source": [
    "# local vs global\n",
    "\n",
    "a = 1\n",
    "\n",
    "def f():\n",
    "    print(\"Inside f():\", a)\n",
    "\n",
    "def g():\n",
    "    a = 2  # local scope \n",
    "    print(\"inside the g() function\", a)\n",
    "\n",
    "def h():\n",
    "    global a  # global scope\n",
    "    a = 3\n",
    "    print(\"Inside the h()\", a)\n",
    "\n",
    "\n",
    "print(\"Global:\", a)\n",
    "f()\n",
    "print(\"Global:\", a)\n",
    "g()\n",
    "print(\"Global:\", a)\n",
    "h()\n",
    "print(\"Global:\", a)"
   ]
  },
  {
   "cell_type": "code",
   "execution_count": null,
   "metadata": {},
   "outputs": [],
   "source": [
    "# iterator in python\n",
    "\n",
    "# iter\n",
    "# next"
   ]
  },
  {
   "cell_type": "code",
   "execution_count": 9,
   "metadata": {},
   "outputs": [],
   "source": [
    "iter_list = iter(['a', 'b', 'c'])"
   ]
  },
  {
   "cell_type": "code",
   "execution_count": 10,
   "metadata": {},
   "outputs": [
    {
     "data": {
      "text/plain": [
       "list_iterator"
      ]
     },
     "execution_count": 10,
     "metadata": {},
     "output_type": "execute_result"
    }
   ],
   "source": [
    "type(iter_list)"
   ]
  },
  {
   "cell_type": "code",
   "execution_count": 11,
   "metadata": {},
   "outputs": [
    {
     "name": "stdout",
     "output_type": "stream",
     "text": [
      "a\n"
     ]
    }
   ],
   "source": [
    "print(next(iter_list))"
   ]
  },
  {
   "cell_type": "code",
   "execution_count": 12,
   "metadata": {},
   "outputs": [
    {
     "name": "stdout",
     "output_type": "stream",
     "text": [
      "b\n"
     ]
    }
   ],
   "source": [
    "print(next(iter_list))"
   ]
  },
  {
   "cell_type": "code",
   "execution_count": 13,
   "metadata": {},
   "outputs": [
    {
     "name": "stdout",
     "output_type": "stream",
     "text": [
      "c\n"
     ]
    }
   ],
   "source": [
    "print(next(iter_list))"
   ]
  },
  {
   "cell_type": "code",
   "execution_count": 14,
   "metadata": {},
   "outputs": [
    {
     "ename": "StopIteration",
     "evalue": "",
     "output_type": "error",
     "traceback": [
      "\u001b[0;31m---------------------------------------------------------------------------\u001b[0m",
      "\u001b[0;31mStopIteration\u001b[0m                             Traceback (most recent call last)",
      "\u001b[0;32m<ipython-input-14-623a870b19b7>\u001b[0m in \u001b[0;36m<module>\u001b[0;34m\u001b[0m\n\u001b[0;32m----> 1\u001b[0;31m \u001b[0mprint\u001b[0m\u001b[0;34m(\u001b[0m\u001b[0mnext\u001b[0m\u001b[0;34m(\u001b[0m\u001b[0miter_list\u001b[0m\u001b[0;34m)\u001b[0m\u001b[0;34m)\u001b[0m\u001b[0;34m\u001b[0m\u001b[0;34m\u001b[0m\u001b[0m\n\u001b[0m",
      "\u001b[0;31mStopIteration\u001b[0m: "
     ]
    }
   ],
   "source": [
    "print(next(iter_list))"
   ]
  },
  {
   "cell_type": "code",
   "execution_count": 15,
   "metadata": {},
   "outputs": [
    {
     "name": "stdout",
     "output_type": "stream",
     "text": [
      "p\n",
      "y\n",
      "t\n",
      "h\n",
      "o\n",
      "n\n",
      "end of the element\n"
     ]
    }
   ],
   "source": [
    "iteralable_value = \"python\"\n",
    "iterable_object = iter(iteralable_value)\n",
    "\n",
    "while True:\n",
    "    try:\n",
    "        # iterate by calling next()\n",
    "        item = next(iterable_object)\n",
    "        print(item)\n",
    "        \n",
    "    except StopIteration:\n",
    "        print(\"end of the element\")\n",
    "        break"
   ]
  },
  {
   "cell_type": "code",
   "execution_count": 23,
   "metadata": {},
   "outputs": [
    {
     "name": "stdout",
     "output_type": "stream",
     "text": [
      "5\n"
     ]
    }
   ],
   "source": [
    "class Test:\n",
    "    # constructor # initializer\n",
    "    def __init__(self, limit):\n",
    "        self.limit = limit\n",
    "    \n",
    "    # creates the iterator object , iteration is initailized \n",
    "    def __iter__(self):\n",
    "        self.x = 5\n",
    "        return self\n",
    "    \n",
    "    # move ele next ele \n",
    "    # python next(), iter()\n",
    "    def __next__(self):\n",
    "        x = self.x\n",
    "        if x > self.limit:\n",
    "            raise StopIteration # break condition \n",
    "        # increments the value\n",
    "        self.x = x +1\n",
    "        return x\n",
    "\n",
    "\n",
    "\n",
    "    \n",
    "b = iter(Test(10))\n",
    "print(next(b))\n",
    "    "
   ]
  },
  {
   "cell_type": "code",
   "execution_count": 24,
   "metadata": {},
   "outputs": [
    {
     "name": "stdout",
     "output_type": "stream",
     "text": [
      "6\n"
     ]
    }
   ],
   "source": [
    "print(next(b))"
   ]
  },
  {
   "cell_type": "code",
   "execution_count": 25,
   "metadata": {},
   "outputs": [
    {
     "name": "stdout",
     "output_type": "stream",
     "text": [
      "7\n"
     ]
    }
   ],
   "source": [
    "print(next(b))"
   ]
  },
  {
   "cell_type": "code",
   "execution_count": 26,
   "metadata": {},
   "outputs": [
    {
     "name": "stdout",
     "output_type": "stream",
     "text": [
      "8\n"
     ]
    }
   ],
   "source": [
    "print(next(b))"
   ]
  },
  {
   "cell_type": "code",
   "execution_count": 27,
   "metadata": {},
   "outputs": [
    {
     "name": "stdout",
     "output_type": "stream",
     "text": [
      "9\n"
     ]
    }
   ],
   "source": [
    "print(next(b))"
   ]
  },
  {
   "cell_type": "code",
   "execution_count": 28,
   "metadata": {},
   "outputs": [
    {
     "name": "stdout",
     "output_type": "stream",
     "text": [
      "10\n"
     ]
    }
   ],
   "source": [
    "print(next(b))"
   ]
  },
  {
   "cell_type": "code",
   "execution_count": 29,
   "metadata": {},
   "outputs": [
    {
     "ename": "StopIteration",
     "evalue": "",
     "output_type": "error",
     "traceback": [
      "\u001b[0;31m---------------------------------------------------------------------------\u001b[0m",
      "\u001b[0;31mStopIteration\u001b[0m                             Traceback (most recent call last)",
      "\u001b[0;32m<ipython-input-29-0b064482c990>\u001b[0m in \u001b[0;36m<module>\u001b[0;34m\u001b[0m\n\u001b[0;32m----> 1\u001b[0;31m \u001b[0mprint\u001b[0m\u001b[0;34m(\u001b[0m\u001b[0mnext\u001b[0m\u001b[0;34m(\u001b[0m\u001b[0mb\u001b[0m\u001b[0;34m)\u001b[0m\u001b[0;34m)\u001b[0m\u001b[0;34m\u001b[0m\u001b[0;34m\u001b[0m\u001b[0m\n\u001b[0m",
      "\u001b[0;32m<ipython-input-23-6f99945e9a7c>\u001b[0m in \u001b[0;36m__next__\u001b[0;34m(self)\u001b[0m\n\u001b[1;32m     14\u001b[0m         \u001b[0mx\u001b[0m \u001b[0;34m=\u001b[0m \u001b[0mself\u001b[0m\u001b[0;34m.\u001b[0m\u001b[0mx\u001b[0m\u001b[0;34m\u001b[0m\u001b[0;34m\u001b[0m\u001b[0m\n\u001b[1;32m     15\u001b[0m         \u001b[0;32mif\u001b[0m \u001b[0mx\u001b[0m \u001b[0;34m>\u001b[0m \u001b[0mself\u001b[0m\u001b[0;34m.\u001b[0m\u001b[0mlimit\u001b[0m\u001b[0;34m:\u001b[0m\u001b[0;34m\u001b[0m\u001b[0;34m\u001b[0m\u001b[0m\n\u001b[0;32m---> 16\u001b[0;31m             \u001b[0;32mraise\u001b[0m \u001b[0mStopIteration\u001b[0m \u001b[0;31m# break condition\u001b[0m\u001b[0;34m\u001b[0m\u001b[0;34m\u001b[0m\u001b[0m\n\u001b[0m\u001b[1;32m     17\u001b[0m         \u001b[0;31m# increments the value\u001b[0m\u001b[0;34m\u001b[0m\u001b[0;34m\u001b[0m\u001b[0;34m\u001b[0m\u001b[0m\n\u001b[1;32m     18\u001b[0m         \u001b[0mself\u001b[0m\u001b[0;34m.\u001b[0m\u001b[0mx\u001b[0m \u001b[0;34m=\u001b[0m \u001b[0mx\u001b[0m \u001b[0;34m+\u001b[0m\u001b[0;36m1\u001b[0m\u001b[0;34m\u001b[0m\u001b[0;34m\u001b[0m\u001b[0m\n",
      "\u001b[0;31mStopIteration\u001b[0m: "
     ]
    }
   ],
   "source": [
    "print(next(b))"
   ]
  },
  {
   "cell_type": "code",
   "execution_count": 30,
   "metadata": {},
   "outputs": [
    {
     "name": "stdout",
     "output_type": "stream",
     "text": [
      "1\n",
      "2\n",
      "3\n",
      "4\n",
      "5\n"
     ]
    }
   ],
   "source": [
    "l = [1,2,3,4,5]\n",
    "for i in l:\n",
    "    print(i)"
   ]
  },
  {
   "cell_type": "code",
   "execution_count": 31,
   "metadata": {},
   "outputs": [
    {
     "data": {
      "text/plain": [
       "list"
      ]
     },
     "execution_count": 31,
     "metadata": {},
     "output_type": "execute_result"
    }
   ],
   "source": [
    "type(l)"
   ]
  },
  {
   "cell_type": "code",
   "execution_count": 32,
   "metadata": {},
   "outputs": [
    {
     "data": {
      "text/plain": [
       "['__add__',\n",
       " '__class__',\n",
       " '__contains__',\n",
       " '__delattr__',\n",
       " '__delitem__',\n",
       " '__dir__',\n",
       " '__doc__',\n",
       " '__eq__',\n",
       " '__format__',\n",
       " '__ge__',\n",
       " '__getattribute__',\n",
       " '__getitem__',\n",
       " '__gt__',\n",
       " '__hash__',\n",
       " '__iadd__',\n",
       " '__imul__',\n",
       " '__init__',\n",
       " '__init_subclass__',\n",
       " '__iter__',\n",
       " '__le__',\n",
       " '__len__',\n",
       " '__lt__',\n",
       " '__mul__',\n",
       " '__ne__',\n",
       " '__new__',\n",
       " '__reduce__',\n",
       " '__reduce_ex__',\n",
       " '__repr__',\n",
       " '__reversed__',\n",
       " '__rmul__',\n",
       " '__setattr__',\n",
       " '__setitem__',\n",
       " '__sizeof__',\n",
       " '__str__',\n",
       " '__subclasshook__',\n",
       " 'append',\n",
       " 'clear',\n",
       " 'copy',\n",
       " 'count',\n",
       " 'extend',\n",
       " 'index',\n",
       " 'insert',\n",
       " 'pop',\n",
       " 'remove',\n",
       " 'reverse',\n",
       " 'sort']"
      ]
     },
     "execution_count": 32,
     "metadata": {},
     "output_type": "execute_result"
    }
   ],
   "source": [
    "dir(l)"
   ]
  },
  {
   "cell_type": "code",
   "execution_count": 34,
   "metadata": {},
   "outputs": [
    {
     "name": "stdout",
     "output_type": "stream",
     "text": [
      "1\n"
     ]
    },
    {
     "data": {
      "text/plain": [
       "'a'"
      ]
     },
     "execution_count": 34,
     "metadata": {},
     "output_type": "execute_result"
    }
   ],
   "source": [
    "\n",
    "def sq_number(n):\n",
    "    for i in range(1, n+1):\n",
    "        print(i*i)\n",
    "        return \"a\"\n",
    "        \"other logic\"\n",
    "sq_number(3)\n"
   ]
  },
  {
   "cell_type": "code",
   "execution_count": 61,
   "metadata": {},
   "outputs": [],
   "source": [
    "def sq_number(n):\n",
    "    for i in range(1, n+1): \n",
    "        yield i*i\n",
    "        #return i*i\n",
    "a = sq_number(3)\n"
   ]
  },
  {
   "cell_type": "code",
   "execution_count": null,
   "metadata": {},
   "outputs": [],
   "source": []
  },
  {
   "cell_type": "code",
   "execution_count": 63,
   "metadata": {},
   "outputs": [],
   "source": [
    "b = list(a)"
   ]
  },
  {
   "cell_type": "code",
   "execution_count": 64,
   "metadata": {},
   "outputs": [],
   "source": [
    "for i in b:\n",
    "    print(i)"
   ]
  },
  {
   "cell_type": "code",
   "execution_count": null,
   "metadata": {},
   "outputs": [],
   "source": []
  },
  {
   "cell_type": "code",
   "execution_count": null,
   "metadata": {},
   "outputs": [],
   "source": []
  },
  {
   "cell_type": "code",
   "execution_count": 57,
   "metadata": {},
   "outputs": [
    {
     "data": {
      "text/plain": [
       "1"
      ]
     },
     "execution_count": 57,
     "metadata": {},
     "output_type": "execute_result"
    }
   ],
   "source": [
    "next(a) "
   ]
  },
  {
   "cell_type": "code",
   "execution_count": 58,
   "metadata": {},
   "outputs": [
    {
     "name": "stdout",
     "output_type": "stream",
     "text": [
      "4\n",
      "9\n"
     ]
    }
   ],
   "source": [
    "for i in a:\n",
    "    print(i)"
   ]
  },
  {
   "cell_type": "code",
   "execution_count": 59,
   "metadata": {},
   "outputs": [
    {
     "data": {
      "text/plain": [
       "<generator object sq_number at 0x7f838d14d970>"
      ]
     },
     "execution_count": 59,
     "metadata": {},
     "output_type": "execute_result"
    }
   ],
   "source": [
    "a"
   ]
  },
  {
   "cell_type": "code",
   "execution_count": 60,
   "metadata": {},
   "outputs": [],
   "source": [
    "for i in a:\n",
    "    print(i)"
   ]
  },
  {
   "cell_type": "code",
   "execution_count": null,
   "metadata": {},
   "outputs": [],
   "source": []
  },
  {
   "cell_type": "code",
   "execution_count": null,
   "metadata": {},
   "outputs": [],
   "source": []
  },
  {
   "cell_type": "code",
   "execution_count": null,
   "metadata": {},
   "outputs": [],
   "source": []
  },
  {
   "cell_type": "code",
   "execution_count": 50,
   "metadata": {},
   "outputs": [
    {
     "data": {
      "text/plain": [
       "1"
      ]
     },
     "execution_count": 50,
     "metadata": {},
     "output_type": "execute_result"
    }
   ],
   "source": [
    "a"
   ]
  },
  {
   "cell_type": "code",
   "execution_count": 51,
   "metadata": {},
   "outputs": [
    {
     "data": {
      "text/plain": [
       "1"
      ]
     },
     "execution_count": 51,
     "metadata": {},
     "output_type": "execute_result"
    }
   ],
   "source": [
    "a"
   ]
  },
  {
   "cell_type": "code",
   "execution_count": 52,
   "metadata": {},
   "outputs": [
    {
     "data": {
      "text/plain": [
       "1"
      ]
     },
     "execution_count": 52,
     "metadata": {},
     "output_type": "execute_result"
    }
   ],
   "source": [
    "a\n"
   ]
  },
  {
   "cell_type": "code",
   "execution_count": 65,
   "metadata": {},
   "outputs": [
    {
     "data": {
      "text/plain": [
       "[1, 2, 3, 4, 5]"
      ]
     },
     "execution_count": 65,
     "metadata": {},
     "output_type": "execute_result"
    }
   ],
   "source": [
    "l"
   ]
  },
  {
   "cell_type": "code",
   "execution_count": 66,
   "metadata": {},
   "outputs": [
    {
     "ename": "TypeError",
     "evalue": "'list' object is not an iterator",
     "output_type": "error",
     "traceback": [
      "\u001b[0;31m---------------------------------------------------------------------------\u001b[0m",
      "\u001b[0;31mTypeError\u001b[0m                                 Traceback (most recent call last)",
      "\u001b[0;32m<ipython-input-66-cdc8a39da60d>\u001b[0m in \u001b[0;36m<module>\u001b[0;34m\u001b[0m\n\u001b[0;32m----> 1\u001b[0;31m \u001b[0mnext\u001b[0m\u001b[0;34m(\u001b[0m\u001b[0ml\u001b[0m\u001b[0;34m)\u001b[0m\u001b[0;34m\u001b[0m\u001b[0;34m\u001b[0m\u001b[0m\n\u001b[0m",
      "\u001b[0;31mTypeError\u001b[0m: 'list' object is not an iterator"
     ]
    }
   ],
   "source": [
    "next(l)"
   ]
  },
  {
   "cell_type": "code",
   "execution_count": null,
   "metadata": {},
   "outputs": [],
   "source": []
  },
  {
   "cell_type": "code",
   "execution_count": null,
   "metadata": {},
   "outputs": [],
   "source": []
  },
  {
   "cell_type": "code",
   "execution_count": null,
   "metadata": {},
   "outputs": [],
   "source": []
  },
  {
   "cell_type": "code",
   "execution_count": 43,
   "metadata": {},
   "outputs": [
    {
     "data": {
      "text/plain": [
       "<generator object sq_number at 0x7f838d159d60>"
      ]
     },
     "execution_count": 43,
     "metadata": {},
     "output_type": "execute_result"
    }
   ],
   "source": [
    "a"
   ]
  },
  {
   "cell_type": "code",
   "execution_count": 44,
   "metadata": {},
   "outputs": [
    {
     "data": {
      "text/plain": [
       "1"
      ]
     },
     "execution_count": 44,
     "metadata": {},
     "output_type": "execute_result"
    }
   ],
   "source": [
    "next(a)"
   ]
  },
  {
   "cell_type": "code",
   "execution_count": 48,
   "metadata": {},
   "outputs": [
    {
     "name": "stdout",
     "output_type": "stream",
     "text": [
      "1\n",
      "hi\n",
      "4\n",
      "hi\n",
      "9\n",
      "hi\n"
     ]
    }
   ],
   "source": [
    "for i in a:\n",
    "    print(i)"
   ]
  },
  {
   "cell_type": "code",
   "execution_count": null,
   "metadata": {},
   "outputs": [],
   "source": []
  },
  {
   "cell_type": "code",
   "execution_count": null,
   "metadata": {},
   "outputs": [],
   "source": []
  },
  {
   "cell_type": "code",
   "execution_count": null,
   "metadata": {},
   "outputs": [],
   "source": []
  },
  {
   "cell_type": "code",
   "execution_count": 40,
   "metadata": {},
   "outputs": [
    {
     "data": {
      "text/plain": [
       "1"
      ]
     },
     "execution_count": 40,
     "metadata": {},
     "output_type": "execute_result"
    }
   ],
   "source": [
    "a"
   ]
  },
  {
   "cell_type": "code",
   "execution_count": 41,
   "metadata": {},
   "outputs": [
    {
     "data": {
      "text/plain": [
       "1"
      ]
     },
     "execution_count": 41,
     "metadata": {},
     "output_type": "execute_result"
    }
   ],
   "source": [
    "a"
   ]
  },
  {
   "cell_type": "code",
   "execution_count": null,
   "metadata": {},
   "outputs": [],
   "source": []
  },
  {
   "cell_type": "code",
   "execution_count": 37,
   "metadata": {},
   "outputs": [
    {
     "data": {
      "text/plain": [
       "generator"
      ]
     },
     "execution_count": 37,
     "metadata": {},
     "output_type": "execute_result"
    }
   ],
   "source": [
    "type(a)"
   ]
  },
  {
   "cell_type": "code",
   "execution_count": null,
   "metadata": {},
   "outputs": [],
   "source": []
  },
  {
   "cell_type": "code",
   "execution_count": null,
   "metadata": {},
   "outputs": [],
   "source": [
    "\n",
    "\n",
    "#.1 create  ----> create devices, create db, create profile in cache \n",
    "# update \n",
    "# delete"
   ]
  },
  {
   "cell_type": "code",
   "execution_count": 67,
   "metadata": {},
   "outputs": [],
   "source": [
    "def simple_fun():\n",
    "    print(\"hi\")\n",
    "    return \"hello\""
   ]
  },
  {
   "cell_type": "code",
   "execution_count": 68,
   "metadata": {},
   "outputs": [
    {
     "name": "stdout",
     "output_type": "stream",
     "text": [
      "hi\n"
     ]
    },
    {
     "data": {
      "text/plain": [
       "function"
      ]
     },
     "execution_count": 68,
     "metadata": {},
     "output_type": "execute_result"
    }
   ],
   "source": [
    "f = simple_fun()\n",
    "type(simple_fun)"
   ]
  },
  {
   "cell_type": "code",
   "execution_count": 83,
   "metadata": {},
   "outputs": [],
   "source": [
    "def simple_generator():\n",
    "    print(\"hi\")\n",
    "    yield \"hello\"\n",
    "    x = 10\n",
    "    y = x + 5\n",
    "    print(y)\n",
    "    yield \"world\"\n",
    "    yield x"
   ]
  },
  {
   "cell_type": "code",
   "execution_count": null,
   "metadata": {},
   "outputs": [],
   "source": []
  },
  {
   "cell_type": "code",
   "execution_count": null,
   "metadata": {},
   "outputs": [],
   "source": []
  },
  {
   "cell_type": "code",
   "execution_count": 86,
   "metadata": {},
   "outputs": [],
   "source": [
    "ret = simple_generator()"
   ]
  },
  {
   "cell_type": "code",
   "execution_count": 87,
   "metadata": {},
   "outputs": [
    {
     "name": "stdout",
     "output_type": "stream",
     "text": [
      "hi\n"
     ]
    },
    {
     "data": {
      "text/plain": [
       "'hello'"
      ]
     },
     "execution_count": 87,
     "metadata": {},
     "output_type": "execute_result"
    }
   ],
   "source": [
    "next(ret)"
   ]
  },
  {
   "cell_type": "code",
   "execution_count": 88,
   "metadata": {},
   "outputs": [
    {
     "name": "stdout",
     "output_type": "stream",
     "text": [
      "15\n"
     ]
    },
    {
     "data": {
      "text/plain": [
       "'world'"
      ]
     },
     "execution_count": 88,
     "metadata": {},
     "output_type": "execute_result"
    }
   ],
   "source": [
    "next(ret)"
   ]
  },
  {
   "cell_type": "code",
   "execution_count": 89,
   "metadata": {},
   "outputs": [
    {
     "data": {
      "text/plain": [
       "10"
      ]
     },
     "execution_count": 89,
     "metadata": {},
     "output_type": "execute_result"
    }
   ],
   "source": [
    "next(ret)"
   ]
  },
  {
   "cell_type": "code",
   "execution_count": 90,
   "metadata": {},
   "outputs": [
    {
     "ename": "StopIteration",
     "evalue": "",
     "output_type": "error",
     "traceback": [
      "\u001b[0;31m---------------------------------------------------------------------------\u001b[0m",
      "\u001b[0;31mStopIteration\u001b[0m                             Traceback (most recent call last)",
      "\u001b[0;32m<ipython-input-90-2216548e65ed>\u001b[0m in \u001b[0;36m<module>\u001b[0;34m\u001b[0m\n\u001b[0;32m----> 1\u001b[0;31m \u001b[0mnext\u001b[0m\u001b[0;34m(\u001b[0m\u001b[0mret\u001b[0m\u001b[0;34m)\u001b[0m\u001b[0;34m\u001b[0m\u001b[0;34m\u001b[0m\u001b[0m\n\u001b[0m",
      "\u001b[0;31mStopIteration\u001b[0m: "
     ]
    }
   ],
   "source": [
    "next(ret)"
   ]
  },
  {
   "cell_type": "code",
   "execution_count": null,
   "metadata": {},
   "outputs": [],
   "source": []
  },
  {
   "cell_type": "code",
   "execution_count": 85,
   "metadata": {},
   "outputs": [
    {
     "name": "stdout",
     "output_type": "stream",
     "text": [
      "hi\n",
      "hello\n",
      "15\n",
      "world\n",
      "10\n"
     ]
    }
   ],
   "source": [
    "for i in ret:\n",
    "    print(i)"
   ]
  },
  {
   "cell_type": "code",
   "execution_count": null,
   "metadata": {},
   "outputs": [],
   "source": []
  },
  {
   "cell_type": "code",
   "execution_count": 71,
   "metadata": {},
   "outputs": [
    {
     "data": {
      "text/plain": [
       "<generator object simple_generator at 0x7f838d169dd0>"
      ]
     },
     "execution_count": 71,
     "metadata": {},
     "output_type": "execute_result"
    }
   ],
   "source": [
    "ret"
   ]
  },
  {
   "cell_type": "code",
   "execution_count": 72,
   "metadata": {},
   "outputs": [
    {
     "name": "stdout",
     "output_type": "stream",
     "text": [
      "hi\n",
      "15\n"
     ]
    },
    {
     "data": {
      "text/plain": [
       "['hello', 'world', 10]"
      ]
     },
     "execution_count": 72,
     "metadata": {},
     "output_type": "execute_result"
    }
   ],
   "source": [
    "list(ret)"
   ]
  },
  {
   "cell_type": "code",
   "execution_count": 81,
   "metadata": {},
   "outputs": [
    {
     "ename": "TypeError",
     "evalue": "isinstance() arg 2 must be a type or tuple of types",
     "output_type": "error",
     "traceback": [
      "\u001b[0;31m---------------------------------------------------------------------------\u001b[0m",
      "\u001b[0;31mTypeError\u001b[0m                                 Traceback (most recent call last)",
      "\u001b[0;32m<ipython-input-81-6235ababdef8>\u001b[0m in \u001b[0;36m<module>\u001b[0;34m\u001b[0m\n\u001b[1;32m      1\u001b[0m \u001b[0;32mimport\u001b[0m \u001b[0mcollections\u001b[0m\u001b[0;34m\u001b[0m\u001b[0;34m\u001b[0m\u001b[0m\n\u001b[1;32m      2\u001b[0m \u001b[0;34m\u001b[0m\u001b[0m\n\u001b[0;32m----> 3\u001b[0;31m \u001b[0misinstance\u001b[0m\u001b[0;34m(\u001b[0m\u001b[0mlist\u001b[0m\u001b[0;34m,\u001b[0m \u001b[0;34m\"__iter__\"\u001b[0m\u001b[0;34m)\u001b[0m\u001b[0;34m\u001b[0m\u001b[0;34m\u001b[0m\u001b[0m\n\u001b[0m",
      "\u001b[0;31mTypeError\u001b[0m: isinstance() arg 2 must be a type or tuple of types"
     ]
    }
   ],
   "source": []
  },
  {
   "cell_type": "code",
   "execution_count": 95,
   "metadata": {},
   "outputs": [],
   "source": [
    "def fib(n):\n",
    "    numbers = []\n",
    "    first, second = 0,1\n",
    "    while first < n:\n",
    "        numbers.append(first)\n",
    "        first, second = second, first+second\n",
    "    print(numbers)"
   ]
  },
  {
   "cell_type": "code",
   "execution_count": null,
   "metadata": {},
   "outputs": [],
   "source": []
  },
  {
   "cell_type": "code",
   "execution_count": null,
   "metadata": {},
   "outputs": [],
   "source": []
  },
  {
   "cell_type": "code",
   "execution_count": 96,
   "metadata": {},
   "outputs": [
    {
     "name": "stdout",
     "output_type": "stream",
     "text": [
      "[0, 1, 1, 2, 3, 5, 8]\n"
     ]
    }
   ],
   "source": [
    "fib(10)"
   ]
  },
  {
   "cell_type": "code",
   "execution_count": 97,
   "metadata": {},
   "outputs": [],
   "source": [
    "def fib(n):\n",
    "    first, second = 0,1\n",
    "    while n:\n",
    "        yield first\n",
    "        first, second = second, first+second\n",
    "        n-=1"
   ]
  },
  {
   "cell_type": "code",
   "execution_count": 98,
   "metadata": {},
   "outputs": [],
   "source": [
    "ret = fib(50)"
   ]
  },
  {
   "cell_type": "code",
   "execution_count": 99,
   "metadata": {},
   "outputs": [
    {
     "data": {
      "text/plain": [
       "[0,\n",
       " 1,\n",
       " 1,\n",
       " 2,\n",
       " 3,\n",
       " 5,\n",
       " 8,\n",
       " 13,\n",
       " 21,\n",
       " 34,\n",
       " 55,\n",
       " 89,\n",
       " 144,\n",
       " 233,\n",
       " 377,\n",
       " 610,\n",
       " 987,\n",
       " 1597,\n",
       " 2584,\n",
       " 4181,\n",
       " 6765,\n",
       " 10946,\n",
       " 17711,\n",
       " 28657,\n",
       " 46368,\n",
       " 75025,\n",
       " 121393,\n",
       " 196418,\n",
       " 317811,\n",
       " 514229,\n",
       " 832040,\n",
       " 1346269,\n",
       " 2178309,\n",
       " 3524578,\n",
       " 5702887,\n",
       " 9227465,\n",
       " 14930352,\n",
       " 24157817,\n",
       " 39088169,\n",
       " 63245986,\n",
       " 102334155,\n",
       " 165580141,\n",
       " 267914296,\n",
       " 433494437,\n",
       " 701408733,\n",
       " 1134903170,\n",
       " 1836311903,\n",
       " 2971215073,\n",
       " 4807526976,\n",
       " 7778742049]"
      ]
     },
     "execution_count": 99,
     "metadata": {},
     "output_type": "execute_result"
    }
   ],
   "source": [
    "list(ret)"
   ]
  },
  {
   "cell_type": "code",
   "execution_count": 100,
   "metadata": {},
   "outputs": [],
   "source": [
    "# custom generator function range\n",
    "\n",
    "def frange(start, stop, increment):\n",
    "    x = start\n",
    "    while x<stop:\n",
    "        yield x\n",
    "        x+=increment"
   ]
  },
  {
   "cell_type": "code",
   "execution_count": 101,
   "metadata": {},
   "outputs": [
    {
     "name": "stdout",
     "output_type": "stream",
     "text": [
      "<class 'generator'>\n"
     ]
    }
   ],
   "source": [
    "c = frange(0, 4, 0.5)\n",
    "print(type(c))"
   ]
  },
  {
   "cell_type": "code",
   "execution_count": 102,
   "metadata": {},
   "outputs": [
    {
     "name": "stdout",
     "output_type": "stream",
     "text": [
      "0\n",
      "0.5\n",
      "1.0\n",
      "1.5\n",
      "2.0\n",
      "2.5\n",
      "3.0\n",
      "3.5\n"
     ]
    }
   ],
   "source": [
    "for i in c:\n",
    "    print(i)"
   ]
  },
  {
   "cell_type": "code",
   "execution_count": 107,
   "metadata": {},
   "outputs": [
    {
     "name": "stdout",
     "output_type": "stream",
     "text": [
      "('a', 'b', 'c')\n",
      "('a', 'c', 'b')\n",
      "('b', 'a', 'c')\n",
      "('b', 'c', 'a')\n",
      "('c', 'a', 'b')\n",
      "('c', 'b', 'a')\n"
     ]
    }
   ],
   "source": [
    "item = ['a', 'b', 'c']\n",
    "\n",
    "from itertools import permutations\n",
    "for p in permutations(item,3):\n",
    "    print(p)"
   ]
  },
  {
   "cell_type": "code",
   "execution_count": 110,
   "metadata": {},
   "outputs": [
    {
     "name": "stdout",
     "output_type": "stream",
     "text": [
      "('a',)\n",
      "('b',)\n",
      "('c',)\n"
     ]
    }
   ],
   "source": [
    "from itertools import combinations\n",
    "for c in combinations(item, 1):\n",
    "    print(c)\n",
    "    "
   ]
  },
  {
   "cell_type": "code",
   "execution_count": 114,
   "metadata": {},
   "outputs": [
    {
     "name": "stdout",
     "output_type": "stream",
     "text": [
      "2 a\n",
      "3 b\n",
      "4 c\n"
     ]
    }
   ],
   "source": [
    "mylist = ('a', 'b', 'c')\n",
    "for idx, val in enumerate(mylist,2):\n",
    "    print(idx, val)\n",
    "    "
   ]
  },
  {
   "cell_type": "code",
   "execution_count": 116,
   "metadata": {},
   "outputs": [
    {
     "name": "stdout",
     "output_type": "stream",
     "text": [
      "1 x\n",
      "2 y\n",
      "3 a\n",
      "5 b\n"
     ]
    }
   ],
   "source": [
    "# zip(*iterable)\n",
    "l = [1,2,3,5]\n",
    "l2 = ['x','y','a', 'b', 'z']\n",
    "for x, y in zip(l, l2):\n",
    "    print(x,y)\n",
    "\n"
   ]
  },
  {
   "cell_type": "code",
   "execution_count": 118,
   "metadata": {
    "scrolled": true
   },
   "outputs": [
    {
     "name": "stdout",
     "output_type": "stream",
     "text": [
      "(1, 'x')\n",
      "(2, 'y')\n",
      "(3, 'a')\n",
      "(5, 'b')\n",
      "(None, 'z')\n"
     ]
    }
   ],
   "source": [
    "from itertools import zip_longest\n",
    "for i in zip_longest(l, l2):\n",
    "    print(i)"
   ]
  },
  {
   "cell_type": "code",
   "execution_count": 119,
   "metadata": {},
   "outputs": [
    {
     "name": "stdout",
     "output_type": "stream",
     "text": [
      "(1, '10', 'x')\n",
      "(2, '11', 'y')\n",
      "(3, '22', 'z')\n",
      "(4, '34', 'a')\n",
      "(5, '44', 'b')\n"
     ]
    }
   ],
   "source": [
    "a = [1,2,3,4,5]\n",
    "b = ['10','11', '22', '34', '44']\n",
    "c = ['x','y', 'z', 'a', 'b']\n",
    "\n",
    "for i in zip(a,b,c):\n",
    "    print(i)"
   ]
  },
  {
   "cell_type": "code",
   "execution_count": 120,
   "metadata": {},
   "outputs": [
    {
     "name": "stdout",
     "output_type": "stream",
     "text": [
      "1\n",
      "2\n",
      "3\n",
      "4\n",
      "5\n",
      "x\n",
      "y\n",
      "z\n",
      "a\n",
      "b\n",
      "c\n"
     ]
    }
   ],
   "source": [
    "from itertools import chain\n",
    "a = [1,2,3,4,5]\n",
    "b = ['x', 'y', 'z', 'a', 'b', 'c']\n",
    "for x in chain(a,b):\n",
    "    print(x)"
   ]
  },
  {
   "cell_type": "code",
   "execution_count": 123,
   "metadata": {},
   "outputs": [],
   "source": [
    "from collections import Iterable \n",
    "def flatten(items, ignore_type=(str, bytes)):\n",
    "    for x in items:\n",
    "        if isinstance(x, Iterable) and not isinstance(x, ignore_type):\n",
    "            yield from flatten(x)\n",
    "        else:\n",
    "            yield x"
   ]
  },
  {
   "cell_type": "code",
   "execution_count": null,
   "metadata": {},
   "outputs": [],
   "source": []
  },
  {
   "cell_type": "code",
   "execution_count": null,
   "metadata": {},
   "outputs": [],
   "source": []
  },
  {
   "cell_type": "code",
   "execution_count": 124,
   "metadata": {},
   "outputs": [
    {
     "name": "stdout",
     "output_type": "stream",
     "text": [
      "1\n",
      "23\n",
      "3\n",
      "4\n",
      "5\n",
      "6\n",
      "9\n",
      "8\n",
      "a\n"
     ]
    }
   ],
   "source": [
    "items = [1,23, [3,4,[5,6], 9], 8, 'a']\n",
    "for x in flatten(items):\n",
    "    print(x)\n"
   ]
  },
  {
   "cell_type": "code",
   "execution_count": 125,
   "metadata": {},
   "outputs": [
    {
     "data": {
      "text/plain": [
       "28"
      ]
     },
     "execution_count": 125,
     "metadata": {},
     "output_type": "execute_result"
    }
   ],
   "source": [
    "import os, sys\n",
    "\n",
    "sys.getsizeof(1)"
   ]
  },
  {
   "cell_type": "code",
   "execution_count": 126,
   "metadata": {},
   "outputs": [
    {
     "data": {
      "text/plain": [
       "'/Users/onkar/Documents/Traning-python-5:08/material 2'"
      ]
     },
     "execution_count": 126,
     "metadata": {},
     "output_type": "execute_result"
    }
   ],
   "source": [
    "os.getcwd()"
   ]
  },
  {
   "cell_type": "code",
   "execution_count": 127,
   "metadata": {},
   "outputs": [],
   "source": [
    "l = [122,2,2,2,2,2,2]"
   ]
  },
  {
   "cell_type": "code",
   "execution_count": 128,
   "metadata": {},
   "outputs": [
    {
     "data": {
      "text/plain": [
       "112"
      ]
     },
     "execution_count": 128,
     "metadata": {},
     "output_type": "execute_result"
    }
   ],
   "source": [
    "sys.getsizeof(l)"
   ]
  },
  {
   "cell_type": "code",
   "execution_count": 129,
   "metadata": {},
   "outputs": [
    {
     "name": "stdout",
     "output_type": "stream",
     "text": [
      "python is fun.\n",
      "thank you\n",
      "today is sunday\n",
      "its a fun day\n",
      "python is \n",
      "new\n",
      "today python is preferred\n",
      "done with sample test\n",
      "new Python\n",
      "end\n",
      "\n"
     ]
    }
   ],
   "source": [
    "# file \n",
    "\n",
    "# read the file as a single string\n",
    "with open(\"sample.txt\", \"rt\") as f:\n",
    "    data = f.read()\n",
    "print(data)\n",
    "    "
   ]
  },
  {
   "cell_type": "code",
   "execution_count": 130,
   "metadata": {},
   "outputs": [
    {
     "name": "stdout",
     "output_type": "stream",
     "text": [
      "python is fun.\n",
      "\n",
      "thank you\n",
      "\n",
      "today is sunday\n",
      "\n",
      "its a fun day\n",
      "\n",
      "python is \n",
      "\n",
      "new\n",
      "\n",
      "today python is preferred\n",
      "\n",
      "done with sample test\n",
      "\n",
      "new Python\n",
      "\n",
      "end\n",
      "\n"
     ]
    }
   ],
   "source": [
    "# iterate over the lines of file\n",
    "\n",
    "with open(\"sample.txt\", \"rt\") as f:\n",
    "    for line in f:\n",
    "        # process the line\n",
    "        print(line)"
   ]
  },
  {
   "cell_type": "code",
   "execution_count": 131,
   "metadata": {},
   "outputs": [],
   "source": [
    "# write small chunk of information\n",
    "with open(\"somefile.txt\", \"wt\") as f:\n",
    "    f.write(\"hi\")\n",
    "    f.write(\"hello\")"
   ]
  },
  {
   "cell_type": "code",
   "execution_count": 132,
   "metadata": {},
   "outputs": [
    {
     "name": "stdout",
     "output_type": "stream",
     "text": [
      "Help on built-in function print in module builtins:\n",
      "\n",
      "print(...)\n",
      "    print(value, ..., sep=' ', end='\\n', file=sys.stdout, flush=False)\n",
      "    \n",
      "    Prints the values to a stream, or to sys.stdout by default.\n",
      "    Optional keyword arguments:\n",
      "    file:  a file-like object (stream); defaults to the current sys.stdout.\n",
      "    sep:   string inserted between values, default a space.\n",
      "    end:   string appended after the last value, default a newline.\n",
      "    flush: whether to forcibly flush the stream.\n",
      "\n"
     ]
    }
   ],
   "source": [
    "help(print)"
   ]
  },
  {
   "cell_type": "code",
   "execution_count": 134,
   "metadata": {},
   "outputs": [],
   "source": [
    "with open(\"somefile-ir.txt\", \"wt\") as f:\n",
    "    print(\"hi python\" ,file=f)\n",
    "    print(\"line2\", file=f)"
   ]
  },
  {
   "cell_type": "code",
   "execution_count": 142,
   "metadata": {},
   "outputs": [
    {
     "name": "stdout",
     "output_type": "stream",
     "text": [
      "hi\n"
     ]
    }
   ],
   "source": [
    "print(\"hi\")"
   ]
  },
  {
   "cell_type": "code",
   "execution_count": 143,
   "metadata": {},
   "outputs": [],
   "source": [
    "f = open(\"somefile.txt\", \"rt\")\n",
    "date = f.read()"
   ]
  },
  {
   "cell_type": "code",
   "execution_count": 144,
   "metadata": {},
   "outputs": [
    {
     "data": {
      "text/plain": [
       "'hihello'"
      ]
     },
     "execution_count": 144,
     "metadata": {},
     "output_type": "execute_result"
    }
   ],
   "source": [
    "date"
   ]
  },
  {
   "cell_type": "code",
   "execution_count": 145,
   "metadata": {},
   "outputs": [],
   "source": [
    "f.close()"
   ]
  },
  {
   "cell_type": "code",
   "execution_count": 146,
   "metadata": {},
   "outputs": [
    {
     "data": {
      "text/plain": [
       "'hihello'"
      ]
     },
     "execution_count": 146,
     "metadata": {},
     "output_type": "execute_result"
    }
   ],
   "source": [
    "f = open(\"somefile.txt\", \"rt\", encoding=\"ascii\", errors=\"replace\")\n",
    "f.read()\n"
   ]
  },
  {
   "cell_type": "code",
   "execution_count": 147,
   "metadata": {},
   "outputs": [],
   "source": [
    "f.close()"
   ]
  },
  {
   "cell_type": "code",
   "execution_count": 149,
   "metadata": {},
   "outputs": [
    {
     "data": {
      "text/plain": [
       "'hihello'"
      ]
     },
     "execution_count": 149,
     "metadata": {},
     "output_type": "execute_result"
    }
   ],
   "source": [
    "f = open(\"somefile.txt\", \"rt\", encoding=\"ascii\", errors=\"ignore\")\n",
    "f.read()"
   ]
  },
  {
   "cell_type": "code",
   "execution_count": 150,
   "metadata": {},
   "outputs": [],
   "source": [
    "# write binary data to file\n",
    "with open(\"somefilebin.bin\", \"wb\") as f:\n",
    "    f.write(b\"hello world\")"
   ]
  },
  {
   "cell_type": "code",
   "execution_count": 151,
   "metadata": {},
   "outputs": [],
   "source": [
    "with open(\"somefilebin.bin\", \"rb\") as f:\n",
    "    data = f.read()"
   ]
  },
  {
   "cell_type": "code",
   "execution_count": 152,
   "metadata": {},
   "outputs": [
    {
     "data": {
      "text/plain": [
       "b'hello world'"
      ]
     },
     "execution_count": 152,
     "metadata": {},
     "output_type": "execute_result"
    }
   ],
   "source": [
    "data"
   ]
  },
  {
   "cell_type": "code",
   "execution_count": 154,
   "metadata": {},
   "outputs": [],
   "source": [
    "b = b\"hello world\""
   ]
  },
  {
   "cell_type": "code",
   "execution_count": 155,
   "metadata": {},
   "outputs": [
    {
     "data": {
      "text/plain": [
       "104"
      ]
     },
     "execution_count": 155,
     "metadata": {},
     "output_type": "execute_result"
    }
   ],
   "source": [
    "b[0]"
   ]
  },
  {
   "cell_type": "code",
   "execution_count": 156,
   "metadata": {},
   "outputs": [
    {
     "data": {
      "text/plain": [
       "'hello world'"
      ]
     },
     "execution_count": 156,
     "metadata": {},
     "output_type": "execute_result"
    }
   ],
   "source": [
    "b.decode('utf-8') # explore above encoding and decoding format of string like utf, base64, asciii"
   ]
  },
  {
   "cell_type": "code",
   "execution_count": 159,
   "metadata": {},
   "outputs": [],
   "source": [
    "with open(\"somefilebin.bin\", \"rb\") as f:\n",
    "    data = f.read(16)\n",
    "    text = data.decode(\"utf-8\")"
   ]
  },
  {
   "cell_type": "code",
   "execution_count": 160,
   "metadata": {},
   "outputs": [
    {
     "data": {
      "text/plain": [
       "'hello world'"
      ]
     },
     "execution_count": 160,
     "metadata": {},
     "output_type": "execute_result"
    }
   ],
   "source": [
    "text"
   ]
  },
  {
   "cell_type": "code",
   "execution_count": null,
   "metadata": {},
   "outputs": [],
   "source": []
  },
  {
   "cell_type": "code",
   "execution_count": 158,
   "metadata": {},
   "outputs": [
    {
     "data": {
      "text/plain": [
       "'hello world'"
      ]
     },
     "execution_count": 158,
     "metadata": {},
     "output_type": "execute_result"
    }
   ],
   "source": [
    "text"
   ]
  },
  {
   "cell_type": "code",
   "execution_count": 162,
   "metadata": {},
   "outputs": [],
   "source": [
    "import os\n",
    "if not os.path.exists(\"somefile1\"):\n",
    "    with open(\"somefile\", \"wt\") as f:\n",
    "        f.write(\"hello\\n\")\n",
    "else:\n",
    "    print(\"file already exists\")"
   ]
  },
  {
   "cell_type": "code",
   "execution_count": 163,
   "metadata": {},
   "outputs": [],
   "source": [
    "# gzip compression\n",
    "import gzip \n",
    "with gzip.open(\"somefile.gz\", \"wt\") as f:\n",
    "    f.write(\"text compression\")\n",
    "\n"
   ]
  },
  {
   "cell_type": "code",
   "execution_count": 164,
   "metadata": {},
   "outputs": [],
   "source": [
    "import bz2\n",
    "with bz2.open(\"somefilebz.bz2\", \"wt\") as f:\n",
    "    f.write(\"text compression\")\n"
   ]
  },
  {
   "cell_type": "code",
   "execution_count": 165,
   "metadata": {},
   "outputs": [
    {
     "name": "stdout",
     "output_type": "stream",
     "text": [
      "text compression\n"
     ]
    }
   ],
   "source": [
    "import gzip\n",
    "with gzip.open(\"somefile.gz\", \"rt\") as f:\n",
    "    text = f.read()\n",
    "    print(text)"
   ]
  },
  {
   "cell_type": "code",
   "execution_count": 166,
   "metadata": {},
   "outputs": [
    {
     "name": "stdout",
     "output_type": "stream",
     "text": [
      "text compression\n"
     ]
    }
   ],
   "source": [
    "import bz2\n",
    "with bz2.open(\"somefilebz.bz2\", \"rt\") as f:\n",
    "    text = f.read()\n",
    "    print(text)"
   ]
  },
  {
   "cell_type": "code",
   "execution_count": 167,
   "metadata": {},
   "outputs": [],
   "source": [
    "fh = open(\"sample.txt\")"
   ]
  },
  {
   "cell_type": "code",
   "execution_count": 168,
   "metadata": {},
   "outputs": [
    {
     "name": "stdout",
     "output_type": "stream",
     "text": [
      "python is fun.\n",
      "thank you\n",
      "today is sunday\n",
      "its a fun day\n",
      "python is \n",
      "new\n",
      "today python is preferred\n",
      "done with sample test\n",
      "new Python\n",
      "end\n",
      "\n"
     ]
    }
   ],
   "source": [
    "print(fh.read())"
   ]
  },
  {
   "cell_type": "code",
   "execution_count": 169,
   "metadata": {},
   "outputs": [
    {
     "data": {
      "text/plain": [
       "''"
      ]
     },
     "execution_count": 169,
     "metadata": {},
     "output_type": "execute_result"
    }
   ],
   "source": [
    "fh.read()"
   ]
  },
  {
   "cell_type": "code",
   "execution_count": 170,
   "metadata": {},
   "outputs": [],
   "source": [
    "fh.close()"
   ]
  },
  {
   "cell_type": "code",
   "execution_count": 171,
   "metadata": {},
   "outputs": [],
   "source": [
    "fh = open(\"sample.txt\")"
   ]
  },
  {
   "cell_type": "code",
   "execution_count": 172,
   "metadata": {},
   "outputs": [
    {
     "data": {
      "text/plain": [
       "'python is fun.\\n'"
      ]
     },
     "execution_count": 172,
     "metadata": {},
     "output_type": "execute_result"
    }
   ],
   "source": [
    "fh.readline()"
   ]
  },
  {
   "cell_type": "code",
   "execution_count": 173,
   "metadata": {},
   "outputs": [
    {
     "data": {
      "text/plain": [
       "'thank you\\n'"
      ]
     },
     "execution_count": 173,
     "metadata": {},
     "output_type": "execute_result"
    }
   ],
   "source": [
    "fh.readline()"
   ]
  },
  {
   "cell_type": "code",
   "execution_count": 174,
   "metadata": {},
   "outputs": [
    {
     "data": {
      "text/plain": [
       "'today is sunday\\n'"
      ]
     },
     "execution_count": 174,
     "metadata": {},
     "output_type": "execute_result"
    }
   ],
   "source": [
    "fh.readline()"
   ]
  },
  {
   "cell_type": "code",
   "execution_count": 175,
   "metadata": {},
   "outputs": [
    {
     "data": {
      "text/plain": [
       "'its a fun day\\n'"
      ]
     },
     "execution_count": 175,
     "metadata": {},
     "output_type": "execute_result"
    }
   ],
   "source": [
    "fh.readline()"
   ]
  },
  {
   "cell_type": "code",
   "execution_count": 176,
   "metadata": {},
   "outputs": [
    {
     "data": {
      "text/plain": [
       "'python is \\n'"
      ]
     },
     "execution_count": 176,
     "metadata": {},
     "output_type": "execute_result"
    }
   ],
   "source": [
    "fh.readline()"
   ]
  },
  {
   "cell_type": "code",
   "execution_count": 177,
   "metadata": {},
   "outputs": [
    {
     "name": "stdout",
     "output_type": "stream",
     "text": [
      "python is fun.\n",
      "thank you\n",
      "today is sunday\n",
      "its a fun day\n",
      "python is \n",
      "new\n",
      "today python is preferred\n",
      "done with sample test\n",
      "new Python\n",
      "end\n",
      "\n",
      "End of block\n",
      "End of block\n"
     ]
    }
   ],
   "source": [
    "with open(\"sample.txt\") as fh:\n",
    "    print(fh.read())\n",
    "    print(\"End of block\")\n",
    "print(\"End of block\")"
   ]
  },
  {
   "cell_type": "code",
   "execution_count": 178,
   "metadata": {},
   "outputs": [
    {
     "name": "stdout",
     "output_type": "stream",
     "text": [
      "python is fun.\n",
      "\n",
      "['thank you\\n', 'today is sunday\\n', 'its a fun day\\n', 'python is \\n', 'new\\n', 'today python is preferred\\n', 'done with sample test\\n', 'new Python\\n', 'end\\n']\n"
     ]
    }
   ],
   "source": [
    "with open(\"sample.txt\") as fh:\n",
    "    print(fh.readline())\n",
    "    print(fh.readlines())"
   ]
  },
  {
   "cell_type": "code",
   "execution_count": 180,
   "metadata": {},
   "outputs": [
    {
     "name": "stdout",
     "output_type": "stream",
     "text": [
      "python is fun.\n",
      "\n"
     ]
    }
   ],
   "source": [
    "with open(\"sample.txt\") as fh:\n",
    "    print(fh.readline())\n",
    "    text = fh.readlines()"
   ]
  },
  {
   "cell_type": "code",
   "execution_count": 181,
   "metadata": {},
   "outputs": [
    {
     "data": {
      "text/plain": [
       "'thank you\\n'"
      ]
     },
     "execution_count": 181,
     "metadata": {},
     "output_type": "execute_result"
    }
   ],
   "source": [
    "text[0]"
   ]
  },
  {
   "cell_type": "code",
   "execution_count": 182,
   "metadata": {},
   "outputs": [
    {
     "data": {
      "text/plain": [
       "'today is sunday\\n'"
      ]
     },
     "execution_count": 182,
     "metadata": {},
     "output_type": "execute_result"
    }
   ],
   "source": [
    "text[1]"
   ]
  },
  {
   "cell_type": "code",
   "execution_count": 184,
   "metadata": {},
   "outputs": [
    {
     "name": "stdout",
     "output_type": "stream",
     "text": [
      "python is fun.\n",
      "thank you\n",
      "today is sunday\n",
      "its a fun day\n",
      "python is \n",
      "new\n",
      "today python is preferred\n",
      "done with sample test\n",
      "new Python\n",
      "end\n",
      "\n",
      "['python is fun.\\n', 'thank you\\n', 'today is sunday\\n', 'its a fun day\\n', 'python is \\n', 'new\\n', 'today python is preferred\\n', 'done with sample test\\n', 'new Python\\n', 'end\\n']\n"
     ]
    }
   ],
   "source": [
    "with open(\"sample.txt\") as fh:\n",
    "    data = fh.read()\n",
    "    print(data)\n",
    "    fh.seek(0,0)\n",
    "    print(fh.readlines())"
   ]
  },
  {
   "cell_type": "code",
   "execution_count": 185,
   "metadata": {},
   "outputs": [
    {
     "name": "stdout",
     "output_type": "stream",
     "text": [
      "python is fun.\n",
      "thank you\n",
      "today is sunday\n",
      "its a fun day\n",
      "python is \n",
      "new\n",
      "today python is preferred\n",
      "done with sample test\n",
      "new Python\n",
      "end\n"
     ]
    }
   ],
   "source": [
    "with open(\"sample.txt\") as fh:\n",
    "    for line in fh:\n",
    "        print(line, end='')"
   ]
  },
  {
   "cell_type": "code",
   "execution_count": 186,
   "metadata": {},
   "outputs": [
    {
     "name": "stdout",
     "output_type": "stream",
     "text": [
      "1 python is fun.\n",
      "5 python is \n",
      "7 today python is preferred\n",
      "9 new Python\n"
     ]
    }
   ],
   "source": [
    "# print all the lines containing python including the line number\n",
    "with open(\"sample.txt\") as fh:\n",
    "    count = 1\n",
    "    for line in fh:\n",
    "        if \"python\".upper() in line.upper():\n",
    "            print(count, line, end='')\n",
    "        count+=1"
   ]
  },
  {
   "cell_type": "code",
   "execution_count": null,
   "metadata": {},
   "outputs": [],
   "source": []
  },
  {
   "cell_type": "code",
   "execution_count": null,
   "metadata": {},
   "outputs": [],
   "source": [
    "# XNSE-BAJAJ_AUTO.csv"
   ]
  },
  {
   "cell_type": "code",
   "execution_count": null,
   "metadata": {},
   "outputs": [],
   "source": [
    "# url https://data.nasdaq.com/data/XNSE/BAJAJ_AUTO-bajaj-auto-ltd-eqbajajauto-adjusted-stock-prices"
   ]
  },
  {
   "cell_type": "code",
   "execution_count": 193,
   "metadata": {},
   "outputs": [
    {
     "name": "stdout",
     "output_type": "stream",
     "text": [
      "{'2477.286629': ['2499.906119'], '2491.672625': ['2497.146541'], '2500.720421': ['2500.810899'], '2455.300484': ['2487.963028'], '2465.20782': ['2465.20782'], '2556.454846': ['2562.96926'], '2621.14659': ['2628.384827'], '2583.145845': ['2623.860929'], '2582.150588': ['2607.574895'], '2569.574151': ['2600.155702'], '2563.240693': ['2581.336286'], '2565.955032': ['2567.176485', '2611.82736'], '2587.669743': ['2610.877341'], '2480.905747': ['2585.860184'], '2451.952799': ['2497.19178'], '2454.667138': ['2506.194338'], '2462.810154': ['2527.049508'], '2479.096188': ['2532.840098', '2479.096188'], '2496.287001': ['2510.311085'], '2479.186666': ['2524.335169'], '2497.19178': ['2501.67044'], '2461.905375': ['2505.968143'], '2382.284767': ['2476.381849'], '2363.284395': ['2375.04653'], '2390.427784': ['2392.192104'], '2357.855717': ['2409.337678'], '2343.695916': ['2343.695916'], '2352.42704': ['2374.141751'], '2418.475953': ['2418.475953'], '2424.492737': ['2424.492737'], '2446.524121': ['2450.14324'], '2424.80941': ['2448.243202', '2483.620086', '2442.497852'], '2425.71419': ['2442.000223'], '2420.285512': ['2456.386219'], '2396.761241': ['2418.837864'], '2442.905003': ['2466.429273', '2463.262544', '2450.459912'], '2436.164394': ['2436.164394'], '2437.476325': ['2438.381104'], '2418.656908': ['2441.095443'], '2415.761614': ['2431.550018', '2441.366877'], '2370.522632': ['2442.905003'], '2364.279653': ['2369.617853'], '2307.188058': ['2365.093954'], '2310.807177': ['2337.045786'], '2291.806804': ['2314.742968'], '2246.567823': ['2292.349672'], '2221.233993': ['2260.772863'], '2365.998734': ['2370.432154'], '2298.140262': ['2351.250826', '2312.526258'], '2289.182943': ['2329.536115'], '2293.842558': ['2300.718884'], '2305.197543': ['2305.197543'], '2386.808665': ['2397.349348', '2395.856462'], '2392.237343': ['2395.313594'], '2306.735668': ['2396.716002'], '2316.235854': ['2378.575171'], '2343.379243': ['2343.424482'], '2285.518586': ['2356.136636'], '2384.094327': ['2384.094327'], '2431.142867': ['2460.548205', '2483.620086'], '2474.57229': ['2506.149099'], '2470.138869': ['2470.138869'], '2531.573406': ['2540.575964'], '2509.315827': ['2556.907236'], '2530.216237': ['2541.299787'], '2467.424531': ['2535.056808'], '2533.382966': ['2545.778447'], '2538.811643': ['2572.28849'], '2524.425647': ['2524.425647'], '2513.477814': ['2560.481116'], '2578.621947': ['2595.81276'], '2591.288862': ['2605.674858'], '2610.289234': ['2632.818247'], '2594.862742': ['2594.862742'], '2601.241438': ['2628.384827'], '2645.57564': ['2668.195131'], '2573.14803': ['2652.813877'], '2517.096932': ['2540.621203'], '2466.429273': ['2515.332612'], '2515.242134': ['2519.811271'], '2501.715679': ['2540.349769'], '2461.000595': ['2492.667882'], '2433.857206': ['2444.714562'], '2443.809782': ['2447.428901'], '2435.576288': ['2450.14324'], '2428.338051': ['2440.190664'], '2468.691222': ['2468.691222'], '2488.143984': ['2506.239577'], '2419.380732': ['2485.067733'], '2416.666393': ['2422.954612'], '2388.618225': ['2422.999851', '2403.773284'], '2394.408814': ['2394.408814'], '2378.575171': ['2404.904258'], '2413.816337': ['2422.276027'], '2411.237716': ['2431.00715'], '2439.285884': ['2442.905003', '2457.381477'], '2432.047647': ['2442.905003'], '2458.286256': ['2504.430017'], '2422.999851': ['2456.476697'], '2431.097628': ['2442.000223'], '2385.903886': ['2440.190664'], '2394.046903': ['2413.002036'], '2434.761986': ['2465.524493'], '2569.528912': ['2571.021798'], '2831.960244': ['2853.493999'], '2811.874136': ['2844.98907'], '2808.435973': ['2859.872695'], '2811.24079': ['2828.295886'], '2838.293701': ['2863.627531'], '2825.626786': ['2856.344055'], '2890.680442': ['2890.725681'], '2784.911703': ['2872.630088'], '2758.673094': ['2818.34331'], '2774.597215': ['2789.435601'], '2698.957638': ['2785.137898'], '2655.528216': ['2700.767197'], '2544.373636': ['2649.918221'], '2520.436603': ['2555.056645'], '2495.657341': ['2581.653348', '2513.344148'], '2411.56743': ['2507.182579'], '2446.896718': ['2469.060637', '2507.581529'], '2502.705467': ['2502.705467'], '2486.791773': ['2502.306516', '2516.668736'], '2517.643949': ['2517.643949'], '2504.522908': ['2515.028606'], '2547.121962': ['2551.46609'], '2531.252595': ['2552.396975'], '2564.80877': ['2564.80877'], '2553.283531': ['2586.706722'], '2565.20772': ['2574.560894'], '2575.447451': ['2579.880235'], '2578.107121': ['2601.157598'], '2558.602872': ['2582.096627'], '2559.179134': ['2583.382134'], '2560.375986': ['2571.502273'], '2563.035656': ['2596.724814'], '2526.686828': ['2605.945004', '2542.733506'], '2551.953696': ['2557.40602'], '2562.149099': ['2591.006522', '2575.181484', '2624.208074', '2642.825766'], '2464.627853': ['2581.121414', '2480.984826'], '2460.195069': ['2469.016309', '2464.627853', '2475.532502'], '2477.039648': ['2477.039648'], '2487.589674': ['2513.344148'], '2448.669831': ['2492.99767'], '2442.419606': ['2460.727003'], '2455.762285': ['2495.302718'], '2501.685927': ['2510.861789'], '2420.300014': ['2505.409465'], '2460.150742': ['2460.150742'], '2522.254044': ['2584.313019', '2522.254044', '2549.116715', '2522.254044'], '2500.976681': ['2509.044348'], '2493.884227': ['2506.118711'], '2499.203568': ['2550.623861'], '2508.955692': ['2526.686828'], '2555.056645': ['2566.537555'], '2584.313019': ['2597.434059'], '2565.695326': ['2609.092281'], '2646.371994': ['2647.25855'], '2655.193233': ['2655.193233'], '2677.091186': ['2698.14691'], '2617.647554': ['2617.647554'], '2635.688984': ['2639.722818'], '2592.29203': ['2592.29203'], '2557.716315': ['2581.609021'], '2532.094824': ['2568.620964'], '2529.169187': ['2553.283531'], '2530.055744': ['2544.462291'], '2539.98518': ['2539.98518'], '2552.396975': ['2552.396975'], '2467.908113': ['2519.106767'], '2455.274679': ['2487.67833'], '2461.968183': ['2464.627853'], '2473.493421': ['2481.472432', '2496.49957', '2508.867037'], '2471.720308': ['2485.860888', '2539.763541'], '2495.613013': ['2503.680679'], '2488.564886': ['2496.543897'], '2442.463934': ['2496.49957'], '2433.332399': ['2433.332399', '2433.332399'], '2536.438953': ['2539.009967'], '2495.568685': ['2497.652093'], '2528.371286': ['2547.742552'], '2562.104771': ['2562.54805'], '2521.278832': ['2560.597625'], '2583.027511': ['2589.499376'], '2606.476938': ['2622.43496', '2613.569393', '2639.279539'], '2624.208074': ['2634.7581'], '2626.867744': ['2632.187085'], '2623.321517': ['2663.216572'], '2620.661847': ['2629.527415'], '2601.157598': ['2630.325316'], '2588.479836': ['2610.909722'], '2569.241553': ['2606.476938'], '2632.984986': ['2638.43731'], '2678.199382': ['2678.199382', '2678.199382'], '2719.158305': ['2730.594888'], '2668.535913': ['2709.893787'], '2695.132617': ['2711.090639'], '2663.216572': ['2698.678844'], '2649.031664': ['2666.718472'], '2672.791386': ['2672.791386'], '2731.392789': ['2731.969051'], '2688.040162': ['2722.172598', '2711.090639'], '2757.191591': ['2763.840767'], '2799.746317': ['2799.746317', '2851.698544'], '2770.489943': ['2807.813983'], '2797.086646': ['2801.475102', '2828.071806', '2797.086646'], '2796.288745': ['2796.288745'], '2778.468954': ['2804.090445'], '2774.03617': ['2786.004687'], '2835.474555': ['2835.474555'], '2664.103129': ['2799.701989'], '2836.981702': ['2866.238075', '2910.565914', '2885.742325', '2903.47346'], '3031.137637': ['3074.889214'], '2961.099651': ['3033.088062', '2965.576763'], '2968.192105': ['3001.703952'], '2991.198254': ['3018.681514'], '2940.708845': ['2994.744481'], '2936.010094': ['2936.010094'], '2964.645878': ['2966.330336'], '2921.204596': ['2969.920891', '2961.986208'], '2907.906244': ['2946.914743'], '2843.896844': ['2858.037425'], '2845.847269': ['2874.128431', '2854.978804'], '2815.704339': ['2823.68335'], '2821.200991': ['2827.229577'], '2844.872057': ['2849.393497'], '2862.026931': ['2872.443973'], '2904.360017': ['2911.89575'], '2912.427684': ['2922.711742'], '2892.834779': ['2920.318039'], '2875.9902': ['2902.808543'], '2934.502948': ['2934.680259', '2950.372314'], '2933.616391': ['2968.192105'], '2949.574413': ['2964.60155'], '3000.994706': ['3000.994706'], '2969.965219': ['3000.994706'], '2951.303199': ['2951.303199'], '2905.246574': ['2977.102001', '2906.133131'], '2925.63738': ['2943.368515', '2965.443779'], '2942.348975': ['2961.099651'], '2868.011189': ['2952.943329', '2938.935731'], '2819.16191': ['2873.286202'], '2826.34302': ['2894.607892'], '2801.51943': ['2811.271555', '2833.435474'], '2846.157564': ['2846.600843'], '2851.255266': ['2870.094597'], '2868.631779': ['2872.399645'], '2757.767853': ['2844.872057'], '2834.942621': ['2834.942621'], '2878.561215': ['2878.64987'], '2959.326537': ['2960.479061'], '2929.582557': ['2991.06527'], '2926.523937': ['2953.076312'], '2903.47346': ['2932.552523'], '2915.885255': ['2915.885255'], '2946.914743': ['2951.879461'], '2940.664517': ['2968.192105'], '2885.476358': ['2931.843277'], '2863.578405': ['2878.162264'], '2859.145621': ['2881.309541'], '2890.175108': ['2909.679358'], '2872.178006': ['2914.200797'], '2897.267563': ['2910.299947'], '2835.16426': ['2851.964511'], '2814.729126': ['2846.86681'], '2871.557416': ['2871.557416'], '2846.733826': ['2876.433478'], '2861.805291': ['2884.855768'], '2899.040676': ['2920.273711'], '2899.085004': ['2922.091153'], '2935.123537': ['2946.826087'], '2867.035976': ['2921.204596'], '2893.721336': ['2893.721336'], '2846.334876': ['2862.691848'], '2829.889247': ['2862.691848'], '2852.895396': ['2852.895396'], '2865.262863': ['2873.020235'], '2881.265213': ['2894.607892'], '2814.817782': ['2871.557416', '2828.116134'], '2805.065657': ['2819.250566'], '2810.34067': ['2813.487947'], '2779.089544': ['2851.964511'], '2786.359309': ['2786.359309'], '2782.015181': ['2794.33832', '2797.130974'], '2788.309734': ['2796.865007'], '2794.825927': ['2844.960713'], '2824.569907': ['2848.462612'], '2756.659657': ['2756.659657'], '2716.409979': ['2782.547115', '2734.717377'], '2689.813276': ['2709.317525'], '2708.60828': ['2718.183093'], '2711.445261': ['2711.445261'], '2739.948062': ['2779.355511'], '2761.624375': ['2765.791192'], '2699.654056': ['2791.767306'], '2586.972689': ['2691.630717'], '2610.909722': ['2621.504076'], '2596.724814': ['2636.619869'], '2605.590382': ['2612.638508'], '2617.11562': ['2645.928715'], '2604.703825': ['2605.590382'], '2594.9517': ['2632.807675'], '2585.199576': ['2600.802975'], '2507.093923': ['2602.044154'], '2424.732798': ['2453.058287'], '2429.165582': ['2439.095018', '2440.868132'], '2419.014507': ['2419.014507'], '2450.708912': ['2450.708912'], '2444.237047': ['2455.67363'], '2464.539198': ['2464.539198'], '2492.111113': ['2500.090125'], '2498.1397': ['2503.902319'], '2510.728806': ['2536.438953'], '2510.374183': ['2510.374183'], '2480.585875': ['2519.417062'], '2498.317011': ['2509.975233'], '2588.302524': ['2596.769142'], '2548.850748': ['2574.161944'], '2503.636352': ['2571.014667'], '2473.449093': ['2498.051044'], '2492.99767': ['2509.398971'], '2491.224557': ['2541.758293'], '2526.24355': ['2543.620063'], '2523.140601': ['2529.169187'], '2517.82126': ['2537.680132'], '2498.848945': ['2518.44185'], '2503.104418': ['2531.873185'], '2512.501919': ['2513.388476'], '2507.005267': ['2524.825059'], '2499.957141': ['2507.670185'], '2482.358989': ['2497.341798'], '2477.926205': ['2488.343247'], '2483.245546': ['2498.317011'], '2425.353388': ['2485.018659'], '2521.367487': ['2521.367487'], '2407.888219': ['2422.959685'], '2423.846241': ['2430.052139'], '2399.46369': ['2419.580152'], '2424.402889': ['2424.402889', '2473.759908'], '2406.154695': ['2427.444254'], '2429.616658': ['2432.831816'], '2422.491173': ['2443.520044'], '2423.533927': ['2433.961466'], '2457.814462': ['2458.422736'], '2454.208272': ['2454.208272'], '2476.540585': ['2476.931618', '2546.448547', '2490.443971'], '2448.299333': ['2477.409547'], '2443.520044': ['2457.510326'], '2441.782121': ['2457.379982', '2472.195777', '2479.104022', '2446.126929'], '2480.885393': ['2514.774896', '2483.014349'], '2446.126929': ['2458.900664', '2490.748107', '2447.864852', '2490.443971'], '2449.602775': ['2474.976454'], '2433.092505': ['2466.938559'], '2454.816545': ['2482.623316'], '2481.015737': ['2490.791555'], '2495.657741': ['2501.740472'], '2495.831533': ['2515.643858'], '2478.278508': ['2517.85971', '2484.274343'], '2519.988666': ['2537.367898', '2528.678282'], '2436.568351': ['2493.919817'], '2474.802662': ['2509.778367'], '2465.244084': ['2488.6626'], '2444.389006': ['2477.322651'], '2450.471737': ['2463.506161', '2476.106104', '2466.721319'], '2401.809887': ['2462.419959', '2483.057797'], '2544.319591': ['2544.319591'], '2596.196599': ['2610.317225'], '2583.727': ['2623.395097'], '2622.526135': ['2635.56056'], '2607.971028': ['2648.160503'], '2600.106926': ['2632.084713'], '2611.229634': ['2626.740599', '2622.917168'], '2524.594162': ['2611.620667'], '2502.609433': ['2527.765872', '2502.609433'], '2488.923288': ['2508.952853'], '2519.945217': ['2527.287943'], '2554.616786': ['2554.616786'], '2561.351238': ['2561.351238'], '2528.330697': ['2558.13608'], '2497.048079': ['2537.367898'], '2488.706048': ['2488.706048'], '2489.575009': ['2521.726589'], '2494.050162': ['2532.979642'], '2533.02309': ['2533.02309'], '2499.133587': ['2519.988666'], '2456.771709': ['2494.962571'], '2456.684812': ['2470.631646'], '2437.437313': ['2475.193695', '2454.338616', '2463.419265'], '2450.645529': ['2460.030315'], '2475.671624': ['2487.576398'], '2472.108881': ['2484.143999', '2516.512819'], '2474.933006': ['2474.933006'], '2471.717848': ['2492.616375'], '2447.126235': ['2463.288921'], '2440.044198': ['2473.021291'], '2422.534621': ['2446.126929'], '2421.361523': ['2432.180095'], '2418.841534': ['2418.841534'], '2440.391782': ['2465.678565'], '2452.644141': ['2461.507549'], '2467.894417': ['2473.9337'], '2457.249637': ['2476.540585'], '2472.80405': ['2479.14747'], '2475.019902': ['2498.264625'], '2511.51629': ['2523.551408'], '2543.103044': ['2546.187858'], '2534.022396': ['2548.229918'], '2559.874003': ['2562.307096'], '2503.739083': ['2559.005042'], '2493.659129': ['2511.299049'], '2521.726589': ['2528.678282'], '2489.183977': ['2489.183977'], '2499.828756': ['2511.212153'], '2485.230201': ['2506.910793', '2510.256296'], '2502.957018': ['2505.129422'], '2507.301826': ['2513.905934'], '2463.506161': ['2466.982007'], '2437.871794': ['2472.021985'], '2394.858194': ['2428.747697'], '2422.664965': ['2436.785592'], '2445.344863': ['2445.344863'], '2427.444254': ['2440.478678'], '2426.140812': ['2438.306274'], '2419.536704': ['2451.731731'], '2409.630541': ['2426.140812'], '2432.223543': ['2432.223543'], '2415.365688': ['2435.091116'], '2439.044892': ['2442.564186'], '2428.747697': ['2444.215213', '2472.195777'], '2430.833204': ['2441.782121'], '2408.935372': ['2422.664965'], '2434.830428': ['2441.521432'], '2446.431065': ['2454.816545'], '2426.271156': ['2446.474513'], '2466.373734': ['2495.657741'], '2451.427595': ['2536.498936'], '2476.584033': ['2478.278508'], '2467.850969': ['2507.128034'], '2476.236449': ['2476.236449'], '2356.623883': ['2441.782121'], '2342.286017': ['2359.230768'], '2336.637766': ['2363.575576'], '2345.240486': ['2356.623883'], '2383.561693': ['2383.561693'], '2355.754921': ['2382.692731'], '2348.803229': ['2372.265192'], '2374.003115': ['2392.90303'], '2359.230768': ['2383.952726', '2360.360418', '2423.751167'], '2386.603059': ['2388.340982'], '2370.744509': ['2387.298228'], '2360.968691': ['2386.168578'], '2364.444538': ['2380.867912'], '2340.982574': ['2372.265192'], '2281.198015': ['2344.936349', '2317.346818'], '2254.086413': ['2287.280747'], '2296.404844': ['2306.484798'], '2304.573083': ['2316.651649'], '2288.844878': ['2306.44135'], '2254.955375': ['2297.273805'], '2274.680803': ['2302.748263'], '2228.973423': ['2288.193156'], '2247.13472': ['2250.610567'], '2259.387079': ['2287.106954'], '2298.273111': ['2313.436491'], '2301.879302': ['2309.699956'], '2329.686073': ['2329.686073'], '2318.389572': ['2345.37083'], '2319.258534': ['2319.519222'], '2307.093071': ['2316.564753'], '2417.060163': ['2421.231179'], '2377.73965': ['2381.736874'], '2385.560305': ['2393.771992'], '2339.244651': ['2403.113329'], '2324.037823': ['2359.230768'], '2332.292958': ['2361.837653'], '2337.506728': ['2337.550176'], '2294.753817': ['2334.899843'], '2276.635967': ['2315.782687'], '2276.679415': ['2299.272417'], '2251.479528': ['2309.699956'], '2293.797959': ['2293.797959'], '2207.162486': ['2272.160815'], '2237.576143': ['2246.178863'], '2221.065872': ['2241.877503'], '2250.610567': ['2315.782687'], '2260.169145': ['2314.001316'], '2287.106954': ['2310.568918'], '2300.662755': ['2300.662755'], '2354.103894': ['2405.285733'], '2386.168578': ['2453.904135'], '2462.637199': ['2498.481866'], '2459.161353': ['2476.453689', '2527.244495'], '2459.074457': ['2476.540585'], '2449.342087': ['2459.074457'], '2459.508938': ['2488.706048'], '2474.889558': ['2474.889558'], '2454.729649': ['2462.550303'], '2430.48562': ['2443.085563'], '2440.478678': ['2445.779344'], '2430.70286': ['2454.46896'], '2434.222155': ['2450.471737'], '2395.075434': ['2441.782121'], '2466.113046': ['2475.671624'], '2489.661905': ['2502.957018'], '2499.481172': ['2499.481172', '2499.481172'], '2513.036973': ['2525.854156'], '2456.597916': ['2519.988666'], '2493.094304': ['2493.094304'], '2522.59555': ['2534.761013'], '2483.44883': ['2483.44883'], '2555.616092': ['2566.869144'], '2501.740472': ['2541.712706'], '2535.629975': ['2544.145798'], '2540.843744': ['2548.664399'], '2542.581667': ['2567.086385'], '2551.271283': ['2583.379415'], '2510.430088': ['2577.774613'], '2540.669952': ['2568.650516'], '2593.720058': ['2617.573054'], '2548.577502': ['2633.822636'], '2581.68494': ['2587.767671'], '2575.602209': ['2602.06209'], '2567.694658': ['2567.694658'], '2580.815978': ['2587.506983'], '2686.742398': ['2700.037511'], '2589.505594': ['2711.160219'], '2624.264059': ['2624.264059'], '2603.40898': ['2637.689515'], '2605.190351': ['2605.190351'], '2580.859426': ['2619.919251'], '2588.202152': ['2622.786824'], '2591.243517': ['2639.688127'], '2517.425229': ['2615.574443'], '2492.008102': ['2523.464512'], '2500.350133': ['2500.350133'], '2514.774896': ['2523.421064'], '2506.954241': ['2520.640387'], '2540.756848': ['2540.756848'], '2548.664399': ['2563.436746', '2570.605679'], '2560.047796': ['2562.524336'], '2513.384557': ['2565.000877'], '2495.874981': ['2517.642469'], '2492.790167': ['2492.790167'], '2473.064739': ['2523.464512'], '2487.141917': ['2521.726589'], '2495.570844': ['2514.557655'], '2495.744637': ['2535.673423'], '2393.380959': ['2503.478395'], '2379.216885': ['2411.281568'], '2383.648589': ['2397.030598'], '2389.557528': ['2415.713272'], '2354.972856': ['2415.713272'], '2311.437879': ['2367.225215'], '2321.60473': ['2356.406643'], '2324.472304': ['2369.701755'], '2350.541152': ['2359.925937'], '2363.575576': ['2393.207167'], '2402.852641': ['2404.590564'], '2421.8829': ['2434.700084'], '2399.854723': ['2427.009773'], '2398.420936': ['2401.809887'], '2358.752839': ['2400.940925'], '2318.824053': ['2346.196344'], '2296.665532': ['2323.603342'], '2307.088329': ['2314.026941'], '2304.48635': ['2320.098226'], '2277.59923': ['2305.353677'], '2272.395272': ['2285.405168', '2301.710905'], '2262.421018': ['2276.731904'], '2265.586759': ['2265.586759'], '2294.078433': ['2297.504372'], '2324.434858': ['2333.108123'], '2339.613071': ['2359.084549'], '2305.353677': ['2341.781387'], '2296.506947': ['2298.415065'], '2308.822982': ['2315.501396'], '2333.108123': ['2344.383366'], '2255.048743': ['2328.554659'], '2281.068536': ['2312.292288'], '2286.489326': ['2289.351504'], '2211.682421': ['2276.254874'], '2231.630929': ['2245.508152'], '2239.436867': ['2245.985182'], '2229.462613': ['2263.80874'], '2242.082213': ['2242.949539', '2256.826762'], '2225.559644': ['2250.451913'], '2246.375479': ['2275.517647'], '2284.79804': ['2285.708733'], '2290.392295': ['2303.402192'], '2298.284966': ['2305.353677'], '2291.302988': ['2298.415065'], '2251.232507': ['2306.351102'], '2285.405168': ['2285.405168'], '2259.385375': ['2291.476453', '2263.635275'], '2240.304194': ['2268.015273'], '2172.652731': ['2239.393501'], '2163.11214': ['2183.711143'], '2085.789988': ['2172.609365'], '2099.79731': ['2099.79731'], '2134.490368': ['2137.092347'], '2113.674533': ['2134.967397'], '2140.561653': ['2143.684028'], '2157.908182': ['2170.007386'], '2189.99926': ['2198.672524'], '2185.74936': ['2191.040052'], '2203.529553': ['2207.345789'], '2178.984214': ['2218.621033'], '2168.316099': ['2215.845588'], '2194.162427': ['2203.009157'], '2111.93988': ['2200.407177'], '2121.957501': ['2128.202251'], '2136.225021': ['2158.16838'], '2128.852746': ['2151.4466'], '2146.632938': ['2167.36204'], '2154.438876': ['2189.99926'], '2157.040855': ['2168.966594'], '2199.583217': ['2227.814693'], '2212.766579': ['2240.434293'], '2203.876483': ['2219.922022'], '2179.374511': ['2220.268953'], '2159.33927': ['2215.151727'], '2196.070545': ['2209.947768'], '2208.820244': ['2231.110533'], '2206.868759': ['2206.868759'], '2239.87053': ['2239.87053', '2239.87053'], '2146.37274': ['2267.624976'], '2110.942455': ['2140.605019'], '2079.805436': ['2115.409186'], '2055.520296': ['2085.789988'], '2070.308211': ['2077.420288'], '2079.76207': ['2103.266616'], '2124.863044': ['2142.296306'], '2107.603248': ['2148.974719'], '2090.256719': ['2105.3482'], '2097.195331': ['2131.021062'], '2050.359703': ['2116.276513'], '2044.201686': ['2059.032968'], '2060.333957': ['2060.333957'], '2043.768022': ['2043.768022', '2043.768022'], '2007.773975': ['2050.359703'], '1996.585464': ['2014.625854'], '2001.70269': ['2012.19734'], '1969.698344': ['2001.789423'], '1957.165477': ['1980.36646'], '1947.668253': ['1959.854189'], '1957.860668': ['1974.826532', '1984.157757'], '1979.067998': ['1979.067998', '1979.067998'], '1979.025583': ['1990.944102'], '1988.993028': ['1988.993028'], '1970.033675': ['1980.764584'], '1956.376155': ['1956.376155'], '1942.421732': ['1971.518188'], '1908.659663': ['1939.367877'], '1934.066044': ['1966.3436'], '1870.571299': ['1923.080647'], '1900.176731': ['1923.928941', '1967.955357'], '1977.54107': ['1995.100739'], '1983.309463': ['1995.906617'], '2024.663756': ['2042.689986'], '2103.767096': ['2103.767096', '2127.47689'], '2085.952939': ['2108.008561'], '2044.386573': ['2092.739284'], '2010.49726': ['2050.876016'], '1976.098971': ['2009.606552'], '2006.213379': ['2009.352064'], '1973.129945': ['2012.40592'], '1959.557254': ['1975.505166', '2022.670267', '1980.849413'], '2016.13841': ['2024.833415'], '2005.322672': ['2025.639293'], '1988.399223': ['2027.420709'], '2007.316161': ['2026.402757'], '1966.682917': ['2018.047069'], '2010.454845': ['2027.293465'], '1989.247516': ['2031.662175', '1989.247516'], '2001.971914': ['2003.626085'], '1925.625527': ['2001.887084', '1925.710356'], '1951.922616': ['1960.06623'], '1974.232726': ['1974.232726'], '1970.839554': ['1991.792395'], '1933.260166': ['1975.929313'], '1934.150873': ['1950.989493'], '1900.600878': ['1938.265095'], '1917.10018': ['1943.439684'], '2010.412431': ['2010.412431'], '1992.640688': ['2014.399409'], '1997.730448': ['2025.639293'], '2003.244353': ['2016.77463'], '2001.887084': ['2012.787652'], '2063.473169': ['2073.143712'], '2099.52563': ['2108.008561'], '2114.116272': ['2132.736308'], '2120.732959': ['2140.540605', '2149.574927', '2138.547116'], '2112.250027': ['2161.111715', '2120.732959', '2154.664687'], '2146.266584': ['2146.266584'], '2133.457357': ['2159.839275', '2158.821323'], '2154.664687': ['2158.906152', '2179.265189', '2172.478843'], '2117.339786': ['2151.229099'], '2106.311975': ['2119.884666'], '2106.227146': ['2106.227146'], '2118.10325': ['2118.10325'], '2116.406664': ['2123.235424'], '2112.207613': ['2120.308813'], '2111.401734': ['2126.671012'], '2112.462101': ['2123.277839'], '2086.801232': ['2156.106785'], '2088.497818': ['2090.194405'], '2043.623109': ['2074.119249'], '2046.083159': ['2059.65585'], '2082.305278': ['2082.305278'], '2028.777978': ['2079.972472'], '2089.346111': ['2096.641433'], '2070.259515': ['2107.160268'], '2096.174872': ['2108.008561'], '2082.729425': ['2111.783466'], '2119.884666': ['2126.628597'], '2095.284164': ['2133.457357', '2099.52563', '2129.215891'], '2085.104646': ['2133.457357'], '2063.939731': ['2089.176453'], '2116.321835': ['2140.074044'], '2101.052557': ['2101.052557'], '2104.615389': ['2145.333462'], '2059.613435': ['2129.215891'], '2002.820207': ['2071.616784'], '2009.606552': ['2022.543023'], '2022.33095': ['2051.00326'], '2013.848018': ['2043.411036'], '2069.835368': ['2095.284164'], '2081.117668': ['2081.117668'], '2091.212356': ['2096.98075'], '2036.751934': ['2099.52563'], '2031.492516': ['2061.352436'], '2045.319695': ['2077.342763'], '2078.275885': ['2093.799651'], '2065.593902': ['2098.677336'], '2074.034419': ['2078.445544'], '2156.361273': ['2184.354948'], '2184.439777': ['2191.141293'], '2181.810068': ['2205.562278'], '2188.681243': ['2192.83788'], '2176.762724': ['2201.320812'], '2146.181755': ['2190.208171'], '2148.59939': ['2175.193382'], '2136.892944': ['2136.892944'], '2073.228541': ['2153.05293'], '2088.073672': ['2103.979169'], '2084.044279': ['2110.341368'], '2078.3183': ['2086.801232'], '2083.662547': ['2102.749144'], '2061.352436': ['2102.706729'], '2078.742447': ['2085.910524'], '2076.621714': ['2108.856855'], '2103.682266': ['2103.682266'], '2011.387968': ['2091.042698'], '2031.662175': ['2034.885689'], '1972.281652': ['2040.145107'], '1963.88355': ['1963.88355'], '1960.405548': ['1974.275141'], '1922.232354': ['1970.118504'], '1915.446009': ['1945.305929'], '1951.074322': ['1959.557254'], '1936.610924': ['1936.610924'], '1906.963077': ['1945.899734'], '1901.873318': ['1913.834252'], '1978.983168': ['1979.067998'], '1929.866993': ['1959.472425'], '2014.696311': ['2017.707752'], '1993.616226': ['1993.616226'], '1955.400618': ['2009.606552'], '1963.79872': ['1963.79872'], '1973.978238': ['1980.085949'], '1883.380526': ['1934.108459'], '1862.936661': ['1882.362575'], '1887.452334': ['1887.452334'], '1896.020095': ['1896.020095'], '1881.641525': ['1921.299232'], '1904.418197': ['1936.186777'], '1877.145572': ['1916.209473'], '1917.990888': ['1925.625527'], '1878.926987': ['1945.857319'], '1861.536977': ['1925.625527'], '1881.090135': ['1905.181661'], '1984.751562': ['1998.324253'], '2099.568044': ['2128.028281'], '2125.01684': ['2159.966519'], '2136.85053': ['2167.389084'], '2179.265189': ['2180.113482'], '2116.491493': ['2182.488703'], '2150.423221': ['2160.43308'], '2171.63055': ['2177.568603'], '2158.863738': ['2183.209752'], '2187.19673': ['2190.293'], '2185.203241': ['2212.348623'], '2125.822718': ['2194.407222'], '2141.85546': ['2141.85546'], '2141.940289': ['2175.532699'], '2148.726634': ['2167.89806', '2163.317277'], '2107.669244': ['2133.245284'], '2135.153943': ['2141.85546'], '2115.6432': ['2145.333462'], '2114.710078': ['2136.680871'], '2231.011073': ['2253.066696'], '2161.451032': ['2229.314487'], '2127.519305': ['2182.615947'], '2167.389084': ['2178.077578'], '2137.613994': ['2140.58302'], '2158.906152': ['2169.933964'], '2153.568506': ['2169.331092'], '2164.340299': ['2173.406905'], '2139.386337': ['2165.130508'], '2146.040727': ['2170.16289'], '2121.086765': ['2151.197879'], '2114.390785': ['2125.245759'], '2123.124672': ['2149.367922'], '2079.496829': ['2141.091525', '2116.969362'], '2074.506036': ['2124.41396'], '1996.316956': ['2104.450791'], '2008.752347': ['2008.752347'], '2017.153514': ['2027.925307'], '2000.517539': ['2026.636019'], '2004.593353': ['2017.111924'], '1971.362994': ['2006.63126'], '1992.157962': ['2003.387245'], '1937.259246': ['1998.937122'], '1901.74144': ['1945.702003'], '1846.593184': ['1910.641686', '1866.348404'], '1884.855925': ['1894.338431'], '1814.984832': ['1885.063875', '1833.284404'], '1845.511845': ['1856.990668'], '1829.957209': ['1863.645058', '1842.3926'], '1833.034865': ['1859.901964'], '1867.221792': ['1880.696932'], '1872.378945': ['1905.526124'], '1948.072629': ['1952.273213'], '1928.566949': ['1955.558818'], '1924.158416': ['1938.922843'], '1923.326617': ['1942.250038'], '1916.006788': ['1943.705686'], '1921.45507': ['1938.091044', '1933.599331', '1929.523517'], '1913.137082': ['1933.058662'], '1904.819095': ['1947.15765'], '1783.45966': ['1924.782265'], '1838.275197': ['1849.08858', '1892.134164'], '1823.302819': ['1853.164394'], '1800.844254': ['1823.302819'], '1768.404103': ['1812.489436'], '1784.208279': ['1806.666845', '1794.023504'], '1815.317552': ['1817.480228'], '1772.563097': ['1824.342568'], '1728.602534': ['1786.786855'], '1671.91545': ['1738.376169', '1712.673588'], '1710.926811': ['1710.926811'], '1736.712571': ['1736.712571'], '1629.327355': ['1745.695998'], '1620.884598': ['1620.884598'], '1645.131531': ['1645.131531'], '1655.445835': ['1665.843319'], '1651.120482': ['1663.597463'], '1668.588255': ['1671.87386'], '1655.695375': ['1670.210263'], '1656.943073': ['1678.237121'], '1659.521649': ['1684.392431'], '1684.97469': ['1709.595933'], '1717.66438': ['1732.678348', '1752.807877'], '1716.541452': ['1730.141361'], '1719.743877': ['1742.285623'], '1747.609135': ['1759.503857'], '1742.867882': ['1742.867882'], '1759.254317': ['1759.254317'], '1751.768128': ['1751.768128'], '1747.733905': ['1752.599927'], '1739.582277': ['1770.067701'], '1696.827822': ['1745.113739'], '1688.551425': ['1702.858363', '1699.947067'], '1680.067078': ['1680.067078', '1680.067078'], '1686.097619': ['1692.710419'], '1692.710419': ['1692.710419', '1692.710419'], '1671.083652': ['1681.897035'], '1679.401639': ['1690.630922'], '1690.215022': ['1692.710419'], '1691.87862': ['1697.618031'], '1673.412688': ['1698.36665'], '1696.952592': ['1702.692003'], '1705.270579': ['1709.013674'], '1696.869412': ['1711.009991'], '1729.309563': ['1734.217175'], '1750.93633': ['1757.59072'], '1780.049285': ['1787.535474', '1787.452294'], '1763.413311': ['1793.358065'], '1755.095323': ['1787.992963'], '1762.290382': ['1762.290382'], '1766.740506': ['1779.716566'], '1761.375404': ['1779.217487'], '1719.327978': ['1766.574146'], '1803.33965': ['1837.734527'], '1780.132465': ['1798.224088'], '1814.153033': ['1818.519977'], '1830.040389': ['1832.452605'], '1842.43419': ['1848.755861'], '1854.911171': ['1863.229158'], '1865.433425': ['1865.433425'], '1882.526889': ['1883.192328', '1897.208137'], '1881.403961': ['1881.403961'], '1890.137847': ['1899.578763'], '1900.660101': ['1925.530883'], '1886.519523': ['1908.14629'], '1864.144137': ['1895.33659'], '1867.637692': ['1867.637692'], '1874.042542': ['1888.18312'], '1897.998345': ['1897.998345'], '1954.768609': ['1969.699396'], '1987.998968': ['2013.992679'], '2001.682057': ['2009.792095'], '1993.57202': ['2010.291174'], '2008.294857': ['2008.294857'], '2019.77368': ['2029.547315'], '2030.836603': ['2030.836603'], '2055.291486': ['2057.870062'], '2042.273835': ['2072.21859'], '2012.95293': ['2043.313584', '2031.252502', '2025.388321'], '2002.139547': ['2010.956613'], '2013.03611': ['2013.03611'], '1979.764161': ['2027.384638'], '1928.358999': ['1971.279814'], '1946.409032': ['1959.010782'], '1983.839975': ['1992.989761'], '2042.065886': ['2053.627888'], '2035.952165': ['2050.383873'], '2031.252502': ['2059.20094'], '2041.483627': ['2054.459687'], '2039.57049': ['2063.859013'], '2043.729483': ['2059.866379'], '2022.102716': ['2044.810822'], '2013.826319': ['2036.825554'], '2071.178841': ['2071.719511'], '2079.247289': ['2083.655822'], '2065.35625': ['2078.66503'], '2060.947717': ['2060.947717'], '2105.240999': ['2111.936979'], '2058.70186': ['2101.373135'], '2087.814816': ['2087.814816'], '2084.321261': ['2099.626358'], '2063.276753': ['2103.286272'], '2067.144617': ['2087.398917'], '2076.169634': ['2110.107022'], '2123.582161': ['2139.885417'], '2136.100732': ['2156.521391'], '2170.079711': ['2177.10841'], '2162.676702': ['2196.94681', '2181.724893'], '2183.47167': ['2193.910744', '2194.243464', '2215.620691'], '2170.66197': ['2190.08447'], '2179.312676': ['2186.050246', '2183.30531'], '2151.03152': ['2174.987323'], '2198.028148': ['2213.250065'], '2207.593833': ['2225.519096'], '2176.98364': ['2207.593833'], '2221.068973': ['2229.47014'], '2213.416424': ['2241.697581'], '2211.752827': ['2233.379594'], '2233.379594': ['2233.379594'], '2201.771242': ['2235.87499'], '2212.584626': ['2224.105038'], '2200.107645': ['2227.723363'], '2120.712456': ['2183.43008'], '2113.683757': ['2129.238393'], '2116.927772': ['2141.590604'], '2141.881734': ['2149.908591'], '2138.304999': ['2138.304999'], '2157.685909': ['2183.26372'], '2141.257884': ['2141.257884'], '2171.826488': ['2171.826488'], '2147.662735': ['2186.175016'], '2125.245759': ['2150.199721'], '2091.97381': ['2129.404753'], '2096.132803': ['2098.50343'], '2109.108863': ['2116.886182'], '2104.201251': ['2104.201251'], '2079.455239': ['2113.600577'], '2019.191421': ['2086.650298'], '1982.176377': ['2018.983471'], '1975.521987': ['2000.475949'], '1967.28718': ['2030.337524'], '2006.29854': ['2006.29854'], '1987.167169': ['2020.439119'], '1938.257404': ['1967.07923'], '1965.540402': ['1969.824166'], '1959.717811': ['1980.30483', '1972.485922'], '1939.754642': ['1960.42484'], '1924.782265': ['1960.50802'], '1943.165017': ['1943.165017', '1943.165017', '1943.165017'], '1922.286868': ['1960.84074'], '1954.685429': ['1961.547769'], '1953.105011': ['1987.583069'], '1963.876805': ['1987.333529'], '1997.148754': ['2008.710757'], '1999.477791': ['2043.729483'], '2014.574938': ['2029.588905'], '2000.392769': ['2019.77368'], '1926.445862': ['2000.475949'], '1919.250803': ['1940.087361'], '1934.09841': ['1958.886013'], '1956.265847': ['1956.265847'], '1956.390616': ['1967.07923'], '1963.460906': ['1974.149519'], '1930.729626': ['1930.729626'], '1970.323245': ['1975.230858'], '1950.568025': ['1982.134787'], '1915.050219': ['1953.89522'], '1846.759544': ['1925.614063'], '1884.107307': ['1896.459518'], '1884.814336': ['1918.585364'], '1896.251568': ['1912.138924'], '1878.783795': ['1878.783795'], '1896.750647': ['1916.297918'], '1888.18312': ['1916.963357'], '1868.136771': ['1900.660101'], '1892.258934': ['1894.047301'], '1892.342114': ['1892.342114'], '1840.770593': ['1895.33659'], '1780.465185': ['1838.275197'], '1767.655484': ['1800.386764'], '1775.890292': ['1775.890292'], '1791.195388': ['1800.844254'], '1777.553889': ['1792.027187'], '1782.503092': ['1784.083509'], '1767.572304': ['1774.185104'], '1807.457054': ['1811.657637'], '1742.618342': ['1797.517059'], '1724.984209': ['1729.309563'], '1728.477764': ['1742.285623'], '1725.233749': ['1745.945537'], '1733.510146': ['1733.510146'], '1740.122946': ['1753.473316'], '1754.013985': ['1757.42436'], '1757.59072': ['1765.825527'], '1738.750478': ['1757.13323'], '1725.982368': ['1734.217175'], '1732.803117': ['1742.743112'], '1731.638599': ['1738.459349'], '1773.644435': ['1793.358065'], '1792.526266': ['1796.9348'], '1772.147197': ['1804.171449'], '1775.016903': ['1791.694468'], '1776.88845': ['1807.914543'], '1801.676052': ['1824.966417'], '1851.583976': ['1862.39736'], '1913.220262': ['1921.45507'], '1928.941258': ['1929.606697'], '1909.063046': ['1925.222918'], '1884.599359': ['1915.331611'], '1870.474735': ['1895.874636'], '1868.317372': ['1887.082362'], '1878.941369': ['1888.710561'], '1815.278797': ['1866.526353'], '1802.253207': ['1820.326213'], '1774.736648': ['1792.646834'], '1762.606567': ['1793.867983'], '1754.384163': ['1768.997247'], '1769.037952': ['1774.940173', '1799.159629'], '1766.595654': ['1770.584741'], '1782.877642': ['1813.813418'], '1761.344713': ['1785.116415'], '1750.313667': ['1782.755527'], '1774.329598': ['1798.26412'], '1674.521014': ['1772.701399'], '1635.525654': ['1672.160126'], '1644.480747': ['1644.480747', '1652.621741', '1644.480747'], '1603.897893': ['1648.551244'], '1608.660374': ['1622.418654'], '1585.824887': ['1620.098471'], '1583.626819': ['1592.256272'], '1591.523583': ['1598.036378'], '1620.057766': ['1620.057766', '1638.700642', '1629.012859'], '1602.880269': ['1619.976356'], '1627.913825': ['1627.913825'], '1637.235263': ['1651.563412'], '1523.17994': ['1607.032176'], '1541.090126': ['1546.788822', '1554.115716'], '1602.961679': ['1602.961679'], '1624.128263': ['1705.293971'], '1664.833232': ['1676.067803', '1672.160126', '1667.926809'], '1621.278915': ['1664.873937'], '1595.634784': ['1628.19876'], '1555.825325': ['1594.820685'], '1522.36584': ['1568.769505'], '1538.647828': ['1538.647828'], '1546.788822': ['1553.057387', '1561.3612'], '1563.030104': ['1565.472402'], '1554.929815': ['1567.059896', '1562.907989'], '1559.000312': ['1569.624309', '1561.483315', '1566.652846'], '1556.680129': ['1556.680129'], '1578.945747': ['1586.679691'], '1617.004893': ['1619.976356'], '1627.181135': ['1627.38466'], '1643.666648': ['1643.666648'], '1631.984322': ['1631.984322'], '1628.19876': ['1640.98012', '1658.320437', '1635.729179'], '1636.787508': ['1657.424927'], '1641.265055': ['1641.265055'], '1621.48244': ['1648.388424'], '1625.756461': ['1649.121114'], '1636.095524': ['1641.30576'], '1634.34521': ['1634.34521'], '1642.771138': ['1650.993542'], '1659.948635': ['1662.146704'], '1646.597406': ['1646.597406'], '1633.531111': ['1675.335114'], '1672.892816': ['1673.218455'], '1681.115219': ['1684.371617'], '1687.994359': ['1693.32671'], '1696.257468': ['1696.583107'], '1684.127387': ['1709.608698'], '1693.32671': ['1707.00358'], '1659.622996': ['1697.152977'], '1649.365343': ['1675.986393'], '1639.596151': ['1657.262107'], '1614.52189': ['1648.307014'], '1606.136666': ['1617.981812'], '1638.659937': ['1640.369545'], '1629.867663': ['1639.596151'], '1607.276406': ['1607.276406'], '1606.950766': ['1620.790455'], '1603.979303': ['1634.50803'], '1615.173169': ['1625.675051'], '1636.339753': ['1659.297356', '1639.677561', '1648.510539'], '1594.006586': ['1640.41025'], '1599.705281': ['1632.269256', '1615.824449'], '1567.385536': ['1598.891182'], '1571.211803': ['1572.025902', '1580.655356'], '1558.186213': ['1568.81021'], '1580.980996': ['1589.895384'], '1567.141306': ['1593.965881'], '1563.803499': ['1563.803499'], '1549.434645': ['1573.654101'], '1515.690225': ['1554.359946'], '1516.422915': ['1528.797225'], '1505.269753': ['1518.295343'], '1477.590374': ['1517.481244'], '1515.038946': ['1515.038946'], '1506.083853': ['1513.817797'], '1502.013356': ['1521.836676'], '1550.615089': ['1550.615089'], '1579.108567': ['1579.108567'], '1581.550865': ['1595.18703'], '1580.940291': ['1583.423294'], '1547.887856': ['1579.189977'], '1538.810648': ['1549.23112'], '1528.878635': ['1545.160623'], '1481.660871': ['1532.135033'], '1547.643626': ['1573.979741'], '1554.115716': ['1571.211803'], '1587.493791': ['1602.147579', '1635.525654'], '1552.324697': ['1585.865592'], '1563.070809': ['1566.327207', '1563.111514', '1563.070809'], '1575.03807': ['1577.724598'], '1586.679691': ['1587.005331'], '1582.609194': ['1589.936089'], '1575.2823': ['1584.237393', '1586.679691'], '1577.887418': ['1588.959169'], '1553.098092': ['1578.538697'], '1525.622238': ['1550.045219'], '1537.019629': ['1545.649082'], '1542.92185': ['1560.628511', '1567.100601'], '1551.022138': ['1557.738458'], '1558.349033': ['1561.157676'], '1542.636915': ['1565.513107'], '1530.506834': ['1546.626002'], '1543.532424': ['1546.707412'], '1561.44261': ['1570.194179'], '1551.673418': ['1564.007023', '1585.051492'], '1578.823632': ['1581.143815'], '1590.343138': ['1599.705281'], '1620.342701': ['1620.342701'], '1585.947002': ['1623.721213'], '1573.898331': ['1598.402722'], '1541.578586': ['1580.899586'], '1567.100601': ['1583.423294'], '1526.436337': ['1582.039325', '1559.000312'], '1556.558014': ['1566.734256', '1570.886163'], '1555.743915': ['1577.724598'], '1609.677999': ['1610.288573'], '1624.087558': ['1639.107691'], '1611.916772': ['1635.525654'], '1617.615468': ['1618.266747'], '1579.352797': ['1603.775778'], '1603.775778': ['1606.218076'], '1581.42875': ['1593.029666'], '1594.820685': ['1599.705281'], '1600.804315': ['1625.756461'], '1580.166896': ['1611.102673'], '1587.453086': ['1611.102673'], '1580.248306': ['1598.891182'], '1571.456033': ['1586.679691'], '1579.434207': ['1587.493791'], '1647.655735': ['1647.77785'], '1652.621741': ['1662.309524', '1672.648586'], '1677.044722': ['1677.044722'], '1656.529418': ['1656.529418'], '1656.448008': ['1677.044722'], '1640.41025': ['1678.672921'], '1671.346027': ['1673.462685'], '1705.538201': ['1716.935592'], '1701.467704': ['1717.220527'], '1709.649403': ['1709.649403'], '1733.21758': ['1734.031679'], '1729.879772': ['1729.879772'], '1726.867604': ['1745.34766'], '1734.031679': ['1756.012362'], '1713.719899': ['1747.871368'], '1687.628014': ['1719.37789'], '1697.600732': ['1717.261232'], '1693.40812': ['1716.650657'], '1697.397207': ['1726.704785'], '1750.069437': ['1750.069437'], '1758.45466': ['1758.45466'], '1762.525157': ['1765.700145'], '1757.070691': ['1765.41521'], '1730.490347': ['1730.490347', '1730.490347'], '1729.513427': ['1758.006906'], '1741.358573': ['1742.986772'], '1743.393822': ['1763.257847'], '1758.658185': ['1771.39884'], '1716.935592': ['1773.922549'], '1754.587688': ['1758.45466'], '1725.076586': ['1739.730375'], '1729.961182': ['1751.941865'], '1668.903729': ['1729.961182', '1678.672921'], '1610.288573': ['1639.596151'], '1633.246176': ['1650.098033'], '1607.846275': ['1660.762735'], '1612.405232': ['1639.351921'], '1672.974225': ['1679.039266'], '1632.554191': ['1663.408558'], '1613.178626': ['1648.469834'], '1637.153853': ['1665.565921'], '1596.855933': ['1639.514741'], '1613.544971': ['1636.421163'], '1593.192486': ['1637.153853'], '1570.560523': ['1618.633092'], '1555.6218': ['1555.6218'], '1553.301617': ['1567.141306'], '1550.696499': ['1576.910499'], '1518.295343': ['1545.811902'], '1517.481244': ['1534.699446', '1537.508089'], '1495.500561': ['1522.36584'], '1416.899266': ['1506.083853'], '1424.511095': ['1429.802741'], '1392.109939': ['1420.074253'], '1434.443107': ['1451.335669'], '1455.609691': ['1479.910558'], '1445.840498': ['1462.895881'], '1404.32143': ['1460.494287'], '1440.955902': ['1469.449381'], '1432.814908': ['1452.882458'], '1489.84257': ['1493.058263'], '1553.790076': ['1553.790076'], '1522.12161': ['1557.372114'], '1470.26348': ['1522.20302'], '1453.981492': ['1479.869853'], '1450.969325': ['1450.969325'], '1428.744412': ['1461.308387'], '1477.346144': ['1485.731368'], '1521.551741': ['1521.551741'], '1589.691859': ['1600.682201'], '1566.327207': ['1591.279353'], '1629.094269': ['1640.41025'], '1648.551244': ['1668.903729'], '1633.85675': ['1668.903729'], '1624.616722': ['1651.807642'], '1597.262983': ['1636.339753'], '1535.79848': ['1618.226042'], '1534.414511': ['1561.44261'], '1518.051113': ['1552.365402'], '1530.262604': ['1531.320933'], '1545.974722': ['1560.709921'], '1515.161061': ['1526.436337'], '1541.415766': ['1541.415766'], '1520.574822': ['1542.02634'], '1502.809041': ['1516.080808'], '1517.908656': ['1565.512179'], '1532.213555': ['1537.776571'], '1464.265288': ['1541.750154'], '1420.237989': ['1486.91471'], '1416.820708': ['1425.56259'], '1425.721534': ['1438.436999', '1437.642282'], '1454.33133': ['1454.33133'], '1434.582624': ['1460.410912'], '1441.615865': ['1474.199245'], '1450.556427': ['1462.993741'], '1426.714929': ['1461.682459'], '1404.820488': ['1444.476845'], '1361.349491': ['1410.145089', '1375.65439', '1361.349491'], '1378.753784': ['1378.753784'], '1417.774368': ['1417.774368', '1417.774368'], '1402.873432': ['1422.065837'], '1393.376569': ['1410.462976'], '1383.601555': ['1390.754004'], '1390.595061': ['1394.250757'], '1401.08532': ['1401.880037'], '1398.303812': ['1410.224561'], '1446.4239': ['1446.662315'], '1460.609591': ['1460.609591'], '1445.509976': ['1465.218947', '1459.09963'], '1458.543328': ['1478.172828'], '1449.404088': ['1468.636229'], '1433.907114': ['1448.688843'], '1467.841512': ['1467.841512', '1478.172828'], '1474.199245': ['1490.490935', '1514.72979'], '1474.159509': ['1485.325277'], '1488.464407': ['1500.424892'], '1446.582844': ['1492.477726', '1449.563031'], '1436.052849': ['1458.304913'], '1458.265177': ['1497.047346'], '1420.953234': ['1461.48378'], '1471.020378': ['1484.05373'], '1451.947181': ['1478.967544'], '1462.278496': ['1476.543659', '1480.119883'], '1468.636229': ['1471.974038'], '1455.404198': ['1476.027093'], '1438.595942': ['1463.828193'], '1478.172828': ['1482.14641'], '1494.385046': ['1509.166774', '1494.385046'], '1513.935073': ['1523.511408'], '1509.961491': ['1536.981854'], '1458.304913': ['1513.935073'], '1446.384165': ['1473.404528'], '1434.463416': ['1434.463416'], '1394.767323': ['1442.013224'], '1426.51625': ['1443.205298', '1438.436999'], '1424.211572': ['1424.211572'], '1424.569195': ['1444.158958'], '1411.416635': ['1434.463416'], '1364.766773': ['1414.595502'], '1358.170625': ['1393.932871'], '1339.097427': ['1374.819937', '1355.627532'], '1374.859673': ['1378.038539'], '1345.137273': ['1370.88609'], '1360.872661': ['1367.707224'], '1359.561379': ['1372.952353'], '1327.25615': ['1367.786695'], '1392.899739': ['1396.5157'], '1428.9004': ['1444.993411'], '1430.132211': ['1430.132211'], '1423.297648': ['1457.19231'], '1431.483229': ['1431.483229'], '1459.09963': ['1461.48378'], '1398.740906': ['1463.867929'], '1470.225662': ['1472.252189'], '1451.66903': ['1470.225662'], '1447.973598': ['1474.993961'], '1478.411243': ['1498.001006'], '1502.25274': ['1503.285871'], '1549.49864': ['1556.849768'], '1579.976021': ['1580.015757'], '1602.545971': ['1606.479818'], '1578.823682': ['1607.03612'], '1564.002218': ['1591.777562'], '1570.35995': ['1578.386588'], '1571.949383': ['1588.55896'], '1609.062647': ['1609.658685'], '1567.9758': ['1622.970187'], '1573.459345': ['1584.505905'], '1539.366004': ['1570.201007'], '1573.538816': ['1588.55896'], '1589.433148': ['1605.327479'], '1565.591651': ['1605.248008'], '1569.565234': ['1591.022581'], '1581.684661': ['1591.340468'], '1553.670902': ['1586.413225'], '1565.671122': ['1573.538816'], '1585.658244': ['1597.499521'], '1609.301062': ['1610.811024'], '1649.036891': ['1654.75885', '1649.036891'], '1623.049659': ['1656.904585'], '1622.334414': ['1638.904255'], '1644.268592': ['1664.136506'], '1645.937496': ['1654.162813'], '1668.904805': ['1683.448119', '1694.335736'], '1628.096109': ['1676.057255'], '1637.116142': ['1656.427755'], '1613.51306': ['1650.387909'], '1617.089285': ['1648.957419'], '1627.579544': ['1632.66573'], '1653.80519': ['1676.335405'], '1656.864849': ['1672.083672'], '1586.254282': ['1667.315372'], '1614.903814': ['1624.956979'], '1635.526709': ['1655.156209'], '1642.520215': ['1642.520215'], '1641.089725': ['1657.778773'], '1653.010474': ['1676.851971'], '1684.799137': ['1711.581085'], '1659.368206': ['1689.845587'], '1688.77272': ['1703.077618'], '1704.86573': ['1708.640634'], '1715.395725': ['1730.097982'], '1748.376463': ['1751.555329'], '1751.555329': ['1760.69457'], '1751.277178': ['1760.297211'], '1760.297211': ['1761.131664', '1771.423243'], '1703.872335': ['1760.297211'], '1706.256484': ['1708.640634'], '1701.488185': ['1710.071124'], '1692.587359': ['1722.428967'], '1709.037992': ['1716.428857'], '1673.951256': ['1720.481911', '1673.951256'], '1653.169417': ['1689.130342'], '1692.746303': ['1704.667051'], '1674.229406': ['1713.846028'], '1678.640083': ['1680.825554'], '1651.421041': ['1685.593853'], '1656.904585': ['1673.593633'], '1635.486973': ['1670.613446'], '1598.17503': ['1640.295009'], '1539.922305': ['1600.956538'], '1530.624122': ['1566.783726'], '1551.286752': ['1560.74388'], '1541.750154': ['1558.439202'], '1559.233918': ['1568.730781'], '1531.418838': ['1568.373159'], '1536.505024': ['1552.319884'], '1548.823131': ['1550.492036'], '1487.709427': ['1571.830176'], '1480.119883': ['1480.119883'], '1453.536614': ['1482.941127', '1470.305134'], '1444.794732': ['1454.172387', '1472.609812'], '1448.768314': ['1466.212343'], '1451.152464': ['1462.755326'], '1478.133092': ['1480.159619'], '1442.410582': ['1477.060224'], '1458.940687': ['1472.768755'], '1454.410802': ['1470.14619'], '1463.867929': ['1463.867929'], '1474.993961': ['1475.788678'], '1490.093576': ['1490.093576'], '1467.046796': ['1487.709427'], '1467.245475': ['1488.861766'], '1472.013774': ['1489.616746'], '1500.424892': ['1508.372057'], '1430.489833': ['1445.947071', '1438.357527'], '1439.231715': ['1445.072882', '1453.457142'], '1422.542667': ['1440.741677'], '1400.290603': ['1426.436779'], '1402.674753': ['1421.747951'], '1406.052299': ['1406.052299'], '1416.979651': ['1418.529349'], '1414.595502': ['1430.489833'], '1409.032486': ['1426.51625'], '1398.70117': ['1414.595502'], '1398.860114': ['1410.621919'], '1394.966002': ['1401.164792'], '1376.528578': ['1401.08532'], '1384.396272': ['1403.9463'], '1382.806839': ['1402.674753', '1394.727587'], '1362.938924': ['1392.820268'], '1391.548721': ['1404.264186'], '1399.694566': ['1399.694566'], '1431.28455': ['1442.410582', '1452.702161'], '1438.754886': ['1438.754886'], '1461.48378': ['1463.152684'], '1403.548941': ['1436.887302'], '1430.966663': ['1449.960389'], '1388.13144': ['1434.225001'], '1389.601665': ['1389.601665'], '1386.780422': ['1394.727587'], '1390.992419': ['1406.250978'], '1370.965562': ['1398.70117'], '1347.044593': ['1373.349712'], '1367.309866': ['1368.780091'], '1351.018176': ['1366.912507'], '1331.944978': ['1362.938924'], '1311.282347': ['1345.216745'], '1314.461213': ['1314.461213'], '1304.924614': ['1312.87178'], '1319.229513': ['1327.057471'], '1285.851417': ['1327.176679'], '1295.427751': ['1295.427751'], '1291.414433': ['1311.202875'], '1340.68686': ['1340.68686'], '1373.906013': ['1373.906013'], '1358.130889': ['1364.170735'], '1372.475523': ['1379.627972'], '1357.93221': ['1380.780311'], '1353.402326': ['1364.846244', '1355.786475'], '1348.157196': ['1348.157196'], '1346.249876': ['1356.02489'], '1341.958407': ['1341.958407'], '1331.150261': ['1363.177339'], '1343.07101': ['1346.249876'], '1335.123844': ['1358.528247'], '1324.792529': ['1338.620597'], '1303.335181': ['1347.561159'], '1294.513827': ['1306.434576'], '1280.328137': ['1286.606397'], '1282.67255': ['1296.739034'], '1263.798032': ['1294.593299'], '1277.665836': ['1286.089832'], '1259.62577': ['1280.844702'], '1269.122633': ['1276.235346'], '1243.731438': ['1269.122633'], '1227.837107': ['1247.546078'], '1233.400123': ['1255.493244', '1242.142005'], '1255.652187': ['1262.645693'], '1210.393078': ['1268.367652'], '1215.916358': ['1243.731438', '1219.492583'], '1148.365449': ['1211.942775'], '1184.127695': ['1186.591317'], '1196.048444': ['1201.373045', '1206.340023'], '1188.260221': ['1194.975576'], '1207.969192': ['1207.969192'], '1200.022027': ['1220.327035'], '1234.194839': ['1241.42676'], '1212.240945': ['1228.37842', '1218.804033'], '1198.574279': ['1213.785201'], '1216.101585': ['1219.962225'], '1213.013073': ['1219.190097'], '1204.519665': ['1209.924561'], '1206.372772': ['1211.314391'], '1196.605353': ['1209.924561'], '1193.902905': ['1204.403846'], '1176.723057': ['1203.631718'], '1182.745655': ['1192.937745'], '1185.216465': ['1189.849233', '1208.843581'], '1189.077105': ['1193.053564', '1189.077105'], '1188.691041': ['1200.659025'], '1195.176916': ['1196.798385'], '1196.798385': ['1217.645841', '1209.924561'], '1202.975409': ['1221.815332'], '1183.093113': ['1217.182564'], '1158.191985': ['1196.798385', '1182.05074', '1158.191985'], '1144.795565': ['1157.342645'], '1142.749426': ['1161.666561', '1180.197633'], '1164.369009': ['1169.310628'], '1178.267313': ['1180.583697'], '1177.495185': ['1183.710815', '1183.054507', '1195.949044', '1196.798385'], '1154.331345': ['1173.595939', '1181.240006'], '1163.7127': ['1177.495185'], '1134.256018': ['1164.369009'], '1155.103473': ['1155.528144'], '1174.406673': ['1186.760721'], '1185.370891': ['1189.077105'], '1184.444337': ['1200.659025'], '1258.568624': ['1264.359584', '1258.568624'], '1231.544144': ['1257.796496', '1231.544144'], '1221.699513': ['1250.075216'], '1217.645841': ['1234.632656'], '1150.470705': ['1209.229645'], '1179.078047': ['1195.98765'], '1203.747537': ['1203.747537', '1209.07522'], '1224.594992': ['1227.683504'], '1253.935856': ['1265.440563', '1272.466928', '1304.664665'], '1254.283314': ['1254.283314'], '1231.466932': ['1259.186326'], '1243.126064': ['1261.657136'], '1272.852992': ['1288.565796'], '1267.911373': ['1302.425494'], '1285.901955': ['1301.035664'], '1320.416076': ['1327.905718'], '1326.940558': ['1357.401007'], '1332.692911': ['1343.386884'], '1297.175024': ['1339.642063'], '1274.011184': ['1297.097811', '1319.373703', '1281.732464', '1292.38783'], '1269.996118': ['1282.002709'], '1262.58369': ['1302.657132'], '1274.628886': ['1274.628886'], '1272.466928': ['1277.871824', '1304.124175', '1283.778603'], '1280.728697': ['1286.288019'], '1257.950922': ['1280.38124'], '1261.232466': ['1261.232466', '1261.232466'], '1261.657136': ['1272.312502'], '1284.820976': ['1289.453744'], '1302.579919': ['1309.529071'], '1281.732464': ['1303.00459', '1301.035664'], '1263.201392': ['1282.620411'], '1287.909488': ['1287.909488'], '1291.770128': ['1299.336982'], '1328.060143': ['1328.060143'], '1301.035664': ['1345.8963'], '1338.059201': ['1347.363343'], '1298.333216': ['1343.309671', '1311.652423'], '1324.12229': ['1324.12229', '1337.016828'], '1324.23811': ['1339.101573'], '1340.491404': ['1356.706092'], '1357.401007': ['1366.473511'], '1388.67219': ['1396.779534'], '1379.831325': ['1393.382171'], '1358.945263': ['1396.239045', '1369.175959'], '1363.578031': ['1370.527183'], '1338.252233': ['1338.252233'], '1327.249409': ['1354.312495'], '1304.896303': ['1355.00741'], '1331.920783': ['1335.781423', '1341.804021', '1343.502703'], '1388.286126': ['1388.286126'], '1392.494224': ['1403.998931'], '1370.527183': ['1423.302131'], '1324.199503': ['1372.264471', '1354.312495', '1324.199503'], '1382.88123': ['1397.513056'], '1385.969742': ['1404.423601'], '1397.551662': ['1420.715502'], '1382.302134': ['1411.449966'], '1393.189139': ['1393.189139'], '1405.272942': ['1409.094976'], '1334.159954': ['1415.310606'], '1347.363343': ['1362.805903'], '1353.810612': ['1353.810612'], '1340.452797': ['1362.033775'], '1319.566735': ['1350.451855'], '1266.289904': ['1283.27672'], '1261.579923': ['1271.6948'], '1242.353936': ['1263.201392'], '1251.078983': ['1254.707984'], '1251.619472': ['1266.135478'], '1212.047913': ['1243.126064'], '1185.177859': ['1205.253186'], '1233.860528': ['1236.215519'], '1226.023429': ['1226.023429'], '1223.784258': ['1242.817213', '1255.981995'], '1219.962225': ['1233.0884'], '1205.562038': ['1228.957516'], '1135.028146': ['1216.101585'], '1132.325698': ['1144.602533'], '1131.167506': ['1136.572402', '1137.383136', '1134.217411'], '1101.903855': ['1128.851122'], '1104.143026': ['1114.952818', '1119.740011'], '1148.81063': ['1149.814397'], '1129.62325': ['1147.382193'], '1109.470709': ['1130.395378'], '1101.015908': ['1130.395378'], '1112.636434': ['1118.04133', '1153.288973'], '1120.859597': ['1137.383136'], '1100.282386': ['1138.116658', '1115.763552'], '1140.973531': ['1160.662795'], '1235.404784': ['1235.404784'], '1244.67032': ['1248.067683'], '1235.366178': ['1244.979171'], '1255.480112': ['1268.37465'], '1246.986704': ['1261.888774'], '1234.709869': ['1250.075216'], '1250.847344': ['1250.847344'], '1228.455632': ['1250.847344'], '1277.833217': ['1283.160901'], '1274.59028': ['1280.110995'], '1276.327568': ['1318.717394'], '1264.745648': ['1281.732464'], '1244.940565': ['1287.909488'], '1307.984815': ['1308.409486'], '1327.288015': ['1327.288015'], '1331.071442': ['1342.730575'], '1312.849222': ['1312.849222'], '1324.508354': ['1331.920783'], '1308.949975': ['1328.060143'], '1312.617583': ['1335.626997'], '1247.758832': ['1278.643952'], '1271.6948': ['1287.02154'], '1236.794615': ['1294.781427'], '1234.632656': ['1244.631714'], '1258.530018': ['1260.923614'], '1320.338863': ['1334.159954'], '1339.642063': ['1355.856751', '1348.907599'], '1356.628879': ['1370.44997'], '1341.958447': ['1354.235282'], '1347.170311': ['1347.170311'], '1365.894415': ['1366.126053'], '1334.430199': ['1339.642063'], '1316.478223': ['1349.64112', '1362.651477'], '1334.546018': ['1351.223983'], '1361.261647': ['1366.396298'], '1389.598744': ['1408.013997'], '1352.497994': ['1352.497994', '1352.497994'], '1283.27672': ['1317.250351'], '1257.796496': ['1277.833217'], '1268.606288': ['1277.871824'], '1262.429264': ['1273.972577', '1268.220224'], '1224.826631': ['1266.251298'], '1224.981056': ['1239.188211'], '1223.822864': ['1248.492354'], '1210.696689': ['1227.29744'], '1154.408558': ['1214.480116'], '1171.627012': ['1187.918913'], '1156.609123': ['1156.609123'], '1159.659029': ['1169.387841'], '1173.248481': ['1183.788028'], '1181.355825': ['1208.727762'], '1162.052625': ['1195.485767', '1248.53096'], '1193.594054': ['1193.594054'], '1197.570513': ['1197.570513'], '1257.140187': ['1261.271072'], '1240.80968': ['1258.568624'], '1258.452805': ['1259.340752'], '1258.761656': ['1265.093106'], '1239.265424': ['1268.297437'], '1240.037552': ['1250.847344'], '1257.024368': ['1274.011184'], '1264.900074': ['1273.161843'], '1270.691033': ['1290.998'], '1289.453744': ['1308.641124'], '1265.517776': ['1265.90384'], '1214.981999': ['1214.981999', '1214.981999'], '1226.911376': ['1227.683504'], '1169.773905': ['1191.007425'], '1173.827577': ['1204.519665'], '1146.610065': ['1212.627009'], '1103.9886': ['1151.860536'], '1091.01685': ['1123.060162'], '1119.778618': ['1125.724003'], '1127.306866': ['1136.495189'], '1123.098768': ['1123.098768'], '1138.888786': ['1146.224001'], '1049.321939': ['1134.178805'], '1051.831355': ['1117.50084'], '1078.662802': ['1096.267321'], '1123.446226': ['1126.843589'], '1128.156207': ['1138.116658'], '1142.324755': ['1161.936806'], '1136.958466': ['1156.184453'], '1117.269202': ['1144.293682'], '1106.845474': ['1121.90197'], '1116.497074': ['1122.558279'], '1119.122309': ['1124.218354'], '1101.826642': ['1107.038506'], '1111.864306': ['1118.195755'], '1103.13926': ['1114.18069'], '1100.784269': ['1108.003666'], '1092.792745': ['1103.370898'], '1126.534738': ['1129.777675'], '1108.003666': ['1125.76261'], '1112.25037': ['1123.446226'], '1127.345472': ['1129.62325'], '1129.237186': ['1140.046978'], '1106.45941': ['1130.395378'], '1094.105362': ['1114.18069'], '1100.977301': ['1115.724946'], '1121.747544': ['1121.747544'], '1105.764495': ['1110.937752'], '1092.406681': ['1097.000842'], '1076.346418': ['1095.649618'], '1042.802304': ['1069.478293'], '1043.777798': ['1083.547908'], '1005.508446': ['1046.779315'], '1008.509964': ['1050.418656', '1014.13781'], '994.740501': ['1010.761102'], '990.500858': ['997.254273', '1002.506929', '992.751996', '1005.058219'], '1000.25579': ['1008.28485'], '1005.696041': ['1023.855224'], '1024.267932': ['1024.267932'], '1034.022865': ['1034.92332'], '1009.447938': ['1033.272486'], '1001.681511': ['1011.436444'], '1002.506929': ['1004.607991', '1014.663075'], '1004.382877': ['1008.509964'], '1013.76262': ['1014.513'], '1020.516035': ['1020.516035', '1027.194412'], '1031.771727': ['1042.277039'], '994.252755': ['1031.621651'], '1010.160799': ['1024.192894'], '996.428855': ['1016.013758', '999.392854'], '976.243648': ['992.001616'], '974.742889': ['980.745925'], '982.246684': ['982.321722'], '995.753514': ['995.753514', '1004.532953'], '973.99251': ['1002.056701'], '975.493269': ['982.846987'], '988.324757': ['997.854576'], '976.994028': ['990.500858', '997.479386'], '997.179235': ['998.755031'], '983.072101': ['1022.767173'], '989.600402': ['1005.508446'], '987.349264': ['997.967133'], '973.242131': ['995.378324'], '998.004652': ['1006.859129', '1009.260344', '1014.513', '1008.134774', '1020.065807'], '967.989474': ['994.252755'], '978.494787': ['985.66091'], '1022.016794': ['1022.016794', '1040.0259'], '1070.153635': ['1091.802082'], '1109.285923': ['1122.830271'], '1105.308912': ['1125.944346'], '1107.972759': ['1121.817259'], '1117.990324': ['1121.817259'], '1108.310429': ['1118.065362'], '1099.305876': ['1113.713161', '1099.305876', '1115.814224'], '1110.561568': ['1113.675642'], '1095.553979': ['1110.11134'], '1073.192672': ['1096.266839'], '1073.042596': ['1090.301323', '1073.042596'], '1046.96691': ['1069.290699'], '1049.593238': ['1049.593238'], '1032.522106': ['1054.245591'], '1037.099421': ['1037.099421'], '1058.035007': ['1058.110045'], '1087.224767': ['1088.050184'], '1095.51646': ['1095.51646'], '1080.54639': ['1099.305876'], '1094.578486': ['1094.578486'], '1104.558532': ['1106.359443'], '1109.060809': ['1111.987289', '1109.060809'], '1075.293734': ['1106.059291'], '1065.463763': ['1073.042596'], '1050.531213': ['1067.03956', '1053.870401'], '1043.027418': ['1059.873437', '1043.665241', '1073.042596'], '1028.019829': ['1040.40109'], '1022.429503': ['1031.396537'], '1022.767173': ['1034.060384'], '1021.941756': ['1028.019829'], '1019.390466': ['1027.457045'], '1026.519071': ['1039.275521', '1031.696689'], '1036.911826': ['1040.888837'], '1016.088796': ['1041.526659'], '1028.057348': ['1045.203519'], '1046.779315': ['1051.506706'], '1057.809893': ['1060.398702'], '1049.780833': ['1065.463763'], '1029.520588': ['1047.904885'], '1039.125445': ['1042.277039'], '1001.756549': ['1027.26945', '1019.915732', '1013.012241'], '1002.131739': ['1002.131739'], '958.009428': ['1005.508446'], '964.237577': ['990.500858'], '969.490233': ['971.666334', '982.997063'], '979.995545': ['979.995545'], '995.003134': ['998.004652'], '1013.950215': ['1022.692135'], '974.3677': ['974.3677'], '949.229989': ['979.170128'], '900.455325': ['952.231506', '904.957602'], '892.951531': ['921.691063'], '919.96519': ['923.829645'], '922.966708': ['940.975815', '925.517998'], '910.960637': ['937.974297', '922.816632'], '940.975815': ['946.97885'], '952.681734': ['956.283555'], '937.974297': ['948.329533'], '967.239095': ['967.239095'], '982.997063': ['989.30025'], '971.253625': ['971.253625'], '986.74896': ['990.575896'], '992.076654': ['1005.508446'], '970.240613': ['994.252755'], '953.169481': ['974.742889'], '933.47202': ['957.484162'], '965.062995': ['971.891448'], '987.49934': ['992.376806'], '955.233024': ['991.251237'], '1037.924838': ['1043.965393'], '1109.811188': ['1114.163389'], '1168.340784': ['1174.081187'], '1114.313465': ['1162.337749'], '1118.815741': ['1118.815741'], '1103.132811': ['1116.489565'], '1100.056255': ['1106.622076'], '1088.050184': ['1097.655041', '1088.087703'], '1093.790587': ['1093.790587'], '1101.557014': ['1101.557014', '1109.811188'], '1091.87712': ['1109.060809'], '1103.17033': ['1103.17033'], '1123.318018': ['1123.318018', '1123.318018', '1144.328642'], '1127.069915': ['1130.671737', '1127.820295'], '1141.327125': ['1141.327125'], '1170.70448': ['1176.594958'], '1200.6071': ['1208.110894', '1200.6071', '1211.862792'], '1190.852167': ['1208.110894', '1211.112412'], '1202.145378': ['1218.541169'], '1177.345338': ['1212.237981'], '1195.354444': ['1195.354444'], '1182.673032': ['1196.104823'], '1193.853685': ['1193.853685'], '1202.483049': ['1212.65069'], '1226.120001': ['1230.397164'], '1212.613171': ['1249.306726'], '1229.459189': ['1249.381764'], '1192.352926': ['1237.713363'], '1175.469389': ['1204.321478'], '1175.094199': ['1188.901181'], '1163.838508': ['1189.914193'], '1170.666961': ['1170.666961'], '1199.106341': ['1205.071858'], '1170.591923': ['1216.327549', '1194.866697', '1193.103306'], '1209.611653': ['1211.862792'], '1202.858238': ['1211.862792'], '1217.75327': ['1223.118483'], '1211.862792': ['1217.115448'], '1193.103306': ['1211.487602'], '1144.40368': ['1166.840025'], '1151.832437': ['1157.835472'], '1103.432963': ['1127.069915'], '1124.068397': ['1128.870826', '1133.072951'], '1122.567639': ['1126.844801'], '1127.820295': ['1127.820295'], '1129.246016': ['1131.497154'], '1144.328642': ['1154.571322', '1166.464836'], '1131.572192': ['1147.70535'], '1142.752845': ['1150.106564'], '1158.098105': ['1169.391316'], '1151.082057': ['1166.764987'], '1170.629442': ['1170.629442'], '1165.601899': ['1181.772576'], '1185.599511': ['1189.388928'], '1203.683656': ['1206.985325'], '1151.644842': ['1192.352926'], '1113.488047': ['1165.864532'], '1124.818777': ['1133.072951'], '1094.803599': ['1123.318018'], '1090.301323': ['1102.08228'], '1091.802082': ['1117.014831'], '1076.794493': ['1089.550943'], '1087.299805': ['1090.901626'], '1094.353372': ['1098.555497'], '1086.549426': ['1100.056255'], '1094.05322': ['1102.307394'], '1106.847189': ['1110.449011'], '1107.297417': ['1125.569156'], '1106.80967': ['1134.836342'], '1095.103751': ['1095.103751'], '1116.039338': ['1124.70622'], '1126.54465': ['1135.136494'], '1140.576745': ['1151.832437'], '1086.174236': ['1136.787329'], '1050.24982': ['1084.260768'], '1037.399572': ['1052.313364'], '1050.549972': ['1050.549972'], '1055.033489': ['1058.67283'], '1040.476128': ['1061.411714'], '1057.659817': ['1057.659817'], '1068.915509': ['1074.149405'], '1031.377777': ['1057.509741'], '1014.513': ['1049.405643'], '1002.319334': ['1010.235837'], '999.880601': ['1012.261861'], '956.733783': ['994.215236'], '1001.381359': ['1001.381359'], '1020.065807': ['1020.872465'], '1016.839176': ['1029.895778'], '1021.266415': ['1029.858259'], '1023.892743': ['1037.399572'], '1019.765656': ['1028.019829'], '1026.143881': ['1033.610156'], '1013.012241': ['1031.734208'], '1017.514517': ['1026.087602'], '948.854799': ['1000.27455'], '934.2224': ['955.233024'], '945.778243': ['947.316521'], '910.210258': ['937.411512'], '901.261983': ['910.566688'], '906.83355': ['909.853828'], '909.835068': ['913.511927'], '918.839621': ['941.726194'], '902.331274': ['947.35404'], '904.207222': ['907.959119'], '913.586965': ['914.712534'], '907.490132': ['911.673498'], '905.876817': ['912.048687'], '898.421494': ['905.763829'], '896.281516': ['911.298253'], '889.658656': ['921.481594'], '919.083343': ['921.961244'], '903.955918': ['925.65086', '922.403998'], '906.90761': ['924.248806'], '887.352646': ['914.286842'], '899.89734': ['899.89734'], '858.795018': ['902.885929'], '859.920351': ['872.963143'], '844.922062': ['863.370142'], '845.493952': ['857.835718'], '846.76687': ['848.574782'], '835.919399': ['845.475504'], '846.416356': ['851.434234'], '835.882503': ['848.611678'], '848.242716': ['854.146102', '849.718563'], '809.649333': ['839.387638'], '812.453441': ['817.249942'], '804.336286': ['817.987865'], '799.908747': ['811.125179'], '810.977595': ['822.415404'], '820.570596': ['828.687751'], '798.469796': ['818.725788'], '814.113768': ['817.157701'], '798.801862': ['821.640585', '807.933661'], '791.42263': ['808.025902'], '768.45477': ['790.481778'], '755.633355': ['776.645718'], '748.992046': ['752.3127'], '789.577822': ['791.441078'], '773.343512': ['786.995091'], '802.343893': ['805.129553'], '800.64667': ['804.262494', '802.491478'], '815.405134': ['820.349219'], '801.476834': ['817.249942'], '784.41236': ['795.112246'], '786.626129': ['798.063939'], '767.440126': ['785.113387', '769.082005'], '756.371278': ['765.337045'], '765.060324': ['782.19859'], '753.105968': ['767.440126'], '785.777517': ['785.777517'], '772.97455': ['789.20886'], '774.450396': ['778.306045'], '769.266486': ['774.450396'], '743.457622': ['764.857395'], '773.712473': ['778.103116'], '774.89315': ['784.043398'], '780.722744': ['787.253364'], '771.793873': ['784.707529'], '769.377174': ['781.405323'], '739.472837': ['776.553477'], '753.419585': ['756.371278'], '774.819358': ['783.194786'], '774.044539': ['774.044539'], '765.595318': ['779.246897'], '768.436322': ['771.111294'], '766.702203': ['774.081435'], '762.643625': ['773.325064'], '754.52647': ['772.605588'], '775.206768': ['779.947924'], '741.981776': ['778.508974'], '736.853209': ['736.853209'], '739.768006': ['748.4755'], '734.233582': ['754.157508', '745.191742'], '726.85435': ['758.197638'], '701.764961': ['736.07839'], '686.268574': ['697.964657'], '681.841035': ['681.841035'], '690.696113': ['690.806802'], '682.578958': ['685.530651', '691.839894', '697.337422'], '672.985957': ['683.482914'], '679.424337': ['679.424337'], '676.435748': ['679.627265'], '682.542062': ['684.423766', '689.367852'], '675.199726': ['684.423766', '677.062982'], '688.482344': ['699.18223'], '701.654273': ['708.000412'], '704.901135': ['713.202771'], '700.658077': ['704.716654'], '693.647806': ['702.318404'], '674.388011': ['687.375459'], '670.64305': ['670.64305'], '638.100637': ['673.72388'], '631.82829': ['648.228633'], '635.351874': ['648.92966'], '656.751646': ['667.820494', '661.419011'], '664.130878': ['673.354918', '691.434037'], '680.807943': ['680.807943'], '667.820494': ['667.820494'], '660.441262': ['669.665302'], '659.98006': ['659.98006'], '658.596454': ['663.743469'], '640.886298': ['663.300715'], '628.599876': ['641.624221'], '638.303566': ['640.591128'], '608.786638': ['625.758872'], '628.895046': ['631.846738'], '626.865757': ['634.115852'], '641.974734': ['644.575914'], '644.834187': ['649.741376'], '616.16587': ['676.159026'], '626.496795': ['630.500029'], '638.672528': ['640.148374'], '639.004593': ['639.004593'], '659.039208': ['663.577436'], '666.067927': ['673.354918'], '660.404366': ['677.616425'], '645.645902': ['658.227493'], '640.148374': ['645.313837'], '632.769142': ['639.410451'], '632.400181': ['637.565643'], '636.458758': ['644.741946'], '625.020949': ['634.189645'], '613.583139': ['619.781694'], '621.368229': ['627.179374'], '635.720835': ['637.934605'], '645.682798': ['645.682798'], '645.240044': ['648.320874'], '651.217222': ['654.150467'], '647.453814': ['647.453814']}\n"
     ]
    }
   ],
   "source": [
    "data = {}\n",
    "with open(\"XNSE-BAJAJ_AUTO.csv\") as b:\n",
    "    price_list = []\n",
    "    for rec in b:\n",
    "        rec= rec.strip()\n",
    "        cols = [i.strip('\"') for i in rec.split(\",\")]\n",
    "        if cols[2] == \"Open\" or cols[2] == \"High\":\n",
    "            continue\n",
    "        if cols[1] in data:\n",
    "            data[cols[1].strip()].append(cols[2])\n",
    "        else:\n",
    "            data[cols[1].strip()] = [cols[2]]\n",
    "print(data)"
   ]
  },
  {
   "cell_type": "code",
   "execution_count": 199,
   "metadata": {},
   "outputs": [
    {
     "name": "stdout",
     "output_type": "stream",
     "text": [
      "{'2477.286629': ['2499.906119'], '2491.672625': ['2497.146541'], '2500.720421': ['2500.810899'], '2455.300484': ['2487.963028'], '2465.20782': ['2465.20782'], '2556.454846': ['2562.96926'], '2621.14659': ['2628.384827'], '2583.145845': ['2623.860929'], '2582.150588': ['2607.574895'], '2569.574151': ['2600.155702'], '2563.240693': ['2581.336286'], '2565.955032': ['2567.176485', '2611.82736'], '2587.669743': ['2610.877341'], '2480.905747': ['2585.860184'], '2451.952799': ['2497.19178'], '2454.667138': ['2506.194338'], '2462.810154': ['2527.049508'], '2479.096188': ['2532.840098', '2479.096188'], '2496.287001': ['2510.311085'], '2479.186666': ['2524.335169'], '2497.19178': ['2501.67044'], '2461.905375': ['2505.968143'], '2382.284767': ['2476.381849'], '2363.284395': ['2375.04653'], '2390.427784': ['2392.192104'], '2357.855717': ['2409.337678'], '2343.695916': ['2343.695916'], '2352.42704': ['2374.141751'], '2418.475953': ['2418.475953'], '2424.492737': ['2424.492737'], '2446.524121': ['2450.14324'], '2424.80941': ['2448.243202', '2483.620086', '2442.497852'], '2425.71419': ['2442.000223'], '2420.285512': ['2456.386219'], '2396.761241': ['2418.837864'], '2442.905003': ['2466.429273', '2463.262544', '2450.459912'], '2436.164394': ['2436.164394'], '2437.476325': ['2438.381104'], '2418.656908': ['2441.095443'], '2415.761614': ['2431.550018', '2441.366877'], '2370.522632': ['2442.905003'], '2364.279653': ['2369.617853'], '2307.188058': ['2365.093954'], '2310.807177': ['2337.045786'], '2291.806804': ['2314.742968'], '2246.567823': ['2292.349672'], '2221.233993': ['2260.772863'], '2365.998734': ['2370.432154'], '2298.140262': ['2351.250826', '2312.526258'], '2289.182943': ['2329.536115'], '2293.842558': ['2300.718884'], '2305.197543': ['2305.197543'], '2386.808665': ['2397.349348', '2395.856462'], '2392.237343': ['2395.313594'], '2306.735668': ['2396.716002'], '2316.235854': ['2378.575171'], '2343.379243': ['2343.424482'], '2285.518586': ['2356.136636'], '2384.094327': ['2384.094327'], '2431.142867': ['2460.548205', '2483.620086'], '2474.57229': ['2506.149099'], '2470.138869': ['2470.138869'], '2531.573406': ['2540.575964'], '2509.315827': ['2556.907236'], '2530.216237': ['2541.299787'], '2467.424531': ['2535.056808'], '2533.382966': ['2545.778447'], '2538.811643': ['2572.28849'], '2524.425647': ['2524.425647'], '2513.477814': ['2560.481116'], '2578.621947': ['2595.81276'], '2591.288862': ['2605.674858'], '2610.289234': ['2632.818247'], '2594.862742': ['2594.862742'], '2601.241438': ['2628.384827'], '2645.57564': ['2668.195131'], '2573.14803': ['2652.813877'], '2517.096932': ['2540.621203'], '2466.429273': ['2515.332612'], '2515.242134': ['2519.811271'], '2501.715679': ['2540.349769'], '2461.000595': ['2492.667882'], '2433.857206': ['2444.714562'], '2443.809782': ['2447.428901'], '2435.576288': ['2450.14324'], '2428.338051': ['2440.190664'], '2468.691222': ['2468.691222'], '2488.143984': ['2506.239577'], '2419.380732': ['2485.067733'], '2416.666393': ['2422.954612'], '2388.618225': ['2422.999851', '2403.773284'], '2394.408814': ['2394.408814'], '2378.575171': ['2404.904258'], '2413.816337': ['2422.276027'], '2411.237716': ['2431.00715'], '2439.285884': ['2442.905003', '2457.381477'], '2432.047647': ['2442.905003'], '2458.286256': ['2504.430017'], '2422.999851': ['2456.476697'], '2431.097628': ['2442.000223'], '2385.903886': ['2440.190664'], '2394.046903': ['2413.002036'], '2434.761986': ['2465.524493'], '2569.528912': ['2571.021798'], '2831.960244': ['2853.493999'], '2811.874136': ['2844.98907'], '2808.435973': ['2859.872695'], '2811.24079': ['2828.295886'], '2838.293701': ['2863.627531'], '2825.626786': ['2856.344055'], '2890.680442': ['2890.725681'], '2784.911703': ['2872.630088'], '2758.673094': ['2818.34331'], '2774.597215': ['2789.435601'], '2698.957638': ['2785.137898'], '2655.528216': ['2700.767197'], '2544.373636': ['2649.918221'], '2520.436603': ['2555.056645'], '2495.657341': ['2581.653348', '2513.344148'], '2411.56743': ['2507.182579'], '2446.896718': ['2469.060637', '2507.581529'], '2502.705467': ['2502.705467'], '2486.791773': ['2502.306516', '2516.668736'], '2517.643949': ['2517.643949'], '2504.522908': ['2515.028606'], '2547.121962': ['2551.46609'], '2531.252595': ['2552.396975'], '2564.80877': ['2564.80877'], '2553.283531': ['2586.706722'], '2565.20772': ['2574.560894'], '2575.447451': ['2579.880235'], '2578.107121': ['2601.157598'], '2558.602872': ['2582.096627'], '2559.179134': ['2583.382134'], '2560.375986': ['2571.502273'], '2563.035656': ['2596.724814'], '2526.686828': ['2605.945004', '2542.733506'], '2551.953696': ['2557.40602'], '2562.149099': ['2591.006522', '2575.181484', '2624.208074', '2642.825766'], '2464.627853': ['2581.121414', '2480.984826'], '2460.195069': ['2469.016309', '2464.627853', '2475.532502'], '2477.039648': ['2477.039648'], '2487.589674': ['2513.344148'], '2448.669831': ['2492.99767'], '2442.419606': ['2460.727003'], '2455.762285': ['2495.302718'], '2501.685927': ['2510.861789'], '2420.300014': ['2505.409465'], '2460.150742': ['2460.150742'], '2522.254044': ['2584.313019', '2522.254044', '2549.116715', '2522.254044'], '2500.976681': ['2509.044348'], '2493.884227': ['2506.118711'], '2499.203568': ['2550.623861'], '2508.955692': ['2526.686828'], '2555.056645': ['2566.537555'], '2584.313019': ['2597.434059'], '2565.695326': ['2609.092281'], '2646.371994': ['2647.25855'], '2655.193233': ['2655.193233'], '2677.091186': ['2698.14691'], '2617.647554': ['2617.647554'], '2635.688984': ['2639.722818'], '2592.29203': ['2592.29203'], '2557.716315': ['2581.609021'], '2532.094824': ['2568.620964'], '2529.169187': ['2553.283531'], '2530.055744': ['2544.462291'], '2539.98518': ['2539.98518'], '2552.396975': ['2552.396975'], '2467.908113': ['2519.106767'], '2455.274679': ['2487.67833'], '2461.968183': ['2464.627853'], '2473.493421': ['2481.472432', '2496.49957', '2508.867037'], '2471.720308': ['2485.860888', '2539.763541'], '2495.613013': ['2503.680679'], '2488.564886': ['2496.543897'], '2442.463934': ['2496.49957'], '2433.332399': ['2433.332399', '2433.332399'], '2536.438953': ['2539.009967'], '2495.568685': ['2497.652093'], '2528.371286': ['2547.742552'], '2562.104771': ['2562.54805'], '2521.278832': ['2560.597625'], '2583.027511': ['2589.499376'], '2606.476938': ['2622.43496', '2613.569393', '2639.279539'], '2624.208074': ['2634.7581'], '2626.867744': ['2632.187085'], '2623.321517': ['2663.216572'], '2620.661847': ['2629.527415'], '2601.157598': ['2630.325316'], '2588.479836': ['2610.909722'], '2569.241553': ['2606.476938'], '2632.984986': ['2638.43731'], '2678.199382': ['2678.199382', '2678.199382'], '2719.158305': ['2730.594888'], '2668.535913': ['2709.893787'], '2695.132617': ['2711.090639'], '2663.216572': ['2698.678844'], '2649.031664': ['2666.718472'], '2672.791386': ['2672.791386'], '2731.392789': ['2731.969051'], '2688.040162': ['2722.172598', '2711.090639'], '2757.191591': ['2763.840767'], '2799.746317': ['2799.746317', '2851.698544'], '2770.489943': ['2807.813983'], '2797.086646': ['2801.475102', '2828.071806', '2797.086646'], '2796.288745': ['2796.288745'], '2778.468954': ['2804.090445'], '2774.03617': ['2786.004687'], '2835.474555': ['2835.474555'], '2664.103129': ['2799.701989'], '2836.981702': ['2866.238075', '2910.565914', '2885.742325', '2903.47346'], '3031.137637': ['3074.889214'], '2961.099651': ['3033.088062', '2965.576763'], '2968.192105': ['3001.703952'], '2991.198254': ['3018.681514'], '2940.708845': ['2994.744481'], '2936.010094': ['2936.010094'], '2964.645878': ['2966.330336'], '2921.204596': ['2969.920891', '2961.986208'], '2907.906244': ['2946.914743'], '2843.896844': ['2858.037425'], '2845.847269': ['2874.128431', '2854.978804'], '2815.704339': ['2823.68335'], '2821.200991': ['2827.229577'], '2844.872057': ['2849.393497'], '2862.026931': ['2872.443973'], '2904.360017': ['2911.89575'], '2912.427684': ['2922.711742'], '2892.834779': ['2920.318039'], '2875.9902': ['2902.808543'], '2934.502948': ['2934.680259', '2950.372314'], '2933.616391': ['2968.192105'], '2949.574413': ['2964.60155'], '3000.994706': ['3000.994706'], '2969.965219': ['3000.994706'], '2951.303199': ['2951.303199'], '2905.246574': ['2977.102001', '2906.133131'], '2925.63738': ['2943.368515', '2965.443779'], '2942.348975': ['2961.099651'], '2868.011189': ['2952.943329', '2938.935731'], '2819.16191': ['2873.286202'], '2826.34302': ['2894.607892'], '2801.51943': ['2811.271555', '2833.435474'], '2846.157564': ['2846.600843'], '2851.255266': ['2870.094597'], '2868.631779': ['2872.399645'], '2757.767853': ['2844.872057'], '2834.942621': ['2834.942621'], '2878.561215': ['2878.64987'], '2959.326537': ['2960.479061'], '2929.582557': ['2991.06527'], '2926.523937': ['2953.076312'], '2903.47346': ['2932.552523'], '2915.885255': ['2915.885255'], '2946.914743': ['2951.879461'], '2940.664517': ['2968.192105'], '2885.476358': ['2931.843277'], '2863.578405': ['2878.162264'], '2859.145621': ['2881.309541'], '2890.175108': ['2909.679358'], '2872.178006': ['2914.200797'], '2897.267563': ['2910.299947'], '2835.16426': ['2851.964511'], '2814.729126': ['2846.86681'], '2871.557416': ['2871.557416'], '2846.733826': ['2876.433478'], '2861.805291': ['2884.855768'], '2899.040676': ['2920.273711'], '2899.085004': ['2922.091153'], '2935.123537': ['2946.826087'], '2867.035976': ['2921.204596'], '2893.721336': ['2893.721336'], '2846.334876': ['2862.691848'], '2829.889247': ['2862.691848'], '2852.895396': ['2852.895396'], '2865.262863': ['2873.020235'], '2881.265213': ['2894.607892'], '2814.817782': ['2871.557416', '2828.116134'], '2805.065657': ['2819.250566'], '2810.34067': ['2813.487947'], '2779.089544': ['2851.964511'], '2786.359309': ['2786.359309'], '2782.015181': ['2794.33832', '2797.130974'], '2788.309734': ['2796.865007'], '2794.825927': ['2844.960713'], '2824.569907': ['2848.462612'], '2756.659657': ['2756.659657'], '2716.409979': ['2782.547115', '2734.717377'], '2689.813276': ['2709.317525'], '2708.60828': ['2718.183093'], '2711.445261': ['2711.445261'], '2739.948062': ['2779.355511'], '2761.624375': ['2765.791192'], '2699.654056': ['2791.767306'], '2586.972689': ['2691.630717'], '2610.909722': ['2621.504076'], '2596.724814': ['2636.619869'], '2605.590382': ['2612.638508'], '2617.11562': ['2645.928715'], '2604.703825': ['2605.590382'], '2594.9517': ['2632.807675'], '2585.199576': ['2600.802975'], '2507.093923': ['2602.044154'], '2424.732798': ['2453.058287'], '2429.165582': ['2439.095018', '2440.868132'], '2419.014507': ['2419.014507'], '2450.708912': ['2450.708912'], '2444.237047': ['2455.67363'], '2464.539198': ['2464.539198'], '2492.111113': ['2500.090125'], '2498.1397': ['2503.902319'], '2510.728806': ['2536.438953'], '2510.374183': ['2510.374183'], '2480.585875': ['2519.417062'], '2498.317011': ['2509.975233'], '2588.302524': ['2596.769142'], '2548.850748': ['2574.161944'], '2503.636352': ['2571.014667'], '2473.449093': ['2498.051044'], '2492.99767': ['2509.398971'], '2491.224557': ['2541.758293'], '2526.24355': ['2543.620063'], '2523.140601': ['2529.169187'], '2517.82126': ['2537.680132'], '2498.848945': ['2518.44185'], '2503.104418': ['2531.873185'], '2512.501919': ['2513.388476'], '2507.005267': ['2524.825059'], '2499.957141': ['2507.670185'], '2482.358989': ['2497.341798'], '2477.926205': ['2488.343247'], '2483.245546': ['2498.317011'], '2425.353388': ['2485.018659'], '2521.367487': ['2521.367487'], '2407.888219': ['2422.959685'], '2423.846241': ['2430.052139'], '2399.46369': ['2419.580152'], '2424.402889': ['2424.402889', '2473.759908'], '2406.154695': ['2427.444254'], '2429.616658': ['2432.831816'], '2422.491173': ['2443.520044'], '2423.533927': ['2433.961466'], '2457.814462': ['2458.422736'], '2454.208272': ['2454.208272'], '2476.540585': ['2476.931618', '2546.448547', '2490.443971'], '2448.299333': ['2477.409547'], '2443.520044': ['2457.510326'], '2441.782121': ['2457.379982', '2472.195777', '2479.104022', '2446.126929'], '2480.885393': ['2514.774896', '2483.014349'], '2446.126929': ['2458.900664', '2490.748107', '2447.864852', '2490.443971'], '2449.602775': ['2474.976454'], '2433.092505': ['2466.938559'], '2454.816545': ['2482.623316'], '2481.015737': ['2490.791555'], '2495.657741': ['2501.740472'], '2495.831533': ['2515.643858'], '2478.278508': ['2517.85971', '2484.274343'], '2519.988666': ['2537.367898', '2528.678282'], '2436.568351': ['2493.919817'], '2474.802662': ['2509.778367'], '2465.244084': ['2488.6626'], '2444.389006': ['2477.322651'], '2450.471737': ['2463.506161', '2476.106104', '2466.721319'], '2401.809887': ['2462.419959', '2483.057797'], '2544.319591': ['2544.319591'], '2596.196599': ['2610.317225'], '2583.727': ['2623.395097'], '2622.526135': ['2635.56056'], '2607.971028': ['2648.160503'], '2600.106926': ['2632.084713'], '2611.229634': ['2626.740599', '2622.917168'], '2524.594162': ['2611.620667'], '2502.609433': ['2527.765872', '2502.609433'], '2488.923288': ['2508.952853'], '2519.945217': ['2527.287943'], '2554.616786': ['2554.616786'], '2561.351238': ['2561.351238'], '2528.330697': ['2558.13608'], '2497.048079': ['2537.367898'], '2488.706048': ['2488.706048'], '2489.575009': ['2521.726589'], '2494.050162': ['2532.979642'], '2533.02309': ['2533.02309'], '2499.133587': ['2519.988666'], '2456.771709': ['2494.962571'], '2456.684812': ['2470.631646'], '2437.437313': ['2475.193695', '2454.338616', '2463.419265'], '2450.645529': ['2460.030315'], '2475.671624': ['2487.576398'], '2472.108881': ['2484.143999', '2516.512819'], '2474.933006': ['2474.933006'], '2471.717848': ['2492.616375'], '2447.126235': ['2463.288921'], '2440.044198': ['2473.021291'], '2422.534621': ['2446.126929'], '2421.361523': ['2432.180095'], '2418.841534': ['2418.841534'], '2440.391782': ['2465.678565'], '2452.644141': ['2461.507549'], '2467.894417': ['2473.9337'], '2457.249637': ['2476.540585'], '2472.80405': ['2479.14747'], '2475.019902': ['2498.264625'], '2511.51629': ['2523.551408'], '2543.103044': ['2546.187858'], '2534.022396': ['2548.229918'], '2559.874003': ['2562.307096'], '2503.739083': ['2559.005042'], '2493.659129': ['2511.299049'], '2521.726589': ['2528.678282'], '2489.183977': ['2489.183977'], '2499.828756': ['2511.212153'], '2485.230201': ['2506.910793', '2510.256296'], '2502.957018': ['2505.129422'], '2507.301826': ['2513.905934'], '2463.506161': ['2466.982007'], '2437.871794': ['2472.021985'], '2394.858194': ['2428.747697'], '2422.664965': ['2436.785592'], '2445.344863': ['2445.344863'], '2427.444254': ['2440.478678'], '2426.140812': ['2438.306274'], '2419.536704': ['2451.731731'], '2409.630541': ['2426.140812'], '2432.223543': ['2432.223543'], '2415.365688': ['2435.091116'], '2439.044892': ['2442.564186'], '2428.747697': ['2444.215213', '2472.195777'], '2430.833204': ['2441.782121'], '2408.935372': ['2422.664965'], '2434.830428': ['2441.521432'], '2446.431065': ['2454.816545'], '2426.271156': ['2446.474513'], '2466.373734': ['2495.657741'], '2451.427595': ['2536.498936'], '2476.584033': ['2478.278508'], '2467.850969': ['2507.128034'], '2476.236449': ['2476.236449'], '2356.623883': ['2441.782121'], '2342.286017': ['2359.230768'], '2336.637766': ['2363.575576'], '2345.240486': ['2356.623883'], '2383.561693': ['2383.561693'], '2355.754921': ['2382.692731'], '2348.803229': ['2372.265192'], '2374.003115': ['2392.90303'], '2359.230768': ['2383.952726', '2360.360418', '2423.751167'], '2386.603059': ['2388.340982'], '2370.744509': ['2387.298228'], '2360.968691': ['2386.168578'], '2364.444538': ['2380.867912'], '2340.982574': ['2372.265192'], '2281.198015': ['2344.936349', '2317.346818'], '2254.086413': ['2287.280747'], '2296.404844': ['2306.484798'], '2304.573083': ['2316.651649'], '2288.844878': ['2306.44135'], '2254.955375': ['2297.273805'], '2274.680803': ['2302.748263'], '2228.973423': ['2288.193156'], '2247.13472': ['2250.610567'], '2259.387079': ['2287.106954'], '2298.273111': ['2313.436491'], '2301.879302': ['2309.699956'], '2329.686073': ['2329.686073'], '2318.389572': ['2345.37083'], '2319.258534': ['2319.519222'], '2307.093071': ['2316.564753'], '2417.060163': ['2421.231179'], '2377.73965': ['2381.736874'], '2385.560305': ['2393.771992'], '2339.244651': ['2403.113329'], '2324.037823': ['2359.230768'], '2332.292958': ['2361.837653'], '2337.506728': ['2337.550176'], '2294.753817': ['2334.899843'], '2276.635967': ['2315.782687'], '2276.679415': ['2299.272417'], '2251.479528': ['2309.699956'], '2293.797959': ['2293.797959'], '2207.162486': ['2272.160815'], '2237.576143': ['2246.178863'], '2221.065872': ['2241.877503'], '2250.610567': ['2315.782687'], '2260.169145': ['2314.001316'], '2287.106954': ['2310.568918'], '2300.662755': ['2300.662755'], '2354.103894': ['2405.285733'], '2386.168578': ['2453.904135'], '2462.637199': ['2498.481866'], '2459.161353': ['2476.453689', '2527.244495'], '2459.074457': ['2476.540585'], '2449.342087': ['2459.074457'], '2459.508938': ['2488.706048'], '2474.889558': ['2474.889558'], '2454.729649': ['2462.550303'], '2430.48562': ['2443.085563'], '2440.478678': ['2445.779344'], '2430.70286': ['2454.46896'], '2434.222155': ['2450.471737'], '2395.075434': ['2441.782121'], '2466.113046': ['2475.671624'], '2489.661905': ['2502.957018'], '2499.481172': ['2499.481172', '2499.481172'], '2513.036973': ['2525.854156'], '2456.597916': ['2519.988666'], '2493.094304': ['2493.094304'], '2522.59555': ['2534.761013'], '2483.44883': ['2483.44883'], '2555.616092': ['2566.869144'], '2501.740472': ['2541.712706'], '2535.629975': ['2544.145798'], '2540.843744': ['2548.664399'], '2542.581667': ['2567.086385'], '2551.271283': ['2583.379415'], '2510.430088': ['2577.774613'], '2540.669952': ['2568.650516'], '2593.720058': ['2617.573054'], '2548.577502': ['2633.822636'], '2581.68494': ['2587.767671'], '2575.602209': ['2602.06209'], '2567.694658': ['2567.694658'], '2580.815978': ['2587.506983'], '2686.742398': ['2700.037511'], '2589.505594': ['2711.160219'], '2624.264059': ['2624.264059'], '2603.40898': ['2637.689515'], '2605.190351': ['2605.190351'], '2580.859426': ['2619.919251'], '2588.202152': ['2622.786824'], '2591.243517': ['2639.688127'], '2517.425229': ['2615.574443'], '2492.008102': ['2523.464512'], '2500.350133': ['2500.350133'], '2514.774896': ['2523.421064'], '2506.954241': ['2520.640387'], '2540.756848': ['2540.756848'], '2548.664399': ['2563.436746', '2570.605679'], '2560.047796': ['2562.524336'], '2513.384557': ['2565.000877'], '2495.874981': ['2517.642469'], '2492.790167': ['2492.790167'], '2473.064739': ['2523.464512'], '2487.141917': ['2521.726589'], '2495.570844': ['2514.557655'], '2495.744637': ['2535.673423'], '2393.380959': ['2503.478395'], '2379.216885': ['2411.281568'], '2383.648589': ['2397.030598'], '2389.557528': ['2415.713272'], '2354.972856': ['2415.713272'], '2311.437879': ['2367.225215'], '2321.60473': ['2356.406643'], '2324.472304': ['2369.701755'], '2350.541152': ['2359.925937'], '2363.575576': ['2393.207167'], '2402.852641': ['2404.590564'], '2421.8829': ['2434.700084'], '2399.854723': ['2427.009773'], '2398.420936': ['2401.809887'], '2358.752839': ['2400.940925'], '2318.824053': ['2346.196344'], '2296.665532': ['2323.603342'], '2307.088329': ['2314.026941'], '2304.48635': ['2320.098226'], '2277.59923': ['2305.353677'], '2272.395272': ['2285.405168', '2301.710905'], '2262.421018': ['2276.731904'], '2265.586759': ['2265.586759'], '2294.078433': ['2297.504372'], '2324.434858': ['2333.108123'], '2339.613071': ['2359.084549'], '2305.353677': ['2341.781387'], '2296.506947': ['2298.415065'], '2308.822982': ['2315.501396'], '2333.108123': ['2344.383366'], '2255.048743': ['2328.554659'], '2281.068536': ['2312.292288'], '2286.489326': ['2289.351504'], '2211.682421': ['2276.254874'], '2231.630929': ['2245.508152'], '2239.436867': ['2245.985182'], '2229.462613': ['2263.80874'], '2242.082213': ['2242.949539', '2256.826762'], '2225.559644': ['2250.451913'], '2246.375479': ['2275.517647'], '2284.79804': ['2285.708733'], '2290.392295': ['2303.402192'], '2298.284966': ['2305.353677'], '2291.302988': ['2298.415065'], '2251.232507': ['2306.351102'], '2285.405168': ['2285.405168'], '2259.385375': ['2291.476453', '2263.635275'], '2240.304194': ['2268.015273'], '2172.652731': ['2239.393501'], '2163.11214': ['2183.711143'], '2085.789988': ['2172.609365'], '2099.79731': ['2099.79731'], '2134.490368': ['2137.092347'], '2113.674533': ['2134.967397'], '2140.561653': ['2143.684028'], '2157.908182': ['2170.007386'], '2189.99926': ['2198.672524'], '2185.74936': ['2191.040052'], '2203.529553': ['2207.345789'], '2178.984214': ['2218.621033'], '2168.316099': ['2215.845588'], '2194.162427': ['2203.009157'], '2111.93988': ['2200.407177'], '2121.957501': ['2128.202251'], '2136.225021': ['2158.16838'], '2128.852746': ['2151.4466'], '2146.632938': ['2167.36204'], '2154.438876': ['2189.99926'], '2157.040855': ['2168.966594'], '2199.583217': ['2227.814693'], '2212.766579': ['2240.434293'], '2203.876483': ['2219.922022'], '2179.374511': ['2220.268953'], '2159.33927': ['2215.151727'], '2196.070545': ['2209.947768'], '2208.820244': ['2231.110533'], '2206.868759': ['2206.868759'], '2239.87053': ['2239.87053', '2239.87053'], '2146.37274': ['2267.624976'], '2110.942455': ['2140.605019'], '2079.805436': ['2115.409186'], '2055.520296': ['2085.789988'], '2070.308211': ['2077.420288'], '2079.76207': ['2103.266616'], '2124.863044': ['2142.296306'], '2107.603248': ['2148.974719'], '2090.256719': ['2105.3482'], '2097.195331': ['2131.021062'], '2050.359703': ['2116.276513'], '2044.201686': ['2059.032968'], '2060.333957': ['2060.333957'], '2043.768022': ['2043.768022', '2043.768022'], '2007.773975': ['2050.359703'], '1996.585464': ['2014.625854'], '2001.70269': ['2012.19734'], '1969.698344': ['2001.789423'], '1957.165477': ['1980.36646'], '1947.668253': ['1959.854189'], '1957.860668': ['1974.826532', '1984.157757'], '1979.067998': ['1979.067998', '1979.067998'], '1979.025583': ['1990.944102'], '1988.993028': ['1988.993028'], '1970.033675': ['1980.764584'], '1956.376155': ['1956.376155'], '1942.421732': ['1971.518188'], '1908.659663': ['1939.367877'], '1934.066044': ['1966.3436'], '1870.571299': ['1923.080647'], '1900.176731': ['1923.928941', '1967.955357'], '1977.54107': ['1995.100739'], '1983.309463': ['1995.906617'], '2024.663756': ['2042.689986'], '2103.767096': ['2103.767096', '2127.47689'], '2085.952939': ['2108.008561'], '2044.386573': ['2092.739284'], '2010.49726': ['2050.876016'], '1976.098971': ['2009.606552'], '2006.213379': ['2009.352064'], '1973.129945': ['2012.40592'], '1959.557254': ['1975.505166', '2022.670267', '1980.849413'], '2016.13841': ['2024.833415'], '2005.322672': ['2025.639293'], '1988.399223': ['2027.420709'], '2007.316161': ['2026.402757'], '1966.682917': ['2018.047069'], '2010.454845': ['2027.293465'], '1989.247516': ['2031.662175', '1989.247516'], '2001.971914': ['2003.626085'], '1925.625527': ['2001.887084', '1925.710356'], '1951.922616': ['1960.06623'], '1974.232726': ['1974.232726'], '1970.839554': ['1991.792395'], '1933.260166': ['1975.929313'], '1934.150873': ['1950.989493'], '1900.600878': ['1938.265095'], '1917.10018': ['1943.439684'], '2010.412431': ['2010.412431'], '1992.640688': ['2014.399409'], '1997.730448': ['2025.639293'], '2003.244353': ['2016.77463'], '2001.887084': ['2012.787652'], '2063.473169': ['2073.143712'], '2099.52563': ['2108.008561'], '2114.116272': ['2132.736308'], '2120.732959': ['2140.540605', '2149.574927', '2138.547116'], '2112.250027': ['2161.111715', '2120.732959', '2154.664687'], '2146.266584': ['2146.266584'], '2133.457357': ['2159.839275', '2158.821323'], '2154.664687': ['2158.906152', '2179.265189', '2172.478843'], '2117.339786': ['2151.229099'], '2106.311975': ['2119.884666'], '2106.227146': ['2106.227146'], '2118.10325': ['2118.10325'], '2116.406664': ['2123.235424'], '2112.207613': ['2120.308813'], '2111.401734': ['2126.671012'], '2112.462101': ['2123.277839'], '2086.801232': ['2156.106785'], '2088.497818': ['2090.194405'], '2043.623109': ['2074.119249'], '2046.083159': ['2059.65585'], '2082.305278': ['2082.305278'], '2028.777978': ['2079.972472'], '2089.346111': ['2096.641433'], '2070.259515': ['2107.160268'], '2096.174872': ['2108.008561'], '2082.729425': ['2111.783466'], '2119.884666': ['2126.628597'], '2095.284164': ['2133.457357', '2099.52563', '2129.215891'], '2085.104646': ['2133.457357'], '2063.939731': ['2089.176453'], '2116.321835': ['2140.074044'], '2101.052557': ['2101.052557'], '2104.615389': ['2145.333462'], '2059.613435': ['2129.215891'], '2002.820207': ['2071.616784'], '2009.606552': ['2022.543023'], '2022.33095': ['2051.00326'], '2013.848018': ['2043.411036'], '2069.835368': ['2095.284164'], '2081.117668': ['2081.117668'], '2091.212356': ['2096.98075'], '2036.751934': ['2099.52563'], '2031.492516': ['2061.352436'], '2045.319695': ['2077.342763'], '2078.275885': ['2093.799651'], '2065.593902': ['2098.677336'], '2074.034419': ['2078.445544'], '2156.361273': ['2184.354948'], '2184.439777': ['2191.141293'], '2181.810068': ['2205.562278'], '2188.681243': ['2192.83788'], '2176.762724': ['2201.320812'], '2146.181755': ['2190.208171'], '2148.59939': ['2175.193382'], '2136.892944': ['2136.892944'], '2073.228541': ['2153.05293'], '2088.073672': ['2103.979169'], '2084.044279': ['2110.341368'], '2078.3183': ['2086.801232'], '2083.662547': ['2102.749144'], '2061.352436': ['2102.706729'], '2078.742447': ['2085.910524'], '2076.621714': ['2108.856855'], '2103.682266': ['2103.682266'], '2011.387968': ['2091.042698'], '2031.662175': ['2034.885689'], '1972.281652': ['2040.145107'], '1963.88355': ['1963.88355'], '1960.405548': ['1974.275141'], '1922.232354': ['1970.118504'], '1915.446009': ['1945.305929'], '1951.074322': ['1959.557254'], '1936.610924': ['1936.610924'], '1906.963077': ['1945.899734'], '1901.873318': ['1913.834252'], '1978.983168': ['1979.067998'], '1929.866993': ['1959.472425'], '2014.696311': ['2017.707752'], '1993.616226': ['1993.616226'], '1955.400618': ['2009.606552'], '1963.79872': ['1963.79872'], '1973.978238': ['1980.085949'], '1883.380526': ['1934.108459'], '1862.936661': ['1882.362575'], '1887.452334': ['1887.452334'], '1896.020095': ['1896.020095'], '1881.641525': ['1921.299232'], '1904.418197': ['1936.186777'], '1877.145572': ['1916.209473'], '1917.990888': ['1925.625527'], '1878.926987': ['1945.857319'], '1861.536977': ['1925.625527'], '1881.090135': ['1905.181661'], '1984.751562': ['1998.324253'], '2099.568044': ['2128.028281'], '2125.01684': ['2159.966519'], '2136.85053': ['2167.389084'], '2179.265189': ['2180.113482'], '2116.491493': ['2182.488703'], '2150.423221': ['2160.43308'], '2171.63055': ['2177.568603'], '2158.863738': ['2183.209752'], '2187.19673': ['2190.293'], '2185.203241': ['2212.348623'], '2125.822718': ['2194.407222'], '2141.85546': ['2141.85546'], '2141.940289': ['2175.532699'], '2148.726634': ['2167.89806', '2163.317277'], '2107.669244': ['2133.245284'], '2135.153943': ['2141.85546'], '2115.6432': ['2145.333462'], '2114.710078': ['2136.680871'], '2231.011073': ['2253.066696'], '2161.451032': ['2229.314487'], '2127.519305': ['2182.615947'], '2167.389084': ['2178.077578'], '2137.613994': ['2140.58302'], '2158.906152': ['2169.933964'], '2153.568506': ['2169.331092'], '2164.340299': ['2173.406905'], '2139.386337': ['2165.130508'], '2146.040727': ['2170.16289'], '2121.086765': ['2151.197879'], '2114.390785': ['2125.245759'], '2123.124672': ['2149.367922'], '2079.496829': ['2141.091525', '2116.969362'], '2074.506036': ['2124.41396'], '1996.316956': ['2104.450791'], '2008.752347': ['2008.752347'], '2017.153514': ['2027.925307'], '2000.517539': ['2026.636019'], '2004.593353': ['2017.111924'], '1971.362994': ['2006.63126'], '1992.157962': ['2003.387245'], '1937.259246': ['1998.937122'], '1901.74144': ['1945.702003'], '1846.593184': ['1910.641686', '1866.348404'], '1884.855925': ['1894.338431'], '1814.984832': ['1885.063875', '1833.284404'], '1845.511845': ['1856.990668'], '1829.957209': ['1863.645058', '1842.3926'], '1833.034865': ['1859.901964'], '1867.221792': ['1880.696932'], '1872.378945': ['1905.526124'], '1948.072629': ['1952.273213'], '1928.566949': ['1955.558818'], '1924.158416': ['1938.922843'], '1923.326617': ['1942.250038'], '1916.006788': ['1943.705686'], '1921.45507': ['1938.091044', '1933.599331', '1929.523517'], '1913.137082': ['1933.058662'], '1904.819095': ['1947.15765'], '1783.45966': ['1924.782265'], '1838.275197': ['1849.08858', '1892.134164'], '1823.302819': ['1853.164394'], '1800.844254': ['1823.302819'], '1768.404103': ['1812.489436'], '1784.208279': ['1806.666845', '1794.023504'], '1815.317552': ['1817.480228'], '1772.563097': ['1824.342568'], '1728.602534': ['1786.786855'], '1671.91545': ['1738.376169', '1712.673588'], '1710.926811': ['1710.926811'], '1736.712571': ['1736.712571'], '1629.327355': ['1745.695998'], '1620.884598': ['1620.884598'], '1645.131531': ['1645.131531'], '1655.445835': ['1665.843319'], '1651.120482': ['1663.597463'], '1668.588255': ['1671.87386'], '1655.695375': ['1670.210263'], '1656.943073': ['1678.237121'], '1659.521649': ['1684.392431'], '1684.97469': ['1709.595933'], '1717.66438': ['1732.678348', '1752.807877'], '1716.541452': ['1730.141361'], '1719.743877': ['1742.285623'], '1747.609135': ['1759.503857'], '1742.867882': ['1742.867882'], '1759.254317': ['1759.254317'], '1751.768128': ['1751.768128'], '1747.733905': ['1752.599927'], '1739.582277': ['1770.067701'], '1696.827822': ['1745.113739'], '1688.551425': ['1702.858363', '1699.947067'], '1680.067078': ['1680.067078', '1680.067078'], '1686.097619': ['1692.710419'], '1692.710419': ['1692.710419', '1692.710419'], '1671.083652': ['1681.897035'], '1679.401639': ['1690.630922'], '1690.215022': ['1692.710419'], '1691.87862': ['1697.618031'], '1673.412688': ['1698.36665'], '1696.952592': ['1702.692003'], '1705.270579': ['1709.013674'], '1696.869412': ['1711.009991'], '1729.309563': ['1734.217175'], '1750.93633': ['1757.59072'], '1780.049285': ['1787.535474', '1787.452294'], '1763.413311': ['1793.358065'], '1755.095323': ['1787.992963'], '1762.290382': ['1762.290382'], '1766.740506': ['1779.716566'], '1761.375404': ['1779.217487'], '1719.327978': ['1766.574146'], '1803.33965': ['1837.734527'], '1780.132465': ['1798.224088'], '1814.153033': ['1818.519977'], '1830.040389': ['1832.452605'], '1842.43419': ['1848.755861'], '1854.911171': ['1863.229158'], '1865.433425': ['1865.433425'], '1882.526889': ['1883.192328', '1897.208137'], '1881.403961': ['1881.403961'], '1890.137847': ['1899.578763'], '1900.660101': ['1925.530883'], '1886.519523': ['1908.14629'], '1864.144137': ['1895.33659'], '1867.637692': ['1867.637692'], '1874.042542': ['1888.18312'], '1897.998345': ['1897.998345'], '1954.768609': ['1969.699396'], '1987.998968': ['2013.992679'], '2001.682057': ['2009.792095'], '1993.57202': ['2010.291174'], '2008.294857': ['2008.294857'], '2019.77368': ['2029.547315'], '2030.836603': ['2030.836603'], '2055.291486': ['2057.870062'], '2042.273835': ['2072.21859'], '2012.95293': ['2043.313584', '2031.252502', '2025.388321'], '2002.139547': ['2010.956613'], '2013.03611': ['2013.03611'], '1979.764161': ['2027.384638'], '1928.358999': ['1971.279814'], '1946.409032': ['1959.010782'], '1983.839975': ['1992.989761'], '2042.065886': ['2053.627888'], '2035.952165': ['2050.383873'], '2031.252502': ['2059.20094'], '2041.483627': ['2054.459687'], '2039.57049': ['2063.859013'], '2043.729483': ['2059.866379'], '2022.102716': ['2044.810822'], '2013.826319': ['2036.825554'], '2071.178841': ['2071.719511'], '2079.247289': ['2083.655822'], '2065.35625': ['2078.66503'], '2060.947717': ['2060.947717'], '2105.240999': ['2111.936979'], '2058.70186': ['2101.373135'], '2087.814816': ['2087.814816'], '2084.321261': ['2099.626358'], '2063.276753': ['2103.286272'], '2067.144617': ['2087.398917'], '2076.169634': ['2110.107022'], '2123.582161': ['2139.885417'], '2136.100732': ['2156.521391'], '2170.079711': ['2177.10841'], '2162.676702': ['2196.94681', '2181.724893'], '2183.47167': ['2193.910744', '2194.243464', '2215.620691'], '2170.66197': ['2190.08447'], '2179.312676': ['2186.050246', '2183.30531'], '2151.03152': ['2174.987323'], '2198.028148': ['2213.250065'], '2207.593833': ['2225.519096'], '2176.98364': ['2207.593833'], '2221.068973': ['2229.47014'], '2213.416424': ['2241.697581'], '2211.752827': ['2233.379594'], '2233.379594': ['2233.379594'], '2201.771242': ['2235.87499'], '2212.584626': ['2224.105038'], '2200.107645': ['2227.723363'], '2120.712456': ['2183.43008'], '2113.683757': ['2129.238393'], '2116.927772': ['2141.590604'], '2141.881734': ['2149.908591'], '2138.304999': ['2138.304999'], '2157.685909': ['2183.26372'], '2141.257884': ['2141.257884'], '2171.826488': ['2171.826488'], '2147.662735': ['2186.175016'], '2125.245759': ['2150.199721'], '2091.97381': ['2129.404753'], '2096.132803': ['2098.50343'], '2109.108863': ['2116.886182'], '2104.201251': ['2104.201251'], '2079.455239': ['2113.600577'], '2019.191421': ['2086.650298'], '1982.176377': ['2018.983471'], '1975.521987': ['2000.475949'], '1967.28718': ['2030.337524'], '2006.29854': ['2006.29854'], '1987.167169': ['2020.439119'], '1938.257404': ['1967.07923'], '1965.540402': ['1969.824166'], '1959.717811': ['1980.30483', '1972.485922'], '1939.754642': ['1960.42484'], '1924.782265': ['1960.50802'], '1943.165017': ['1943.165017', '1943.165017', '1943.165017'], '1922.286868': ['1960.84074'], '1954.685429': ['1961.547769'], '1953.105011': ['1987.583069'], '1963.876805': ['1987.333529'], '1997.148754': ['2008.710757'], '1999.477791': ['2043.729483'], '2014.574938': ['2029.588905'], '2000.392769': ['2019.77368'], '1926.445862': ['2000.475949'], '1919.250803': ['1940.087361'], '1934.09841': ['1958.886013'], '1956.265847': ['1956.265847'], '1956.390616': ['1967.07923'], '1963.460906': ['1974.149519'], '1930.729626': ['1930.729626'], '1970.323245': ['1975.230858'], '1950.568025': ['1982.134787'], '1915.050219': ['1953.89522'], '1846.759544': ['1925.614063'], '1884.107307': ['1896.459518'], '1884.814336': ['1918.585364'], '1896.251568': ['1912.138924'], '1878.783795': ['1878.783795'], '1896.750647': ['1916.297918'], '1888.18312': ['1916.963357'], '1868.136771': ['1900.660101'], '1892.258934': ['1894.047301'], '1892.342114': ['1892.342114'], '1840.770593': ['1895.33659'], '1780.465185': ['1838.275197'], '1767.655484': ['1800.386764'], '1775.890292': ['1775.890292'], '1791.195388': ['1800.844254'], '1777.553889': ['1792.027187'], '1782.503092': ['1784.083509'], '1767.572304': ['1774.185104'], '1807.457054': ['1811.657637'], '1742.618342': ['1797.517059'], '1724.984209': ['1729.309563'], '1728.477764': ['1742.285623'], '1725.233749': ['1745.945537'], '1733.510146': ['1733.510146'], '1740.122946': ['1753.473316'], '1754.013985': ['1757.42436'], '1757.59072': ['1765.825527'], '1738.750478': ['1757.13323'], '1725.982368': ['1734.217175'], '1732.803117': ['1742.743112'], '1731.638599': ['1738.459349'], '1773.644435': ['1793.358065'], '1792.526266': ['1796.9348'], '1772.147197': ['1804.171449'], '1775.016903': ['1791.694468'], '1776.88845': ['1807.914543'], '1801.676052': ['1824.966417'], '1851.583976': ['1862.39736'], '1913.220262': ['1921.45507'], '1928.941258': ['1929.606697'], '1909.063046': ['1925.222918'], '1884.599359': ['1915.331611'], '1870.474735': ['1895.874636'], '1868.317372': ['1887.082362'], '1878.941369': ['1888.710561'], '1815.278797': ['1866.526353'], '1802.253207': ['1820.326213'], '1774.736648': ['1792.646834'], '1762.606567': ['1793.867983'], '1754.384163': ['1768.997247'], '1769.037952': ['1774.940173', '1799.159629'], '1766.595654': ['1770.584741'], '1782.877642': ['1813.813418'], '1761.344713': ['1785.116415'], '1750.313667': ['1782.755527'], '1774.329598': ['1798.26412'], '1674.521014': ['1772.701399'], '1635.525654': ['1672.160126'], '1644.480747': ['1644.480747', '1652.621741', '1644.480747'], '1603.897893': ['1648.551244'], '1608.660374': ['1622.418654'], '1585.824887': ['1620.098471'], '1583.626819': ['1592.256272'], '1591.523583': ['1598.036378'], '1620.057766': ['1620.057766', '1638.700642', '1629.012859'], '1602.880269': ['1619.976356'], '1627.913825': ['1627.913825'], '1637.235263': ['1651.563412'], '1523.17994': ['1607.032176'], '1541.090126': ['1546.788822', '1554.115716'], '1602.961679': ['1602.961679'], '1624.128263': ['1705.293971'], '1664.833232': ['1676.067803', '1672.160126', '1667.926809'], '1621.278915': ['1664.873937'], '1595.634784': ['1628.19876'], '1555.825325': ['1594.820685'], '1522.36584': ['1568.769505'], '1538.647828': ['1538.647828'], '1546.788822': ['1553.057387', '1561.3612'], '1563.030104': ['1565.472402'], '1554.929815': ['1567.059896', '1562.907989'], '1559.000312': ['1569.624309', '1561.483315', '1566.652846'], '1556.680129': ['1556.680129'], '1578.945747': ['1586.679691'], '1617.004893': ['1619.976356'], '1627.181135': ['1627.38466'], '1643.666648': ['1643.666648'], '1631.984322': ['1631.984322'], '1628.19876': ['1640.98012', '1658.320437', '1635.729179'], '1636.787508': ['1657.424927'], '1641.265055': ['1641.265055'], '1621.48244': ['1648.388424'], '1625.756461': ['1649.121114'], '1636.095524': ['1641.30576'], '1634.34521': ['1634.34521'], '1642.771138': ['1650.993542'], '1659.948635': ['1662.146704'], '1646.597406': ['1646.597406'], '1633.531111': ['1675.335114'], '1672.892816': ['1673.218455'], '1681.115219': ['1684.371617'], '1687.994359': ['1693.32671'], '1696.257468': ['1696.583107'], '1684.127387': ['1709.608698'], '1693.32671': ['1707.00358'], '1659.622996': ['1697.152977'], '1649.365343': ['1675.986393'], '1639.596151': ['1657.262107'], '1614.52189': ['1648.307014'], '1606.136666': ['1617.981812'], '1638.659937': ['1640.369545'], '1629.867663': ['1639.596151'], '1607.276406': ['1607.276406'], '1606.950766': ['1620.790455'], '1603.979303': ['1634.50803'], '1615.173169': ['1625.675051'], '1636.339753': ['1659.297356', '1639.677561', '1648.510539'], '1594.006586': ['1640.41025'], '1599.705281': ['1632.269256', '1615.824449'], '1567.385536': ['1598.891182'], '1571.211803': ['1572.025902', '1580.655356'], '1558.186213': ['1568.81021'], '1580.980996': ['1589.895384'], '1567.141306': ['1593.965881'], '1563.803499': ['1563.803499'], '1549.434645': ['1573.654101'], '1515.690225': ['1554.359946'], '1516.422915': ['1528.797225'], '1505.269753': ['1518.295343'], '1477.590374': ['1517.481244'], '1515.038946': ['1515.038946'], '1506.083853': ['1513.817797'], '1502.013356': ['1521.836676'], '1550.615089': ['1550.615089'], '1579.108567': ['1579.108567'], '1581.550865': ['1595.18703'], '1580.940291': ['1583.423294'], '1547.887856': ['1579.189977'], '1538.810648': ['1549.23112'], '1528.878635': ['1545.160623'], '1481.660871': ['1532.135033'], '1547.643626': ['1573.979741'], '1554.115716': ['1571.211803'], '1587.493791': ['1602.147579', '1635.525654'], '1552.324697': ['1585.865592'], '1563.070809': ['1566.327207', '1563.111514', '1563.070809'], '1575.03807': ['1577.724598'], '1586.679691': ['1587.005331'], '1582.609194': ['1589.936089'], '1575.2823': ['1584.237393', '1586.679691'], '1577.887418': ['1588.959169'], '1553.098092': ['1578.538697'], '1525.622238': ['1550.045219'], '1537.019629': ['1545.649082'], '1542.92185': ['1560.628511', '1567.100601'], '1551.022138': ['1557.738458'], '1558.349033': ['1561.157676'], '1542.636915': ['1565.513107'], '1530.506834': ['1546.626002'], '1543.532424': ['1546.707412'], '1561.44261': ['1570.194179'], '1551.673418': ['1564.007023', '1585.051492'], '1578.823632': ['1581.143815'], '1590.343138': ['1599.705281'], '1620.342701': ['1620.342701'], '1585.947002': ['1623.721213'], '1573.898331': ['1598.402722'], '1541.578586': ['1580.899586'], '1567.100601': ['1583.423294'], '1526.436337': ['1582.039325', '1559.000312'], '1556.558014': ['1566.734256', '1570.886163'], '1555.743915': ['1577.724598'], '1609.677999': ['1610.288573'], '1624.087558': ['1639.107691'], '1611.916772': ['1635.525654'], '1617.615468': ['1618.266747'], '1579.352797': ['1603.775778'], '1603.775778': ['1606.218076'], '1581.42875': ['1593.029666'], '1594.820685': ['1599.705281'], '1600.804315': ['1625.756461'], '1580.166896': ['1611.102673'], '1587.453086': ['1611.102673'], '1580.248306': ['1598.891182'], '1571.456033': ['1586.679691'], '1579.434207': ['1587.493791'], '1647.655735': ['1647.77785'], '1652.621741': ['1662.309524', '1672.648586'], '1677.044722': ['1677.044722'], '1656.529418': ['1656.529418'], '1656.448008': ['1677.044722'], '1640.41025': ['1678.672921'], '1671.346027': ['1673.462685'], '1705.538201': ['1716.935592'], '1701.467704': ['1717.220527'], '1709.649403': ['1709.649403'], '1733.21758': ['1734.031679'], '1729.879772': ['1729.879772'], '1726.867604': ['1745.34766'], '1734.031679': ['1756.012362'], '1713.719899': ['1747.871368'], '1687.628014': ['1719.37789'], '1697.600732': ['1717.261232'], '1693.40812': ['1716.650657'], '1697.397207': ['1726.704785'], '1750.069437': ['1750.069437'], '1758.45466': ['1758.45466'], '1762.525157': ['1765.700145'], '1757.070691': ['1765.41521'], '1730.490347': ['1730.490347', '1730.490347'], '1729.513427': ['1758.006906'], '1741.358573': ['1742.986772'], '1743.393822': ['1763.257847'], '1758.658185': ['1771.39884'], '1716.935592': ['1773.922549'], '1754.587688': ['1758.45466'], '1725.076586': ['1739.730375'], '1729.961182': ['1751.941865'], '1668.903729': ['1729.961182', '1678.672921'], '1610.288573': ['1639.596151'], '1633.246176': ['1650.098033'], '1607.846275': ['1660.762735'], '1612.405232': ['1639.351921'], '1672.974225': ['1679.039266'], '1632.554191': ['1663.408558'], '1613.178626': ['1648.469834'], '1637.153853': ['1665.565921'], '1596.855933': ['1639.514741'], '1613.544971': ['1636.421163'], '1593.192486': ['1637.153853'], '1570.560523': ['1618.633092'], '1555.6218': ['1555.6218'], '1553.301617': ['1567.141306'], '1550.696499': ['1576.910499'], '1518.295343': ['1545.811902'], '1517.481244': ['1534.699446', '1537.508089'], '1495.500561': ['1522.36584'], '1416.899266': ['1506.083853'], '1424.511095': ['1429.802741'], '1392.109939': ['1420.074253'], '1434.443107': ['1451.335669'], '1455.609691': ['1479.910558'], '1445.840498': ['1462.895881'], '1404.32143': ['1460.494287'], '1440.955902': ['1469.449381'], '1432.814908': ['1452.882458'], '1489.84257': ['1493.058263'], '1553.790076': ['1553.790076'], '1522.12161': ['1557.372114'], '1470.26348': ['1522.20302'], '1453.981492': ['1479.869853'], '1450.969325': ['1450.969325'], '1428.744412': ['1461.308387'], '1477.346144': ['1485.731368'], '1521.551741': ['1521.551741'], '1589.691859': ['1600.682201'], '1566.327207': ['1591.279353'], '1629.094269': ['1640.41025'], '1648.551244': ['1668.903729'], '1633.85675': ['1668.903729'], '1624.616722': ['1651.807642'], '1597.262983': ['1636.339753'], '1535.79848': ['1618.226042'], '1534.414511': ['1561.44261'], '1518.051113': ['1552.365402'], '1530.262604': ['1531.320933'], '1545.974722': ['1560.709921'], '1515.161061': ['1526.436337'], '1541.415766': ['1541.415766'], '1520.574822': ['1542.02634'], '1502.809041': ['1516.080808'], '1517.908656': ['1565.512179'], '1532.213555': ['1537.776571'], '1464.265288': ['1541.750154'], '1420.237989': ['1486.91471'], '1416.820708': ['1425.56259'], '1425.721534': ['1438.436999', '1437.642282'], '1454.33133': ['1454.33133'], '1434.582624': ['1460.410912'], '1441.615865': ['1474.199245'], '1450.556427': ['1462.993741'], '1426.714929': ['1461.682459'], '1404.820488': ['1444.476845'], '1361.349491': ['1410.145089', '1375.65439', '1361.349491'], '1378.753784': ['1378.753784'], '1417.774368': ['1417.774368', '1417.774368'], '1402.873432': ['1422.065837'], '1393.376569': ['1410.462976'], '1383.601555': ['1390.754004'], '1390.595061': ['1394.250757'], '1401.08532': ['1401.880037'], '1398.303812': ['1410.224561'], '1446.4239': ['1446.662315'], '1460.609591': ['1460.609591'], '1445.509976': ['1465.218947', '1459.09963'], '1458.543328': ['1478.172828'], '1449.404088': ['1468.636229'], '1433.907114': ['1448.688843'], '1467.841512': ['1467.841512', '1478.172828'], '1474.199245': ['1490.490935', '1514.72979'], '1474.159509': ['1485.325277'], '1488.464407': ['1500.424892'], '1446.582844': ['1492.477726', '1449.563031'], '1436.052849': ['1458.304913'], '1458.265177': ['1497.047346'], '1420.953234': ['1461.48378'], '1471.020378': ['1484.05373'], '1451.947181': ['1478.967544'], '1462.278496': ['1476.543659', '1480.119883'], '1468.636229': ['1471.974038'], '1455.404198': ['1476.027093'], '1438.595942': ['1463.828193'], '1478.172828': ['1482.14641'], '1494.385046': ['1509.166774', '1494.385046'], '1513.935073': ['1523.511408'], '1509.961491': ['1536.981854'], '1458.304913': ['1513.935073'], '1446.384165': ['1473.404528'], '1434.463416': ['1434.463416'], '1394.767323': ['1442.013224'], '1426.51625': ['1443.205298', '1438.436999'], '1424.211572': ['1424.211572'], '1424.569195': ['1444.158958'], '1411.416635': ['1434.463416'], '1364.766773': ['1414.595502'], '1358.170625': ['1393.932871'], '1339.097427': ['1374.819937', '1355.627532'], '1374.859673': ['1378.038539'], '1345.137273': ['1370.88609'], '1360.872661': ['1367.707224'], '1359.561379': ['1372.952353'], '1327.25615': ['1367.786695'], '1392.899739': ['1396.5157'], '1428.9004': ['1444.993411'], '1430.132211': ['1430.132211'], '1423.297648': ['1457.19231'], '1431.483229': ['1431.483229'], '1459.09963': ['1461.48378'], '1398.740906': ['1463.867929'], '1470.225662': ['1472.252189'], '1451.66903': ['1470.225662'], '1447.973598': ['1474.993961'], '1478.411243': ['1498.001006'], '1502.25274': ['1503.285871'], '1549.49864': ['1556.849768'], '1579.976021': ['1580.015757'], '1602.545971': ['1606.479818'], '1578.823682': ['1607.03612'], '1564.002218': ['1591.777562'], '1570.35995': ['1578.386588'], '1571.949383': ['1588.55896'], '1609.062647': ['1609.658685'], '1567.9758': ['1622.970187'], '1573.459345': ['1584.505905'], '1539.366004': ['1570.201007'], '1573.538816': ['1588.55896'], '1589.433148': ['1605.327479'], '1565.591651': ['1605.248008'], '1569.565234': ['1591.022581'], '1581.684661': ['1591.340468'], '1553.670902': ['1586.413225'], '1565.671122': ['1573.538816'], '1585.658244': ['1597.499521'], '1609.301062': ['1610.811024'], '1649.036891': ['1654.75885', '1649.036891'], '1623.049659': ['1656.904585'], '1622.334414': ['1638.904255'], '1644.268592': ['1664.136506'], '1645.937496': ['1654.162813'], '1668.904805': ['1683.448119', '1694.335736'], '1628.096109': ['1676.057255'], '1637.116142': ['1656.427755'], '1613.51306': ['1650.387909'], '1617.089285': ['1648.957419'], '1627.579544': ['1632.66573'], '1653.80519': ['1676.335405'], '1656.864849': ['1672.083672'], '1586.254282': ['1667.315372'], '1614.903814': ['1624.956979'], '1635.526709': ['1655.156209'], '1642.520215': ['1642.520215'], '1641.089725': ['1657.778773'], '1653.010474': ['1676.851971'], '1684.799137': ['1711.581085'], '1659.368206': ['1689.845587'], '1688.77272': ['1703.077618'], '1704.86573': ['1708.640634'], '1715.395725': ['1730.097982'], '1748.376463': ['1751.555329'], '1751.555329': ['1760.69457'], '1751.277178': ['1760.297211'], '1760.297211': ['1761.131664', '1771.423243'], '1703.872335': ['1760.297211'], '1706.256484': ['1708.640634'], '1701.488185': ['1710.071124'], '1692.587359': ['1722.428967'], '1709.037992': ['1716.428857'], '1673.951256': ['1720.481911', '1673.951256'], '1653.169417': ['1689.130342'], '1692.746303': ['1704.667051'], '1674.229406': ['1713.846028'], '1678.640083': ['1680.825554'], '1651.421041': ['1685.593853'], '1656.904585': ['1673.593633'], '1635.486973': ['1670.613446'], '1598.17503': ['1640.295009'], '1539.922305': ['1600.956538'], '1530.624122': ['1566.783726'], '1551.286752': ['1560.74388'], '1541.750154': ['1558.439202'], '1559.233918': ['1568.730781'], '1531.418838': ['1568.373159'], '1536.505024': ['1552.319884'], '1548.823131': ['1550.492036'], '1487.709427': ['1571.830176'], '1480.119883': ['1480.119883'], '1453.536614': ['1482.941127', '1470.305134'], '1444.794732': ['1454.172387', '1472.609812'], '1448.768314': ['1466.212343'], '1451.152464': ['1462.755326'], '1478.133092': ['1480.159619'], '1442.410582': ['1477.060224'], '1458.940687': ['1472.768755'], '1454.410802': ['1470.14619'], '1463.867929': ['1463.867929'], '1474.993961': ['1475.788678'], '1490.093576': ['1490.093576'], '1467.046796': ['1487.709427'], '1467.245475': ['1488.861766'], '1472.013774': ['1489.616746'], '1500.424892': ['1508.372057'], '1430.489833': ['1445.947071', '1438.357527'], '1439.231715': ['1445.072882', '1453.457142'], '1422.542667': ['1440.741677'], '1400.290603': ['1426.436779'], '1402.674753': ['1421.747951'], '1406.052299': ['1406.052299'], '1416.979651': ['1418.529349'], '1414.595502': ['1430.489833'], '1409.032486': ['1426.51625'], '1398.70117': ['1414.595502'], '1398.860114': ['1410.621919'], '1394.966002': ['1401.164792'], '1376.528578': ['1401.08532'], '1384.396272': ['1403.9463'], '1382.806839': ['1402.674753', '1394.727587'], '1362.938924': ['1392.820268'], '1391.548721': ['1404.264186'], '1399.694566': ['1399.694566'], '1431.28455': ['1442.410582', '1452.702161'], '1438.754886': ['1438.754886'], '1461.48378': ['1463.152684'], '1403.548941': ['1436.887302'], '1430.966663': ['1449.960389'], '1388.13144': ['1434.225001'], '1389.601665': ['1389.601665'], '1386.780422': ['1394.727587'], '1390.992419': ['1406.250978'], '1370.965562': ['1398.70117'], '1347.044593': ['1373.349712'], '1367.309866': ['1368.780091'], '1351.018176': ['1366.912507'], '1331.944978': ['1362.938924'], '1311.282347': ['1345.216745'], '1314.461213': ['1314.461213'], '1304.924614': ['1312.87178'], '1319.229513': ['1327.057471'], '1285.851417': ['1327.176679'], '1295.427751': ['1295.427751'], '1291.414433': ['1311.202875'], '1340.68686': ['1340.68686'], '1373.906013': ['1373.906013'], '1358.130889': ['1364.170735'], '1372.475523': ['1379.627972'], '1357.93221': ['1380.780311'], '1353.402326': ['1364.846244', '1355.786475'], '1348.157196': ['1348.157196'], '1346.249876': ['1356.02489'], '1341.958407': ['1341.958407'], '1331.150261': ['1363.177339'], '1343.07101': ['1346.249876'], '1335.123844': ['1358.528247'], '1324.792529': ['1338.620597'], '1303.335181': ['1347.561159'], '1294.513827': ['1306.434576'], '1280.328137': ['1286.606397'], '1282.67255': ['1296.739034'], '1263.798032': ['1294.593299'], '1277.665836': ['1286.089832'], '1259.62577': ['1280.844702'], '1269.122633': ['1276.235346'], '1243.731438': ['1269.122633'], '1227.837107': ['1247.546078'], '1233.400123': ['1255.493244', '1242.142005'], '1255.652187': ['1262.645693'], '1210.393078': ['1268.367652'], '1215.916358': ['1243.731438', '1219.492583'], '1148.365449': ['1211.942775'], '1184.127695': ['1186.591317'], '1196.048444': ['1201.373045', '1206.340023'], '1188.260221': ['1194.975576'], '1207.969192': ['1207.969192'], '1200.022027': ['1220.327035'], '1234.194839': ['1241.42676'], '1212.240945': ['1228.37842', '1218.804033'], '1198.574279': ['1213.785201'], '1216.101585': ['1219.962225'], '1213.013073': ['1219.190097'], '1204.519665': ['1209.924561'], '1206.372772': ['1211.314391'], '1196.605353': ['1209.924561'], '1193.902905': ['1204.403846'], '1176.723057': ['1203.631718'], '1182.745655': ['1192.937745'], '1185.216465': ['1189.849233', '1208.843581'], '1189.077105': ['1193.053564', '1189.077105'], '1188.691041': ['1200.659025'], '1195.176916': ['1196.798385'], '1196.798385': ['1217.645841', '1209.924561'], '1202.975409': ['1221.815332'], '1183.093113': ['1217.182564'], '1158.191985': ['1196.798385', '1182.05074', '1158.191985'], '1144.795565': ['1157.342645'], '1142.749426': ['1161.666561', '1180.197633'], '1164.369009': ['1169.310628'], '1178.267313': ['1180.583697'], '1177.495185': ['1183.710815', '1183.054507', '1195.949044', '1196.798385'], '1154.331345': ['1173.595939', '1181.240006'], '1163.7127': ['1177.495185'], '1134.256018': ['1164.369009'], '1155.103473': ['1155.528144'], '1174.406673': ['1186.760721'], '1185.370891': ['1189.077105'], '1184.444337': ['1200.659025'], '1258.568624': ['1264.359584', '1258.568624'], '1231.544144': ['1257.796496', '1231.544144'], '1221.699513': ['1250.075216'], '1217.645841': ['1234.632656'], '1150.470705': ['1209.229645'], '1179.078047': ['1195.98765'], '1203.747537': ['1203.747537', '1209.07522'], '1224.594992': ['1227.683504'], '1253.935856': ['1265.440563', '1272.466928', '1304.664665'], '1254.283314': ['1254.283314'], '1231.466932': ['1259.186326'], '1243.126064': ['1261.657136'], '1272.852992': ['1288.565796'], '1267.911373': ['1302.425494'], '1285.901955': ['1301.035664'], '1320.416076': ['1327.905718'], '1326.940558': ['1357.401007'], '1332.692911': ['1343.386884'], '1297.175024': ['1339.642063'], '1274.011184': ['1297.097811', '1319.373703', '1281.732464', '1292.38783'], '1269.996118': ['1282.002709'], '1262.58369': ['1302.657132'], '1274.628886': ['1274.628886'], '1272.466928': ['1277.871824', '1304.124175', '1283.778603'], '1280.728697': ['1286.288019'], '1257.950922': ['1280.38124'], '1261.232466': ['1261.232466', '1261.232466'], '1261.657136': ['1272.312502'], '1284.820976': ['1289.453744'], '1302.579919': ['1309.529071'], '1281.732464': ['1303.00459', '1301.035664'], '1263.201392': ['1282.620411'], '1287.909488': ['1287.909488'], '1291.770128': ['1299.336982'], '1328.060143': ['1328.060143'], '1301.035664': ['1345.8963'], '1338.059201': ['1347.363343'], '1298.333216': ['1343.309671', '1311.652423'], '1324.12229': ['1324.12229', '1337.016828'], '1324.23811': ['1339.101573'], '1340.491404': ['1356.706092'], '1357.401007': ['1366.473511'], '1388.67219': ['1396.779534'], '1379.831325': ['1393.382171'], '1358.945263': ['1396.239045', '1369.175959'], '1363.578031': ['1370.527183'], '1338.252233': ['1338.252233'], '1327.249409': ['1354.312495'], '1304.896303': ['1355.00741'], '1331.920783': ['1335.781423', '1341.804021', '1343.502703'], '1388.286126': ['1388.286126'], '1392.494224': ['1403.998931'], '1370.527183': ['1423.302131'], '1324.199503': ['1372.264471', '1354.312495', '1324.199503'], '1382.88123': ['1397.513056'], '1385.969742': ['1404.423601'], '1397.551662': ['1420.715502'], '1382.302134': ['1411.449966'], '1393.189139': ['1393.189139'], '1405.272942': ['1409.094976'], '1334.159954': ['1415.310606'], '1347.363343': ['1362.805903'], '1353.810612': ['1353.810612'], '1340.452797': ['1362.033775'], '1319.566735': ['1350.451855'], '1266.289904': ['1283.27672'], '1261.579923': ['1271.6948'], '1242.353936': ['1263.201392'], '1251.078983': ['1254.707984'], '1251.619472': ['1266.135478'], '1212.047913': ['1243.126064'], '1185.177859': ['1205.253186'], '1233.860528': ['1236.215519'], '1226.023429': ['1226.023429'], '1223.784258': ['1242.817213', '1255.981995'], '1219.962225': ['1233.0884'], '1205.562038': ['1228.957516'], '1135.028146': ['1216.101585'], '1132.325698': ['1144.602533'], '1131.167506': ['1136.572402', '1137.383136', '1134.217411'], '1101.903855': ['1128.851122'], '1104.143026': ['1114.952818', '1119.740011'], '1148.81063': ['1149.814397'], '1129.62325': ['1147.382193'], '1109.470709': ['1130.395378'], '1101.015908': ['1130.395378'], '1112.636434': ['1118.04133', '1153.288973'], '1120.859597': ['1137.383136'], '1100.282386': ['1138.116658', '1115.763552'], '1140.973531': ['1160.662795'], '1235.404784': ['1235.404784'], '1244.67032': ['1248.067683'], '1235.366178': ['1244.979171'], '1255.480112': ['1268.37465'], '1246.986704': ['1261.888774'], '1234.709869': ['1250.075216'], '1250.847344': ['1250.847344'], '1228.455632': ['1250.847344'], '1277.833217': ['1283.160901'], '1274.59028': ['1280.110995'], '1276.327568': ['1318.717394'], '1264.745648': ['1281.732464'], '1244.940565': ['1287.909488'], '1307.984815': ['1308.409486'], '1327.288015': ['1327.288015'], '1331.071442': ['1342.730575'], '1312.849222': ['1312.849222'], '1324.508354': ['1331.920783'], '1308.949975': ['1328.060143'], '1312.617583': ['1335.626997'], '1247.758832': ['1278.643952'], '1271.6948': ['1287.02154'], '1236.794615': ['1294.781427'], '1234.632656': ['1244.631714'], '1258.530018': ['1260.923614'], '1320.338863': ['1334.159954'], '1339.642063': ['1355.856751', '1348.907599'], '1356.628879': ['1370.44997'], '1341.958447': ['1354.235282'], '1347.170311': ['1347.170311'], '1365.894415': ['1366.126053'], '1334.430199': ['1339.642063'], '1316.478223': ['1349.64112', '1362.651477'], '1334.546018': ['1351.223983'], '1361.261647': ['1366.396298'], '1389.598744': ['1408.013997'], '1352.497994': ['1352.497994', '1352.497994'], '1283.27672': ['1317.250351'], '1257.796496': ['1277.833217'], '1268.606288': ['1277.871824'], '1262.429264': ['1273.972577', '1268.220224'], '1224.826631': ['1266.251298'], '1224.981056': ['1239.188211'], '1223.822864': ['1248.492354'], '1210.696689': ['1227.29744'], '1154.408558': ['1214.480116'], '1171.627012': ['1187.918913'], '1156.609123': ['1156.609123'], '1159.659029': ['1169.387841'], '1173.248481': ['1183.788028'], '1181.355825': ['1208.727762'], '1162.052625': ['1195.485767', '1248.53096'], '1193.594054': ['1193.594054'], '1197.570513': ['1197.570513'], '1257.140187': ['1261.271072'], '1240.80968': ['1258.568624'], '1258.452805': ['1259.340752'], '1258.761656': ['1265.093106'], '1239.265424': ['1268.297437'], '1240.037552': ['1250.847344'], '1257.024368': ['1274.011184'], '1264.900074': ['1273.161843'], '1270.691033': ['1290.998'], '1289.453744': ['1308.641124'], '1265.517776': ['1265.90384'], '1214.981999': ['1214.981999', '1214.981999'], '1226.911376': ['1227.683504'], '1169.773905': ['1191.007425'], '1173.827577': ['1204.519665'], '1146.610065': ['1212.627009'], '1103.9886': ['1151.860536'], '1091.01685': ['1123.060162'], '1119.778618': ['1125.724003'], '1127.306866': ['1136.495189'], '1123.098768': ['1123.098768'], '1138.888786': ['1146.224001'], '1049.321939': ['1134.178805'], '1051.831355': ['1117.50084'], '1078.662802': ['1096.267321'], '1123.446226': ['1126.843589'], '1128.156207': ['1138.116658'], '1142.324755': ['1161.936806'], '1136.958466': ['1156.184453'], '1117.269202': ['1144.293682'], '1106.845474': ['1121.90197'], '1116.497074': ['1122.558279'], '1119.122309': ['1124.218354'], '1101.826642': ['1107.038506'], '1111.864306': ['1118.195755'], '1103.13926': ['1114.18069'], '1100.784269': ['1108.003666'], '1092.792745': ['1103.370898'], '1126.534738': ['1129.777675'], '1108.003666': ['1125.76261'], '1112.25037': ['1123.446226'], '1127.345472': ['1129.62325'], '1129.237186': ['1140.046978'], '1106.45941': ['1130.395378'], '1094.105362': ['1114.18069'], '1100.977301': ['1115.724946'], '1121.747544': ['1121.747544'], '1105.764495': ['1110.937752'], '1092.406681': ['1097.000842'], '1076.346418': ['1095.649618'], '1042.802304': ['1069.478293'], '1043.777798': ['1083.547908'], '1005.508446': ['1046.779315'], '1008.509964': ['1050.418656', '1014.13781'], '994.740501': ['1010.761102'], '990.500858': ['997.254273', '1002.506929', '992.751996', '1005.058219'], '1000.25579': ['1008.28485'], '1005.696041': ['1023.855224'], '1024.267932': ['1024.267932'], '1034.022865': ['1034.92332'], '1009.447938': ['1033.272486'], '1001.681511': ['1011.436444'], '1002.506929': ['1004.607991', '1014.663075'], '1004.382877': ['1008.509964'], '1013.76262': ['1014.513'], '1020.516035': ['1020.516035', '1027.194412'], '1031.771727': ['1042.277039'], '994.252755': ['1031.621651'], '1010.160799': ['1024.192894'], '996.428855': ['1016.013758', '999.392854'], '976.243648': ['992.001616'], '974.742889': ['980.745925'], '982.246684': ['982.321722'], '995.753514': ['995.753514', '1004.532953'], '973.99251': ['1002.056701'], '975.493269': ['982.846987'], '988.324757': ['997.854576'], '976.994028': ['990.500858', '997.479386'], '997.179235': ['998.755031'], '983.072101': ['1022.767173'], '989.600402': ['1005.508446'], '987.349264': ['997.967133'], '973.242131': ['995.378324'], '998.004652': ['1006.859129', '1009.260344', '1014.513', '1008.134774', '1020.065807'], '967.989474': ['994.252755'], '978.494787': ['985.66091'], '1022.016794': ['1022.016794', '1040.0259'], '1070.153635': ['1091.802082'], '1109.285923': ['1122.830271'], '1105.308912': ['1125.944346'], '1107.972759': ['1121.817259'], '1117.990324': ['1121.817259'], '1108.310429': ['1118.065362'], '1099.305876': ['1113.713161', '1099.305876', '1115.814224'], '1110.561568': ['1113.675642'], '1095.553979': ['1110.11134'], '1073.192672': ['1096.266839'], '1073.042596': ['1090.301323', '1073.042596'], '1046.96691': ['1069.290699'], '1049.593238': ['1049.593238'], '1032.522106': ['1054.245591'], '1037.099421': ['1037.099421'], '1058.035007': ['1058.110045'], '1087.224767': ['1088.050184'], '1095.51646': ['1095.51646'], '1080.54639': ['1099.305876'], '1094.578486': ['1094.578486'], '1104.558532': ['1106.359443'], '1109.060809': ['1111.987289', '1109.060809'], '1075.293734': ['1106.059291'], '1065.463763': ['1073.042596'], '1050.531213': ['1067.03956', '1053.870401'], '1043.027418': ['1059.873437', '1043.665241', '1073.042596'], '1028.019829': ['1040.40109'], '1022.429503': ['1031.396537'], '1022.767173': ['1034.060384'], '1021.941756': ['1028.019829'], '1019.390466': ['1027.457045'], '1026.519071': ['1039.275521', '1031.696689'], '1036.911826': ['1040.888837'], '1016.088796': ['1041.526659'], '1028.057348': ['1045.203519'], '1046.779315': ['1051.506706'], '1057.809893': ['1060.398702'], '1049.780833': ['1065.463763'], '1029.520588': ['1047.904885'], '1039.125445': ['1042.277039'], '1001.756549': ['1027.26945', '1019.915732', '1013.012241'], '1002.131739': ['1002.131739'], '958.009428': ['1005.508446'], '964.237577': ['990.500858'], '969.490233': ['971.666334', '982.997063'], '979.995545': ['979.995545'], '995.003134': ['998.004652'], '1013.950215': ['1022.692135'], '974.3677': ['974.3677'], '949.229989': ['979.170128'], '900.455325': ['952.231506', '904.957602'], '892.951531': ['921.691063'], '919.96519': ['923.829645'], '922.966708': ['940.975815', '925.517998'], '910.960637': ['937.974297', '922.816632'], '940.975815': ['946.97885'], '952.681734': ['956.283555'], '937.974297': ['948.329533'], '967.239095': ['967.239095'], '982.997063': ['989.30025'], '971.253625': ['971.253625'], '986.74896': ['990.575896'], '992.076654': ['1005.508446'], '970.240613': ['994.252755'], '953.169481': ['974.742889'], '933.47202': ['957.484162'], '965.062995': ['971.891448'], '987.49934': ['992.376806'], '955.233024': ['991.251237'], '1037.924838': ['1043.965393'], '1109.811188': ['1114.163389'], '1168.340784': ['1174.081187'], '1114.313465': ['1162.337749'], '1118.815741': ['1118.815741'], '1103.132811': ['1116.489565'], '1100.056255': ['1106.622076'], '1088.050184': ['1097.655041', '1088.087703'], '1093.790587': ['1093.790587'], '1101.557014': ['1101.557014', '1109.811188'], '1091.87712': ['1109.060809'], '1103.17033': ['1103.17033'], '1123.318018': ['1123.318018', '1123.318018', '1144.328642'], '1127.069915': ['1130.671737', '1127.820295'], '1141.327125': ['1141.327125'], '1170.70448': ['1176.594958'], '1200.6071': ['1208.110894', '1200.6071', '1211.862792'], '1190.852167': ['1208.110894', '1211.112412'], '1202.145378': ['1218.541169'], '1177.345338': ['1212.237981'], '1195.354444': ['1195.354444'], '1182.673032': ['1196.104823'], '1193.853685': ['1193.853685'], '1202.483049': ['1212.65069'], '1226.120001': ['1230.397164'], '1212.613171': ['1249.306726'], '1229.459189': ['1249.381764'], '1192.352926': ['1237.713363'], '1175.469389': ['1204.321478'], '1175.094199': ['1188.901181'], '1163.838508': ['1189.914193'], '1170.666961': ['1170.666961'], '1199.106341': ['1205.071858'], '1170.591923': ['1216.327549', '1194.866697', '1193.103306'], '1209.611653': ['1211.862792'], '1202.858238': ['1211.862792'], '1217.75327': ['1223.118483'], '1211.862792': ['1217.115448'], '1193.103306': ['1211.487602'], '1144.40368': ['1166.840025'], '1151.832437': ['1157.835472'], '1103.432963': ['1127.069915'], '1124.068397': ['1128.870826', '1133.072951'], '1122.567639': ['1126.844801'], '1127.820295': ['1127.820295'], '1129.246016': ['1131.497154'], '1144.328642': ['1154.571322', '1166.464836'], '1131.572192': ['1147.70535'], '1142.752845': ['1150.106564'], '1158.098105': ['1169.391316'], '1151.082057': ['1166.764987'], '1170.629442': ['1170.629442'], '1165.601899': ['1181.772576'], '1185.599511': ['1189.388928'], '1203.683656': ['1206.985325'], '1151.644842': ['1192.352926'], '1113.488047': ['1165.864532'], '1124.818777': ['1133.072951'], '1094.803599': ['1123.318018'], '1090.301323': ['1102.08228'], '1091.802082': ['1117.014831'], '1076.794493': ['1089.550943'], '1087.299805': ['1090.901626'], '1094.353372': ['1098.555497'], '1086.549426': ['1100.056255'], '1094.05322': ['1102.307394'], '1106.847189': ['1110.449011'], '1107.297417': ['1125.569156'], '1106.80967': ['1134.836342'], '1095.103751': ['1095.103751'], '1116.039338': ['1124.70622'], '1126.54465': ['1135.136494'], '1140.576745': ['1151.832437'], '1086.174236': ['1136.787329'], '1050.24982': ['1084.260768'], '1037.399572': ['1052.313364'], '1050.549972': ['1050.549972'], '1055.033489': ['1058.67283'], '1040.476128': ['1061.411714'], '1057.659817': ['1057.659817'], '1068.915509': ['1074.149405'], '1031.377777': ['1057.509741'], '1014.513': ['1049.405643'], '1002.319334': ['1010.235837'], '999.880601': ['1012.261861'], '956.733783': ['994.215236'], '1001.381359': ['1001.381359'], '1020.065807': ['1020.872465'], '1016.839176': ['1029.895778'], '1021.266415': ['1029.858259'], '1023.892743': ['1037.399572'], '1019.765656': ['1028.019829'], '1026.143881': ['1033.610156'], '1013.012241': ['1031.734208'], '1017.514517': ['1026.087602'], '948.854799': ['1000.27455'], '934.2224': ['955.233024'], '945.778243': ['947.316521'], '910.210258': ['937.411512'], '901.261983': ['910.566688'], '906.83355': ['909.853828'], '909.835068': ['913.511927'], '918.839621': ['941.726194'], '902.331274': ['947.35404'], '904.207222': ['907.959119'], '913.586965': ['914.712534'], '907.490132': ['911.673498'], '905.876817': ['912.048687'], '898.421494': ['905.763829'], '896.281516': ['911.298253'], '889.658656': ['921.481594'], '919.083343': ['921.961244'], '903.955918': ['925.65086', '922.403998'], '906.90761': ['924.248806'], '887.352646': ['914.286842'], '899.89734': ['899.89734'], '858.795018': ['902.885929'], '859.920351': ['872.963143'], '844.922062': ['863.370142'], '845.493952': ['857.835718'], '846.76687': ['848.574782'], '835.919399': ['845.475504'], '846.416356': ['851.434234'], '835.882503': ['848.611678'], '848.242716': ['854.146102', '849.718563'], '809.649333': ['839.387638'], '812.453441': ['817.249942'], '804.336286': ['817.987865'], '799.908747': ['811.125179'], '810.977595': ['822.415404'], '820.570596': ['828.687751'], '798.469796': ['818.725788'], '814.113768': ['817.157701'], '798.801862': ['821.640585', '807.933661'], '791.42263': ['808.025902'], '768.45477': ['790.481778'], '755.633355': ['776.645718'], '748.992046': ['752.3127'], '789.577822': ['791.441078'], '773.343512': ['786.995091'], '802.343893': ['805.129553'], '800.64667': ['804.262494', '802.491478'], '815.405134': ['820.349219'], '801.476834': ['817.249942'], '784.41236': ['795.112246'], '786.626129': ['798.063939'], '767.440126': ['785.113387', '769.082005'], '756.371278': ['765.337045'], '765.060324': ['782.19859'], '753.105968': ['767.440126'], '785.777517': ['785.777517'], '772.97455': ['789.20886'], '774.450396': ['778.306045'], '769.266486': ['774.450396'], '743.457622': ['764.857395'], '773.712473': ['778.103116'], '774.89315': ['784.043398'], '780.722744': ['787.253364'], '771.793873': ['784.707529'], '769.377174': ['781.405323'], '739.472837': ['776.553477'], '753.419585': ['756.371278'], '774.819358': ['783.194786'], '774.044539': ['774.044539'], '765.595318': ['779.246897'], '768.436322': ['771.111294'], '766.702203': ['774.081435'], '762.643625': ['773.325064'], '754.52647': ['772.605588'], '775.206768': ['779.947924'], '741.981776': ['778.508974'], '736.853209': ['736.853209'], '739.768006': ['748.4755'], '734.233582': ['754.157508', '745.191742'], '726.85435': ['758.197638'], '701.764961': ['736.07839'], '686.268574': ['697.964657'], '681.841035': ['681.841035'], '690.696113': ['690.806802'], '682.578958': ['685.530651', '691.839894', '697.337422'], '672.985957': ['683.482914'], '679.424337': ['679.424337'], '676.435748': ['679.627265'], '682.542062': ['684.423766', '689.367852'], '675.199726': ['684.423766', '677.062982'], '688.482344': ['699.18223'], '701.654273': ['708.000412'], '704.901135': ['713.202771'], '700.658077': ['704.716654'], '693.647806': ['702.318404'], '674.388011': ['687.375459'], '670.64305': ['670.64305'], '638.100637': ['673.72388'], '631.82829': ['648.228633'], '635.351874': ['648.92966'], '656.751646': ['667.820494', '661.419011'], '664.130878': ['673.354918', '691.434037'], '680.807943': ['680.807943'], '667.820494': ['667.820494'], '660.441262': ['669.665302'], '659.98006': ['659.98006'], '658.596454': ['663.743469'], '640.886298': ['663.300715'], '628.599876': ['641.624221'], '638.303566': ['640.591128'], '608.786638': ['625.758872'], '628.895046': ['631.846738'], '626.865757': ['634.115852'], '641.974734': ['644.575914'], '644.834187': ['649.741376'], '616.16587': ['676.159026'], '626.496795': ['630.500029'], '638.672528': ['640.148374'], '639.004593': ['639.004593'], '659.039208': ['663.577436'], '666.067927': ['673.354918'], '660.404366': ['677.616425'], '645.645902': ['658.227493'], '640.148374': ['645.313837'], '632.769142': ['639.410451'], '632.400181': ['637.565643'], '636.458758': ['644.741946'], '625.020949': ['634.189645'], '613.583139': ['619.781694'], '621.368229': ['627.179374'], '635.720835': ['637.934605'], '645.682798': ['645.682798'], '645.240044': ['648.320874'], '651.217222': ['654.150467'], '647.453814': ['647.453814']}\n"
     ]
    }
   ],
   "source": [
    "data = {}\n",
    "with open(\"XNSE-BAJAJ_AUTO.csv\") as b, open(\"data-write\", \"w+\") as fw:\n",
    "    price_list = []\n",
    "    for rec in b:\n",
    "        rec= rec.strip()\n",
    "        cols = [i.strip('\"') for i in rec.split(\",\")]\n",
    "        if cols[2] == \"Open\" or cols[2] == \"High\":\n",
    "            continue\n",
    "        if cols[1] in data:\n",
    "            data[cols[1].strip()].append(cols[2])\n",
    "        else:\n",
    "            data[cols[1].strip()] = [cols[2]]\n",
    "    fw.write(str(data))\n",
    "print(data)"
   ]
  },
  {
   "cell_type": "code",
   "execution_count": 200,
   "metadata": {},
   "outputs": [],
   "source": [
    "direnames = [name for name in os.listdir('/') if os.path.isdir(os.path.join('/', name))]"
   ]
  },
  {
   "cell_type": "code",
   "execution_count": 201,
   "metadata": {},
   "outputs": [
    {
     "data": {
      "text/plain": [
       "['home',\n",
       " 'usr',\n",
       " 'bin',\n",
       " 'sbin',\n",
       " 'etc',\n",
       " 'var',\n",
       " 'Library',\n",
       " 'System',\n",
       " 'private',\n",
       " '.vol',\n",
       " 'Users',\n",
       " 'Applications',\n",
       " 'opt',\n",
       " 'dev',\n",
       " 'Volumes',\n",
       " 'tmp',\n",
       " 'cores']"
      ]
     },
     "execution_count": 201,
     "metadata": {},
     "output_type": "execute_result"
    }
   ],
   "source": [
    "direnames"
   ]
  },
  {
   "cell_type": "code",
   "execution_count": 202,
   "metadata": {},
   "outputs": [],
   "source": [
    "direnames = [name for name in os.listdir('/') if name.endswith(\".py\")]"
   ]
  },
  {
   "cell_type": "code",
   "execution_count": 203,
   "metadata": {},
   "outputs": [
    {
     "data": {
      "text/plain": [
       "[]"
      ]
     },
     "execution_count": 203,
     "metadata": {},
     "output_type": "execute_result"
    }
   ],
   "source": [
    "direnames"
   ]
  },
  {
   "cell_type": "code",
   "execution_count": 204,
   "metadata": {},
   "outputs": [],
   "source": [
    "import pickle\n",
    "data ={\"key\": \"john\", \"name\":\"xyz\", \"age\":20, \"pay\":40000}\n"
   ]
  },
  {
   "cell_type": "code",
   "execution_count": 205,
   "metadata": {},
   "outputs": [
    {
     "data": {
      "text/plain": [
       "{'key': 'john', 'name': 'xyz', 'age': 20, 'pay': 40000}"
      ]
     },
     "execution_count": 205,
     "metadata": {},
     "output_type": "execute_result"
    }
   ],
   "source": [
    "data"
   ]
  },
  {
   "cell_type": "code",
   "execution_count": 206,
   "metadata": {},
   "outputs": [],
   "source": [
    "f = open(\"p1-example\", \"wb\")\n",
    "# dump the pickle object using dump method\n",
    "pickle.dump(data, f)"
   ]
  },
  {
   "cell_type": "code",
   "execution_count": 208,
   "metadata": {},
   "outputs": [],
   "source": [
    "s = pickle.dumps(data) # dump into string"
   ]
  },
  {
   "cell_type": "code",
   "execution_count": 209,
   "metadata": {},
   "outputs": [
    {
     "data": {
      "text/plain": [
       "b'\\x80\\x04\\x950\\x00\\x00\\x00\\x00\\x00\\x00\\x00}\\x94(\\x8c\\x03key\\x94\\x8c\\x04john\\x94\\x8c\\x04name\\x94\\x8c\\x03xyz\\x94\\x8c\\x03age\\x94K\\x14\\x8c\\x03pay\\x94M@\\x9cu.'"
      ]
     },
     "execution_count": 209,
     "metadata": {},
     "output_type": "execute_result"
    }
   ],
   "source": [
    "s"
   ]
  },
  {
   "cell_type": "code",
   "execution_count": 210,
   "metadata": {},
   "outputs": [],
   "source": [
    "# restore file \n",
    "\n",
    "f = open(\"p1-example\", \"rb\")\n",
    "# load object\n",
    "data = pickle.load(f)"
   ]
  },
  {
   "cell_type": "code",
   "execution_count": 211,
   "metadata": {},
   "outputs": [
    {
     "data": {
      "text/plain": [
       "{'key': 'john', 'name': 'xyz', 'age': 20, 'pay': 40000}"
      ]
     },
     "execution_count": 211,
     "metadata": {},
     "output_type": "execute_result"
    }
   ],
   "source": [
    "data"
   ]
  },
  {
   "cell_type": "code",
   "execution_count": 212,
   "metadata": {},
   "outputs": [],
   "source": [
    "# restore back\n",
    "j = pickle.loads(s)"
   ]
  },
  {
   "cell_type": "code",
   "execution_count": 213,
   "metadata": {},
   "outputs": [
    {
     "data": {
      "text/plain": [
       "{'key': 'john', 'name': 'xyz', 'age': 20, 'pay': 40000}"
      ]
     },
     "execution_count": 213,
     "metadata": {},
     "output_type": "execute_result"
    }
   ],
   "source": [
    "j"
   ]
  },
  {
   "cell_type": "code",
   "execution_count": 214,
   "metadata": {},
   "outputs": [],
   "source": [
    "import pickle\n",
    "f = open(\"p1\", \"wb\")"
   ]
  },
  {
   "cell_type": "code",
   "execution_count": 215,
   "metadata": {},
   "outputs": [],
   "source": [
    "pickle.dump([1,2,3,4], f)"
   ]
  },
  {
   "cell_type": "code",
   "execution_count": 216,
   "metadata": {},
   "outputs": [],
   "source": [
    "pickle.dump({\"key\": \"john\", \"name\":\"xyz\", \"age\":20, \"pay\":40000}, f)"
   ]
  },
  {
   "cell_type": "code",
   "execution_count": 217,
   "metadata": {},
   "outputs": [],
   "source": [
    "pickle.dump(\"helloo\", f)"
   ]
  },
  {
   "cell_type": "code",
   "execution_count": 218,
   "metadata": {},
   "outputs": [],
   "source": [
    "f.close()"
   ]
  },
  {
   "cell_type": "code",
   "execution_count": 219,
   "metadata": {},
   "outputs": [],
   "source": [
    "f =  open(\"p1\", \"rb\")"
   ]
  },
  {
   "cell_type": "code",
   "execution_count": 220,
   "metadata": {},
   "outputs": [
    {
     "data": {
      "text/plain": [
       "[1, 2, 3, 4]"
      ]
     },
     "execution_count": 220,
     "metadata": {},
     "output_type": "execute_result"
    }
   ],
   "source": [
    "pickle.load(f)"
   ]
  },
  {
   "cell_type": "code",
   "execution_count": 221,
   "metadata": {},
   "outputs": [
    {
     "data": {
      "text/plain": [
       "{'key': 'john', 'name': 'xyz', 'age': 20, 'pay': 40000}"
      ]
     },
     "execution_count": 221,
     "metadata": {},
     "output_type": "execute_result"
    }
   ],
   "source": [
    "pickle.load(f)"
   ]
  },
  {
   "cell_type": "code",
   "execution_count": 222,
   "metadata": {},
   "outputs": [
    {
     "data": {
      "text/plain": [
       "'helloo'"
      ]
     },
     "execution_count": 222,
     "metadata": {},
     "output_type": "execute_result"
    }
   ],
   "source": [
    "pickle.load(f)"
   ]
  },
  {
   "cell_type": "code",
   "execution_count": 223,
   "metadata": {},
   "outputs": [
    {
     "name": "stdout",
     "output_type": "stream",
     "text": [
      "record1 => {'key': 'john', 'name': 'xyz', 'age': 20, 'pay': 40000}\n",
      "records => [1, 2, 3, 4, 5]\n"
     ]
    }
   ],
   "source": [
    "import pickle\n",
    "\n",
    "def storeData():\n",
    "    data = {\"key\": \"john\", \"name\":\"xyz\", \"age\":20, \"pay\":40000}\n",
    "    data1 = [1,2,3,4,5]\n",
    "    \n",
    "    db = {}\n",
    "    db['record1'] = data\n",
    "    db['records'] = data1\n",
    "    dbfile = open(\"examplepickle\", \"wb\")\n",
    "    \n",
    "    # dump it\n",
    "    pickle.dump(db, dbfile)\n",
    "    dbfile.close()\n",
    "\n",
    "def loadData():\n",
    "    # for readinf purpose \n",
    "    dbfile = open(\"examplepickle\", \"rb\")\n",
    "    db = pickle.load(dbfile)\n",
    "    for keys in db:\n",
    "        print(keys, \"=>\", db[keys])\n",
    "    dbfile.close()\n",
    "\n",
    "storeData()\n",
    "loadData()\n",
    "    \n",
    "    "
   ]
  },
  {
   "cell_type": "code",
   "execution_count": 224,
   "metadata": {},
   "outputs": [
    {
     "name": "stdout",
     "output_type": "stream",
     "text": [
      "['Symbol', 'Price', 'Date', 'Time', 'Change', 'Volume']\n",
      "['AA', '39.48', '6/11/2007', '9:36am', '-0.18', '181800']\n",
      "['AIG', '71.38', '6/11/2007', '9:36am', '-0.15', '195500']\n",
      "['AXP', '62.58', '6/11/2007', '9:36am', '-0.46', '935000']\n",
      "['BA', '98.31', '6/11/2007', '9:36am', '+0.12', '104800']\n",
      "['C', '53.08', '6/11/2007', '9:36am', '-0.25', '360900']\n",
      "['CAT', '78.29', '6/11/2007', '9:36am', '-0.23', '225400']\n"
     ]
    }
   ],
   "source": [
    "# csv\n",
    "import csv\n",
    "with open(\"stock.csv\") as f:\n",
    "    f_csv = csv.reader(f)\n",
    "    headers = next(f_csv)\n",
    "    print(headers)\n",
    "    for row in f_csv:\n",
    "        print(row)\n",
    "    \n"
   ]
  },
  {
   "cell_type": "code",
   "execution_count": 226,
   "metadata": {},
   "outputs": [],
   "source": [
    "from collections import namedtuple"
   ]
  },
  {
   "cell_type": "code",
   "execution_count": 228,
   "metadata": {},
   "outputs": [
    {
     "name": "stdout",
     "output_type": "stream",
     "text": [
      "Row(Symbol='AA', Price='39.48', Date='6/11/2007', Time='9:36am', Change='-0.18', Volume='181800')\n",
      "Row(Symbol='AIG', Price='71.38', Date='6/11/2007', Time='9:36am', Change='-0.15', Volume='195500')\n",
      "Row(Symbol='AXP', Price='62.58', Date='6/11/2007', Time='9:36am', Change='-0.46', Volume='935000')\n",
      "Row(Symbol='BA', Price='98.31', Date='6/11/2007', Time='9:36am', Change='+0.12', Volume='104800')\n",
      "Row(Symbol='C', Price='53.08', Date='6/11/2007', Time='9:36am', Change='-0.25', Volume='360900')\n",
      "Row(Symbol='CAT', Price='78.29', Date='6/11/2007', Time='9:36am', Change='-0.23', Volume='225400')\n"
     ]
    }
   ],
   "source": [
    "with open(\"stock.csv\") as f:\n",
    "    f_csv = csv.reader(f)\n",
    "    headers = next(f_csv)\n",
    "    Row = namedtuple(\"Row\", headers)\n",
    "    for r in f_csv:\n",
    "        row = Row(*r)\n",
    "        print(row)\n",
    "    "
   ]
  },
  {
   "cell_type": "code",
   "execution_count": 229,
   "metadata": {},
   "outputs": [
    {
     "name": "stdout",
     "output_type": "stream",
     "text": [
      "{'Symbol': 'AA', 'Price': '39.48', 'Date': '6/11/2007', 'Time': '9:36am', 'Change': '-0.18', 'Volume': '181800'}\n",
      "{'Symbol': 'AIG', 'Price': '71.38', 'Date': '6/11/2007', 'Time': '9:36am', 'Change': '-0.15', 'Volume': '195500'}\n",
      "{'Symbol': 'AXP', 'Price': '62.58', 'Date': '6/11/2007', 'Time': '9:36am', 'Change': '-0.46', 'Volume': '935000'}\n",
      "{'Symbol': 'BA', 'Price': '98.31', 'Date': '6/11/2007', 'Time': '9:36am', 'Change': '+0.12', 'Volume': '104800'}\n",
      "{'Symbol': 'C', 'Price': '53.08', 'Date': '6/11/2007', 'Time': '9:36am', 'Change': '-0.25', 'Volume': '360900'}\n",
      "{'Symbol': 'CAT', 'Price': '78.29', 'Date': '6/11/2007', 'Time': '9:36am', 'Change': '-0.23', 'Volume': '225400'}\n"
     ]
    }
   ],
   "source": [
    "# dict reader\n",
    "import csv\n",
    "with open(\"stock.csv\") as f:\n",
    "    f_csv = csv.DictReader(f)\n",
    "    for row in f_csv:\n",
    "        print(row)\n"
   ]
  },
  {
   "cell_type": "code",
   "execution_count": 232,
   "metadata": {},
   "outputs": [],
   "source": [
    "# writing csv\n",
    "headers = ['Symbol', 'Price', 'Date', 'Time', 'Change', 'Volume']\n",
    "rows = [{'Symbol': 'AA', 'Price': '39.48', 'Date': '6/11/2007', 'Time': '9:36am', 'Change': '-0.18', 'Volume': '181800'},\n",
    "{'Symbol': 'AIG', 'Price': '71.38', 'Date': '6/11/2007', 'Time': '9:36am', 'Change': '-0.15', 'Volume': '195500'},\n",
    "{'Symbol': 'AXP', 'Price': '62.58', 'Date': '6/11/2007', 'Time': '9:36am', 'Change': '-0.46', 'Volume': '935000'},\n",
    "{'Symbol': 'BA', 'Price': '98.31', 'Date': '6/11/2007', 'Time': '9:36am', 'Change': '+0.12', 'Volume': '104800'},\n",
    "{'Symbol': 'C', 'Price': '53.08', 'Date': '6/11/2007', 'Time': '9:36am', 'Change': '-0.25', 'Volume': '360900'},\n",
    "{'Symbol': 'CAT', 'Price': '78.29', 'Date': '6/11/2007', 'Time': '9:36am', 'Change': '-0.23', 'Volume': '225400'},\n",
    "  \n",
    "]\n",
    "\n",
    "with open(\"new1.csv\", \"w\") as f:\n",
    "    f_csv = csv.writer(f)\n",
    "    f_csv.writerow(headers)\n",
    "    f_csv.writerow(rows)\n"
   ]
  },
  {
   "cell_type": "code",
   "execution_count": 235,
   "metadata": {},
   "outputs": [],
   "source": [
    "# writing csv\n",
    "import csv\n",
    "headers = ['Symbol', 'Price', 'Date', 'Time', 'Change', 'Volume']\n",
    "rows = [\n",
    "    {'Symbol': 'AA', 'Price': '39.48', 'Date': '6/11/2007', 'Time': '9:36am', 'Change': '-0.18', 'Volume': '181800'},\n",
    "{'Symbol': 'AIG', 'Price': '71.38', 'Date': '6/11/2007', 'Time': '9:36am', 'Change': '-0.15', 'Volume': '195500'}\n",
    "]\n",
    "\n",
    "with open(\"new2.csv\", \"w\") as f:\n",
    "    f_csv = csv.DictWriter(f, headers)\n",
    "    f_csv.writeheader()\n",
    "    f_csv.writerows(rows)"
   ]
  },
  {
   "cell_type": "code",
   "execution_count": 236,
   "metadata": {},
   "outputs": [
    {
     "name": "stdout",
     "output_type": "stream",
     "text": [
      "['Symbol', 'Price', 'Date', 'Time', 'Change', 'Volume\\n']\n",
      "['\"AA\"', '39.48', '\"6/11/2007\"', '\"9:36am\"', '-0.18', '181800\\n']\n",
      "['\"AIG\"', '71.38', '\"6/11/2007\"', '\"9:36am\"', '-0.15', '195500\\n']\n",
      "['\"AXP\"', '62.58', '\"6/11/2007\"', '\"9:36am\"', '-0.46', '935000\\n']\n",
      "['\"BA\"', '98.31', '\"6/11/2007\"', '\"9:36am\"', '+0.12', '104800\\n']\n",
      "['\"C\"', '53.08', '\"6/11/2007\"', '\"9:36am\"', '-0.25', '360900\\n']\n",
      "['\"CAT\"', '78.29', '\"6/11/2007\"', '\"9:36am\"', '-0.23', '225400\\n']\n"
     ]
    }
   ],
   "source": [
    "with open(\"stock.csv\") as f:\n",
    "    for line in f:\n",
    "        row = line.split(\",\")\n",
    "        print(row)"
   ]
  },
  {
   "cell_type": "code",
   "execution_count": 237,
   "metadata": {},
   "outputs": [
    {
     "name": "stdout",
     "output_type": "stream",
     "text": [
      "['Symbol,Price,Date,Time,Change,Volume']\n",
      "['AA,39.48,\"6/11/2007\",\"9:36am\",-0.18,181800']\n",
      "['AIG,71.38,\"6/11/2007\",\"9:36am\",-0.15,195500']\n",
      "['AXP,62.58,\"6/11/2007\",\"9:36am\",-0.46,935000']\n",
      "['BA,98.31,\"6/11/2007\",\"9:36am\",+0.12,104800']\n",
      "['C,53.08,\"6/11/2007\",\"9:36am\",-0.25,360900']\n",
      "['CAT,78.29,\"6/11/2007\",\"9:36am\",-0.23,225400']\n"
     ]
    }
   ],
   "source": [
    "with open(\"stock.csv\") as f:\n",
    "    f_tsv = csv.reader(f, delimiter='\\t')\n",
    "    for row in f_tsv:\n",
    "        print(row)"
   ]
  },
  {
   "cell_type": "code",
   "execution_count": 238,
   "metadata": {},
   "outputs": [
    {
     "name": "stdout",
     "output_type": "stream",
     "text": [
      "('AA', 39.48, '6/11/2007', '9:36am', -0.18, 181800)\n",
      "('AIG', 71.38, '6/11/2007', '9:36am', -0.15, 195500)\n",
      "('AXP', 62.58, '6/11/2007', '9:36am', -0.46, 935000)\n",
      "('BA', 98.31, '6/11/2007', '9:36am', 0.12, 104800)\n",
      "('C', 53.08, '6/11/2007', '9:36am', -0.25, 360900)\n",
      "('CAT', 78.29, '6/11/2007', '9:36am', -0.23, 225400)\n"
     ]
    }
   ],
   "source": [
    "col_types = [str, float, str, str, float, int]\n",
    "with open(\"stock.csv\") as f:\n",
    "    f_csv = csv.reader(f)\n",
    "    header = next(f_csv)\n",
    "    for row in f_csv:\n",
    "        # apply conversion to row item\n",
    "        row = tuple(convert(value) for convert, value in zip(col_types, row))\n",
    "        print(row)"
   ]
  },
  {
   "cell_type": "code",
   "execution_count": 240,
   "metadata": {},
   "outputs": [
    {
     "name": "stdout",
     "output_type": "stream",
     "text": [
      "{'Symbol': 'AA', 'Price': 39.48, 'Date': '6/11/2007', 'Time': '9:36am', 'Change': -0.18, 'Volume': 181800}\n",
      "{'Symbol': 'AIG', 'Price': 71.38, 'Date': '6/11/2007', 'Time': '9:36am', 'Change': -0.15, 'Volume': 195500}\n",
      "{'Symbol': 'AXP', 'Price': 62.58, 'Date': '6/11/2007', 'Time': '9:36am', 'Change': -0.46, 'Volume': 935000}\n",
      "{'Symbol': 'BA', 'Price': 98.31, 'Date': '6/11/2007', 'Time': '9:36am', 'Change': 0.12, 'Volume': 104800}\n",
      "{'Symbol': 'C', 'Price': 53.08, 'Date': '6/11/2007', 'Time': '9:36am', 'Change': -0.25, 'Volume': 360900}\n",
      "{'Symbol': 'CAT', 'Price': 78.29, 'Date': '6/11/2007', 'Time': '9:36am', 'Change': -0.23, 'Volume': 225400}\n"
     ]
    }
   ],
   "source": [
    "# alternative\n",
    "field_types = [(\"Price\", float), (\"Change\", float), (\"Volume\", int)]\n",
    "\n",
    "with open(\"stock.csv\") as f:\n",
    "    for row in csv.DictReader(f):\n",
    "        row.update((key, conversion(row[key])) for key, conversion in field_types)\n",
    "        print(row)"
   ]
  },
  {
   "cell_type": "code",
   "execution_count": 241,
   "metadata": {},
   "outputs": [
    {
     "name": "stdout",
     "output_type": "stream",
     "text": [
      "{\"name\": \"ACME\", \"shares\": 100, \"price\": 542.26}\n"
     ]
    }
   ],
   "source": [
    "# json\n",
    "\n",
    "import json\n",
    "data = {\n",
    "    \"name\":\"ACME\",\n",
    "    \"shares\": 100,\n",
    "    \"price\": 542.26\n",
    "}\n",
    "\n",
    "json_str = json.dumps(data)\n",
    "print(json_str)"
   ]
  },
  {
   "cell_type": "code",
   "execution_count": 242,
   "metadata": {},
   "outputs": [],
   "source": [
    "data = json.loads(json_str)"
   ]
  },
  {
   "cell_type": "code",
   "execution_count": 243,
   "metadata": {},
   "outputs": [
    {
     "data": {
      "text/plain": [
       "{'name': 'ACME', 'shares': 100, 'price': 542.26}"
      ]
     },
     "execution_count": 243,
     "metadata": {},
     "output_type": "execute_result"
    }
   ],
   "source": [
    "data"
   ]
  },
  {
   "cell_type": "code",
   "execution_count": 244,
   "metadata": {},
   "outputs": [],
   "source": [
    "with open(\"data.json\", \"w\") as f:\n",
    "    json.dump(data, f)"
   ]
  },
  {
   "cell_type": "code",
   "execution_count": 245,
   "metadata": {},
   "outputs": [
    {
     "name": "stdout",
     "output_type": "stream",
     "text": [
      "{'name': 'ACME', 'shares': 100, 'price': 542.26}\n"
     ]
    }
   ],
   "source": [
    "# reading data back\n",
    "with open(\"data.json\", \"r\") as f:\n",
    "    data = json.load(f)\n",
    "    print(data)"
   ]
  },
  {
   "cell_type": "code",
   "execution_count": 246,
   "metadata": {},
   "outputs": [
    {
     "data": {
      "text/plain": [
       "{'a': True, 'b': 'Hello', 'c': None}"
      ]
     },
     "execution_count": 246,
     "metadata": {},
     "output_type": "execute_result"
    }
   ],
   "source": [
    "d = {'a': True, 'b':'Hello', 'c': None}\n",
    "d"
   ]
  },
  {
   "cell_type": "code",
   "execution_count": 247,
   "metadata": {},
   "outputs": [
    {
     "data": {
      "text/plain": [
       "'{\"a\": true, \"b\": \"Hello\", \"c\": null}'"
      ]
     },
     "execution_count": 247,
     "metadata": {},
     "output_type": "execute_result"
    }
   ],
   "source": [
    "json.dumps(d)"
   ]
  },
  {
   "cell_type": "code",
   "execution_count": 249,
   "metadata": {},
   "outputs": [
    {
     "data": {
      "text/plain": [
       "OrderedDict([('name', 'ACME'), ('shares', 100), ('price', 542.26)])"
      ]
     },
     "execution_count": 249,
     "metadata": {},
     "output_type": "execute_result"
    }
   ],
   "source": [
    "s = '{\"name\": \"ACME\", \"shares\": 100, \"price\": 542.26}'\n",
    "from collections import OrderedDict\n",
    "data = json.loads(s, object_pairs_hook=OrderedDict)\n",
    "data\n"
   ]
  },
  {
   "cell_type": "code",
   "execution_count": 251,
   "metadata": {},
   "outputs": [
    {
     "name": "stdout",
     "output_type": "stream",
     "text": [
      "{\n",
      "    \"name\": \"ACME\",\n",
      "    \"price\": 542.26,\n",
      "    \"shares\": 100\n",
      "}\n"
     ]
    }
   ],
   "source": [
    "print(json.dumps(data, indent=4, sort_keys=True))"
   ]
  },
  {
   "cell_type": "code",
   "execution_count": 252,
   "metadata": {},
   "outputs": [],
   "source": [
    "s = b\"hello\""
   ]
  },
  {
   "cell_type": "code",
   "execution_count": 254,
   "metadata": {},
   "outputs": [
    {
     "data": {
      "text/plain": [
       "b'68656c6c6f'"
      ]
     },
     "execution_count": 254,
     "metadata": {},
     "output_type": "execute_result"
    }
   ],
   "source": [
    "import binascii\n",
    "h = binascii.b2a_hex(s)\n",
    "h"
   ]
  },
  {
   "cell_type": "code",
   "execution_count": 256,
   "metadata": {},
   "outputs": [
    {
     "data": {
      "text/plain": [
       "b'hello'"
      ]
     },
     "execution_count": 256,
     "metadata": {},
     "output_type": "execute_result"
    }
   ],
   "source": [
    "binascii.a2b_hex(h)"
   ]
  },
  {
   "cell_type": "code",
   "execution_count": 257,
   "metadata": {},
   "outputs": [],
   "source": [
    "import base64\n",
    "h = base64.b16encode(s)"
   ]
  },
  {
   "cell_type": "code",
   "execution_count": 258,
   "metadata": {},
   "outputs": [
    {
     "data": {
      "text/plain": [
       "b'68656C6C6F'"
      ]
     },
     "execution_count": 258,
     "metadata": {},
     "output_type": "execute_result"
    }
   ],
   "source": [
    "h"
   ]
  },
  {
   "cell_type": "code",
   "execution_count": 259,
   "metadata": {},
   "outputs": [
    {
     "data": {
      "text/plain": [
       "b'hello'"
      ]
     },
     "execution_count": 259,
     "metadata": {},
     "output_type": "execute_result"
    }
   ],
   "source": [
    "base64.b16decode(h)"
   ]
  },
  {
   "cell_type": "code",
   "execution_count": 260,
   "metadata": {},
   "outputs": [],
   "source": [
    "h = base64.b64encode(s)"
   ]
  },
  {
   "cell_type": "code",
   "execution_count": 261,
   "metadata": {},
   "outputs": [
    {
     "data": {
      "text/plain": [
       "b'aGVsbG8='"
      ]
     },
     "execution_count": 261,
     "metadata": {},
     "output_type": "execute_result"
    }
   ],
   "source": [
    "h"
   ]
  },
  {
   "cell_type": "code",
   "execution_count": 263,
   "metadata": {},
   "outputs": [
    {
     "data": {
      "text/plain": [
       "b'hello'"
      ]
     },
     "execution_count": 263,
     "metadata": {},
     "output_type": "execute_result"
    }
   ],
   "source": [
    "base64.b64decode(h)"
   ]
  },
  {
   "cell_type": "code",
   "execution_count": null,
   "metadata": {},
   "outputs": [],
   "source": [
    "# 1. define function\n",
    "# 2. setup context \n",
    "# 3. use yield\n",
    "# 4. exit\n",
    "# decorator"
   ]
  },
  {
   "cell_type": "code",
   "execution_count": 264,
   "metadata": {},
   "outputs": [],
   "source": [
    "import contextlib\n",
    "\n",
    "@contextlib.contextmanager\n",
    "def my_context():\n",
    "    print(\"welcome\")\n",
    "    yield\n",
    "    print(\"Bye\")"
   ]
  },
  {
   "cell_type": "code",
   "execution_count": 265,
   "metadata": {},
   "outputs": [
    {
     "data": {
      "text/plain": [
       "<contextlib._GeneratorContextManager at 0x7f838d1ab0a0>"
      ]
     },
     "execution_count": 265,
     "metadata": {},
     "output_type": "execute_result"
    }
   ],
   "source": [
    "my_context()"
   ]
  },
  {
   "cell_type": "code",
   "execution_count": 266,
   "metadata": {},
   "outputs": [
    {
     "name": "stdout",
     "output_type": "stream",
     "text": [
      "welcome\n",
      "Hi i am in with block\n",
      "Bye\n",
      "in main\n"
     ]
    }
   ],
   "source": [
    "with my_context():\n",
    "    print(\"Hi i am in with block\")\n",
    "print(\"in main\")"
   ]
  },
  {
   "cell_type": "code",
   "execution_count": 267,
   "metadata": {},
   "outputs": [
    {
     "name": "stdout",
     "output_type": "stream",
     "text": [
      "printing the content of the file\n",
      "python is fun.\n",
      "thank you\n",
      "today is sunday\n",
      "its a fun day\n",
      "python is \n",
      "new\n",
      "today python is preferred\n",
      "done with sample test\n",
      "new Python\n",
      "end\n",
      "\n"
     ]
    }
   ],
   "source": [
    "@contextlib.contextmanager\n",
    "def read_only(name):\n",
    "    file = open(name, \"r\")\n",
    "    yield file\n",
    "    file.close()\n",
    "    \n",
    "    \n",
    "with read_only(\"sample.txt\") as file:\n",
    "    print(\"printing the content of the file\")\n",
    "    print(file.read())\n",
    "    "
   ]
  },
  {
   "cell_type": "code",
   "execution_count": null,
   "metadata": {},
   "outputs": [],
   "source": [
    "# syntax error\n",
    "# runttime error\n",
    "# logical error\n"
   ]
  },
  {
   "cell_type": "code",
   "execution_count": null,
   "metadata": {},
   "outputs": [],
   "source": [
    "# BaseExpection  --->  Exception "
   ]
  },
  {
   "cell_type": "code",
   "execution_count": null,
   "metadata": {},
   "outputs": [],
   "source": [
    "# Exception -> stop iteration, Arithmatic Error -> "
   ]
  },
  {
   "cell_type": "code",
   "execution_count": 268,
   "metadata": {},
   "outputs": [
    {
     "name": "stdout",
     "output_type": "stream",
     "text": [
      "hello\n"
     ]
    },
    {
     "ename": "NameError",
     "evalue": "name 'k' is not defined",
     "output_type": "error",
     "traceback": [
      "\u001b[0;31m---------------------------------------------------------------------------\u001b[0m",
      "\u001b[0;31mNameError\u001b[0m                                 Traceback (most recent call last)",
      "\u001b[0;32m<ipython-input-268-2a4fe42dcf41>\u001b[0m in \u001b[0;36m<module>\u001b[0;34m\u001b[0m\n\u001b[1;32m      1\u001b[0m \u001b[0mprint\u001b[0m\u001b[0;34m(\u001b[0m\u001b[0;34m\"hello\"\u001b[0m\u001b[0;34m)\u001b[0m\u001b[0;34m\u001b[0m\u001b[0;34m\u001b[0m\u001b[0m\n\u001b[0;32m----> 2\u001b[0;31m \u001b[0mprint\u001b[0m\u001b[0;34m(\u001b[0m\u001b[0mk\u001b[0m\u001b[0;34m)\u001b[0m\u001b[0;34m\u001b[0m\u001b[0;34m\u001b[0m\u001b[0m\n\u001b[0m\u001b[1;32m      3\u001b[0m \u001b[0mprint\u001b[0m\u001b[0;34m(\u001b[0m\u001b[0;34m\"good stuff\"\u001b[0m\u001b[0;34m)\u001b[0m\u001b[0;34m\u001b[0m\u001b[0;34m\u001b[0m\u001b[0m\n\u001b[1;32m      4\u001b[0m \u001b[0mprint\u001b[0m\u001b[0;34m(\u001b[0m\u001b[0;34m\"End of program\"\u001b[0m\u001b[0;34m)\u001b[0m\u001b[0;34m\u001b[0m\u001b[0;34m\u001b[0m\u001b[0m\n",
      "\u001b[0;31mNameError\u001b[0m: name 'k' is not defined"
     ]
    }
   ],
   "source": [
    "print(\"hello\")\n",
    "print(k)\n",
    "print(\"good stuff\")\n",
    "print(\"End of program\")"
   ]
  },
  {
   "cell_type": "code",
   "execution_count": 269,
   "metadata": {},
   "outputs": [
    {
     "name": "stdout",
     "output_type": "stream",
     "text": [
      "hello\n",
      "inside except block\n",
      "good stuff\n",
      "End of program\n"
     ]
    }
   ],
   "source": [
    "try:\n",
    "    print(\"hello\")\n",
    "    print(k)\n",
    "except:\n",
    "    print(\"inside except block\")\n",
    "print(\"good stuff\")\n",
    "print(\"End of program\")"
   ]
  },
  {
   "cell_type": "code",
   "execution_count": 271,
   "metadata": {},
   "outputs": [
    {
     "name": "stdout",
     "output_type": "stream",
     "text": [
      "hello\n",
      "block\n",
      "good stuff\n",
      "End of program\n"
     ]
    }
   ],
   "source": [
    "try:\n",
    "    print(\"hello\")\n",
    "except:\n",
    "    print(\"inside except block\")\n",
    "else:\n",
    "    print(\"block\")\n",
    "print(\"good stuff\")\n",
    "print(\"End of program\")"
   ]
  },
  {
   "cell_type": "code",
   "execution_count": null,
   "metadata": {},
   "outputs": [],
   "source": []
  },
  {
   "cell_type": "code",
   "execution_count": null,
   "metadata": {},
   "outputs": [],
   "source": []
  },
  {
   "cell_type": "code",
   "execution_count": null,
   "metadata": {},
   "outputs": [],
   "source": []
  },
  {
   "cell_type": "code",
   "execution_count": null,
   "metadata": {},
   "outputs": [],
   "source": [
    "\n"
   ]
  },
  {
   "cell_type": "code",
   "execution_count": null,
   "metadata": {},
   "outputs": [],
   "source": []
  },
  {
   "cell_type": "code",
   "execution_count": null,
   "metadata": {},
   "outputs": [],
   "source": []
  },
  {
   "cell_type": "code",
   "execution_count": null,
   "metadata": {},
   "outputs": [],
   "source": []
  },
  {
   "cell_type": "code",
   "execution_count": null,
   "metadata": {},
   "outputs": [],
   "source": []
  },
  {
   "cell_type": "code",
   "execution_count": null,
   "metadata": {},
   "outputs": [],
   "source": []
  },
  {
   "cell_type": "code",
   "execution_count": null,
   "metadata": {},
   "outputs": [],
   "source": []
  },
  {
   "cell_type": "code",
   "execution_count": null,
   "metadata": {},
   "outputs": [],
   "source": []
  },
  {
   "cell_type": "code",
   "execution_count": null,
   "metadata": {},
   "outputs": [],
   "source": []
  },
  {
   "cell_type": "code",
   "execution_count": null,
   "metadata": {},
   "outputs": [],
   "source": []
  },
  {
   "cell_type": "code",
   "execution_count": null,
   "metadata": {},
   "outputs": [],
   "source": []
  },
  {
   "cell_type": "code",
   "execution_count": null,
   "metadata": {},
   "outputs": [],
   "source": []
  },
  {
   "cell_type": "code",
   "execution_count": null,
   "metadata": {},
   "outputs": [],
   "source": []
  },
  {
   "cell_type": "code",
   "execution_count": null,
   "metadata": {},
   "outputs": [],
   "source": []
  },
  {
   "cell_type": "code",
   "execution_count": null,
   "metadata": {},
   "outputs": [],
   "source": []
  },
  {
   "cell_type": "code",
   "execution_count": null,
   "metadata": {},
   "outputs": [],
   "source": []
  },
  {
   "cell_type": "code",
   "execution_count": null,
   "metadata": {},
   "outputs": [],
   "source": []
  },
  {
   "cell_type": "code",
   "execution_count": null,
   "metadata": {},
   "outputs": [],
   "source": []
  },
  {
   "cell_type": "code",
   "execution_count": null,
   "metadata": {},
   "outputs": [],
   "source": []
  },
  {
   "cell_type": "code",
   "execution_count": null,
   "metadata": {},
   "outputs": [],
   "source": []
  },
  {
   "cell_type": "code",
   "execution_count": null,
   "metadata": {},
   "outputs": [],
   "source": []
  },
  {
   "cell_type": "code",
   "execution_count": null,
   "metadata": {},
   "outputs": [],
   "source": []
  },
  {
   "cell_type": "code",
   "execution_count": null,
   "metadata": {},
   "outputs": [],
   "source": []
  },
  {
   "cell_type": "code",
   "execution_count": null,
   "metadata": {},
   "outputs": [],
   "source": []
  },
  {
   "cell_type": "code",
   "execution_count": null,
   "metadata": {},
   "outputs": [],
   "source": []
  },
  {
   "cell_type": "code",
   "execution_count": null,
   "metadata": {},
   "outputs": [],
   "source": []
  },
  {
   "cell_type": "code",
   "execution_count": null,
   "metadata": {},
   "outputs": [],
   "source": []
  },
  {
   "cell_type": "code",
   "execution_count": null,
   "metadata": {},
   "outputs": [],
   "source": []
  },
  {
   "cell_type": "code",
   "execution_count": null,
   "metadata": {},
   "outputs": [],
   "source": []
  },
  {
   "cell_type": "code",
   "execution_count": null,
   "metadata": {},
   "outputs": [],
   "source": []
  },
  {
   "cell_type": "code",
   "execution_count": null,
   "metadata": {},
   "outputs": [],
   "source": []
  },
  {
   "cell_type": "code",
   "execution_count": null,
   "metadata": {},
   "outputs": [],
   "source": []
  },
  {
   "cell_type": "code",
   "execution_count": null,
   "metadata": {},
   "outputs": [],
   "source": []
  },
  {
   "cell_type": "code",
   "execution_count": null,
   "metadata": {},
   "outputs": [],
   "source": []
  },
  {
   "cell_type": "code",
   "execution_count": null,
   "metadata": {},
   "outputs": [],
   "source": []
  },
  {
   "cell_type": "code",
   "execution_count": null,
   "metadata": {},
   "outputs": [],
   "source": []
  },
  {
   "cell_type": "code",
   "execution_count": null,
   "metadata": {},
   "outputs": [],
   "source": []
  },
  {
   "cell_type": "code",
   "execution_count": null,
   "metadata": {},
   "outputs": [],
   "source": []
  },
  {
   "cell_type": "code",
   "execution_count": null,
   "metadata": {},
   "outputs": [],
   "source": []
  },
  {
   "cell_type": "code",
   "execution_count": null,
   "metadata": {},
   "outputs": [],
   "source": []
  },
  {
   "cell_type": "code",
   "execution_count": null,
   "metadata": {},
   "outputs": [],
   "source": []
  },
  {
   "cell_type": "code",
   "execution_count": null,
   "metadata": {},
   "outputs": [],
   "source": []
  },
  {
   "cell_type": "code",
   "execution_count": null,
   "metadata": {},
   "outputs": [],
   "source": []
  },
  {
   "cell_type": "code",
   "execution_count": null,
   "metadata": {},
   "outputs": [],
   "source": []
  },
  {
   "cell_type": "code",
   "execution_count": null,
   "metadata": {},
   "outputs": [],
   "source": []
  },
  {
   "cell_type": "code",
   "execution_count": null,
   "metadata": {},
   "outputs": [],
   "source": []
  },
  {
   "cell_type": "code",
   "execution_count": null,
   "metadata": {},
   "outputs": [],
   "source": []
  },
  {
   "cell_type": "code",
   "execution_count": null,
   "metadata": {},
   "outputs": [],
   "source": []
  },
  {
   "cell_type": "code",
   "execution_count": null,
   "metadata": {},
   "outputs": [],
   "source": []
  },
  {
   "cell_type": "code",
   "execution_count": null,
   "metadata": {},
   "outputs": [],
   "source": []
  },
  {
   "cell_type": "code",
   "execution_count": null,
   "metadata": {},
   "outputs": [],
   "source": []
  },
  {
   "cell_type": "code",
   "execution_count": null,
   "metadata": {},
   "outputs": [],
   "source": []
  },
  {
   "cell_type": "code",
   "execution_count": null,
   "metadata": {},
   "outputs": [],
   "source": []
  },
  {
   "cell_type": "code",
   "execution_count": null,
   "metadata": {},
   "outputs": [],
   "source": []
  },
  {
   "cell_type": "code",
   "execution_count": null,
   "metadata": {},
   "outputs": [],
   "source": []
  },
  {
   "cell_type": "code",
   "execution_count": null,
   "metadata": {},
   "outputs": [],
   "source": []
  },
  {
   "cell_type": "code",
   "execution_count": null,
   "metadata": {},
   "outputs": [],
   "source": []
  },
  {
   "cell_type": "code",
   "execution_count": null,
   "metadata": {},
   "outputs": [],
   "source": []
  },
  {
   "cell_type": "code",
   "execution_count": null,
   "metadata": {},
   "outputs": [],
   "source": []
  },
  {
   "cell_type": "code",
   "execution_count": null,
   "metadata": {},
   "outputs": [],
   "source": []
  },
  {
   "cell_type": "code",
   "execution_count": null,
   "metadata": {},
   "outputs": [],
   "source": []
  },
  {
   "cell_type": "code",
   "execution_count": null,
   "metadata": {},
   "outputs": [],
   "source": []
  },
  {
   "cell_type": "code",
   "execution_count": null,
   "metadata": {},
   "outputs": [],
   "source": []
  },
  {
   "cell_type": "code",
   "execution_count": null,
   "metadata": {},
   "outputs": [],
   "source": []
  },
  {
   "cell_type": "code",
   "execution_count": null,
   "metadata": {},
   "outputs": [],
   "source": []
  },
  {
   "cell_type": "code",
   "execution_count": null,
   "metadata": {},
   "outputs": [],
   "source": []
  },
  {
   "cell_type": "code",
   "execution_count": null,
   "metadata": {},
   "outputs": [],
   "source": []
  },
  {
   "cell_type": "code",
   "execution_count": null,
   "metadata": {},
   "outputs": [],
   "source": []
  },
  {
   "cell_type": "code",
   "execution_count": null,
   "metadata": {},
   "outputs": [],
   "source": []
  },
  {
   "cell_type": "code",
   "execution_count": null,
   "metadata": {},
   "outputs": [],
   "source": []
  },
  {
   "cell_type": "code",
   "execution_count": null,
   "metadata": {},
   "outputs": [],
   "source": []
  },
  {
   "cell_type": "code",
   "execution_count": null,
   "metadata": {},
   "outputs": [],
   "source": []
  },
  {
   "cell_type": "code",
   "execution_count": null,
   "metadata": {},
   "outputs": [],
   "source": []
  },
  {
   "cell_type": "code",
   "execution_count": null,
   "metadata": {},
   "outputs": [],
   "source": []
  },
  {
   "cell_type": "code",
   "execution_count": null,
   "metadata": {},
   "outputs": [],
   "source": []
  },
  {
   "cell_type": "code",
   "execution_count": null,
   "metadata": {},
   "outputs": [],
   "source": []
  },
  {
   "cell_type": "code",
   "execution_count": null,
   "metadata": {},
   "outputs": [],
   "source": []
  },
  {
   "cell_type": "code",
   "execution_count": null,
   "metadata": {},
   "outputs": [],
   "source": []
  },
  {
   "cell_type": "code",
   "execution_count": null,
   "metadata": {},
   "outputs": [],
   "source": []
  },
  {
   "cell_type": "code",
   "execution_count": null,
   "metadata": {},
   "outputs": [],
   "source": []
  },
  {
   "cell_type": "code",
   "execution_count": null,
   "metadata": {},
   "outputs": [],
   "source": []
  },
  {
   "cell_type": "code",
   "execution_count": null,
   "metadata": {},
   "outputs": [],
   "source": []
  },
  {
   "cell_type": "code",
   "execution_count": null,
   "metadata": {},
   "outputs": [],
   "source": []
  },
  {
   "cell_type": "code",
   "execution_count": null,
   "metadata": {},
   "outputs": [],
   "source": []
  },
  {
   "cell_type": "code",
   "execution_count": null,
   "metadata": {},
   "outputs": [],
   "source": []
  },
  {
   "cell_type": "code",
   "execution_count": null,
   "metadata": {},
   "outputs": [],
   "source": []
  },
  {
   "cell_type": "code",
   "execution_count": null,
   "metadata": {},
   "outputs": [],
   "source": []
  },
  {
   "cell_type": "code",
   "execution_count": null,
   "metadata": {},
   "outputs": [],
   "source": []
  },
  {
   "cell_type": "code",
   "execution_count": null,
   "metadata": {},
   "outputs": [],
   "source": []
  },
  {
   "cell_type": "code",
   "execution_count": null,
   "metadata": {},
   "outputs": [],
   "source": []
  },
  {
   "cell_type": "code",
   "execution_count": null,
   "metadata": {},
   "outputs": [],
   "source": []
  },
  {
   "cell_type": "code",
   "execution_count": null,
   "metadata": {},
   "outputs": [],
   "source": []
  },
  {
   "cell_type": "code",
   "execution_count": null,
   "metadata": {},
   "outputs": [],
   "source": []
  },
  {
   "cell_type": "code",
   "execution_count": null,
   "metadata": {},
   "outputs": [],
   "source": []
  },
  {
   "cell_type": "code",
   "execution_count": null,
   "metadata": {},
   "outputs": [],
   "source": []
  },
  {
   "cell_type": "code",
   "execution_count": null,
   "metadata": {},
   "outputs": [],
   "source": []
  },
  {
   "cell_type": "code",
   "execution_count": null,
   "metadata": {},
   "outputs": [],
   "source": []
  },
  {
   "cell_type": "code",
   "execution_count": null,
   "metadata": {},
   "outputs": [],
   "source": []
  },
  {
   "cell_type": "code",
   "execution_count": null,
   "metadata": {},
   "outputs": [],
   "source": []
  },
  {
   "cell_type": "code",
   "execution_count": null,
   "metadata": {},
   "outputs": [],
   "source": []
  },
  {
   "cell_type": "code",
   "execution_count": null,
   "metadata": {},
   "outputs": [],
   "source": []
  },
  {
   "cell_type": "code",
   "execution_count": null,
   "metadata": {},
   "outputs": [],
   "source": []
  },
  {
   "cell_type": "code",
   "execution_count": null,
   "metadata": {},
   "outputs": [],
   "source": []
  },
  {
   "cell_type": "code",
   "execution_count": null,
   "metadata": {},
   "outputs": [],
   "source": []
  }
 ],
 "metadata": {
  "kernelspec": {
   "display_name": "Python 3",
   "language": "python",
   "name": "python3"
  },
  "language_info": {
   "codemirror_mode": {
    "name": "ipython",
    "version": 3
   },
   "file_extension": ".py",
   "mimetype": "text/x-python",
   "name": "python",
   "nbconvert_exporter": "python",
   "pygments_lexer": "ipython3",
   "version": "3.8.5"
  }
 },
 "nbformat": 4,
 "nbformat_minor": 4
}
