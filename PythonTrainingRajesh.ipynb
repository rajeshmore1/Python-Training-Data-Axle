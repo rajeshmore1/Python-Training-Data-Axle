{
 "cells": [
  {
   "cell_type": "code",
   "execution_count": 43,
   "id": "fa1cf12c-1f78-4d4a-81b7-86a0b6b21beb",
   "metadata": {},
   "outputs": [
    {
     "name": "stdout",
     "output_type": "stream",
     "text": [
      "2021-12-08 10:38:48,957 - root - INFO - Registered hooks from 2 installed plugin(s): kedro-mlflow-0.7.2\n",
      "2021-12-08 10:38:49,072 - kedro.framework.session.store - INFO - `read()` not implemented for `BaseSessionStore`. Assuming empty store.\n",
      "2021-12-08 10:38:49,185 - root - INFO - ** Kedro project model\n",
      "2021-12-08 10:38:49,186 - root - INFO - Defined global variable `context`, `session` and `catalog`\n",
      "2021-12-08 10:38:49,198 - root - INFO - Registered line magic `run_viz`\n"
     ]
    }
   ],
   "source": [
    "%reload_kedro"
   ]
  },
  {
   "cell_type": "markdown",
   "id": "bebbddb1-02f4-4d8c-a3f3-18db3a2649a5",
   "metadata": {},
   "source": [
    "# 8 December"
   ]
  },
  {
   "cell_type": "code",
   "execution_count": 44,
   "id": "c8c42554-930e-438f-90bb-71b61e82c5e3",
   "metadata": {},
   "outputs": [],
   "source": [
    "tp1 = ((1,2,3),(4,5,6),(7,8,9),99)"
   ]
  },
  {
   "cell_type": "code",
   "execution_count": 47,
   "id": "9f825897-32ee-4a05-8a4d-6e3188ab1ff6",
   "metadata": {},
   "outputs": [
    {
     "name": "stdout",
     "output_type": "stream",
     "text": [
      "1\n",
      "2\n",
      "3\n",
      "4\n",
      "5\n",
      "6\n",
      "7\n",
      "8\n",
      "9\n"
     ]
    }
   ],
   "source": [
    "for i in tp1:\n",
    "    if isinstance(i,tuple):\n",
    "        for v in i:\n",
    "            print(v)"
   ]
  },
  {
   "cell_type": "code",
   "execution_count": 48,
   "id": "3dd64c96-2c2a-4a6f-8976-af68e83a56fb",
   "metadata": {},
   "outputs": [
    {
     "name": "stdout",
     "output_type": "stream",
     "text": [
      "1. Create the employee information\n",
      "2. Update the employee details\n",
      "3. Delete Employee\n",
      "4. Display\n",
      "5. Exit\n"
     ]
    },
    {
     "ename": "KeyboardInterrupt",
     "evalue": "Interrupted by user",
     "output_type": "error",
     "traceback": [
      "\u001b[0;31m---------------------------------------------------------------------------\u001b[0m",
      "\u001b[0;31mKeyboardInterrupt\u001b[0m                         Traceback (most recent call last)",
      "\u001b[0;32m/var/folders/xh/hbyljx856v783pfgz5n69l680000gq/T/ipykernel_16977/3338876221.py\u001b[0m in \u001b[0;36m<module>\u001b[0;34m\u001b[0m\n\u001b[1;32m      7\u001b[0m     \u001b[0mprint\u001b[0m\u001b[0;34m(\u001b[0m\u001b[0;34m\"4. Display\"\u001b[0m\u001b[0;34m)\u001b[0m\u001b[0;34m\u001b[0m\u001b[0;34m\u001b[0m\u001b[0m\n\u001b[1;32m      8\u001b[0m     \u001b[0mprint\u001b[0m\u001b[0;34m(\u001b[0m\u001b[0;34m\"5. Exit\"\u001b[0m\u001b[0;34m)\u001b[0m\u001b[0;34m\u001b[0m\u001b[0;34m\u001b[0m\u001b[0m\n\u001b[0;32m----> 9\u001b[0;31m     \u001b[0mch\u001b[0m \u001b[0;34m=\u001b[0m \u001b[0mint\u001b[0m\u001b[0;34m(\u001b[0m\u001b[0minput\u001b[0m\u001b[0;34m(\u001b[0m\u001b[0;34m\"Enter your choice[1-4]:\"\u001b[0m\u001b[0;34m)\u001b[0m\u001b[0;34m)\u001b[0m\u001b[0;34m\u001b[0m\u001b[0;34m\u001b[0m\u001b[0m\n\u001b[0m\u001b[1;32m     10\u001b[0m     \u001b[0;32mif\u001b[0m \u001b[0mch\u001b[0m\u001b[0;34m==\u001b[0m\u001b[0;36m1\u001b[0m\u001b[0;34m:\u001b[0m\u001b[0;34m\u001b[0m\u001b[0;34m\u001b[0m\u001b[0m\n\u001b[1;32m     11\u001b[0m         \u001b[0mname\u001b[0m \u001b[0;34m=\u001b[0m \u001b[0minput\u001b[0m\u001b[0;34m(\u001b[0m\u001b[0;34m\"Enter the name:\"\u001b[0m\u001b[0;34m)\u001b[0m\u001b[0;34m\u001b[0m\u001b[0;34m\u001b[0m\u001b[0m\n",
      "\u001b[0;32m~/work/usa-propensity-model/venv/lib/python3.8/site-packages/ipykernel/kernelbase.py\u001b[0m in \u001b[0;36mraw_input\u001b[0;34m(self, prompt)\u001b[0m\n\u001b[1;32m    979\u001b[0m                 \u001b[0;34m\"raw_input was called, but this frontend does not support input requests.\"\u001b[0m\u001b[0;34m\u001b[0m\u001b[0;34m\u001b[0m\u001b[0m\n\u001b[1;32m    980\u001b[0m             )\n\u001b[0;32m--> 981\u001b[0;31m         return self._input_request(\n\u001b[0m\u001b[1;32m    982\u001b[0m             \u001b[0mstr\u001b[0m\u001b[0;34m(\u001b[0m\u001b[0mprompt\u001b[0m\u001b[0;34m)\u001b[0m\u001b[0;34m,\u001b[0m\u001b[0;34m\u001b[0m\u001b[0;34m\u001b[0m\u001b[0m\n\u001b[1;32m    983\u001b[0m             \u001b[0mself\u001b[0m\u001b[0;34m.\u001b[0m\u001b[0m_parent_ident\u001b[0m\u001b[0;34m[\u001b[0m\u001b[0;34m\"shell\"\u001b[0m\u001b[0;34m]\u001b[0m\u001b[0;34m,\u001b[0m\u001b[0;34m\u001b[0m\u001b[0;34m\u001b[0m\u001b[0m\n",
      "\u001b[0;32m~/work/usa-propensity-model/venv/lib/python3.8/site-packages/ipykernel/kernelbase.py\u001b[0m in \u001b[0;36m_input_request\u001b[0;34m(self, prompt, ident, parent, password)\u001b[0m\n\u001b[1;32m   1024\u001b[0m             \u001b[0;32mexcept\u001b[0m \u001b[0mKeyboardInterrupt\u001b[0m\u001b[0;34m:\u001b[0m\u001b[0;34m\u001b[0m\u001b[0;34m\u001b[0m\u001b[0m\n\u001b[1;32m   1025\u001b[0m                 \u001b[0;31m# re-raise KeyboardInterrupt, to truncate traceback\u001b[0m\u001b[0;34m\u001b[0m\u001b[0;34m\u001b[0m\u001b[0;34m\u001b[0m\u001b[0m\n\u001b[0;32m-> 1026\u001b[0;31m                 \u001b[0;32mraise\u001b[0m \u001b[0mKeyboardInterrupt\u001b[0m\u001b[0;34m(\u001b[0m\u001b[0;34m\"Interrupted by user\"\u001b[0m\u001b[0;34m)\u001b[0m \u001b[0;32mfrom\u001b[0m \u001b[0;32mNone\u001b[0m\u001b[0;34m\u001b[0m\u001b[0;34m\u001b[0m\u001b[0m\n\u001b[0m\u001b[1;32m   1027\u001b[0m             \u001b[0;32mexcept\u001b[0m \u001b[0mException\u001b[0m\u001b[0;34m:\u001b[0m\u001b[0;34m\u001b[0m\u001b[0;34m\u001b[0m\u001b[0m\n\u001b[1;32m   1028\u001b[0m                 \u001b[0mself\u001b[0m\u001b[0;34m.\u001b[0m\u001b[0mlog\u001b[0m\u001b[0;34m.\u001b[0m\u001b[0mwarning\u001b[0m\u001b[0;34m(\u001b[0m\u001b[0;34m\"Invalid Message:\"\u001b[0m\u001b[0;34m,\u001b[0m \u001b[0mexc_info\u001b[0m\u001b[0;34m=\u001b[0m\u001b[0;32mTrue\u001b[0m\u001b[0;34m)\u001b[0m\u001b[0;34m\u001b[0m\u001b[0;34m\u001b[0m\u001b[0m\n",
      "\u001b[0;31mKeyboardInterrupt\u001b[0m: Interrupted by user"
     ]
    }
   ],
   "source": [
    "# create emp pgm\n",
    "emp_info = {}\n",
    "while True:\n",
    "    print(\"1. Create the employee information\")\n",
    "    print(\"2. Update the employee details\")\n",
    "    print(\"3. Delete Employee\")\n",
    "    print(\"4. Display\")\n",
    "    print(\"5. Exit\")\n",
    "    ch = int(input(\"Enter your choice[1-4]:\"))\n",
    "    if ch==1:\n",
    "        name = input(\"Enter the name:\")\n",
    "        emp_id = int(input(\"Enter employee id:\"))\n",
    "        ph=input(\"Enter the phone number:\")\n",
    "        tech = input(\"Technologies [comma seprated e.g: C++, python, java]\")\n",
    "        emp_info[emp_id] = {\"name\":name, \"phone\":ph, \"tech\": tech.split(\",\")}\n",
    "    elif ch==2:\n",
    "        emp_id = int(input(\"Whose details you want to update?. Please enter emp_id:\"))\n",
    "        rec = emp_info[emp_id]\n",
    "        for key, value in rec.items():\n",
    "            new = input(\"{}({})\".format(key, value))\n",
    "            emp_info[emp_id][key] = value if new == '' else new\n",
    "    elif ch==3:\n",
    "        pass\n",
    "        # take input from user as emp_id to be deleted\n",
    "        # check emp_id present in dict or not\n",
    "        # perform deletion using del method or pop\n",
    "    elif ch ==4:\n",
    "        print(emp_info)\n",
    "    else:\n",
    "        break"
   ]
  },
  {
   "cell_type": "code",
   "execution_count": 56,
   "id": "27da71c7-4027-4476-a9d2-26e065687da2",
   "metadata": {},
   "outputs": [
    {
     "name": "stdout",
     "output_type": "stream",
     "text": [
      "1. Create the employee information\n",
      "2. Update the employee details\n",
      "3. Delete Employee\n",
      "4. Display\n",
      "5. Exit\n"
     ]
    },
    {
     "name": "stdin",
     "output_type": "stream",
     "text": [
      "Enter your choice[1-4]: 1\n",
      "Enter the name: raj\n",
      "Enter employee id: 1\n",
      "Enter the phone number: 999\n",
      "Technologies [comma seprated e.g: C++, python, java] c\n"
     ]
    },
    {
     "name": "stdout",
     "output_type": "stream",
     "text": [
      "1. Create the employee information\n",
      "2. Update the employee details\n",
      "3. Delete Employee\n",
      "4. Display\n",
      "5. Exit\n"
     ]
    },
    {
     "name": "stdin",
     "output_type": "stream",
     "text": [
      "Enter your choice[1-4]: 3\n",
      "enter employee id: 1\n"
     ]
    },
    {
     "name": "stdout",
     "output_type": "stream",
     "text": [
      "1. Create the employee information\n",
      "2. Update the employee details\n",
      "3. Delete Employee\n",
      "4. Display\n",
      "5. Exit\n"
     ]
    },
    {
     "name": "stdin",
     "output_type": "stream",
     "text": [
      "Enter your choice[1-4]: 4\n"
     ]
    },
    {
     "name": "stdout",
     "output_type": "stream",
     "text": [
      "{}\n",
      "1. Create the employee information\n",
      "2. Update the employee details\n",
      "3. Delete Employee\n",
      "4. Display\n",
      "5. Exit\n"
     ]
    },
    {
     "ename": "KeyboardInterrupt",
     "evalue": "Interrupted by user",
     "output_type": "error",
     "traceback": [
      "\u001b[0;31m---------------------------------------------------------------------------\u001b[0m",
      "\u001b[0;31mKeyboardInterrupt\u001b[0m                         Traceback (most recent call last)",
      "\u001b[0;32m/var/folders/xh/hbyljx856v783pfgz5n69l680000gq/T/ipykernel_16977/1900658958.py\u001b[0m in \u001b[0;36m<module>\u001b[0;34m\u001b[0m\n\u001b[1;32m      7\u001b[0m     \u001b[0mprint\u001b[0m\u001b[0;34m(\u001b[0m\u001b[0;34m\"4. Display\"\u001b[0m\u001b[0;34m)\u001b[0m\u001b[0;34m\u001b[0m\u001b[0;34m\u001b[0m\u001b[0m\n\u001b[1;32m      8\u001b[0m     \u001b[0mprint\u001b[0m\u001b[0;34m(\u001b[0m\u001b[0;34m\"5. Exit\"\u001b[0m\u001b[0;34m)\u001b[0m\u001b[0;34m\u001b[0m\u001b[0;34m\u001b[0m\u001b[0m\n\u001b[0;32m----> 9\u001b[0;31m     \u001b[0mch\u001b[0m \u001b[0;34m=\u001b[0m \u001b[0mint\u001b[0m\u001b[0;34m(\u001b[0m\u001b[0minput\u001b[0m\u001b[0;34m(\u001b[0m\u001b[0;34m\"Enter your choice[1-4]:\"\u001b[0m\u001b[0;34m)\u001b[0m\u001b[0;34m)\u001b[0m\u001b[0;34m\u001b[0m\u001b[0;34m\u001b[0m\u001b[0m\n\u001b[0m\u001b[1;32m     10\u001b[0m     \u001b[0;32mif\u001b[0m \u001b[0mch\u001b[0m\u001b[0;34m==\u001b[0m\u001b[0;36m1\u001b[0m\u001b[0;34m:\u001b[0m\u001b[0;34m\u001b[0m\u001b[0;34m\u001b[0m\u001b[0m\n\u001b[1;32m     11\u001b[0m         \u001b[0mname\u001b[0m \u001b[0;34m=\u001b[0m \u001b[0minput\u001b[0m\u001b[0;34m(\u001b[0m\u001b[0;34m\"Enter the name:\"\u001b[0m\u001b[0;34m)\u001b[0m\u001b[0;34m\u001b[0m\u001b[0;34m\u001b[0m\u001b[0m\n",
      "\u001b[0;32m~/work/usa-propensity-model/venv/lib/python3.8/site-packages/ipykernel/kernelbase.py\u001b[0m in \u001b[0;36mraw_input\u001b[0;34m(self, prompt)\u001b[0m\n\u001b[1;32m    979\u001b[0m                 \u001b[0;34m\"raw_input was called, but this frontend does not support input requests.\"\u001b[0m\u001b[0;34m\u001b[0m\u001b[0;34m\u001b[0m\u001b[0m\n\u001b[1;32m    980\u001b[0m             )\n\u001b[0;32m--> 981\u001b[0;31m         return self._input_request(\n\u001b[0m\u001b[1;32m    982\u001b[0m             \u001b[0mstr\u001b[0m\u001b[0;34m(\u001b[0m\u001b[0mprompt\u001b[0m\u001b[0;34m)\u001b[0m\u001b[0;34m,\u001b[0m\u001b[0;34m\u001b[0m\u001b[0;34m\u001b[0m\u001b[0m\n\u001b[1;32m    983\u001b[0m             \u001b[0mself\u001b[0m\u001b[0;34m.\u001b[0m\u001b[0m_parent_ident\u001b[0m\u001b[0;34m[\u001b[0m\u001b[0;34m\"shell\"\u001b[0m\u001b[0;34m]\u001b[0m\u001b[0;34m,\u001b[0m\u001b[0;34m\u001b[0m\u001b[0;34m\u001b[0m\u001b[0m\n",
      "\u001b[0;32m~/work/usa-propensity-model/venv/lib/python3.8/site-packages/ipykernel/kernelbase.py\u001b[0m in \u001b[0;36m_input_request\u001b[0;34m(self, prompt, ident, parent, password)\u001b[0m\n\u001b[1;32m   1024\u001b[0m             \u001b[0;32mexcept\u001b[0m \u001b[0mKeyboardInterrupt\u001b[0m\u001b[0;34m:\u001b[0m\u001b[0;34m\u001b[0m\u001b[0;34m\u001b[0m\u001b[0m\n\u001b[1;32m   1025\u001b[0m                 \u001b[0;31m# re-raise KeyboardInterrupt, to truncate traceback\u001b[0m\u001b[0;34m\u001b[0m\u001b[0;34m\u001b[0m\u001b[0;34m\u001b[0m\u001b[0m\n\u001b[0;32m-> 1026\u001b[0;31m                 \u001b[0;32mraise\u001b[0m \u001b[0mKeyboardInterrupt\u001b[0m\u001b[0;34m(\u001b[0m\u001b[0;34m\"Interrupted by user\"\u001b[0m\u001b[0;34m)\u001b[0m \u001b[0;32mfrom\u001b[0m \u001b[0;32mNone\u001b[0m\u001b[0;34m\u001b[0m\u001b[0;34m\u001b[0m\u001b[0m\n\u001b[0m\u001b[1;32m   1027\u001b[0m             \u001b[0;32mexcept\u001b[0m \u001b[0mException\u001b[0m\u001b[0;34m:\u001b[0m\u001b[0;34m\u001b[0m\u001b[0;34m\u001b[0m\u001b[0m\n\u001b[1;32m   1028\u001b[0m                 \u001b[0mself\u001b[0m\u001b[0;34m.\u001b[0m\u001b[0mlog\u001b[0m\u001b[0;34m.\u001b[0m\u001b[0mwarning\u001b[0m\u001b[0;34m(\u001b[0m\u001b[0;34m\"Invalid Message:\"\u001b[0m\u001b[0;34m,\u001b[0m \u001b[0mexc_info\u001b[0m\u001b[0;34m=\u001b[0m\u001b[0;32mTrue\u001b[0m\u001b[0;34m)\u001b[0m\u001b[0;34m\u001b[0m\u001b[0;34m\u001b[0m\u001b[0m\n",
      "\u001b[0;31mKeyboardInterrupt\u001b[0m: Interrupted by user"
     ]
    }
   ],
   "source": [
    "# create emp pgm\n",
    "emp_info = {}\n",
    "while True:\n",
    "    print(\"1. Create the employee information\")\n",
    "    print(\"2. Update the employee details\")\n",
    "    print(\"3. Delete Employee\")\n",
    "    print(\"4. Display\")\n",
    "    print(\"5. Exit\")\n",
    "    ch = int(input(\"Enter your choice[1-4]:\"))\n",
    "    if ch==1:\n",
    "        name = input(\"Enter the name:\")\n",
    "        emp_id = int(input(\"Enter employee id:\"))\n",
    "        ph=input(\"Enter the phone number:\")\n",
    "        tech = input(\"Technologies [comma seprated e.g: C++, python, java]\")\n",
    "        emp_info[emp_id] = {\"name\":name, \"phone\":ph, \"tech\": tech.split(\",\")}\n",
    "    elif ch==2:\n",
    "        emp_id = int(input(\"Whose details you want to update?. Please enter emp_id:\"))\n",
    "        rec = emp_info[emp_id]\n",
    "        for key, value in rec.items():\n",
    "            new = input(\"{}({})\".format(key, value))\n",
    "            emp_info[emp_id][key] = value if new == '' else new\n",
    "    elif ch==3:\n",
    "        # take input from user as emp_id to be deleted\n",
    "        # check emp_id present in dict or not\n",
    "        # perform deletion using del method or pop\n",
    "        emp_id = int(input(\"enter employee id:\"))\n",
    "        if emp_id in emp_info:            \n",
    "            del emp_info[emp_id]\n",
    "        else:\n",
    "            print(\"Employee ID is not present\")\n",
    "    elif ch ==4:\n",
    "        print(emp_info)\n",
    "    else:\n",
    "        break"
   ]
  },
  {
   "cell_type": "code",
   "execution_count": null,
   "id": "30cc6af8-569c-4bb8-bd0f-1e1e470eadcc",
   "metadata": {},
   "outputs": [],
   "source": [
    "#argparser library\n",
    "python abc.py --name 'onkar', --address 'pune'"
   ]
  },
  {
   "cell_type": "markdown",
   "id": "6a272257-83b1-4171-86dd-817373a85eb8",
   "metadata": {},
   "source": [
    "# List Comprehension"
   ]
  },
  {
   "cell_type": "code",
   "execution_count": 57,
   "id": "68aa3447-58b9-44fd-8913-55392484ea24",
   "metadata": {},
   "outputs": [
    {
     "name": "stdout",
     "output_type": "stream",
     "text": [
      "0\n",
      "1\n",
      "2\n",
      "3\n",
      "4\n",
      "5\n",
      "6\n",
      "7\n",
      "8\n",
      "9\n"
     ]
    }
   ],
   "source": [
    "#List comprehension\n",
    "for i in range(10):\n",
    "    print(i)"
   ]
  },
  {
   "cell_type": "code",
   "execution_count": 59,
   "id": "714db6a3-6b25-4772-bd6b-02f9ddb7af45",
   "metadata": {},
   "outputs": [
    {
     "data": {
      "text/plain": [
       "[0, 1, 2, 3, 4, 5, 6, 7, 8, 9]"
      ]
     },
     "execution_count": 59,
     "metadata": {},
     "output_type": "execute_result"
    }
   ],
   "source": [
    "[i for i in range(10)]"
   ]
  },
  {
   "cell_type": "code",
   "execution_count": 60,
   "id": "765d67d9-0b01-4b5c-9b03-78051dd3f074",
   "metadata": {},
   "outputs": [
    {
     "data": {
      "text/plain": [
       "[0, 2, 4, 6, 8]"
      ]
     },
     "execution_count": 60,
     "metadata": {},
     "output_type": "execute_result"
    }
   ],
   "source": [
    "[i for i in range(10) if i%2==0]"
   ]
  },
  {
   "cell_type": "code",
   "execution_count": 61,
   "id": "a45f50c5-d763-4d9c-9b56-d25a53643efb",
   "metadata": {},
   "outputs": [
    {
     "name": "stdout",
     "output_type": "stream",
     "text": [
      "10\n"
     ]
    }
   ],
   "source": [
    "x=10\n",
    "y=20\n",
    "print(x-y if x>y else y-x)"
   ]
  },
  {
   "cell_type": "code",
   "execution_count": 62,
   "id": "0a86772b-cce1-45bf-a5e9-858df542c3b4",
   "metadata": {},
   "outputs": [
    {
     "name": "stdin",
     "output_type": "stream",
     "text": [
      "Enter the number which you want ro see square 10\n"
     ]
    },
    {
     "name": "stdout",
     "output_type": "stream",
     "text": [
      "49\n"
     ]
    }
   ],
   "source": [
    "n=[1,2,3,4,5,6,7]\n",
    "num = int(input(\"Enter the number which you want ro see square\"))\n",
    "squares=[]\n",
    "for num in n:\n",
    "    squares.append(num**2)\n",
    "idx_pos = n.index(num)\n",
    "print(squares[idx_pos])"
   ]
  },
  {
   "cell_type": "code",
   "execution_count": 63,
   "id": "9dcb2979-db13-4205-8fa9-92196e3e8ee0",
   "metadata": {},
   "outputs": [
    {
     "name": "stdin",
     "output_type": "stream",
     "text": [
      "Enter the number which you want ro see square 11\n"
     ]
    },
    {
     "name": "stdout",
     "output_type": "stream",
     "text": [
      "squares: [1, 4, 9, 16, 25, 36, 49]\n"
     ]
    }
   ],
   "source": [
    "n=[1,2,3,4,5,6,7]\n",
    "\n",
    "num = int(input(\"Enter the number which you want ro see square\"))\n",
    "\n",
    "squares = [num**2 for num in n]\n",
    "print(\"squares:\",squares)"
   ]
  },
  {
   "cell_type": "code",
   "execution_count": 65,
   "id": "4f7e06f2-354a-4920-91bc-4e60188c52ae",
   "metadata": {},
   "outputs": [
    {
     "data": {
      "text/plain": [
       "{1: 1, 2: 4, 3: 9, 4: 16, 5: 25}"
      ]
     },
     "execution_count": 65,
     "metadata": {},
     "output_type": "execute_result"
    }
   ],
   "source": [
    "{k:k**2 for k in range(1,6)}"
   ]
  },
  {
   "cell_type": "code",
   "execution_count": 67,
   "id": "be156023-fd6e-4260-830f-27670f09badc",
   "metadata": {},
   "outputs": [
    {
     "data": {
      "text/plain": [
       "{0: 45, 1: 77, 2: 109, 3: 'data', 4: ['alex', 'john']}"
      ]
     },
     "execution_count": 67,
     "metadata": {},
     "output_type": "execute_result"
    }
   ],
   "source": [
    "tp=(45,77,109,'data',['alex','john'])\n",
    "{k:tp[k] for k in range(len(tp))}"
   ]
  },
  {
   "cell_type": "code",
   "execution_count": 68,
   "id": "00fe1b4a-4c2b-44fd-8085-3036c3f40377",
   "metadata": {},
   "outputs": [
    {
     "data": {
      "text/plain": [
       "{0: 45, 1: 77, 2: 109, 3: 'data', 4: ['alex', 'john']}"
      ]
     },
     "execution_count": 68,
     "metadata": {},
     "output_type": "execute_result"
    }
   ],
   "source": [
    "{tp.index(v):v for v in tp}"
   ]
  },
  {
   "cell_type": "markdown",
   "id": "4b759294-ca65-41ac-9fa0-fe65ad9f6cc0",
   "metadata": {},
   "source": [
    "# 9 December\n",
    "    "
   ]
  },
  {
   "cell_type": "markdown",
   "id": "d94a780d-90fb-41dd-9e0d-114c1bc73a04",
   "metadata": {},
   "source": [
    "## Tuple"
   ]
  },
  {
   "cell_type": "code",
   "execution_count": 69,
   "id": "ee86d240-5883-4005-8307-6a82d588323a",
   "metadata": {},
   "outputs": [],
   "source": [
    "s = set()\n",
    "s1=(2,3,4,5,6,7,8,9,10)"
   ]
  },
  {
   "cell_type": "code",
   "execution_count": 70,
   "id": "de19f3c0-8ee5-438c-ab22-26e018bf94a7",
   "metadata": {},
   "outputs": [
    {
     "data": {
      "text/plain": [
       "(2, 3, 4, 5, 6, 7, 8, 9, 10)"
      ]
     },
     "execution_count": 70,
     "metadata": {},
     "output_type": "execute_result"
    }
   ],
   "source": [
    "s1"
   ]
  },
  {
   "cell_type": "code",
   "execution_count": 72,
   "id": "a346d712-14ed-4758-b582-a885f3d75baf",
   "metadata": {},
   "outputs": [
    {
     "data": {
      "text/plain": [
       "tuple"
      ]
     },
     "execution_count": 72,
     "metadata": {},
     "output_type": "execute_result"
    }
   ],
   "source": [
    "type(s1)"
   ]
  },
  {
   "cell_type": "code",
   "execution_count": 73,
   "id": "d0d2d9c1-5478-44fa-904e-74b9dea7fddc",
   "metadata": {},
   "outputs": [
    {
     "data": {
      "text/plain": [
       "set()"
      ]
     },
     "execution_count": 73,
     "metadata": {},
     "output_type": "execute_result"
    }
   ],
   "source": [
    "s"
   ]
  },
  {
   "cell_type": "code",
   "execution_count": 74,
   "id": "99d6cee0-fe2e-4ed9-a07f-e15871886c38",
   "metadata": {},
   "outputs": [
    {
     "data": {
      "text/plain": [
       "list"
      ]
     },
     "execution_count": 74,
     "metadata": {},
     "output_type": "execute_result"
    }
   ],
   "source": [
    "l = [1,2,2,3,3,4,4]\n",
    "type(l)"
   ]
  },
  {
   "cell_type": "code",
   "execution_count": 75,
   "id": "9f4468a7-61ba-49b7-995a-4e64dfae58c4",
   "metadata": {},
   "outputs": [
    {
     "data": {
      "text/plain": [
       "{1, 2, 3, 4}"
      ]
     },
     "execution_count": 75,
     "metadata": {},
     "output_type": "execute_result"
    }
   ],
   "source": [
    "set(l)"
   ]
  },
  {
   "cell_type": "code",
   "execution_count": 76,
   "id": "43f1ddcd-6240-4d61-9566-1a1b43e20356",
   "metadata": {},
   "outputs": [],
   "source": [
    "s.add(10)"
   ]
  },
  {
   "cell_type": "code",
   "execution_count": 77,
   "id": "ff4be713-6e9c-4596-a187-e0d2d756a555",
   "metadata": {},
   "outputs": [
    {
     "data": {
      "text/plain": [
       "{10}"
      ]
     },
     "execution_count": 77,
     "metadata": {},
     "output_type": "execute_result"
    }
   ],
   "source": [
    "s"
   ]
  },
  {
   "cell_type": "code",
   "execution_count": 78,
   "id": "7dc63ab0-e206-41bf-9913-2d4eac9dc3c4",
   "metadata": {},
   "outputs": [
    {
     "data": {
      "text/plain": [
       "[1, 2, 3, 4]"
      ]
     },
     "execution_count": 78,
     "metadata": {},
     "output_type": "execute_result"
    }
   ],
   "source": [
    "list(set(l))"
   ]
  },
  {
   "cell_type": "code",
   "execution_count": 79,
   "id": "e8e64031-7f41-4e21-adb6-7709771fa4c2",
   "metadata": {},
   "outputs": [],
   "source": [
    "s1 = {1,2,3,4,5,6,7,8}\n",
    "s2 = {5,6,7,8,9,10,11}"
   ]
  },
  {
   "cell_type": "markdown",
   "id": "7ce89b9f-8531-427c-b5d0-1dfdf28b45fb",
   "metadata": {},
   "source": [
    "## Set Datatype"
   ]
  },
  {
   "cell_type": "code",
   "execution_count": 80,
   "id": "62addc7e-fd88-41c1-9316-b5b427a41bc7",
   "metadata": {},
   "outputs": [
    {
     "data": {
      "text/plain": [
       "{1, 2, 3, 4, 5, 6, 7, 8, 9, 10, 11}"
      ]
     },
     "execution_count": 80,
     "metadata": {},
     "output_type": "execute_result"
    }
   ],
   "source": [
    "s1.union(s2)"
   ]
  },
  {
   "cell_type": "code",
   "execution_count": 81,
   "id": "1a9ca653-89d6-442d-a7ba-9f5df5d8cfb2",
   "metadata": {},
   "outputs": [
    {
     "data": {
      "text/plain": [
       "{1, 2, 3, 4}"
      ]
     },
     "execution_count": 81,
     "metadata": {},
     "output_type": "execute_result"
    }
   ],
   "source": [
    "s1.difference(s2)"
   ]
  },
  {
   "cell_type": "code",
   "execution_count": 82,
   "id": "8f778d2a-b754-434d-b6e0-8d5b184a9b3f",
   "metadata": {},
   "outputs": [
    {
     "data": {
      "text/plain": [
       "{5, 6, 7, 8}"
      ]
     },
     "execution_count": 82,
     "metadata": {},
     "output_type": "execute_result"
    }
   ],
   "source": [
    "#common elements\n",
    "s1.intersection(s2)"
   ]
  },
  {
   "cell_type": "code",
   "execution_count": 83,
   "id": "1f541777-e0fd-49ae-8c88-1be540f28637",
   "metadata": {},
   "outputs": [
    {
     "data": {
      "text/plain": [
       "{1, 2, 3, 4}"
      ]
     },
     "execution_count": 83,
     "metadata": {},
     "output_type": "execute_result"
    }
   ],
   "source": [
    "s1-s2"
   ]
  },
  {
   "cell_type": "code",
   "execution_count": 84,
   "id": "67332256-e2b5-4a9b-b730-24025bc02f47",
   "metadata": {},
   "outputs": [
    {
     "data": {
      "text/plain": [
       "['__and__',\n",
       " '__class__',\n",
       " '__contains__',\n",
       " '__delattr__',\n",
       " '__dir__',\n",
       " '__doc__',\n",
       " '__eq__',\n",
       " '__format__',\n",
       " '__ge__',\n",
       " '__getattribute__',\n",
       " '__gt__',\n",
       " '__hash__',\n",
       " '__iand__',\n",
       " '__init__',\n",
       " '__init_subclass__',\n",
       " '__ior__',\n",
       " '__isub__',\n",
       " '__iter__',\n",
       " '__ixor__',\n",
       " '__le__',\n",
       " '__len__',\n",
       " '__lt__',\n",
       " '__ne__',\n",
       " '__new__',\n",
       " '__or__',\n",
       " '__rand__',\n",
       " '__reduce__',\n",
       " '__reduce_ex__',\n",
       " '__repr__',\n",
       " '__ror__',\n",
       " '__rsub__',\n",
       " '__rxor__',\n",
       " '__setattr__',\n",
       " '__sizeof__',\n",
       " '__str__',\n",
       " '__sub__',\n",
       " '__subclasshook__',\n",
       " '__xor__',\n",
       " 'add',\n",
       " 'clear',\n",
       " 'copy',\n",
       " 'difference',\n",
       " 'difference_update',\n",
       " 'discard',\n",
       " 'intersection',\n",
       " 'intersection_update',\n",
       " 'isdisjoint',\n",
       " 'issubset',\n",
       " 'issuperset',\n",
       " 'pop',\n",
       " 'remove',\n",
       " 'symmetric_difference',\n",
       " 'symmetric_difference_update',\n",
       " 'union',\n",
       " 'update']"
      ]
     },
     "execution_count": 84,
     "metadata": {},
     "output_type": "execute_result"
    }
   ],
   "source": [
    "dir(s1)"
   ]
  },
  {
   "cell_type": "code",
   "execution_count": 85,
   "id": "f14679be-f907-498c-bbdb-fb5649a3f3cd",
   "metadata": {},
   "outputs": [
    {
     "data": {
      "text/plain": [
       "10"
      ]
     },
     "execution_count": 85,
     "metadata": {},
     "output_type": "execute_result"
    }
   ],
   "source": [
    "s.pop()"
   ]
  },
  {
   "cell_type": "code",
   "execution_count": 86,
   "id": "619dfe03-7ecb-4ca3-9465-661dbd7d50d8",
   "metadata": {},
   "outputs": [],
   "source": [
    "# we have covered all the basics data types in python"
   ]
  },
  {
   "cell_type": "markdown",
   "id": "2cfd5d31-875d-40dd-aa45-b415b19c21c8",
   "metadata": {},
   "source": [
    "## User defined functions"
   ]
  },
  {
   "cell_type": "code",
   "execution_count": 88,
   "id": "4ee759dd-1af9-4262-8250-e30841763bf2",
   "metadata": {},
   "outputs": [],
   "source": [
    "# Avoid repititive work\n",
    "def greeting():\n",
    "    print('hello')\n",
    "    print('welcome to python')\n",
    "    print('your age is 26')"
   ]
  },
  {
   "cell_type": "code",
   "execution_count": 89,
   "id": "bab6e506-b7e3-4b72-b23c-f5ee722b2c6e",
   "metadata": {},
   "outputs": [
    {
     "name": "stdout",
     "output_type": "stream",
     "text": [
      "hello\n",
      "welcome to python\n",
      "your age is 26\n"
     ]
    }
   ],
   "source": [
    "greeting()"
   ]
  },
  {
   "cell_type": "code",
   "execution_count": 98,
   "id": "deec3bfa-ed95-451c-a01b-d4566b6e289e",
   "metadata": {},
   "outputs": [],
   "source": [
    "def greeting(name,age):\n",
    "    print(\"hello {}\".format(name))\n",
    "    print(\"welcome to python\")\n",
    "    if isinstance(age,(int,float)):\n",
    "        print(\"age\",age)"
   ]
  },
  {
   "cell_type": "code",
   "execution_count": 99,
   "id": "b6d55a46-2acc-4452-bc46-044255b0b7a1",
   "metadata": {},
   "outputs": [
    {
     "name": "stdout",
     "output_type": "stream",
     "text": [
      "hello rajesh\n",
      "welcome to python\n",
      "age 31\n"
     ]
    }
   ],
   "source": [
    "greeting('rajesh',31)"
   ]
  },
  {
   "cell_type": "code",
   "execution_count": 100,
   "id": "22baa759-824f-4536-ac73-d5624bd7b01e",
   "metadata": {},
   "outputs": [
    {
     "name": "stdout",
     "output_type": "stream",
     "text": [
      "hello rajesh\n",
      "welcome to python\n"
     ]
    }
   ],
   "source": [
    "greeting('rajesh','31')"
   ]
  },
  {
   "cell_type": "code",
   "execution_count": 106,
   "id": "974fffdb-0e45-4c5c-8da0-a61f9c7074e1",
   "metadata": {},
   "outputs": [],
   "source": [
    "def greeting(name,age=25):\n",
    "    print(\"hello {}\".format(name))\n",
    "    print(\"age is\",age)"
   ]
  },
  {
   "cell_type": "code",
   "execution_count": 107,
   "id": "091dd532-6ad1-488f-a302-e495c5d0ff19",
   "metadata": {},
   "outputs": [
    {
     "name": "stdout",
     "output_type": "stream",
     "text": [
      "hello onkar\n",
      "age is 25\n"
     ]
    }
   ],
   "source": [
    "greeting(\"onkar\",age=25)"
   ]
  },
  {
   "cell_type": "code",
   "execution_count": 108,
   "id": "e44f9f0b-d8c5-4563-a3df-9ae2de3c7439",
   "metadata": {},
   "outputs": [
    {
     "name": "stdout",
     "output_type": "stream",
     "text": [
      "hello rajesh\n",
      "age is 31\n"
     ]
    }
   ],
   "source": [
    "greeting(\"rajesh\",age=31)"
   ]
  },
  {
   "cell_type": "code",
   "execution_count": 109,
   "id": "6b9ed58e-9727-4432-9ffb-514d5c30281b",
   "metadata": {},
   "outputs": [],
   "source": [
    "def greeting(name='',age=25):\n",
    "    print(name)\n",
    "    print(age)"
   ]
  },
  {
   "cell_type": "code",
   "execution_count": 110,
   "id": "e824aa93-0d37-4896-a679-b484218583d3",
   "metadata": {},
   "outputs": [
    {
     "name": "stdout",
     "output_type": "stream",
     "text": [
      "\n",
      "25\n"
     ]
    }
   ],
   "source": [
    "greeting()"
   ]
  },
  {
   "cell_type": "code",
   "execution_count": 111,
   "id": "b471df09-d2b5-472e-a089-9cb016355ea3",
   "metadata": {},
   "outputs": [],
   "source": [
    "def greet(name,age,address=None):\n",
    "    print(name)\n",
    "    print(age)\n",
    "    if address:\n",
    "        print(address)"
   ]
  },
  {
   "cell_type": "code",
   "execution_count": 112,
   "id": "892e3711-74a4-42aa-9ffd-a4f574c7b27d",
   "metadata": {},
   "outputs": [
    {
     "name": "stdout",
     "output_type": "stream",
     "text": [
      "rajesh\n",
      "31\n"
     ]
    }
   ],
   "source": [
    "greet('rajesh',31)"
   ]
  },
  {
   "cell_type": "code",
   "execution_count": 115,
   "id": "35546a61-638c-47a5-891c-1a0435e1170a",
   "metadata": {},
   "outputs": [
    {
     "name": "stdout",
     "output_type": "stream",
     "text": [
      "rajesh\n",
      "31\n",
      "Morewadi\n"
     ]
    }
   ],
   "source": [
    "greet('rajesh',31,'Morewadi')\n"
   ]
  },
  {
   "cell_type": "code",
   "execution_count": 121,
   "id": "140bc2e4-4c76-469c-a03c-2c152f8935a6",
   "metadata": {},
   "outputs": [],
   "source": [
    "def discount(*args):\n",
    "    print(args[0])"
   ]
  },
  {
   "cell_type": "code",
   "execution_count": 122,
   "id": "e9f32d9c-f7b1-48cb-8eba-5f371844caab",
   "metadata": {},
   "outputs": [
    {
     "name": "stdout",
     "output_type": "stream",
     "text": [
      "1\n"
     ]
    }
   ],
   "source": [
    "discount(1,34,5,6,7)"
   ]
  },
  {
   "cell_type": "code",
   "execution_count": 123,
   "id": "35d97e17-4218-4b42-9d2a-e6ad685c72cb",
   "metadata": {},
   "outputs": [],
   "source": [
    "def discount(*arg,ph='999',addr=\"high street\"):\n",
    "    print(arg[0])\n",
    "    print(\"phone\",ph)\n",
    "    print(addr)"
   ]
  },
  {
   "cell_type": "code",
   "execution_count": 124,
   "id": "67b88f09-b1be-4367-adbe-b038fccb1bec",
   "metadata": {},
   "outputs": [
    {
     "name": "stdout",
     "output_type": "stream",
     "text": [
      "1\n",
      "phone 999\n",
      "morewadi\n"
     ]
    }
   ],
   "source": [
    "discount(1,34,5,6,7,ph=999,addr='morewadi')"
   ]
  },
  {
   "cell_type": "code",
   "execution_count": 125,
   "id": "25a0f933-3b89-48b1-8bbd-c529f8ba1603",
   "metadata": {},
   "outputs": [],
   "source": [
    "def discount(total,discount,*args, **kwargs):\n",
    "    print(\"total\", total)\n",
    "    print(\"discount\", discount)\n",
    "    print(args)\n",
    "    print(kwargs)\n",
    "    for i in args:\n",
    "        print(i)\n",
    "    print(\"ph\", kwargs['ph'])\n",
    "    print(\"addr\", kwargs['addr'])"
   ]
  },
  {
   "cell_type": "code",
   "execution_count": 128,
   "id": "52c5be05-cbbb-4172-9ff6-74d96855d77e",
   "metadata": {},
   "outputs": [
    {
     "name": "stdout",
     "output_type": "stream",
     "text": [
      "total 10\n",
      "discount 5\n",
      "(1,)\n",
      "{'age': 50, 'ph': 999, 'addr': 30, 'account': 'joint'}\n",
      "1\n",
      "ph 999\n",
      "addr 30\n"
     ]
    }
   ],
   "source": [
    "discount(10,5,1,age=50,ph=999,addr=30,account='joint')"
   ]
  },
  {
   "cell_type": "code",
   "execution_count": 129,
   "id": "4f02222f-5832-4e78-82d5-cd0533547b8c",
   "metadata": {},
   "outputs": [],
   "source": [
    "def add(a,b):\n",
    "    print(a+b)"
   ]
  },
  {
   "cell_type": "code",
   "execution_count": 130,
   "id": "138d9b74-23c9-4ccd-8505-30e582ff21b5",
   "metadata": {},
   "outputs": [
    {
     "name": "stdout",
     "output_type": "stream",
     "text": [
      "9\n"
     ]
    }
   ],
   "source": [
    "add(4,5)"
   ]
  },
  {
   "cell_type": "markdown",
   "id": "63b9655d-5318-4949-82ce-9531dbce66df",
   "metadata": {},
   "source": [
    "## Lambda function"
   ]
  },
  {
   "cell_type": "code",
   "execution_count": 131,
   "id": "f024f4a8-7343-4a3d-9376-cedaed5e7dbf",
   "metadata": {},
   "outputs": [],
   "source": [
    "x = lambda args: expression"
   ]
  },
  {
   "cell_type": "code",
   "execution_count": 132,
   "id": "9c121e8e-1c6b-45e8-bbbd-d099841fdf24",
   "metadata": {},
   "outputs": [],
   "source": [
    "x = lambda y: y**2"
   ]
  },
  {
   "cell_type": "code",
   "execution_count": 133,
   "id": "ea1148e0-b7b9-4d24-93cf-4525a9264ddc",
   "metadata": {},
   "outputs": [
    {
     "data": {
      "text/plain": [
       "<function __main__.<lambda>(y)>"
      ]
     },
     "execution_count": 133,
     "metadata": {},
     "output_type": "execute_result"
    }
   ],
   "source": [
    "x"
   ]
  },
  {
   "cell_type": "code",
   "execution_count": 134,
   "id": "164e26f1-a646-40cc-9ce4-810431235373",
   "metadata": {},
   "outputs": [
    {
     "data": {
      "text/plain": [
       "4"
      ]
     },
     "execution_count": 134,
     "metadata": {},
     "output_type": "execute_result"
    }
   ],
   "source": [
    "x(2)"
   ]
  },
  {
   "cell_type": "markdown",
   "id": "3e0b8f0a-e2b5-47c5-9b86-74ec3c47c3c8",
   "metadata": {},
   "source": [
    "## Map function"
   ]
  },
  {
   "cell_type": "code",
   "execution_count": 136,
   "id": "978e0359-24f1-4a49-87e0-f594007b242a",
   "metadata": {},
   "outputs": [],
   "source": [
    "def square(x):\n",
    "    return x**2"
   ]
  },
  {
   "cell_type": "code",
   "execution_count": 137,
   "id": "a55f4c8c-1722-4a1e-8a06-4380d8f87445",
   "metadata": {},
   "outputs": [
    {
     "data": {
      "text/plain": [
       "[1, 4, 9, 16, 25, 36]"
      ]
     },
     "execution_count": 137,
     "metadata": {},
     "output_type": "execute_result"
    }
   ],
   "source": [
    "#takes the function as input and the arg\n",
    "list(map(square,(1,2,3,4,5,6)))"
   ]
  },
  {
   "cell_type": "code",
   "execution_count": 138,
   "id": "598d0142-263b-4b51-a789-1fbc1cccb35b",
   "metadata": {},
   "outputs": [
    {
     "data": {
      "text/plain": [
       "[4, 16, 25, 36, 49]"
      ]
     },
     "execution_count": 138,
     "metadata": {},
     "output_type": "execute_result"
    }
   ],
   "source": [
    "list(map(lambda x: x**2,(2,4,5,6,7)))"
   ]
  },
  {
   "cell_type": "code",
   "execution_count": 139,
   "id": "b558e340-9d3a-4cb8-830a-ad9133e08a9a",
   "metadata": {},
   "outputs": [],
   "source": [
    "u = lambda x,y: x-y if x>y else y-x"
   ]
  },
  {
   "cell_type": "code",
   "execution_count": 140,
   "id": "da046431-ad69-4a2b-ae4b-d47262e8ee37",
   "metadata": {},
   "outputs": [
    {
     "data": {
      "text/plain": [
       "8"
      ]
     },
     "execution_count": 140,
     "metadata": {},
     "output_type": "execute_result"
    }
   ],
   "source": [
    "u(10,2)"
   ]
  },
  {
   "cell_type": "code",
   "execution_count": 142,
   "id": "418a7b10-a35b-4154-8a31-edd8ac8cf812",
   "metadata": {},
   "outputs": [
    {
     "data": {
      "text/plain": [
       "['PYTHON', 'IS']"
      ]
     },
     "execution_count": 142,
     "metadata": {},
     "output_type": "execute_result"
    }
   ],
   "source": [
    "[word.upper() for word in ['python','is']]"
   ]
  },
  {
   "cell_type": "code",
   "execution_count": 143,
   "id": "2252e29a-9eb5-44f0-8b70-6f733a5f5824",
   "metadata": {},
   "outputs": [
    {
     "data": {
      "text/plain": [
       "['PYTHON']"
      ]
     },
     "execution_count": 143,
     "metadata": {},
     "output_type": "execute_result"
    }
   ],
   "source": [
    "list(map(str.upper,['python']))"
   ]
  },
  {
   "cell_type": "markdown",
   "id": "1891e3ee-e525-4e64-9681-008de11a9c1a",
   "metadata": {},
   "source": [
    "## Outer Function"
   ]
  },
  {
   "cell_type": "code",
   "execution_count": 150,
   "id": "81a7b034-9c2c-4f70-81bc-4ec92062cc26",
   "metadata": {},
   "outputs": [],
   "source": [
    "def outer():\n",
    "    j=10\n",
    "    i=8\n",
    "    def inner():\n",
    "        print(i)\n",
    "        print(\"i am inside inner function\")\n",
    "    def inner2():\n",
    "        print(\"second inner\")\n",
    "    inner()\n",
    "    inner2()\n",
    "    return inner, inner2"
   ]
  },
  {
   "cell_type": "code",
   "execution_count": 151,
   "id": "ca586502-231d-455d-8933-8f5994283c6a",
   "metadata": {},
   "outputs": [
    {
     "name": "stdout",
     "output_type": "stream",
     "text": [
      "8\n",
      "i am inside inner function\n",
      "second inner\n"
     ]
    },
    {
     "data": {
      "text/plain": [
       "(<function __main__.outer.<locals>.inner()>,\n",
       " <function __main__.outer.<locals>.inner2()>)"
      ]
     },
     "execution_count": 151,
     "metadata": {},
     "output_type": "execute_result"
    }
   ],
   "source": [
    "outer()"
   ]
  },
  {
   "cell_type": "code",
   "execution_count": 152,
   "id": "b8ac0a00-26f3-4c35-b80d-36b8e6e716d5",
   "metadata": {},
   "outputs": [
    {
     "name": "stdout",
     "output_type": "stream",
     "text": [
      "8\n",
      "i am inside inner function\n",
      "second inner\n"
     ]
    }
   ],
   "source": [
    "p = outer()"
   ]
  },
  {
   "cell_type": "code",
   "execution_count": 153,
   "id": "e862ce34-dd63-44eb-9e5a-d2271fc972e8",
   "metadata": {},
   "outputs": [
    {
     "data": {
      "text/plain": [
       "(<function __main__.outer.<locals>.inner()>,\n",
       " <function __main__.outer.<locals>.inner2()>)"
      ]
     },
     "execution_count": 153,
     "metadata": {},
     "output_type": "execute_result"
    }
   ],
   "source": [
    "p"
   ]
  },
  {
   "cell_type": "code",
   "execution_count": 154,
   "id": "d656dd4d-315e-46ea-90f4-244009f6c74b",
   "metadata": {},
   "outputs": [
    {
     "name": "stdout",
     "output_type": "stream",
     "text": [
      "second inner\n"
     ]
    }
   ],
   "source": [
    "p[1]()"
   ]
  },
  {
   "cell_type": "code",
   "execution_count": 155,
   "id": "08b778b6-9648-443a-b668-6acdf653b736",
   "metadata": {},
   "outputs": [
    {
     "name": "stdout",
     "output_type": "stream",
     "text": [
      "8\n",
      "i am inside inner function\n"
     ]
    }
   ],
   "source": [
    "p[0]()"
   ]
  },
  {
   "cell_type": "code",
   "execution_count": 156,
   "id": "f295c4e4-1406-4861-908a-5bc4a6b4f33c",
   "metadata": {},
   "outputs": [
    {
     "name": "stdout",
     "output_type": "stream",
     "text": [
      "8\n",
      "i am inside inner function\n",
      "second inner\n"
     ]
    }
   ],
   "source": [
    "for i in p:\n",
    "    i()"
   ]
  },
  {
   "cell_type": "code",
   "execution_count": 157,
   "id": "988f08de-5866-4d72-bef0-13a5f6fa55d7",
   "metadata": {},
   "outputs": [
    {
     "name": "stdout",
     "output_type": "stream",
     "text": [
      "8\n",
      "i am inside inner function\n",
      "second inner\n"
     ]
    }
   ],
   "source": [
    "p1,p2 = outer()"
   ]
  },
  {
   "cell_type": "code",
   "execution_count": 172,
   "id": "ea9f9ce1-ecb0-49c6-a02a-b0c3ffb665ff",
   "metadata": {},
   "outputs": [],
   "source": [
    "def outer(f):\n",
    "    def inner():\n",
    "        result = f() #function 5 below\n",
    "        return result**2\n",
    "    return inner"
   ]
  },
  {
   "cell_type": "code",
   "execution_count": 173,
   "id": "6d651377-e3bd-473e-8caa-5a9c51ed3638",
   "metadata": {},
   "outputs": [],
   "source": [
    "def num():\n",
    "    return 5"
   ]
  },
  {
   "cell_type": "code",
   "execution_count": 174,
   "id": "7d0c8dcf-20cb-4c54-b91c-3def3b398259",
   "metadata": {},
   "outputs": [],
   "source": [
    "p = outer(num)"
   ]
  },
  {
   "cell_type": "code",
   "execution_count": 175,
   "id": "a1e58553-584f-4173-bce9-cb8d1d0eda74",
   "metadata": {},
   "outputs": [
    {
     "data": {
      "text/plain": [
       "<function __main__.outer.<locals>.inner()>"
      ]
     },
     "execution_count": 175,
     "metadata": {},
     "output_type": "execute_result"
    }
   ],
   "source": [
    "p"
   ]
  },
  {
   "cell_type": "code",
   "execution_count": 176,
   "id": "a33138bd-2ce7-4f03-8cb3-dc6b6fd2cbf9",
   "metadata": {},
   "outputs": [
    {
     "data": {
      "text/plain": [
       "25"
      ]
     },
     "execution_count": 176,
     "metadata": {},
     "output_type": "execute_result"
    }
   ],
   "source": [
    "p()"
   ]
  },
  {
   "cell_type": "markdown",
   "id": "d13a9242-dddb-4af2-a74a-07f6da3c086f",
   "metadata": {},
   "source": [
    "# 10 December 2021"
   ]
  },
  {
   "cell_type": "code",
   "execution_count": 177,
   "id": "0ad37896-370b-4fb8-8359-26db41dc3747",
   "metadata": {},
   "outputs": [],
   "source": [
    "def outer(f):\n",
    "    def inner(n1,n2):\n",
    "        result = f(n1,n2) #num(19,4)\n",
    "        return result**2\n",
    "    return inner"
   ]
  },
  {
   "cell_type": "code",
   "execution_count": 178,
   "id": "5d912f1a-ffca-4e08-b2ed-ad5b5ee58a46",
   "metadata": {},
   "outputs": [],
   "source": [
    "def num(n1,n2):\n",
    "    return n1+n2+5"
   ]
  },
  {
   "cell_type": "code",
   "execution_count": 179,
   "id": "3e5c067f-98ac-49fe-9191-13a730d2385c",
   "metadata": {},
   "outputs": [
    {
     "name": "stdout",
     "output_type": "stream",
     "text": [
      "28\n"
     ]
    }
   ],
   "source": [
    "print(num(19,4))"
   ]
  },
  {
   "cell_type": "code",
   "execution_count": 181,
   "id": "09ff1955-e16a-4e0e-9dd3-42f88ede183b",
   "metadata": {},
   "outputs": [
    {
     "data": {
      "text/plain": [
       "[2, 4, 6, 8]"
      ]
     },
     "execution_count": 181,
     "metadata": {},
     "output_type": "execute_result"
    }
   ],
   "source": [
    "# Filter function\n",
    "list1 = [1,2,3,4,5,6,7,8,9]\n",
    "list(filter(lambda x: x%2==0,list1))"
   ]
  },
  {
   "cell_type": "code",
   "execution_count": 185,
   "id": "f03b4c2a-7622-4e19-9572-c914cfcdafa7",
   "metadata": {},
   "outputs": [],
   "source": [
    "def validate(func):\n",
    "    def validator(*args, **kwargs):\n",
    "        print(args, kwargs)\n",
    "        if len(args) > 1:\n",
    "            if args[1] == 0:\n",
    "                print(\"we are expecting the non zero value\")\n",
    "                return None\n",
    "            else:\n",
    "                power = func(args[0], args[1])\n",
    "                return power\n",
    "        else:\n",
    "            print(\"Invalid args\")\n",
    "    return validator"
   ]
  },
  {
   "cell_type": "code",
   "execution_count": 186,
   "id": "da4990ad-d57e-4ad2-a99c-8152ea38ed76",
   "metadata": {},
   "outputs": [],
   "source": [
    "import math\n",
    "@validate\n",
    "def mypower(x,y):\n",
    "    return math.pow(x,y)"
   ]
  },
  {
   "cell_type": "code",
   "execution_count": 187,
   "id": "be4ee668-4e44-448d-bad4-f885a78989eb",
   "metadata": {},
   "outputs": [
    {
     "name": "stdout",
     "output_type": "stream",
     "text": [
      "(10, 0) {}\n",
      "we are expecting the non zero value\n"
     ]
    }
   ],
   "source": [
    "mypower(10,0)"
   ]
  },
  {
   "cell_type": "code",
   "execution_count": 195,
   "id": "95a708a3-238e-4444-a500-ef4093155964",
   "metadata": {},
   "outputs": [
    {
     "name": "stdout",
     "output_type": "stream",
     "text": [
      "positional args: (1, 2, 3)\n",
      "kwargs {}\n",
      "1 2 3\n"
     ]
    }
   ],
   "source": [
    "#passing positional based arguments\n",
    "def outer(func):\n",
    "    def inner(*args,**kwargs):\n",
    "        print(\"positional args:\",args)\n",
    "        print(\"kwargs\",kwargs)\n",
    "        func(*args)\n",
    "    return inner\n",
    "@outer\n",
    "def func_with_arguments(a,b,c):\n",
    "    print(a,b,c)\n",
    "    \n",
    "func_with_arguments(1,2,3)"
   ]
  },
  {
   "cell_type": "code",
   "execution_count": 194,
   "id": "41a6f58b-1ad9-4d85-9efc-5b808e836443",
   "metadata": {},
   "outputs": [
    {
     "name": "stdout",
     "output_type": "stream",
     "text": [
      "positional args: (1, 2, 3)\n",
      "kwargs {}\n",
      "1 2 3\n",
      "(1, 2, 3)\n"
     ]
    }
   ],
   "source": [
    "#passing kwargs based arguments\n",
    "def outer(func):\n",
    "    def inner(*args,**kwargs):\n",
    "        print(\"positional args:\",args)\n",
    "        print(\"kwargs\",kwargs)\n",
    "        s = func(*args)\n",
    "        print(s)\n",
    "    return inner\n",
    "@outer\n",
    "def func_with_arguments(a,b,c):\n",
    "    print(a,b,c)\n",
    "    return a,b,c\n",
    "    s=\"how are you?\"\n",
    "    return a\n",
    "    \n",
    "func_with_arguments(1,2,3)"
   ]
  },
  {
   "cell_type": "code",
   "execution_count": 193,
   "id": "b6bb6110-2655-42fc-969d-e90c02a71d9e",
   "metadata": {},
   "outputs": [
    {
     "name": "stdout",
     "output_type": "stream",
     "text": [
      "positional args (1, 2, 3)\n",
      "Keyword args {}\n",
      "1 2 3\n",
      "hi how are you?\n"
     ]
    }
   ],
   "source": [
    "def outer(func):\n",
    "    def inner(*args, **kwargs):\n",
    "        print(\"positional args\", args)\n",
    "        print(\"Keyword args\", kwargs)\n",
    "        s = func(*args)\n",
    "        print(s.split(\"#\")[0])\n",
    "    return inner\n",
    "\n",
    "\n",
    "@outer\n",
    "def func_with_arguments(a, b, c):\n",
    "    print(a, b, c)\n",
    "    s = \"hi how are you?##$$\"\n",
    "    return s\n",
    "func_with_arguments(1, 2, 3)"
   ]
  },
  {
   "cell_type": "code",
   "execution_count": 197,
   "id": "97978a5a-1c10-4a30-8835-68b76b486ac4",
   "metadata": {},
   "outputs": [
    {
     "name": "stdout",
     "output_type": "stream",
     "text": [
      "positional args: (10, 12)\n",
      "kwargs {'addr': 'pune', 'name': 'derick'}\n",
      "kwargs {'addr': 'pune', 'name': 'derick'}\n"
     ]
    }
   ],
   "source": [
    "#passing positional based arguments\n",
    "def outer(func):\n",
    "    def inner(*args,**kwargs):\n",
    "        print(\"positional args:\",args)\n",
    "        print(\"kwargs\",kwargs)\n",
    "        func(*args,**kwargs)\n",
    "    return inner\n",
    "@outer\n",
    "def func_with_keyword_arguments(a,b,**kwargs):\n",
    "    print(\"kwargs\",kwargs)\n",
    "    \n",
    "func_with_keyword_arguments(10,12,addr='pune',name='derick')"
   ]
  },
  {
   "cell_type": "code",
   "execution_count": 198,
   "id": "deed46bb-7148-4c51-b9b7-56d8157eab76",
   "metadata": {},
   "outputs": [],
   "source": [
    "def outer(func):\n",
    "    def inner(arg1, arg2):\n",
    "        print(\"my args:\",arg1, arg2)\n",
    "        func(arg1, arg2)\n",
    "    return inner\n",
    "\n",
    "@outer\n",
    "def list_cities(city1, city2):\n",
    "    print(\"city1\", city1)\n",
    "    print(\"city2\", city2)\n",
    "    "
   ]
  },
  {
   "cell_type": "code",
   "execution_count": 199,
   "id": "498550ac-85ba-4eee-a329-570deae729a8",
   "metadata": {},
   "outputs": [
    {
     "name": "stdout",
     "output_type": "stream",
     "text": [
      "my args: pune mumbai\n",
      "city1 pune\n",
      "city2 mumbai\n"
     ]
    }
   ],
   "source": [
    "list_cities(\"pune\",\"mumbai\")"
   ]
  },
  {
   "cell_type": "code",
   "execution_count": 200,
   "id": "a51bfdce-603e-4059-932c-74ffe7791b20",
   "metadata": {},
   "outputs": [
    {
     "name": "stdout",
     "output_type": "stream",
     "text": [
      "this function have access to all variables\n",
      "decorator args pandas numpy java\n",
      "inside the function onkar science tech\n"
     ]
    }
   ],
   "source": [
    "# passing arguments to decorator\n",
    "def decorator_maker_with_args(decorator_arg1, decorator_arg2, decorator_arg3):\n",
    "    def decorator(func):\n",
    "        def wrapper(fun_arg1, fun_arg2, fun_arg3):\n",
    "            \"This is wrapper function\"\n",
    "            print(\"this function have access to all variables\")\n",
    "            print(\"decorator args\", decorator_arg1, decorator_arg2, decorator_arg3)\n",
    "            return func(fun_arg1, fun_arg2, fun_arg3)\n",
    "        return wrapper\n",
    "    return decorator\n",
    "\n",
    "@decorator_maker_with_args(\"pandas\", \"numpy\", \"java\")\n",
    "def function_with_arguments(func_args1, func_args2, func_arg3):\n",
    "    print('inside the function', func_args1, func_args2, func_arg3)\n",
    "\n",
    "function_with_arguments(\"onkar\", \"science\", \"tech\")"
   ]
  },
  {
   "cell_type": "code",
   "execution_count": 201,
   "id": "c8ce0dcf-1427-41bf-a9f0-f0a9459faa9f",
   "metadata": {},
   "outputs": [],
   "source": [
    "def decor1(func):\n",
    "    def inner():\n",
    "        x = func()\n",
    "        print(\"x in deco2\", x)\n",
    "        return x*x\n",
    "    return inner\n",
    "\n",
    "def decor(func):\n",
    "    def inner():\n",
    "        x = func() #num()\n",
    "        print(\"x in decor1...\", x)\n",
    "        return 2 * x\n",
    "    return inner\n",
    "\n",
    "@decor1\n",
    "@decor\n",
    "def num():\n",
    "    return 10\n",
    "    "
   ]
  },
  {
   "cell_type": "code",
   "execution_count": 202,
   "id": "89083c54-55bd-4c3c-8af8-2a5dddb08531",
   "metadata": {},
   "outputs": [
    {
     "name": "stdout",
     "output_type": "stream",
     "text": [
      "x in decor1... 10\n",
      "x in deco2 20\n",
      "400\n"
     ]
    }
   ],
   "source": [
    "print(num())"
   ]
  },
  {
   "cell_type": "markdown",
   "id": "cf44dc60-cde7-444a-b124-ff9f44e6fc73",
   "metadata": {},
   "source": [
    "# Operators in Python\n",
    "1. Arithmatic : +, -, *, /, **, //, %\n",
    "\n",
    "2. Assignment Operator =, +=,-=, *=, /=,%=, //=,**=, &=,/=,^=,>>==,<<=\n",
    "\n",
    "3. Comparison Operator: ==,!=, >,<,>=,<=\n",
    "\n",
    "4. Logical Operator: and, or, not\n",
    "\n",
    "5. Identity Operator: is, is not (if they are pointed to same physcal address)\n",
    "\n",
    "6. bitwise operator: &,|,^,<<,>>"
   ]
  },
  {
   "cell_type": "code",
   "execution_count": 210,
   "id": "6dff2fca-b49e-4dd4-9cf4-4640dfb1878b",
   "metadata": {},
   "outputs": [],
   "source": [
    "# assignment\n",
    "#count the digits\n",
    "\n",
    "def count(n):\n",
    "    c = 0\n",
    "    while n!=0:\n",
    "        n//=10\n",
    "        c +=1\n",
    "    return c"
   ]
  },
  {
   "cell_type": "code",
   "execution_count": 211,
   "id": "b5cb8389-4e6a-4d04-bf62-c1e37be00129",
   "metadata": {},
   "outputs": [
    {
     "data": {
      "text/plain": [
       "3"
      ]
     },
     "execution_count": 211,
     "metadata": {},
     "output_type": "execute_result"
    }
   ],
   "source": [
    "count(100)"
   ]
  },
  {
   "cell_type": "code",
   "execution_count": 213,
   "id": "5d9190f9-1478-493c-9246-aaab23d21b8c",
   "metadata": {},
   "outputs": [
    {
     "name": "stdout",
     "output_type": "stream",
     "text": [
      "Input string:  a,b$c\n",
      "Output string:  c,b$a\n"
     ]
    }
   ],
   "source": [
    "\n",
    "# input: str = \"a,b$c\"\n",
    "# output: str = \"c,b$a\"\n",
    "\n",
    "# String that contain special character with english alphabets(\"a\" to \"z\" and \"A\" to \"Z\")\n",
    "# reverse the string in a way that special character are not affected.\n",
    "\n",
    "# note: any character that is not an alphabet should be consider as special character\n",
    "\n",
    "def reverseSting(text):\n",
    "    index = -1\n",
    " \n",
    "    # Loop from last index until half of the index    \n",
    "    for i in range(len(text)-1, int(len(text)/2), -1):\n",
    " \n",
    "        # match character is alphabet or not        \n",
    "        if text[i].isalpha():\n",
    "            temp = text[i]\n",
    "            while True:\n",
    "                index += 1\n",
    "                if text[index].isalpha():\n",
    "                    text[i] = text[index]\n",
    "                    text[index] = temp\n",
    "                    break\n",
    "    return text\n",
    "     \n",
    "\n",
    "string = \"a,b$c\"\n",
    "print (\"Input string: \", string)\n",
    "string = reverseSting(list(string))\n",
    "print (\"Output string: \", \"\".join(string))\n",
    "  \n"
   ]
  },
  {
   "cell_type": "code",
   "execution_count": 212,
   "id": "215b772a-e9eb-4ad4-9080-2e4b30c2c391",
   "metadata": {},
   "outputs": [
    {
     "name": "stdout",
     "output_type": "stream",
     "text": [
      "<function f1 at 0x7f7f8be08430>\n",
      "hello\n",
      "None\n"
     ]
    }
   ],
   "source": [
    "def f1():\n",
    "    print(\"hello\")\n",
    "    \n",
    "def f2(a,b):\n",
    "    print(a)\n",
    "\n",
    "f2(f1, 10)\n",
    "f2(f1(), 10)"
   ]
  },
  {
   "cell_type": "code",
   "execution_count": null,
   "id": "89950ae4-054b-42d5-b730-146f002b4975",
   "metadata": {},
   "outputs": [],
   "source": []
  }
 ],
 "metadata": {
  "kernelspec": {
   "display_name": "model",
   "language": "python",
   "name": "python3"
  },
  "language_info": {
   "codemirror_mode": {
    "name": "ipython",
    "version": 3
   },
   "file_extension": ".py",
   "mimetype": "text/x-python",
   "name": "python",
   "nbconvert_exporter": "python",
   "pygments_lexer": "ipython3",
   "version": "3.8.9"
  }
 },
 "nbformat": 4,
 "nbformat_minor": 5
}
