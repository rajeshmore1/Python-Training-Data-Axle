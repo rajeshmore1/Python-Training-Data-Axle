{
 "cells": [
  {
   "cell_type": "code",
   "execution_count": 2,
   "metadata": {},
   "outputs": [
    {
     "name": "stdout",
     "output_type": "stream",
     "text": [
      "hello world\n"
     ]
    }
   ],
   "source": [
    "print(\"hello world\")"
   ]
  },
  {
   "cell_type": "code",
   "execution_count": 3,
   "metadata": {},
   "outputs": [
    {
     "name": "stdout",
     "output_type": "stream",
     "text": [
      "hello world\n"
     ]
    }
   ],
   "source": [
    "print(\"hello world\")"
   ]
  },
  {
   "cell_type": "code",
   "execution_count": 4,
   "metadata": {},
   "outputs": [],
   "source": [
    "x = 10"
   ]
  },
  {
   "cell_type": "code",
   "execution_count": 5,
   "metadata": {},
   "outputs": [
    {
     "data": {
      "text/plain": [
       "10"
      ]
     },
     "execution_count": 5,
     "metadata": {},
     "output_type": "execute_result"
    }
   ],
   "source": [
    "x"
   ]
  },
  {
   "cell_type": "code",
   "execution_count": 6,
   "metadata": {},
   "outputs": [
    {
     "data": {
      "text/plain": [
       "int"
      ]
     },
     "execution_count": 6,
     "metadata": {},
     "output_type": "execute_result"
    }
   ],
   "source": [
    "type(x)"
   ]
  },
  {
   "cell_type": "code",
   "execution_count": 7,
   "metadata": {},
   "outputs": [
    {
     "name": "stdout",
     "output_type": "stream",
     "text": [
      "the value of x: 10\n"
     ]
    }
   ],
   "source": [
    "print(\"the value of x:\", x)"
   ]
  },
  {
   "cell_type": "code",
   "execution_count": 8,
   "metadata": {},
   "outputs": [
    {
     "name": "stdout",
     "output_type": "stream",
     "text": [
      "the value of x 10\n"
     ]
    }
   ],
   "source": [
    "print('the value of x', x)"
   ]
  },
  {
   "cell_type": "code",
   "execution_count": 9,
   "metadata": {},
   "outputs": [
    {
     "name": "stdout",
     "output_type": "stream",
     "text": [
      "Car pool Capacity: 320\n"
     ]
    }
   ],
   "source": [
    "cars = 100\n",
    "drivers = 80\n",
    "print('Car pool Capacity:', drivers*4)"
   ]
  },
  {
   "cell_type": "code",
   "execution_count": 10,
   "metadata": {},
   "outputs": [
    {
     "data": {
      "text/plain": [
       "10"
      ]
     },
     "execution_count": 10,
     "metadata": {},
     "output_type": "execute_result"
    }
   ],
   "source": [
    "x"
   ]
  },
  {
   "cell_type": "code",
   "execution_count": 11,
   "metadata": {},
   "outputs": [
    {
     "ename": "NameError",
     "evalue": "name 'd' is not defined",
     "output_type": "error",
     "traceback": [
      "\u001b[0;31m---------------------------------------------------------------------------\u001b[0m",
      "\u001b[0;31mNameError\u001b[0m                                 Traceback (most recent call last)",
      "\u001b[0;32m<ipython-input-11-e983f374794d>\u001b[0m in \u001b[0;36m<module>\u001b[0;34m\u001b[0m\n\u001b[0;32m----> 1\u001b[0;31m \u001b[0md\u001b[0m\u001b[0;34m\u001b[0m\u001b[0;34m\u001b[0m\u001b[0m\n\u001b[0m",
      "\u001b[0;31mNameError\u001b[0m: name 'd' is not defined"
     ]
    }
   ],
   "source": [
    "d"
   ]
  },
  {
   "cell_type": "code",
   "execution_count": 12,
   "metadata": {},
   "outputs": [],
   "source": [
    "d = None"
   ]
  },
  {
   "cell_type": "code",
   "execution_count": 13,
   "metadata": {},
   "outputs": [
    {
     "name": "stdout",
     "output_type": "stream",
     "text": [
      "There are 100 cars 80 drivers\n"
     ]
    }
   ],
   "source": [
    "print(\"There are {} cars {} drivers\".format(cars, drivers))"
   ]
  },
  {
   "cell_type": "code",
   "execution_count": 14,
   "metadata": {},
   "outputs": [
    {
     "name": "stdout",
     "output_type": "stream",
     "text": [
      "there are 100 and 80 drivers\n"
     ]
    }
   ],
   "source": [
    "print(f'there are {cars} and {drivers} drivers')"
   ]
  },
  {
   "cell_type": "code",
   "execution_count": 15,
   "metadata": {},
   "outputs": [
    {
     "name": "stdout",
     "output_type": "stream",
     "text": [
      "there are 100 cars and 80 drivers\n"
     ]
    }
   ],
   "source": [
    "print(\"there are %d cars and %d drivers\" %(cars, drivers)) "
   ]
  },
  {
   "cell_type": "code",
   "execution_count": 20,
   "metadata": {},
   "outputs": [
    {
     "name": "stdout",
     "output_type": "stream",
     "text": [
      "python is fun\n"
     ]
    }
   ],
   "source": [
    "# str\n",
    "s = 'python is fun'\n",
    "print(s)"
   ]
  },
  {
   "cell_type": "code",
   "execution_count": null,
   "metadata": {},
   "outputs": [],
   "source": []
  },
  {
   "cell_type": "code",
   "execution_count": null,
   "metadata": {},
   "outputs": [],
   "source": []
  },
  {
   "cell_type": "code",
   "execution_count": 18,
   "metadata": {},
   "outputs": [
    {
     "data": {
      "text/plain": [
       "'python is fun'"
      ]
     },
     "execution_count": 18,
     "metadata": {},
     "output_type": "execute_result"
    }
   ],
   "source": [
    "s"
   ]
  },
  {
   "cell_type": "code",
   "execution_count": 21,
   "metadata": {},
   "outputs": [
    {
     "data": {
      "text/plain": [
       "str"
      ]
     },
     "execution_count": 21,
     "metadata": {},
     "output_type": "execute_result"
    }
   ],
   "source": [
    "type(s)"
   ]
  },
  {
   "cell_type": "code",
   "execution_count": 22,
   "metadata": {},
   "outputs": [
    {
     "data": {
      "text/plain": [
       "10"
      ]
     },
     "execution_count": 22,
     "metadata": {},
     "output_type": "execute_result"
    }
   ],
   "source": [
    "x"
   ]
  },
  {
   "cell_type": "code",
   "execution_count": 23,
   "metadata": {},
   "outputs": [
    {
     "data": {
      "text/plain": [
       "15"
      ]
     },
     "execution_count": 23,
     "metadata": {},
     "output_type": "execute_result"
    }
   ],
   "source": [
    "x + 5"
   ]
  },
  {
   "cell_type": "code",
   "execution_count": 24,
   "metadata": {},
   "outputs": [
    {
     "ename": "TypeError",
     "evalue": "can only concatenate str (not \"int\") to str",
     "output_type": "error",
     "traceback": [
      "\u001b[0;31m---------------------------------------------------------------------------\u001b[0m",
      "\u001b[0;31mTypeError\u001b[0m                                 Traceback (most recent call last)",
      "\u001b[0;32m<ipython-input-24-bdd2275bd5ba>\u001b[0m in \u001b[0;36m<module>\u001b[0;34m\u001b[0m\n\u001b[0;32m----> 1\u001b[0;31m \u001b[0ms\u001b[0m \u001b[0;34m+\u001b[0m \u001b[0;36m5\u001b[0m\u001b[0;34m\u001b[0m\u001b[0;34m\u001b[0m\u001b[0m\n\u001b[0m",
      "\u001b[0;31mTypeError\u001b[0m: can only concatenate str (not \"int\") to str"
     ]
    }
   ],
   "source": [
    "s + 5"
   ]
  },
  {
   "cell_type": "code",
   "execution_count": 25,
   "metadata": {},
   "outputs": [
    {
     "data": {
      "text/plain": [
       "'python is funonkar'"
      ]
     },
     "execution_count": 25,
     "metadata": {},
     "output_type": "execute_result"
    }
   ],
   "source": [
    "s + 'onkar'"
   ]
  },
  {
   "cell_type": "code",
   "execution_count": 26,
   "metadata": {},
   "outputs": [
    {
     "name": "stdout",
     "output_type": "stream",
     "text": [
      "value of x is 10\n",
      "15\n",
      "End of program\n"
     ]
    }
   ],
   "source": [
    "x = 10\n",
    "print('value of x is', x)\n",
    "print(x+5)\n",
    "print(\"End of program\")"
   ]
  },
  {
   "cell_type": "code",
   "execution_count": 33,
   "metadata": {},
   "outputs": [],
   "source": [
    "s1 = \"python is \\\n",
    "fun\"\n",
    "s2 = 'python is fun'\n",
    "s3 = '''python is fun'''\n",
    "s4 = \"\"\"python is \n",
    "'fun\"\"\""
   ]
  },
  {
   "cell_type": "code",
   "execution_count": null,
   "metadata": {},
   "outputs": [],
   "source": []
  },
  {
   "cell_type": "code",
   "execution_count": null,
   "metadata": {},
   "outputs": [],
   "source": []
  },
  {
   "cell_type": "code",
   "execution_count": null,
   "metadata": {},
   "outputs": [],
   "source": []
  },
  {
   "cell_type": "code",
   "execution_count": 34,
   "metadata": {},
   "outputs": [
    {
     "name": "stdout",
     "output_type": "stream",
     "text": [
      "python is fun\n",
      "python is fun\n",
      "python is fun\n",
      "python is \n",
      "'fun\n"
     ]
    }
   ],
   "source": [
    "print(s1)\n",
    "print(s2)\n",
    "print(s3)\n",
    "print(s4)"
   ]
  },
  {
   "cell_type": "code",
   "execution_count": 35,
   "metadata": {},
   "outputs": [
    {
     "data": {
      "text/plain": [
       "\"aws's turnover 10 bn\""
      ]
     },
     "execution_count": 35,
     "metadata": {},
     "output_type": "execute_result"
    }
   ],
   "source": [
    "\"aws's turnover 10 bn\""
   ]
  },
  {
   "cell_type": "code",
   "execution_count": 36,
   "metadata": {},
   "outputs": [
    {
     "data": {
      "text/plain": [
       "\"aws's turnover 10 bn\""
      ]
     },
     "execution_count": 36,
     "metadata": {},
     "output_type": "execute_result"
    }
   ],
   "source": [
    "\"aws\\'s turnover 10 bn\""
   ]
  },
  {
   "cell_type": "code",
   "execution_count": 37,
   "metadata": {},
   "outputs": [
    {
     "name": "stdout",
     "output_type": "stream",
     "text": [
      "30\n"
     ]
    }
   ],
   "source": [
    "x = 10\n",
    "y = 20\n",
    "c = 10\n",
    "print(x+y)"
   ]
  },
  {
   "cell_type": "code",
   "execution_count": 38,
   "metadata": {},
   "outputs": [
    {
     "name": "stdout",
     "output_type": "stream",
     "text": [
      "onkar\n"
     ]
    }
   ],
   "source": [
    "# input user input\n",
    "\n",
    "c = input()"
   ]
  },
  {
   "cell_type": "code",
   "execution_count": 39,
   "metadata": {},
   "outputs": [
    {
     "data": {
      "text/plain": [
       "'onkar'"
      ]
     },
     "execution_count": 39,
     "metadata": {},
     "output_type": "execute_result"
    }
   ],
   "source": [
    "c"
   ]
  },
  {
   "cell_type": "code",
   "execution_count": 40,
   "metadata": {},
   "outputs": [
    {
     "data": {
      "text/plain": [
       "str"
      ]
     },
     "execution_count": 40,
     "metadata": {},
     "output_type": "execute_result"
    }
   ],
   "source": [
    "type(c)"
   ]
  },
  {
   "cell_type": "code",
   "execution_count": 41,
   "metadata": {},
   "outputs": [
    {
     "name": "stdout",
     "output_type": "stream",
     "text": [
      "Enter the nameraj\n"
     ]
    }
   ],
   "source": [
    "c = input('Enter the name')"
   ]
  },
  {
   "cell_type": "code",
   "execution_count": 42,
   "metadata": {},
   "outputs": [
    {
     "data": {
      "text/plain": [
       "'raj'"
      ]
     },
     "execution_count": 42,
     "metadata": {},
     "output_type": "execute_result"
    }
   ],
   "source": [
    "c"
   ]
  },
  {
   "cell_type": "code",
   "execution_count": 43,
   "metadata": {},
   "outputs": [
    {
     "name": "stdout",
     "output_type": "stream",
     "text": [
      "Enter the namefdfdv\n"
     ]
    }
   ],
   "source": [
    "d = None\n",
    "d = input('Enter the name')"
   ]
  },
  {
   "cell_type": "code",
   "execution_count": 44,
   "metadata": {},
   "outputs": [
    {
     "data": {
      "text/plain": [
       "'fdfdv'"
      ]
     },
     "execution_count": 44,
     "metadata": {},
     "output_type": "execute_result"
    }
   ],
   "source": [
    "d"
   ]
  },
  {
   "cell_type": "code",
   "execution_count": 46,
   "metadata": {},
   "outputs": [
    {
     "name": "stdout",
     "output_type": "stream",
     "text": [
      "10\n",
      "<class 'int'>\n",
      "string\n",
      "<class 'str'>\n"
     ]
    }
   ],
   "source": [
    "a = 10\n",
    "print(a)\n",
    "print(type(a))\n",
    "a = 'string'\n",
    "print(a)\n",
    "print(type(a))"
   ]
  },
  {
   "cell_type": "code",
   "execution_count": 47,
   "metadata": {},
   "outputs": [
    {
     "name": "stdout",
     "output_type": "stream",
     "text": [
      "Enter your age:10\n"
     ]
    }
   ],
   "source": [
    "age = input(\"Enter your age:\")"
   ]
  },
  {
   "cell_type": "code",
   "execution_count": 48,
   "metadata": {},
   "outputs": [
    {
     "data": {
      "text/plain": [
       "'10'"
      ]
     },
     "execution_count": 48,
     "metadata": {},
     "output_type": "execute_result"
    }
   ],
   "source": [
    "age"
   ]
  },
  {
   "cell_type": "code",
   "execution_count": 49,
   "metadata": {},
   "outputs": [
    {
     "data": {
      "text/plain": [
       "str"
      ]
     },
     "execution_count": 49,
     "metadata": {},
     "output_type": "execute_result"
    }
   ],
   "source": [
    "type(age)"
   ]
  },
  {
   "cell_type": "code",
   "execution_count": 50,
   "metadata": {},
   "outputs": [],
   "source": [
    "a = int(age)"
   ]
  },
  {
   "cell_type": "code",
   "execution_count": 51,
   "metadata": {},
   "outputs": [
    {
     "data": {
      "text/plain": [
       "10"
      ]
     },
     "execution_count": 51,
     "metadata": {},
     "output_type": "execute_result"
    }
   ],
   "source": [
    "a"
   ]
  },
  {
   "cell_type": "code",
   "execution_count": 52,
   "metadata": {},
   "outputs": [
    {
     "name": "stdout",
     "output_type": "stream",
     "text": [
      "Enter your age:10\n"
     ]
    }
   ],
   "source": [
    "age = int(input(\"Enter your age:\"))"
   ]
  },
  {
   "cell_type": "code",
   "execution_count": 53,
   "metadata": {},
   "outputs": [
    {
     "data": {
      "text/plain": [
       "10"
      ]
     },
     "execution_count": 53,
     "metadata": {},
     "output_type": "execute_result"
    }
   ],
   "source": [
    "age"
   ]
  },
  {
   "cell_type": "code",
   "execution_count": 54,
   "metadata": {},
   "outputs": [
    {
     "data": {
      "text/plain": [
       "int"
      ]
     },
     "execution_count": 54,
     "metadata": {},
     "output_type": "execute_result"
    }
   ],
   "source": [
    "type(age)"
   ]
  },
  {
   "cell_type": "code",
   "execution_count": 55,
   "metadata": {},
   "outputs": [],
   "source": [
    "a = int('765')"
   ]
  },
  {
   "cell_type": "code",
   "execution_count": 56,
   "metadata": {},
   "outputs": [
    {
     "data": {
      "text/plain": [
       "765"
      ]
     },
     "execution_count": 56,
     "metadata": {},
     "output_type": "execute_result"
    }
   ],
   "source": [
    "a"
   ]
  },
  {
   "cell_type": "code",
   "execution_count": 57,
   "metadata": {},
   "outputs": [
    {
     "ename": "ValueError",
     "evalue": "invalid literal for int() with base 10: 'tt765'",
     "output_type": "error",
     "traceback": [
      "\u001b[0;31m---------------------------------------------------------------------------\u001b[0m",
      "\u001b[0;31mValueError\u001b[0m                                Traceback (most recent call last)",
      "\u001b[0;32m<ipython-input-57-9c8701ab1000>\u001b[0m in \u001b[0;36m<module>\u001b[0;34m\u001b[0m\n\u001b[0;32m----> 1\u001b[0;31m \u001b[0ma\u001b[0m \u001b[0;34m=\u001b[0m \u001b[0mint\u001b[0m\u001b[0;34m(\u001b[0m\u001b[0;34m'tt765'\u001b[0m\u001b[0;34m)\u001b[0m\u001b[0;34m\u001b[0m\u001b[0;34m\u001b[0m\u001b[0m\n\u001b[0m",
      "\u001b[0;31mValueError\u001b[0m: invalid literal for int() with base 10: 'tt765'"
     ]
    }
   ],
   "source": [
    "a = int('tt765')"
   ]
  },
  {
   "cell_type": "code",
   "execution_count": 58,
   "metadata": {},
   "outputs": [],
   "source": [
    "n = 100\n",
    "string_n = str(n)"
   ]
  },
  {
   "cell_type": "code",
   "execution_count": 59,
   "metadata": {},
   "outputs": [
    {
     "data": {
      "text/plain": [
       "'100'"
      ]
     },
     "execution_count": 59,
     "metadata": {},
     "output_type": "execute_result"
    }
   ],
   "source": [
    "string_n"
   ]
  },
  {
   "cell_type": "code",
   "execution_count": 60,
   "metadata": {},
   "outputs": [
    {
     "data": {
      "text/plain": [
       "str"
      ]
     },
     "execution_count": 60,
     "metadata": {},
     "output_type": "execute_result"
    }
   ],
   "source": [
    "type(string_n)"
   ]
  },
  {
   "cell_type": "code",
   "execution_count": 61,
   "metadata": {},
   "outputs": [
    {
     "data": {
      "text/plain": [
       "25"
      ]
     },
     "execution_count": 61,
     "metadata": {},
     "output_type": "execute_result"
    }
   ],
   "source": [
    "x = 5\n",
    "x **2"
   ]
  },
  {
   "cell_type": "code",
   "execution_count": 62,
   "metadata": {},
   "outputs": [],
   "source": [
    "import math"
   ]
  },
  {
   "cell_type": "code",
   "execution_count": 64,
   "metadata": {},
   "outputs": [
    {
     "data": {
      "text/plain": [
       "5.0"
      ]
     },
     "execution_count": 64,
     "metadata": {},
     "output_type": "execute_result"
    }
   ],
   "source": [
    "math.sqrt(25)"
   ]
  },
  {
   "cell_type": "code",
   "execution_count": 66,
   "metadata": {},
   "outputs": [],
   "source": [
    "import time"
   ]
  },
  {
   "cell_type": "code",
   "execution_count": null,
   "metadata": {},
   "outputs": [],
   "source": []
  },
  {
   "cell_type": "code",
   "execution_count": 65,
   "metadata": {},
   "outputs": [
    {
     "ename": "NameError",
     "evalue": "name 'time' is not defined",
     "output_type": "error",
     "traceback": [
      "\u001b[0;31m---------------------------------------------------------------------------\u001b[0m",
      "\u001b[0;31mNameError\u001b[0m                                 Traceback (most recent call last)",
      "\u001b[0;32m<ipython-input-65-e0dd5f34ad7e>\u001b[0m in \u001b[0;36m<module>\u001b[0;34m\u001b[0m\n\u001b[0;32m----> 1\u001b[0;31m \u001b[0mtime\u001b[0m\u001b[0;34m.\u001b[0m\u001b[0msleep\u001b[0m\u001b[0;34m(\u001b[0m\u001b[0;36m2\u001b[0m\u001b[0;34m)\u001b[0m\u001b[0;34m\u001b[0m\u001b[0;34m\u001b[0m\u001b[0m\n\u001b[0m",
      "\u001b[0;31mNameError\u001b[0m: name 'time' is not defined"
     ]
    }
   ],
   "source": [
    "time.sleep(2)"
   ]
  },
  {
   "cell_type": "code",
   "execution_count": 67,
   "metadata": {},
   "outputs": [],
   "source": [
    "import math"
   ]
  },
  {
   "cell_type": "code",
   "execution_count": 68,
   "metadata": {},
   "outputs": [],
   "source": [
    "area = math.pi * 7**2"
   ]
  },
  {
   "cell_type": "code",
   "execution_count": 69,
   "metadata": {},
   "outputs": [
    {
     "data": {
      "text/plain": [
       "153.93804002589985"
      ]
     },
     "execution_count": 69,
     "metadata": {},
     "output_type": "execute_result"
    }
   ],
   "source": [
    "area"
   ]
  },
  {
   "cell_type": "code",
   "execution_count": 70,
   "metadata": {},
   "outputs": [
    {
     "data": {
      "text/plain": [
       "3.141592653589793"
      ]
     },
     "execution_count": 70,
     "metadata": {},
     "output_type": "execute_result"
    }
   ],
   "source": [
    "math.pi"
   ]
  },
  {
   "cell_type": "code",
   "execution_count": 71,
   "metadata": {},
   "outputs": [
    {
     "name": "stdout",
     "output_type": "stream",
     "text": [
      "Help on built-in function print in module builtins:\n",
      "\n",
      "print(...)\n",
      "    print(value, ..., sep=' ', end='\\n', file=sys.stdout, flush=False)\n",
      "    \n",
      "    Prints the values to a stream, or to sys.stdout by default.\n",
      "    Optional keyword arguments:\n",
      "    file:  a file-like object (stream); defaults to the current sys.stdout.\n",
      "    sep:   string inserted between values, default a space.\n",
      "    end:   string appended after the last value, default a newline.\n",
      "    flush: whether to forcibly flush the stream.\n",
      "\n"
     ]
    }
   ],
   "source": [
    "help(print)"
   ]
  },
  {
   "cell_type": "code",
   "execution_count": 74,
   "metadata": {},
   "outputs": [
    {
     "name": "stdout",
     "output_type": "stream",
     "text": [
      "Help on module random:\n",
      "\n",
      "NAME\n",
      "    random - Random variable generators.\n",
      "\n",
      "MODULE REFERENCE\n",
      "    https://docs.python.org/3.8/library/random\n",
      "    \n",
      "    The following documentation is automatically generated from the Python\n",
      "    source files.  It may be incomplete, incorrect or include features that\n",
      "    are considered implementation detail and may vary between Python\n",
      "    implementations.  When in doubt, consult the module reference at the\n",
      "    location listed above.\n",
      "\n",
      "DESCRIPTION\n",
      "        integers\n",
      "        --------\n",
      "               uniform within range\n",
      "    \n",
      "        sequences\n",
      "        ---------\n",
      "               pick random element\n",
      "               pick random sample\n",
      "               pick weighted random sample\n",
      "               generate random permutation\n",
      "    \n",
      "        distributions on the real line:\n",
      "        ------------------------------\n",
      "               uniform\n",
      "               triangular\n",
      "               normal (Gaussian)\n",
      "               lognormal\n",
      "               negative exponential\n",
      "               gamma\n",
      "               beta\n",
      "               pareto\n",
      "               Weibull\n",
      "    \n",
      "        distributions on the circle (angles 0 to 2pi)\n",
      "        ---------------------------------------------\n",
      "               circular uniform\n",
      "               von Mises\n",
      "    \n",
      "    General notes on the underlying Mersenne Twister core generator:\n",
      "    \n",
      "    * The period is 2**19937-1.\n",
      "    * It is one of the most extensively tested generators in existence.\n",
      "    * The random() method is implemented in C, executes in a single Python step,\n",
      "      and is, therefore, threadsafe.\n",
      "\n",
      "CLASSES\n",
      "    _random.Random(builtins.object)\n",
      "        Random\n",
      "            SystemRandom\n",
      "    \n",
      "    class Random(_random.Random)\n",
      "     |  Random(x=None)\n",
      "     |  \n",
      "     |  Random number generator base class used by bound module functions.\n",
      "     |  \n",
      "     |  Used to instantiate instances of Random to get generators that don't\n",
      "     |  share state.\n",
      "     |  \n",
      "     |  Class Random can also be subclassed if you want to use a different basic\n",
      "     |  generator of your own devising: in that case, override the following\n",
      "     |  methods:  random(), seed(), getstate(), and setstate().\n",
      "     |  Optionally, implement a getrandbits() method so that randrange()\n",
      "     |  can cover arbitrarily large ranges.\n",
      "     |  \n",
      "     |  Method resolution order:\n",
      "     |      Random\n",
      "     |      _random.Random\n",
      "     |      builtins.object\n",
      "     |  \n",
      "     |  Methods defined here:\n",
      "     |  \n",
      "     |  __getstate__(self)\n",
      "     |      # Issue 17489: Since __reduce__ was defined to fix #759889 this is no\n",
      "     |      # longer called; we leave it here because it has been here since random was\n",
      "     |      # rewritten back in 2001 and why risk breaking something.\n",
      "     |  \n",
      "     |  __init__(self, x=None)\n",
      "     |      Initialize an instance.\n",
      "     |      \n",
      "     |      Optional argument x controls seeding, as for Random.seed().\n",
      "     |  \n",
      "     |  __reduce__(self)\n",
      "     |      Helper for pickle.\n",
      "     |  \n",
      "     |  __setstate__(self, state)\n",
      "     |  \n",
      "     |  betavariate(self, alpha, beta)\n",
      "     |      Beta distribution.\n",
      "     |      \n",
      "     |      Conditions on the parameters are alpha > 0 and beta > 0.\n",
      "     |      Returned values range between 0 and 1.\n",
      "     |  \n",
      "     |  choice(self, seq)\n",
      "     |      Choose a random element from a non-empty sequence.\n",
      "     |  \n",
      "     |  choices(self, population, weights=None, *, cum_weights=None, k=1)\n",
      "     |      Return a k sized list of population elements chosen with replacement.\n",
      "     |      \n",
      "     |      If the relative weights or cumulative weights are not specified,\n",
      "     |      the selections are made with equal probability.\n",
      "     |  \n",
      "     |  expovariate(self, lambd)\n",
      "     |      Exponential distribution.\n",
      "     |      \n",
      "     |      lambd is 1.0 divided by the desired mean.  It should be\n",
      "     |      nonzero.  (The parameter would be called \"lambda\", but that is\n",
      "     |      a reserved word in Python.)  Returned values range from 0 to\n",
      "     |      positive infinity if lambd is positive, and from negative\n",
      "     |      infinity to 0 if lambd is negative.\n",
      "     |  \n",
      "     |  gammavariate(self, alpha, beta)\n",
      "     |      Gamma distribution.  Not the gamma function!\n",
      "     |      \n",
      "     |      Conditions on the parameters are alpha > 0 and beta > 0.\n",
      "     |      \n",
      "     |      The probability distribution function is:\n",
      "     |      \n",
      "     |                  x ** (alpha - 1) * math.exp(-x / beta)\n",
      "     |        pdf(x) =  --------------------------------------\n",
      "     |                    math.gamma(alpha) * beta ** alpha\n",
      "     |  \n",
      "     |  gauss(self, mu, sigma)\n",
      "     |      Gaussian distribution.\n",
      "     |      \n",
      "     |      mu is the mean, and sigma is the standard deviation.  This is\n",
      "     |      slightly faster than the normalvariate() function.\n",
      "     |      \n",
      "     |      Not thread-safe without a lock around calls.\n",
      "     |  \n",
      "     |  getstate(self)\n",
      "     |      Return internal state; can be passed to setstate() later.\n",
      "     |  \n",
      "     |  lognormvariate(self, mu, sigma)\n",
      "     |      Log normal distribution.\n",
      "     |      \n",
      "     |      If you take the natural logarithm of this distribution, you'll get a\n",
      "     |      normal distribution with mean mu and standard deviation sigma.\n",
      "     |      mu can have any value, and sigma must be greater than zero.\n",
      "     |  \n",
      "     |  normalvariate(self, mu, sigma)\n",
      "     |      Normal distribution.\n",
      "     |      \n",
      "     |      mu is the mean, and sigma is the standard deviation.\n",
      "     |  \n",
      "     |  paretovariate(self, alpha)\n",
      "     |      Pareto distribution.  alpha is the shape parameter.\n",
      "     |  \n",
      "     |  randint(self, a, b)\n",
      "     |      Return random integer in range [a, b], including both end points.\n",
      "     |  \n",
      "     |  randrange(self, start, stop=None, step=1, _int=<class 'int'>)\n",
      "     |      Choose a random item from range(start, stop[, step]).\n",
      "     |      \n",
      "     |      This fixes the problem with randint() which includes the\n",
      "     |      endpoint; in Python this is usually not what you want.\n",
      "     |  \n",
      "     |  sample(self, population, k)\n",
      "     |      Chooses k unique random elements from a population sequence or set.\n",
      "     |      \n",
      "     |      Returns a new list containing elements from the population while\n",
      "     |      leaving the original population unchanged.  The resulting list is\n",
      "     |      in selection order so that all sub-slices will also be valid random\n",
      "     |      samples.  This allows raffle winners (the sample) to be partitioned\n",
      "     |      into grand prize and second place winners (the subslices).\n",
      "     |      \n",
      "     |      Members of the population need not be hashable or unique.  If the\n",
      "     |      population contains repeats, then each occurrence is a possible\n",
      "     |      selection in the sample.\n",
      "     |      \n",
      "     |      To choose a sample in a range of integers, use range as an argument.\n",
      "     |      This is especially fast and space efficient for sampling from a\n",
      "     |      large population:   sample(range(10000000), 60)\n",
      "     |  \n",
      "     |  seed(self, a=None, version=2)\n",
      "     |      Initialize internal state from hashable object.\n",
      "     |      \n",
      "     |      None or no argument seeds from current time or from an operating\n",
      "     |      system specific randomness source if available.\n",
      "     |      \n",
      "     |      If *a* is an int, all bits are used.\n",
      "     |      \n",
      "     |      For version 2 (the default), all of the bits are used if *a* is a str,\n",
      "     |      bytes, or bytearray.  For version 1 (provided for reproducing random\n",
      "     |      sequences from older versions of Python), the algorithm for str and\n",
      "     |      bytes generates a narrower range of seeds.\n",
      "     |  \n",
      "     |  setstate(self, state)\n",
      "     |      Restore internal state from object returned by getstate().\n",
      "     |  \n",
      "     |  shuffle(self, x, random=None)\n",
      "     |      Shuffle list x in place, and return None.\n",
      "     |      \n",
      "     |      Optional argument random is a 0-argument function returning a\n",
      "     |      random float in [0.0, 1.0); if it is the default None, the\n",
      "     |      standard random.random will be used.\n",
      "     |  \n",
      "     |  triangular(self, low=0.0, high=1.0, mode=None)\n",
      "     |      Triangular distribution.\n",
      "     |      \n",
      "     |      Continuous distribution bounded by given lower and upper limits,\n",
      "     |      and having a given mode value in-between.\n",
      "     |      \n",
      "     |      http://en.wikipedia.org/wiki/Triangular_distribution\n",
      "     |  \n",
      "     |  uniform(self, a, b)\n",
      "     |      Get a random number in the range [a, b) or [a, b] depending on rounding.\n",
      "     |  \n",
      "     |  vonmisesvariate(self, mu, kappa)\n",
      "     |      Circular data distribution.\n",
      "     |      \n",
      "     |      mu is the mean angle, expressed in radians between 0 and 2*pi, and\n",
      "     |      kappa is the concentration parameter, which must be greater than or\n",
      "     |      equal to zero.  If kappa is equal to zero, this distribution reduces\n",
      "     |      to a uniform random angle over the range 0 to 2*pi.\n",
      "     |  \n",
      "     |  weibullvariate(self, alpha, beta)\n",
      "     |      Weibull distribution.\n",
      "     |      \n",
      "     |      alpha is the scale parameter and beta is the shape parameter.\n",
      "     |  \n",
      "     |  ----------------------------------------------------------------------\n",
      "     |  Class methods defined here:\n",
      "     |  \n",
      "     |  __init_subclass__(**kwargs) from builtins.type\n",
      "     |      Control how subclasses generate random integers.\n",
      "     |      \n",
      "     |      The algorithm a subclass can use depends on the random() and/or\n",
      "     |      getrandbits() implementation available to it and determines\n",
      "     |      whether it can generate random integers from arbitrarily large\n",
      "     |      ranges.\n",
      "     |  \n",
      "     |  ----------------------------------------------------------------------\n",
      "     |  Data descriptors defined here:\n",
      "     |  \n",
      "     |  __dict__\n",
      "     |      dictionary for instance variables (if defined)\n",
      "     |  \n",
      "     |  __weakref__\n",
      "     |      list of weak references to the object (if defined)\n",
      "     |  \n",
      "     |  ----------------------------------------------------------------------\n",
      "     |  Data and other attributes defined here:\n",
      "     |  \n",
      "     |  VERSION = 3\n",
      "     |  \n",
      "     |  ----------------------------------------------------------------------\n",
      "     |  Methods inherited from _random.Random:\n",
      "     |  \n",
      "     |  __getattribute__(self, name, /)\n",
      "     |      Return getattr(self, name).\n",
      "     |  \n",
      "     |  getrandbits(self, k, /)\n",
      "     |      getrandbits(k) -> x.  Generates an int with k random bits.\n",
      "     |  \n",
      "     |  random(self, /)\n",
      "     |      random() -> x in the interval [0, 1).\n",
      "     |  \n",
      "     |  ----------------------------------------------------------------------\n",
      "     |  Static methods inherited from _random.Random:\n",
      "     |  \n",
      "     |  __new__(*args, **kwargs) from builtins.type\n",
      "     |      Create and return a new object.  See help(type) for accurate signature.\n",
      "    \n",
      "    class SystemRandom(Random)\n",
      "     |  SystemRandom(x=None)\n",
      "     |  \n",
      "     |  Alternate random number generator using sources provided\n",
      "     |  by the operating system (such as /dev/urandom on Unix or\n",
      "     |  CryptGenRandom on Windows).\n",
      "     |  \n",
      "     |   Not available on all systems (see os.urandom() for details).\n",
      "     |  \n",
      "     |  Method resolution order:\n",
      "     |      SystemRandom\n",
      "     |      Random\n",
      "     |      _random.Random\n",
      "     |      builtins.object\n",
      "     |  \n",
      "     |  Methods defined here:\n",
      "     |  \n",
      "     |  getrandbits(self, k)\n",
      "     |      getrandbits(k) -> x.  Generates an int with k random bits.\n",
      "     |  \n",
      "     |  getstate = _notimplemented(self, *args, **kwds)\n",
      "     |  \n",
      "     |  random(self)\n",
      "     |      Get the next random number in the range [0.0, 1.0).\n",
      "     |  \n",
      "     |  seed(self, *args, **kwds)\n",
      "     |      Stub method.  Not used for a system random number generator.\n",
      "     |  \n",
      "     |  setstate = _notimplemented(self, *args, **kwds)\n",
      "     |  \n",
      "     |  ----------------------------------------------------------------------\n",
      "     |  Methods inherited from Random:\n",
      "     |  \n",
      "     |  __getstate__(self)\n",
      "     |      # Issue 17489: Since __reduce__ was defined to fix #759889 this is no\n",
      "     |      # longer called; we leave it here because it has been here since random was\n",
      "     |      # rewritten back in 2001 and why risk breaking something.\n",
      "     |  \n",
      "     |  __init__(self, x=None)\n",
      "     |      Initialize an instance.\n",
      "     |      \n",
      "     |      Optional argument x controls seeding, as for Random.seed().\n",
      "     |  \n",
      "     |  __reduce__(self)\n",
      "     |      Helper for pickle.\n",
      "     |  \n",
      "     |  __setstate__(self, state)\n",
      "     |  \n",
      "     |  betavariate(self, alpha, beta)\n",
      "     |      Beta distribution.\n",
      "     |      \n",
      "     |      Conditions on the parameters are alpha > 0 and beta > 0.\n",
      "     |      Returned values range between 0 and 1.\n",
      "     |  \n",
      "     |  choice(self, seq)\n",
      "     |      Choose a random element from a non-empty sequence.\n",
      "     |  \n",
      "     |  choices(self, population, weights=None, *, cum_weights=None, k=1)\n",
      "     |      Return a k sized list of population elements chosen with replacement.\n",
      "     |      \n",
      "     |      If the relative weights or cumulative weights are not specified,\n",
      "     |      the selections are made with equal probability.\n",
      "     |  \n",
      "     |  expovariate(self, lambd)\n",
      "     |      Exponential distribution.\n",
      "     |      \n",
      "     |      lambd is 1.0 divided by the desired mean.  It should be\n",
      "     |      nonzero.  (The parameter would be called \"lambda\", but that is\n",
      "     |      a reserved word in Python.)  Returned values range from 0 to\n",
      "     |      positive infinity if lambd is positive, and from negative\n",
      "     |      infinity to 0 if lambd is negative.\n",
      "     |  \n",
      "     |  gammavariate(self, alpha, beta)\n",
      "     |      Gamma distribution.  Not the gamma function!\n",
      "     |      \n",
      "     |      Conditions on the parameters are alpha > 0 and beta > 0.\n",
      "     |      \n",
      "     |      The probability distribution function is:\n",
      "     |      \n",
      "     |                  x ** (alpha - 1) * math.exp(-x / beta)\n",
      "     |        pdf(x) =  --------------------------------------\n",
      "     |                    math.gamma(alpha) * beta ** alpha\n",
      "     |  \n",
      "     |  gauss(self, mu, sigma)\n",
      "     |      Gaussian distribution.\n",
      "     |      \n",
      "     |      mu is the mean, and sigma is the standard deviation.  This is\n",
      "     |      slightly faster than the normalvariate() function.\n",
      "     |      \n",
      "     |      Not thread-safe without a lock around calls.\n",
      "     |  \n",
      "     |  lognormvariate(self, mu, sigma)\n",
      "     |      Log normal distribution.\n",
      "     |      \n",
      "     |      If you take the natural logarithm of this distribution, you'll get a\n",
      "     |      normal distribution with mean mu and standard deviation sigma.\n",
      "     |      mu can have any value, and sigma must be greater than zero.\n",
      "     |  \n",
      "     |  normalvariate(self, mu, sigma)\n",
      "     |      Normal distribution.\n",
      "     |      \n",
      "     |      mu is the mean, and sigma is the standard deviation.\n",
      "     |  \n",
      "     |  paretovariate(self, alpha)\n",
      "     |      Pareto distribution.  alpha is the shape parameter.\n",
      "     |  \n",
      "     |  randint(self, a, b)\n",
      "     |      Return random integer in range [a, b], including both end points.\n",
      "     |  \n",
      "     |  randrange(self, start, stop=None, step=1, _int=<class 'int'>)\n",
      "     |      Choose a random item from range(start, stop[, step]).\n",
      "     |      \n",
      "     |      This fixes the problem with randint() which includes the\n",
      "     |      endpoint; in Python this is usually not what you want.\n",
      "     |  \n",
      "     |  sample(self, population, k)\n",
      "     |      Chooses k unique random elements from a population sequence or set.\n",
      "     |      \n",
      "     |      Returns a new list containing elements from the population while\n",
      "     |      leaving the original population unchanged.  The resulting list is\n",
      "     |      in selection order so that all sub-slices will also be valid random\n",
      "     |      samples.  This allows raffle winners (the sample) to be partitioned\n",
      "     |      into grand prize and second place winners (the subslices).\n",
      "     |      \n",
      "     |      Members of the population need not be hashable or unique.  If the\n",
      "     |      population contains repeats, then each occurrence is a possible\n",
      "     |      selection in the sample.\n",
      "     |      \n",
      "     |      To choose a sample in a range of integers, use range as an argument.\n",
      "     |      This is especially fast and space efficient for sampling from a\n",
      "     |      large population:   sample(range(10000000), 60)\n",
      "     |  \n",
      "     |  shuffle(self, x, random=None)\n",
      "     |      Shuffle list x in place, and return None.\n",
      "     |      \n",
      "     |      Optional argument random is a 0-argument function returning a\n",
      "     |      random float in [0.0, 1.0); if it is the default None, the\n",
      "     |      standard random.random will be used.\n",
      "     |  \n",
      "     |  triangular(self, low=0.0, high=1.0, mode=None)\n",
      "     |      Triangular distribution.\n",
      "     |      \n",
      "     |      Continuous distribution bounded by given lower and upper limits,\n",
      "     |      and having a given mode value in-between.\n",
      "     |      \n",
      "     |      http://en.wikipedia.org/wiki/Triangular_distribution\n",
      "     |  \n",
      "     |  uniform(self, a, b)\n",
      "     |      Get a random number in the range [a, b) or [a, b] depending on rounding.\n",
      "     |  \n",
      "     |  vonmisesvariate(self, mu, kappa)\n",
      "     |      Circular data distribution.\n",
      "     |      \n",
      "     |      mu is the mean angle, expressed in radians between 0 and 2*pi, and\n",
      "     |      kappa is the concentration parameter, which must be greater than or\n",
      "     |      equal to zero.  If kappa is equal to zero, this distribution reduces\n",
      "     |      to a uniform random angle over the range 0 to 2*pi.\n",
      "     |  \n",
      "     |  weibullvariate(self, alpha, beta)\n",
      "     |      Weibull distribution.\n",
      "     |      \n",
      "     |      alpha is the scale parameter and beta is the shape parameter.\n",
      "     |  \n",
      "     |  ----------------------------------------------------------------------\n",
      "     |  Class methods inherited from Random:\n",
      "     |  \n",
      "     |  __init_subclass__(**kwargs) from builtins.type\n",
      "     |      Control how subclasses generate random integers.\n",
      "     |      \n",
      "     |      The algorithm a subclass can use depends on the random() and/or\n",
      "     |      getrandbits() implementation available to it and determines\n",
      "     |      whether it can generate random integers from arbitrarily large\n",
      "     |      ranges.\n",
      "     |  \n",
      "     |  ----------------------------------------------------------------------\n",
      "     |  Data descriptors inherited from Random:\n",
      "     |  \n",
      "     |  __dict__\n",
      "     |      dictionary for instance variables (if defined)\n",
      "     |  \n",
      "     |  __weakref__\n",
      "     |      list of weak references to the object (if defined)\n",
      "     |  \n",
      "     |  ----------------------------------------------------------------------\n",
      "     |  Data and other attributes inherited from Random:\n",
      "     |  \n",
      "     |  VERSION = 3\n",
      "     |  \n",
      "     |  ----------------------------------------------------------------------\n",
      "     |  Methods inherited from _random.Random:\n",
      "     |  \n",
      "     |  __getattribute__(self, name, /)\n",
      "     |      Return getattr(self, name).\n",
      "     |  \n",
      "     |  ----------------------------------------------------------------------\n",
      "     |  Static methods inherited from _random.Random:\n",
      "     |  \n",
      "     |  __new__(*args, **kwargs) from builtins.type\n",
      "     |      Create and return a new object.  See help(type) for accurate signature.\n",
      "\n",
      "FUNCTIONS\n",
      "    betavariate(alpha, beta) method of Random instance\n",
      "        Beta distribution.\n",
      "        \n",
      "        Conditions on the parameters are alpha > 0 and beta > 0.\n",
      "        Returned values range between 0 and 1.\n",
      "    \n",
      "    choice(seq) method of Random instance\n",
      "        Choose a random element from a non-empty sequence.\n",
      "    \n",
      "    choices(population, weights=None, *, cum_weights=None, k=1) method of Random instance\n",
      "        Return a k sized list of population elements chosen with replacement.\n",
      "        \n",
      "        If the relative weights or cumulative weights are not specified,\n",
      "        the selections are made with equal probability.\n",
      "    \n",
      "    expovariate(lambd) method of Random instance\n",
      "        Exponential distribution.\n",
      "        \n",
      "        lambd is 1.0 divided by the desired mean.  It should be\n",
      "        nonzero.  (The parameter would be called \"lambda\", but that is\n",
      "        a reserved word in Python.)  Returned values range from 0 to\n",
      "        positive infinity if lambd is positive, and from negative\n",
      "        infinity to 0 if lambd is negative.\n",
      "    \n",
      "    gammavariate(alpha, beta) method of Random instance\n",
      "        Gamma distribution.  Not the gamma function!\n",
      "        \n",
      "        Conditions on the parameters are alpha > 0 and beta > 0.\n",
      "        \n",
      "        The probability distribution function is:\n",
      "        \n",
      "                    x ** (alpha - 1) * math.exp(-x / beta)\n",
      "          pdf(x) =  --------------------------------------\n",
      "                      math.gamma(alpha) * beta ** alpha\n",
      "    \n",
      "    gauss(mu, sigma) method of Random instance\n",
      "        Gaussian distribution.\n",
      "        \n",
      "        mu is the mean, and sigma is the standard deviation.  This is\n",
      "        slightly faster than the normalvariate() function.\n",
      "        \n",
      "        Not thread-safe without a lock around calls.\n",
      "    \n",
      "    getrandbits(k, /) method of Random instance\n",
      "        getrandbits(k) -> x.  Generates an int with k random bits.\n",
      "    \n",
      "    getstate() method of Random instance\n",
      "        Return internal state; can be passed to setstate() later.\n",
      "    \n",
      "    lognormvariate(mu, sigma) method of Random instance\n",
      "        Log normal distribution.\n",
      "        \n",
      "        If you take the natural logarithm of this distribution, you'll get a\n",
      "        normal distribution with mean mu and standard deviation sigma.\n",
      "        mu can have any value, and sigma must be greater than zero.\n",
      "    \n",
      "    normalvariate(mu, sigma) method of Random instance\n",
      "        Normal distribution.\n",
      "        \n",
      "        mu is the mean, and sigma is the standard deviation.\n",
      "    \n",
      "    paretovariate(alpha) method of Random instance\n",
      "        Pareto distribution.  alpha is the shape parameter.\n",
      "    \n",
      "    randint(a, b) method of Random instance\n",
      "        Return random integer in range [a, b], including both end points.\n",
      "    \n",
      "    random() method of Random instance\n",
      "        random() -> x in the interval [0, 1).\n",
      "    \n",
      "    randrange(start, stop=None, step=1, _int=<class 'int'>) method of Random instance\n",
      "        Choose a random item from range(start, stop[, step]).\n",
      "        \n",
      "        This fixes the problem with randint() which includes the\n",
      "        endpoint; in Python this is usually not what you want.\n",
      "    \n",
      "    sample(population, k) method of Random instance\n",
      "        Chooses k unique random elements from a population sequence or set.\n",
      "        \n",
      "        Returns a new list containing elements from the population while\n",
      "        leaving the original population unchanged.  The resulting list is\n",
      "        in selection order so that all sub-slices will also be valid random\n",
      "        samples.  This allows raffle winners (the sample) to be partitioned\n",
      "        into grand prize and second place winners (the subslices).\n",
      "        \n",
      "        Members of the population need not be hashable or unique.  If the\n",
      "        population contains repeats, then each occurrence is a possible\n",
      "        selection in the sample.\n",
      "        \n",
      "        To choose a sample in a range of integers, use range as an argument.\n",
      "        This is especially fast and space efficient for sampling from a\n",
      "        large population:   sample(range(10000000), 60)\n",
      "    \n",
      "    seed(a=None, version=2) method of Random instance\n",
      "        Initialize internal state from hashable object.\n",
      "        \n",
      "        None or no argument seeds from current time or from an operating\n",
      "        system specific randomness source if available.\n",
      "        \n",
      "        If *a* is an int, all bits are used.\n",
      "        \n",
      "        For version 2 (the default), all of the bits are used if *a* is a str,\n",
      "        bytes, or bytearray.  For version 1 (provided for reproducing random\n",
      "        sequences from older versions of Python), the algorithm for str and\n",
      "        bytes generates a narrower range of seeds.\n",
      "    \n",
      "    setstate(state) method of Random instance\n",
      "        Restore internal state from object returned by getstate().\n",
      "    \n",
      "    shuffle(x, random=None) method of Random instance\n",
      "        Shuffle list x in place, and return None.\n",
      "        \n",
      "        Optional argument random is a 0-argument function returning a\n",
      "        random float in [0.0, 1.0); if it is the default None, the\n",
      "        standard random.random will be used.\n",
      "    \n",
      "    triangular(low=0.0, high=1.0, mode=None) method of Random instance\n",
      "        Triangular distribution.\n",
      "        \n",
      "        Continuous distribution bounded by given lower and upper limits,\n",
      "        and having a given mode value in-between.\n",
      "        \n",
      "        http://en.wikipedia.org/wiki/Triangular_distribution\n",
      "    \n",
      "    uniform(a, b) method of Random instance\n",
      "        Get a random number in the range [a, b) or [a, b] depending on rounding.\n",
      "    \n",
      "    vonmisesvariate(mu, kappa) method of Random instance\n",
      "        Circular data distribution.\n",
      "        \n",
      "        mu is the mean angle, expressed in radians between 0 and 2*pi, and\n",
      "        kappa is the concentration parameter, which must be greater than or\n",
      "        equal to zero.  If kappa is equal to zero, this distribution reduces\n",
      "        to a uniform random angle over the range 0 to 2*pi.\n",
      "    \n",
      "    weibullvariate(alpha, beta) method of Random instance\n",
      "        Weibull distribution.\n",
      "        \n",
      "        alpha is the scale parameter and beta is the shape parameter.\n",
      "\n",
      "DATA\n",
      "    __all__ = ['Random', 'seed', 'random', 'uniform', 'randint', 'choice',...\n",
      "\n",
      "FILE\n",
      "    /Users/onkar/opt/anaconda3/lib/python3.8/random.py\n",
      "\n",
      "\n"
     ]
    }
   ],
   "source": [
    "help(random)"
   ]
  },
  {
   "cell_type": "code",
   "execution_count": null,
   "metadata": {},
   "outputs": [],
   "source": []
  },
  {
   "cell_type": "code",
   "execution_count": 73,
   "metadata": {},
   "outputs": [],
   "source": [
    "import random"
   ]
  },
  {
   "cell_type": "code",
   "execution_count": 75,
   "metadata": {},
   "outputs": [
    {
     "data": {
      "text/plain": [
       "254"
      ]
     },
     "execution_count": 75,
     "metadata": {},
     "output_type": "execute_result"
    }
   ],
   "source": [
    "random.randint(1, 1000)"
   ]
  },
  {
   "cell_type": "code",
   "execution_count": 76,
   "metadata": {},
   "outputs": [
    {
     "data": {
      "text/plain": [
       "725"
      ]
     },
     "execution_count": 76,
     "metadata": {},
     "output_type": "execute_result"
    }
   ],
   "source": [
    "random.randint(1, 1000)"
   ]
  },
  {
   "cell_type": "code",
   "execution_count": 77,
   "metadata": {},
   "outputs": [],
   "source": [
    "s = 'python is fun'"
   ]
  },
  {
   "cell_type": "code",
   "execution_count": 78,
   "metadata": {},
   "outputs": [
    {
     "data": {
      "text/plain": [
       "str"
      ]
     },
     "execution_count": 78,
     "metadata": {},
     "output_type": "execute_result"
    }
   ],
   "source": [
    "type(s)"
   ]
  },
  {
   "cell_type": "code",
   "execution_count": 79,
   "metadata": {},
   "outputs": [
    {
     "data": {
      "text/plain": [
       "'Python is fun'"
      ]
     },
     "execution_count": 79,
     "metadata": {},
     "output_type": "execute_result"
    }
   ],
   "source": [
    "s.capitalize()"
   ]
  },
  {
   "cell_type": "code",
   "execution_count": 80,
   "metadata": {},
   "outputs": [
    {
     "data": {
      "text/plain": [
       "'PYTHON IS FUN'"
      ]
     },
     "execution_count": 80,
     "metadata": {},
     "output_type": "execute_result"
    }
   ],
   "source": [
    "s.upper()"
   ]
  },
  {
   "cell_type": "code",
   "execution_count": 81,
   "metadata": {},
   "outputs": [
    {
     "data": {
      "text/plain": [
       "'PYTHON IS FUN'"
      ]
     },
     "execution_count": 81,
     "metadata": {},
     "output_type": "execute_result"
    }
   ],
   "source": [
    "s.swapcase()"
   ]
  },
  {
   "cell_type": "code",
   "execution_count": 82,
   "metadata": {},
   "outputs": [],
   "source": [
    "s = 'python is FUN'"
   ]
  },
  {
   "cell_type": "code",
   "execution_count": 83,
   "metadata": {},
   "outputs": [
    {
     "data": {
      "text/plain": [
       "'PYTHON IS fun'"
      ]
     },
     "execution_count": 83,
     "metadata": {},
     "output_type": "execute_result"
    }
   ],
   "source": [
    "s.swapcase()"
   ]
  },
  {
   "cell_type": "code",
   "execution_count": 84,
   "metadata": {},
   "outputs": [
    {
     "data": {
      "text/plain": [
       "['__add__',\n",
       " '__class__',\n",
       " '__contains__',\n",
       " '__delattr__',\n",
       " '__dir__',\n",
       " '__doc__',\n",
       " '__eq__',\n",
       " '__format__',\n",
       " '__ge__',\n",
       " '__getattribute__',\n",
       " '__getitem__',\n",
       " '__getnewargs__',\n",
       " '__gt__',\n",
       " '__hash__',\n",
       " '__init__',\n",
       " '__init_subclass__',\n",
       " '__iter__',\n",
       " '__le__',\n",
       " '__len__',\n",
       " '__lt__',\n",
       " '__mod__',\n",
       " '__mul__',\n",
       " '__ne__',\n",
       " '__new__',\n",
       " '__reduce__',\n",
       " '__reduce_ex__',\n",
       " '__repr__',\n",
       " '__rmod__',\n",
       " '__rmul__',\n",
       " '__setattr__',\n",
       " '__sizeof__',\n",
       " '__str__',\n",
       " '__subclasshook__',\n",
       " 'capitalize',\n",
       " 'casefold',\n",
       " 'center',\n",
       " 'count',\n",
       " 'encode',\n",
       " 'endswith',\n",
       " 'expandtabs',\n",
       " 'find',\n",
       " 'format',\n",
       " 'format_map',\n",
       " 'index',\n",
       " 'isalnum',\n",
       " 'isalpha',\n",
       " 'isascii',\n",
       " 'isdecimal',\n",
       " 'isdigit',\n",
       " 'isidentifier',\n",
       " 'islower',\n",
       " 'isnumeric',\n",
       " 'isprintable',\n",
       " 'isspace',\n",
       " 'istitle',\n",
       " 'isupper',\n",
       " 'join',\n",
       " 'ljust',\n",
       " 'lower',\n",
       " 'lstrip',\n",
       " 'maketrans',\n",
       " 'partition',\n",
       " 'replace',\n",
       " 'rfind',\n",
       " 'rindex',\n",
       " 'rjust',\n",
       " 'rpartition',\n",
       " 'rsplit',\n",
       " 'rstrip',\n",
       " 'split',\n",
       " 'splitlines',\n",
       " 'startswith',\n",
       " 'strip',\n",
       " 'swapcase',\n",
       " 'title',\n",
       " 'translate',\n",
       " 'upper',\n",
       " 'zfill']"
      ]
     },
     "execution_count": 84,
     "metadata": {},
     "output_type": "execute_result"
    }
   ],
   "source": [
    "dir(s)"
   ]
  },
  {
   "cell_type": "code",
   "execution_count": null,
   "metadata": {},
   "outputs": [],
   "source": [
    "# Home all expolre method in str"
   ]
  },
  {
   "cell_type": "code",
   "execution_count": 85,
   "metadata": {},
   "outputs": [],
   "source": [
    "s = 'python'"
   ]
  },
  {
   "cell_type": "code",
   "execution_count": 86,
   "metadata": {},
   "outputs": [
    {
     "data": {
      "text/plain": [
       "'python'"
      ]
     },
     "execution_count": 86,
     "metadata": {},
     "output_type": "execute_result"
    }
   ],
   "source": [
    "s"
   ]
  },
  {
   "cell_type": "code",
   "execution_count": 87,
   "metadata": {},
   "outputs": [
    {
     "data": {
      "text/plain": [
       "'p'"
      ]
     },
     "execution_count": 87,
     "metadata": {},
     "output_type": "execute_result"
    }
   ],
   "source": [
    "s[0]"
   ]
  },
  {
   "cell_type": "code",
   "execution_count": 88,
   "metadata": {},
   "outputs": [
    {
     "data": {
      "text/plain": [
       "'y'"
      ]
     },
     "execution_count": 88,
     "metadata": {},
     "output_type": "execute_result"
    }
   ],
   "source": [
    "s[1]"
   ]
  },
  {
   "cell_type": "code",
   "execution_count": 89,
   "metadata": {},
   "outputs": [
    {
     "data": {
      "text/plain": [
       "'t'"
      ]
     },
     "execution_count": 89,
     "metadata": {},
     "output_type": "execute_result"
    }
   ],
   "source": [
    "s[2]"
   ]
  },
  {
   "cell_type": "code",
   "execution_count": 90,
   "metadata": {},
   "outputs": [
    {
     "data": {
      "text/plain": [
       "'h'"
      ]
     },
     "execution_count": 90,
     "metadata": {},
     "output_type": "execute_result"
    }
   ],
   "source": [
    "s[3]"
   ]
  },
  {
   "cell_type": "code",
   "execution_count": 91,
   "metadata": {},
   "outputs": [
    {
     "data": {
      "text/plain": [
       "'n'"
      ]
     },
     "execution_count": 91,
     "metadata": {},
     "output_type": "execute_result"
    }
   ],
   "source": [
    "s[-1]"
   ]
  },
  {
   "cell_type": "code",
   "execution_count": 92,
   "metadata": {},
   "outputs": [
    {
     "data": {
      "text/plain": [
       "'o'"
      ]
     },
     "execution_count": 92,
     "metadata": {},
     "output_type": "execute_result"
    }
   ],
   "source": [
    "s[-2]"
   ]
  },
  {
   "cell_type": "code",
   "execution_count": 93,
   "metadata": {},
   "outputs": [
    {
     "data": {
      "text/plain": [
       "'h'"
      ]
     },
     "execution_count": 93,
     "metadata": {},
     "output_type": "execute_result"
    }
   ],
   "source": [
    "s[-3]"
   ]
  },
  {
   "cell_type": "code",
   "execution_count": 94,
   "metadata": {},
   "outputs": [
    {
     "data": {
      "text/plain": [
       "True"
      ]
     },
     "execution_count": 94,
     "metadata": {},
     "output_type": "execute_result"
    }
   ],
   "source": [
    "s[0] == s[-6]"
   ]
  },
  {
   "cell_type": "code",
   "execution_count": 95,
   "metadata": {},
   "outputs": [
    {
     "data": {
      "text/plain": [
       "0"
      ]
     },
     "execution_count": 95,
     "metadata": {},
     "output_type": "execute_result"
    }
   ],
   "source": [
    "s.index('p')"
   ]
  },
  {
   "cell_type": "code",
   "execution_count": 96,
   "metadata": {},
   "outputs": [
    {
     "data": {
      "text/plain": [
       "1"
      ]
     },
     "execution_count": 96,
     "metadata": {},
     "output_type": "execute_result"
    }
   ],
   "source": [
    "s.index('y')"
   ]
  },
  {
   "cell_type": "code",
   "execution_count": 97,
   "metadata": {},
   "outputs": [
    {
     "data": {
      "text/plain": [
       "6"
      ]
     },
     "execution_count": 97,
     "metadata": {},
     "output_type": "execute_result"
    }
   ],
   "source": [
    "len(s)"
   ]
  },
  {
   "cell_type": "code",
   "execution_count": 98,
   "metadata": {},
   "outputs": [
    {
     "data": {
      "text/plain": [
       "'ytho'"
      ]
     },
     "execution_count": 98,
     "metadata": {},
     "output_type": "execute_result"
    }
   ],
   "source": [
    "s[1:5]"
   ]
  },
  {
   "cell_type": "code",
   "execution_count": 99,
   "metadata": {},
   "outputs": [
    {
     "data": {
      "text/plain": [
       "'th'"
      ]
     },
     "execution_count": 99,
     "metadata": {},
     "output_type": "execute_result"
    }
   ],
   "source": [
    "s[2:4]"
   ]
  },
  {
   "cell_type": "code",
   "execution_count": null,
   "metadata": {},
   "outputs": [],
   "source": [
    "Syntax:\n",
    "    s[start_index:stop_index]\n",
    "    s[start_index:stop_index:step_size]"
   ]
  },
  {
   "cell_type": "code",
   "execution_count": 103,
   "metadata": {},
   "outputs": [],
   "source": [
    "s = \"pythonisfun\""
   ]
  },
  {
   "cell_type": "code",
   "execution_count": null,
   "metadata": {},
   "outputs": [],
   "source": []
  },
  {
   "cell_type": "code",
   "execution_count": 106,
   "metadata": {},
   "outputs": [
    {
     "data": {
      "text/plain": [
       "'ythonis'"
      ]
     },
     "execution_count": 106,
     "metadata": {},
     "output_type": "execute_result"
    }
   ],
   "source": [
    "s[1:8:1]"
   ]
  },
  {
   "cell_type": "code",
   "execution_count": null,
   "metadata": {},
   "outputs": [],
   "source": []
  },
  {
   "cell_type": "code",
   "execution_count": null,
   "metadata": {},
   "outputs": [],
   "source": []
  },
  {
   "cell_type": "code",
   "execution_count": 105,
   "metadata": {},
   "outputs": [
    {
     "data": {
      "text/plain": [
       "'yh'"
      ]
     },
     "execution_count": 105,
     "metadata": {},
     "output_type": "execute_result"
    }
   ],
   "source": [
    "s[1:5:2]"
   ]
  },
  {
   "cell_type": "code",
   "execution_count": null,
   "metadata": {},
   "outputs": [],
   "source": [
    "# build in function: print, input, type, int, str, help, dir\n",
    "# build in module: math, random, time(explore), \n",
    "# module function: math.sqrt, random, string modules\n",
    "# keyword: import\n",
    "# string: index, slicing \n",
    "\n",
    "# installation pycharm, notebook, python\n",
    "# run python simple code: cli, pycharm, notebook\n",
    "\n",
    "# int, str"
   ]
  },
  {
   "cell_type": "code",
   "execution_count": 107,
   "metadata": {},
   "outputs": [],
   "source": [
    "f = 3.4"
   ]
  },
  {
   "cell_type": "code",
   "execution_count": 108,
   "metadata": {},
   "outputs": [
    {
     "data": {
      "text/plain": [
       "3.4"
      ]
     },
     "execution_count": 108,
     "metadata": {},
     "output_type": "execute_result"
    }
   ],
   "source": [
    "f"
   ]
  },
  {
   "cell_type": "code",
   "execution_count": 109,
   "metadata": {},
   "outputs": [
    {
     "data": {
      "text/plain": [
       "float"
      ]
     },
     "execution_count": 109,
     "metadata": {},
     "output_type": "execute_result"
    }
   ],
   "source": [
    "type(f)"
   ]
  },
  {
   "cell_type": "code",
   "execution_count": 110,
   "metadata": {},
   "outputs": [],
   "source": [
    "a = 5/2"
   ]
  },
  {
   "cell_type": "code",
   "execution_count": 111,
   "metadata": {},
   "outputs": [
    {
     "data": {
      "text/plain": [
       "2.5"
      ]
     },
     "execution_count": 111,
     "metadata": {},
     "output_type": "execute_result"
    }
   ],
   "source": [
    "a"
   ]
  },
  {
   "cell_type": "code",
   "execution_count": 112,
   "metadata": {},
   "outputs": [
    {
     "data": {
      "text/plain": [
       "float"
      ]
     },
     "execution_count": 112,
     "metadata": {},
     "output_type": "execute_result"
    }
   ],
   "source": [
    "type(a)"
   ]
  },
  {
   "cell_type": "code",
   "execution_count": 113,
   "metadata": {},
   "outputs": [
    {
     "data": {
      "text/plain": [
       "2"
      ]
     },
     "execution_count": 113,
     "metadata": {},
     "output_type": "execute_result"
    }
   ],
   "source": [
    "math.floor(5/2)"
   ]
  },
  {
   "cell_type": "code",
   "execution_count": 114,
   "metadata": {},
   "outputs": [
    {
     "data": {
      "text/plain": [
       "3"
      ]
     },
     "execution_count": 114,
     "metadata": {},
     "output_type": "execute_result"
    }
   ],
   "source": [
    "math.ceil(5/2)"
   ]
  },
  {
   "cell_type": "code",
   "execution_count": 115,
   "metadata": {},
   "outputs": [
    {
     "data": {
      "text/plain": [
       "'pythonisfun'"
      ]
     },
     "execution_count": 115,
     "metadata": {},
     "output_type": "execute_result"
    }
   ],
   "source": [
    "s"
   ]
  },
  {
   "cell_type": "code",
   "execution_count": 116,
   "metadata": {},
   "outputs": [
    {
     "data": {
      "text/plain": [
       "'ythonisfun'"
      ]
     },
     "execution_count": 116,
     "metadata": {},
     "output_type": "execute_result"
    }
   ],
   "source": [
    "s[1:]"
   ]
  },
  {
   "cell_type": "code",
   "execution_count": 117,
   "metadata": {},
   "outputs": [
    {
     "data": {
      "text/plain": [
       "'honisfun'"
      ]
     },
     "execution_count": 117,
     "metadata": {},
     "output_type": "execute_result"
    }
   ],
   "source": [
    "s[3::]"
   ]
  },
  {
   "cell_type": "code",
   "execution_count": 118,
   "metadata": {},
   "outputs": [
    {
     "data": {
      "text/plain": [
       "'nufsinohtyp'"
      ]
     },
     "execution_count": 118,
     "metadata": {},
     "output_type": "execute_result"
    }
   ],
   "source": [
    "s[::-1]"
   ]
  },
  {
   "cell_type": "code",
   "execution_count": 119,
   "metadata": {},
   "outputs": [],
   "source": [
    "s = 'nitin'"
   ]
  },
  {
   "cell_type": "code",
   "execution_count": 120,
   "metadata": {},
   "outputs": [
    {
     "data": {
      "text/plain": [
       "'nitin'"
      ]
     },
     "execution_count": 120,
     "metadata": {},
     "output_type": "execute_result"
    }
   ],
   "source": [
    "s"
   ]
  },
  {
   "cell_type": "code",
   "execution_count": 121,
   "metadata": {},
   "outputs": [
    {
     "data": {
      "text/plain": [
       "True"
      ]
     },
     "execution_count": 121,
     "metadata": {},
     "output_type": "execute_result"
    }
   ],
   "source": [
    "s == s[::-1]"
   ]
  },
  {
   "cell_type": "code",
   "execution_count": 122,
   "metadata": {},
   "outputs": [],
   "source": [
    "s = \"$45$46\""
   ]
  },
  {
   "cell_type": "code",
   "execution_count": null,
   "metadata": {},
   "outputs": [],
   "source": [
    "s[1:3]"
   ]
  },
  {
   "cell_type": "code",
   "execution_count": 123,
   "metadata": {},
   "outputs": [
    {
     "data": {
      "text/plain": [
       "['', '45', '46']"
      ]
     },
     "execution_count": 123,
     "metadata": {},
     "output_type": "execute_result"
    }
   ],
   "source": [
    "s.split(\"$\")"
   ]
  },
  {
   "cell_type": "code",
   "execution_count": 124,
   "metadata": {},
   "outputs": [],
   "source": [
    "l = s.split(\"$\")"
   ]
  },
  {
   "cell_type": "code",
   "execution_count": 125,
   "metadata": {},
   "outputs": [
    {
     "data": {
      "text/plain": [
       "['', '45', '46']"
      ]
     },
     "execution_count": 125,
     "metadata": {},
     "output_type": "execute_result"
    }
   ],
   "source": [
    "l"
   ]
  },
  {
   "cell_type": "code",
   "execution_count": 126,
   "metadata": {},
   "outputs": [
    {
     "data": {
      "text/plain": [
       "list"
      ]
     },
     "execution_count": 126,
     "metadata": {},
     "output_type": "execute_result"
    }
   ],
   "source": [
    "type(l)"
   ]
  },
  {
   "cell_type": "code",
   "execution_count": 127,
   "metadata": {},
   "outputs": [],
   "source": [
    "s='anup,chouhan,pune'"
   ]
  },
  {
   "cell_type": "code",
   "execution_count": 128,
   "metadata": {},
   "outputs": [
    {
     "data": {
      "text/plain": [
       "['anup', 'chouhan', 'pune']"
      ]
     },
     "execution_count": 128,
     "metadata": {},
     "output_type": "execute_result"
    }
   ],
   "source": [
    "s.split(',')"
   ]
  },
  {
   "cell_type": "code",
   "execution_count": 129,
   "metadata": {},
   "outputs": [],
   "source": [
    "f = s.split(',')"
   ]
  },
  {
   "cell_type": "code",
   "execution_count": 130,
   "metadata": {},
   "outputs": [
    {
     "data": {
      "text/plain": [
       "'anup'"
      ]
     },
     "execution_count": 130,
     "metadata": {},
     "output_type": "execute_result"
    }
   ],
   "source": [
    "f[0]"
   ]
  },
  {
   "cell_type": "code",
   "execution_count": 131,
   "metadata": {},
   "outputs": [
    {
     "data": {
      "text/plain": [
       "'chouhan'"
      ]
     },
     "execution_count": 131,
     "metadata": {},
     "output_type": "execute_result"
    }
   ],
   "source": [
    "f[1]"
   ]
  },
  {
   "cell_type": "code",
   "execution_count": 132,
   "metadata": {},
   "outputs": [
    {
     "data": {
      "text/plain": [
       "'pune'"
      ]
     },
     "execution_count": 132,
     "metadata": {},
     "output_type": "execute_result"
    }
   ],
   "source": [
    "f[2]"
   ]
  },
  {
   "cell_type": "code",
   "execution_count": 133,
   "metadata": {},
   "outputs": [
    {
     "data": {
      "text/plain": [
       "'anupchouhanpune'"
      ]
     },
     "execution_count": 133,
     "metadata": {},
     "output_type": "execute_result"
    }
   ],
   "source": [
    "''.join(f)"
   ]
  },
  {
   "cell_type": "code",
   "execution_count": 134,
   "metadata": {},
   "outputs": [],
   "source": [
    "s = \"a$45$46\""
   ]
  },
  {
   "cell_type": "code",
   "execution_count": 135,
   "metadata": {},
   "outputs": [],
   "source": [
    "l = s.split(\"$\")"
   ]
  },
  {
   "cell_type": "code",
   "execution_count": 136,
   "metadata": {},
   "outputs": [
    {
     "data": {
      "text/plain": [
       "['a', '45', '46']"
      ]
     },
     "execution_count": 136,
     "metadata": {},
     "output_type": "execute_result"
    }
   ],
   "source": [
    "l"
   ]
  },
  {
   "cell_type": "code",
   "execution_count": 137,
   "metadata": {},
   "outputs": [],
   "source": [
    "d = '  onkar. '"
   ]
  },
  {
   "cell_type": "code",
   "execution_count": 138,
   "metadata": {},
   "outputs": [
    {
     "data": {
      "text/plain": [
       "'onkar.'"
      ]
     },
     "execution_count": 138,
     "metadata": {},
     "output_type": "execute_result"
    }
   ],
   "source": [
    "d.strip()"
   ]
  },
  {
   "cell_type": "code",
   "execution_count": 139,
   "metadata": {},
   "outputs": [
    {
     "name": "stdout",
     "output_type": "stream",
     "text": [
      "hi\n"
     ]
    }
   ],
   "source": [
    "print(\"hi\")"
   ]
  },
  {
   "cell_type": "code",
   "execution_count": null,
   "metadata": {},
   "outputs": [],
   "source": [
    "# virtul env "
   ]
  },
  {
   "cell_type": "code",
   "execution_count": null,
   "metadata": {},
   "outputs": [],
   "source": [
    "# control\n",
    "\n",
    "if else"
   ]
  },
  {
   "cell_type": "code",
   "execution_count": 141,
   "metadata": {},
   "outputs": [
    {
     "name": "stdout",
     "output_type": "stream",
     "text": [
      "hi\n"
     ]
    }
   ],
   "source": [
    "x = 11\n",
    "if x == 10:\n",
    "    print(\"x is 10\")\n",
    "    print(\"end of the block\")\n",
    "print(\"hi\")"
   ]
  },
  {
   "cell_type": "code",
   "execution_count": 143,
   "metadata": {},
   "outputs": [
    {
     "name": "stdout",
     "output_type": "stream",
     "text": [
      "x is not 10\n",
      "end of else block\n"
     ]
    }
   ],
   "source": [
    "x =11\n",
    "if x == 10:\n",
    "    print(\"x is 10\")\n",
    "    print(\"end of block\")\n",
    "else:\n",
    "    print(\"x is not 10\")\n",
    "    print(\"end of else block\")"
   ]
  },
  {
   "cell_type": "code",
   "execution_count": 144,
   "metadata": {},
   "outputs": [
    {
     "name": "stdout",
     "output_type": "stream",
     "text": [
      "x is 10\n",
      "end of block\n",
      "y is five\n",
      "inside the inner if\n",
      "outside the inner if\n"
     ]
    }
   ],
   "source": [
    "x = 10\n",
    "if x == 10:\n",
    "    print(\"x is 10\")\n",
    "    print(\"end of block\")\n",
    "    y = x /2\n",
    "    if y == 5:\n",
    "        print(\"y is five\")\n",
    "        print(\"inside the inner if\")\n",
    "    print('outside the inner if')\n",
    "else:\n",
    "    print(\"x is not 10\")\n",
    "    print('end of else block')"
   ]
  },
  {
   "cell_type": "code",
   "execution_count": 145,
   "metadata": {},
   "outputs": [
    {
     "name": "stdout",
     "output_type": "stream",
     "text": [
      "loss making business\n"
     ]
    }
   ],
   "source": [
    "invest = 100\n",
    "income = 80\n",
    "if invest > income:\n",
    "    print(\"loss making business\")\n",
    "else:\n",
    "    print(\"profitable business\")"
   ]
  },
  {
   "cell_type": "code",
   "execution_count": 146,
   "metadata": {},
   "outputs": [
    {
     "name": "stdout",
     "output_type": "stream",
     "text": [
      "breakeven\n"
     ]
    }
   ],
   "source": [
    "invest = 100\n",
    "income = 100\n",
    "if invest > income:\n",
    "    print(\"loss making business\")\n",
    "elif invest == income:\n",
    "    print(\"breakeven\")\n",
    "else:\n",
    "    print('profitable business')"
   ]
  },
  {
   "cell_type": "code",
   "execution_count": 147,
   "metadata": {},
   "outputs": [
    {
     "name": "stdout",
     "output_type": "stream",
     "text": [
      "loss\n"
     ]
    }
   ],
   "source": [
    "invest = 90\n",
    "income = 100\n",
    "if invest > income:\n",
    "    print(\"loss making business\")\n",
    "elif invest < income:\n",
    "    print(\"loss\")\n",
    "elif invest == income:\n",
    "    print(\"breakeven\")\n",
    "else:\n",
    "    print('profitable business')"
   ]
  },
  {
   "cell_type": "code",
   "execution_count": 149,
   "metadata": {},
   "outputs": [
    {
     "name": "stdout",
     "output_type": "stream",
     "text": [
      "Enter the number:11\n",
      "11 is odd number\n"
     ]
    }
   ],
   "source": [
    "number = int(input(\"Enter the number:\"))\n",
    "if number%2 == 0:\n",
    "    print('{} is even number'.format(number))\n",
    "else:\n",
    "    print(\"{} is odd number\".format(number))\n"
   ]
  },
  {
   "cell_type": "code",
   "execution_count": 151,
   "metadata": {},
   "outputs": [
    {
     "name": "stdout",
     "output_type": "stream",
     "text": [
      "p  y  t  h  o  n  "
     ]
    }
   ],
   "source": [
    "for i in 'python':\n",
    "    print(i, end='  ')\n",
    "    "
   ]
  },
  {
   "cell_type": "code",
   "execution_count": 152,
   "metadata": {},
   "outputs": [
    {
     "name": "stdout",
     "output_type": "stream",
     "text": [
      "p\n",
      "y\n",
      "t\n",
      "h\n",
      "o\n",
      "n\n"
     ]
    }
   ],
   "source": [
    "for i in 'python':\n",
    "    print(i)"
   ]
  },
  {
   "cell_type": "code",
   "execution_count": 153,
   "metadata": {},
   "outputs": [
    {
     "name": "stdout",
     "output_type": "stream",
     "text": [
      "0\n",
      "1\n",
      "2\n",
      "3\n",
      "4\n",
      "5\n",
      "6\n",
      "7\n",
      "8\n",
      "9\n"
     ]
    }
   ],
   "source": [
    "for i in range(10):\n",
    "    print(i)"
   ]
  },
  {
   "cell_type": "code",
   "execution_count": null,
   "metadata": {},
   "outputs": [],
   "source": [
    "# simple factorial\n",
    "1. Get the input from user (input)\n",
    "2. use range() wrt for to itrate\n",
    "3. print fact"
   ]
  },
  {
   "cell_type": "code",
   "execution_count": 154,
   "metadata": {},
   "outputs": [
    {
     "name": "stdout",
     "output_type": "stream",
     "text": [
      "enter the number to find factorial5\n",
      "120\n"
     ]
    }
   ],
   "source": [
    "# \n",
    "num = int(input(\"enter the number to find factorial\"))\n",
    "fact =1\n",
    "for i in range(1, num+1):\n",
    "    fact = fact * i\n",
    "print(fact)"
   ]
  },
  {
   "cell_type": "code",
   "execution_count": 155,
   "metadata": {},
   "outputs": [
    {
     "name": "stdout",
     "output_type": "stream",
     "text": [
      "5\n",
      "4\n",
      "3\n",
      "2\n",
      "1\n"
     ]
    }
   ],
   "source": [
    "count = 5\n",
    "while count:\n",
    "    print(count)\n",
    "    count-=1\n",
    "    "
   ]
  },
  {
   "cell_type": "code",
   "execution_count": 156,
   "metadata": {},
   "outputs": [
    {
     "name": "stdout",
     "output_type": "stream",
     "text": [
      "enter a number and find its factorial:5\n",
      "120\n"
     ]
    }
   ],
   "source": [
    "num = int(input(\"enter a number and find its factorial:\"))\n",
    "fact =1\n",
    "while num > 0:\n",
    "    fact = fact * num\n",
    "    num -=1 \n",
    "print(fact)"
   ]
  },
  {
   "cell_type": "code",
   "execution_count": 158,
   "metadata": {},
   "outputs": [
    {
     "name": "stdout",
     "output_type": "stream",
     "text": [
      "take precautions\n",
      "ware mask\n",
      "avoid public places\n",
      "is vaccine available?no\n",
      "take precautions\n",
      "ware mask\n",
      "avoid public places\n",
      "is vaccine available?yes\n",
      "hurrey!!!!\n"
     ]
    }
   ],
   "source": [
    "\n",
    "no_vaccine = True  \n",
    "while no_vaccine:\n",
    "    print(\"take precautions\")\n",
    "    print('ware mask')\n",
    "    print('avoid public places')\n",
    "    check = input(\"is vaccine available?\")\n",
    "    if check == 'yes':\n",
    "        print(\"hurrey!!!!\")\n",
    "        break\n",
    "    time.sleep(1)\n",
    "    "
   ]
  },
  {
   "cell_type": "code",
   "execution_count": null,
   "metadata": {},
   "outputs": [],
   "source": [
    "# list\n",
    "# number: int, float\n",
    "bool: True, False\n",
    "string, "
   ]
  },
  {
   "cell_type": "code",
   "execution_count": 160,
   "metadata": {},
   "outputs": [],
   "source": [
    "l = list()\n",
    "l1 = [1,2, 'hi', 2.0, True]"
   ]
  },
  {
   "cell_type": "code",
   "execution_count": 161,
   "metadata": {},
   "outputs": [
    {
     "data": {
      "text/plain": [
       "list"
      ]
     },
     "execution_count": 161,
     "metadata": {},
     "output_type": "execute_result"
    }
   ],
   "source": [
    "type(l1)"
   ]
  },
  {
   "cell_type": "code",
   "execution_count": 162,
   "metadata": {},
   "outputs": [
    {
     "data": {
      "text/plain": [
       "list"
      ]
     },
     "execution_count": 162,
     "metadata": {},
     "output_type": "execute_result"
    }
   ],
   "source": [
    "type(l)"
   ]
  },
  {
   "cell_type": "code",
   "execution_count": 163,
   "metadata": {},
   "outputs": [
    {
     "data": {
      "text/plain": [
       "[1, 2, 'hi', 2.0, True]"
      ]
     },
     "execution_count": 163,
     "metadata": {},
     "output_type": "execute_result"
    }
   ],
   "source": [
    "l1"
   ]
  },
  {
   "cell_type": "code",
   "execution_count": 164,
   "metadata": {},
   "outputs": [
    {
     "data": {
      "text/plain": [
       "5"
      ]
     },
     "execution_count": 164,
     "metadata": {},
     "output_type": "execute_result"
    }
   ],
   "source": [
    "len(l1)"
   ]
  },
  {
   "cell_type": "code",
   "execution_count": 165,
   "metadata": {},
   "outputs": [
    {
     "data": {
      "text/plain": [
       "['__add__',\n",
       " '__class__',\n",
       " '__contains__',\n",
       " '__delattr__',\n",
       " '__delitem__',\n",
       " '__dir__',\n",
       " '__doc__',\n",
       " '__eq__',\n",
       " '__format__',\n",
       " '__ge__',\n",
       " '__getattribute__',\n",
       " '__getitem__',\n",
       " '__gt__',\n",
       " '__hash__',\n",
       " '__iadd__',\n",
       " '__imul__',\n",
       " '__init__',\n",
       " '__init_subclass__',\n",
       " '__iter__',\n",
       " '__le__',\n",
       " '__len__',\n",
       " '__lt__',\n",
       " '__mul__',\n",
       " '__ne__',\n",
       " '__new__',\n",
       " '__reduce__',\n",
       " '__reduce_ex__',\n",
       " '__repr__',\n",
       " '__reversed__',\n",
       " '__rmul__',\n",
       " '__setattr__',\n",
       " '__setitem__',\n",
       " '__sizeof__',\n",
       " '__str__',\n",
       " '__subclasshook__',\n",
       " 'append',\n",
       " 'clear',\n",
       " 'copy',\n",
       " 'count',\n",
       " 'extend',\n",
       " 'index',\n",
       " 'insert',\n",
       " 'pop',\n",
       " 'remove',\n",
       " 'reverse',\n",
       " 'sort']"
      ]
     },
     "execution_count": 165,
     "metadata": {},
     "output_type": "execute_result"
    }
   ],
   "source": [
    "dir(l1)"
   ]
  },
  {
   "cell_type": "code",
   "execution_count": 166,
   "metadata": {},
   "outputs": [],
   "source": [
    "l1.append(34)"
   ]
  },
  {
   "cell_type": "code",
   "execution_count": 167,
   "metadata": {},
   "outputs": [
    {
     "data": {
      "text/plain": [
       "[1, 2, 'hi', 2.0, True, 34]"
      ]
     },
     "execution_count": 167,
     "metadata": {},
     "output_type": "execute_result"
    }
   ],
   "source": [
    "l1"
   ]
  },
  {
   "cell_type": "code",
   "execution_count": 168,
   "metadata": {},
   "outputs": [
    {
     "data": {
      "text/plain": [
       "1"
      ]
     },
     "execution_count": 168,
     "metadata": {},
     "output_type": "execute_result"
    }
   ],
   "source": [
    "l1[0]"
   ]
  },
  {
   "cell_type": "code",
   "execution_count": 169,
   "metadata": {},
   "outputs": [
    {
     "data": {
      "text/plain": [
       "2"
      ]
     },
     "execution_count": 169,
     "metadata": {},
     "output_type": "execute_result"
    }
   ],
   "source": [
    "l1[1]"
   ]
  },
  {
   "cell_type": "code",
   "execution_count": 170,
   "metadata": {},
   "outputs": [
    {
     "data": {
      "text/plain": [
       "2.0"
      ]
     },
     "execution_count": 170,
     "metadata": {},
     "output_type": "execute_result"
    }
   ],
   "source": [
    "l1[3]"
   ]
  },
  {
   "cell_type": "code",
   "execution_count": 173,
   "metadata": {},
   "outputs": [
    {
     "data": {
      "text/plain": [
       "'h'"
      ]
     },
     "execution_count": 173,
     "metadata": {},
     "output_type": "execute_result"
    }
   ],
   "source": [
    "l1[2][0]"
   ]
  },
  {
   "cell_type": "code",
   "execution_count": 174,
   "metadata": {},
   "outputs": [
    {
     "data": {
      "text/plain": [
       "'i'"
      ]
     },
     "execution_count": 174,
     "metadata": {},
     "output_type": "execute_result"
    }
   ],
   "source": [
    "l1[2][1]"
   ]
  },
  {
   "cell_type": "code",
   "execution_count": 175,
   "metadata": {},
   "outputs": [
    {
     "data": {
      "text/plain": [
       "34"
      ]
     },
     "execution_count": 175,
     "metadata": {},
     "output_type": "execute_result"
    }
   ],
   "source": [
    "l1[-1]"
   ]
  },
  {
   "cell_type": "code",
   "execution_count": 176,
   "metadata": {},
   "outputs": [
    {
     "data": {
      "text/plain": [
       "True"
      ]
     },
     "execution_count": 176,
     "metadata": {},
     "output_type": "execute_result"
    }
   ],
   "source": [
    "l1[-2]"
   ]
  },
  {
   "cell_type": "code",
   "execution_count": 177,
   "metadata": {},
   "outputs": [
    {
     "data": {
      "text/plain": [
       "[34, True, 2.0, 'hi', 2, 1]"
      ]
     },
     "execution_count": 177,
     "metadata": {},
     "output_type": "execute_result"
    }
   ],
   "source": [
    "l1[::-1]"
   ]
  },
  {
   "cell_type": "code",
   "execution_count": 178,
   "metadata": {},
   "outputs": [],
   "source": [
    "l1.insert(3, 6)"
   ]
  },
  {
   "cell_type": "code",
   "execution_count": 179,
   "metadata": {},
   "outputs": [
    {
     "data": {
      "text/plain": [
       "[1, 2, 'hi', 6, 2.0, True, 34]"
      ]
     },
     "execution_count": 179,
     "metadata": {},
     "output_type": "execute_result"
    }
   ],
   "source": [
    "l1"
   ]
  },
  {
   "cell_type": "code",
   "execution_count": 180,
   "metadata": {},
   "outputs": [],
   "source": [
    "# string\n",
    "a = 'onkar'\n",
    "\n",
    "# immutable: we are not able to modify the element with in same memory location\n",
    "# mutable: we can modify the element in same memory "
   ]
  },
  {
   "cell_type": "code",
   "execution_count": 181,
   "metadata": {},
   "outputs": [
    {
     "data": {
      "text/plain": [
       "140578949683952"
      ]
     },
     "execution_count": 181,
     "metadata": {},
     "output_type": "execute_result"
    }
   ],
   "source": [
    "id(a)"
   ]
  },
  {
   "cell_type": "code",
   "execution_count": 182,
   "metadata": {},
   "outputs": [
    {
     "data": {
      "text/plain": [
       "'o'"
      ]
     },
     "execution_count": 182,
     "metadata": {},
     "output_type": "execute_result"
    }
   ],
   "source": [
    "a[0]"
   ]
  },
  {
   "cell_type": "code",
   "execution_count": 183,
   "metadata": {},
   "outputs": [
    {
     "ename": "TypeError",
     "evalue": "'str' object does not support item assignment",
     "output_type": "error",
     "traceback": [
      "\u001b[0;31m---------------------------------------------------------------------------\u001b[0m",
      "\u001b[0;31mTypeError\u001b[0m                                 Traceback (most recent call last)",
      "\u001b[0;32m<ipython-input-183-e8c55d024dfe>\u001b[0m in \u001b[0;36m<module>\u001b[0;34m\u001b[0m\n\u001b[0;32m----> 1\u001b[0;31m \u001b[0ma\u001b[0m\u001b[0;34m[\u001b[0m\u001b[0;36m0\u001b[0m\u001b[0;34m]\u001b[0m \u001b[0;34m=\u001b[0m \u001b[0;34m'p'\u001b[0m\u001b[0;34m\u001b[0m\u001b[0;34m\u001b[0m\u001b[0m\n\u001b[0m",
      "\u001b[0;31mTypeError\u001b[0m: 'str' object does not support item assignment"
     ]
    }
   ],
   "source": [
    "a[0] = 'p'"
   ]
  },
  {
   "cell_type": "code",
   "execution_count": 188,
   "metadata": {},
   "outputs": [],
   "source": [
    "a = 'kmdcdk c'"
   ]
  },
  {
   "cell_type": "code",
   "execution_count": 189,
   "metadata": {},
   "outputs": [
    {
     "data": {
      "text/plain": [
       "'kmdcdk c'"
      ]
     },
     "execution_count": 189,
     "metadata": {},
     "output_type": "execute_result"
    }
   ],
   "source": [
    "a"
   ]
  },
  {
   "cell_type": "code",
   "execution_count": 190,
   "metadata": {},
   "outputs": [
    {
     "data": {
      "text/plain": [
       "140578951607792"
      ]
     },
     "execution_count": 190,
     "metadata": {},
     "output_type": "execute_result"
    }
   ],
   "source": [
    "id(a)"
   ]
  },
  {
   "cell_type": "code",
   "execution_count": null,
   "metadata": {},
   "outputs": [],
   "source": []
  },
  {
   "cell_type": "code",
   "execution_count": 184,
   "metadata": {},
   "outputs": [],
   "source": [
    "g = [1,2,3]"
   ]
  },
  {
   "cell_type": "code",
   "execution_count": 185,
   "metadata": {},
   "outputs": [
    {
     "data": {
      "text/plain": [
       "2"
      ]
     },
     "execution_count": 185,
     "metadata": {},
     "output_type": "execute_result"
    }
   ],
   "source": [
    "g[1]"
   ]
  },
  {
   "cell_type": "code",
   "execution_count": 186,
   "metadata": {},
   "outputs": [],
   "source": [
    "g[1] = 5"
   ]
  },
  {
   "cell_type": "code",
   "execution_count": 187,
   "metadata": {},
   "outputs": [
    {
     "data": {
      "text/plain": [
       "[1, 5, 3]"
      ]
     },
     "execution_count": 187,
     "metadata": {},
     "output_type": "execute_result"
    }
   ],
   "source": [
    "g"
   ]
  },
  {
   "cell_type": "code",
   "execution_count": 191,
   "metadata": {},
   "outputs": [
    {
     "data": {
      "text/plain": [
       "140578951554624"
      ]
     },
     "execution_count": 191,
     "metadata": {},
     "output_type": "execute_result"
    }
   ],
   "source": [
    "id(g)"
   ]
  },
  {
   "cell_type": "code",
   "execution_count": 192,
   "metadata": {},
   "outputs": [],
   "source": [
    "g[1] = 1000"
   ]
  },
  {
   "cell_type": "code",
   "execution_count": 193,
   "metadata": {},
   "outputs": [
    {
     "data": {
      "text/plain": [
       "[1, 1000, 3]"
      ]
     },
     "execution_count": 193,
     "metadata": {},
     "output_type": "execute_result"
    }
   ],
   "source": [
    "g"
   ]
  },
  {
   "cell_type": "code",
   "execution_count": 194,
   "metadata": {},
   "outputs": [
    {
     "data": {
      "text/plain": [
       "140578951554624"
      ]
     },
     "execution_count": 194,
     "metadata": {},
     "output_type": "execute_result"
    }
   ],
   "source": [
    "id(g)"
   ]
  },
  {
   "cell_type": "code",
   "execution_count": 196,
   "metadata": {},
   "outputs": [
    {
     "data": {
      "text/plain": [
       "'0x7fdb16786640'"
      ]
     },
     "execution_count": 196,
     "metadata": {},
     "output_type": "execute_result"
    }
   ],
   "source": [
    "hex(id(g))"
   ]
  },
  {
   "cell_type": "code",
   "execution_count": 197,
   "metadata": {},
   "outputs": [],
   "source": [
    "new_list = []\n",
    "new_list_1 = list()"
   ]
  },
  {
   "cell_type": "code",
   "execution_count": 198,
   "metadata": {},
   "outputs": [
    {
     "data": {
      "text/plain": [
       "[]"
      ]
     },
     "execution_count": 198,
     "metadata": {},
     "output_type": "execute_result"
    }
   ],
   "source": [
    "new_list"
   ]
  },
  {
   "cell_type": "code",
   "execution_count": 199,
   "metadata": {},
   "outputs": [
    {
     "data": {
      "text/plain": [
       "[]"
      ]
     },
     "execution_count": 199,
     "metadata": {},
     "output_type": "execute_result"
    }
   ],
   "source": [
    "new_list_1"
   ]
  },
  {
   "cell_type": "code",
   "execution_count": 200,
   "metadata": {},
   "outputs": [],
   "source": [
    "new_list.append(1)\n",
    "new_list_1.append(2)"
   ]
  },
  {
   "cell_type": "code",
   "execution_count": 202,
   "metadata": {},
   "outputs": [
    {
     "name": "stdout",
     "output_type": "stream",
     "text": [
      "[1]\n"
     ]
    },
    {
     "data": {
      "text/plain": [
       "[2]"
      ]
     },
     "execution_count": 202,
     "metadata": {},
     "output_type": "execute_result"
    }
   ],
   "source": [
    "print(new_list)\n",
    "new_list_1"
   ]
  },
  {
   "cell_type": "code",
   "execution_count": 203,
   "metadata": {},
   "outputs": [],
   "source": [
    "new_list_1.append(5.6)"
   ]
  },
  {
   "cell_type": "code",
   "execution_count": 204,
   "metadata": {},
   "outputs": [
    {
     "data": {
      "text/plain": [
       "[2, 5.6]"
      ]
     },
     "execution_count": 204,
     "metadata": {},
     "output_type": "execute_result"
    }
   ],
   "source": [
    "new_list_1"
   ]
  },
  {
   "cell_type": "code",
   "execution_count": 205,
   "metadata": {},
   "outputs": [
    {
     "ename": "TypeError",
     "evalue": "append() takes exactly one argument (2 given)",
     "output_type": "error",
     "traceback": [
      "\u001b[0;31m---------------------------------------------------------------------------\u001b[0m",
      "\u001b[0;31mTypeError\u001b[0m                                 Traceback (most recent call last)",
      "\u001b[0;32m<ipython-input-205-2c9aee3ca3bb>\u001b[0m in \u001b[0;36m<module>\u001b[0;34m\u001b[0m\n\u001b[0;32m----> 1\u001b[0;31m \u001b[0mnew_list_1\u001b[0m\u001b[0;34m.\u001b[0m\u001b[0mappend\u001b[0m\u001b[0;34m(\u001b[0m\u001b[0;36m1\u001b[0m\u001b[0;34m,\u001b[0m\u001b[0;36m6\u001b[0m\u001b[0;34m)\u001b[0m\u001b[0;34m\u001b[0m\u001b[0;34m\u001b[0m\u001b[0m\n\u001b[0m",
      "\u001b[0;31mTypeError\u001b[0m: append() takes exactly one argument (2 given)"
     ]
    }
   ],
   "source": [
    "new_list_1.append(1,6)"
   ]
  },
  {
   "cell_type": "code",
   "execution_count": 206,
   "metadata": {},
   "outputs": [
    {
     "data": {
      "text/plain": [
       "[2, 5.6]"
      ]
     },
     "execution_count": 206,
     "metadata": {},
     "output_type": "execute_result"
    }
   ],
   "source": [
    "new_list_1"
   ]
  },
  {
   "cell_type": "code",
   "execution_count": 207,
   "metadata": {},
   "outputs": [
    {
     "data": {
      "text/plain": [
       "[1]"
      ]
     },
     "execution_count": 207,
     "metadata": {},
     "output_type": "execute_result"
    }
   ],
   "source": [
    "new_list"
   ]
  },
  {
   "cell_type": "code",
   "execution_count": 208,
   "metadata": {},
   "outputs": [],
   "source": [
    "new_list.extend(new_list_1)"
   ]
  },
  {
   "cell_type": "code",
   "execution_count": 209,
   "metadata": {},
   "outputs": [
    {
     "data": {
      "text/plain": [
       "[1, 2, 5.6]"
      ]
     },
     "execution_count": 209,
     "metadata": {},
     "output_type": "execute_result"
    }
   ],
   "source": [
    "new_list"
   ]
  },
  {
   "cell_type": "code",
   "execution_count": 210,
   "metadata": {},
   "outputs": [],
   "source": [
    "new_list.append([1,2,4,5])"
   ]
  },
  {
   "cell_type": "code",
   "execution_count": 211,
   "metadata": {},
   "outputs": [
    {
     "data": {
      "text/plain": [
       "[1, 2, 5.6, [1, 2, 4, 5]]"
      ]
     },
     "execution_count": 211,
     "metadata": {},
     "output_type": "execute_result"
    }
   ],
   "source": [
    "new_list"
   ]
  },
  {
   "cell_type": "code",
   "execution_count": 212,
   "metadata": {},
   "outputs": [
    {
     "data": {
      "text/plain": [
       "[1, 2, 4, 5]"
      ]
     },
     "execution_count": 212,
     "metadata": {},
     "output_type": "execute_result"
    }
   ],
   "source": [
    "new_list[3]"
   ]
  },
  {
   "cell_type": "code",
   "execution_count": 213,
   "metadata": {},
   "outputs": [
    {
     "data": {
      "text/plain": [
       "1"
      ]
     },
     "execution_count": 213,
     "metadata": {},
     "output_type": "execute_result"
    }
   ],
   "source": [
    "new_list[3][0]"
   ]
  },
  {
   "cell_type": "code",
   "execution_count": 214,
   "metadata": {},
   "outputs": [
    {
     "data": {
      "text/plain": [
       "5"
      ]
     },
     "execution_count": 214,
     "metadata": {},
     "output_type": "execute_result"
    }
   ],
   "source": [
    "new_list[3][-1]"
   ]
  },
  {
   "cell_type": "code",
   "execution_count": 216,
   "metadata": {},
   "outputs": [],
   "source": [
    "new_list.extend([1,40,5])"
   ]
  },
  {
   "cell_type": "code",
   "execution_count": 217,
   "metadata": {},
   "outputs": [
    {
     "data": {
      "text/plain": [
       "[1, 2, 5.6, [1, 2, 4, 5], 1, 40, 5]"
      ]
     },
     "execution_count": 217,
     "metadata": {},
     "output_type": "execute_result"
    }
   ],
   "source": [
    "new_list"
   ]
  },
  {
   "cell_type": "code",
   "execution_count": 218,
   "metadata": {},
   "outputs": [
    {
     "data": {
      "text/plain": [
       "5"
      ]
     },
     "execution_count": 218,
     "metadata": {},
     "output_type": "execute_result"
    }
   ],
   "source": [
    "new_list.pop()"
   ]
  },
  {
   "cell_type": "code",
   "execution_count": 219,
   "metadata": {},
   "outputs": [
    {
     "data": {
      "text/plain": [
       "40"
      ]
     },
     "execution_count": 219,
     "metadata": {},
     "output_type": "execute_result"
    }
   ],
   "source": [
    "new_list.pop()"
   ]
  },
  {
   "cell_type": "code",
   "execution_count": 220,
   "metadata": {},
   "outputs": [
    {
     "data": {
      "text/plain": [
       "[1, 2, 5.6, [1, 2, 4, 5], 1]"
      ]
     },
     "execution_count": 220,
     "metadata": {},
     "output_type": "execute_result"
    }
   ],
   "source": [
    "new_list"
   ]
  },
  {
   "cell_type": "code",
   "execution_count": 221,
   "metadata": {},
   "outputs": [
    {
     "data": {
      "text/plain": [
       "1"
      ]
     },
     "execution_count": 221,
     "metadata": {},
     "output_type": "execute_result"
    }
   ],
   "source": [
    "new_list.index(2)"
   ]
  },
  {
   "cell_type": "code",
   "execution_count": 222,
   "metadata": {},
   "outputs": [],
   "source": [
    "new_list.remove(2)"
   ]
  },
  {
   "cell_type": "code",
   "execution_count": 223,
   "metadata": {},
   "outputs": [
    {
     "data": {
      "text/plain": [
       "[1, 5.6, [1, 2, 4, 5], 1]"
      ]
     },
     "execution_count": 223,
     "metadata": {},
     "output_type": "execute_result"
    }
   ],
   "source": [
    "new_list"
   ]
  },
  {
   "cell_type": "code",
   "execution_count": 224,
   "metadata": {},
   "outputs": [],
   "source": [
    "new_list.append(list('abc'))"
   ]
  },
  {
   "cell_type": "code",
   "execution_count": 225,
   "metadata": {},
   "outputs": [
    {
     "data": {
      "text/plain": [
       "[1, 5.6, [1, 2, 4, 5], 1, ['a', 'b', 'c']]"
      ]
     },
     "execution_count": 225,
     "metadata": {},
     "output_type": "execute_result"
    }
   ],
   "source": [
    "new_list"
   ]
  },
  {
   "cell_type": "code",
   "execution_count": 226,
   "metadata": {},
   "outputs": [
    {
     "data": {
      "text/plain": [
       "list"
      ]
     },
     "execution_count": 226,
     "metadata": {},
     "output_type": "execute_result"
    }
   ],
   "source": [
    "type(new_list)"
   ]
  },
  {
   "cell_type": "code",
   "execution_count": 227,
   "metadata": {},
   "outputs": [
    {
     "data": {
      "text/plain": [
       "True"
      ]
     },
     "execution_count": 227,
     "metadata": {},
     "output_type": "execute_result"
    }
   ],
   "source": [
    "isinstance(new_list, list)"
   ]
  },
  {
   "cell_type": "code",
   "execution_count": 228,
   "metadata": {},
   "outputs": [
    {
     "data": {
      "text/plain": [
       "False"
      ]
     },
     "execution_count": 228,
     "metadata": {},
     "output_type": "execute_result"
    }
   ],
   "source": [
    "isinstance(new_list, str)"
   ]
  },
  {
   "cell_type": "code",
   "execution_count": 229,
   "metadata": {},
   "outputs": [
    {
     "data": {
      "text/plain": [
       "[1, 5.6, [1, 2, 4, 5], 1, ['a', 'b', 'c']]"
      ]
     },
     "execution_count": 229,
     "metadata": {},
     "output_type": "execute_result"
    }
   ],
   "source": [
    "new_list"
   ]
  },
  {
   "cell_type": "code",
   "execution_count": 230,
   "metadata": {},
   "outputs": [
    {
     "name": "stdout",
     "output_type": "stream",
     "text": [
      "[1, 2, 4, 5]\n",
      "['a', 'b', 'c']\n"
     ]
    }
   ],
   "source": [
    "for ele in new_list:\n",
    "    if isinstance(ele, list):\n",
    "        print(ele)"
   ]
  },
  {
   "cell_type": "code",
   "execution_count": 237,
   "metadata": {},
   "outputs": [
    {
     "name": "stdout",
     "output_type": "stream",
     "text": [
      "1\n",
      "5.6\n",
      "1\n",
      "19.6\n"
     ]
    }
   ],
   "source": [
    "s = 0\n",
    "for ele in new_list:\n",
    "    if isinstance(ele, int) or isinstance(ele, float):\n",
    "        print(ele)\n",
    "        s +=ele\n",
    "    elif isinstance(ele, list):\n",
    "        for i in ele:\n",
    "            if  not isinstance(i, str):\n",
    "                s +=i\n",
    "print(s)"
   ]
  },
  {
   "cell_type": "code",
   "execution_count": 238,
   "metadata": {},
   "outputs": [
    {
     "name": "stdout",
     "output_type": "stream",
     "text": [
      "hi\n"
     ]
    }
   ],
   "source": [
    "print('hi')"
   ]
  },
  {
   "cell_type": "code",
   "execution_count": 239,
   "metadata": {},
   "outputs": [],
   "source": [
    "lst = list(range(30, 50, 2))"
   ]
  },
  {
   "cell_type": "code",
   "execution_count": 240,
   "metadata": {},
   "outputs": [
    {
     "data": {
      "text/plain": [
       "[30, 32, 34, 36, 38, 40, 42, 44, 46, 48]"
      ]
     },
     "execution_count": 240,
     "metadata": {},
     "output_type": "execute_result"
    }
   ],
   "source": [
    "lst"
   ]
  },
  {
   "cell_type": "code",
   "execution_count": 244,
   "metadata": {},
   "outputs": [
    {
     "data": {
      "text/plain": [
       "390"
      ]
     },
     "execution_count": 244,
     "metadata": {},
     "output_type": "execute_result"
    }
   ],
   "source": [
    "sum(lst)"
   ]
  },
  {
   "cell_type": "code",
   "execution_count": null,
   "metadata": {},
   "outputs": [],
   "source": []
  },
  {
   "cell_type": "code",
   "execution_count": 245,
   "metadata": {},
   "outputs": [],
   "source": [
    "s = 0\n",
    "for i in range(0, len(lst)):\n",
    "    s += lst[i]"
   ]
  },
  {
   "cell_type": "code",
   "execution_count": 246,
   "metadata": {},
   "outputs": [
    {
     "data": {
      "text/plain": [
       "390"
      ]
     },
     "execution_count": 246,
     "metadata": {},
     "output_type": "execute_result"
    }
   ],
   "source": [
    "s"
   ]
  },
  {
   "cell_type": "code",
   "execution_count": null,
   "metadata": {},
   "outputs": [],
   "source": []
  },
  {
   "cell_type": "code",
   "execution_count": 243,
   "metadata": {},
   "outputs": [
    {
     "data": {
      "text/plain": [
       "190"
      ]
     },
     "execution_count": 243,
     "metadata": {},
     "output_type": "execute_result"
    }
   ],
   "source": [
    "s"
   ]
  },
  {
   "cell_type": "code",
   "execution_count": 247,
   "metadata": {},
   "outputs": [
    {
     "name": "stdout",
     "output_type": "stream",
     "text": [
      "hi\n"
     ]
    }
   ],
   "source": [
    "print('hi')"
   ]
  },
  {
   "cell_type": "code",
   "execution_count": 249,
   "metadata": {},
   "outputs": [],
   "source": [
    "# dict \n",
    "\n",
    "mydict = {}\n",
    "mydict_1 = dict()\n"
   ]
  },
  {
   "cell_type": "code",
   "execution_count": null,
   "metadata": {},
   "outputs": [],
   "source": []
  },
  {
   "cell_type": "code",
   "execution_count": 250,
   "metadata": {},
   "outputs": [
    {
     "data": {
      "text/plain": [
       "{}"
      ]
     },
     "execution_count": 250,
     "metadata": {},
     "output_type": "execute_result"
    }
   ],
   "source": [
    "mydict"
   ]
  },
  {
   "cell_type": "code",
   "execution_count": 251,
   "metadata": {},
   "outputs": [],
   "source": [
    "mydict['key'] = \"value1\""
   ]
  },
  {
   "cell_type": "code",
   "execution_count": 252,
   "metadata": {},
   "outputs": [
    {
     "data": {
      "text/plain": [
       "{'key': 'value1'}"
      ]
     },
     "execution_count": 252,
     "metadata": {},
     "output_type": "execute_result"
    }
   ],
   "source": [
    "mydict #{'id':101, 'name': 'onkar', 'add':'pune', 'branch':'pune'}"
   ]
  },
  {
   "cell_type": "code",
   "execution_count": 253,
   "metadata": {},
   "outputs": [
    {
     "data": {
      "text/plain": [
       "1"
      ]
     },
     "execution_count": 253,
     "metadata": {},
     "output_type": "execute_result"
    }
   ],
   "source": [
    "len(mydict)"
   ]
  },
  {
   "cell_type": "code",
   "execution_count": 254,
   "metadata": {},
   "outputs": [],
   "source": [
    "d = {'id':101, 'name': 'onkar', 'add':'pune', 'branch':'pune'}"
   ]
  },
  {
   "cell_type": "code",
   "execution_count": 255,
   "metadata": {},
   "outputs": [
    {
     "data": {
      "text/plain": [
       "{'id': 101, 'name': 'onkar', 'add': 'pune', 'branch': 'pune'}"
      ]
     },
     "execution_count": 255,
     "metadata": {},
     "output_type": "execute_result"
    }
   ],
   "source": [
    "d "
   ]
  },
  {
   "cell_type": "code",
   "execution_count": 256,
   "metadata": {},
   "outputs": [],
   "source": [
    "l = list()"
   ]
  },
  {
   "cell_type": "code",
   "execution_count": 257,
   "metadata": {},
   "outputs": [],
   "source": [
    "l.append(d)"
   ]
  },
  {
   "cell_type": "code",
   "execution_count": 258,
   "metadata": {},
   "outputs": [
    {
     "data": {
      "text/plain": [
       "[{'id': 101, 'name': 'onkar', 'add': 'pune', 'branch': 'pune'}]"
      ]
     },
     "execution_count": 258,
     "metadata": {},
     "output_type": "execute_result"
    }
   ],
   "source": [
    "l"
   ]
  },
  {
   "cell_type": "code",
   "execution_count": 259,
   "metadata": {},
   "outputs": [],
   "source": [
    "l.append({'id': 103, 'name': 'ede', 'add': 'puncdce', 'branch': 'cdcd'})"
   ]
  },
  {
   "cell_type": "code",
   "execution_count": 260,
   "metadata": {},
   "outputs": [
    {
     "data": {
      "text/plain": [
       "[{'id': 101, 'name': 'onkar', 'add': 'pune', 'branch': 'pune'},\n",
       " {'id': 103, 'name': 'ede', 'add': 'puncdce', 'branch': 'cdcd'}]"
      ]
     },
     "execution_count": 260,
     "metadata": {},
     "output_type": "execute_result"
    }
   ],
   "source": [
    "l"
   ]
  },
  {
   "cell_type": "code",
   "execution_count": 261,
   "metadata": {},
   "outputs": [
    {
     "data": {
      "text/plain": [
       "{'id': 101, 'name': 'onkar', 'add': 'pune', 'branch': 'pune'}"
      ]
     },
     "execution_count": 261,
     "metadata": {},
     "output_type": "execute_result"
    }
   ],
   "source": [
    "l[0]"
   ]
  },
  {
   "cell_type": "code",
   "execution_count": 262,
   "metadata": {},
   "outputs": [
    {
     "data": {
      "text/plain": [
       "{'id': 101, 'name': 'onkar', 'add': 'pune', 'branch': 'pune'}"
      ]
     },
     "execution_count": 262,
     "metadata": {},
     "output_type": "execute_result"
    }
   ],
   "source": [
    "d"
   ]
  },
  {
   "cell_type": "code",
   "execution_count": 263,
   "metadata": {},
   "outputs": [],
   "source": [
    "d['mainbranch'] = 'pune'"
   ]
  },
  {
   "cell_type": "code",
   "execution_count": 264,
   "metadata": {},
   "outputs": [
    {
     "data": {
      "text/plain": [
       "{'id': 101,\n",
       " 'name': 'onkar',\n",
       " 'add': 'pune',\n",
       " 'branch': 'pune',\n",
       " 'mainbranch': 'pune'}"
      ]
     },
     "execution_count": 264,
     "metadata": {},
     "output_type": "execute_result"
    }
   ],
   "source": [
    "d"
   ]
  },
  {
   "cell_type": "code",
   "execution_count": 265,
   "metadata": {},
   "outputs": [],
   "source": [
    "d['branch'] = 'us'"
   ]
  },
  {
   "cell_type": "code",
   "execution_count": 266,
   "metadata": {},
   "outputs": [
    {
     "data": {
      "text/plain": [
       "{'id': 101,\n",
       " 'name': 'onkar',\n",
       " 'add': 'pune',\n",
       " 'branch': 'us',\n",
       " 'mainbranch': 'pune'}"
      ]
     },
     "execution_count": 266,
     "metadata": {},
     "output_type": "execute_result"
    }
   ],
   "source": [
    "d"
   ]
  },
  {
   "cell_type": "code",
   "execution_count": 267,
   "metadata": {},
   "outputs": [
    {
     "data": {
      "text/plain": [
       "140578950584064"
      ]
     },
     "execution_count": 267,
     "metadata": {},
     "output_type": "execute_result"
    }
   ],
   "source": [
    "id(d)"
   ]
  },
  {
   "cell_type": "code",
   "execution_count": 268,
   "metadata": {},
   "outputs": [],
   "source": [
    "d['branch'] = 'eu'"
   ]
  },
  {
   "cell_type": "code",
   "execution_count": 269,
   "metadata": {},
   "outputs": [
    {
     "data": {
      "text/plain": [
       "{'id': 101,\n",
       " 'name': 'onkar',\n",
       " 'add': 'pune',\n",
       " 'branch': 'eu',\n",
       " 'mainbranch': 'pune'}"
      ]
     },
     "execution_count": 269,
     "metadata": {},
     "output_type": "execute_result"
    }
   ],
   "source": [
    "d"
   ]
  },
  {
   "cell_type": "code",
   "execution_count": 270,
   "metadata": {},
   "outputs": [
    {
     "data": {
      "text/plain": [
       "140578950584064"
      ]
     },
     "execution_count": 270,
     "metadata": {},
     "output_type": "execute_result"
    }
   ],
   "source": [
    "id(d)"
   ]
  },
  {
   "cell_type": "code",
   "execution_count": 271,
   "metadata": {},
   "outputs": [],
   "source": [
    "d['mainbranch'] = 'dcbcksjdc'"
   ]
  },
  {
   "cell_type": "code",
   "execution_count": 272,
   "metadata": {},
   "outputs": [
    {
     "data": {
      "text/plain": [
       "{'id': 101,\n",
       " 'name': 'onkar',\n",
       " 'add': 'pune',\n",
       " 'branch': 'eu',\n",
       " 'mainbranch': 'dcbcksjdc'}"
      ]
     },
     "execution_count": 272,
     "metadata": {},
     "output_type": "execute_result"
    }
   ],
   "source": [
    "d"
   ]
  },
  {
   "cell_type": "code",
   "execution_count": 273,
   "metadata": {},
   "outputs": [],
   "source": [
    "wallet = {\"cards\": 3, \"cash\":1800, \"candies\": 7}"
   ]
  },
  {
   "cell_type": "code",
   "execution_count": 274,
   "metadata": {},
   "outputs": [
    {
     "data": {
      "text/plain": [
       "{'cards': 3, 'cash': 1800, 'candies': 7}"
      ]
     },
     "execution_count": 274,
     "metadata": {},
     "output_type": "execute_result"
    }
   ],
   "source": [
    "wallet"
   ]
  },
  {
   "cell_type": "code",
   "execution_count": 275,
   "metadata": {},
   "outputs": [],
   "source": [
    "wallet['candies'] +=2\n",
    "\n",
    "# \n",
    "wallet['candies'] = wallet['candies'] + 2"
   ]
  },
  {
   "cell_type": "code",
   "execution_count": 276,
   "metadata": {},
   "outputs": [
    {
     "data": {
      "text/plain": [
       "{'cards': 3, 'cash': 1800, 'candies': 9}"
      ]
     },
     "execution_count": 276,
     "metadata": {},
     "output_type": "execute_result"
    }
   ],
   "source": [
    "wallet"
   ]
  },
  {
   "cell_type": "code",
   "execution_count": 277,
   "metadata": {},
   "outputs": [
    {
     "data": {
      "text/plain": [
       "9"
      ]
     },
     "execution_count": 277,
     "metadata": {},
     "output_type": "execute_result"
    }
   ],
   "source": [
    "wallet['candies']"
   ]
  },
  {
   "cell_type": "code",
   "execution_count": 278,
   "metadata": {},
   "outputs": [],
   "source": [
    "wallet['cards'] =  {\"amex\":1, \"visa\":{\"hdfc\":1, \"icic\":'gold'}}"
   ]
  },
  {
   "cell_type": "code",
   "execution_count": 279,
   "metadata": {},
   "outputs": [
    {
     "data": {
      "text/plain": [
       "{'cards': {'amex': 1, 'visa': {'hdfc': 1, 'icic': 'gold'}},\n",
       " 'cash': 1800,\n",
       " 'candies': 9}"
      ]
     },
     "execution_count": 279,
     "metadata": {},
     "output_type": "execute_result"
    }
   ],
   "source": [
    "wallet"
   ]
  },
  {
   "cell_type": "code",
   "execution_count": 280,
   "metadata": {},
   "outputs": [
    {
     "data": {
      "text/plain": [
       "dict_keys(['cards', 'cash', 'candies'])"
      ]
     },
     "execution_count": 280,
     "metadata": {},
     "output_type": "execute_result"
    }
   ],
   "source": [
    "wallet.keys()"
   ]
  },
  {
   "cell_type": "code",
   "execution_count": 281,
   "metadata": {},
   "outputs": [
    {
     "data": {
      "text/plain": [
       "{'amex': 1, 'visa': {'hdfc': 1, 'icic': 'gold'}}"
      ]
     },
     "execution_count": 281,
     "metadata": {},
     "output_type": "execute_result"
    }
   ],
   "source": [
    "wallet['cards']"
   ]
  },
  {
   "cell_type": "code",
   "execution_count": 282,
   "metadata": {},
   "outputs": [
    {
     "data": {
      "text/plain": [
       "{'hdfc': 1, 'icic': 'gold'}"
      ]
     },
     "execution_count": 282,
     "metadata": {},
     "output_type": "execute_result"
    }
   ],
   "source": [
    "wallet['cards']['visa']"
   ]
  },
  {
   "cell_type": "code",
   "execution_count": 283,
   "metadata": {},
   "outputs": [
    {
     "data": {
      "text/plain": [
       "'gold'"
      ]
     },
     "execution_count": 283,
     "metadata": {},
     "output_type": "execute_result"
    }
   ],
   "source": [
    "wallet['cards']['visa']['icic']"
   ]
  },
  {
   "cell_type": "code",
   "execution_count": 284,
   "metadata": {},
   "outputs": [
    {
     "data": {
      "text/plain": [
       "'d'"
      ]
     },
     "execution_count": 284,
     "metadata": {},
     "output_type": "execute_result"
    }
   ],
   "source": [
    "wallet['cards']['visa']['icic'][-1]"
   ]
  },
  {
   "cell_type": "code",
   "execution_count": 285,
   "metadata": {},
   "outputs": [
    {
     "name": "stdout",
     "output_type": "stream",
     "text": [
      "cards\n",
      "cash\n",
      "candies\n"
     ]
    }
   ],
   "source": [
    "# iterate on dict\n",
    "\n",
    "for item in wallet:\n",
    "    print(item)"
   ]
  },
  {
   "cell_type": "code",
   "execution_count": 286,
   "metadata": {},
   "outputs": [
    {
     "name": "stdout",
     "output_type": "stream",
     "text": [
      "{'amex': 1, 'visa': {'hdfc': 1, 'icic': 'gold'}}\n",
      "1800\n",
      "9\n"
     ]
    }
   ],
   "source": [
    "# iterate on dict\n",
    "\n",
    "for item in wallet:\n",
    "    print(wallet[item])"
   ]
  },
  {
   "cell_type": "code",
   "execution_count": 288,
   "metadata": {},
   "outputs": [
    {
     "name": "stdout",
     "output_type": "stream",
     "text": [
      "cards -----> {'amex': 1, 'visa': {'hdfc': 1, 'icic': 'gold'}}\n",
      "cash -----> 1800\n",
      "candies -----> 9\n"
     ]
    }
   ],
   "source": [
    "# iterate on dict\n",
    "\n",
    "for item in wallet:\n",
    "    print(item, '----->', wallet[item])"
   ]
  },
  {
   "cell_type": "code",
   "execution_count": 289,
   "metadata": {},
   "outputs": [
    {
     "name": "stdout",
     "output_type": "stream",
     "text": [
      "cards -----> {'amex': 1, 'visa': {'hdfc': 1, 'icic': 'gold'}}\n",
      "cash -----> 1800\n",
      "candies -----> 9\n"
     ]
    }
   ],
   "source": [
    "for item in wallet.keys():\n",
    "    print(item, '----->', wallet[item])"
   ]
  },
  {
   "cell_type": "code",
   "execution_count": 290,
   "metadata": {},
   "outputs": [
    {
     "data": {
      "text/plain": [
       "dict_values([{'amex': 1, 'visa': {'hdfc': 1, 'icic': 'gold'}}, 1800, 9])"
      ]
     },
     "execution_count": 290,
     "metadata": {},
     "output_type": "execute_result"
    }
   ],
   "source": [
    "wallet.values()"
   ]
  },
  {
   "cell_type": "code",
   "execution_count": 291,
   "metadata": {},
   "outputs": [
    {
     "name": "stdout",
     "output_type": "stream",
     "text": [
      "{'amex': 1, 'visa': {'hdfc': 1, 'icic': 'gold'}}\n",
      "1800\n",
      "9\n"
     ]
    }
   ],
   "source": [
    "for item in wallet.values():\n",
    "    print(item)"
   ]
  },
  {
   "cell_type": "code",
   "execution_count": 294,
   "metadata": {},
   "outputs": [
    {
     "name": "stdout",
     "output_type": "stream",
     "text": [
      "key:cards value:{'amex': 1, 'visa': {'hdfc': 1, 'icic': 'gold'}}\n",
      "key:cash value:1800\n",
      "key:candies value:9\n"
     ]
    }
   ],
   "source": [
    "for key, value in wallet.items():\n",
    "    print(\"key:%s value:%s\" %(key,value))"
   ]
  },
  {
   "cell_type": "code",
   "execution_count": 295,
   "metadata": {},
   "outputs": [
    {
     "data": {
      "text/plain": [
       "{'cards': {'amex': 1, 'visa': {'hdfc': 1, 'icic': 'gold'}},\n",
       " 'cash': 1800,\n",
       " 'candies': 9}"
      ]
     },
     "execution_count": 295,
     "metadata": {},
     "output_type": "execute_result"
    }
   ],
   "source": [
    "wallet"
   ]
  },
  {
   "cell_type": "code",
   "execution_count": 296,
   "metadata": {},
   "outputs": [],
   "source": [
    "del wallet['candies']"
   ]
  },
  {
   "cell_type": "code",
   "execution_count": 297,
   "metadata": {},
   "outputs": [
    {
     "data": {
      "text/plain": [
       "{'cards': {'amex': 1, 'visa': {'hdfc': 1, 'icic': 'gold'}}, 'cash': 1800}"
      ]
     },
     "execution_count": 297,
     "metadata": {},
     "output_type": "execute_result"
    }
   ],
   "source": [
    "wallet"
   ]
  },
  {
   "cell_type": "code",
   "execution_count": 298,
   "metadata": {},
   "outputs": [
    {
     "data": {
      "text/plain": [
       "1800"
      ]
     },
     "execution_count": 298,
     "metadata": {},
     "output_type": "execute_result"
    }
   ],
   "source": [
    "wallet.pop('cash')"
   ]
  },
  {
   "cell_type": "code",
   "execution_count": 299,
   "metadata": {},
   "outputs": [
    {
     "data": {
      "text/plain": [
       "{'cards': {'amex': 1, 'visa': {'hdfc': 1, 'icic': 'gold'}}}"
      ]
     },
     "execution_count": 299,
     "metadata": {},
     "output_type": "execute_result"
    }
   ],
   "source": [
    "wallet"
   ]
  },
  {
   "cell_type": "code",
   "execution_count": 300,
   "metadata": {},
   "outputs": [
    {
     "ename": "KeyError",
     "evalue": "'cash'",
     "output_type": "error",
     "traceback": [
      "\u001b[0;31m---------------------------------------------------------------------------\u001b[0m",
      "\u001b[0;31mKeyError\u001b[0m                                  Traceback (most recent call last)",
      "\u001b[0;32m<ipython-input-300-07638a43b7f6>\u001b[0m in \u001b[0;36m<module>\u001b[0;34m\u001b[0m\n\u001b[0;32m----> 1\u001b[0;31m \u001b[0mwallet\u001b[0m\u001b[0;34m.\u001b[0m\u001b[0mpop\u001b[0m\u001b[0;34m(\u001b[0m\u001b[0;34m'cash'\u001b[0m\u001b[0;34m)\u001b[0m\u001b[0;34m\u001b[0m\u001b[0;34m\u001b[0m\u001b[0m\n\u001b[0m",
      "\u001b[0;31mKeyError\u001b[0m: 'cash'"
     ]
    }
   ],
   "source": [
    "wallet.pop('cash')"
   ]
  },
  {
   "cell_type": "code",
   "execution_count": 301,
   "metadata": {},
   "outputs": [],
   "source": [
    "wallet.pop('cash', None)"
   ]
  },
  {
   "cell_type": "code",
   "execution_count": 302,
   "metadata": {},
   "outputs": [
    {
     "data": {
      "text/plain": [
       "{'cards': {'amex': 1, 'visa': {'hdfc': 1, 'icic': 'gold'}}}"
      ]
     },
     "execution_count": 302,
     "metadata": {},
     "output_type": "execute_result"
    }
   ],
   "source": [
    "wallet"
   ]
  },
  {
   "cell_type": "code",
   "execution_count": 304,
   "metadata": {},
   "outputs": [
    {
     "data": {
      "text/plain": [
       "('cards', {'amex': 1, 'visa': {'hdfc': 1, 'icic': 'gold'}})"
      ]
     },
     "execution_count": 304,
     "metadata": {},
     "output_type": "execute_result"
    }
   ],
   "source": [
    "wallet.popitem()"
   ]
  },
  {
   "cell_type": "code",
   "execution_count": 305,
   "metadata": {},
   "outputs": [
    {
     "data": {
      "text/plain": [
       "{}"
      ]
     },
     "execution_count": 305,
     "metadata": {},
     "output_type": "execute_result"
    }
   ],
   "source": [
    "wallet"
   ]
  },
  {
   "cell_type": "code",
   "execution_count": 306,
   "metadata": {},
   "outputs": [
    {
     "data": {
      "text/plain": [
       "['__class__',\n",
       " '__contains__',\n",
       " '__delattr__',\n",
       " '__delitem__',\n",
       " '__dir__',\n",
       " '__doc__',\n",
       " '__eq__',\n",
       " '__format__',\n",
       " '__ge__',\n",
       " '__getattribute__',\n",
       " '__getitem__',\n",
       " '__gt__',\n",
       " '__hash__',\n",
       " '__init__',\n",
       " '__init_subclass__',\n",
       " '__iter__',\n",
       " '__le__',\n",
       " '__len__',\n",
       " '__lt__',\n",
       " '__ne__',\n",
       " '__new__',\n",
       " '__reduce__',\n",
       " '__reduce_ex__',\n",
       " '__repr__',\n",
       " '__reversed__',\n",
       " '__setattr__',\n",
       " '__setitem__',\n",
       " '__sizeof__',\n",
       " '__str__',\n",
       " '__subclasshook__',\n",
       " 'clear',\n",
       " 'copy',\n",
       " 'fromkeys',\n",
       " 'get',\n",
       " 'items',\n",
       " 'keys',\n",
       " 'pop',\n",
       " 'popitem',\n",
       " 'setdefault',\n",
       " 'update',\n",
       " 'values']"
      ]
     },
     "execution_count": 306,
     "metadata": {},
     "output_type": "execute_result"
    }
   ],
   "source": [
    "dir(wallet)"
   ]
  },
  {
   "cell_type": "code",
   "execution_count": 307,
   "metadata": {},
   "outputs": [],
   "source": [
    "wallet['cards'] =  {\"amex\":1, \"visa\":{\"hdfc\":1, \"icic\":'gold'}}"
   ]
  },
  {
   "cell_type": "code",
   "execution_count": 308,
   "metadata": {},
   "outputs": [],
   "source": [
    "del wallet['cards']['visa']['icic']"
   ]
  },
  {
   "cell_type": "code",
   "execution_count": 309,
   "metadata": {},
   "outputs": [
    {
     "data": {
      "text/plain": [
       "{'cards': {'amex': 1, 'visa': {'hdfc': 1}}}"
      ]
     },
     "execution_count": 309,
     "metadata": {},
     "output_type": "execute_result"
    }
   ],
   "source": [
    "wallet"
   ]
  },
  {
   "cell_type": "code",
   "execution_count": 311,
   "metadata": {},
   "outputs": [
    {
     "name": "stdout",
     "output_type": "stream",
     "text": [
      "first level cards {'amex': 1, 'visa': {'hdfc': 1}}\n",
      "inside amex 1\n",
      "inside visa {'hdfc': 1}\n"
     ]
    }
   ],
   "source": [
    "for k, v in wallet.items():\n",
    "    print(\"first level\", k, v)\n",
    "    if isinstance(v, dict):\n",
    "        for k1, v1 in v.items():\n",
    "            print(\"inside\", k1,v1)"
   ]
  },
  {
   "cell_type": "code",
   "execution_count": 313,
   "metadata": {},
   "outputs": [],
   "source": [
    "# tuple\n",
    "a = {}\n",
    "a ['d'] = 10\n",
    "a['d'] = 14"
   ]
  },
  {
   "cell_type": "code",
   "execution_count": 314,
   "metadata": {},
   "outputs": [
    {
     "data": {
      "text/plain": [
       "{'d': 10, 'd ': 14}"
      ]
     },
     "execution_count": 314,
     "metadata": {},
     "output_type": "execute_result"
    }
   ],
   "source": [
    "a"
   ]
  },
  {
   "cell_type": "code",
   "execution_count": 315,
   "metadata": {},
   "outputs": [],
   "source": [
    "tp = (34, 7.6, 7, 'data', 66)"
   ]
  },
  {
   "cell_type": "code",
   "execution_count": 316,
   "metadata": {},
   "outputs": [
    {
     "data": {
      "text/plain": [
       "(34, 7.6, 7, 'data', 66)"
      ]
     },
     "execution_count": 316,
     "metadata": {},
     "output_type": "execute_result"
    }
   ],
   "source": [
    "tp"
   ]
  },
  {
   "cell_type": "code",
   "execution_count": 317,
   "metadata": {},
   "outputs": [
    {
     "data": {
      "text/plain": [
       "tuple"
      ]
     },
     "execution_count": 317,
     "metadata": {},
     "output_type": "execute_result"
    }
   ],
   "source": [
    "type(tp)"
   ]
  },
  {
   "cell_type": "code",
   "execution_count": 318,
   "metadata": {},
   "outputs": [
    {
     "data": {
      "text/plain": [
       "66"
      ]
     },
     "execution_count": 318,
     "metadata": {},
     "output_type": "execute_result"
    }
   ],
   "source": [
    "tp[-1]"
   ]
  },
  {
   "cell_type": "code",
   "execution_count": 319,
   "metadata": {},
   "outputs": [
    {
     "data": {
      "text/plain": [
       "(34, 7.6, 7, 'data')"
      ]
     },
     "execution_count": 319,
     "metadata": {},
     "output_type": "execute_result"
    }
   ],
   "source": [
    "tp[:4]"
   ]
  },
  {
   "cell_type": "code",
   "execution_count": 320,
   "metadata": {},
   "outputs": [],
   "source": [
    "tp = tp + (1,2,)"
   ]
  },
  {
   "cell_type": "code",
   "execution_count": 321,
   "metadata": {},
   "outputs": [
    {
     "data": {
      "text/plain": [
       "(34, 7.6, 7, 'data', 66, 1, 2)"
      ]
     },
     "execution_count": 321,
     "metadata": {},
     "output_type": "execute_result"
    }
   ],
   "source": [
    "tp"
   ]
  },
  {
   "cell_type": "code",
   "execution_count": 322,
   "metadata": {},
   "outputs": [
    {
     "data": {
      "text/plain": [
       "(34, 7.6, 7, 'data', 66, 1, 2)"
      ]
     },
     "execution_count": 322,
     "metadata": {},
     "output_type": "execute_result"
    }
   ],
   "source": [
    "tp"
   ]
  },
  {
   "cell_type": "code",
   "execution_count": 323,
   "metadata": {},
   "outputs": [
    {
     "data": {
      "text/plain": [
       "140578950228960"
      ]
     },
     "execution_count": 323,
     "metadata": {},
     "output_type": "execute_result"
    }
   ],
   "source": [
    "id(tp)"
   ]
  },
  {
   "cell_type": "code",
   "execution_count": 324,
   "metadata": {},
   "outputs": [],
   "source": [
    "tp = tp + (5,4,)"
   ]
  },
  {
   "cell_type": "code",
   "execution_count": 325,
   "metadata": {},
   "outputs": [
    {
     "data": {
      "text/plain": [
       "(34, 7.6, 7, 'data', 66, 1, 2, 5, 4)"
      ]
     },
     "execution_count": 325,
     "metadata": {},
     "output_type": "execute_result"
    }
   ],
   "source": [
    "tp"
   ]
  },
  {
   "cell_type": "code",
   "execution_count": 326,
   "metadata": {},
   "outputs": [
    {
     "data": {
      "text/plain": [
       "140578947471728"
      ]
     },
     "execution_count": 326,
     "metadata": {},
     "output_type": "execute_result"
    }
   ],
   "source": [
    "id(tp)"
   ]
  },
  {
   "cell_type": "code",
   "execution_count": 327,
   "metadata": {},
   "outputs": [
    {
     "data": {
      "text/plain": [
       "34"
      ]
     },
     "execution_count": 327,
     "metadata": {},
     "output_type": "execute_result"
    }
   ],
   "source": [
    "tp[0]"
   ]
  },
  {
   "cell_type": "code",
   "execution_count": 328,
   "metadata": {},
   "outputs": [
    {
     "ename": "TypeError",
     "evalue": "'tuple' object does not support item assignment",
     "output_type": "error",
     "traceback": [
      "\u001b[0;31m---------------------------------------------------------------------------\u001b[0m",
      "\u001b[0;31mTypeError\u001b[0m                                 Traceback (most recent call last)",
      "\u001b[0;32m<ipython-input-328-31a2bcf0362e>\u001b[0m in \u001b[0;36m<module>\u001b[0;34m\u001b[0m\n\u001b[0;32m----> 1\u001b[0;31m \u001b[0mtp\u001b[0m\u001b[0;34m[\u001b[0m\u001b[0;36m0\u001b[0m\u001b[0;34m]\u001b[0m \u001b[0;34m=\u001b[0m \u001b[0;36m50\u001b[0m\u001b[0;34m\u001b[0m\u001b[0;34m\u001b[0m\u001b[0m\n\u001b[0m",
      "\u001b[0;31mTypeError\u001b[0m: 'tuple' object does not support item assignment"
     ]
    }
   ],
   "source": [
    "tp[0] = 50"
   ]
  },
  {
   "cell_type": "code",
   "execution_count": 329,
   "metadata": {},
   "outputs": [],
   "source": [
    "tp = ((1,2,3),7,(56,67,78),(6,7,8))"
   ]
  },
  {
   "cell_type": "code",
   "execution_count": 330,
   "metadata": {},
   "outputs": [
    {
     "data": {
      "text/plain": [
       "((1, 2, 3), 7, (56, 67, 78), (6, 7, 8))"
      ]
     },
     "execution_count": 330,
     "metadata": {},
     "output_type": "execute_result"
    }
   ],
   "source": [
    "tp"
   ]
  },
  {
   "cell_type": "code",
   "execution_count": 331,
   "metadata": {
    "scrolled": true
   },
   "outputs": [
    {
     "name": "stdout",
     "output_type": "stream",
     "text": [
      "(1, 2, 3)\n",
      "7\n",
      "(56, 67, 78)\n",
      "(6, 7, 8)\n"
     ]
    }
   ],
   "source": [
    "for i in tp:\n",
    "    print(i)"
   ]
  },
  {
   "cell_type": "code",
   "execution_count": 334,
   "metadata": {},
   "outputs": [
    {
     "name": "stdout",
     "output_type": "stream",
     "text": [
      "1\n",
      "2\n",
      "3\n",
      "7\n",
      "56\n",
      "67\n",
      "78\n",
      "6\n",
      "7\n",
      "8\n"
     ]
    }
   ],
   "source": [
    "# isinstance ( tuple)\n",
    "# for \n",
    "\n",
    "for i in tp:\n",
    "    if isinstance(i , int):\n",
    "        print(i)\n",
    "    if isinstance(i, tuple):\n",
    "        for v in i:\n",
    "            print(v)\n",
    "    \n"
   ]
  },
  {
   "cell_type": "code",
   "execution_count": 335,
   "metadata": {},
   "outputs": [
    {
     "data": {
      "text/plain": [
       "['__add__',\n",
       " '__class__',\n",
       " '__contains__',\n",
       " '__delattr__',\n",
       " '__dir__',\n",
       " '__doc__',\n",
       " '__eq__',\n",
       " '__format__',\n",
       " '__ge__',\n",
       " '__getattribute__',\n",
       " '__getitem__',\n",
       " '__getnewargs__',\n",
       " '__gt__',\n",
       " '__hash__',\n",
       " '__init__',\n",
       " '__init_subclass__',\n",
       " '__iter__',\n",
       " '__le__',\n",
       " '__len__',\n",
       " '__lt__',\n",
       " '__mul__',\n",
       " '__ne__',\n",
       " '__new__',\n",
       " '__reduce__',\n",
       " '__reduce_ex__',\n",
       " '__repr__',\n",
       " '__rmul__',\n",
       " '__setattr__',\n",
       " '__sizeof__',\n",
       " '__str__',\n",
       " '__subclasshook__',\n",
       " 'count',\n",
       " 'index']"
      ]
     },
     "execution_count": 335,
     "metadata": {},
     "output_type": "execute_result"
    }
   ],
   "source": [
    "dir(tp)"
   ]
  },
  {
   "cell_type": "code",
   "execution_count": 339,
   "metadata": {},
   "outputs": [
    {
     "data": {
      "text/plain": [
       "0"
      ]
     },
     "execution_count": 339,
     "metadata": {},
     "output_type": "execute_result"
    }
   ],
   "source": []
  },
  {
   "cell_type": "code",
   "execution_count": 341,
   "metadata": {},
   "outputs": [
    {
     "name": "stdout",
     "output_type": "stream",
     "text": [
      "1. Create the employee information\n",
      "2. Update the employee details\n",
      "3. Delete Employee\n",
      "4. Display\n",
      "5. Exit\n",
      "Enter your choice[1-4]:1\n",
      "Enter the name:onkar\n",
      "Enter employee id:101\n",
      "Enter the phone number:9665544\n",
      "Technologies [comma seprated e.g: C++, python, java]python, java, c++\n",
      "1. Create the employee information\n",
      "2. Update the employee details\n",
      "3. Delete Employee\n",
      "4. Display\n",
      "5. Exit\n",
      "Enter your choice[1-4]:4\n",
      "{101: {'name': 'onkar', 'phone': '9665544', 'tech': ['python', ' java', ' c++']}}\n",
      "1. Create the employee information\n",
      "2. Update the employee details\n",
      "3. Delete Employee\n",
      "4. Display\n",
      "5. Exit\n",
      "Enter your choice[1-4]:2\n",
      "Whose details you want to update?. Please enter emp_id:101\n",
      "name(onkar)\n",
      "phone(9665544)7878288282\n",
      "tech(['python', ' java', ' c++'])\n",
      "1. Create the employee information\n",
      "2. Update the employee details\n",
      "3. Delete Employee\n",
      "4. Display\n",
      "5. Exit\n",
      "Enter your choice[1-4]:4\n",
      "{101: {'name': 'onkar', 'phone': '7878288282', 'tech': ['python', ' java', ' c++']}}\n",
      "1. Create the employee information\n",
      "2. Update the employee details\n",
      "3. Delete Employee\n",
      "4. Display\n",
      "5. Exit\n",
      "Enter your choice[1-4]:5\n"
     ]
    }
   ],
   "source": [
    "# create emp pgm\n",
    "emp_info = {}\n",
    "while True:\n",
    "    print(\"1. Create the employee information\")\n",
    "    print(\"2. Update the employee details\")\n",
    "    print(\"3. Delete Employee\")\n",
    "    print(\"4. Display\")\n",
    "    print(\"5. Exit\")\n",
    "    ch = int(input(\"Enter your choice[1-4]:\"))\n",
    "    if ch==1:\n",
    "        name = input(\"Enter the name:\")\n",
    "        emp_id = int(input(\"Enter employee id:\"))\n",
    "        ph=input(\"Enter the phone number:\")\n",
    "        tech = input(\"Technologies [comma seprated e.g: C++, python, java]\")\n",
    "        emp_info[emp_id] = {\"name\":name, \"phone\":ph, \"tech\": tech.split(\",\")}\n",
    "    elif ch==2:\n",
    "        emp_id = int(input(\"Whose details you want to update?. Please enter emp_id:\"))\n",
    "        if emp_id not in emp_info:\n",
    "            print(\"Emp details not found\") \n",
    "        else:\n",
    "            rec = emp_info[emp_id]\n",
    "            for key, value in rec.items():\n",
    "                new = input(\"{}({})\".format(key, value))\n",
    "                emp_info[emp_id][key] = value \n",
    "                if new == '' :\n",
    "                    emp_info[emp_id][key] = value \n",
    "                else:\n",
    "                    emp_info[emp_id][key] = new \n",
    "            \n",
    "    elif ch==3:\n",
    "        \n",
    "        # take input from user as emp_id to be deleted\n",
    "        # check emp_id present in dict or not\n",
    "        # perform deletion using del method or pop\n",
    "        emp_id = int(input(\"Enter the emp id\"))\n",
    "        if emp_id in emp_info:\n",
    "            del emp_info[emp_id]\n",
    "        else:\n",
    "            print(\"Emp record not found....\")\n",
    "    elif ch ==4:\n",
    "        print(emp_info)\n",
    "    else:\n",
    "        break\n",
    "            \n",
    "        \n",
    "    "
   ]
  },
  {
   "cell_type": "code",
   "execution_count": 348,
   "metadata": {},
   "outputs": [],
   "source": [
    "d = {'a':1, \"b\":3}"
   ]
  },
  {
   "cell_type": "code",
   "execution_count": 349,
   "metadata": {},
   "outputs": [
    {
     "data": {
      "text/plain": [
       "140578950433536"
      ]
     },
     "execution_count": 349,
     "metadata": {},
     "output_type": "execute_result"
    }
   ],
   "source": [
    "id(d)"
   ]
  },
  {
   "cell_type": "code",
   "execution_count": 350,
   "metadata": {},
   "outputs": [],
   "source": [
    "d['a'] = 40"
   ]
  },
  {
   "cell_type": "code",
   "execution_count": 351,
   "metadata": {},
   "outputs": [
    {
     "data": {
      "text/plain": [
       "140578950433536"
      ]
     },
     "execution_count": 351,
     "metadata": {},
     "output_type": "execute_result"
    }
   ],
   "source": [
    "id(d)"
   ]
  },
  {
   "cell_type": "code",
   "execution_count": null,
   "metadata": {},
   "outputs": [],
   "source": [
    "# argparser\n",
    "python abc.py --name 'onkar', --address 'pune'\n"
   ]
  },
  {
   "cell_type": "code",
   "execution_count": null,
   "metadata": {},
   "outputs": [],
   "source": []
  },
  {
   "cell_type": "code",
   "execution_count": 347,
   "metadata": {},
   "outputs": [
    {
     "data": {
      "text/plain": [
       "140578951635072"
      ]
     },
     "execution_count": 347,
     "metadata": {},
     "output_type": "execute_result"
    }
   ],
   "source": [
    "id(d)"
   ]
  },
  {
   "cell_type": "code",
   "execution_count": null,
   "metadata": {},
   "outputs": [],
   "source": [
    "# list"
   ]
  },
  {
   "cell_type": "code",
   "execution_count": 352,
   "metadata": {},
   "outputs": [
    {
     "name": "stdout",
     "output_type": "stream",
     "text": [
      "0\n",
      "1\n",
      "2\n",
      "3\n",
      "4\n",
      "5\n",
      "6\n",
      "7\n",
      "8\n",
      "9\n"
     ]
    }
   ],
   "source": [
    "for i in range(10):\n",
    "    print(i)"
   ]
  },
  {
   "cell_type": "code",
   "execution_count": 354,
   "metadata": {},
   "outputs": [
    {
     "data": {
      "text/plain": [
       "[0, 1, 2, 3, 4, 5, 6, 7, 8, 9]"
      ]
     },
     "execution_count": 354,
     "metadata": {},
     "output_type": "execute_result"
    }
   ],
   "source": [
    "[i for i in range(10)]"
   ]
  },
  {
   "cell_type": "code",
   "execution_count": 356,
   "metadata": {},
   "outputs": [
    {
     "data": {
      "text/plain": [
       "[0, 2, 4, 6, 8]"
      ]
     },
     "execution_count": 356,
     "metadata": {},
     "output_type": "execute_result"
    }
   ],
   "source": [
    "[i for i in range(10) if i%2==0 ]"
   ]
  },
  {
   "cell_type": "code",
   "execution_count": null,
   "metadata": {},
   "outputs": [],
   "source": []
  },
  {
   "cell_type": "code",
   "execution_count": 355,
   "metadata": {},
   "outputs": [
    {
     "name": "stdout",
     "output_type": "stream",
     "text": [
      "0\n",
      "2\n",
      "4\n",
      "6\n",
      "8\n"
     ]
    }
   ],
   "source": [
    "for i in range(10):\n",
    "    if i%2==0:\n",
    "        print(i)"
   ]
  },
  {
   "cell_type": "code",
   "execution_count": 357,
   "metadata": {},
   "outputs": [
    {
     "name": "stdout",
     "output_type": "stream",
     "text": [
      "10\n"
     ]
    }
   ],
   "source": [
    "x = 10\n",
    "y = 20\n",
    "if x > y:\n",
    "    print(x-y)\n",
    "else:\n",
    "    print(y-x)"
   ]
  },
  {
   "cell_type": "code",
   "execution_count": 358,
   "metadata": {},
   "outputs": [
    {
     "name": "stdout",
     "output_type": "stream",
     "text": [
      "10\n"
     ]
    }
   ],
   "source": [
    "print(x-y if x>y else y-x)"
   ]
  },
  {
   "cell_type": "code",
   "execution_count": 360,
   "metadata": {},
   "outputs": [
    {
     "name": "stdout",
     "output_type": "stream",
     "text": [
      "Enter the a number for which you want to see square:2\n",
      "64\n"
     ]
    }
   ],
   "source": [
    "n = [1,2,3,4,5,6,7,8]\n",
    "num = int(input(\"Enter the a number for which you want to see square:\"))\n",
    "squares = []\n",
    "for num in n:\n",
    "    squares.append(num**2)\n",
    "idx_pos = n.index(num)\n",
    "print(squares[idx_pos])"
   ]
  },
  {
   "cell_type": "code",
   "execution_count": 361,
   "metadata": {},
   "outputs": [
    {
     "name": "stdout",
     "output_type": "stream",
     "text": [
      "Enter the a number for which you want to see square:2\n",
      "squares: [1, 4, 9, 16, 25, 36, 49, 64]\n"
     ]
    }
   ],
   "source": [
    "num = int(input(\"Enter the a number for which you want to see square:\"))\n",
    "squares = [num**2 for num in n]\n",
    "print(\"squares:\",squares)\n"
   ]
  },
  {
   "cell_type": "code",
   "execution_count": 362,
   "metadata": {},
   "outputs": [
    {
     "data": {
      "text/plain": [
       "{1: 1, 2: 4, 3: 9, 4: 16, 5: 25}"
      ]
     },
     "execution_count": 362,
     "metadata": {},
     "output_type": "execute_result"
    }
   ],
   "source": [
    "{k:k**2 for k in range(1,6)}"
   ]
  },
  {
   "cell_type": "code",
   "execution_count": 364,
   "metadata": {},
   "outputs": [],
   "source": [
    "tp = (45, 77, 109, 'data', ['alex', 'john'])\n"
   ]
  },
  {
   "cell_type": "code",
   "execution_count": null,
   "metadata": {},
   "outputs": [],
   "source": []
  },
  {
   "cell_type": "code",
   "execution_count": 365,
   "metadata": {},
   "outputs": [
    {
     "data": {
      "text/plain": [
       "{0: 45, 1: 77, 2: 109, 3: 'data', 4: ['alex', 'john']}"
      ]
     },
     "execution_count": 365,
     "metadata": {},
     "output_type": "execute_result"
    }
   ],
   "source": [
    "{k: tp[k] for k in range(len(tp))}"
   ]
  },
  {
   "cell_type": "code",
   "execution_count": 366,
   "metadata": {},
   "outputs": [
    {
     "data": {
      "text/plain": [
       "{0: 45, 1: 77, 2: 109, 3: 'data', 4: ['alex', 'john']}"
      ]
     },
     "execution_count": 366,
     "metadata": {},
     "output_type": "execute_result"
    }
   ],
   "source": [
    "{tp.index(v):v for v in tp}"
   ]
  },
  {
   "cell_type": "code",
   "execution_count": 367,
   "metadata": {},
   "outputs": [],
   "source": [
    "tp = (1, 2,3, [40,44])"
   ]
  },
  {
   "cell_type": "code",
   "execution_count": 368,
   "metadata": {},
   "outputs": [
    {
     "data": {
      "text/plain": [
       "[40, 44]"
      ]
     },
     "execution_count": 368,
     "metadata": {},
     "output_type": "execute_result"
    }
   ],
   "source": [
    "tp[3]"
   ]
  },
  {
   "cell_type": "code",
   "execution_count": 369,
   "metadata": {},
   "outputs": [
    {
     "data": {
      "text/plain": [
       "140578953232272"
      ]
     },
     "execution_count": 369,
     "metadata": {},
     "output_type": "execute_result"
    }
   ],
   "source": [
    "id(tp)"
   ]
  },
  {
   "cell_type": "code",
   "execution_count": 375,
   "metadata": {},
   "outputs": [
    {
     "data": {
      "text/plain": [
       "4348592896"
      ]
     },
     "execution_count": 375,
     "metadata": {},
     "output_type": "execute_result"
    }
   ],
   "source": [
    "id(tp[3][0])"
   ]
  },
  {
   "cell_type": "code",
   "execution_count": 376,
   "metadata": {},
   "outputs": [
    {
     "ename": "TypeError",
     "evalue": "'tuple' object does not support item assignment",
     "output_type": "error",
     "traceback": [
      "\u001b[0;31m---------------------------------------------------------------------------\u001b[0m",
      "\u001b[0;31mTypeError\u001b[0m                                 Traceback (most recent call last)",
      "\u001b[0;32m<ipython-input-376-652142f42d0a>\u001b[0m in \u001b[0;36m<module>\u001b[0;34m\u001b[0m\n\u001b[0;32m----> 1\u001b[0;31m \u001b[0mtp\u001b[0m\u001b[0;34m[\u001b[0m\u001b[0;36m3\u001b[0m\u001b[0;34m]\u001b[0m \u001b[0;34m=\u001b[0m \u001b[0;36m10\u001b[0m\u001b[0;34m\u001b[0m\u001b[0;34m\u001b[0m\u001b[0m\n\u001b[0m",
      "\u001b[0;31mTypeError\u001b[0m: 'tuple' object does not support item assignment"
     ]
    }
   ],
   "source": [
    "tp[3] = 10"
   ]
  },
  {
   "cell_type": "code",
   "execution_count": 377,
   "metadata": {},
   "outputs": [
    {
     "data": {
      "text/plain": [
       "140578951586944"
      ]
     },
     "execution_count": 377,
     "metadata": {},
     "output_type": "execute_result"
    }
   ],
   "source": [
    "id(tp[3])"
   ]
  },
  {
   "cell_type": "code",
   "execution_count": 378,
   "metadata": {},
   "outputs": [
    {
     "data": {
      "text/plain": [
       "[78, 44]"
      ]
     },
     "execution_count": 378,
     "metadata": {},
     "output_type": "execute_result"
    }
   ],
   "source": [
    "tp[3]"
   ]
  },
  {
   "cell_type": "code",
   "execution_count": 379,
   "metadata": {},
   "outputs": [
    {
     "data": {
      "text/plain": [
       "4348592896"
      ]
     },
     "execution_count": 379,
     "metadata": {},
     "output_type": "execute_result"
    }
   ],
   "source": [
    "id(tp[3][0])"
   ]
  },
  {
   "cell_type": "code",
   "execution_count": 380,
   "metadata": {},
   "outputs": [],
   "source": [
    "tp[3][0] = 100"
   ]
  },
  {
   "cell_type": "code",
   "execution_count": 381,
   "metadata": {},
   "outputs": [
    {
     "data": {
      "text/plain": [
       "140578951586944"
      ]
     },
     "execution_count": 381,
     "metadata": {},
     "output_type": "execute_result"
    }
   ],
   "source": [
    "id(tp[3])"
   ]
  },
  {
   "cell_type": "code",
   "execution_count": 382,
   "metadata": {},
   "outputs": [
    {
     "data": {
      "text/plain": [
       "4348593600"
      ]
     },
     "execution_count": 382,
     "metadata": {},
     "output_type": "execute_result"
    }
   ],
   "source": [
    "id(tp[3][0])"
   ]
  },
  {
   "cell_type": "code",
   "execution_count": 383,
   "metadata": {},
   "outputs": [
    {
     "data": {
      "text/plain": [
       "[100, 44]"
      ]
     },
     "execution_count": 383,
     "metadata": {},
     "output_type": "execute_result"
    }
   ],
   "source": [
    "tp[3]"
   ]
  },
  {
   "cell_type": "code",
   "execution_count": null,
   "metadata": {},
   "outputs": [],
   "source": []
  },
  {
   "cell_type": "code",
   "execution_count": null,
   "metadata": {},
   "outputs": [],
   "source": []
  },
  {
   "cell_type": "code",
   "execution_count": null,
   "metadata": {},
   "outputs": [],
   "source": []
  },
  {
   "cell_type": "code",
   "execution_count": 371,
   "metadata": {},
   "outputs": [
    {
     "data": {
      "text/plain": [
       "(1, 2, 3, [78, 44])"
      ]
     },
     "execution_count": 371,
     "metadata": {},
     "output_type": "execute_result"
    }
   ],
   "source": [
    "tp"
   ]
  },
  {
   "cell_type": "code",
   "execution_count": 372,
   "metadata": {},
   "outputs": [
    {
     "data": {
      "text/plain": [
       "140578953232272"
      ]
     },
     "execution_count": 372,
     "metadata": {},
     "output_type": "execute_result"
    }
   ],
   "source": [
    "id(tp)"
   ]
  },
  {
   "cell_type": "code",
   "execution_count": 384,
   "metadata": {},
   "outputs": [
    {
     "name": "stdout",
     "output_type": "stream",
     "text": [
      "hi\n"
     ]
    }
   ],
   "source": [
    "print('hi')"
   ]
  },
  {
   "cell_type": "code",
   "execution_count": 385,
   "metadata": {},
   "outputs": [],
   "source": [
    "s = set()\n",
    "s1 = {2,3,4,5,6,7,8,9,10}\n"
   ]
  },
  {
   "cell_type": "code",
   "execution_count": 386,
   "metadata": {},
   "outputs": [
    {
     "data": {
      "text/plain": [
       "{2, 3, 4, 5, 6, 7, 8, 9, 10}"
      ]
     },
     "execution_count": 386,
     "metadata": {},
     "output_type": "execute_result"
    }
   ],
   "source": [
    "s1"
   ]
  },
  {
   "cell_type": "code",
   "execution_count": 387,
   "metadata": {},
   "outputs": [
    {
     "data": {
      "text/plain": [
       "set"
      ]
     },
     "execution_count": 387,
     "metadata": {},
     "output_type": "execute_result"
    }
   ],
   "source": [
    "type(s1)"
   ]
  },
  {
   "cell_type": "code",
   "execution_count": 388,
   "metadata": {},
   "outputs": [
    {
     "data": {
      "text/plain": [
       "set"
      ]
     },
     "execution_count": 388,
     "metadata": {},
     "output_type": "execute_result"
    }
   ],
   "source": [
    "type(s)"
   ]
  },
  {
   "cell_type": "code",
   "execution_count": 389,
   "metadata": {},
   "outputs": [
    {
     "data": {
      "text/plain": [
       "set()"
      ]
     },
     "execution_count": 389,
     "metadata": {},
     "output_type": "execute_result"
    }
   ],
   "source": [
    "s"
   ]
  },
  {
   "cell_type": "code",
   "execution_count": 390,
   "metadata": {},
   "outputs": [],
   "source": [
    "l = [1,1,2,2,3,3,4,4]"
   ]
  },
  {
   "cell_type": "code",
   "execution_count": 391,
   "metadata": {},
   "outputs": [
    {
     "data": {
      "text/plain": [
       "list"
      ]
     },
     "execution_count": 391,
     "metadata": {},
     "output_type": "execute_result"
    }
   ],
   "source": [
    "type(l)"
   ]
  },
  {
   "cell_type": "code",
   "execution_count": 396,
   "metadata": {},
   "outputs": [
    {
     "data": {
      "text/plain": [
       "[1, 2, 3, 4]"
      ]
     },
     "execution_count": 396,
     "metadata": {},
     "output_type": "execute_result"
    }
   ],
   "source": [
    "list(set(l))\n"
   ]
  },
  {
   "cell_type": "code",
   "execution_count": null,
   "metadata": {},
   "outputs": [],
   "source": []
  },
  {
   "cell_type": "code",
   "execution_count": 393,
   "metadata": {},
   "outputs": [
    {
     "data": {
      "text/plain": [
       "set()"
      ]
     },
     "execution_count": 393,
     "metadata": {},
     "output_type": "execute_result"
    }
   ],
   "source": [
    "s"
   ]
  },
  {
   "cell_type": "code",
   "execution_count": 394,
   "metadata": {},
   "outputs": [],
   "source": [
    "s.add(10)"
   ]
  },
  {
   "cell_type": "code",
   "execution_count": 395,
   "metadata": {},
   "outputs": [
    {
     "data": {
      "text/plain": [
       "{10}"
      ]
     },
     "execution_count": 395,
     "metadata": {},
     "output_type": "execute_result"
    }
   ],
   "source": [
    "s"
   ]
  },
  {
   "cell_type": "code",
   "execution_count": 397,
   "metadata": {},
   "outputs": [],
   "source": [
    "s1 = {1,2,3,4,5,6,7,8}\n",
    "s2 = {5,6,7,8,9,10,11}"
   ]
  },
  {
   "cell_type": "code",
   "execution_count": 398,
   "metadata": {},
   "outputs": [
    {
     "data": {
      "text/plain": [
       "{1, 2, 3, 4, 5, 6, 7, 8, 9, 10, 11}"
      ]
     },
     "execution_count": 398,
     "metadata": {},
     "output_type": "execute_result"
    }
   ],
   "source": [
    "s1.union(s2)"
   ]
  },
  {
   "cell_type": "code",
   "execution_count": 399,
   "metadata": {},
   "outputs": [
    {
     "data": {
      "text/plain": [
       "{1, 2, 3, 4}"
      ]
     },
     "execution_count": 399,
     "metadata": {},
     "output_type": "execute_result"
    }
   ],
   "source": [
    "s1.difference(s2)"
   ]
  },
  {
   "cell_type": "code",
   "execution_count": 400,
   "metadata": {},
   "outputs": [
    {
     "data": {
      "text/plain": [
       "{5, 6, 7, 8}"
      ]
     },
     "execution_count": 400,
     "metadata": {},
     "output_type": "execute_result"
    }
   ],
   "source": [
    "s1.intersection(s2)"
   ]
  },
  {
   "cell_type": "code",
   "execution_count": 401,
   "metadata": {},
   "outputs": [
    {
     "data": {
      "text/plain": [
       "{1, 2, 3, 4}"
      ]
     },
     "execution_count": 401,
     "metadata": {},
     "output_type": "execute_result"
    }
   ],
   "source": [
    "s1-s2"
   ]
  },
  {
   "cell_type": "code",
   "execution_count": 402,
   "metadata": {},
   "outputs": [
    {
     "data": {
      "text/plain": [
       "['__and__',\n",
       " '__class__',\n",
       " '__contains__',\n",
       " '__delattr__',\n",
       " '__dir__',\n",
       " '__doc__',\n",
       " '__eq__',\n",
       " '__format__',\n",
       " '__ge__',\n",
       " '__getattribute__',\n",
       " '__gt__',\n",
       " '__hash__',\n",
       " '__iand__',\n",
       " '__init__',\n",
       " '__init_subclass__',\n",
       " '__ior__',\n",
       " '__isub__',\n",
       " '__iter__',\n",
       " '__ixor__',\n",
       " '__le__',\n",
       " '__len__',\n",
       " '__lt__',\n",
       " '__ne__',\n",
       " '__new__',\n",
       " '__or__',\n",
       " '__rand__',\n",
       " '__reduce__',\n",
       " '__reduce_ex__',\n",
       " '__repr__',\n",
       " '__ror__',\n",
       " '__rsub__',\n",
       " '__rxor__',\n",
       " '__setattr__',\n",
       " '__sizeof__',\n",
       " '__str__',\n",
       " '__sub__',\n",
       " '__subclasshook__',\n",
       " '__xor__',\n",
       " 'add',\n",
       " 'clear',\n",
       " 'copy',\n",
       " 'difference',\n",
       " 'difference_update',\n",
       " 'discard',\n",
       " 'intersection',\n",
       " 'intersection_update',\n",
       " 'isdisjoint',\n",
       " 'issubset',\n",
       " 'issuperset',\n",
       " 'pop',\n",
       " 'remove',\n",
       " 'symmetric_difference',\n",
       " 'symmetric_difference_update',\n",
       " 'union',\n",
       " 'update']"
      ]
     },
     "execution_count": 402,
     "metadata": {},
     "output_type": "execute_result"
    }
   ],
   "source": [
    "dir(s)"
   ]
  },
  {
   "cell_type": "code",
   "execution_count": 403,
   "metadata": {},
   "outputs": [
    {
     "data": {
      "text/plain": [
       "10"
      ]
     },
     "execution_count": 403,
     "metadata": {},
     "output_type": "execute_result"
    }
   ],
   "source": [
    "s.pop()"
   ]
  },
  {
   "cell_type": "code",
   "execution_count": null,
   "metadata": {},
   "outputs": [],
   "source": [
    "# all the basic data type in python \n"
   ]
  },
  {
   "cell_type": "code",
   "execution_count": null,
   "metadata": {},
   "outputs": [],
   "source": [
    "# User defined functions\n",
    "\n",
    "print(\"hello akash\")\n",
    "\"welcome to python\"\n",
    "\"you age is 26\"\n",
    "\n",
    "\"hello john\"\n",
    "\"welcome to python\"\n",
    "\"your age is 788\"\n",
    "\n",
    "\n",
    "\"hello john\"\n",
    "\"welcome to python\"\n",
    "\"your age is 788\"\n",
    "\"\""
   ]
  },
  {
   "cell_type": "code",
   "execution_count": 405,
   "metadata": {},
   "outputs": [],
   "source": [
    "def greeting():\n",
    "    print(\"hello\")\n",
    "    print(\"welcome to python\")\n",
    "    print(\"your age is 26\")"
   ]
  },
  {
   "cell_type": "code",
   "execution_count": 406,
   "metadata": {},
   "outputs": [
    {
     "name": "stdout",
     "output_type": "stream",
     "text": [
      "hello\n",
      "welcome to python\n",
      "your age is 26\n"
     ]
    }
   ],
   "source": [
    "greeting()"
   ]
  },
  {
   "cell_type": "code",
   "execution_count": 407,
   "metadata": {},
   "outputs": [
    {
     "name": "stdout",
     "output_type": "stream",
     "text": [
      "hello\n",
      "welcome to python\n",
      "your age is 26\n"
     ]
    }
   ],
   "source": [
    "greeting()"
   ]
  },
  {
   "cell_type": "code",
   "execution_count": 408,
   "metadata": {},
   "outputs": [],
   "source": [
    "def greeting(name, age):\n",
    "    print(\"hello {}\".format(name))\n",
    "    print(\"welcome to python\")\n",
    "    print(\"your age is\", age)\n",
    "    "
   ]
  },
  {
   "cell_type": "code",
   "execution_count": 410,
   "metadata": {},
   "outputs": [
    {
     "name": "stdout",
     "output_type": "stream",
     "text": [
      "hello onkar\n",
      "welcome to python\n",
      "your age is 24\n"
     ]
    }
   ],
   "source": [
    "greeting('onkar', 24)"
   ]
  },
  {
   "cell_type": "code",
   "execution_count": 412,
   "metadata": {},
   "outputs": [
    {
     "name": "stdout",
     "output_type": "stream",
     "text": [
      "hello xyd\n",
      "welcome to python\n",
      "your age is 24\n"
     ]
    }
   ],
   "source": [
    "greeting('xyd', \"24\")"
   ]
  },
  {
   "cell_type": "code",
   "execution_count": null,
   "metadata": {},
   "outputs": [],
   "source": []
  },
  {
   "cell_type": "code",
   "execution_count": 413,
   "metadata": {},
   "outputs": [],
   "source": [
    "def greeting(name, age):\n",
    "    print(\"hello {}\".format(name))\n",
    "    print(\"welcome to python\")\n",
    "    if isinstance(age, (int, float)):\n",
    "        print(\"age is\", age)\n",
    "        \n",
    "    "
   ]
  },
  {
   "cell_type": "code",
   "execution_count": 414,
   "metadata": {},
   "outputs": [
    {
     "name": "stdout",
     "output_type": "stream",
     "text": [
      "hello john\n",
      "welcome to python\n",
      "age is 20\n"
     ]
    }
   ],
   "source": [
    "greeting(\"john\", 20)"
   ]
  },
  {
   "cell_type": "code",
   "execution_count": 415,
   "metadata": {},
   "outputs": [
    {
     "name": "stdout",
     "output_type": "stream",
     "text": [
      "hello john\n",
      "welcome to python\n"
     ]
    }
   ],
   "source": [
    "greeting(\"john\", \"20\")"
   ]
  },
  {
   "cell_type": "code",
   "execution_count": 417,
   "metadata": {},
   "outputs": [],
   "source": [
    "def greeting(name, age=25):\n",
    "    print(\"hello {}\".format(name))\n",
    "    print(\"welcome to python\")\n",
    "    print(\"age is\", age)"
   ]
  },
  {
   "cell_type": "code",
   "execution_count": 418,
   "metadata": {},
   "outputs": [
    {
     "name": "stdout",
     "output_type": "stream",
     "text": [
      "hello onkar\n",
      "welcome to python\n",
      "age is 28\n"
     ]
    }
   ],
   "source": [
    "greeting(\"onkar\", age=28)"
   ]
  },
  {
   "cell_type": "code",
   "execution_count": 419,
   "metadata": {},
   "outputs": [
    {
     "name": "stdout",
     "output_type": "stream",
     "text": [
      "hello onkar\n",
      "welcome to python\n",
      "age is 25\n"
     ]
    }
   ],
   "source": [
    "greeting(\"onkar\")"
   ]
  },
  {
   "cell_type": "code",
   "execution_count": 420,
   "metadata": {},
   "outputs": [],
   "source": [
    "def greeting(name='', age=25):\n",
    "    print(name)\n",
    "    print(age)"
   ]
  },
  {
   "cell_type": "code",
   "execution_count": 421,
   "metadata": {},
   "outputs": [
    {
     "name": "stdout",
     "output_type": "stream",
     "text": [
      "\n",
      "25\n"
     ]
    }
   ],
   "source": [
    "greeting()"
   ]
  },
  {
   "cell_type": "code",
   "execution_count": 422,
   "metadata": {},
   "outputs": [],
   "source": [
    "def greeting(name, age, address):\n",
    "    print(\"hello {}\".format(name))\n",
    "    print(\"welcome to python\")\n",
    "    print(\"age is\", age)\n",
    "    print(\"address\", address)"
   ]
  },
  {
   "cell_type": "code",
   "execution_count": 423,
   "metadata": {},
   "outputs": [
    {
     "ename": "TypeError",
     "evalue": "greeting() missing 1 required positional argument: 'address'",
     "output_type": "error",
     "traceback": [
      "\u001b[0;31m---------------------------------------------------------------------------\u001b[0m",
      "\u001b[0;31mTypeError\u001b[0m                                 Traceback (most recent call last)",
      "\u001b[0;32m<ipython-input-423-6e2a4c1207f6>\u001b[0m in \u001b[0;36m<module>\u001b[0;34m\u001b[0m\n\u001b[0;32m----> 1\u001b[0;31m \u001b[0mgreeting\u001b[0m\u001b[0;34m(\u001b[0m\u001b[0;34m'john'\u001b[0m\u001b[0;34m,\u001b[0m \u001b[0;36m23\u001b[0m\u001b[0;34m)\u001b[0m\u001b[0;34m\u001b[0m\u001b[0;34m\u001b[0m\u001b[0m\n\u001b[0m",
      "\u001b[0;31mTypeError\u001b[0m: greeting() missing 1 required positional argument: 'address'"
     ]
    }
   ],
   "source": [
    "greeting('john', 23)"
   ]
  },
  {
   "cell_type": "code",
   "execution_count": 424,
   "metadata": {},
   "outputs": [],
   "source": [
    "def greeting(name, age, address=None):\n",
    "    print(\"hello {}\".format(name))\n",
    "    print(\"welcome to python\")\n",
    "    print(\"age is\", age)\n",
    "    if address:\n",
    "        print(\"address\", address)\n",
    "        "
   ]
  },
  {
   "cell_type": "code",
   "execution_count": 425,
   "metadata": {},
   "outputs": [
    {
     "name": "stdout",
     "output_type": "stream",
     "text": [
      "hello john\n",
      "welcome to python\n",
      "age is 23\n"
     ]
    }
   ],
   "source": [
    "greeting('john', 23)"
   ]
  },
  {
   "cell_type": "code",
   "execution_count": 426,
   "metadata": {
    "scrolled": true
   },
   "outputs": [
    {
     "name": "stdout",
     "output_type": "stream",
     "text": [
      "hello john\n",
      "welcome to python\n",
      "age is 23\n",
      "address pune\n"
     ]
    }
   ],
   "source": [
    "greeting('john', 23, 'pune')"
   ]
  },
  {
   "cell_type": "code",
   "execution_count": 427,
   "metadata": {},
   "outputs": [],
   "source": [
    "def greeting(name, age,.,.... ph='976', addr='23 high stree'):\n",
    "    print(\"hello\", name)\n",
    "    print(\"age\", age)\n",
    "    print('phone', ph)\n",
    "    print('addr', addr)\n",
    "    "
   ]
  },
  {
   "cell_type": "code",
   "execution_count": 428,
   "metadata": {},
   "outputs": [
    {
     "name": "stdout",
     "output_type": "stream",
     "text": [
      "hello name\n",
      "age 24\n",
      "phone 976\n",
      "addr 23 high stree\n"
     ]
    }
   ],
   "source": [
    "greeting('name', 24, ph='976', addr='23 high stree')"
   ]
  },
  {
   "cell_type": "code",
   "execution_count": 429,
   "metadata": {},
   "outputs": [],
   "source": [
    "def discount(*args):\n",
    "    print(args)"
   ]
  },
  {
   "cell_type": "code",
   "execution_count": 430,
   "metadata": {},
   "outputs": [
    {
     "name": "stdout",
     "output_type": "stream",
     "text": [
      "(1,)\n"
     ]
    }
   ],
   "source": [
    "discount(1)"
   ]
  },
  {
   "cell_type": "code",
   "execution_count": 431,
   "metadata": {},
   "outputs": [
    {
     "name": "stdout",
     "output_type": "stream",
     "text": [
      "(1, 3)\n"
     ]
    }
   ],
   "source": [
    "discount(1,3)"
   ]
  },
  {
   "cell_type": "code",
   "execution_count": 432,
   "metadata": {},
   "outputs": [
    {
     "name": "stdout",
     "output_type": "stream",
     "text": [
      "(1, 34, 5, 6, 7)\n"
     ]
    }
   ],
   "source": [
    "discount(1,34,5,6,7)"
   ]
  },
  {
   "cell_type": "code",
   "execution_count": 434,
   "metadata": {},
   "outputs": [],
   "source": [
    "def discount(*args):\n",
    "    print(args[0])"
   ]
  },
  {
   "cell_type": "code",
   "execution_count": 435,
   "metadata": {},
   "outputs": [
    {
     "name": "stdout",
     "output_type": "stream",
     "text": [
      "1\n"
     ]
    }
   ],
   "source": [
    "discount(1,34,5,6,7)"
   ]
  },
  {
   "cell_type": "code",
   "execution_count": 436,
   "metadata": {},
   "outputs": [],
   "source": [
    "def discount(*args, ph='897', addr=\"24 high\"):\n",
    "    print(args[0])\n",
    "    print(\"ph\", ph)\n",
    "    print(\"addr\", addr)"
   ]
  },
  {
   "cell_type": "code",
   "execution_count": 438,
   "metadata": {},
   "outputs": [
    {
     "name": "stdout",
     "output_type": "stream",
     "text": [
      "1\n",
      "ph 900\n",
      "addr mumbai\n"
     ]
    }
   ],
   "source": [
    "discount(1,34,5,6,7, ph=900, addr='mumbai')"
   ]
  },
  {
   "cell_type": "code",
   "execution_count": 441,
   "metadata": {},
   "outputs": [],
   "source": [
    "def discount(total,discount,*args, ph='897', addr=\"24 high\"):\n",
    "    print(\"total\", total)\n",
    "    print(\"discount\", discount)\n",
    "    print(args)\n",
    "    for i in args:\n",
    "        print(i)\n",
    "    print(\"ph\", ph)\n",
    "    print(\"addr\", addr)"
   ]
  },
  {
   "cell_type": "code",
   "execution_count": null,
   "metadata": {},
   "outputs": [],
   "source": []
  },
  {
   "cell_type": "code",
   "execution_count": 442,
   "metadata": {},
   "outputs": [
    {
     "name": "stdout",
     "output_type": "stream",
     "text": [
      "total 1\n",
      "discount 34\n",
      "(5, 6, 7)\n",
      "5\n",
      "6\n",
      "7\n",
      "ph 900\n",
      "addr mumbai\n"
     ]
    }
   ],
   "source": [
    "discount(1,34,5,6,7, ph=900, addr='mumbai')"
   ]
  },
  {
   "cell_type": "code",
   "execution_count": 448,
   "metadata": {},
   "outputs": [],
   "source": [
    "def discount(total,discount,*args, **kwargs):\n",
    "    print(\"total\", total)\n",
    "    print(\"discount\", discount)\n",
    "    print(args)\n",
    "    print(kwargs)\n",
    "    for i in args:\n",
    "        print(i)\n",
    "    print(\"ph\", kwargs['ph'])\n",
    "    print(\"addr\", kwargs['addr'])"
   ]
  },
  {
   "cell_type": "code",
   "execution_count": null,
   "metadata": {},
   "outputs": [],
   "source": []
  },
  {
   "cell_type": "code",
   "execution_count": null,
   "metadata": {},
   "outputs": [],
   "source": []
  },
  {
   "cell_type": "code",
   "execution_count": null,
   "metadata": {},
   "outputs": [],
   "source": []
  },
  {
   "cell_type": "code",
   "execution_count": 449,
   "metadata": {},
   "outputs": [
    {
     "name": "stdout",
     "output_type": "stream",
     "text": [
      "total 1\n",
      "discount 34\n",
      "(5, 6, 7)\n",
      "{'ph': 900, 'addr': 'mumbai'}\n",
      "5\n",
      "6\n",
      "7\n",
      "ph 900\n",
      "addr mumbai\n"
     ]
    }
   ],
   "source": [
    "discount(1,34,5,6,7, ph=900, addr='mumbai')"
   ]
  },
  {
   "cell_type": "code",
   "execution_count": 450,
   "metadata": {},
   "outputs": [],
   "source": [
    "def add(a, b):\n",
    "    print(a+b)"
   ]
  },
  {
   "cell_type": "code",
   "execution_count": 451,
   "metadata": {},
   "outputs": [
    {
     "name": "stdout",
     "output_type": "stream",
     "text": [
      "9\n"
     ]
    }
   ],
   "source": [
    "add(4,5)"
   ]
  },
  {
   "cell_type": "code",
   "execution_count": 452,
   "metadata": {},
   "outputs": [],
   "source": [
    "y = add"
   ]
  },
  {
   "cell_type": "code",
   "execution_count": 453,
   "metadata": {},
   "outputs": [
    {
     "data": {
      "text/plain": [
       "<function __main__.add(a, b)>"
      ]
     },
     "execution_count": 453,
     "metadata": {},
     "output_type": "execute_result"
    }
   ],
   "source": [
    "y"
   ]
  },
  {
   "cell_type": "code",
   "execution_count": 454,
   "metadata": {},
   "outputs": [
    {
     "name": "stdout",
     "output_type": "stream",
     "text": [
      "9\n"
     ]
    }
   ],
   "source": [
    "y(5,4)"
   ]
  },
  {
   "cell_type": "code",
   "execution_count": null,
   "metadata": {},
   "outputs": [],
   "source": [
    "x = lambda args: expression"
   ]
  },
  {
   "cell_type": "code",
   "execution_count": 455,
   "metadata": {},
   "outputs": [],
   "source": [
    "x = lambda y: y**2"
   ]
  },
  {
   "cell_type": "code",
   "execution_count": 456,
   "metadata": {},
   "outputs": [
    {
     "data": {
      "text/plain": [
       "49"
      ]
     },
     "execution_count": 456,
     "metadata": {},
     "output_type": "execute_result"
    }
   ],
   "source": [
    "x(7)"
   ]
  },
  {
   "cell_type": "code",
   "execution_count": 457,
   "metadata": {},
   "outputs": [
    {
     "data": {
      "text/plain": [
       "<function __main__.<lambda>(y)>"
      ]
     },
     "execution_count": 457,
     "metadata": {},
     "output_type": "execute_result"
    }
   ],
   "source": [
    "x"
   ]
  },
  {
   "cell_type": "code",
   "execution_count": 475,
   "metadata": {},
   "outputs": [],
   "source": [
    "def sqauare(x):\n",
    "    return x**2,10\n",
    "    "
   ]
  },
  {
   "cell_type": "code",
   "execution_count": 476,
   "metadata": {},
   "outputs": [],
   "source": [
    "y = sqauare"
   ]
  },
  {
   "cell_type": "code",
   "execution_count": 477,
   "metadata": {},
   "outputs": [],
   "source": [
    "c = y(7)"
   ]
  },
  {
   "cell_type": "code",
   "execution_count": 478,
   "metadata": {},
   "outputs": [
    {
     "data": {
      "text/plain": [
       "(49, 10)"
      ]
     },
     "execution_count": 478,
     "metadata": {},
     "output_type": "execute_result"
    }
   ],
   "source": [
    "c"
   ]
  },
  {
   "cell_type": "code",
   "execution_count": null,
   "metadata": {},
   "outputs": [],
   "source": []
  },
  {
   "cell_type": "code",
   "execution_count": null,
   "metadata": {},
   "outputs": [],
   "source": []
  },
  {
   "cell_type": "code",
   "execution_count": null,
   "metadata": {},
   "outputs": [],
   "source": []
  },
  {
   "cell_type": "code",
   "execution_count": 466,
   "metadata": {},
   "outputs": [],
   "source": [
    "y = sqauare"
   ]
  },
  {
   "cell_type": "code",
   "execution_count": null,
   "metadata": {},
   "outputs": [],
   "source": []
  },
  {
   "cell_type": "code",
   "execution_count": 467,
   "metadata": {},
   "outputs": [],
   "source": [
    "c = y(7)"
   ]
  },
  {
   "cell_type": "code",
   "execution_count": 469,
   "metadata": {},
   "outputs": [
    {
     "data": {
      "text/plain": [
       "49"
      ]
     },
     "execution_count": 469,
     "metadata": {},
     "output_type": "execute_result"
    }
   ],
   "source": [
    "c[0]"
   ]
  },
  {
   "cell_type": "code",
   "execution_count": 470,
   "metadata": {},
   "outputs": [
    {
     "data": {
      "text/plain": [
       "10"
      ]
     },
     "execution_count": 470,
     "metadata": {},
     "output_type": "execute_result"
    }
   ],
   "source": [
    "c[1]"
   ]
  },
  {
   "cell_type": "code",
   "execution_count": 471,
   "metadata": {},
   "outputs": [
    {
     "data": {
      "text/plain": [
       "(49, 10)"
      ]
     },
     "execution_count": 471,
     "metadata": {},
     "output_type": "execute_result"
    }
   ],
   "source": [
    "c"
   ]
  },
  {
   "cell_type": "code",
   "execution_count": 472,
   "metadata": {},
   "outputs": [],
   "source": [
    "c, f = y(7)"
   ]
  },
  {
   "cell_type": "code",
   "execution_count": 473,
   "metadata": {},
   "outputs": [
    {
     "data": {
      "text/plain": [
       "49"
      ]
     },
     "execution_count": 473,
     "metadata": {},
     "output_type": "execute_result"
    }
   ],
   "source": [
    "c"
   ]
  },
  {
   "cell_type": "code",
   "execution_count": 474,
   "metadata": {},
   "outputs": [
    {
     "data": {
      "text/plain": [
       "10"
      ]
     },
     "execution_count": 474,
     "metadata": {},
     "output_type": "execute_result"
    }
   ],
   "source": [
    "f"
   ]
  },
  {
   "cell_type": "code",
   "execution_count": null,
   "metadata": {},
   "outputs": [],
   "source": []
  },
  {
   "cell_type": "code",
   "execution_count": null,
   "metadata": {},
   "outputs": [],
   "source": []
  },
  {
   "cell_type": "code",
   "execution_count": null,
   "metadata": {},
   "outputs": [],
   "source": []
  },
  {
   "cell_type": "code",
   "execution_count": 462,
   "metadata": {},
   "outputs": [
    {
     "data": {
      "text/plain": [
       "49"
      ]
     },
     "execution_count": 462,
     "metadata": {},
     "output_type": "execute_result"
    }
   ],
   "source": [
    "c"
   ]
  },
  {
   "cell_type": "code",
   "execution_count": 480,
   "metadata": {},
   "outputs": [],
   "source": [
    "def sqauare(x):\n",
    "    return x**2"
   ]
  },
  {
   "cell_type": "code",
   "execution_count": 536,
   "metadata": {},
   "outputs": [
    {
     "data": {
      "text/plain": [
       "[4, 9, 16, 25, 36, 49]"
      ]
     },
     "execution_count": 536,
     "metadata": {},
     "output_type": "execute_result"
    }
   ],
   "source": [
    "list(map(sqauare, (2,3,4,5,6,7)))"
   ]
  },
  {
   "cell_type": "code",
   "execution_count": null,
   "metadata": {},
   "outputs": [],
   "source": []
  },
  {
   "cell_type": "code",
   "execution_count": 484,
   "metadata": {},
   "outputs": [
    {
     "data": {
      "text/plain": [
       "[4, 16, 25, 49, 64]"
      ]
     },
     "execution_count": 484,
     "metadata": {},
     "output_type": "execute_result"
    }
   ],
   "source": [
    "list(map(lambda x: x**2, (2,4,5,7,8,)))"
   ]
  },
  {
   "cell_type": "code",
   "execution_count": 486,
   "metadata": {},
   "outputs": [],
   "source": [
    "u = lambda x,y: x-y if x>y else y-x"
   ]
  },
  {
   "cell_type": "code",
   "execution_count": 487,
   "metadata": {},
   "outputs": [
    {
     "data": {
      "text/plain": [
       "7"
      ]
     },
     "execution_count": 487,
     "metadata": {},
     "output_type": "execute_result"
    }
   ],
   "source": [
    "u(10,3)"
   ]
  },
  {
   "cell_type": "code",
   "execution_count": 488,
   "metadata": {},
   "outputs": [
    {
     "data": {
      "text/plain": [
       "10"
      ]
     },
     "execution_count": 488,
     "metadata": {},
     "output_type": "execute_result"
    }
   ],
   "source": [
    "u(3, 13)"
   ]
  },
  {
   "cell_type": "code",
   "execution_count": 489,
   "metadata": {},
   "outputs": [
    {
     "data": {
      "text/plain": [
       "['PYTHON', 'IS', 'GOOD']"
      ]
     },
     "execution_count": 489,
     "metadata": {},
     "output_type": "execute_result"
    }
   ],
   "source": [
    "[word.upper() for word in ['python', 'is', \"good\"]]"
   ]
  },
  {
   "cell_type": "code",
   "execution_count": 490,
   "metadata": {},
   "outputs": [
    {
     "data": {
      "text/plain": [
       "['PYTHON', 'IS', 'GOOD']"
      ]
     },
     "execution_count": 490,
     "metadata": {},
     "output_type": "execute_result"
    }
   ],
   "source": [
    "list(map(str.upper, ['python', 'is', \"good\"]))"
   ]
  },
  {
   "cell_type": "code",
   "execution_count": 491,
   "metadata": {},
   "outputs": [
    {
     "name": "stdout",
     "output_type": "stream",
     "text": [
      "PYTHON\n",
      "IS\n",
      "GOOD\n"
     ]
    }
   ],
   "source": [
    "for w in ['python', 'is', \"good\"]:\n",
    "    print(w.upper())"
   ]
  },
  {
   "cell_type": "code",
   "execution_count": 493,
   "metadata": {},
   "outputs": [],
   "source": [
    "def outer():\n",
    "    j = 10\n",
    "    i = 8\n",
    "    def inner():\n",
    "        print(i)\n",
    "        print(\"i am inside inner function\")\n",
    "    def inner2():\n",
    "        print('second inner')\n",
    "    inner()\n",
    "    inner2()\n",
    "    return inner, inner2"
   ]
  },
  {
   "cell_type": "code",
   "execution_count": 508,
   "metadata": {},
   "outputs": [
    {
     "ename": "ValueError",
     "evalue": "tuple.index(x): x not in tuple",
     "output_type": "error",
     "traceback": [
      "\u001b[0;31m---------------------------------------------------------------------------\u001b[0m",
      "\u001b[0;31mValueError\u001b[0m                                Traceback (most recent call last)",
      "\u001b[0;32m<ipython-input-508-6da826af6d00>\u001b[0m in \u001b[0;36m<module>\u001b[0;34m\u001b[0m\n\u001b[0;32m----> 1\u001b[0;31m \u001b[0mv\u001b[0m \u001b[0;34m=\u001b[0m \u001b[0mp\u001b[0m\u001b[0;34m.\u001b[0m\u001b[0mindex\u001b[0m\u001b[0;34m(\u001b[0m\u001b[0;36m0\u001b[0m\u001b[0;34m)\u001b[0m\u001b[0;34m\u001b[0m\u001b[0;34m\u001b[0m\u001b[0m\n\u001b[0m",
      "\u001b[0;31mValueError\u001b[0m: tuple.index(x): x not in tuple"
     ]
    }
   ],
   "source": [
    "v = p.index(0)"
   ]
  },
  {
   "cell_type": "code",
   "execution_count": null,
   "metadata": {},
   "outputs": [],
   "source": []
  },
  {
   "cell_type": "code",
   "execution_count": 509,
   "metadata": {
    "scrolled": true
   },
   "outputs": [
    {
     "name": "stdout",
     "output_type": "stream",
     "text": [
      "8\n",
      "i am inside inner function\n",
      "second inner\n"
     ]
    }
   ],
   "source": [
    "p = outer()"
   ]
  },
  {
   "cell_type": "code",
   "execution_count": 510,
   "metadata": {},
   "outputs": [
    {
     "ename": "ValueError",
     "evalue": "tuple.index(x): x not in tuple",
     "output_type": "error",
     "traceback": [
      "\u001b[0;31m---------------------------------------------------------------------------\u001b[0m",
      "\u001b[0;31mValueError\u001b[0m                                Traceback (most recent call last)",
      "\u001b[0;32m<ipython-input-510-9ddd8c0d1b16>\u001b[0m in \u001b[0;36m<module>\u001b[0;34m\u001b[0m\n\u001b[0;32m----> 1\u001b[0;31m \u001b[0mp\u001b[0m\u001b[0;34m.\u001b[0m\u001b[0mindex\u001b[0m\u001b[0;34m(\u001b[0m\u001b[0;36m0\u001b[0m\u001b[0;34m)\u001b[0m\u001b[0;34m\u001b[0m\u001b[0;34m\u001b[0m\u001b[0m\n\u001b[0m",
      "\u001b[0;31mValueError\u001b[0m: tuple.index(x): x not in tuple"
     ]
    }
   ],
   "source": [
    "p.index(0)"
   ]
  },
  {
   "cell_type": "code",
   "execution_count": null,
   "metadata": {},
   "outputs": [],
   "source": []
  },
  {
   "cell_type": "code",
   "execution_count": 495,
   "metadata": {},
   "outputs": [
    {
     "data": {
      "text/plain": [
       "(<function __main__.outer.<locals>.inner()>,\n",
       " <function __main__.outer.<locals>.inner2()>)"
      ]
     },
     "execution_count": 495,
     "metadata": {},
     "output_type": "execute_result"
    }
   ],
   "source": [
    "p"
   ]
  },
  {
   "cell_type": "code",
   "execution_count": 496,
   "metadata": {},
   "outputs": [
    {
     "name": "stdout",
     "output_type": "stream",
     "text": [
      "8\n",
      "i am inside inner function\n"
     ]
    }
   ],
   "source": [
    "p[0]()"
   ]
  },
  {
   "cell_type": "code",
   "execution_count": 497,
   "metadata": {},
   "outputs": [
    {
     "name": "stdout",
     "output_type": "stream",
     "text": [
      "second inner\n"
     ]
    }
   ],
   "source": [
    "p[1]()"
   ]
  },
  {
   "cell_type": "code",
   "execution_count": 498,
   "metadata": {},
   "outputs": [
    {
     "name": "stdout",
     "output_type": "stream",
     "text": [
      "8\n",
      "i am inside inner function\n",
      "second inner\n"
     ]
    }
   ],
   "source": [
    "for i in p:\n",
    "    i()\n",
    "    "
   ]
  },
  {
   "cell_type": "code",
   "execution_count": 499,
   "metadata": {},
   "outputs": [
    {
     "name": "stdout",
     "output_type": "stream",
     "text": [
      "8\n",
      "i am inside inner function\n",
      "second inner\n"
     ]
    }
   ],
   "source": [
    "p1, p2 = outer()"
   ]
  },
  {
   "cell_type": "code",
   "execution_count": 500,
   "metadata": {},
   "outputs": [
    {
     "name": "stdout",
     "output_type": "stream",
     "text": [
      "8\n",
      "i am inside inner function\n"
     ]
    }
   ],
   "source": [
    "p1()"
   ]
  },
  {
   "cell_type": "code",
   "execution_count": 501,
   "metadata": {},
   "outputs": [
    {
     "name": "stdout",
     "output_type": "stream",
     "text": [
      "second inner\n"
     ]
    }
   ],
   "source": [
    "p2()"
   ]
  },
  {
   "cell_type": "code",
   "execution_count": 502,
   "metadata": {},
   "outputs": [
    {
     "data": {
      "text/plain": [
       "['__add__',\n",
       " '__class__',\n",
       " '__contains__',\n",
       " '__delattr__',\n",
       " '__dir__',\n",
       " '__doc__',\n",
       " '__eq__',\n",
       " '__format__',\n",
       " '__ge__',\n",
       " '__getattribute__',\n",
       " '__getitem__',\n",
       " '__getnewargs__',\n",
       " '__gt__',\n",
       " '__hash__',\n",
       " '__init__',\n",
       " '__init_subclass__',\n",
       " '__iter__',\n",
       " '__le__',\n",
       " '__len__',\n",
       " '__lt__',\n",
       " '__mul__',\n",
       " '__ne__',\n",
       " '__new__',\n",
       " '__reduce__',\n",
       " '__reduce_ex__',\n",
       " '__repr__',\n",
       " '__rmul__',\n",
       " '__setattr__',\n",
       " '__sizeof__',\n",
       " '__str__',\n",
       " '__subclasshook__',\n",
       " 'count',\n",
       " 'index']"
      ]
     },
     "execution_count": 502,
     "metadata": {},
     "output_type": "execute_result"
    }
   ],
   "source": [
    "dir(p)"
   ]
  },
  {
   "cell_type": "code",
   "execution_count": 507,
   "metadata": {},
   "outputs": [
    {
     "ename": "ValueError",
     "evalue": "tuple.index(x): x not in tuple",
     "output_type": "error",
     "traceback": [
      "\u001b[0;31m---------------------------------------------------------------------------\u001b[0m",
      "\u001b[0;31mValueError\u001b[0m                                Traceback (most recent call last)",
      "\u001b[0;32m<ipython-input-507-9ddd8c0d1b16>\u001b[0m in \u001b[0;36m<module>\u001b[0;34m\u001b[0m\n\u001b[0;32m----> 1\u001b[0;31m \u001b[0mp\u001b[0m\u001b[0;34m.\u001b[0m\u001b[0mindex\u001b[0m\u001b[0;34m(\u001b[0m\u001b[0;36m0\u001b[0m\u001b[0;34m)\u001b[0m\u001b[0;34m\u001b[0m\u001b[0;34m\u001b[0m\u001b[0m\n\u001b[0m",
      "\u001b[0;31mValueError\u001b[0m: tuple.index(x): x not in tuple"
     ]
    }
   ],
   "source": []
  },
  {
   "cell_type": "code",
   "execution_count": null,
   "metadata": {},
   "outputs": [],
   "source": []
  },
  {
   "cell_type": "code",
   "execution_count": 506,
   "metadata": {},
   "outputs": [
    {
     "data": {
      "text/plain": [
       "2"
      ]
     },
     "execution_count": 506,
     "metadata": {},
     "output_type": "execute_result"
    }
   ],
   "source": [
    "len(p)"
   ]
  },
  {
   "cell_type": "code",
   "execution_count": 515,
   "metadata": {},
   "outputs": [],
   "source": [
    "def outer(f): #2 \n",
    "    def inner():\n",
    "        result = f()  \n",
    "        return result**2\n",
    "    return inner #3"
   ]
  },
  {
   "cell_type": "code",
   "execution_count": null,
   "metadata": {},
   "outputs": [],
   "source": []
  },
  {
   "cell_type": "code",
   "execution_count": null,
   "metadata": {},
   "outputs": [],
   "source": []
  },
  {
   "cell_type": "code",
   "execution_count": 516,
   "metadata": {},
   "outputs": [],
   "source": [
    "def num():\n",
    "    return 5 #1"
   ]
  },
  {
   "cell_type": "code",
   "execution_count": null,
   "metadata": {},
   "outputs": [],
   "source": []
  },
  {
   "cell_type": "code",
   "execution_count": 520,
   "metadata": {},
   "outputs": [],
   "source": [
    "p = outer(num) #1"
   ]
  },
  {
   "cell_type": "code",
   "execution_count": 521,
   "metadata": {},
   "outputs": [
    {
     "data": {
      "text/plain": [
       "<function __main__.outer.<locals>.inner()>"
      ]
     },
     "execution_count": 521,
     "metadata": {},
     "output_type": "execute_result"
    }
   ],
   "source": [
    "p"
   ]
  },
  {
   "cell_type": "code",
   "execution_count": null,
   "metadata": {},
   "outputs": [],
   "source": []
  },
  {
   "cell_type": "code",
   "execution_count": 519,
   "metadata": {},
   "outputs": [
    {
     "data": {
      "text/plain": [
       "25"
      ]
     },
     "execution_count": 519,
     "metadata": {},
     "output_type": "execute_result"
    }
   ],
   "source": [
    "p()"
   ]
  },
  {
   "cell_type": "code",
   "execution_count": 522,
   "metadata": {},
   "outputs": [
    {
     "ename": "NameError",
     "evalue": "name 'inner' is not defined",
     "output_type": "error",
     "traceback": [
      "\u001b[0;31m---------------------------------------------------------------------------\u001b[0m",
      "\u001b[0;31mNameError\u001b[0m                                 Traceback (most recent call last)",
      "\u001b[0;32m<ipython-input-522-bc10f1654870>\u001b[0m in \u001b[0;36m<module>\u001b[0;34m\u001b[0m\n\u001b[0;32m----> 1\u001b[0;31m \u001b[0minner\u001b[0m\u001b[0;34m(\u001b[0m\u001b[0;34m)\u001b[0m\u001b[0;34m\u001b[0m\u001b[0;34m\u001b[0m\u001b[0m\n\u001b[0m",
      "\u001b[0;31mNameError\u001b[0m: name 'inner' is not defined"
     ]
    }
   ],
   "source": [
    "inner()"
   ]
  },
  {
   "cell_type": "code",
   "execution_count": 523,
   "metadata": {},
   "outputs": [],
   "source": [
    "def outer(f): #2 \n",
    "    def inner():\n",
    "        result = f() #num()  \n",
    "        return result**2\n",
    "    return inner #3"
   ]
  },
  {
   "cell_type": "code",
   "execution_count": 526,
   "metadata": {},
   "outputs": [],
   "source": [
    "@outer\n",
    "def num():\n",
    "    return 5"
   ]
  },
  {
   "cell_type": "code",
   "execution_count": 528,
   "metadata": {},
   "outputs": [],
   "source": [
    "@outer\n",
    "def sum():\n",
    "    return 10+3"
   ]
  },
  {
   "cell_type": "code",
   "execution_count": 529,
   "metadata": {},
   "outputs": [
    {
     "name": "stdout",
     "output_type": "stream",
     "text": [
      "169\n"
     ]
    }
   ],
   "source": [
    "print(sum())"
   ]
  },
  {
   "cell_type": "code",
   "execution_count": null,
   "metadata": {},
   "outputs": [],
   "source": []
  },
  {
   "cell_type": "code",
   "execution_count": 527,
   "metadata": {},
   "outputs": [
    {
     "name": "stdout",
     "output_type": "stream",
     "text": [
      "25\n"
     ]
    }
   ],
   "source": [
    "print(num())"
   ]
  },
  {
   "cell_type": "code",
   "execution_count": 533,
   "metadata": {},
   "outputs": [],
   "source": [
    "def outer(f): \n",
    "    def inner(n1, n2):\n",
    "        result = f(n1, n2)  #num(19,4)\n",
    "        return result**2\n",
    "    return inner"
   ]
  },
  {
   "cell_type": "code",
   "execution_count": null,
   "metadata": {},
   "outputs": [],
   "source": []
  },
  {
   "cell_type": "code",
   "execution_count": 534,
   "metadata": {},
   "outputs": [],
   "source": [
    "@outer\n",
    "def num(n1, n2):\n",
    "    return n1+n2+5"
   ]
  },
  {
   "cell_type": "code",
   "execution_count": null,
   "metadata": {},
   "outputs": [],
   "source": []
  },
  {
   "cell_type": "code",
   "execution_count": null,
   "metadata": {},
   "outputs": [],
   "source": []
  },
  {
   "cell_type": "code",
   "execution_count": 535,
   "metadata": {},
   "outputs": [
    {
     "name": "stdout",
     "output_type": "stream",
     "text": [
      "784\n"
     ]
    }
   ],
   "source": [
    "print(num(1,2))"
   ]
  },
  {
   "cell_type": "code",
   "execution_count": 537,
   "metadata": {},
   "outputs": [
    {
     "name": "stdout",
     "output_type": "stream",
     "text": [
      "hi\n"
     ]
    }
   ],
   "source": [
    "print(\"hi\")"
   ]
  },
  {
   "cell_type": "code",
   "execution_count": 538,
   "metadata": {},
   "outputs": [
    {
     "data": {
      "text/plain": [
       "[2, 4, 6, 8]"
      ]
     },
     "execution_count": 538,
     "metadata": {},
     "output_type": "execute_result"
    }
   ],
   "source": [
    "list_1 = [1,2,3,4,5,6,7,8,9]\n",
    "list(filter(lambda x: x%2==0, list_1))\n"
   ]
  },
  {
   "cell_type": "code",
   "execution_count": 547,
   "metadata": {},
   "outputs": [],
   "source": [
    "def validate(func):\n",
    "    def validator(*args, **kwargs):\n",
    "        print(args, kwargs)\n",
    "        if len(args) > 1:\n",
    "            if args[1] == 0:\n",
    "                print(\"we are expecting the non zero value\")\n",
    "                return None\n",
    "            else:\n",
    "                power = func(args[0], args[1])\n",
    "                return power\n",
    "        else:\n",
    "            print(\"Invalid args\")\n",
    "    return validator"
   ]
  },
  {
   "cell_type": "code",
   "execution_count": null,
   "metadata": {},
   "outputs": [],
   "source": []
  },
  {
   "cell_type": "code",
   "execution_count": null,
   "metadata": {},
   "outputs": [],
   "source": []
  },
  {
   "cell_type": "code",
   "execution_count": null,
   "metadata": {},
   "outputs": [],
   "source": []
  },
  {
   "cell_type": "code",
   "execution_count": 545,
   "metadata": {},
   "outputs": [],
   "source": [
    "import math\n",
    "@validate\n",
    "def mypower(x,y):\n",
    "    return math.pow(x,y)"
   ]
  },
  {
   "cell_type": "code",
   "execution_count": null,
   "metadata": {},
   "outputs": [],
   "source": []
  },
  {
   "cell_type": "code",
   "execution_count": 549,
   "metadata": {},
   "outputs": [
    {
     "name": "stdout",
     "output_type": "stream",
     "text": [
      "() {}\n",
      "Invalid args\n",
      "None\n"
     ]
    }
   ],
   "source": [
    "mypower()"
   ]
  },
  {
   "cell_type": "code",
   "execution_count": 551,
   "metadata": {},
   "outputs": [
    {
     "name": "stdout",
     "output_type": "stream",
     "text": [
      "The positional arguments are ()\n",
      "The keyword arguments are {}\n",
      "The positional arguments are ()\n",
      "The keyword arguments are {}\n",
      "The positional arguments are ()\n",
      "The keyword arguments are {}\n",
      "The positional arguments are ()\n",
      "The keyword arguments are {}\n",
      "The positional arguments are ()\n",
      "The keyword arguments are {}\n",
      "The positional arguments are ()\n",
      "The keyword arguments are {}\n",
      "The positional arguments are ()\n",
      "The keyword arguments are {}\n",
      "The positional arguments are ()\n",
      "The keyword arguments are {}\n",
      "The positional arguments are ()\n",
      "The keyword arguments are {}\n",
      "The positional arguments are ()\n",
      "The keyword arguments are {}\n",
      "The positional arguments are ()\n",
      "The keyword arguments are {}\n",
      "The positional arguments are ()\n",
      "The keyword arguments are {}\n",
      "The positional arguments are ()\n",
      "The keyword arguments are {}\n",
      "The positional arguments are ()\n",
      "The keyword arguments are {}\n",
      "The positional arguments are ()\n",
      "The keyword arguments are {}\n",
      "The positional arguments are ()\n",
      "The keyword arguments are {}\n",
      "The positional arguments are ()\n",
      "The keyword arguments are {}\n",
      "The positional arguments are ()\n",
      "The keyword arguments are {}\n",
      "The positional arguments are ()\n",
      "The keyword arguments are {}\n",
      "The positional arguments are ()\n",
      "The keyword arguments are {}\n",
      "The positional arguments are ()\n",
      "The keyword arguments are {}\n",
      "The positional arguments are ()\n",
      "The keyword arguments are {}\n",
      "The positional arguments are ()\n",
      "The keyword arguments are {}\n",
      "The positional arguments are ()\n",
      "The keyword arguments are {}\n",
      "The positional arguments are ()\n",
      "The keyword arguments are {}\n",
      "The positional arguments are ()\n",
      "The keyword arguments are {}\n",
      "The positional arguments are ()\n",
      "The keyword arguments are {}\n",
      "The positional arguments are ()\n",
      "The keyword arguments are {}\n",
      "The positional arguments are ()\n",
      "The keyword arguments are {}\n",
      "The positional arguments are ()\n",
      "The keyword arguments are {}\n",
      "The positional arguments are ()\n",
      "The keyword arguments are {}\n",
      "The positional arguments are ()\n",
      "The keyword arguments are {}\n",
      "The positional arguments are ()\n",
      "The keyword arguments are {}\n",
      "The positional arguments are ()\n",
      "The keyword arguments are {}\n",
      "The positional arguments are ()\n",
      "The keyword arguments are {}\n",
      "The positional arguments are ()\n",
      "The keyword arguments are {}\n",
      "The positional arguments are ()\n",
      "The keyword arguments are {}\n",
      "The positional arguments are ()\n",
      "The keyword arguments are {}\n",
      "The positional arguments are ()\n",
      "The keyword arguments are {}\n",
      "The positional arguments are ()\n",
      "The keyword arguments are {}\n",
      "The positional arguments are ()\n",
      "The keyword arguments are {}\n",
      "The positional arguments are ()\n",
      "The keyword arguments are {}\n",
      "The positional arguments are ()\n",
      "The keyword arguments are {}\n",
      "The positional arguments are ()\n",
      "The keyword arguments are {}\n",
      "The positional arguments are ()\n",
      "The keyword arguments are {}\n",
      "The positional arguments are ()\n",
      "The keyword arguments are {}\n",
      "The positional arguments are ()\n",
      "The keyword arguments are {}\n",
      "The positional arguments are ()\n",
      "The keyword arguments are {}\n",
      "The positional arguments are ()\n",
      "The keyword arguments are {}\n",
      "The positional arguments are ()\n",
      "The keyword arguments are {}\n",
      "The positional arguments are ()\n",
      "The keyword arguments are {}\n",
      "The positional arguments are ()\n",
      "The keyword arguments are {}\n",
      "The positional arguments are ()\n",
      "The keyword arguments are {}\n",
      "The positional arguments are ()\n",
      "The keyword arguments are {}\n",
      "The positional arguments are ()\n",
      "The keyword arguments are {}\n",
      "The positional arguments are ()\n",
      "The keyword arguments are {}\n",
      "The positional arguments are ()\n",
      "The keyword arguments are {}\n",
      "The positional arguments are ()\n",
      "The keyword arguments are {}\n",
      "The positional arguments are ()\n",
      "The keyword arguments are {}\n",
      "The positional arguments are ()\n",
      "The keyword arguments are {}\n",
      "The positional arguments are ()\n",
      "The keyword arguments are {}\n",
      "The positional arguments are ()\n",
      "The keyword arguments are {}\n",
      "The positional arguments are ()\n",
      "The keyword arguments are {}\n",
      "The positional arguments are ()\n",
      "The keyword arguments are {}\n",
      "The positional arguments are ()\n",
      "The keyword arguments are {}\n",
      "The positional arguments are ()\n",
      "The keyword arguments are {}\n",
      "The positional arguments are ()\n",
      "The keyword arguments are {}\n",
      "The positional arguments are ()\n",
      "The keyword arguments are {}\n",
      "The positional arguments are ()\n",
      "The keyword arguments are {}\n",
      "The positional arguments are ()\n",
      "The keyword arguments are {}\n",
      "The positional arguments are ()\n",
      "The keyword arguments are {}\n",
      "The positional arguments are ()\n",
      "The keyword arguments are {}\n",
      "The positional arguments are ()\n",
      "The keyword arguments are {}\n",
      "The positional arguments are ()\n",
      "The keyword arguments are {}\n",
      "The positional arguments are ()\n",
      "The keyword arguments are {}\n",
      "The positional arguments are ()\n",
      "The keyword arguments are {}\n",
      "The positional arguments are ()\n",
      "The keyword arguments are {}\n",
      "The positional arguments are ()\n",
      "The keyword arguments are {}\n",
      "The positional arguments are ()\n",
      "The keyword arguments are {}\n",
      "The positional arguments are ()\n",
      "The keyword arguments are {}\n",
      "The positional arguments are ()\n",
      "The keyword arguments are {}\n",
      "The positional arguments are ()\n",
      "The keyword arguments are {}\n",
      "The positional arguments are ()\n",
      "The keyword arguments are {}\n",
      "The positional arguments are ()\n",
      "The keyword arguments are {}\n",
      "The positional arguments are ()\n",
      "The keyword arguments are {}\n",
      "The positional arguments are ()\n",
      "The keyword arguments are {}\n",
      "The positional arguments are ()\n",
      "The keyword arguments are {}\n",
      "The positional arguments are ()\n",
      "The keyword arguments are {}\n",
      "The positional arguments are ()\n",
      "The keyword arguments are {}\n",
      "The positional arguments are ()\n",
      "The keyword arguments are {}\n",
      "The positional arguments are ()\n",
      "The keyword arguments are {}\n",
      "The positional arguments are ()\n",
      "The keyword arguments are {}\n",
      "The positional arguments are ()\n",
      "The keyword arguments are {}\n",
      "The positional arguments are ()\n",
      "The keyword arguments are {}\n",
      "The positional arguments are ()\n",
      "The keyword arguments are {}\n",
      "The positional arguments are ()\n",
      "The keyword arguments are {}\n",
      "The positional arguments are ()\n",
      "The keyword arguments are {}\n",
      "The positional arguments are ()\n",
      "The keyword arguments are {}\n",
      "The positional arguments are ()\n",
      "The keyword arguments are {}\n",
      "The positional arguments are ()\n",
      "The keyword arguments are {}\n",
      "The positional arguments are ()\n",
      "The keyword arguments are {}\n",
      "The positional arguments are ()\n",
      "The keyword arguments are {}\n",
      "The positional arguments are ()\n",
      "The keyword arguments are {}\n",
      "The positional arguments are ()\n",
      "The keyword arguments are {}\n",
      "The positional arguments are ()\n",
      "The keyword arguments are {}\n",
      "The positional arguments are ()\n",
      "The keyword arguments are {}\n",
      "The positional arguments are ()\n",
      "The keyword arguments are {}\n",
      "The positional arguments are ()\n",
      "The keyword arguments are {}\n",
      "The positional arguments are ()\n",
      "The keyword arguments are {}\n",
      "The positional arguments are ()\n",
      "The keyword arguments are {}\n",
      "The positional arguments are ()\n",
      "The keyword arguments are {}\n",
      "The positional arguments are ()\n",
      "The keyword arguments are {}\n",
      "The positional arguments are ()\n",
      "The keyword arguments are {}\n",
      "The positional arguments are ()\n",
      "The keyword arguments are {}\n",
      "The positional arguments are ()\n",
      "The keyword arguments are {}\n",
      "The positional arguments are ()\n",
      "The keyword arguments are {}\n",
      "The positional arguments are ()\n",
      "The keyword arguments are {}\n",
      "The positional arguments are ()\n",
      "The keyword arguments are {}\n",
      "The positional arguments are ()\n",
      "The keyword arguments are {}\n",
      "The positional arguments are ()\n",
      "The keyword arguments are {}\n",
      "The positional arguments are ()\n",
      "The keyword arguments are {}\n",
      "The positional arguments are ()\n",
      "The keyword arguments are {}\n",
      "The positional arguments are ()\n",
      "The keyword arguments are {}\n",
      "The positional arguments are ()\n",
      "The keyword arguments are {}\n",
      "The positional arguments are ()\n",
      "The keyword arguments are {}\n",
      "The positional arguments are ()\n",
      "The keyword arguments are {}\n",
      "The positional arguments are ()\n",
      "The keyword arguments are {}\n",
      "The positional arguments are ()\n",
      "The keyword arguments are {}\n",
      "The positional arguments are ()\n",
      "The keyword arguments are {}\n",
      "The positional arguments are ()\n",
      "The keyword arguments are {}\n",
      "The positional arguments are ()\n",
      "The keyword arguments are {}\n",
      "The positional arguments are ()\n",
      "The keyword arguments are {}\n",
      "The positional arguments are ()\n",
      "The keyword arguments are {}\n",
      "The positional arguments are ()\n",
      "The keyword arguments are {}\n",
      "The positional arguments are ()\n",
      "The keyword arguments are {}\n",
      "The positional arguments are ()\n",
      "The keyword arguments are {}\n",
      "The positional arguments are ()\n",
      "The keyword arguments are {}\n",
      "The positional arguments are ()\n",
      "The keyword arguments are {}\n",
      "The positional arguments are ()\n",
      "The keyword arguments are {}\n",
      "The positional arguments are ()\n",
      "The keyword arguments are {}\n",
      "The positional arguments are ()\n",
      "The keyword arguments are {}\n",
      "The positional arguments are ()\n",
      "The keyword arguments are {}\n",
      "The positional arguments are ()\n",
      "The keyword arguments are {}\n",
      "The positional arguments are ()\n",
      "The keyword arguments are {}\n",
      "The positional arguments are ()\n",
      "The keyword arguments are {}\n",
      "The positional arguments are ()\n",
      "The keyword arguments are {}\n",
      "The positional arguments are ()\n",
      "The keyword arguments are {}\n",
      "The positional arguments are ()\n",
      "The keyword arguments are {}\n",
      "The positional arguments are ()\n",
      "The keyword arguments are {}\n",
      "The positional arguments are ()\n",
      "The keyword arguments are {}\n",
      "The positional arguments are ()\n",
      "The keyword arguments are {}\n",
      "The positional arguments are ()\n",
      "The keyword arguments are {}\n",
      "The positional arguments are ()\n",
      "The keyword arguments are {}\n",
      "The positional arguments are ()\n",
      "The keyword arguments are {}\n",
      "The positional arguments are ()\n",
      "The keyword arguments are {}\n",
      "The positional arguments are ()\n",
      "The keyword arguments are {}\n",
      "The positional arguments are ()\n",
      "The keyword arguments are {}\n",
      "The positional arguments are ()\n",
      "The keyword arguments are {}\n",
      "The positional arguments are ()\n",
      "The keyword arguments are {}\n",
      "The positional arguments are ()\n",
      "The keyword arguments are {}\n",
      "The positional arguments are ()\n",
      "The keyword arguments are {}\n",
      "The positional arguments are ()\n",
      "The keyword arguments are {}\n",
      "The positional arguments are ()\n",
      "The keyword arguments are {}\n",
      "The positional arguments are ()\n",
      "The keyword arguments are {}\n",
      "The positional arguments are ()\n",
      "The keyword arguments are {}\n",
      "The positional arguments are ()\n",
      "The keyword arguments are {}\n",
      "The positional arguments are ()\n",
      "The keyword arguments are {}\n",
      "The positional arguments are ()\n",
      "The keyword arguments are {}\n",
      "The positional arguments are ()\n",
      "The keyword arguments are {}\n",
      "The positional arguments are ()\n",
      "The keyword arguments are {}\n",
      "The positional arguments are ()\n",
      "The keyword arguments are {}\n",
      "The positional arguments are ()\n",
      "The keyword arguments are {}\n",
      "The positional arguments are ()\n",
      "The keyword arguments are {}\n",
      "The positional arguments are ()\n",
      "The keyword arguments are {}\n",
      "The positional arguments are ()\n",
      "The keyword arguments are {}\n",
      "The positional arguments are ()\n",
      "The keyword arguments are {}\n",
      "The positional arguments are ()\n",
      "The keyword arguments are {}\n",
      "The positional arguments are ()\n",
      "The keyword arguments are {}\n",
      "The positional arguments are ()\n",
      "The keyword arguments are {}\n",
      "The positional arguments are ()\n",
      "The keyword arguments are {}\n",
      "The positional arguments are ()\n",
      "The keyword arguments are {}\n",
      "The positional arguments are ()\n",
      "The keyword arguments are {}\n",
      "The positional arguments are ()\n",
      "The keyword arguments are {}\n",
      "The positional arguments are ()\n",
      "The keyword arguments are {}\n",
      "The positional arguments are ()\n",
      "The keyword arguments are {}\n",
      "The positional arguments are ()\n",
      "The keyword arguments are {}\n",
      "The positional arguments are ()\n",
      "The keyword arguments are {}\n",
      "The positional arguments are ()\n",
      "The keyword arguments are {}\n",
      "The positional arguments are ()\n",
      "The keyword arguments are {}\n",
      "The positional arguments are ()\n",
      "The keyword arguments are {}\n",
      "The positional arguments are ()\n",
      "The keyword arguments are {}\n",
      "The positional arguments are ()\n",
      "The keyword arguments are {}\n",
      "The positional arguments are ()\n",
      "The keyword arguments are {}\n",
      "The positional arguments are ()\n",
      "The keyword arguments are {}\n",
      "The positional arguments are ()\n",
      "The keyword arguments are {}\n",
      "The positional arguments are ()\n",
      "The keyword arguments are {}\n",
      "The positional arguments are ()\n",
      "The keyword arguments are {}\n",
      "The positional arguments are ()\n",
      "The keyword arguments are {}\n",
      "The positional arguments are ()\n",
      "The keyword arguments are {}\n",
      "The positional arguments are ()\n",
      "The keyword arguments are {}\n",
      "The positional arguments are ()\n",
      "The keyword arguments are {}\n",
      "The positional arguments are ()\n",
      "The keyword arguments are {}\n",
      "The positional arguments are ()\n",
      "The keyword arguments are {}\n",
      "The positional arguments are ()\n",
      "The keyword arguments are {}\n",
      "The positional arguments are ()\n",
      "The keyword arguments are {}\n",
      "The positional arguments are ()\n",
      "The keyword arguments are {}\n",
      "The positional arguments are ()\n",
      "The keyword arguments are {}\n",
      "The positional arguments are ()\n",
      "The keyword arguments are {}\n",
      "The positional arguments are ()\n",
      "The keyword arguments are {}\n",
      "The positional arguments are ()\n",
      "The keyword arguments are {}\n",
      "The positional arguments are ()\n",
      "The keyword arguments are {}\n",
      "The positional arguments are ()\n",
      "The keyword arguments are {}\n",
      "The positional arguments are ()\n",
      "The keyword arguments are {}\n",
      "The positional arguments are ()\n",
      "The keyword arguments are {}\n",
      "The positional arguments are ()\n",
      "The keyword arguments are {}\n",
      "The positional arguments are ()\n",
      "The keyword arguments are {}\n",
      "The positional arguments are ()\n",
      "The keyword arguments are {}\n",
      "The positional arguments are ()\n",
      "The keyword arguments are {}\n",
      "The positional arguments are ()\n",
      "The keyword arguments are {}\n",
      "The positional arguments are ()\n",
      "The keyword arguments are {}\n",
      "The positional arguments are ()\n",
      "The keyword arguments are {}\n",
      "The positional arguments are ()\n",
      "The keyword arguments are {}\n",
      "The positional arguments are ()\n",
      "The keyword arguments are {}\n",
      "The positional arguments are ()\n",
      "The keyword arguments are {}\n",
      "The positional arguments are ()\n",
      "The keyword arguments are {}\n",
      "The positional arguments are ()\n",
      "The keyword arguments are {}\n",
      "The positional arguments are ()\n",
      "The keyword arguments are {}\n",
      "The positional arguments are ()\n",
      "The keyword arguments are {}\n",
      "The positional arguments are ()\n",
      "The keyword arguments are {}\n",
      "The positional arguments are ()\n",
      "The keyword arguments are {}\n",
      "The positional arguments are ()\n",
      "The keyword arguments are {}\n",
      "The positional arguments are ()\n",
      "The keyword arguments are {}\n",
      "The positional arguments are ()\n",
      "The keyword arguments are {}\n",
      "The positional arguments are ()\n",
      "The keyword arguments are {}\n",
      "The positional arguments are ()\n",
      "The keyword arguments are {}\n",
      "The positional arguments are ()\n",
      "The keyword arguments are {}\n",
      "The positional arguments are ()\n",
      "The keyword arguments are {}\n",
      "The positional arguments are ()\n",
      "The keyword arguments are {}\n",
      "The positional arguments are ()\n",
      "The keyword arguments are {}\n",
      "The positional arguments are ()\n",
      "The keyword arguments are {}\n",
      "The positional arguments are ()\n",
      "The keyword arguments are {}\n",
      "The positional arguments are ()\n",
      "The keyword arguments are {}\n",
      "The positional arguments are ()\n",
      "The keyword arguments are {}\n",
      "The positional arguments are ()\n",
      "The keyword arguments are {}\n",
      "The positional arguments are ()\n",
      "The keyword arguments are {}\n",
      "The positional arguments are ()\n",
      "The keyword arguments are {}\n",
      "The positional arguments are ()\n",
      "The keyword arguments are {}\n",
      "The positional arguments are ()\n",
      "The keyword arguments are {}\n",
      "The positional arguments are ()\n",
      "The keyword arguments are {}\n",
      "The positional arguments are ()\n",
      "The keyword arguments are {}\n",
      "The positional arguments are ()\n",
      "The keyword arguments are {}\n",
      "The positional arguments are ()\n",
      "The keyword arguments are {}\n",
      "The positional arguments are ()\n",
      "The keyword arguments are {}\n",
      "The positional arguments are ()\n",
      "The keyword arguments are {}\n",
      "The positional arguments are ()\n",
      "The keyword arguments are {}\n",
      "The positional arguments are ()\n",
      "The keyword arguments are {}\n",
      "The positional arguments are ()\n",
      "The keyword arguments are {}\n",
      "The positional arguments are ()\n",
      "The keyword arguments are {}\n",
      "The positional arguments are ()\n",
      "The keyword arguments are {}\n",
      "The positional arguments are ()\n",
      "The keyword arguments are {}\n",
      "The positional arguments are ()\n",
      "The keyword arguments are {}\n",
      "The positional arguments are ()\n",
      "The keyword arguments are {}\n",
      "The positional arguments are ()\n",
      "The keyword arguments are {}\n",
      "The positional arguments are ()\n",
      "The keyword arguments are {}\n",
      "The positional arguments are ()\n",
      "The keyword arguments are {}\n",
      "The positional arguments are ()\n",
      "The keyword arguments are {}\n",
      "The positional arguments are ()\n",
      "The keyword arguments are {}\n",
      "The positional arguments are ()\n",
      "The keyword arguments are {}\n",
      "The positional arguments are ()\n",
      "The keyword arguments are {}\n",
      "The positional arguments are ()\n",
      "The keyword arguments are {}\n",
      "The positional arguments are ()\n",
      "The keyword arguments are {}\n",
      "The positional arguments are ()\n",
      "The keyword arguments are {}\n",
      "The positional arguments are ()\n",
      "The keyword arguments are {}\n",
      "The positional arguments are ()\n",
      "The keyword arguments are {}\n",
      "The positional arguments are ()\n",
      "The keyword arguments are {}\n",
      "The positional arguments are ()\n",
      "The keyword arguments are {}\n",
      "The positional arguments are ()\n",
      "The keyword arguments are {}\n",
      "The positional arguments are ()\n",
      "The keyword arguments are {}\n",
      "The positional arguments are ()\n",
      "The keyword arguments are {}\n",
      "The positional arguments are ()\n",
      "The keyword arguments are {}\n",
      "The positional arguments are ()\n",
      "The keyword arguments are {}\n",
      "The positional arguments are ()\n",
      "The keyword arguments are {}\n",
      "The positional arguments are ()\n",
      "The keyword arguments are {}\n",
      "The positional arguments are ()\n",
      "The keyword arguments are {}\n",
      "The positional arguments are ()\n",
      "The keyword arguments are {}\n",
      "The positional arguments are ()\n",
      "The keyword arguments are {}\n",
      "The positional arguments are ()\n",
      "The keyword arguments are {}\n",
      "The positional arguments are ()\n",
      "The keyword arguments are {}\n",
      "The positional arguments are ()\n",
      "The keyword arguments are {}\n",
      "The positional arguments are ()\n",
      "The keyword arguments are {}\n",
      "The positional arguments are ()\n",
      "The keyword arguments are {}\n",
      "The positional arguments are ()\n",
      "The keyword arguments are {}\n",
      "The positional arguments are ()\n",
      "The keyword arguments are {}\n",
      "The positional arguments are ()\n",
      "The keyword arguments are {}\n",
      "The positional arguments are ()\n",
      "The keyword arguments are {}\n",
      "The positional arguments are ()\n",
      "The keyword arguments are {}\n",
      "The positional arguments are ()\n",
      "The keyword arguments are {}\n",
      "The positional arguments are ()\n",
      "The keyword arguments are {}\n",
      "The positional arguments are ()\n",
      "The keyword arguments are {}\n",
      "The positional arguments are ()\n",
      "The keyword arguments are {}\n",
      "The positional arguments are ()\n",
      "The keyword arguments are {}\n",
      "The positional arguments are ()\n",
      "The keyword arguments are {}\n",
      "The positional arguments are ()\n",
      "The keyword arguments are {}\n",
      "The positional arguments are ()\n",
      "The keyword arguments are {}\n",
      "The positional arguments are ()\n",
      "The keyword arguments are {}\n",
      "The positional arguments are ()\n",
      "The keyword arguments are {}\n",
      "The positional arguments are ()\n",
      "The keyword arguments are {}\n",
      "The positional arguments are ()\n",
      "The keyword arguments are {}\n",
      "The positional arguments are ()\n",
      "The keyword arguments are {}\n",
      "The positional arguments are ()\n",
      "The keyword arguments are {}\n",
      "The positional arguments are ()\n",
      "The keyword arguments are {}\n",
      "The positional arguments are ()\n",
      "The keyword arguments are {}\n",
      "The positional arguments are ()\n",
      "The keyword arguments are {}\n",
      "The positional arguments are ()\n",
      "The keyword arguments are {}\n",
      "The positional arguments are ()\n",
      "The keyword arguments are {}\n",
      "The positional arguments are ()\n",
      "The keyword arguments are {}\n",
      "The positional arguments are ()\n",
      "The keyword arguments are {}\n",
      "The positional arguments are ()\n",
      "The keyword arguments are {}\n",
      "The positional arguments are ()\n",
      "The keyword arguments are {}\n",
      "The positional arguments are ()\n",
      "The keyword arguments are {}\n",
      "The positional arguments are ()\n",
      "The keyword arguments are {}\n",
      "The positional arguments are ()\n",
      "The keyword arguments are {}\n",
      "The positional arguments are ()\n",
      "The keyword arguments are {}\n",
      "The positional arguments are ()\n",
      "The keyword arguments are {}\n",
      "The positional arguments are ()\n",
      "The keyword arguments are {}\n",
      "The positional arguments are ()\n",
      "The keyword arguments are {}\n",
      "The positional arguments are ()\n",
      "The keyword arguments are {}\n",
      "The positional arguments are ()\n",
      "The keyword arguments are {}\n",
      "The positional arguments are ()\n",
      "The keyword arguments are {}\n",
      "The positional arguments are ()\n",
      "The keyword arguments are {}\n",
      "The positional arguments are ()\n",
      "The keyword arguments are {}\n",
      "The positional arguments are ()\n",
      "The keyword arguments are {}\n",
      "The positional arguments are ()\n",
      "The keyword arguments are {}\n",
      "The positional arguments are ()\n",
      "The keyword arguments are {}\n",
      "The positional arguments are ()\n",
      "The keyword arguments are {}\n",
      "The positional arguments are ()\n",
      "The keyword arguments are {}\n",
      "The positional arguments are ()\n",
      "The keyword arguments are {}\n",
      "The positional arguments are ()\n",
      "The keyword arguments are {}\n",
      "The positional arguments are ()\n",
      "The keyword arguments are {}\n",
      "The positional arguments are ()\n",
      "The keyword arguments are {}\n",
      "The positional arguments are ()\n",
      "The keyword arguments are {}\n",
      "The positional arguments are ()\n",
      "The keyword arguments are {}\n",
      "The positional arguments are ()\n",
      "The keyword arguments are {}\n",
      "The positional arguments are ()\n",
      "The keyword arguments are {}\n",
      "The positional arguments are ()\n",
      "The keyword arguments are {}\n",
      "The positional arguments are ()\n",
      "The keyword arguments are {}\n",
      "The positional arguments are ()\n",
      "The keyword arguments are {}\n",
      "The positional arguments are ()\n",
      "The keyword arguments are {}\n",
      "The positional arguments are ()\n",
      "The keyword arguments are {}\n",
      "The positional arguments are ()\n",
      "The keyword arguments are {}\n",
      "The positional arguments are ()\n",
      "The keyword arguments are {}\n",
      "The positional arguments are ()\n",
      "The keyword arguments are {}\n",
      "The positional arguments are ()\n",
      "The keyword arguments are {}\n",
      "The positional arguments are ()\n",
      "The keyword arguments are {}\n",
      "The positional arguments are ()\n",
      "The keyword arguments are {}\n",
      "The positional arguments are ()\n",
      "The keyword arguments are {}\n",
      "The positional arguments are ()\n",
      "The keyword arguments are {}\n",
      "The positional arguments are ()\n",
      "The keyword arguments are {}\n",
      "The positional arguments are ()\n",
      "The keyword arguments are {}\n",
      "The positional arguments are ()\n",
      "The keyword arguments are {}\n",
      "The positional arguments are ()\n",
      "The keyword arguments are {}\n",
      "The positional arguments are ()\n",
      "The keyword arguments are {}\n",
      "The positional arguments are ()\n",
      "The keyword arguments are {}\n",
      "The positional arguments are ()\n",
      "The keyword arguments are {}\n",
      "The positional arguments are ()\n",
      "The keyword arguments are {}\n",
      "The positional arguments are ()\n",
      "The keyword arguments are {}\n",
      "The positional arguments are ()\n",
      "The keyword arguments are {}\n",
      "The positional arguments are ()\n",
      "The keyword arguments are {}\n",
      "The positional arguments are ()\n",
      "The keyword arguments are {}\n",
      "The positional arguments are ()\n",
      "The keyword arguments are {}\n",
      "The positional arguments are ()\n",
      "The keyword arguments are {}\n",
      "The positional arguments are ()\n",
      "The keyword arguments are {}\n",
      "The positional arguments are ()\n",
      "The keyword arguments are {}\n",
      "The positional arguments are ()\n",
      "The keyword arguments are {}\n",
      "The positional arguments are ()\n",
      "The keyword arguments are {}\n",
      "The positional arguments are ()\n",
      "The keyword arguments are {}\n",
      "The positional arguments are ()\n",
      "The keyword arguments are {}\n",
      "The positional arguments are ()\n",
      "The keyword arguments are {}\n",
      "The positional arguments are ()\n",
      "The keyword arguments are {}\n",
      "The positional arguments are ()\n",
      "The keyword arguments are {}\n",
      "The positional arguments are ()\n",
      "The keyword arguments are {}\n",
      "The positional arguments are ()\n",
      "The keyword arguments are {}\n",
      "The positional arguments are ()\n",
      "The keyword arguments are {}\n",
      "The positional arguments are ()\n",
      "The keyword arguments are {}\n",
      "The positional arguments are ()\n",
      "The keyword arguments are {}\n",
      "The positional arguments are ()\n",
      "The keyword arguments are {}\n",
      "The positional arguments are ()\n",
      "The keyword arguments are {}\n",
      "The positional arguments are ()\n",
      "The keyword arguments are {}\n",
      "The positional arguments are ()\n",
      "The keyword arguments are {}\n",
      "The positional arguments are ()\n",
      "The keyword arguments are {}\n",
      "The positional arguments are ()\n",
      "The keyword arguments are {}\n",
      "The positional arguments are ()\n",
      "The keyword arguments are {}\n",
      "The positional arguments are ()\n",
      "The keyword arguments are {}\n",
      "The positional arguments are ()\n",
      "The keyword arguments are {}\n",
      "The positional arguments are ()\n",
      "The keyword arguments are {}\n",
      "The positional arguments are ()\n",
      "The keyword arguments are {}\n",
      "The positional arguments are ()\n",
      "The keyword arguments are {}\n",
      "The positional arguments are ()\n",
      "The keyword arguments are {}\n",
      "The positional arguments are ()\n",
      "The keyword arguments are {}\n",
      "The positional arguments are ()\n",
      "The keyword arguments are {}\n",
      "The positional arguments are ()\n",
      "The keyword arguments are {}\n",
      "The positional arguments are ()\n",
      "The keyword arguments are {}\n",
      "The positional arguments are ()\n"
     ]
    },
    {
     "name": "stdout",
     "output_type": "stream",
     "text": [
      "The keyword arguments are {}\n",
      "The positional arguments are ()\n",
      "The keyword arguments are {}\n",
      "The positional arguments are ()\n",
      "The keyword arguments are {}\n",
      "The positional arguments are ()\n",
      "The keyword arguments are {}\n",
      "The positional arguments are ()\n",
      "The keyword arguments are {}\n",
      "The positional arguments are ()\n",
      "The keyword arguments are {}\n",
      "The positional arguments are ()\n",
      "The keyword arguments are {}\n",
      "The positional arguments are ()\n",
      "The keyword arguments are {}\n",
      "The positional arguments are ()\n",
      "The keyword arguments are {}\n",
      "The positional arguments are ()\n",
      "The keyword arguments are {}\n",
      "The positional arguments are ()\n",
      "The keyword arguments are {}\n",
      "The positional arguments are ()\n",
      "The keyword arguments are {}\n",
      "The positional arguments are ()\n",
      "The keyword arguments are {}\n",
      "The positional arguments are ()\n",
      "The keyword arguments are {}\n",
      "The positional arguments are ()\n",
      "The keyword arguments are {}\n",
      "The positional arguments are ()\n",
      "The keyword arguments are {}\n",
      "The positional arguments are ()\n",
      "The keyword arguments are {}\n",
      "The positional arguments are ()\n",
      "The keyword arguments are {}\n",
      "The positional arguments are ()\n",
      "The keyword arguments are {}\n",
      "The positional arguments are ()\n",
      "The keyword arguments are {}\n",
      "The positional arguments are ()\n",
      "The keyword arguments are {}\n",
      "The positional arguments are ()\n",
      "The keyword arguments are {}\n",
      "The positional arguments are ()\n",
      "The keyword arguments are {}\n",
      "The positional arguments are ()\n",
      "The keyword arguments are {}\n",
      "The positional arguments are ()\n",
      "The keyword arguments are {}\n",
      "The positional arguments are ()\n",
      "The keyword arguments are {}\n",
      "The positional arguments are ()\n",
      "The keyword arguments are {}\n",
      "The positional arguments are ()\n",
      "The keyword arguments are {}\n",
      "The positional arguments are ()\n",
      "The keyword arguments are {}\n",
      "The positional arguments are ()\n",
      "The keyword arguments are {}\n",
      "The positional arguments are ()\n",
      "The keyword arguments are {}\n",
      "The positional arguments are ()\n",
      "The keyword arguments are {}\n",
      "The positional arguments are ()\n",
      "The keyword arguments are {}\n",
      "The positional arguments are ()\n",
      "The keyword arguments are {}\n",
      "The positional arguments are ()\n",
      "The keyword arguments are {}\n",
      "The positional arguments are ()\n",
      "The keyword arguments are {}\n",
      "The positional arguments are ()\n",
      "The keyword arguments are {}\n",
      "The positional arguments are ()\n",
      "The keyword arguments are {}\n",
      "The positional arguments are ()\n",
      "The keyword arguments are {}\n",
      "The positional arguments are ()\n",
      "The keyword arguments are {}\n",
      "The positional arguments are ()\n",
      "The keyword arguments are {}\n",
      "The positional arguments are ()\n",
      "The keyword arguments are {}\n",
      "The positional arguments are ()\n",
      "The keyword arguments are {}\n",
      "The positional arguments are ()\n",
      "The keyword arguments are {}\n",
      "The positional arguments are ()\n",
      "The keyword arguments are {}\n",
      "The positional arguments are ()\n",
      "The keyword arguments are {}\n",
      "The positional arguments are ()\n",
      "The keyword arguments are {}\n",
      "The positional arguments are ()\n",
      "The keyword arguments are {}\n",
      "The positional arguments are ()\n",
      "The keyword arguments are {}\n",
      "The positional arguments are ()\n",
      "The keyword arguments are {}\n",
      "The positional arguments are ()\n",
      "The keyword arguments are {}\n",
      "The positional arguments are ()\n",
      "The keyword arguments are {}\n",
      "The positional arguments are ()\n",
      "The keyword arguments are {}\n",
      "The positional arguments are ()\n",
      "The keyword arguments are {}\n",
      "The positional arguments are ()\n",
      "The keyword arguments are {}\n",
      "The positional arguments are ()\n",
      "The keyword arguments are {}\n",
      "The positional arguments are ()\n",
      "The keyword arguments are {}\n",
      "The positional arguments are ()\n",
      "The keyword arguments are {}\n",
      "The positional arguments are ()\n",
      "The keyword arguments are {}\n",
      "The positional arguments are ()\n",
      "The keyword arguments are {}\n",
      "The positional arguments are ()\n",
      "The keyword arguments are {}\n",
      "The positional arguments are ()\n",
      "The keyword arguments are {}\n",
      "The positional arguments are ()\n",
      "The keyword arguments are {}\n",
      "The positional arguments are ()\n",
      "The keyword arguments are {}\n",
      "The positional arguments are ()\n",
      "The keyword arguments are {}\n",
      "The positional arguments are ()\n",
      "The keyword arguments are {}\n",
      "The positional arguments are ()\n",
      "The keyword arguments are {}\n",
      "The positional arguments are ()\n",
      "The keyword arguments are {}\n",
      "The positional arguments are ()\n",
      "The keyword arguments are {}\n",
      "The positional arguments are ()\n",
      "The keyword arguments are {}\n",
      "The positional arguments are ()\n",
      "The keyword arguments are {}\n",
      "The positional arguments are ()\n",
      "The keyword arguments are {}\n",
      "The positional arguments are ()\n",
      "The keyword arguments are {}\n",
      "The positional arguments are ()\n",
      "The keyword arguments are {}\n",
      "The positional arguments are ()\n",
      "The keyword arguments are {}\n",
      "The positional arguments are ()\n",
      "The keyword arguments are {}\n",
      "The positional arguments are ()\n",
      "The keyword arguments are {}\n",
      "The positional arguments are ()\n",
      "The keyword arguments are {}\n",
      "The positional arguments are ()\n",
      "The keyword arguments are {}\n",
      "The positional arguments are ()\n",
      "The keyword arguments are {}\n",
      "The positional arguments are ()\n",
      "The keyword arguments are {}\n",
      "The positional arguments are ()\n",
      "The keyword arguments are {}\n",
      "The positional arguments are ()\n",
      "The keyword arguments are {}\n",
      "The positional arguments are ()\n",
      "The keyword arguments are {}\n",
      "The positional arguments are ()\n",
      "The keyword arguments are {}\n",
      "The positional arguments are ()\n",
      "The keyword arguments are {}\n",
      "The positional arguments are ()\n",
      "The keyword arguments are {}\n",
      "The positional arguments are ()\n",
      "The keyword arguments are {}\n",
      "The positional arguments are ()\n",
      "The keyword arguments are {}\n",
      "The positional arguments are ()\n",
      "The keyword arguments are {}\n",
      "The positional arguments are ()\n",
      "The keyword arguments are {}\n",
      "The positional arguments are ()\n",
      "The keyword arguments are {}\n",
      "The positional arguments are ()\n",
      "The keyword arguments are {}\n",
      "The positional arguments are ()\n",
      "The keyword arguments are {}\n",
      "The positional arguments are ()\n",
      "The keyword arguments are {}\n",
      "The positional arguments are ()\n",
      "The keyword arguments are {}\n",
      "The positional arguments are ()\n",
      "The keyword arguments are {}\n",
      "The positional arguments are ()\n",
      "The keyword arguments are {}\n",
      "The positional arguments are ()\n",
      "The keyword arguments are {}\n",
      "The positional arguments are ()\n",
      "The keyword arguments are {}\n",
      "The positional arguments are ()\n",
      "The keyword arguments are {}\n",
      "The positional arguments are ()\n",
      "The keyword arguments are {}\n",
      "The positional arguments are ()\n",
      "The keyword arguments are {}\n",
      "The positional arguments are ()\n",
      "The keyword arguments are {}\n",
      "The positional arguments are ()\n",
      "The keyword arguments are {}\n",
      "The positional arguments are ()\n",
      "The keyword arguments are {}\n",
      "The positional arguments are ()\n",
      "The keyword arguments are {}\n",
      "The positional arguments are ()\n",
      "The keyword arguments are {}\n",
      "The positional arguments are ()\n",
      "The keyword arguments are {}\n",
      "The positional arguments are ()\n",
      "The keyword arguments are {}\n",
      "The positional arguments are ()\n",
      "The keyword arguments are {}\n",
      "The positional arguments are ()\n",
      "The keyword arguments are {}\n",
      "The positional arguments are ()\n",
      "The keyword arguments are {}\n",
      "The positional arguments are ()\n",
      "The keyword arguments are {}\n",
      "The positional arguments are ()\n",
      "The keyword arguments are {}\n",
      "The positional arguments are ()\n",
      "The keyword arguments are {}\n",
      "The positional arguments are ()\n",
      "The keyword arguments are {}\n",
      "The positional arguments are ()\n",
      "The keyword arguments are {}\n",
      "The positional arguments are ()\n",
      "The keyword arguments are {}\n",
      "The positional arguments are ()\n",
      "The keyword arguments are {}\n",
      "The positional arguments are ()\n",
      "The keyword arguments are {}\n",
      "The positional arguments are ()\n",
      "The keyword arguments are {}\n",
      "The positional arguments are ()\n",
      "The keyword arguments are {}\n",
      "The positional arguments are ()\n",
      "The keyword arguments are {}\n",
      "The positional arguments are ()\n",
      "The keyword arguments are {}\n",
      "The positional arguments are ()\n",
      "The keyword arguments are {}\n",
      "The positional arguments are ()\n",
      "The keyword arguments are {}\n",
      "The positional arguments are ()\n",
      "The keyword arguments are {}\n",
      "The positional arguments are ()\n",
      "The keyword arguments are {}\n",
      "The positional arguments are ()\n",
      "The keyword arguments are {}\n",
      "The positional arguments are ()\n",
      "The keyword arguments are {}\n",
      "The positional arguments are ()\n",
      "The keyword arguments are {}\n",
      "The positional arguments are ()\n",
      "The keyword arguments are {}\n",
      "The positional arguments are ()\n",
      "The keyword arguments are {}\n",
      "The positional arguments are ()\n",
      "The keyword arguments are {}\n",
      "The positional arguments are ()\n",
      "The keyword arguments are {}\n",
      "The positional arguments are ()\n",
      "The keyword arguments are {}\n",
      "The positional arguments are ()\n",
      "The keyword arguments are {}\n",
      "The positional arguments are ()\n",
      "The keyword arguments are {}\n",
      "The positional arguments are ()\n",
      "The keyword arguments are {}\n",
      "The positional arguments are ()\n",
      "The keyword arguments are {}\n",
      "The positional arguments are ()\n",
      "The keyword arguments are {}\n",
      "The positional arguments are ()\n",
      "The keyword arguments are {}\n",
      "The positional arguments are ()\n",
      "The keyword arguments are {}\n",
      "The positional arguments are ()\n",
      "The keyword arguments are {}\n",
      "The positional arguments are ()\n",
      "The keyword arguments are {}\n",
      "The positional arguments are ()\n",
      "The keyword arguments are {}\n",
      "The positional arguments are ()\n",
      "The keyword arguments are {}\n",
      "The positional arguments are ()\n",
      "The keyword arguments are {}\n",
      "The positional arguments are ()\n",
      "The keyword arguments are {}\n",
      "The positional arguments are ()\n",
      "The keyword arguments are {}\n",
      "The positional arguments are ()\n",
      "The keyword arguments are {}\n",
      "The positional arguments are ()\n",
      "The keyword arguments are {}\n",
      "The positional arguments are ()\n",
      "The keyword arguments are {}\n",
      "The positional arguments are ()\n",
      "The keyword arguments are {}\n",
      "The positional arguments are ()\n",
      "The keyword arguments are {}\n",
      "The positional arguments are ()\n",
      "The keyword arguments are {}\n",
      "The positional arguments are ()\n",
      "The keyword arguments are {}\n",
      "The positional arguments are ()\n",
      "The keyword arguments are {}\n",
      "The positional arguments are ()\n",
      "The keyword arguments are {}\n",
      "The positional arguments are ()\n",
      "The keyword arguments are {}\n",
      "The positional arguments are ()\n",
      "The keyword arguments are {}\n",
      "The positional arguments are ()\n",
      "The keyword arguments are {}\n",
      "The positional arguments are ()\n",
      "The keyword arguments are {}\n",
      "The positional arguments are ()\n",
      "The keyword arguments are {}\n",
      "The positional arguments are ()\n",
      "The keyword arguments are {}\n",
      "The positional arguments are ()\n",
      "The keyword arguments are {}\n",
      "The positional arguments are ()\n",
      "The keyword arguments are {}\n",
      "The positional arguments are ()\n",
      "The keyword arguments are {}\n",
      "The positional arguments are ()\n",
      "The keyword arguments are {}\n",
      "The positional arguments are ()\n",
      "The keyword arguments are {}\n",
      "The positional arguments are ()\n",
      "The keyword arguments are {}\n",
      "The positional arguments are ()\n",
      "The keyword arguments are {}\n",
      "The positional arguments are ()\n",
      "The keyword arguments are {}\n",
      "The positional arguments are ()\n",
      "The keyword arguments are {}\n",
      "The positional arguments are ()\n",
      "The keyword arguments are {}\n",
      "The positional arguments are ()\n",
      "The keyword arguments are {}\n",
      "The positional arguments are ()\n",
      "The keyword arguments are {}\n",
      "The positional arguments are ()\n",
      "The keyword arguments are {}\n",
      "The positional arguments are ()\n",
      "The keyword arguments are {}\n",
      "The positional arguments are ()\n",
      "The keyword arguments are {}\n",
      "The positional arguments are ()\n",
      "The keyword arguments are {}\n",
      "The positional arguments are ()\n",
      "The keyword arguments are {}\n",
      "The positional arguments are ()\n",
      "The keyword arguments are {}\n",
      "The positional arguments are ()\n",
      "The keyword arguments are {}\n",
      "The positional arguments are ()\n",
      "The keyword arguments are {}\n",
      "The positional arguments are ()\n",
      "The keyword arguments are {}\n",
      "The positional arguments are ()\n",
      "The keyword arguments are {}\n",
      "The positional arguments are ()\n",
      "The keyword arguments are {}\n",
      "The positional arguments are ()\n",
      "The keyword arguments are {}\n",
      "The positional arguments are ()\n",
      "The keyword arguments are {}\n",
      "The positional arguments are ()\n",
      "The keyword arguments are {}\n",
      "The positional arguments are ()\n",
      "The keyword arguments are {}\n",
      "The positional arguments are ()\n",
      "The keyword arguments are {}\n",
      "The positional arguments are ()\n",
      "The keyword arguments are {}\n",
      "The positional arguments are ()\n",
      "The keyword arguments are {}\n",
      "The positional arguments are ()\n",
      "The keyword arguments are {}\n",
      "The positional arguments are ()\n",
      "The keyword arguments are {}\n",
      "The positional arguments are ()\n",
      "The keyword arguments are {}\n",
      "The positional arguments are ()\n",
      "The keyword arguments are {}\n",
      "The positional arguments are ()\n",
      "The keyword arguments are {}\n",
      "The positional arguments are ()\n",
      "The keyword arguments are {}\n",
      "The positional arguments are ()\n",
      "The keyword arguments are {}\n",
      "The positional arguments are ()\n",
      "The keyword arguments are {}\n",
      "The positional arguments are ()\n",
      "The keyword arguments are {}\n",
      "The positional arguments are ()\n",
      "The keyword arguments are {}\n",
      "The positional arguments are ()\n",
      "The keyword arguments are {}\n",
      "The positional arguments are ()\n",
      "The keyword arguments are {}\n",
      "The positional arguments are ()\n",
      "The keyword arguments are {}\n",
      "The positional arguments are ()\n",
      "The keyword arguments are {}\n",
      "The positional arguments are ()\n",
      "The keyword arguments are {}\n",
      "The positional arguments are ()\n",
      "The keyword arguments are {}\n",
      "The positional arguments are ()\n",
      "The keyword arguments are {}\n",
      "The positional arguments are ()\n",
      "The keyword arguments are {}\n",
      "The positional arguments are ()\n",
      "The keyword arguments are {}\n",
      "The positional arguments are ()\n",
      "The keyword arguments are {}\n",
      "The positional arguments are ()\n",
      "The keyword arguments are {}\n",
      "The positional arguments are ()\n",
      "The keyword arguments are {}\n",
      "The positional arguments are ()\n",
      "The keyword arguments are {}\n",
      "The positional arguments are ()\n",
      "The keyword arguments are {}\n",
      "The positional arguments are ()\n",
      "The keyword arguments are {}\n",
      "The positional arguments are ()\n",
      "The keyword arguments are {}\n",
      "The positional arguments are ()\n",
      "The keyword arguments are {}\n",
      "The positional arguments are ()\n",
      "The keyword arguments are {}\n",
      "The positional arguments are ()\n",
      "The keyword arguments are {}\n",
      "The positional arguments are ()\n",
      "The keyword arguments are {}\n",
      "The positional arguments are ()\n",
      "The keyword arguments are {}\n",
      "The positional arguments are ()\n",
      "The keyword arguments are {}\n",
      "The positional arguments are ()\n",
      "The keyword arguments are {}\n",
      "The positional arguments are ()\n",
      "The keyword arguments are {}\n",
      "The positional arguments are ()\n",
      "The keyword arguments are {}\n",
      "The positional arguments are ()\n",
      "The keyword arguments are {}\n",
      "The positional arguments are ()\n",
      "The keyword arguments are {}\n",
      "The positional arguments are ()\n",
      "The keyword arguments are {}\n",
      "The positional arguments are ()\n",
      "The keyword arguments are {}\n",
      "The positional arguments are ()\n",
      "The keyword arguments are {}\n",
      "The positional arguments are ()\n",
      "The keyword arguments are {}\n",
      "The positional arguments are ()\n",
      "The keyword arguments are {}\n",
      "The positional arguments are ()\n",
      "The keyword arguments are {}\n",
      "The positional arguments are ()\n",
      "The keyword arguments are {}\n",
      "The positional arguments are ()\n",
      "The keyword arguments are {}\n",
      "The positional arguments are ()\n",
      "The keyword arguments are {}\n",
      "The positional arguments are ()\n",
      "The keyword arguments are {}\n",
      "The positional arguments are ()\n",
      "The keyword arguments are {}\n",
      "The positional arguments are ()\n",
      "The keyword arguments are {}\n",
      "The positional arguments are ()\n",
      "The keyword arguments are {}\n",
      "The positional arguments are ()\n",
      "The keyword arguments are {}\n",
      "The positional arguments are ()\n",
      "The keyword arguments are {}\n",
      "The positional arguments are ()\n",
      "The keyword arguments are {}\n",
      "The positional arguments are ()\n",
      "The keyword arguments are {}\n",
      "The positional arguments are ()\n",
      "The keyword arguments are {}\n",
      "The positional arguments are ()\n",
      "The keyword arguments are {}\n",
      "The positional arguments are ()\n",
      "The keyword arguments are {}\n",
      "The positional arguments are ()\n",
      "The keyword arguments are {}\n",
      "The positional arguments are ()\n",
      "The keyword arguments are {}\n",
      "The positional arguments are ()\n",
      "The keyword arguments are {}\n",
      "The positional arguments are ()\n",
      "The keyword arguments are {}\n",
      "The positional arguments are ()\n",
      "The keyword arguments are {}\n",
      "The positional arguments are ()\n",
      "The keyword arguments are {}\n",
      "The positional arguments are ()\n",
      "The keyword arguments are {}\n",
      "The positional arguments are ()\n",
      "The keyword arguments are {}\n",
      "The positional arguments are ()\n",
      "The keyword arguments are {}\n",
      "The positional arguments are ()\n",
      "The keyword arguments are {}\n",
      "The positional arguments are ()\n",
      "The keyword arguments are {}\n",
      "The positional arguments are ()\n",
      "The keyword arguments are {}\n",
      "The positional arguments are ()\n",
      "The keyword arguments are {}\n",
      "The positional arguments are ()\n",
      "The keyword arguments are {}\n",
      "The positional arguments are ()\n",
      "The keyword arguments are {}\n",
      "The positional arguments are ()\n",
      "The keyword arguments are {}\n",
      "The positional arguments are ()\n",
      "The keyword arguments are {}\n",
      "The positional arguments are ()\n",
      "The keyword arguments are {}\n",
      "The positional arguments are ()\n",
      "The keyword arguments are {}\n",
      "The positional arguments are ()\n",
      "The keyword arguments are {}\n",
      "The positional arguments are ()\n",
      "The keyword arguments are {}\n",
      "The positional arguments are ()\n",
      "The keyword arguments are {}\n",
      "The positional arguments are ()\n",
      "The keyword arguments are {}\n",
      "The positional arguments are ()\n",
      "The keyword arguments are {}\n",
      "The positional arguments are ()\n"
     ]
    },
    {
     "name": "stdout",
     "output_type": "stream",
     "text": [
      "The keyword arguments are {}\n",
      "The positional arguments are ()\n",
      "The keyword arguments are {}\n",
      "The positional arguments are ()\n",
      "The keyword arguments are {}\n",
      "The positional arguments are ()\n",
      "The keyword arguments are {}\n",
      "The positional arguments are ()\n",
      "The keyword arguments are {}\n",
      "The positional arguments are ()\n",
      "The keyword arguments are {}\n",
      "The positional arguments are ()\n",
      "The keyword arguments are {}\n",
      "The positional arguments are ()\n",
      "The keyword arguments are {}\n",
      "The positional arguments are ()\n",
      "The keyword arguments are {}\n",
      "The positional arguments are ()\n",
      "The keyword arguments are {}\n",
      "The positional arguments are ()\n",
      "The keyword arguments are {}\n",
      "The positional arguments are ()\n",
      "The keyword arguments are {}\n",
      "The positional arguments are ()\n",
      "The keyword arguments are {}\n",
      "The positional arguments are ()\n",
      "The keyword arguments are {}\n",
      "The positional arguments are ()\n",
      "The keyword arguments are {}\n",
      "The positional arguments are ()\n",
      "The keyword arguments are {}\n",
      "The positional arguments are ()\n",
      "The keyword arguments are {}\n",
      "The positional arguments are ()\n",
      "The keyword arguments are {}\n",
      "The positional arguments are ()\n",
      "The keyword arguments are {}\n",
      "The positional arguments are ()\n",
      "The keyword arguments are {}\n",
      "The positional arguments are ()\n",
      "The keyword arguments are {}\n",
      "The positional arguments are ()\n",
      "The keyword arguments are {}\n",
      "The positional arguments are ()\n",
      "The keyword arguments are {}\n",
      "The positional arguments are ()\n",
      "The keyword arguments are {}\n",
      "The positional arguments are ()\n",
      "The keyword arguments are {}\n",
      "The positional arguments are ()\n",
      "The keyword arguments are {}\n",
      "The positional arguments are ()\n",
      "The keyword arguments are {}\n",
      "The positional arguments are ()\n",
      "The keyword arguments are {}\n",
      "The positional arguments are ()\n",
      "The keyword arguments are {}\n",
      "The positional arguments are ()\n",
      "The keyword arguments are {}\n",
      "The positional arguments are ()\n",
      "The keyword arguments are {}\n",
      "The positional arguments are ()\n",
      "The keyword arguments are {}\n",
      "The positional arguments are ()\n",
      "The keyword arguments are {}\n",
      "The positional arguments are ()\n",
      "The keyword arguments are {}\n",
      "The positional arguments are ()\n",
      "The keyword arguments are {}\n",
      "The positional arguments are ()\n",
      "The keyword arguments are {}\n",
      "The positional arguments are ()\n",
      "The keyword arguments are {}\n",
      "The positional arguments are ()\n",
      "The keyword arguments are {}\n",
      "The positional arguments are ()\n",
      "The keyword arguments are {}\n",
      "The positional arguments are ()\n",
      "The keyword arguments are {}\n",
      "The positional arguments are ()\n",
      "The keyword arguments are {}\n",
      "The positional arguments are ()\n",
      "The keyword arguments are {}\n",
      "The positional arguments are ()\n",
      "The keyword arguments are {}\n",
      "The positional arguments are ()\n",
      "The keyword arguments are {}\n",
      "The positional arguments are ()\n",
      "The keyword arguments are {}\n",
      "The positional arguments are ()\n",
      "The keyword arguments are {}\n",
      "The positional arguments are ()\n",
      "The keyword arguments are {}\n",
      "The positional arguments are ()\n",
      "The keyword arguments are {}\n",
      "The positional arguments are ()\n",
      "The keyword arguments are {}\n",
      "The positional arguments are ()\n",
      "The keyword arguments are {}\n",
      "The positional arguments are ()\n",
      "The keyword arguments are {}\n",
      "The positional arguments are ()\n",
      "The keyword arguments are {}\n",
      "The positional arguments are ()\n",
      "The keyword arguments are {}\n",
      "The positional arguments are ()\n",
      "The keyword arguments are {}\n",
      "The positional arguments are ()\n",
      "The keyword arguments are {}\n",
      "The positional arguments are ()\n",
      "The keyword arguments are {}\n",
      "The positional arguments are ()\n",
      "The keyword arguments are {}\n",
      "The positional arguments are ()\n",
      "The keyword arguments are {}\n",
      "The positional arguments are ()\n",
      "The keyword arguments are {}\n",
      "The positional arguments are ()\n",
      "The keyword arguments are {}\n",
      "The positional arguments are ()\n",
      "The keyword arguments are {}\n",
      "The positional arguments are ()\n",
      "The keyword arguments are {}\n",
      "The positional arguments are ()\n",
      "The keyword arguments are {}\n",
      "The positional arguments are ()\n",
      "The keyword arguments are {}\n",
      "The positional arguments are ()\n",
      "The keyword arguments are {}\n",
      "The positional arguments are ()\n",
      "The keyword arguments are {}\n",
      "The positional arguments are ()\n",
      "The keyword arguments are {}\n",
      "The positional arguments are ()\n",
      "The keyword arguments are {}\n",
      "The positional arguments are ()\n",
      "The keyword arguments are {}\n",
      "The positional arguments are ()\n",
      "The keyword arguments are {}\n",
      "The positional arguments are ()\n",
      "The keyword arguments are {}\n",
      "The positional arguments are ()\n",
      "The keyword arguments are {}\n",
      "The positional arguments are ()\n",
      "The keyword arguments are {}\n",
      "The positional arguments are ()\n",
      "The keyword arguments are {}\n",
      "The positional arguments are ()\n",
      "The keyword arguments are {}\n",
      "The positional arguments are ()\n",
      "The keyword arguments are {}\n",
      "The positional arguments are ()\n",
      "The keyword arguments are {}\n",
      "The positional arguments are ()\n",
      "The keyword arguments are {}\n",
      "The positional arguments are ()\n",
      "The keyword arguments are {}\n",
      "The positional arguments are ()\n",
      "The keyword arguments are {}\n",
      "The positional arguments are ()\n",
      "The keyword arguments are {}\n",
      "The positional arguments are ()\n",
      "The keyword arguments are {}\n",
      "The positional arguments are ()\n",
      "The keyword arguments are {}\n",
      "The positional arguments are ()\n",
      "The keyword arguments are {}\n",
      "The positional arguments are ()\n",
      "The keyword arguments are {}\n",
      "The positional arguments are ()\n",
      "The keyword arguments are {}\n",
      "The positional arguments are ()\n",
      "The keyword arguments are {}\n",
      "The positional arguments are ()\n",
      "The keyword arguments are {}\n",
      "The positional arguments are ()\n",
      "The keyword arguments are {}\n",
      "The positional arguments are ()\n",
      "The keyword arguments are {}\n",
      "The positional arguments are ()\n",
      "The keyword arguments are {}\n",
      "The positional arguments are ()\n",
      "The keyword arguments are {}\n",
      "The positional arguments are ()\n",
      "The keyword arguments are {}\n",
      "The positional arguments are ()\n",
      "The keyword arguments are {}\n",
      "The positional arguments are ()\n",
      "The keyword arguments are {}\n",
      "The positional arguments are ()\n",
      "The keyword arguments are {}\n",
      "The positional arguments are ()\n",
      "The keyword arguments are {}\n",
      "The positional arguments are ()\n",
      "The keyword arguments are {}\n",
      "The positional arguments are ()\n",
      "The keyword arguments are {}\n",
      "The positional arguments are ()\n",
      "The keyword arguments are {}\n",
      "The positional arguments are ()\n",
      "The keyword arguments are {}\n",
      "The positional arguments are ()\n",
      "The keyword arguments are {}\n",
      "The positional arguments are ()\n",
      "The keyword arguments are {}\n",
      "The positional arguments are ()\n",
      "The keyword arguments are {}\n",
      "The positional arguments are ()\n",
      "The keyword arguments are {}\n",
      "The positional arguments are ()\n",
      "The keyword arguments are {}\n",
      "The positional arguments are ()\n",
      "The keyword arguments are {}\n",
      "The positional arguments are ()\n",
      "The keyword arguments are {}\n",
      "The positional arguments are ()\n",
      "The keyword arguments are {}\n",
      "The positional arguments are ()\n",
      "The keyword arguments are {}\n",
      "The positional arguments are ()\n",
      "The keyword arguments are {}\n",
      "The positional arguments are ()\n",
      "The keyword arguments are {}\n",
      "The positional arguments are ()\n",
      "The keyword arguments are {}\n",
      "The positional arguments are ()\n",
      "The keyword arguments are {}\n",
      "The positional arguments are ()\n",
      "The keyword arguments are {}\n",
      "The positional arguments are ()\n",
      "The keyword arguments are {}\n",
      "The positional arguments are ()\n",
      "The keyword arguments are {}\n",
      "The positional arguments are ()\n",
      "The keyword arguments are {}\n",
      "The positional arguments are ()\n",
      "The keyword arguments are {}\n",
      "The positional arguments are ()\n",
      "The keyword arguments are {}\n",
      "The positional arguments are ()\n",
      "The keyword arguments are {}\n",
      "The positional arguments are ()\n",
      "The keyword arguments are {}\n",
      "The positional arguments are ()\n",
      "The keyword arguments are {}\n",
      "The positional arguments are ()\n",
      "The keyword arguments are {}\n",
      "The positional arguments are ()\n",
      "The keyword arguments are {}\n",
      "The positional arguments are ()\n",
      "The keyword arguments are {}\n",
      "The positional arguments are ()\n",
      "The keyword arguments are {}\n",
      "The positional arguments are ()\n",
      "The keyword arguments are {}\n",
      "The positional arguments are ()\n",
      "The keyword arguments are {}\n",
      "The positional arguments are ()\n",
      "The keyword arguments are {}\n",
      "The positional arguments are ()\n",
      "The keyword arguments are {}\n",
      "The positional arguments are ()\n",
      "The keyword arguments are {}\n",
      "The positional arguments are ()\n",
      "The keyword arguments are {}\n",
      "The positional arguments are ()\n",
      "The keyword arguments are {}\n",
      "The positional arguments are ()\n",
      "The keyword arguments are {}\n",
      "The positional arguments are ()\n",
      "The keyword arguments are {}\n",
      "The positional arguments are ()\n",
      "The keyword arguments are {}\n",
      "The positional arguments are ()\n",
      "The keyword arguments are {}\n",
      "The positional arguments are ()\n",
      "The keyword arguments are {}\n",
      "The positional arguments are ()\n",
      "The keyword arguments are {}\n",
      "The positional arguments are ()\n",
      "The keyword arguments are {}\n",
      "The positional arguments are ()\n",
      "The keyword arguments are {}\n",
      "The positional arguments are ()\n",
      "The keyword arguments are {}\n",
      "The positional arguments are ()\n",
      "The keyword arguments are {}\n",
      "The positional arguments are ()\n",
      "The keyword arguments are {}\n",
      "The positional arguments are ()\n",
      "The keyword arguments are {}\n",
      "The positional arguments are ()\n",
      "The keyword arguments are {}\n",
      "The positional arguments are ()\n",
      "The keyword arguments are {}\n",
      "The positional arguments are ()\n",
      "The keyword arguments are {}\n",
      "The positional arguments are ()\n",
      "The keyword arguments are {}\n",
      "The positional arguments are ()\n",
      "The keyword arguments are {}\n",
      "The positional arguments are ()\n",
      "The keyword arguments are {}\n",
      "The positional arguments are ()\n",
      "The keyword arguments are {}\n",
      "The positional arguments are ()\n",
      "The keyword arguments are {}\n",
      "The positional arguments are ()\n",
      "The keyword arguments are {}\n",
      "The positional arguments are ()\n",
      "The keyword arguments are {}\n",
      "The positional arguments are ()\n",
      "The keyword arguments are {}\n",
      "The positional arguments are ()\n",
      "The keyword arguments are {}\n",
      "The positional arguments are ()\n",
      "The keyword arguments are {}\n",
      "The positional arguments are ()\n",
      "The keyword arguments are {}\n",
      "The positional arguments are ()\n",
      "The keyword arguments are {}\n",
      "The positional arguments are ()\n",
      "The keyword arguments are {}\n",
      "The positional arguments are ()\n",
      "The keyword arguments are {}\n",
      "The positional arguments are ()\n",
      "The keyword arguments are {}\n",
      "The positional arguments are ()\n",
      "The keyword arguments are {}\n",
      "The positional arguments are ()\n",
      "The keyword arguments are {}\n",
      "The positional arguments are ()\n",
      "The keyword arguments are {}\n",
      "The positional arguments are ()\n",
      "The keyword arguments are {}\n",
      "The positional arguments are ()\n",
      "The keyword arguments are {}\n",
      "The positional arguments are ()\n",
      "The keyword arguments are {}\n",
      "The positional arguments are ()\n",
      "The keyword arguments are {}\n",
      "The positional arguments are ()\n",
      "The keyword arguments are {}\n",
      "The positional arguments are ()\n",
      "The keyword arguments are {}\n",
      "The positional arguments are ()\n",
      "The keyword arguments are {}\n",
      "The positional arguments are ()\n",
      "The keyword arguments are {}\n",
      "The positional arguments are ()\n",
      "The keyword arguments are {}\n",
      "The positional arguments are ()\n",
      "The keyword arguments are {}\n",
      "The positional arguments are ()\n",
      "The keyword arguments are {}\n",
      "The positional arguments are ()\n",
      "The keyword arguments are {}\n",
      "The positional arguments are ()\n",
      "The keyword arguments are {}\n",
      "The positional arguments are ()\n",
      "The keyword arguments are {}\n",
      "The positional arguments are ()\n",
      "The keyword arguments are {}\n",
      "The positional arguments are ()\n",
      "The keyword arguments are {}\n",
      "The positional arguments are ()\n",
      "The keyword arguments are {}\n",
      "The positional arguments are ()\n",
      "The keyword arguments are {}\n",
      "The positional arguments are ()\n",
      "The keyword arguments are {}\n",
      "The positional arguments are ()\n",
      "The keyword arguments are {}\n",
      "The positional arguments are ()\n",
      "The keyword arguments are {}\n",
      "The positional arguments are ()\n",
      "The keyword arguments are {}\n",
      "The positional arguments are ()\n",
      "The keyword arguments are {}\n",
      "The positional arguments are ()\n",
      "The keyword arguments are {}\n",
      "The positional arguments are ()\n",
      "The keyword arguments are {}\n",
      "The positional arguments are ()\n",
      "The keyword arguments are {}\n",
      "The positional arguments are ()\n",
      "The keyword arguments are {}\n",
      "The positional arguments are ()\n",
      "The keyword arguments are {}\n",
      "The positional arguments are ()\n",
      "The keyword arguments are {}\n",
      "The positional arguments are ()\n",
      "The keyword arguments are {}\n",
      "The positional arguments are ()\n",
      "The keyword arguments are {}\n",
      "The positional arguments are ()\n",
      "The keyword arguments are {}\n",
      "The positional arguments are ()\n",
      "The keyword arguments are {}\n",
      "The positional arguments are ()\n",
      "The keyword arguments are {}\n",
      "The positional arguments are ()\n",
      "The keyword arguments are {}\n",
      "The positional arguments are ()\n",
      "The keyword arguments are {}\n",
      "The positional arguments are ()\n",
      "The keyword arguments are {}\n",
      "The positional arguments are ()\n",
      "The keyword arguments are {}\n",
      "The positional arguments are ()\n",
      "The keyword arguments are {}\n",
      "The positional arguments are ()\n",
      "The keyword arguments are {}\n",
      "The positional arguments are ()\n",
      "The keyword arguments are {}\n",
      "The positional arguments are ()\n",
      "The keyword arguments are {}\n",
      "The positional arguments are ()\n",
      "The keyword arguments are {}\n",
      "The positional arguments are ()\n",
      "The keyword arguments are {}\n",
      "The positional arguments are ()\n",
      "The keyword arguments are {}\n",
      "The positional arguments are ()\n",
      "The keyword arguments are {}\n",
      "The positional arguments are ()\n",
      "The keyword arguments are {}\n",
      "The positional arguments are ()\n",
      "The keyword arguments are {}\n",
      "The positional arguments are ()\n",
      "The keyword arguments are {}\n",
      "The positional arguments are ()\n",
      "The keyword arguments are {}\n",
      "The positional arguments are ()\n",
      "The keyword arguments are {}\n",
      "The positional arguments are ()\n",
      "The keyword arguments are {}\n",
      "The positional arguments are ()\n",
      "The keyword arguments are {}\n",
      "The positional arguments are ()\n",
      "The keyword arguments are {}\n",
      "The positional arguments are ()\n",
      "The keyword arguments are {}\n",
      "The positional arguments are ()\n",
      "The keyword arguments are {}\n",
      "The positional arguments are ()\n",
      "The keyword arguments are {}\n",
      "The positional arguments are ()\n",
      "The keyword arguments are {}\n",
      "The positional arguments are ()\n",
      "The keyword arguments are {}\n",
      "The positional arguments are ()\n",
      "The keyword arguments are {}\n",
      "The positional arguments are ()\n",
      "The keyword arguments are {}\n",
      "The positional arguments are ()\n",
      "The keyword arguments are {}\n",
      "The positional arguments are ()\n",
      "The keyword arguments are {}\n",
      "The positional arguments are ()\n",
      "The keyword arguments are {}\n",
      "The positional arguments are ()\n",
      "The keyword arguments are {}\n",
      "The positional arguments are ()\n",
      "The keyword arguments are {}\n",
      "The positional arguments are ()\n",
      "The keyword arguments are {}\n",
      "The positional arguments are ()\n",
      "The keyword arguments are {}\n",
      "The positional arguments are ()\n",
      "The keyword arguments are {}\n",
      "The positional arguments are ()\n",
      "The keyword arguments are {}\n",
      "The positional arguments are ()\n",
      "The keyword arguments are {}\n",
      "The positional arguments are ()\n",
      "The keyword arguments are {}\n",
      "The positional arguments are ()\n",
      "The keyword arguments are {}\n",
      "The positional arguments are ()\n",
      "The keyword arguments are {}\n",
      "The positional arguments are ()\n",
      "The keyword arguments are {}\n",
      "The positional arguments are ()\n",
      "The keyword arguments are {}\n",
      "The positional arguments are ()\n",
      "The keyword arguments are {}\n",
      "The positional arguments are ()\n",
      "The keyword arguments are {}\n",
      "The positional arguments are ()\n",
      "The keyword arguments are {}\n",
      "The positional arguments are ()\n",
      "The keyword arguments are {}\n",
      "The positional arguments are ()\n",
      "The keyword arguments are {}\n",
      "The positional arguments are ()\n",
      "The keyword arguments are {}\n",
      "The positional arguments are ()\n",
      "The keyword arguments are {}\n",
      "The positional arguments are ()\n",
      "The keyword arguments are {}\n",
      "The positional arguments are ()\n",
      "The keyword arguments are {}\n",
      "The positional arguments are ()\n",
      "The keyword arguments are {}\n",
      "The positional arguments are ()\n",
      "The keyword arguments are {}\n",
      "The positional arguments are ()\n",
      "The keyword arguments are {}\n",
      "The positional arguments are ()\n",
      "The keyword arguments are {}\n",
      "The positional arguments are ()\n",
      "The keyword arguments are {}\n",
      "The positional arguments are ()\n",
      "The keyword arguments are {}\n",
      "The positional arguments are ()\n",
      "The keyword arguments are {}\n",
      "The positional arguments are ()\n",
      "The keyword arguments are {}\n",
      "The positional arguments are ()\n",
      "The keyword arguments are {}\n",
      "The positional arguments are ()\n",
      "The keyword arguments are {}\n",
      "The positional arguments are ()\n",
      "The keyword arguments are {}\n",
      "The positional arguments are ()\n",
      "The keyword arguments are {}\n",
      "The positional arguments are ()\n",
      "The keyword arguments are {}\n",
      "The positional arguments are ()\n",
      "The keyword arguments are {}\n",
      "The positional arguments are ()\n",
      "The keyword arguments are {}\n",
      "The positional arguments are ()\n",
      "The keyword arguments are {}\n",
      "The positional arguments are ()\n",
      "The keyword arguments are {}\n",
      "The positional arguments are ()\n",
      "The keyword arguments are {}\n",
      "The positional arguments are ()\n",
      "The keyword arguments are {}\n",
      "The positional arguments are ()\n",
      "The keyword arguments are {}\n",
      "The positional arguments are ()\n",
      "The keyword arguments are {}\n",
      "The positional arguments are ()\n",
      "The keyword arguments are {}\n",
      "The positional arguments are ()\n",
      "The keyword arguments are {}\n",
      "The positional arguments are ()\n",
      "The keyword arguments are {}\n",
      "The positional arguments are ()\n",
      "The keyword arguments are {}\n",
      "The positional arguments are ()\n",
      "The keyword arguments are {}\n",
      "The positional arguments are ()\n",
      "The keyword arguments are {}\n",
      "The positional arguments are ()\n",
      "The keyword arguments are {}\n",
      "The positional arguments are ()\n",
      "The keyword arguments are {}\n",
      "The positional arguments are ()\n",
      "The keyword arguments are {}\n",
      "The positional arguments are ()\n",
      "The keyword arguments are {}\n",
      "The positional arguments are ()\n",
      "The keyword arguments are {}\n",
      "The positional arguments are ()\n",
      "The keyword arguments are {}\n",
      "The positional arguments are ()\n",
      "The keyword arguments are {}\n",
      "The positional arguments are ()\n",
      "The keyword arguments are {}\n",
      "The positional arguments are ()\n",
      "The keyword arguments are {}\n",
      "The positional arguments are ()\n",
      "The keyword arguments are {}\n",
      "The positional arguments are ()\n",
      "The keyword arguments are {}\n",
      "The positional arguments are ()\n",
      "The keyword arguments are {}\n",
      "The positional arguments are ()\n",
      "The keyword arguments are {}\n",
      "The positional arguments are ()\n",
      "The keyword arguments are {}\n",
      "The positional arguments are ()\n",
      "The keyword arguments are {}\n",
      "The positional arguments are ()\n",
      "The keyword arguments are {}\n",
      "The positional arguments are ()\n",
      "The keyword arguments are {}\n",
      "The positional arguments are ()\n",
      "The keyword arguments are {}\n",
      "The positional arguments are ()\n",
      "The keyword arguments are {}\n",
      "The positional arguments are ()\n",
      "The keyword arguments are {}\n",
      "The positional arguments are ()\n",
      "The keyword arguments are {}\n",
      "The positional arguments are ()\n",
      "The keyword arguments are {}\n",
      "The positional arguments are ()\n",
      "The keyword arguments are {}\n",
      "The positional arguments are ()\n",
      "The keyword arguments are {}\n",
      "The positional arguments are ()\n",
      "The keyword arguments are {}\n",
      "The positional arguments are ()\n",
      "The keyword arguments are {}\n",
      "The positional arguments are ()\n",
      "The keyword arguments are {}\n",
      "The positional arguments are ()\n",
      "The keyword arguments are {}\n",
      "The positional arguments are ()\n",
      "The keyword arguments are {}\n",
      "The positional arguments are ()\n",
      "The keyword arguments are {}\n",
      "The positional arguments are ()\n",
      "The keyword arguments are {}\n",
      "The positional arguments are ()\n",
      "The keyword arguments are {}\n",
      "The positional arguments are ()\n",
      "The keyword arguments are {}\n",
      "The positional arguments are ()\n",
      "The keyword arguments are {}\n",
      "The positional arguments are ()\n",
      "The keyword arguments are {}\n",
      "The positional arguments are ()\n",
      "The keyword arguments are {}\n",
      "The positional arguments are ()\n",
      "The keyword arguments are {}\n",
      "The positional arguments are ()\n",
      "The keyword arguments are {}\n",
      "The positional arguments are ()\n",
      "The keyword arguments are {}\n",
      "The positional arguments are ()\n",
      "The keyword arguments are {}\n",
      "The positional arguments are ()\n",
      "The keyword arguments are {}\n",
      "The positional arguments are ()\n",
      "The keyword arguments are {}\n",
      "The positional arguments are ()\n",
      "The keyword arguments are {}\n",
      "The positional arguments are ()\n",
      "The keyword arguments are {}\n",
      "The positional arguments are ()\n",
      "The keyword arguments are {}\n",
      "The positional arguments are ()\n",
      "The keyword arguments are {}\n",
      "The positional arguments are ()\n",
      "The keyword arguments are {}\n",
      "The positional arguments are ()\n",
      "The keyword arguments are {}\n",
      "The positional arguments are ()\n",
      "The keyword arguments are {}\n",
      "The positional arguments are ()\n",
      "The keyword arguments are {}\n",
      "The positional arguments are ()\n",
      "The keyword arguments are {}\n",
      "The positional arguments are ()\n",
      "The keyword arguments are {}\n",
      "The positional arguments are ()\n",
      "The keyword arguments are {}\n",
      "The positional arguments are ()\n",
      "The keyword arguments are {}\n",
      "The positional arguments are ()\n",
      "The keyword arguments are {}\n",
      "The positional arguments are ()\n",
      "The keyword arguments are {}\n",
      "The positional arguments are ()\n",
      "The keyword arguments are {}\n",
      "The positional arguments are ()\n",
      "The keyword arguments are {}\n",
      "The positional arguments are ()\n",
      "The keyword arguments are {}\n",
      "The positional arguments are ()\n",
      "The keyword arguments are {}\n",
      "The positional arguments are ()\n",
      "The keyword arguments are {}\n",
      "The positional arguments are ()\n",
      "The keyword arguments are {}\n",
      "The positional arguments are ()\n",
      "The keyword arguments are {}\n",
      "The positional arguments are ()\n",
      "The keyword arguments are {}\n",
      "The positional arguments are ()\n",
      "The keyword arguments are {}\n",
      "The positional arguments are ()\n",
      "The keyword arguments are {}\n",
      "The positional arguments are ()\n",
      "The keyword arguments are {}\n",
      "The positional arguments are ()\n",
      "The keyword arguments are {}\n",
      "The positional arguments are ()\n",
      "The keyword arguments are {}\n"
     ]
    },
    {
     "name": "stdout",
     "output_type": "stream",
     "text": [
      "The positional arguments are ()\n",
      "The keyword arguments are {}\n",
      "The positional arguments are ()\n",
      "The keyword arguments are {}\n",
      "The positional arguments are ()\n",
      "The keyword arguments are {}\n",
      "The positional arguments are ()\n",
      "The keyword arguments are {}\n",
      "The positional arguments are ()\n",
      "The keyword arguments are {}\n",
      "The positional arguments are ()\n",
      "The keyword arguments are {}\n",
      "The positional arguments are ()\n",
      "The keyword arguments are {}\n",
      "The positional arguments are ()\n",
      "The keyword arguments are {}\n",
      "The positional arguments are ()\n",
      "The keyword arguments are {}\n",
      "The positional arguments are ()\n",
      "The keyword arguments are {}\n",
      "The positional arguments are ()\n",
      "The keyword arguments are {}\n",
      "The positional arguments are ()\n",
      "The keyword arguments are {}\n",
      "The positional arguments are ()\n",
      "The keyword arguments are {}\n",
      "The positional arguments are ()\n",
      "The keyword arguments are {}\n",
      "The positional arguments are ()\n",
      "The keyword arguments are {}\n",
      "The positional arguments are ()\n",
      "The keyword arguments are {}\n",
      "The positional arguments are ()\n",
      "The keyword arguments are {}\n",
      "The positional arguments are ()\n",
      "The keyword arguments are {}\n",
      "The positional arguments are ()\n",
      "The keyword arguments are {}\n",
      "The positional arguments are ()\n",
      "The keyword arguments are {}\n",
      "The positional arguments are ()\n",
      "The keyword arguments are {}\n",
      "The positional arguments are ()\n",
      "The keyword arguments are {}\n",
      "The positional arguments are ()\n",
      "The keyword arguments are {}\n",
      "The positional arguments are ()\n",
      "The keyword arguments are {}\n",
      "The positional arguments are ()\n",
      "The keyword arguments are {}\n",
      "The positional arguments are ()\n",
      "The keyword arguments are {}\n",
      "The positional arguments are ()\n",
      "The keyword arguments are {}\n",
      "The positional arguments are ()\n",
      "The keyword arguments are {}\n",
      "The positional arguments are ()\n",
      "The keyword arguments are {}\n",
      "The positional arguments are ()\n",
      "The keyword arguments are {}\n",
      "The positional arguments are ()\n",
      "The keyword arguments are {}\n",
      "The positional arguments are ()\n",
      "The keyword arguments are {}\n",
      "The positional arguments are ()\n",
      "The keyword arguments are {}\n",
      "The positional arguments are ()\n",
      "The keyword arguments are {}\n",
      "The positional arguments are ()\n",
      "The keyword arguments are {}\n",
      "The positional arguments are ()\n",
      "The keyword arguments are {}\n",
      "The positional arguments are ()\n",
      "The keyword arguments are {}\n",
      "The positional arguments are ()\n",
      "The keyword arguments are {}\n",
      "The positional arguments are ()\n",
      "The keyword arguments are {}\n",
      "The positional arguments are ()\n",
      "The keyword arguments are {}\n",
      "The positional arguments are ()\n",
      "The keyword arguments are {}\n",
      "The positional arguments are ()\n",
      "The keyword arguments are {}\n",
      "The positional arguments are ()\n",
      "The keyword arguments are {}\n",
      "The positional arguments are ()\n",
      "The keyword arguments are {}\n",
      "The positional arguments are ()\n",
      "The keyword arguments are {}\n",
      "The positional arguments are ()\n",
      "The keyword arguments are {}\n",
      "The positional arguments are ()\n",
      "The keyword arguments are {}\n",
      "The positional arguments are ()\n",
      "The keyword arguments are {}\n",
      "The positional arguments are ()\n",
      "The keyword arguments are {}\n",
      "The positional arguments are ()\n",
      "The keyword arguments are {}\n",
      "The positional arguments are ()\n",
      "The keyword arguments are {}\n",
      "The positional arguments are ()\n",
      "The keyword arguments are {}\n",
      "The positional arguments are ()\n",
      "The keyword arguments are {}\n",
      "The positional arguments are ()\n",
      "The keyword arguments are {}\n",
      "The positional arguments are ()\n",
      "The keyword arguments are {}\n",
      "The positional arguments are ()\n",
      "The keyword arguments are {}\n",
      "The positional arguments are ()\n",
      "The keyword arguments are {}\n",
      "The positional arguments are ()\n",
      "The keyword arguments are {}\n",
      "The positional arguments are ()\n",
      "The keyword arguments are {}\n",
      "The positional arguments are ()\n",
      "The keyword arguments are {}\n",
      "The positional arguments are ()\n",
      "The keyword arguments are {}\n",
      "The positional arguments are ()\n",
      "The keyword arguments are {}\n",
      "The positional arguments are ()\n",
      "The keyword arguments are {}\n",
      "The positional arguments are ()\n",
      "The keyword arguments are {}\n",
      "The positional arguments are ()\n",
      "The keyword arguments are {}\n",
      "The positional arguments are ()\n",
      "The keyword arguments are {}\n",
      "The positional arguments are ()\n",
      "The keyword arguments are {}\n",
      "The positional arguments are ()\n",
      "The keyword arguments are {}\n",
      "The positional arguments are ()\n",
      "The keyword arguments are {}\n",
      "The positional arguments are ()\n",
      "The keyword arguments are {}\n",
      "The positional arguments are ()\n",
      "The keyword arguments are {}\n",
      "The positional arguments are ()\n",
      "The keyword arguments are {}\n",
      "The positional arguments are ()\n",
      "The keyword arguments are {}\n",
      "The positional arguments are ()\n",
      "The keyword arguments are {}\n",
      "The positional arguments are ()\n",
      "The keyword arguments are {}\n",
      "The positional arguments are ()\n",
      "The keyword arguments are {}\n",
      "The positional arguments are ()\n",
      "The keyword arguments are {}\n",
      "The positional arguments are ()\n",
      "The keyword arguments are {}\n",
      "The positional arguments are ()\n",
      "The keyword arguments are {}\n",
      "The positional arguments are ()\n",
      "The keyword arguments are {}\n",
      "The positional arguments are ()\n",
      "The keyword arguments are {}\n",
      "The positional arguments are ()\n",
      "The keyword arguments are {}\n",
      "The positional arguments are ()\n",
      "The keyword arguments are {}\n",
      "The positional arguments are ()\n",
      "The keyword arguments are {}\n",
      "The positional arguments are ()\n",
      "The keyword arguments are {}\n",
      "The positional arguments are ()\n",
      "The keyword arguments are {}\n",
      "The positional arguments are ()\n",
      "The keyword arguments are {}\n",
      "The positional arguments are ()\n",
      "The keyword arguments are {}\n",
      "The positional arguments are ()\n",
      "The keyword arguments are {}\n",
      "The positional arguments are ()\n",
      "The keyword arguments are {}\n",
      "The positional arguments are ()\n",
      "The keyword arguments are {}\n",
      "The positional arguments are ()\n",
      "The keyword arguments are {}\n",
      "The positional arguments are ()\n",
      "The keyword arguments are {}\n",
      "The positional arguments are ()\n",
      "The keyword arguments are {}\n",
      "The positional arguments are ()\n",
      "The keyword arguments are {}\n",
      "The positional arguments are ()\n",
      "The keyword arguments are {}\n",
      "The positional arguments are ()\n",
      "The keyword arguments are {}\n",
      "The positional arguments are ()\n",
      "The keyword arguments are {}\n",
      "The positional arguments are ()\n",
      "The keyword arguments are {}\n",
      "The positional arguments are ()\n",
      "The keyword arguments are {}\n",
      "The positional arguments are ()\n",
      "The keyword arguments are {}\n",
      "The positional arguments are ()\n",
      "The keyword arguments are {}\n",
      "The positional arguments are ()\n",
      "The keyword arguments are {}\n",
      "The positional arguments are ()\n",
      "The keyword arguments are {}\n",
      "The positional arguments are ()\n",
      "The keyword arguments are {}\n",
      "The positional arguments are ()\n",
      "The keyword arguments are {}\n",
      "The positional arguments are ()\n",
      "The keyword arguments are {}\n",
      "The positional arguments are ()\n",
      "The keyword arguments are {}\n",
      "The positional arguments are ()\n",
      "The keyword arguments are {}\n",
      "The positional arguments are ()\n",
      "The keyword arguments are {}\n",
      "The positional arguments are ()\n",
      "The keyword arguments are {}\n",
      "The positional arguments are ()\n",
      "The keyword arguments are {}\n",
      "The positional arguments are ()\n",
      "The keyword arguments are {}\n",
      "The positional arguments are ()\n",
      "The keyword arguments are {}\n",
      "The positional arguments are ()\n",
      "The keyword arguments are {}\n",
      "The positional arguments are ()\n",
      "The keyword arguments are {}\n",
      "The positional arguments are ()\n",
      "The keyword arguments are {}\n",
      "The positional arguments are ()\n",
      "The keyword arguments are {}\n",
      "The positional arguments are ()\n",
      "The keyword arguments are {}\n",
      "The positional arguments are ()\n",
      "The keyword arguments are {}\n",
      "The positional arguments are ()\n",
      "The keyword arguments are {}\n",
      "The positional arguments are ()\n",
      "The keyword arguments are {}\n",
      "The positional arguments are ()\n",
      "The keyword arguments are {}\n",
      "The positional arguments are ()\n",
      "The keyword arguments are {}\n",
      "The positional arguments are ()\n",
      "The keyword arguments are {}\n",
      "The positional arguments are ()\n",
      "The keyword arguments are {}\n",
      "The positional arguments are ()\n",
      "The keyword arguments are {}\n",
      "The positional arguments are ()\n",
      "The keyword arguments are {}\n",
      "The positional arguments are ()\n",
      "The keyword arguments are {}\n",
      "The positional arguments are ()\n",
      "The keyword arguments are {}\n",
      "The positional arguments are ()\n",
      "The keyword arguments are {}\n",
      "The positional arguments are ()\n",
      "The keyword arguments are {}\n",
      "The positional arguments are ()\n",
      "The keyword arguments are {}\n",
      "The positional arguments are ()\n",
      "The keyword arguments are {}\n",
      "The positional arguments are ()\n",
      "The keyword arguments are {}\n",
      "The positional arguments are ()\n",
      "The keyword arguments are {}\n",
      "The positional arguments are ()\n",
      "The keyword arguments are {}\n",
      "The positional arguments are ()\n",
      "The keyword arguments are {}\n",
      "The positional arguments are ()\n",
      "The keyword arguments are {}\n",
      "The positional arguments are ()\n",
      "The keyword arguments are {}\n",
      "The positional arguments are ()\n",
      "The keyword arguments are {}\n",
      "The positional arguments are ()\n",
      "The keyword arguments are {}\n",
      "The positional arguments are ()\n",
      "The keyword arguments are {}\n",
      "The positional arguments are ()\n",
      "The keyword arguments are {}\n",
      "The positional arguments are ()\n",
      "The keyword arguments are {}\n",
      "The positional arguments are ()\n",
      "The keyword arguments are {}\n",
      "The positional arguments are ()\n",
      "The keyword arguments are {}\n",
      "The positional arguments are ()\n",
      "The keyword arguments are {}\n",
      "The positional arguments are ()\n",
      "The keyword arguments are {}\n",
      "The positional arguments are ()\n",
      "The keyword arguments are {}\n",
      "The positional arguments are ()\n",
      "The keyword arguments are {}\n",
      "The positional arguments are ()\n",
      "The keyword arguments are {}\n",
      "The positional arguments are ()\n",
      "The keyword arguments are {}\n",
      "The positional arguments are ()\n",
      "The keyword arguments are {}\n",
      "The positional arguments are ()\n",
      "The keyword arguments are {}\n",
      "The positional arguments are ()\n",
      "The keyword arguments are {}\n",
      "The positional arguments are ()\n",
      "The keyword arguments are {}\n",
      "The positional arguments are ()\n",
      "The keyword arguments are {}\n",
      "The positional arguments are ()\n",
      "The keyword arguments are {}\n",
      "The positional arguments are ()\n",
      "The keyword arguments are {}\n",
      "The positional arguments are ()\n",
      "The keyword arguments are {}\n",
      "The positional arguments are ()\n",
      "The keyword arguments are {}\n",
      "The positional arguments are ()\n",
      "The keyword arguments are {}\n",
      "The positional arguments are ()\n",
      "The keyword arguments are {}\n",
      "The positional arguments are ()\n",
      "The keyword arguments are {}\n",
      "The positional arguments are ()\n",
      "The keyword arguments are {}\n",
      "The positional arguments are ()\n",
      "The keyword arguments are {}\n",
      "The positional arguments are ()\n",
      "The keyword arguments are {}\n",
      "The positional arguments are ()\n",
      "The keyword arguments are {}\n",
      "The positional arguments are ()\n",
      "The keyword arguments are {}\n",
      "The positional arguments are ()\n",
      "The keyword arguments are {}\n",
      "The positional arguments are ()\n",
      "The keyword arguments are {}\n",
      "The positional arguments are ()\n",
      "The keyword arguments are {}\n",
      "The positional arguments are ()\n",
      "The keyword arguments are {}\n",
      "The positional arguments are ()\n",
      "The keyword arguments are {}\n",
      "The positional arguments are ()\n",
      "The keyword arguments are {}\n",
      "The positional arguments are ()\n",
      "The keyword arguments are {}\n",
      "The positional arguments are ()\n",
      "The keyword arguments are {}\n",
      "The positional arguments are ()\n",
      "The keyword arguments are {}\n",
      "The positional arguments are ()\n",
      "The keyword arguments are {}\n",
      "The positional arguments are ()\n",
      "The keyword arguments are {}\n",
      "The positional arguments are ()\n",
      "The keyword arguments are {}\n",
      "The positional arguments are ()\n",
      "The keyword arguments are {}\n",
      "The positional arguments are ()\n",
      "The keyword arguments are {}\n",
      "The positional arguments are ()\n",
      "The keyword arguments are {}\n",
      "The positional arguments are ()\n",
      "The keyword arguments are {}\n",
      "The positional arguments are ()\n",
      "The keyword arguments are {}\n",
      "The positional arguments are ()\n",
      "The keyword arguments are {}\n",
      "The positional arguments are ()\n",
      "The keyword arguments are {}\n",
      "The positional arguments are ()\n",
      "The keyword arguments are {}\n",
      "The positional arguments are ()\n",
      "The keyword arguments are {}\n",
      "The positional arguments are ()\n",
      "The keyword arguments are {}\n",
      "The positional arguments are ()\n",
      "The keyword arguments are {}\n",
      "The positional arguments are ()\n",
      "The keyword arguments are {}\n",
      "The positional arguments are ()\n",
      "The keyword arguments are {}\n",
      "The positional arguments are ()\n",
      "The keyword arguments are {}\n",
      "The positional arguments are ()\n",
      "The keyword arguments are {}\n",
      "The positional arguments are ()\n",
      "The keyword arguments are {}\n",
      "The positional arguments are ()\n",
      "The keyword arguments are {}\n",
      "The positional arguments are ()\n",
      "The keyword arguments are {}\n",
      "The positional arguments are ()\n",
      "The keyword arguments are {}\n",
      "The positional arguments are ()\n",
      "The keyword arguments are {}\n",
      "The positional arguments are ()\n",
      "The keyword arguments are {}\n",
      "The positional arguments are ()\n",
      "The keyword arguments are {}\n",
      "The positional arguments are ()\n",
      "The keyword arguments are {}\n",
      "The positional arguments are ()\n",
      "The keyword arguments are {}\n",
      "The positional arguments are ()\n",
      "The keyword arguments are {}\n",
      "The positional arguments are ()\n",
      "The keyword arguments are {}\n",
      "The positional arguments are ()\n",
      "The keyword arguments are {}\n",
      "The positional arguments are ()\n",
      "The keyword arguments are {}\n",
      "The positional arguments are ()\n",
      "The keyword arguments are {}\n",
      "The positional arguments are ()\n",
      "The keyword arguments are {}\n",
      "The positional arguments are ()\n",
      "The keyword arguments are {}\n",
      "The positional arguments are ()\n",
      "The keyword arguments are {}\n",
      "The positional arguments are ()\n",
      "The keyword arguments are {}\n",
      "The positional arguments are ()\n",
      "The keyword arguments are {}\n",
      "The positional arguments are ()\n",
      "The keyword arguments are {}\n",
      "The positional arguments are ()\n",
      "The keyword arguments are {}\n",
      "The positional arguments are ()\n",
      "The keyword arguments are {}\n",
      "The positional arguments are ()\n",
      "The keyword arguments are {}\n",
      "The positional arguments are ()\n",
      "The keyword arguments are {}\n",
      "The positional arguments are ()\n",
      "The keyword arguments are {}\n",
      "The positional arguments are ()\n",
      "The keyword arguments are {}\n",
      "The positional arguments are ()\n",
      "The keyword arguments are {}\n",
      "The positional arguments are ()\n",
      "The keyword arguments are {}\n",
      "The positional arguments are ()\n",
      "The keyword arguments are {}\n",
      "The positional arguments are ()\n",
      "The keyword arguments are {}\n",
      "The positional arguments are ()\n",
      "The keyword arguments are {}\n",
      "The positional arguments are ()\n",
      "The keyword arguments are {}\n",
      "The positional arguments are ()\n",
      "The keyword arguments are {}\n",
      "The positional arguments are ()\n",
      "The keyword arguments are {}\n",
      "The positional arguments are ()\n",
      "The keyword arguments are {}\n",
      "The positional arguments are ()\n",
      "The keyword arguments are {}\n",
      "The positional arguments are ()\n",
      "The keyword arguments are {}\n",
      "The positional arguments are ()\n",
      "The keyword arguments are {}\n",
      "The positional arguments are ()\n",
      "The keyword arguments are {}\n",
      "The positional arguments are ()\n",
      "The keyword arguments are {}\n",
      "The positional arguments are ()\n",
      "The keyword arguments are {}\n",
      "The positional arguments are ()\n",
      "The keyword arguments are {}\n",
      "The positional arguments are ()\n",
      "The keyword arguments are {}\n",
      "The positional arguments are ()\n",
      "The keyword arguments are {}\n",
      "The positional arguments are ()\n",
      "The keyword arguments are {}\n",
      "The positional arguments are ()\n",
      "The keyword arguments are {}\n",
      "The positional arguments are ()\n",
      "The keyword arguments are {}\n",
      "The positional arguments are ()\n",
      "The keyword arguments are {}\n",
      "The positional arguments are ()\n",
      "The keyword arguments are {}\n",
      "The positional arguments are ()\n",
      "The keyword arguments are {}\n",
      "The positional arguments are ()\n",
      "The keyword arguments are {}\n",
      "The positional arguments are ()\n",
      "The keyword arguments are {}\n",
      "The positional arguments are ()\n",
      "The keyword arguments are {}\n"
     ]
    },
    {
     "name": "stdout",
     "output_type": "stream",
     "text": [
      "The positional arguments are ()\n",
      "The keyword arguments are {}\n",
      "The positional arguments are ()\n",
      "The keyword arguments are {}\n",
      "The positional arguments are ()\n",
      "The keyword arguments are {}\n",
      "The positional arguments are ()\n",
      "The keyword arguments are {}\n",
      "The positional arguments are ()\n",
      "The keyword arguments are {}\n",
      "The positional arguments are ()\n",
      "The keyword arguments are {}\n",
      "The positional arguments are ()\n",
      "The keyword arguments are {}\n",
      "The positional arguments are ()\n",
      "The keyword arguments are {}\n",
      "The positional arguments are ()\n",
      "The keyword arguments are {}\n",
      "The positional arguments are ()\n",
      "The keyword arguments are {}\n",
      "The positional arguments are ()\n",
      "The keyword arguments are {}\n",
      "The positional arguments are ()\n",
      "The keyword arguments are {}\n",
      "The positional arguments are ()\n",
      "The keyword arguments are {}\n",
      "The positional arguments are ()\n",
      "The keyword arguments are {}\n",
      "The positional arguments are ()\n",
      "The keyword arguments are {}\n",
      "The positional arguments are ()\n",
      "The keyword arguments are {}\n",
      "The positional arguments are ()\n",
      "The keyword arguments are {}\n",
      "The positional arguments are ()\n",
      "The keyword arguments are {}\n",
      "The positional arguments are ()\n",
      "The keyword arguments are {}\n",
      "The positional arguments are ()\n",
      "The keyword arguments are {}\n",
      "The positional arguments are ()\n",
      "The keyword arguments are {}\n",
      "The positional arguments are ()\n",
      "The keyword arguments are {}\n",
      "The positional arguments are ()\n",
      "The keyword arguments are {}\n",
      "The positional arguments are ()\n",
      "The keyword arguments are {}\n",
      "The positional arguments are ()\n",
      "The keyword arguments are {}\n",
      "The positional arguments are ()\n",
      "The keyword arguments are {}\n",
      "The positional arguments are ()\n",
      "The keyword arguments are {}\n",
      "The positional arguments are ()\n",
      "The keyword arguments are {}\n",
      "The positional arguments are ()\n",
      "The keyword arguments are {}\n",
      "The positional arguments are ()\n",
      "The keyword arguments are {}\n",
      "The positional arguments are ()\n",
      "The keyword arguments are {}\n",
      "The positional arguments are ()\n",
      "The keyword arguments are {}\n",
      "The positional arguments are ()\n",
      "The keyword arguments are {}\n",
      "The positional arguments are ()\n",
      "The keyword arguments are {}\n",
      "The positional arguments are ()\n",
      "The keyword arguments are {}\n",
      "The positional arguments are ()\n",
      "The keyword arguments are {}\n",
      "The positional arguments are ()\n",
      "The keyword arguments are {}\n",
      "The positional arguments are ()\n",
      "The keyword arguments are {}\n",
      "The positional arguments are ()\n",
      "The keyword arguments are {}\n",
      "The positional arguments are ()\n",
      "The keyword arguments are {}\n",
      "The positional arguments are ()\n",
      "The keyword arguments are {}\n",
      "The positional arguments are ()\n",
      "The keyword arguments are {}\n",
      "The positional arguments are ()\n",
      "The keyword arguments are {}\n",
      "The positional arguments are ()\n",
      "The keyword arguments are {}\n",
      "The positional arguments are ()\n",
      "The keyword arguments are {}\n",
      "The positional arguments are ()\n",
      "The keyword arguments are {}\n",
      "The positional arguments are ()\n",
      "The keyword arguments are {}\n",
      "The positional arguments are ()\n",
      "The keyword arguments are {}\n",
      "The positional arguments are ()\n",
      "The keyword arguments are {}\n",
      "The positional arguments are ()\n",
      "The keyword arguments are {}\n",
      "The positional arguments are ()\n",
      "The keyword arguments are {}\n",
      "The positional arguments are ()\n",
      "The keyword arguments are {}\n",
      "The positional arguments are ()\n",
      "The keyword arguments are {}\n",
      "The positional arguments are ()\n",
      "The keyword arguments are {}\n",
      "The positional arguments are ()\n",
      "The keyword arguments are {}\n",
      "The positional arguments are ()\n",
      "The keyword arguments are {}\n",
      "The positional arguments are ()\n",
      "The keyword arguments are {}\n",
      "The positional arguments are ()\n",
      "The keyword arguments are {}\n",
      "The positional arguments are ()\n",
      "The keyword arguments are {}\n",
      "The positional arguments are ()\n",
      "The keyword arguments are {}\n",
      "The positional arguments are ()\n",
      "The keyword arguments are {}\n",
      "The positional arguments are ()\n",
      "The keyword arguments are {}\n",
      "The positional arguments are ()\n",
      "The keyword arguments are {}\n",
      "The positional arguments are ()\n",
      "The keyword arguments are {}\n",
      "The positional arguments are ()\n",
      "The keyword arguments are {}\n",
      "The positional arguments are ()\n",
      "The keyword arguments are {}\n",
      "The positional arguments are ()\n",
      "The keyword arguments are {}\n",
      "The positional arguments are ()\n",
      "The keyword arguments are {}\n",
      "The positional arguments are ()\n",
      "The keyword arguments are {}\n",
      "The positional arguments are ()\n",
      "The keyword arguments are {}\n",
      "The positional arguments are ()\n",
      "The keyword arguments are {}\n",
      "The positional arguments are ()\n",
      "The keyword arguments are {}\n",
      "The positional arguments are ()\n",
      "The keyword arguments are {}\n",
      "The positional arguments are ()\n",
      "The keyword arguments are {}\n",
      "The positional arguments are ()\n",
      "The keyword arguments are {}\n",
      "The positional arguments are ()\n",
      "The keyword arguments are {}\n",
      "The positional arguments are ()\n",
      "The keyword arguments are {}\n",
      "The positional arguments are ()\n",
      "The keyword arguments are {}\n",
      "The positional arguments are ()\n",
      "The keyword arguments are {}\n",
      "The positional arguments are ()\n",
      "The keyword arguments are {}\n",
      "The positional arguments are ()\n",
      "The keyword arguments are {}\n",
      "The positional arguments are ()\n",
      "The keyword arguments are {}\n",
      "The positional arguments are ()\n",
      "The keyword arguments are {}\n",
      "The positional arguments are ()\n",
      "The keyword arguments are {}\n",
      "The positional arguments are ()\n",
      "The keyword arguments are {}\n",
      "The positional arguments are ()\n",
      "The keyword arguments are {}\n",
      "The positional arguments are ()\n",
      "The keyword arguments are {}\n",
      "The positional arguments are ()\n",
      "The keyword arguments are {}\n",
      "The positional arguments are ()\n",
      "The keyword arguments are {}\n",
      "The positional arguments are ()\n",
      "The keyword arguments are {}\n",
      "The positional arguments are ()\n",
      "The keyword arguments are {}\n",
      "The positional arguments are ()\n",
      "The keyword arguments are {}\n",
      "The positional arguments are ()\n",
      "The keyword arguments are {}\n",
      "The positional arguments are ()\n",
      "The keyword arguments are {}\n",
      "The positional arguments are ()\n",
      "The keyword arguments are {}\n",
      "The positional arguments are ()\n",
      "The keyword arguments are {}\n",
      "The positional arguments are ()\n",
      "The keyword arguments are {}\n",
      "The positional arguments are ()\n",
      "The keyword arguments are {}\n",
      "The positional arguments are ()\n",
      "The keyword arguments are {}\n",
      "The positional arguments are ()\n",
      "The keyword arguments are {}\n",
      "The positional arguments are ()\n",
      "The keyword arguments are {}\n",
      "The positional arguments are ()\n",
      "The keyword arguments are {}\n",
      "The positional arguments are ()\n",
      "The keyword arguments are {}\n",
      "The positional arguments are ()\n",
      "The keyword arguments are {}\n",
      "The positional arguments are ()\n",
      "The keyword arguments are {}\n",
      "The positional arguments are ()\n",
      "The keyword arguments are {}\n",
      "The positional arguments are ()\n",
      "The keyword arguments are {}\n",
      "The positional arguments are ()\n",
      "The keyword arguments are {}\n",
      "The positional arguments are ()\n",
      "The keyword arguments are {}\n",
      "The positional arguments are ()\n",
      "The keyword arguments are {}\n",
      "The positional arguments are ()\n",
      "The keyword arguments are {}\n",
      "The positional arguments are ()\n",
      "The keyword arguments are {}\n",
      "The positional arguments are ()\n",
      "The keyword arguments are {}\n",
      "The positional arguments are ()\n",
      "The keyword arguments are {}\n",
      "The positional arguments are ()\n",
      "The keyword arguments are {}\n",
      "The positional arguments are ()\n",
      "The keyword arguments are {}\n",
      "The positional arguments are ()\n",
      "The keyword arguments are {}\n",
      "The positional arguments are ()\n",
      "The keyword arguments are {}\n",
      "The positional arguments are ()\n",
      "The keyword arguments are {}\n",
      "The positional arguments are ()\n",
      "The keyword arguments are {}\n",
      "The positional arguments are ()\n",
      "The keyword arguments are {}\n",
      "The positional arguments are ()\n",
      "The keyword arguments are {}\n",
      "The positional arguments are ()\n",
      "The keyword arguments are {}\n",
      "The positional arguments are ()\n",
      "The keyword arguments are {}\n",
      "The positional arguments are ()\n",
      "The keyword arguments are {}\n",
      "The positional arguments are ()\n",
      "The keyword arguments are {}\n",
      "The positional arguments are ()\n",
      "The keyword arguments are {}\n",
      "The positional arguments are ()\n",
      "The keyword arguments are {}\n",
      "The positional arguments are ()\n",
      "The keyword arguments are {}\n",
      "The positional arguments are ()\n",
      "The keyword arguments are {}\n",
      "The positional arguments are ()\n",
      "The keyword arguments are {}\n",
      "The positional arguments are ()\n",
      "The keyword arguments are {}\n",
      "The positional arguments are ()\n",
      "The keyword arguments are {}\n",
      "The positional arguments are ()\n",
      "The keyword arguments are {}\n",
      "The positional arguments are ()\n",
      "The keyword arguments are {}\n",
      "The positional arguments are ()\n",
      "The keyword arguments are {}\n",
      "The positional arguments are ()\n",
      "The keyword arguments are {}\n",
      "The positional arguments are ()\n",
      "The keyword arguments are {}\n",
      "The positional arguments are ()\n",
      "The keyword arguments are {}\n",
      "The positional arguments are ()\n",
      "The keyword arguments are {}\n",
      "The positional arguments are ()\n",
      "The keyword arguments are {}\n",
      "The positional arguments are ()\n",
      "The keyword arguments are {}\n",
      "The positional arguments are ()\n",
      "The keyword arguments are {}\n",
      "The positional arguments are ()\n",
      "The keyword arguments are {}\n",
      "The positional arguments are ()\n",
      "The keyword arguments are {}\n",
      "The positional arguments are ()\n",
      "The keyword arguments are {}\n",
      "The positional arguments are ()\n",
      "The keyword arguments are {}\n",
      "The positional arguments are ()\n",
      "The keyword arguments are {}\n",
      "The positional arguments are ()\n",
      "The keyword arguments are {}\n",
      "The positional arguments are ()\n",
      "The keyword arguments are {}\n",
      "The positional arguments are ()\n",
      "The keyword arguments are {}\n",
      "The positional arguments are ()\n",
      "The keyword arguments are {}\n",
      "The positional arguments are ()\n",
      "The keyword arguments are {}\n",
      "The positional arguments are ()\n",
      "The keyword arguments are {}\n",
      "The positional arguments are ()\n",
      "The keyword arguments are {}\n",
      "The positional arguments are ()\n",
      "The keyword arguments are {}\n",
      "The positional arguments are ()\n",
      "The keyword arguments are {}\n",
      "The positional arguments are ()\n",
      "The keyword arguments are {}\n",
      "The positional arguments are ()\n",
      "The keyword arguments are {}\n",
      "The positional arguments are ()\n",
      "The keyword arguments are {}\n",
      "The positional arguments are ()\n",
      "The keyword arguments are {}\n",
      "The positional arguments are ()\n",
      "The keyword arguments are {}\n",
      "The positional arguments are ()\n",
      "The keyword arguments are {}\n",
      "The positional arguments are ()\n",
      "The keyword arguments are {}\n",
      "The positional arguments are ()\n",
      "The keyword arguments are {}\n",
      "The positional arguments are ()\n",
      "The keyword arguments are {}\n",
      "The positional arguments are ()\n",
      "The keyword arguments are {}\n",
      "The positional arguments are ()\n",
      "The keyword arguments are {}\n",
      "The positional arguments are ()\n",
      "The keyword arguments are {}\n",
      "The positional arguments are ()\n",
      "The keyword arguments are {}\n",
      "The positional arguments are ()\n",
      "The keyword arguments are {}\n",
      "The positional arguments are ()\n",
      "The keyword arguments are {}\n",
      "The positional arguments are ()\n",
      "The keyword arguments are {}\n",
      "The positional arguments are ()\n",
      "The keyword arguments are {}\n",
      "The positional arguments are ()\n",
      "The keyword arguments are {}\n",
      "The positional arguments are ()\n",
      "The keyword arguments are {}\n",
      "The positional arguments are ()\n",
      "The keyword arguments are {}\n",
      "The positional arguments are ()\n",
      "The keyword arguments are {}\n",
      "The positional arguments are ()\n",
      "The keyword arguments are {}\n",
      "The positional arguments are ()\n",
      "The keyword arguments are {}\n",
      "The positional arguments are ()\n",
      "The keyword arguments are {}\n",
      "The positional arguments are ()\n",
      "The keyword arguments are {}\n",
      "The positional arguments are ()\n",
      "The keyword arguments are {}\n",
      "The positional arguments are ()\n",
      "The keyword arguments are {}\n",
      "The positional arguments are ()\n",
      "The keyword arguments are {}\n",
      "The positional arguments are ()\n",
      "The keyword arguments are {}\n",
      "The positional arguments are ()\n",
      "The keyword arguments are {}\n",
      "The positional arguments are ()\n",
      "The keyword arguments are {}\n",
      "The positional arguments are ()\n",
      "The keyword arguments are {}\n",
      "The positional arguments are ()\n",
      "The keyword arguments are {}\n",
      "The positional arguments are ()\n",
      "The keyword arguments are {}\n",
      "The positional arguments are ()\n",
      "The keyword arguments are {}\n",
      "The positional arguments are ()\n",
      "The keyword arguments are {}\n",
      "The positional arguments are ()\n",
      "The keyword arguments are {}\n",
      "The positional arguments are ()\n",
      "The keyword arguments are {}\n",
      "The positional arguments are ()\n",
      "The keyword arguments are {}\n",
      "The positional arguments are ()\n",
      "The keyword arguments are {}\n",
      "The positional arguments are ()\n",
      "The keyword arguments are {}\n",
      "The positional arguments are ()\n",
      "The keyword arguments are {}\n",
      "The positional arguments are ()\n",
      "The keyword arguments are {}\n",
      "The positional arguments are ()\n",
      "The keyword arguments are {}\n",
      "The positional arguments are ()\n",
      "The keyword arguments are {}\n",
      "The positional arguments are ()\n",
      "The keyword arguments are {}\n",
      "The positional arguments are ()\n",
      "The keyword arguments are {}\n",
      "The positional arguments are ()\n",
      "The keyword arguments are {}\n",
      "The positional arguments are ()\n",
      "The keyword arguments are {}\n",
      "The positional arguments are ()\n",
      "The keyword arguments are {}\n",
      "The positional arguments are ()\n",
      "The keyword arguments are {}\n",
      "The positional arguments are ()\n",
      "The keyword arguments are {}\n",
      "The positional arguments are ()\n",
      "The keyword arguments are {}\n",
      "The positional arguments are ()\n",
      "The keyword arguments are {}\n",
      "The positional arguments are ()\n",
      "The keyword arguments are {}\n",
      "The positional arguments are ()\n",
      "The keyword arguments are {}\n",
      "The positional arguments are ()\n",
      "The keyword arguments are {}\n",
      "The positional arguments are ()\n",
      "The keyword arguments are {}\n",
      "The positional arguments are ()\n",
      "The keyword arguments are {}\n",
      "The positional arguments are ()\n",
      "The keyword arguments are {}\n",
      "The positional arguments are ()\n",
      "The keyword arguments are {}\n",
      "The positional arguments are ()\n",
      "The keyword arguments are {}\n",
      "The positional arguments are ()\n",
      "The keyword arguments are {}\n",
      "The positional arguments are ()\n",
      "The keyword arguments are {}\n",
      "The positional arguments are ()\n",
      "The keyword arguments are {}\n",
      "The positional arguments are ()\n",
      "The keyword arguments are {}\n",
      "The positional arguments are ()\n",
      "The keyword arguments are {}\n",
      "The positional arguments are ()\n",
      "The keyword arguments are {}\n",
      "The positional arguments are ()\n",
      "The keyword arguments are {}\n",
      "The positional arguments are ()\n",
      "The keyword arguments are {}\n",
      "The positional arguments are ()\n",
      "The keyword arguments are {}\n",
      "The positional arguments are ()\n",
      "The keyword arguments are {}\n",
      "The positional arguments are ()\n",
      "The keyword arguments are {}\n",
      "The positional arguments are ()\n",
      "The keyword arguments are {}\n",
      "The positional arguments are ()\n",
      "The keyword arguments are {}\n",
      "The positional arguments are ()\n",
      "The keyword arguments are {}\n",
      "The positional arguments are ()\n",
      "The keyword arguments are {}\n",
      "The positional arguments are ()\n",
      "The keyword arguments are {}\n",
      "The positional arguments are ()\n",
      "The keyword arguments are {}\n",
      "The positional arguments are ()\n",
      "The keyword arguments are {}\n",
      "The positional arguments are ()\n",
      "The keyword arguments are {}\n",
      "The positional arguments are ()\n",
      "The keyword arguments are {}\n",
      "The positional arguments are ()\n",
      "The keyword arguments are {}\n",
      "The positional arguments are ()\n",
      "The keyword arguments are {}\n",
      "The positional arguments are ()\n",
      "The keyword arguments are {}\n",
      "The positional arguments are ()\n",
      "The keyword arguments are {}\n",
      "The positional arguments are ()\n",
      "The keyword arguments are {}\n",
      "The positional arguments are ()\n",
      "The keyword arguments are {}\n",
      "The positional arguments are ()\n",
      "The keyword arguments are {}\n",
      "The positional arguments are ()\n",
      "The keyword arguments are {}\n",
      "The positional arguments are ()\n",
      "The keyword arguments are {}\n",
      "The positional arguments are ()\n",
      "The keyword arguments are {}\n",
      "The positional arguments are ()\n",
      "The keyword arguments are {}\n",
      "The positional arguments are ()\n",
      "The keyword arguments are {}\n",
      "The positional arguments are ()\n",
      "The keyword arguments are {}\n",
      "The positional arguments are ()\n",
      "The keyword arguments are {}\n",
      "The positional arguments are ()\n",
      "The keyword arguments are {}\n",
      "The positional arguments are ()\n",
      "The keyword arguments are {}\n",
      "The positional arguments are ()\n",
      "The keyword arguments are {}\n",
      "The positional arguments are ()\n",
      "The keyword arguments are {}\n",
      "The positional arguments are ()\n",
      "The keyword arguments are {}\n",
      "The positional arguments are ()\n",
      "The keyword arguments are {}\n",
      "The positional arguments are ()\n",
      "The keyword arguments are {}\n",
      "The positional arguments are ()\n",
      "The keyword arguments are {}\n",
      "The positional arguments are ()\n",
      "The keyword arguments are {}\n",
      "The positional arguments are ()\n",
      "The keyword arguments are {}\n",
      "The positional arguments are ()\n",
      "The keyword arguments are {}\n",
      "The positional arguments are ()\n",
      "The keyword arguments are {}\n",
      "The positional arguments are ()\n",
      "The keyword arguments are {}\n",
      "The positional arguments are ()\n",
      "The keyword arguments are {}\n",
      "The positional arguments are ()\n",
      "The keyword arguments are {}\n",
      "The positional arguments are ()\n",
      "The keyword arguments are {}\n",
      "The positional arguments are ()\n",
      "The keyword arguments are {}\n",
      "The positional arguments are ()\n",
      "The keyword arguments are {}\n",
      "The positional arguments are ()\n",
      "The keyword arguments are {}\n",
      "The positional arguments are ()\n",
      "The keyword arguments are {}\n",
      "The positional arguments are ()\n",
      "The keyword arguments are {}\n",
      "The positional arguments are ()\n",
      "The keyword arguments are {}\n",
      "The positional arguments are ()\n",
      "The keyword arguments are {}\n",
      "The positional arguments are ()\n",
      "The keyword arguments are {}\n",
      "The positional arguments are ()\n",
      "The keyword arguments are {}\n",
      "The positional arguments are ()\n",
      "The keyword arguments are {}\n",
      "The positional arguments are ()\n",
      "The keyword arguments are {}\n",
      "The positional arguments are ()\n",
      "The keyword arguments are {}\n",
      "The positional arguments are ()\n",
      "The keyword arguments are {}\n",
      "The positional arguments are ()\n",
      "The keyword arguments are {}\n",
      "The positional arguments are ()\n",
      "The keyword arguments are {}\n",
      "The positional arguments are ()\n",
      "The keyword arguments are {}\n",
      "The positional arguments are ()\n",
      "The keyword arguments are {}\n",
      "The positional arguments are ()\n",
      "The keyword arguments are {}\n",
      "The positional arguments are ()\n",
      "The keyword arguments are {}\n",
      "The positional arguments are ()\n",
      "The keyword arguments are {}\n",
      "The positional arguments are ()\n",
      "The keyword arguments are {}\n",
      "The positional arguments are ()\n",
      "The keyword arguments are {}\n",
      "The positional arguments are ()\n",
      "The keyword arguments are {}\n",
      "The positional arguments are ()\n",
      "The keyword arguments are {}\n",
      "The positional arguments are ()\n",
      "The keyword arguments are {}\n",
      "The positional arguments are ()\n",
      "The keyword arguments are {}\n",
      "The positional arguments are ()\n",
      "The keyword arguments are {}\n",
      "The positional arguments are ()\n",
      "The keyword arguments are {}\n",
      "The positional arguments are ()\n",
      "The keyword arguments are {}\n",
      "The positional arguments are ()\n",
      "The keyword arguments are {}\n",
      "The positional arguments are ()\n",
      "The keyword arguments are {}\n",
      "The positional arguments are ()\n",
      "The keyword arguments are {}\n",
      "The positional arguments are ()\n",
      "The keyword arguments are {}\n",
      "The positional arguments are ()\n",
      "The keyword arguments are {}\n",
      "The positional arguments are ()\n",
      "The keyword arguments are {}\n",
      "The positional arguments are ()\n",
      "The keyword arguments are {}\n",
      "The positional arguments are ()\n",
      "The keyword arguments are {}\n",
      "The positional arguments are ()\n",
      "The keyword arguments are {}\n",
      "The positional arguments are ()\n",
      "The keyword arguments are {}\n",
      "The positional arguments are ()\n",
      "The keyword arguments are {}\n",
      "The positional arguments are ()\n",
      "The keyword arguments are {}\n",
      "The positional arguments are ()\n",
      "The keyword arguments are {}\n",
      "The positional arguments are ()\n",
      "The keyword arguments are {}\n",
      "The positional arguments are ()\n",
      "The keyword arguments are {}\n",
      "The positional arguments are ()\n",
      "The keyword arguments are {}\n",
      "The positional arguments are ()\n",
      "The keyword arguments are {}\n",
      "The positional arguments are ()\n",
      "The keyword arguments are {}\n",
      "The positional arguments are ()\n",
      "The keyword arguments are {}\n",
      "The positional arguments are ()\n",
      "The keyword arguments are {}\n",
      "The positional arguments are ()\n",
      "The keyword arguments are {}\n",
      "The positional arguments are ()\n",
      "The keyword arguments are {}\n",
      "The positional arguments are ()\n",
      "The keyword arguments are {}\n",
      "The positional arguments are ()\n",
      "The keyword arguments are {}\n",
      "The positional arguments are ()\n",
      "The keyword arguments are {}\n",
      "The positional arguments are ()\n",
      "The keyword arguments are {}\n",
      "The positional arguments are ()\n",
      "The keyword arguments are {}\n",
      "The positional arguments are ()\n",
      "The keyword arguments are {}\n",
      "The positional arguments are ()\n",
      "The keyword arguments are {}\n",
      "The positional arguments are ()\n",
      "The keyword arguments are {}\n",
      "The positional arguments are ()\n",
      "The keyword arguments are {}\n",
      "The positional arguments are ()\n",
      "The keyword arguments are {}\n",
      "The positional arguments are ()\n",
      "The keyword arguments are {}\n",
      "The positional arguments are ()\n",
      "The keyword arguments are {}\n",
      "The positional arguments are ()\n",
      "The keyword arguments are {}\n",
      "The positional arguments are ()\n",
      "The keyword arguments are {}\n",
      "The positional arguments are ()\n",
      "The keyword arguments are {}\n",
      "The positional arguments are ()\n",
      "The keyword arguments are {}\n",
      "The positional arguments are ()\n",
      "The keyword arguments are {}\n",
      "The positional arguments are ()\n",
      "The keyword arguments are {}\n",
      "The positional arguments are ()\n",
      "The keyword arguments are {}\n",
      "The positional arguments are ()\n",
      "The keyword arguments are {}\n",
      "The positional arguments are ()\n",
      "The keyword arguments are {}\n",
      "The positional arguments are ()\n",
      "The keyword arguments are {}\n",
      "The positional arguments are ()\n",
      "The keyword arguments are {}\n",
      "The positional arguments are ()\n",
      "The keyword arguments are {}\n",
      "The positional arguments are ()\n",
      "The keyword arguments are {}\n",
      "The positional arguments are ()\n",
      "The keyword arguments are {}\n",
      "The positional arguments are ()\n",
      "The keyword arguments are {}\n",
      "The positional arguments are ()\n",
      "The keyword arguments are {}\n",
      "The positional arguments are ()\n",
      "The keyword arguments are {}\n",
      "The positional arguments are ()\n",
      "The keyword arguments are {}\n",
      "The positional arguments are ()\n",
      "The keyword arguments are {}\n",
      "The positional arguments are ()\n",
      "The keyword arguments are {}\n",
      "The positional arguments are ()\n",
      "The keyword arguments are {}\n",
      "The positional arguments are ()\n",
      "The keyword arguments are {}\n",
      "The positional arguments are ()\n",
      "The keyword arguments are {}\n",
      "The positional arguments are ()\n",
      "The keyword arguments are {}\n",
      "The positional arguments are ()\n",
      "The keyword arguments are {}\n",
      "The positional arguments are ()\n",
      "The keyword arguments are {}\n",
      "The positional arguments are ()\n",
      "The keyword arguments are {}\n",
      "The positional arguments are ()\n",
      "The keyword arguments are {}\n",
      "The positional arguments are ()\n",
      "The keyword arguments are {}\n",
      "The positional arguments are ()\n",
      "The keyword arguments are {}\n",
      "The positional arguments are ()\n",
      "The keyword arguments are {}\n",
      "The positional arguments are ()\n",
      "The keyword arguments are {}\n",
      "The positional arguments are ()\n",
      "The keyword arguments are {}\n",
      "The positional arguments are ()\n",
      "The keyword arguments are {}\n",
      "The positional arguments are ()\n",
      "The keyword arguments are {}\n",
      "The positional arguments are ()\n",
      "The keyword arguments are {}\n",
      "The positional arguments are ()\n",
      "The keyword arguments are {}\n",
      "The positional arguments are ()\n",
      "The keyword arguments are {}\n",
      "The positional arguments are ()\n",
      "The keyword arguments are {}\n",
      "The positional arguments are ()\n",
      "The keyword arguments are {}\n",
      "The positional arguments are ()\n",
      "The keyword arguments are {}\n",
      "The positional arguments are ()\n",
      "The keyword arguments are {}\n",
      "The positional arguments are ()\n",
      "The keyword arguments are {}\n"
     ]
    },
    {
     "name": "stdout",
     "output_type": "stream",
     "text": [
      "The positional arguments are ()\n",
      "The keyword arguments are {}\n",
      "The positional arguments are ()\n",
      "The keyword arguments are {}\n",
      "The positional arguments are ()\n",
      "The keyword arguments are {}\n",
      "The positional arguments are ()\n",
      "The keyword arguments are {}\n",
      "The positional arguments are ()\n",
      "The keyword arguments are {}\n",
      "The positional arguments are ()\n",
      "The keyword arguments are {}\n",
      "The positional arguments are ()\n",
      "The keyword arguments are {}\n",
      "The positional arguments are ()\n",
      "The keyword arguments are {}\n",
      "The positional arguments are ()\n",
      "The keyword arguments are {}\n",
      "The positional arguments are ()\n",
      "The keyword arguments are {}\n",
      "The positional arguments are ()\n",
      "The keyword arguments are {}\n",
      "The positional arguments are ()\n",
      "The keyword arguments are {}\n",
      "The positional arguments are ()\n",
      "The keyword arguments are {}\n",
      "The positional arguments are ()\n",
      "The keyword arguments are {}\n",
      "The positional arguments are ()\n",
      "The keyword arguments are {}\n",
      "The positional arguments are ()\n",
      "The keyword arguments are {}\n",
      "The positional arguments are ()\n",
      "The keyword arguments are {}\n",
      "The positional arguments are ()\n",
      "The keyword arguments are {}\n",
      "The positional arguments are ()\n",
      "The keyword arguments are {}\n",
      "The positional arguments are ()\n",
      "The keyword arguments are {}\n",
      "The positional arguments are ()\n",
      "The keyword arguments are {}\n",
      "The positional arguments are ()\n",
      "The keyword arguments are {}\n",
      "The positional arguments are ()\n",
      "The keyword arguments are {}\n",
      "The positional arguments are ()\n",
      "The keyword arguments are {}\n",
      "The positional arguments are ()\n",
      "The keyword arguments are {}\n",
      "The positional arguments are ()\n",
      "The keyword arguments are {}\n",
      "The positional arguments are ()\n",
      "The keyword arguments are {}\n",
      "The positional arguments are ()\n",
      "The keyword arguments are {}\n",
      "The positional arguments are ()\n",
      "The keyword arguments are {}\n",
      "The positional arguments are ()\n",
      "The keyword arguments are {}\n",
      "The positional arguments are ()\n",
      "The keyword arguments are {}\n",
      "The positional arguments are ()\n",
      "The keyword arguments are {}\n",
      "The positional arguments are ()\n",
      "The keyword arguments are {}\n",
      "The positional arguments are ()\n",
      "The keyword arguments are {}\n",
      "The positional arguments are ()\n",
      "The keyword arguments are {}\n",
      "The positional arguments are ()\n",
      "The keyword arguments are {}\n",
      "The positional arguments are ()\n",
      "The keyword arguments are {}\n",
      "The positional arguments are ()\n",
      "The keyword arguments are {}\n",
      "The positional arguments are ()\n",
      "The keyword arguments are {}\n",
      "The positional arguments are ()\n",
      "The keyword arguments are {}\n",
      "The positional arguments are ()\n",
      "The keyword arguments are {}\n",
      "The positional arguments are ()\n",
      "The keyword arguments are {}\n",
      "The positional arguments are ()\n",
      "The keyword arguments are {}\n",
      "The positional arguments are ()\n",
      "The keyword arguments are {}\n",
      "The positional arguments are ()\n",
      "The keyword arguments are {}\n",
      "The positional arguments are ()\n",
      "The keyword arguments are {}\n",
      "The positional arguments are ()\n",
      "The keyword arguments are {}\n",
      "The positional arguments are ()\n",
      "The keyword arguments are {}\n",
      "The positional arguments are ()\n",
      "The keyword arguments are {}\n",
      "The positional arguments are ()\n",
      "The keyword arguments are {}\n",
      "The positional arguments are ()\n",
      "The keyword arguments are {}\n",
      "The positional arguments are ()\n",
      "The keyword arguments are {}\n",
      "The positional arguments are ()\n",
      "The keyword arguments are {}\n",
      "The positional arguments are ()\n",
      "The keyword arguments are {}\n",
      "The positional arguments are ()\n",
      "The keyword arguments are {}\n",
      "The positional arguments are ()\n",
      "The keyword arguments are {}\n",
      "The positional arguments are ()\n",
      "The keyword arguments are {}\n",
      "The positional arguments are ()\n",
      "The keyword arguments are {}\n",
      "The positional arguments are ()\n",
      "The keyword arguments are {}\n",
      "The positional arguments are ()\n",
      "The keyword arguments are {}\n",
      "The positional arguments are ()\n",
      "The keyword arguments are {}\n",
      "The positional arguments are ()\n",
      "The keyword arguments are {}\n",
      "The positional arguments are ()\n",
      "The keyword arguments are {}\n",
      "The positional arguments are ()\n",
      "The keyword arguments are {}\n",
      "The positional arguments are ()\n",
      "The keyword arguments are {}\n",
      "The positional arguments are ()\n",
      "The keyword arguments are {}\n",
      "The positional arguments are ()\n",
      "The keyword arguments are {}\n",
      "The positional arguments are ()\n",
      "The keyword arguments are {}\n",
      "The positional arguments are ()\n",
      "The keyword arguments are {}\n",
      "The positional arguments are ()\n",
      "The keyword arguments are {}\n",
      "The positional arguments are ()\n",
      "The keyword arguments are {}\n",
      "The positional arguments are ()\n",
      "The keyword arguments are {}\n",
      "The positional arguments are ()\n",
      "The keyword arguments are {}\n",
      "The positional arguments are ()\n",
      "The keyword arguments are {}\n",
      "The positional arguments are ()\n",
      "The keyword arguments are {}\n",
      "The positional arguments are ()\n",
      "The keyword arguments are {}\n",
      "The positional arguments are ()\n",
      "The keyword arguments are {}\n",
      "The positional arguments are ()\n",
      "The keyword arguments are {}\n",
      "The positional arguments are ()\n",
      "The keyword arguments are {}\n",
      "The positional arguments are ()\n",
      "The keyword arguments are {}\n",
      "The positional arguments are ()\n",
      "The keyword arguments are {}\n",
      "The positional arguments are ()\n",
      "The keyword arguments are {}\n",
      "The positional arguments are ()\n",
      "The keyword arguments are {}\n",
      "The positional arguments are ()\n",
      "The keyword arguments are {}\n",
      "The positional arguments are ()\n",
      "The keyword arguments are {}\n",
      "The positional arguments are ()\n",
      "The keyword arguments are {}\n",
      "The positional arguments are ()\n",
      "The keyword arguments are {}\n",
      "The positional arguments are ()\n",
      "The keyword arguments are {}\n",
      "The positional arguments are ()\n",
      "The keyword arguments are {}\n",
      "The positional arguments are ()\n",
      "The keyword arguments are {}\n",
      "The positional arguments are ()\n",
      "The keyword arguments are {}\n",
      "The positional arguments are ()\n",
      "The keyword arguments are {}\n",
      "The positional arguments are ()\n",
      "The keyword arguments are {}\n",
      "The positional arguments are ()\n",
      "The keyword arguments are {}\n",
      "The positional arguments are ()\n",
      "The keyword arguments are {}\n",
      "The positional arguments are ()\n",
      "The keyword arguments are {}\n",
      "The positional arguments are ()\n",
      "The keyword arguments are {}\n",
      "The positional arguments are ()\n",
      "The keyword arguments are {}\n",
      "The positional arguments are ()\n",
      "The keyword arguments are {}\n",
      "The positional arguments are ()\n",
      "The keyword arguments are {}\n",
      "The positional arguments are ()\n",
      "The keyword arguments are {}\n",
      "The positional arguments are ()\n",
      "The keyword arguments are {}\n",
      "The positional arguments are ()\n",
      "The keyword arguments are {}\n",
      "The positional arguments are ()\n",
      "The keyword arguments are {}\n",
      "The positional arguments are ()\n",
      "The keyword arguments are {}\n",
      "The positional arguments are ()\n",
      "The keyword arguments are {}\n",
      "The positional arguments are ()\n",
      "The keyword arguments are {}\n",
      "The positional arguments are ()\n",
      "The keyword arguments are {}\n",
      "The positional arguments are ()\n",
      "The keyword arguments are {}\n",
      "The positional arguments are ()\n",
      "The keyword arguments are {}\n",
      "The positional arguments are ()\n",
      "The keyword arguments are {}\n",
      "The positional arguments are ()\n",
      "The keyword arguments are {}\n",
      "The positional arguments are ()\n",
      "The keyword arguments are {}\n",
      "The positional arguments are ()\n",
      "The keyword arguments are {}\n",
      "The positional arguments are ()\n",
      "The keyword arguments are {}\n",
      "The positional arguments are ()\n",
      "The keyword arguments are {}\n",
      "The positional arguments are ()\n",
      "The keyword arguments are {}\n",
      "The positional arguments are ()\n",
      "The keyword arguments are {}\n",
      "The positional arguments are ()\n",
      "The keyword arguments are {}\n",
      "The positional arguments are ()\n",
      "The keyword arguments are {}\n",
      "The positional arguments are ()\n",
      "The keyword arguments are {}\n",
      "The positional arguments are ()\n",
      "The keyword arguments are {}\n",
      "The positional arguments are ()\n",
      "The keyword arguments are {}\n",
      "The positional arguments are ()\n",
      "The keyword arguments are {}\n",
      "The positional arguments are ()\n",
      "The keyword arguments are {}\n",
      "The positional arguments are ()\n",
      "The keyword arguments are {}\n",
      "The positional arguments are ()\n",
      "The keyword arguments are {}\n",
      "The positional arguments are ()\n",
      "The keyword arguments are {}\n",
      "The positional arguments are ()\n",
      "The keyword arguments are {}\n",
      "The positional arguments are ()\n",
      "The keyword arguments are {}\n",
      "The positional arguments are ()\n",
      "The keyword arguments are {}\n",
      "The positional arguments are ()\n",
      "The keyword arguments are {}\n",
      "The positional arguments are ()\n",
      "The keyword arguments are {}\n",
      "The positional arguments are ()\n",
      "The keyword arguments are {}\n",
      "The positional arguments are ()\n",
      "The keyword arguments are {}\n",
      "The positional arguments are ()\n",
      "The keyword arguments are {}\n",
      "The positional arguments are ()\n",
      "The keyword arguments are {}\n",
      "The positional arguments are ()\n",
      "The keyword arguments are {}\n",
      "The positional arguments are ()\n",
      "The keyword arguments are {}\n",
      "The positional arguments are ()\n",
      "The keyword arguments are {}\n",
      "The positional arguments are ()\n",
      "The keyword arguments are {}\n",
      "The positional arguments are ()\n",
      "The keyword arguments are {}\n",
      "The positional arguments are ()\n",
      "The keyword arguments are {}\n",
      "The positional arguments are ()\n",
      "The keyword arguments are {}\n",
      "The positional arguments are ()\n",
      "The keyword arguments are {}\n",
      "The positional arguments are ()\n",
      "The keyword arguments are {}\n",
      "The positional arguments are ()\n",
      "The keyword arguments are {}\n",
      "The positional arguments are ()\n",
      "The keyword arguments are {}\n",
      "The positional arguments are ()\n",
      "The keyword arguments are {}\n",
      "The positional arguments are ()\n",
      "The keyword arguments are {}\n",
      "The positional arguments are ()\n",
      "The keyword arguments are {}\n",
      "The positional arguments are ()\n",
      "The keyword arguments are {}\n",
      "The positional arguments are ()\n",
      "The keyword arguments are {}\n",
      "The positional arguments are ()\n",
      "The keyword arguments are {}\n",
      "The positional arguments are ()\n",
      "The keyword arguments are {}\n",
      "The positional arguments are ()\n",
      "The keyword arguments are {}\n",
      "The positional arguments are ()\n",
      "The keyword arguments are {}\n",
      "The positional arguments are ()\n",
      "The keyword arguments are {}\n",
      "The positional arguments are ()\n",
      "The keyword arguments are {}\n",
      "The positional arguments are ()\n",
      "The keyword arguments are {}\n",
      "The positional arguments are ()\n",
      "The keyword arguments are {}\n",
      "The positional arguments are ()\n",
      "The keyword arguments are {}\n",
      "The positional arguments are ()\n",
      "The keyword arguments are {}\n",
      "The positional arguments are ()\n",
      "The keyword arguments are {}\n",
      "The positional arguments are ()\n",
      "The keyword arguments are {}\n",
      "The positional arguments are ()\n",
      "The keyword arguments are {}\n",
      "The positional arguments are ()\n",
      "The keyword arguments are {}\n",
      "The positional arguments are ()\n",
      "The keyword arguments are {}\n",
      "The positional arguments are ()\n",
      "The keyword arguments are {}\n",
      "The positional arguments are ()\n",
      "The keyword arguments are {}\n",
      "The positional arguments are ()\n",
      "The keyword arguments are {}\n",
      "The positional arguments are ()\n",
      "The keyword arguments are {}\n",
      "The positional arguments are ()\n",
      "The keyword arguments are {}\n",
      "The positional arguments are ()\n",
      "The keyword arguments are {}\n",
      "The positional arguments are ()\n",
      "The keyword arguments are {}\n",
      "The positional arguments are ()\n",
      "The keyword arguments are {}\n",
      "The positional arguments are ()\n",
      "The keyword arguments are {}\n",
      "The positional arguments are ()\n",
      "The keyword arguments are {}\n",
      "The positional arguments are ()\n",
      "The keyword arguments are {}\n",
      "The positional arguments are ()\n",
      "The keyword arguments are {}\n",
      "The positional arguments are ()\n",
      "The keyword arguments are {}\n",
      "The positional arguments are ()\n",
      "The keyword arguments are {}\n",
      "The positional arguments are ()\n",
      "The keyword arguments are {}\n",
      "The positional arguments are ()\n",
      "The keyword arguments are {}\n",
      "The positional arguments are ()\n",
      "The keyword arguments are {}\n",
      "The positional arguments are ()\n",
      "The keyword arguments are {}\n",
      "The positional arguments are ()\n",
      "The keyword arguments are {}\n",
      "The positional arguments are ()\n",
      "The keyword arguments are {}\n",
      "The positional arguments are ()\n",
      "The keyword arguments are {}\n",
      "The positional arguments are ()\n",
      "The keyword arguments are {}\n",
      "The positional arguments are ()\n",
      "The keyword arguments are {}\n",
      "The positional arguments are ()\n",
      "The keyword arguments are {}\n",
      "The positional arguments are ()\n",
      "The keyword arguments are {}\n",
      "The positional arguments are ()\n",
      "The keyword arguments are {}\n",
      "The positional arguments are ()\n",
      "The keyword arguments are {}\n",
      "The positional arguments are ()\n",
      "The keyword arguments are {}\n",
      "The positional arguments are ()\n",
      "The keyword arguments are {}\n",
      "The positional arguments are ()\n",
      "The keyword arguments are {}\n",
      "The positional arguments are ()\n",
      "The keyword arguments are {}\n",
      "The positional arguments are ()\n",
      "The keyword arguments are {}\n",
      "The positional arguments are ()\n",
      "The keyword arguments are {}\n",
      "The positional arguments are ()\n",
      "The keyword arguments are {}\n",
      "The positional arguments are ()\n",
      "The keyword arguments are {}\n",
      "The positional arguments are ()\n",
      "The keyword arguments are {}\n",
      "The positional arguments are ()\n",
      "The keyword arguments are {}\n",
      "The positional arguments are ()\n",
      "The keyword arguments are {}\n",
      "The positional arguments are ()\n",
      "The keyword arguments are {}\n",
      "The positional arguments are ()\n",
      "The keyword arguments are {}\n",
      "The positional arguments are ()\n",
      "The keyword arguments are {}\n",
      "The positional arguments are ()\n",
      "The keyword arguments are {}\n",
      "The positional arguments are ()\n",
      "The keyword arguments are {}\n",
      "The positional arguments are ()\n",
      "The keyword arguments are {}\n",
      "The positional arguments are ()\n",
      "The keyword arguments are {}\n",
      "The positional arguments are ()\n",
      "The keyword arguments are {}\n",
      "The positional arguments are ()\n",
      "The keyword arguments are {}\n",
      "The positional arguments are ()\n",
      "The keyword arguments are {}\n",
      "The positional arguments are ()\n",
      "The keyword arguments are {}\n",
      "The positional arguments are ()\n",
      "The keyword arguments are {}\n",
      "The positional arguments are ()\n",
      "The keyword arguments are {}\n",
      "The positional arguments are ()\n",
      "The keyword arguments are {}\n",
      "The positional arguments are ()\n",
      "The keyword arguments are {}\n",
      "The positional arguments are ()\n",
      "The keyword arguments are {}\n",
      "The positional arguments are ()\n",
      "The keyword arguments are {}\n",
      "The positional arguments are ()\n",
      "The keyword arguments are {}\n",
      "The positional arguments are ()\n",
      "The keyword arguments are {}\n",
      "The positional arguments are ()\n",
      "The keyword arguments are {}\n",
      "The positional arguments are ()\n",
      "The keyword arguments are {}\n",
      "The positional arguments are ()\n",
      "The keyword arguments are {}\n",
      "The positional arguments are ()\n",
      "The keyword arguments are {}\n",
      "The positional arguments are ()\n",
      "The keyword arguments are {}\n",
      "The positional arguments are ()\n",
      "The keyword arguments are {}\n",
      "The positional arguments are ()\n",
      "The keyword arguments are {}\n",
      "The positional arguments are ()\n",
      "The keyword arguments are {}\n",
      "The positional arguments are ()\n",
      "The keyword arguments are {}\n",
      "The positional arguments are ()\n",
      "The keyword arguments are {}\n",
      "The positional arguments are ()\n",
      "The keyword arguments are {}\n",
      "The positional arguments are ()\n",
      "The keyword arguments are {}\n",
      "The positional arguments are ()\n",
      "The keyword arguments are {}\n",
      "The positional arguments are ()\n",
      "The keyword arguments are {}\n",
      "The positional arguments are ()\n",
      "The keyword arguments are {}\n",
      "The positional arguments are ()\n",
      "The keyword arguments are {}\n",
      "The positional arguments are ()\n",
      "The keyword arguments are {}\n",
      "The positional arguments are ()\n",
      "The keyword arguments are {}\n",
      "The positional arguments are ()\n",
      "The keyword arguments are {}\n",
      "The positional arguments are ()\n",
      "The keyword arguments are {}\n",
      "The positional arguments are ()\n",
      "The keyword arguments are {}\n",
      "The positional arguments are ()\n",
      "The keyword arguments are {}\n",
      "The positional arguments are ()\n",
      "The keyword arguments are {}\n",
      "The positional arguments are ()\n",
      "The keyword arguments are {}\n",
      "The positional arguments are ()\n",
      "The keyword arguments are {}\n",
      "The positional arguments are ()\n",
      "The keyword arguments are {}\n",
      "The positional arguments are ()\n",
      "The keyword arguments are {}\n",
      "The positional arguments are ()\n",
      "The keyword arguments are {}\n",
      "The positional arguments are ()\n",
      "The keyword arguments are {}\n",
      "The positional arguments are ()\n",
      "The keyword arguments are {}\n",
      "The positional arguments are ()\n",
      "The keyword arguments are {}\n",
      "The positional arguments are ()\n",
      "The keyword arguments are {}\n",
      "The positional arguments are ()\n",
      "The keyword arguments are {}\n",
      "The positional arguments are ()\n",
      "The keyword arguments are {}\n",
      "The positional arguments are ()\n",
      "The keyword arguments are {}\n",
      "The positional arguments are ()\n",
      "The keyword arguments are {}\n",
      "The positional arguments are ()\n",
      "The keyword arguments are {}\n",
      "The positional arguments are ()\n",
      "The keyword arguments are {}\n",
      "The positional arguments are ()\n",
      "The keyword arguments are {}\n",
      "The positional arguments are ()\n",
      "The keyword arguments are {}\n",
      "The positional arguments are ()\n",
      "The keyword arguments are {}\n",
      "The positional arguments are ()\n",
      "The keyword arguments are {}\n",
      "The positional arguments are ()\n",
      "The keyword arguments are {}\n",
      "The positional arguments are ()\n",
      "The keyword arguments are {}\n",
      "The positional arguments are ()\n",
      "The keyword arguments are {}\n",
      "The positional arguments are ()\n",
      "The keyword arguments are {}\n",
      "The positional arguments are ()\n",
      "The keyword arguments are {}\n",
      "The positional arguments are ()\n",
      "The keyword arguments are {}\n",
      "The positional arguments are ()\n",
      "The keyword arguments are {}\n",
      "The positional arguments are ()\n",
      "The keyword arguments are {}\n",
      "The positional arguments are ()\n",
      "The keyword arguments are {}\n",
      "The positional arguments are ()\n",
      "The keyword arguments are {}\n",
      "The positional arguments are ()\n",
      "The keyword arguments are {}\n",
      "The positional arguments are ()\n",
      "The keyword arguments are {}\n",
      "The positional arguments are ()\n",
      "The keyword arguments are {}\n",
      "The positional arguments are ()\n",
      "The keyword arguments are {}\n",
      "The positional arguments are ()\n",
      "The keyword arguments are {}\n",
      "The positional arguments are ()\n",
      "The keyword arguments are {}\n",
      "The positional arguments are ()\n",
      "The keyword arguments are {}\n",
      "The positional arguments are ()\n",
      "The keyword arguments are {}\n",
      "The positional arguments are ()\n",
      "The keyword arguments are {}\n",
      "The positional arguments are ()\n",
      "The keyword arguments are {}\n",
      "The positional arguments are ()\n",
      "The keyword arguments are {}\n",
      "The positional arguments are ()\n",
      "The keyword arguments are {}\n",
      "The positional arguments are ()\n",
      "The keyword arguments are {}\n",
      "The positional arguments are ()\n",
      "The keyword arguments are {}\n",
      "The positional arguments are ()\n",
      "The keyword arguments are {}\n",
      "The positional arguments are ()\n",
      "The keyword arguments are {}\n",
      "The positional arguments are ()\n",
      "The keyword arguments are {}\n",
      "The positional arguments are ()\n",
      "The keyword arguments are {}\n",
      "The positional arguments are ()\n",
      "The keyword arguments are {}\n",
      "The positional arguments are ()\n",
      "The keyword arguments are {}\n",
      "The positional arguments are ()\n",
      "The keyword arguments are {}\n",
      "The positional arguments are ()\n",
      "The keyword arguments are {}\n",
      "The positional arguments are ()\n",
      "The keyword arguments are {}\n",
      "The positional arguments are ()\n",
      "The keyword arguments are {}\n",
      "The positional arguments are ()\n",
      "The keyword arguments are {}\n",
      "The positional arguments are ()\n",
      "The keyword arguments are {}\n",
      "The positional arguments are ()\n",
      "The keyword arguments are {}\n",
      "The positional arguments are ()\n",
      "The keyword arguments are {}\n",
      "The positional arguments are ()\n",
      "The keyword arguments are {}\n",
      "The positional arguments are ()\n",
      "The keyword arguments are {}\n",
      "The positional arguments are ()\n",
      "The keyword arguments are {}\n",
      "The positional arguments are ()\n",
      "The keyword arguments are {}\n",
      "The positional arguments are ()\n",
      "The keyword arguments are {}\n",
      "The positional arguments are ()\n",
      "The keyword arguments are {}\n",
      "The positional arguments are ()\n",
      "The keyword arguments are {}\n",
      "The positional arguments are ()\n",
      "The keyword arguments are {}\n",
      "The positional arguments are ()\n",
      "The keyword arguments are {}\n",
      "The positional arguments are ()\n",
      "The keyword arguments are {}\n",
      "The positional arguments are ()\n",
      "The keyword arguments are {}\n",
      "The positional arguments are ()\n",
      "The keyword arguments are {}\n",
      "The positional arguments are ()\n",
      "The keyword arguments are {}\n",
      "The positional arguments are ()\n",
      "The keyword arguments are {}\n",
      "The positional arguments are ()\n",
      "The keyword arguments are {}\n",
      "The positional arguments are ()\n",
      "The keyword arguments are {}\n",
      "The positional arguments are ()\n",
      "The keyword arguments are {}\n",
      "The positional arguments are ()\n",
      "The keyword arguments are {}\n",
      "The positional arguments are ()\n",
      "The keyword arguments are {}\n",
      "The positional arguments are ()\n",
      "The keyword arguments are {}\n",
      "The positional arguments are ()\n",
      "The keyword arguments are {}\n",
      "The positional arguments are ()\n",
      "The keyword arguments are {}\n",
      "The positional arguments are ()\n",
      "The keyword arguments are {}\n",
      "The positional arguments are ()\n",
      "The keyword arguments are {}\n",
      "The positional arguments are ()\n",
      "The keyword arguments are {}\n",
      "The positional arguments are ()\n",
      "The keyword arguments are {}\n",
      "The positional arguments are ()\n",
      "The keyword arguments are {}\n",
      "The positional arguments are ()\n",
      "The keyword arguments are {}\n",
      "The positional arguments are ()\n",
      "The keyword arguments are {}\n",
      "The positional arguments are ()\n",
      "The keyword arguments are {}\n",
      "The positional arguments are ()\n",
      "The keyword arguments are {}\n",
      "The positional arguments are ()\n",
      "The keyword arguments are {}\n",
      "The positional arguments are ()\n",
      "The keyword arguments are {}\n",
      "The positional arguments are ()\n",
      "The keyword arguments are {}\n",
      "The positional arguments are ()\n",
      "The keyword arguments are {}\n",
      "The positional arguments are ()\n",
      "The keyword arguments are {}\n",
      "The positional arguments are ()\n",
      "The keyword arguments are {}\n",
      "The positional arguments are ()\n",
      "The keyword arguments are {}\n",
      "The positional arguments are ()\n",
      "The keyword arguments are {}\n",
      "The positional arguments are ()\n",
      "The keyword arguments are {}\n",
      "The positional arguments are ()\n",
      "The keyword arguments are {}\n",
      "The positional arguments are ()\n",
      "The keyword arguments are {}\n",
      "The positional arguments are ()\n",
      "The keyword arguments are {}\n",
      "The positional arguments are ()\n",
      "The keyword arguments are {}\n",
      "The positional arguments are ()\n",
      "The keyword arguments are {}\n",
      "The positional arguments are ()\n",
      "The keyword arguments are {}\n",
      "The positional arguments are ()\n",
      "The keyword arguments are {}\n",
      "The positional arguments are ()\n",
      "The keyword arguments are {}\n",
      "The positional arguments are ()\n",
      "The keyword arguments are {}\n",
      "The positional arguments are ()\n",
      "The keyword arguments are {}\n",
      "The positional arguments are ()\n",
      "The keyword arguments are {}\n",
      "The positional arguments are ()\n",
      "The keyword arguments are {}\n",
      "The positional arguments are ()\n",
      "The keyword arguments are {}\n",
      "The positional arguments are ()\n",
      "The keyword arguments are {}\n",
      "The positional arguments are ()\n",
      "The keyword arguments are {}\n",
      "The positional arguments are ()\n",
      "The keyword arguments are {}\n",
      "The positional arguments are ()\n",
      "The keyword arguments are {}\n",
      "The positional arguments are ()\n",
      "The keyword arguments are {}\n",
      "The positional arguments are ()\n",
      "The keyword arguments are {}\n",
      "The positional arguments are ()\n",
      "The keyword arguments are {}\n",
      "The positional arguments are ()\n",
      "The keyword arguments are {}\n",
      "The positional arguments are ()\n",
      "The keyword arguments are {}\n",
      "The positional arguments are ()\n",
      "The keyword arguments are {}\n",
      "The positional arguments are ()\n",
      "The keyword arguments are {}\n",
      "The positional arguments are ()\n",
      "The keyword arguments are {}\n",
      "The positional arguments are ()\n",
      "The keyword arguments are {}\n",
      "The positional arguments are ()\n",
      "The keyword arguments are {}\n",
      "The positional arguments are ()\n",
      "The keyword arguments are {}\n",
      "The positional arguments are ()\n",
      "The keyword arguments are {}\n",
      "The positional arguments are ()\n",
      "The keyword arguments are {}\n"
     ]
    },
    {
     "name": "stdout",
     "output_type": "stream",
     "text": [
      "The positional arguments are ()\n",
      "The keyword arguments are {}\n",
      "The positional arguments are ()\n",
      "The keyword arguments are {}\n",
      "The positional arguments are ()\n",
      "The keyword arguments are {}\n",
      "The positional arguments are ()\n",
      "The keyword arguments are {}\n",
      "The positional arguments are ()\n",
      "The keyword arguments are {}\n",
      "The positional arguments are ()\n",
      "The keyword arguments are {}\n",
      "The positional arguments are ()\n",
      "The keyword arguments are {}\n",
      "The positional arguments are ()\n",
      "The keyword arguments are {}\n",
      "The positional arguments are ()\n",
      "The keyword arguments are {}\n",
      "The positional arguments are ()\n",
      "The keyword arguments are {}\n",
      "The positional arguments are ()\n",
      "The keyword arguments are {}\n",
      "The positional arguments are ()\n",
      "The keyword arguments are {}\n",
      "The positional arguments are ()\n",
      "The keyword arguments are {}\n",
      "The positional arguments are ()\n",
      "The keyword arguments are {}\n",
      "The positional arguments are ()\n",
      "The keyword arguments are {}\n",
      "The positional arguments are ()\n",
      "The keyword arguments are {}\n",
      "The positional arguments are ()\n",
      "The keyword arguments are {}\n",
      "The positional arguments are ()\n",
      "The keyword arguments are {}\n",
      "The positional arguments are ()\n",
      "The keyword arguments are {}\n",
      "The positional arguments are ()\n",
      "The keyword arguments are {}\n",
      "The positional arguments are ()\n",
      "The keyword arguments are {}\n",
      "The positional arguments are ()\n",
      "The keyword arguments are {}\n",
      "The positional arguments are ()\n",
      "The keyword arguments are {}\n",
      "The positional arguments are ()\n",
      "The keyword arguments are {}\n",
      "The positional arguments are ()\n",
      "The keyword arguments are {}\n",
      "The positional arguments are ()\n",
      "The keyword arguments are {}\n",
      "The positional arguments are ()\n",
      "The keyword arguments are {}\n",
      "The positional arguments are ()\n",
      "The keyword arguments are {}\n",
      "The positional arguments are ()\n",
      "The keyword arguments are {}\n",
      "The positional arguments are ()\n",
      "The keyword arguments are {}\n",
      "The positional arguments are ()\n",
      "The keyword arguments are {}\n",
      "The positional arguments are ()\n",
      "The keyword arguments are {}\n",
      "The positional arguments are ()\n",
      "The keyword arguments are {}\n",
      "The positional arguments are ()\n",
      "The keyword arguments are {}\n",
      "The positional arguments are ()\n",
      "The keyword arguments are {}\n",
      "The positional arguments are ()\n",
      "The keyword arguments are {}\n",
      "The positional arguments are ()\n",
      "The keyword arguments are {}\n",
      "The positional arguments are ()\n",
      "The keyword arguments are {}\n",
      "The positional arguments are ()\n",
      "The keyword arguments are {}\n",
      "The positional arguments are ()\n",
      "The keyword arguments are {}\n",
      "The positional arguments are ()\n",
      "The keyword arguments are {}\n",
      "The positional arguments are ()\n",
      "The keyword arguments are {}\n",
      "The positional arguments are ()\n",
      "The keyword arguments are {}\n",
      "The positional arguments are ()\n",
      "The keyword arguments are {}\n",
      "The positional arguments are ()\n",
      "The keyword arguments are {}\n",
      "The positional arguments are ()\n",
      "The keyword arguments are {}\n",
      "The positional arguments are ()\n",
      "The keyword arguments are {}\n",
      "The positional arguments are ()\n",
      "The keyword arguments are {}\n",
      "The positional arguments are ()\n",
      "The keyword arguments are {}\n",
      "The positional arguments are ()\n",
      "The keyword arguments are {}\n",
      "The positional arguments are ()\n",
      "The keyword arguments are {}\n",
      "The positional arguments are ()\n",
      "The keyword arguments are {}\n",
      "The positional arguments are ()\n",
      "The keyword arguments are {}\n",
      "The positional arguments are ()\n",
      "The keyword arguments are {}\n",
      "The positional arguments are ()\n",
      "The keyword arguments are {}\n",
      "The positional arguments are ()\n",
      "The keyword arguments are {}\n",
      "The positional arguments are ()\n",
      "The keyword arguments are {}\n",
      "The positional arguments are ()\n",
      "The keyword arguments are {}\n",
      "The positional arguments are ()\n",
      "The keyword arguments are {}\n",
      "The positional arguments are ()\n",
      "The keyword arguments are {}\n",
      "The positional arguments are ()\n",
      "The keyword arguments are {}\n",
      "The positional arguments are ()\n",
      "The keyword arguments are {}\n",
      "The positional arguments are ()\n",
      "The keyword arguments are {}\n",
      "The positional arguments are ()\n",
      "The keyword arguments are {}\n",
      "The positional arguments are ()\n",
      "The keyword arguments are {}\n",
      "The positional arguments are ()\n",
      "The keyword arguments are {}\n",
      "The positional arguments are ()\n",
      "The keyword arguments are {}\n",
      "The positional arguments are ()\n",
      "The keyword arguments are {}\n",
      "The positional arguments are ()\n",
      "The keyword arguments are {}\n",
      "The positional arguments are ()\n",
      "The keyword arguments are {}\n",
      "The positional arguments are ()\n",
      "The keyword arguments are {}\n",
      "The positional arguments are ()\n",
      "The keyword arguments are {}\n",
      "The positional arguments are ()\n",
      "The keyword arguments are {}\n",
      "The positional arguments are ()\n",
      "The keyword arguments are {}\n",
      "The positional arguments are ()\n",
      "The keyword arguments are {}\n",
      "The positional arguments are ()\n",
      "The keyword arguments are {}\n",
      "The positional arguments are ()\n",
      "The keyword arguments are {}\n",
      "The positional arguments are ()\n",
      "The keyword arguments are {}\n",
      "The positional arguments are ()\n",
      "The keyword arguments are {}\n",
      "The positional arguments are ()\n",
      "The keyword arguments are {}\n",
      "The positional arguments are ()\n",
      "The keyword arguments are {}\n",
      "The positional arguments are ()\n",
      "The keyword arguments are {}\n",
      "The positional arguments are ()\n",
      "The keyword arguments are {}\n",
      "The positional arguments are ()\n",
      "The keyword arguments are {}\n",
      "The positional arguments are ()\n",
      "The keyword arguments are {}\n",
      "The positional arguments are ()\n",
      "The keyword arguments are {}\n",
      "The positional arguments are ()\n",
      "The keyword arguments are {}\n",
      "The positional arguments are ()\n",
      "The keyword arguments are {}\n",
      "The positional arguments are ()\n",
      "The keyword arguments are {}\n",
      "The positional arguments are ()\n",
      "The keyword arguments are {}\n",
      "The positional arguments are ()\n",
      "The keyword arguments are {}\n",
      "The positional arguments are ()\n",
      "The keyword arguments are {}\n",
      "The positional arguments are ()\n",
      "The keyword arguments are {}\n",
      "The positional arguments are ()\n",
      "The keyword arguments are {}\n",
      "The positional arguments are ()\n",
      "The keyword arguments are {}\n",
      "The positional arguments are ()\n",
      "The keyword arguments are {}\n",
      "The positional arguments are ()\n",
      "The keyword arguments are {}\n",
      "The positional arguments are ()\n",
      "The keyword arguments are {}\n",
      "The positional arguments are ()\n",
      "The keyword arguments are {}\n",
      "The positional arguments are ()\n",
      "The keyword arguments are {}\n",
      "The positional arguments are ()\n",
      "The keyword arguments are {}\n",
      "The positional arguments are ()\n",
      "The keyword arguments are {}\n",
      "The positional arguments are ()\n",
      "The keyword arguments are {}\n",
      "The positional arguments are ()\n",
      "The keyword arguments are {}\n",
      "The positional arguments are ()\n",
      "The keyword arguments are {}\n",
      "The positional arguments are ()\n",
      "The keyword arguments are {}\n",
      "The positional arguments are ()\n",
      "The keyword arguments are {}\n",
      "The positional arguments are ()\n",
      "The keyword arguments are {}\n",
      "The positional arguments are ()\n",
      "The keyword arguments are {}\n",
      "The positional arguments are ()\n",
      "The keyword arguments are {}\n",
      "The positional arguments are ()\n",
      "The keyword arguments are {}\n",
      "The positional arguments are ()\n",
      "The keyword arguments are {}\n",
      "The positional arguments are ()\n",
      "The keyword arguments are {}\n",
      "The positional arguments are ()\n",
      "The keyword arguments are {}\n",
      "The positional arguments are ()\n",
      "The keyword arguments are {}\n",
      "The positional arguments are ()\n",
      "The keyword arguments are {}\n",
      "The positional arguments are ()\n",
      "The keyword arguments are {}\n",
      "The positional arguments are ()\n",
      "The keyword arguments are {}\n",
      "The positional arguments are ()\n",
      "The keyword arguments are {}\n",
      "The positional arguments are ()\n",
      "The keyword arguments are {}\n",
      "The positional arguments are ()\n",
      "The keyword arguments are {}\n",
      "The positional arguments are ()\n",
      "The keyword arguments are {}\n",
      "The positional arguments are ()\n",
      "The keyword arguments are {}\n",
      "The positional arguments are ()\n",
      "The keyword arguments are {}\n",
      "The positional arguments are ()\n",
      "The keyword arguments are {}\n",
      "The positional arguments are ()\n",
      "The keyword arguments are {}\n",
      "The positional arguments are ()\n",
      "The keyword arguments are {}\n",
      "The positional arguments are ()\n",
      "The keyword arguments are {}\n",
      "The positional arguments are ()\n",
      "The keyword arguments are {}\n",
      "The positional arguments are ()\n",
      "The keyword arguments are {}\n",
      "The positional arguments are ()\n",
      "The keyword arguments are {}\n",
      "The positional arguments are ()\n",
      "The keyword arguments are {}\n",
      "The positional arguments are ()\n",
      "The keyword arguments are {}\n",
      "The positional arguments are ()\n",
      "The keyword arguments are {}\n",
      "The positional arguments are ()\n",
      "The keyword arguments are {}\n",
      "The positional arguments are ()\n",
      "The keyword arguments are {}\n",
      "The positional arguments are ()\n",
      "The keyword arguments are {}\n",
      "The positional arguments are ()\n",
      "The keyword arguments are {}\n",
      "The positional arguments are ()\n",
      "The keyword arguments are {}\n",
      "The positional arguments are ()\n",
      "The keyword arguments are {}\n",
      "The positional arguments are ()\n",
      "The keyword arguments are {}\n",
      "The positional arguments are ()\n",
      "The keyword arguments are {}\n",
      "The positional arguments are ()\n",
      "The keyword arguments are {}\n",
      "The positional arguments are ()\n",
      "The keyword arguments are {}\n",
      "The positional arguments are ()\n",
      "The keyword arguments are {}\n",
      "The positional arguments are ()\n",
      "The keyword arguments are {}\n",
      "The positional arguments are ()\n",
      "The keyword arguments are {}\n",
      "The positional arguments are ()\n",
      "The keyword arguments are {}\n",
      "The positional arguments are ()\n",
      "The keyword arguments are {}\n",
      "The positional arguments are ()\n",
      "The keyword arguments are {}\n",
      "The positional arguments are ()\n",
      "The keyword arguments are {}\n",
      "The positional arguments are ()\n",
      "The keyword arguments are {}\n",
      "The positional arguments are ()\n",
      "The keyword arguments are {}\n",
      "The positional arguments are ()\n",
      "The keyword arguments are {}\n",
      "The positional arguments are ()\n",
      "The keyword arguments are {}\n",
      "The positional arguments are ()\n",
      "The keyword arguments are {}\n",
      "The positional arguments are ()\n",
      "The keyword arguments are {}\n",
      "The positional arguments are ()\n",
      "The keyword arguments are {}\n",
      "The positional arguments are ()\n",
      "The keyword arguments are {}\n",
      "The positional arguments are ()\n",
      "The keyword arguments are {}\n",
      "The positional arguments are ()\n",
      "The keyword arguments are {}\n",
      "The positional arguments are ()\n",
      "The keyword arguments are {}\n",
      "The positional arguments are ()\n",
      "The keyword arguments are {}\n",
      "The positional arguments are ()\n",
      "The keyword arguments are {}\n",
      "The positional arguments are ()\n",
      "The keyword arguments are {}\n",
      "The positional arguments are ()\n",
      "The keyword arguments are {}\n",
      "The positional arguments are ()\n",
      "The keyword arguments are {}\n",
      "The positional arguments are ()\n",
      "The keyword arguments are {}\n",
      "The positional arguments are ()\n",
      "The keyword arguments are {}\n",
      "The positional arguments are ()\n",
      "The keyword arguments are {}\n",
      "The positional arguments are ()\n",
      "The keyword arguments are {}\n",
      "The positional arguments are ()\n",
      "The keyword arguments are {}\n",
      "The positional arguments are ()\n",
      "The keyword arguments are {}\n",
      "The positional arguments are ()\n",
      "The keyword arguments are {}\n",
      "The positional arguments are ()\n",
      "The keyword arguments are {}\n",
      "The positional arguments are ()\n",
      "The keyword arguments are {}\n",
      "The positional arguments are ()\n",
      "The keyword arguments are {}\n",
      "The positional arguments are ()\n",
      "The keyword arguments are {}\n",
      "The positional arguments are ()\n",
      "The keyword arguments are {}\n",
      "The positional arguments are ()\n",
      "The keyword arguments are {}\n",
      "The positional arguments are ()\n",
      "The keyword arguments are {}\n",
      "The positional arguments are ()\n",
      "The keyword arguments are {}\n",
      "The positional arguments are ()\n",
      "The keyword arguments are {}\n",
      "The positional arguments are ()\n",
      "The keyword arguments are {}\n",
      "The positional arguments are ()\n",
      "The keyword arguments are {}\n",
      "The positional arguments are ()\n",
      "The keyword arguments are {}\n",
      "The positional arguments are ()\n",
      "The keyword arguments are {}\n",
      "The positional arguments are ()\n",
      "The keyword arguments are {}\n",
      "The positional arguments are ()\n",
      "The keyword arguments are {}\n",
      "The positional arguments are ()\n",
      "The keyword arguments are {}\n",
      "The positional arguments are ()\n",
      "The keyword arguments are {}\n",
      "The positional arguments are ()\n",
      "The keyword arguments are {}\n",
      "The positional arguments are ()\n",
      "The keyword arguments are {}\n",
      "The positional arguments are ()\n",
      "The keyword arguments are {}\n",
      "The positional arguments are ()\n",
      "The keyword arguments are {}\n",
      "The positional arguments are ()\n",
      "The keyword arguments are {}\n",
      "The positional arguments are ()\n",
      "The keyword arguments are {}\n",
      "The positional arguments are ()\n",
      "The keyword arguments are {}\n",
      "The positional arguments are ()\n",
      "The keyword arguments are {}\n",
      "The positional arguments are ()\n",
      "The keyword arguments are {}\n",
      "The positional arguments are ()\n",
      "The keyword arguments are {}\n",
      "The positional arguments are ()\n",
      "The keyword arguments are {}\n",
      "The positional arguments are ()\n",
      "The keyword arguments are {}\n",
      "The positional arguments are ()\n",
      "The keyword arguments are {}\n",
      "The positional arguments are ()\n",
      "The keyword arguments are {}\n",
      "The positional arguments are ()\n",
      "The keyword arguments are {}\n",
      "The positional arguments are ()\n",
      "The keyword arguments are {}\n",
      "The positional arguments are ()\n",
      "The keyword arguments are {}\n",
      "The positional arguments are ()\n",
      "The keyword arguments are {}\n",
      "The positional arguments are ()\n",
      "The keyword arguments are {}\n",
      "The positional arguments are ()\n",
      "The keyword arguments are {}\n",
      "The positional arguments are ()\n",
      "The keyword arguments are {}\n",
      "The positional arguments are ()\n",
      "The keyword arguments are {}\n",
      "The positional arguments are ()\n",
      "The keyword arguments are {}\n",
      "The positional arguments are ()\n",
      "The keyword arguments are {}\n",
      "The positional arguments are ()\n",
      "The keyword arguments are {}\n",
      "The positional arguments are ()\n",
      "The keyword arguments are {}\n",
      "The positional arguments are ()\n",
      "The keyword arguments are {}\n",
      "The positional arguments are ()\n",
      "The keyword arguments are {}\n",
      "The positional arguments are ()\n",
      "The keyword arguments are {}\n",
      "The positional arguments are ()\n",
      "The keyword arguments are {}\n",
      "The positional arguments are ()\n",
      "The keyword arguments are {}\n",
      "The positional arguments are ()\n",
      "The keyword arguments are {}\n",
      "The positional arguments are ()\n",
      "The keyword arguments are {}\n",
      "The positional arguments are ()\n",
      "The keyword arguments are {}\n",
      "The positional arguments are ()\n",
      "The keyword arguments are {}\n",
      "The positional arguments are ()\n",
      "The keyword arguments are {}\n",
      "The positional arguments are ()\n",
      "The keyword arguments are {}\n",
      "The positional arguments are ()\n",
      "The keyword arguments are {}\n",
      "The positional arguments are ()\n",
      "The keyword arguments are {}\n",
      "The positional arguments are ()\n",
      "The keyword arguments are {}\n",
      "The positional arguments are ()\n",
      "The keyword arguments are {}\n",
      "The positional arguments are ()\n",
      "The keyword arguments are {}\n",
      "The positional arguments are ()\n",
      "The keyword arguments are {}\n",
      "The positional arguments are ()\n",
      "The keyword arguments are {}\n",
      "The positional arguments are ()\n",
      "The keyword arguments are {}\n",
      "The positional arguments are ()\n",
      "The keyword arguments are {}\n",
      "The positional arguments are ()\n",
      "The keyword arguments are {}\n",
      "The positional arguments are ()\n",
      "The keyword arguments are {}\n",
      "The positional arguments are ()\n",
      "The keyword arguments are {}\n",
      "The positional arguments are ()\n",
      "The keyword arguments are {}\n",
      "The positional arguments are ()\n",
      "The keyword arguments are {}\n",
      "The positional arguments are ()\n",
      "The keyword arguments are {}\n",
      "The positional arguments are ()\n",
      "The keyword arguments are {}\n",
      "The positional arguments are ()\n",
      "The keyword arguments are {}\n",
      "The positional arguments are ()\n",
      "The keyword arguments are {}\n",
      "The positional arguments are ()\n",
      "The keyword arguments are {}\n",
      "The positional arguments are ()\n",
      "The keyword arguments are {}\n",
      "The positional arguments are ()\n",
      "The keyword arguments are {}\n",
      "The positional arguments are ()\n",
      "The keyword arguments are {}\n",
      "The positional arguments are ()\n",
      "The keyword arguments are {}\n",
      "The positional arguments are ()\n",
      "The keyword arguments are {}\n",
      "The positional arguments are ()\n",
      "The keyword arguments are {}\n",
      "The positional arguments are ()\n",
      "The keyword arguments are {}\n",
      "The positional arguments are ()\n",
      "The keyword arguments are {}\n",
      "The positional arguments are ()\n",
      "The keyword arguments are {}\n",
      "The positional arguments are ()\n",
      "The keyword arguments are {}\n",
      "The positional arguments are ()\n",
      "The keyword arguments are {}\n",
      "The positional arguments are ()\n",
      "The keyword arguments are {}\n",
      "The positional arguments are ()\n",
      "The keyword arguments are {}\n",
      "The positional arguments are ()\n",
      "The keyword arguments are {}\n",
      "The positional arguments are ()\n",
      "The keyword arguments are {}\n",
      "The positional arguments are ()\n",
      "The keyword arguments are {}\n",
      "The positional arguments are ()\n",
      "The keyword arguments are {}\n",
      "The positional arguments are ()\n",
      "The keyword arguments are {}\n",
      "The positional arguments are ()\n",
      "The keyword arguments are {}\n",
      "The positional arguments are ()\n",
      "The keyword arguments are {}\n",
      "The positional arguments are ()\n",
      "The keyword arguments are {}\n",
      "The positional arguments are ()\n",
      "The keyword arguments are {}\n",
      "The positional arguments are ()\n",
      "The keyword arguments are {}\n",
      "The positional arguments are ()\n",
      "The keyword arguments are {}\n",
      "The positional arguments are ()\n",
      "The keyword arguments are {}\n",
      "The positional arguments are ()\n",
      "The keyword arguments are {}\n",
      "The positional arguments are ()\n",
      "The keyword arguments are {}\n",
      "The positional arguments are ()\n",
      "The keyword arguments are {}\n",
      "The positional arguments are ()\n",
      "The keyword arguments are {}\n",
      "The positional arguments are ()\n",
      "The keyword arguments are {}\n",
      "The positional arguments are ()\n",
      "The keyword arguments are {}\n",
      "The positional arguments are ()\n",
      "The keyword arguments are {}\n",
      "The positional arguments are ()\n",
      "The keyword arguments are {}\n",
      "The positional arguments are ()\n",
      "The keyword arguments are {}\n",
      "The positional arguments are ()\n",
      "The keyword arguments are {}\n",
      "The positional arguments are ()\n",
      "The keyword arguments are {}\n",
      "The positional arguments are ()\n",
      "The keyword arguments are {}\n",
      "The positional arguments are ()\n",
      "The keyword arguments are {}\n",
      "The positional arguments are ()\n",
      "The keyword arguments are {}\n",
      "The positional arguments are ()\n",
      "The keyword arguments are {}\n",
      "The positional arguments are ()\n",
      "The keyword arguments are {}\n",
      "The positional arguments are ()\n",
      "The keyword arguments are {}\n",
      "The positional arguments are ()\n",
      "The keyword arguments are {}\n",
      "The positional arguments are ()\n",
      "The keyword arguments are {}\n",
      "The positional arguments are ()\n",
      "The keyword arguments are {}\n",
      "The positional arguments are ()\n",
      "The keyword arguments are {}\n",
      "The positional arguments are ()\n",
      "The keyword arguments are {}\n",
      "The positional arguments are ()\n",
      "The keyword arguments are {}\n",
      "The positional arguments are ()\n",
      "The keyword arguments are {}\n",
      "The positional arguments are ()\n",
      "The keyword arguments are {}\n",
      "The positional arguments are ()\n",
      "The keyword arguments are {}\n",
      "The positional arguments are ()\n",
      "The keyword arguments are {}\n",
      "The positional arguments are ()\n",
      "The keyword arguments are {}\n",
      "The positional arguments are ()\n",
      "The keyword arguments are {}\n",
      "The positional arguments are ()\n",
      "The keyword arguments are {}\n",
      "The positional arguments are ()\n",
      "The keyword arguments are {}\n",
      "The positional arguments are ()\n",
      "The keyword arguments are {}\n",
      "The positional arguments are ()\n",
      "The keyword arguments are {}\n",
      "The positional arguments are ()\n",
      "The keyword arguments are {}\n",
      "The positional arguments are ()\n",
      "The keyword arguments are {}\n",
      "The positional arguments are ()\n",
      "The keyword arguments are {}\n",
      "The positional arguments are ()\n",
      "The keyword arguments are {}\n",
      "The positional arguments are ()\n",
      "The keyword arguments are {}\n",
      "The positional arguments are ()\n",
      "The keyword arguments are {}\n",
      "The positional arguments are ()\n",
      "The keyword arguments are {}\n",
      "The positional arguments are ()\n",
      "The keyword arguments are {}\n",
      "The positional arguments are ()\n",
      "The keyword arguments are {}\n",
      "The positional arguments are ()\n",
      "The keyword arguments are {}\n",
      "The positional arguments are ()\n",
      "The keyword arguments are {}\n",
      "The positional arguments are ()\n",
      "The keyword arguments are {}\n",
      "The positional arguments are ()\n",
      "The keyword arguments are {}\n",
      "The positional arguments are ()\n",
      "The keyword arguments are {}\n",
      "The positional arguments are ()\n",
      "The keyword arguments are {}\n",
      "The positional arguments are ()\n",
      "The keyword arguments are {}\n",
      "The positional arguments are ()\n",
      "The keyword arguments are {}\n",
      "The positional arguments are ()\n",
      "The keyword arguments are {}\n",
      "The positional arguments are ()\n",
      "The keyword arguments are {}\n",
      "The positional arguments are ()\n",
      "The keyword arguments are {}\n",
      "The positional arguments are ()\n",
      "The keyword arguments are {}\n",
      "The positional arguments are ()\n",
      "The keyword arguments are {}\n",
      "The positional arguments are ()\n",
      "The keyword arguments are {}\n",
      "The positional arguments are ()\n",
      "The keyword arguments are {}\n",
      "The positional arguments are ()\n",
      "The keyword arguments are {}\n",
      "The positional arguments are ()\n",
      "The keyword arguments are {}\n",
      "The positional arguments are ()\n",
      "The keyword arguments are {}\n",
      "The positional arguments are ()\n",
      "The keyword arguments are {}\n",
      "The positional arguments are ()\n",
      "The keyword arguments are {}\n",
      "The positional arguments are ()\n",
      "The keyword arguments are {}\n",
      "The positional arguments are ()\n",
      "The keyword arguments are {}\n",
      "The positional arguments are ()\n",
      "The keyword arguments are {}\n",
      "The positional arguments are ()\n",
      "The keyword arguments are {}\n",
      "The positional arguments are ()\n",
      "The keyword arguments are {}\n",
      "The positional arguments are ()\n",
      "The keyword arguments are {}\n",
      "The positional arguments are ()\n",
      "The keyword arguments are {}\n",
      "The positional arguments are ()\n",
      "The keyword arguments are {}\n",
      "The positional arguments are ()\n",
      "The keyword arguments are {}\n",
      "The positional arguments are ()\n",
      "The keyword arguments are {}\n",
      "The positional arguments are ()\n",
      "The keyword arguments are {}\n",
      "The positional arguments are ()\n",
      "The keyword arguments are {}\n",
      "The positional arguments are ()\n",
      "The keyword arguments are {}\n",
      "The positional arguments are ()\n",
      "The keyword arguments are {}\n",
      "The positional arguments are ()\n",
      "The keyword arguments are {}\n",
      "The positional arguments are ()\n",
      "The keyword arguments are {}\n",
      "The positional arguments are ()\n",
      "The keyword arguments are {}\n",
      "The positional arguments are ()\n",
      "The keyword arguments are {}\n",
      "The positional arguments are ()\n",
      "The keyword arguments are {}\n",
      "The positional arguments are ()\n",
      "The keyword arguments are {}\n",
      "The positional arguments are ()\n",
      "The keyword arguments are {}\n",
      "The positional arguments are ()\n",
      "The keyword arguments are {}\n",
      "The positional arguments are ()\n",
      "The keyword arguments are {}\n",
      "The positional arguments are ()\n",
      "The keyword arguments are {}\n",
      "The positional arguments are ()\n",
      "The keyword arguments are {}\n",
      "The positional arguments are ()\n",
      "The keyword arguments are {}\n",
      "The positional arguments are ()\n",
      "The keyword arguments are {}\n",
      "The positional arguments are ()\n",
      "The keyword arguments are {}\n",
      "The positional arguments are ()\n",
      "The keyword arguments are {}\n",
      "The positional arguments are ()\n",
      "The keyword arguments are {}\n",
      "The positional arguments are ()\n",
      "The keyword arguments are {}\n",
      "The positional arguments are ()\n",
      "The keyword arguments are {}\n",
      "The positional arguments are ()\n",
      "The keyword arguments are {}\n",
      "The positional arguments are ()\n",
      "The keyword arguments are {}\n",
      "The positional arguments are ()\n",
      "The keyword arguments are {}\n",
      "The positional arguments are ()\n",
      "The keyword arguments are {}\n",
      "The positional arguments are ()\n",
      "The keyword arguments are {}\n",
      "The positional arguments are ()\n",
      "The keyword arguments are {}\n",
      "The positional arguments are ()\n",
      "The keyword arguments are {}\n",
      "The positional arguments are ()\n",
      "The keyword arguments are {}\n",
      "The positional arguments are ()\n"
     ]
    },
    {
     "name": "stdout",
     "output_type": "stream",
     "text": [
      "The keyword arguments are {}\n",
      "The positional arguments are ()\n",
      "The keyword arguments are {}\n",
      "The positional arguments are ()\n",
      "The keyword arguments are {}\n",
      "The positional arguments are ()\n",
      "The keyword arguments are {}\n",
      "The positional arguments are ()\n",
      "The keyword arguments are {}\n",
      "The positional arguments are ()\n",
      "The keyword arguments are {}\n",
      "The positional arguments are ()\n",
      "The keyword arguments are {}\n",
      "The positional arguments are ()\n",
      "The keyword arguments are {}\n",
      "The positional arguments are ()\n",
      "The keyword arguments are {}\n",
      "The positional arguments are ()\n",
      "The keyword arguments are {}\n",
      "The positional arguments are ()\n",
      "The keyword arguments are {}\n",
      "The positional arguments are ()\n",
      "The keyword arguments are {}\n",
      "The positional arguments are ()\n",
      "The keyword arguments are {}\n",
      "The positional arguments are ()\n",
      "The keyword arguments are {}\n",
      "The positional arguments are ()\n",
      "The keyword arguments are {}\n",
      "The positional arguments are ()\n",
      "The keyword arguments are {}\n",
      "The positional arguments are ()\n",
      "The keyword arguments are {}\n",
      "The positional arguments are ()\n",
      "The keyword arguments are {}\n",
      "The positional arguments are ()\n",
      "The keyword arguments are {}\n",
      "The positional arguments are ()\n",
      "The keyword arguments are {}\n",
      "The positional arguments are ()\n",
      "The keyword arguments are {}\n",
      "The positional arguments are ()\n",
      "The keyword arguments are {}\n",
      "The positional arguments are ()\n",
      "The keyword arguments are {}\n",
      "The positional arguments are ()\n",
      "The keyword arguments are {}\n",
      "The positional arguments are ()\n",
      "The keyword arguments are {}\n",
      "The positional arguments are ()\n",
      "The keyword arguments are {}\n",
      "The positional arguments are ()\n",
      "The keyword arguments are {}\n",
      "The positional arguments are ()\n",
      "The keyword arguments are {}\n",
      "The positional arguments are ()\n",
      "The keyword arguments are {}\n",
      "The positional arguments are ()\n",
      "The keyword arguments are {}\n",
      "The positional arguments are ()\n",
      "The keyword arguments are {}\n",
      "The positional arguments are ()\n",
      "The keyword arguments are {}\n",
      "The positional arguments are ()\n",
      "The keyword arguments are {}\n",
      "The positional arguments are ()\n",
      "The keyword arguments are {}\n",
      "The positional arguments are ()\n",
      "The keyword arguments are {}\n",
      "The positional arguments are ()\n",
      "The keyword arguments are {}\n",
      "The positional arguments are ()\n",
      "The keyword arguments are {}\n",
      "The positional arguments are ()\n",
      "The keyword arguments are {}\n",
      "The positional arguments are ()\n",
      "The keyword arguments are {}\n",
      "The positional arguments are ()\n",
      "The keyword arguments are {}\n",
      "The positional arguments are ()\n",
      "The keyword arguments are {}\n",
      "The positional arguments are ()\n",
      "The keyword arguments are {}\n",
      "The positional arguments are ()\n",
      "The keyword arguments are {}\n",
      "The positional arguments are ()\n",
      "The keyword arguments are {}\n",
      "The positional arguments are ()\n",
      "The keyword arguments are {}\n",
      "The positional arguments are ()\n",
      "The keyword arguments are {}\n",
      "The positional arguments are ()\n",
      "The keyword arguments are {}\n",
      "The positional arguments are ()\n",
      "The keyword arguments are {}\n",
      "The positional arguments are ()\n",
      "The keyword arguments are {}\n",
      "The positional arguments are ()\n",
      "The keyword arguments are {}\n",
      "The positional arguments are ()\n",
      "The keyword arguments are {}\n",
      "The positional arguments are ()\n",
      "The keyword arguments are {}\n",
      "The positional arguments are ()\n",
      "The keyword arguments are {}\n",
      "The positional arguments are ()\n",
      "The keyword arguments are {}\n",
      "The positional arguments are ()\n",
      "The keyword arguments are {}\n",
      "The positional arguments are ()\n",
      "The keyword arguments are {}\n",
      "The positional arguments are ()\n",
      "The keyword arguments are {}\n",
      "The positional arguments are ()\n",
      "The keyword arguments are {}\n",
      "The positional arguments are ()\n",
      "The keyword arguments are {}\n",
      "The positional arguments are ()\n",
      "The keyword arguments are {}\n",
      "The positional arguments are ()\n",
      "The keyword arguments are {}\n",
      "The positional arguments are ()\n",
      "The keyword arguments are {}\n",
      "The positional arguments are ()\n",
      "The keyword arguments are {}\n",
      "The positional arguments are ()\n",
      "The keyword arguments are {}\n",
      "The positional arguments are ()\n",
      "The keyword arguments are {}\n",
      "The positional arguments are ()\n",
      "The keyword arguments are {}\n",
      "The positional arguments are ()\n",
      "The keyword arguments are {}\n",
      "The positional arguments are ()\n",
      "The keyword arguments are {}\n",
      "The positional arguments are ()\n",
      "The keyword arguments are {}\n",
      "The positional arguments are ()\n",
      "The keyword arguments are {}\n",
      "The positional arguments are ()\n",
      "The keyword arguments are {}\n",
      "The positional arguments are ()\n",
      "The keyword arguments are {}\n",
      "The positional arguments are ()\n",
      "The keyword arguments are {}\n",
      "The positional arguments are ()\n",
      "The keyword arguments are {}\n",
      "The positional arguments are ()\n",
      "The keyword arguments are {}\n",
      "The positional arguments are ()\n",
      "The keyword arguments are {}\n",
      "The positional arguments are ()\n",
      "The keyword arguments are {}\n",
      "The positional arguments are ()\n",
      "The keyword arguments are {}\n",
      "The positional arguments are ()\n",
      "The keyword arguments are {}\n",
      "The positional arguments are ()\n",
      "The keyword arguments are {}\n",
      "The positional arguments are ()\n",
      "The keyword arguments are {}\n",
      "The positional arguments are ()\n",
      "The keyword arguments are {}\n",
      "The positional arguments are ()\n",
      "The keyword arguments are {}\n",
      "The positional arguments are ()\n",
      "The keyword arguments are {}\n",
      "The positional arguments are ()\n",
      "The keyword arguments are {}\n",
      "The positional arguments are ()\n",
      "The keyword arguments are {}\n",
      "The positional arguments are ()\n",
      "The keyword arguments are {}\n",
      "The positional arguments are ()\n",
      "The keyword arguments are {}\n",
      "The positional arguments are ()\n",
      "The keyword arguments are {}\n",
      "The positional arguments are ()\n",
      "The keyword arguments are {}\n",
      "The positional arguments are ()\n",
      "The keyword arguments are {}\n",
      "The positional arguments are ()\n",
      "The keyword arguments are {}\n",
      "The positional arguments are ()\n",
      "The keyword arguments are {}\n",
      "The positional arguments are ()\n",
      "The keyword arguments are {}\n",
      "The positional arguments are ()\n",
      "The keyword arguments are {}\n",
      "The positional arguments are ()\n",
      "The keyword arguments are {}\n",
      "The positional arguments are ()\n",
      "The keyword arguments are {}\n",
      "The positional arguments are ()\n",
      "The keyword arguments are {}\n",
      "The positional arguments are ()\n",
      "The keyword arguments are {}\n",
      "The positional arguments are ()\n",
      "The keyword arguments are {}\n",
      "The positional arguments are ()\n",
      "The keyword arguments are {}\n",
      "The positional arguments are ()\n",
      "The keyword arguments are {}\n",
      "The positional arguments are ()\n",
      "The keyword arguments are {}\n",
      "The positional arguments are ()\n",
      "The keyword arguments are {}\n",
      "The positional arguments are ()\n",
      "The keyword arguments are {}\n",
      "The positional arguments are ()\n",
      "The keyword arguments are {}\n",
      "The positional arguments are ()\n",
      "The keyword arguments are {}\n",
      "The positional arguments are ()\n",
      "The keyword arguments are {}\n",
      "The positional arguments are ()\n",
      "The keyword arguments are {}\n",
      "The positional arguments are ()\n",
      "The keyword arguments are {}\n",
      "The positional arguments are ()\n",
      "The keyword arguments are {}\n",
      "The positional arguments are ()\n",
      "The keyword arguments are {}\n",
      "The positional arguments are ()\n",
      "The keyword arguments are {}\n",
      "The positional arguments are ()\n",
      "The keyword arguments are {}\n",
      "The positional arguments are ()\n",
      "The keyword arguments are {}\n",
      "The positional arguments are ()\n",
      "The keyword arguments are {}\n",
      "The positional arguments are ()\n",
      "The keyword arguments are {}\n",
      "The positional arguments are ()\n",
      "The keyword arguments are {}\n",
      "The positional arguments are ()\n",
      "The keyword arguments are {}\n",
      "The positional arguments are ()\n",
      "The keyword arguments are {}\n",
      "The positional arguments are ()\n",
      "The keyword arguments are {}\n",
      "The positional arguments are ()\n",
      "The keyword arguments are {}\n",
      "The positional arguments are ()\n",
      "The keyword arguments are {}\n",
      "The positional arguments are ()\n",
      "The keyword arguments are {}\n",
      "The positional arguments are ()\n",
      "The keyword arguments are {}\n",
      "The positional arguments are ()\n",
      "The keyword arguments are {}\n",
      "The positional arguments are ()\n",
      "The keyword arguments are {}\n",
      "The positional arguments are ()\n",
      "The keyword arguments are {}\n",
      "The positional arguments are ()\n",
      "The keyword arguments are {}\n",
      "The positional arguments are ()\n",
      "The keyword arguments are {}\n",
      "The positional arguments are ()\n",
      "The keyword arguments are {}\n",
      "The positional arguments are ()\n",
      "The keyword arguments are {}\n",
      "The positional arguments are ()\n",
      "The keyword arguments are {}\n",
      "The positional arguments are ()\n",
      "The keyword arguments are {}\n",
      "The positional arguments are ()\n",
      "The keyword arguments are {}\n",
      "The positional arguments are ()\n",
      "The keyword arguments are {}\n",
      "The positional arguments are ()\n",
      "The keyword arguments are {}\n",
      "The positional arguments are ()\n",
      "The keyword arguments are {}\n",
      "The positional arguments are ()\n",
      "The keyword arguments are {}\n",
      "The positional arguments are ()\n",
      "The keyword arguments are {}\n",
      "The positional arguments are ()\n",
      "The keyword arguments are {}\n",
      "The positional arguments are ()\n",
      "The keyword arguments are {}\n",
      "The positional arguments are ()\n",
      "The keyword arguments are {}\n",
      "The positional arguments are ()\n",
      "The keyword arguments are {}\n",
      "The positional arguments are ()\n",
      "The keyword arguments are {}\n",
      "The positional arguments are ()\n",
      "The keyword arguments are {}\n",
      "The positional arguments are ()\n",
      "The keyword arguments are {}\n",
      "The positional arguments are ()\n",
      "The keyword arguments are {}\n",
      "The positional arguments are ()\n",
      "The keyword arguments are {}\n",
      "The positional arguments are ()\n",
      "The keyword arguments are {}\n",
      "The positional arguments are ()\n",
      "The keyword arguments are {}\n",
      "The positional arguments are ()\n",
      "The keyword arguments are {}\n",
      "The positional arguments are ()\n",
      "The keyword arguments are {}\n",
      "The positional arguments are ()\n",
      "The keyword arguments are {}\n",
      "The positional arguments are ()\n",
      "The keyword arguments are {}\n",
      "The positional arguments are ()\n",
      "The keyword arguments are {}\n",
      "The positional arguments are ()\n",
      "The keyword arguments are {}\n",
      "The positional arguments are ()\n",
      "The keyword arguments are {}\n",
      "The positional arguments are ()\n",
      "The keyword arguments are {}\n",
      "The positional arguments are ()\n",
      "The keyword arguments are {}\n",
      "The positional arguments are ()\n",
      "The keyword arguments are {}\n",
      "The positional arguments are ()\n",
      "The keyword arguments are {}\n",
      "The positional arguments are ()\n",
      "The keyword arguments are {}\n",
      "The positional arguments are ()\n",
      "The keyword arguments are {}\n",
      "The positional arguments are ()\n",
      "The keyword arguments are {}\n",
      "The positional arguments are ()\n",
      "The keyword arguments are {}\n",
      "The positional arguments are ()\n",
      "The keyword arguments are {}\n",
      "The positional arguments are ()\n",
      "The keyword arguments are {}\n",
      "The positional arguments are ()\n",
      "The keyword arguments are {}\n",
      "The positional arguments are ()\n",
      "The keyword arguments are {}\n",
      "The positional arguments are ()\n",
      "The keyword arguments are {}\n",
      "The positional arguments are ()\n",
      "The keyword arguments are {}\n",
      "The positional arguments are ()\n",
      "The keyword arguments are {}\n",
      "The positional arguments are ()\n",
      "The keyword arguments are {}\n",
      "The positional arguments are ()\n",
      "The keyword arguments are {}\n",
      "The positional arguments are ()\n",
      "The keyword arguments are {}\n",
      "The positional arguments are ()\n",
      "The keyword arguments are {}\n",
      "The positional arguments are ()\n",
      "The keyword arguments are {}\n",
      "The positional arguments are ()\n",
      "The keyword arguments are {}\n",
      "The positional arguments are ()\n",
      "The keyword arguments are {}\n",
      "The positional arguments are ()\n",
      "The keyword arguments are {}\n",
      "The positional arguments are ()\n",
      "The keyword arguments are {}\n",
      "The positional arguments are ()\n",
      "The keyword arguments are {}\n",
      "The positional arguments are ()\n",
      "The keyword arguments are {}\n",
      "The positional arguments are ()\n",
      "The keyword arguments are {}\n",
      "The positional arguments are ()\n",
      "The keyword arguments are {}\n",
      "The positional arguments are ()\n",
      "The keyword arguments are {}\n",
      "The positional arguments are ()\n",
      "The keyword arguments are {}\n",
      "The positional arguments are ()\n",
      "The keyword arguments are {}\n",
      "The positional arguments are ()\n",
      "The keyword arguments are {}\n",
      "The positional arguments are ()\n",
      "The keyword arguments are {}\n",
      "The positional arguments are ()\n",
      "The keyword arguments are {}\n",
      "The positional arguments are ()\n",
      "The keyword arguments are {}\n",
      "The positional arguments are ()\n",
      "The keyword arguments are {}\n",
      "The positional arguments are ()\n",
      "The keyword arguments are {}\n",
      "The positional arguments are ()\n",
      "The keyword arguments are {}\n",
      "The positional arguments are ()\n",
      "The keyword arguments are {}\n",
      "The positional arguments are ()\n",
      "The keyword arguments are {}\n",
      "The positional arguments are ()\n",
      "The keyword arguments are {}\n",
      "The positional arguments are ()\n",
      "The keyword arguments are {}\n",
      "The positional arguments are ()\n",
      "The keyword arguments are {}\n",
      "The positional arguments are ()\n",
      "The keyword arguments are {}\n",
      "The positional arguments are ()\n",
      "The keyword arguments are {}\n",
      "The positional arguments are ()\n",
      "The keyword arguments are {}\n",
      "The positional arguments are ()\n",
      "The keyword arguments are {}\n",
      "The positional arguments are ()\n",
      "The keyword arguments are {}\n",
      "The positional arguments are ()\n",
      "The keyword arguments are {}\n",
      "The positional arguments are ()\n",
      "The keyword arguments are {}\n",
      "The positional arguments are ()\n",
      "The keyword arguments are {}\n",
      "The positional arguments are ()\n",
      "The keyword arguments are {}\n",
      "The positional arguments are ()\n",
      "The keyword arguments are {}\n",
      "The positional arguments are ()\n",
      "The keyword arguments are {}\n",
      "The positional arguments are ()\n",
      "The keyword arguments are {}\n",
      "The positional arguments are ()\n",
      "The keyword arguments are {}\n",
      "The positional arguments are ()\n",
      "The keyword arguments are {}\n",
      "The positional arguments are ()\n",
      "The keyword arguments are {}\n",
      "The positional arguments are ()\n",
      "The keyword arguments are {}\n",
      "The positional arguments are ()\n",
      "The keyword arguments are {}\n",
      "The positional arguments are ()\n",
      "The keyword arguments are {}\n",
      "The positional arguments are ()\n",
      "The keyword arguments are {}\n",
      "The positional arguments are ()\n",
      "The keyword arguments are {}\n",
      "The positional arguments are ()\n",
      "The keyword arguments are {}\n",
      "The positional arguments are ()\n",
      "The keyword arguments are {}\n",
      "The positional arguments are ()\n",
      "The keyword arguments are {}\n",
      "The positional arguments are ()\n",
      "The keyword arguments are {}\n",
      "The positional arguments are ()\n",
      "The keyword arguments are {}\n",
      "The positional arguments are ()\n",
      "The keyword arguments are {}\n",
      "The positional arguments are ()\n",
      "The keyword arguments are {}\n",
      "The positional arguments are ()\n",
      "The keyword arguments are {}\n",
      "The positional arguments are ()\n",
      "The keyword arguments are {}\n",
      "The positional arguments are ()\n",
      "The keyword arguments are {}\n",
      "The positional arguments are ()\n",
      "The keyword arguments are {}\n",
      "The positional arguments are ()\n",
      "The keyword arguments are {}\n",
      "The positional arguments are ()\n",
      "The keyword arguments are {}\n",
      "The positional arguments are ()\n",
      "The keyword arguments are {}\n",
      "The positional arguments are ()\n",
      "The keyword arguments are {}\n",
      "The positional arguments are ()\n",
      "The keyword arguments are {}\n",
      "The positional arguments are ()\n",
      "The keyword arguments are {}\n",
      "The positional arguments are ()\n",
      "The keyword arguments are {}\n",
      "The positional arguments are ()\n",
      "The keyword arguments are {}\n",
      "The positional arguments are ()\n",
      "The keyword arguments are {}\n",
      "The positional arguments are ()\n",
      "The keyword arguments are {}\n",
      "The positional arguments are ()\n",
      "The keyword arguments are {}\n",
      "The positional arguments are ()\n",
      "The keyword arguments are {}\n",
      "The positional arguments are ()\n",
      "The keyword arguments are {}\n",
      "The positional arguments are ()\n",
      "The keyword arguments are {}\n",
      "The positional arguments are ()\n",
      "The keyword arguments are {}\n",
      "The positional arguments are ()\n",
      "The keyword arguments are {}\n",
      "The positional arguments are ()\n",
      "The keyword arguments are {}\n",
      "The positional arguments are ()\n",
      "The keyword arguments are {}\n",
      "The positional arguments are ()\n",
      "The keyword arguments are {}\n",
      "The positional arguments are ()\n",
      "The keyword arguments are {}\n",
      "The positional arguments are ()\n",
      "The keyword arguments are {}\n",
      "The positional arguments are ()\n",
      "The keyword arguments are {}\n",
      "The positional arguments are ()\n",
      "The keyword arguments are {}\n",
      "The positional arguments are ()\n",
      "The keyword arguments are {}\n",
      "The positional arguments are ()\n",
      "The keyword arguments are {}\n",
      "The positional arguments are ()\n",
      "The keyword arguments are {}\n",
      "The positional arguments are ()\n",
      "The keyword arguments are {}\n",
      "The positional arguments are ()\n",
      "The keyword arguments are {}\n",
      "The positional arguments are ()\n",
      "The keyword arguments are {}\n",
      "The positional arguments are ()\n",
      "The keyword arguments are {}\n",
      "The positional arguments are ()\n",
      "The keyword arguments are {}\n",
      "The positional arguments are ()\n",
      "The keyword arguments are {}\n",
      "The positional arguments are ()\n",
      "The keyword arguments are {}\n",
      "The positional arguments are ()\n",
      "The keyword arguments are {}\n",
      "The positional arguments are ()\n",
      "The keyword arguments are {}\n",
      "The positional arguments are ()\n",
      "The keyword arguments are {}\n",
      "The positional arguments are ()\n",
      "The keyword arguments are {}\n",
      "The positional arguments are ()\n",
      "The keyword arguments are {}\n",
      "The positional arguments are ()\n",
      "The keyword arguments are {}\n",
      "The positional arguments are ()\n",
      "The keyword arguments are {}\n",
      "The positional arguments are ()\n",
      "The keyword arguments are {}\n",
      "The positional arguments are ()\n",
      "The keyword arguments are {}\n",
      "The positional arguments are ()\n",
      "The keyword arguments are {}\n",
      "The positional arguments are ()\n",
      "The keyword arguments are {}\n",
      "The positional arguments are ()\n",
      "The keyword arguments are {}\n",
      "The positional arguments are ()\n",
      "The keyword arguments are {}\n",
      "The positional arguments are ()\n",
      "The keyword arguments are {}\n",
      "The positional arguments are ()\n",
      "The keyword arguments are {}\n",
      "The positional arguments are ()\n",
      "The keyword arguments are {}\n",
      "The positional arguments are ()\n",
      "The keyword arguments are {}\n",
      "The positional arguments are ()\n",
      "The keyword arguments are {}\n",
      "The positional arguments are ()\n",
      "The keyword arguments are {}\n",
      "The positional arguments are ()\n",
      "The keyword arguments are {}\n",
      "The positional arguments are ()\n",
      "The keyword arguments are {}\n",
      "The positional arguments are ()\n",
      "The keyword arguments are {}\n",
      "The positional arguments are ()\n",
      "The keyword arguments are {}\n",
      "The positional arguments are ()\n",
      "The keyword arguments are {}\n",
      "The positional arguments are ()\n",
      "The keyword arguments are {}\n",
      "The positional arguments are ()\n",
      "The keyword arguments are {}\n",
      "The positional arguments are ()\n",
      "The keyword arguments are {}\n",
      "The positional arguments are ()\n",
      "The keyword arguments are {}\n",
      "The positional arguments are ()\n",
      "The keyword arguments are {}\n",
      "The positional arguments are ()\n",
      "The keyword arguments are {}\n",
      "The positional arguments are ()\n",
      "The keyword arguments are {}\n",
      "The positional arguments are ()\n",
      "The keyword arguments are {}\n",
      "The positional arguments are ()\n",
      "The keyword arguments are {}\n",
      "The positional arguments are ()\n",
      "The keyword arguments are {}\n",
      "The positional arguments are ()\n",
      "The keyword arguments are {}\n",
      "The positional arguments are ()\n",
      "The keyword arguments are {}\n",
      "The positional arguments are ()\n",
      "The keyword arguments are {}\n",
      "The positional arguments are ()\n",
      "The keyword arguments are {}\n",
      "The positional arguments are ()\n",
      "The keyword arguments are {}\n",
      "The positional arguments are ()\n",
      "The keyword arguments are {}\n",
      "The positional arguments are ()\n",
      "The keyword arguments are {}\n",
      "The positional arguments are ()\n",
      "The keyword arguments are {}\n",
      "The positional arguments are ()\n",
      "The keyword arguments are {}\n",
      "The positional arguments are ()\n",
      "The keyword arguments are {}\n",
      "The positional arguments are ()\n",
      "The keyword arguments are {}\n",
      "The positional arguments are ()\n",
      "The keyword arguments are {}\n",
      "The positional arguments are ()\n",
      "The keyword arguments are {}\n",
      "The positional arguments are ()\n",
      "The keyword arguments are {}\n",
      "The positional arguments are ()\n",
      "The keyword arguments are {}\n",
      "The positional arguments are ()\n",
      "The keyword arguments are {}\n",
      "The positional arguments are ()\n",
      "The keyword arguments are {}\n",
      "The positional arguments are ()\n",
      "The keyword arguments are {}\n",
      "The positional arguments are ()\n",
      "The keyword arguments are {}\n",
      "The positional arguments are ()\n",
      "The keyword arguments are {}\n",
      "The positional arguments are ()\n",
      "The keyword arguments are {}\n",
      "The positional arguments are ()\n",
      "The keyword arguments are {}\n",
      "The positional arguments are ()\n",
      "The keyword arguments are {}\n",
      "The positional arguments are ()\n",
      "The keyword arguments are {}\n",
      "The positional arguments are ()\n",
      "The keyword arguments are {}\n",
      "The positional arguments are ()\n",
      "The keyword arguments are {}\n",
      "The positional arguments are ()\n",
      "The keyword arguments are {}\n",
      "The positional arguments are ()\n",
      "The keyword arguments are {}\n",
      "The positional arguments are ()\n",
      "The keyword arguments are {}\n",
      "The positional arguments are ()\n",
      "The keyword arguments are {}\n",
      "The positional arguments are ()\n",
      "The keyword arguments are {}\n",
      "The positional arguments are ()\n",
      "The keyword arguments are {}\n",
      "The positional arguments are ()\n",
      "The keyword arguments are {}\n",
      "The positional arguments are ()\n",
      "The keyword arguments are {}\n",
      "The positional arguments are ()\n",
      "The keyword arguments are {}\n",
      "The positional arguments are ()\n",
      "The keyword arguments are {}\n",
      "The positional arguments are ()\n",
      "The keyword arguments are {}\n",
      "The positional arguments are ()\n",
      "The keyword arguments are {}\n",
      "The positional arguments are ()\n",
      "The keyword arguments are {}\n",
      "The positional arguments are ()\n",
      "The keyword arguments are {}\n",
      "The positional arguments are ()\n",
      "The keyword arguments are {}\n",
      "The positional arguments are ()\n",
      "The keyword arguments are {}\n",
      "The positional arguments are ()\n",
      "The keyword arguments are {}\n",
      "The positional arguments are ()\n",
      "The keyword arguments are {}\n",
      "The positional arguments are ()\n",
      "The keyword arguments are {}\n",
      "The positional arguments are ()\n",
      "The keyword arguments are {}\n",
      "The positional arguments are ()\n",
      "The keyword arguments are {}\n",
      "The positional arguments are ()\n",
      "The keyword arguments are {}\n",
      "The positional arguments are ()\n",
      "The keyword arguments are {}\n",
      "The positional arguments are ()\n",
      "The keyword arguments are {}\n",
      "The positional arguments are ()\n",
      "The keyword arguments are {}\n",
      "The positional arguments are ()\n",
      "The keyword arguments are {}\n",
      "The positional arguments are ()\n",
      "The keyword arguments are {}\n",
      "The positional arguments are ()\n",
      "The keyword arguments are {}\n",
      "The positional arguments are ()\n",
      "The keyword arguments are {}\n",
      "The positional arguments are ()\n",
      "The keyword arguments are {}\n",
      "The positional arguments are ()\n",
      "The keyword arguments are {}\n",
      "The positional arguments are ()\n",
      "The keyword arguments are {}\n",
      "The positional arguments are ()\n",
      "The keyword arguments are {}\n",
      "The positional arguments are ()\n",
      "The keyword arguments are {}\n",
      "The positional arguments are ()\n",
      "The keyword arguments are {}\n",
      "The positional arguments are ()\n",
      "The keyword arguments are {}\n",
      "The positional arguments are ()\n",
      "The keyword arguments are {}\n",
      "The positional arguments are ()\n",
      "The keyword arguments are {}\n",
      "The positional arguments are ()\n",
      "The keyword arguments are {}\n",
      "The positional arguments are ()\n",
      "The keyword arguments are {}\n",
      "The positional arguments are ()\n",
      "The keyword arguments are {}\n",
      "The positional arguments are ()\n",
      "The keyword arguments are {}\n",
      "The positional arguments are ()\n",
      "The keyword arguments are {}\n",
      "The positional arguments are ()\n",
      "The keyword arguments are {}\n",
      "The positional arguments are ()\n",
      "The keyword arguments are {}\n",
      "The positional arguments are ()\n",
      "The keyword arguments are {}\n",
      "The positional arguments are ()\n",
      "The keyword arguments are {}\n",
      "The positional arguments are ()\n",
      "The keyword arguments are {}\n",
      "The positional arguments are ()\n",
      "The keyword arguments are {}\n",
      "The positional arguments are ()\n",
      "The keyword arguments are {}\n",
      "The positional arguments are ()\n"
     ]
    },
    {
     "name": "stdout",
     "output_type": "stream",
     "text": [
      "The keyword arguments are {}\n",
      "The positional arguments are ()\n",
      "The keyword arguments are {}\n",
      "The positional arguments are ()\n",
      "The keyword arguments are {}\n",
      "The positional arguments are ()\n",
      "The keyword arguments are {}\n",
      "The positional arguments are ()\n",
      "The keyword arguments are {}\n",
      "The positional arguments are ()\n",
      "The keyword arguments are {}\n",
      "The positional arguments are ()\n",
      "The keyword arguments are {}\n",
      "The positional arguments are ()\n",
      "The keyword arguments are {}\n",
      "The positional arguments are ()\n",
      "The keyword arguments are {}\n",
      "The positional arguments are ()\n",
      "The keyword arguments are {}\n",
      "The positional arguments are ()\n",
      "The keyword arguments are {}\n",
      "The positional arguments are ()\n",
      "The keyword arguments are {}\n",
      "The positional arguments are ()\n",
      "The keyword arguments are {}\n",
      "The positional arguments are ()\n",
      "The keyword arguments are {}\n",
      "The positional arguments are ()\n",
      "The keyword arguments are {}\n",
      "The positional arguments are ()\n",
      "The keyword arguments are {}\n",
      "The positional arguments are ()\n",
      "The keyword arguments are {}\n",
      "The positional arguments are ()\n",
      "The keyword arguments are {}\n",
      "The positional arguments are ()\n",
      "The keyword arguments are {}\n",
      "The positional arguments are ()\n",
      "The keyword arguments are {}\n",
      "The positional arguments are ()\n",
      "The keyword arguments are {}\n",
      "The positional arguments are ()\n",
      "The keyword arguments are {}\n",
      "The positional arguments are ()\n",
      "The keyword arguments are {}\n",
      "The positional arguments are ()\n",
      "The keyword arguments are {}\n",
      "The positional arguments are ()\n",
      "The keyword arguments are {}\n",
      "The positional arguments are ()\n",
      "The keyword arguments are {}\n",
      "The positional arguments are ()\n",
      "The keyword arguments are {}\n",
      "The positional arguments are ()\n",
      "The keyword arguments are {}\n",
      "The positional arguments are ()\n",
      "The keyword arguments are {}\n",
      "The positional arguments are ()\n",
      "The keyword arguments are {}\n",
      "The positional arguments are ()\n",
      "The keyword arguments are {}\n",
      "The positional arguments are ()\n",
      "The keyword arguments are {}\n",
      "The positional arguments are ()\n",
      "The keyword arguments are {}\n",
      "The positional arguments are ()\n",
      "The keyword arguments are {}\n",
      "The positional arguments are ()\n",
      "The keyword arguments are {}\n",
      "The positional arguments are ()\n",
      "The keyword arguments are {}\n",
      "The positional arguments are ()\n",
      "The keyword arguments are {}\n",
      "The positional arguments are ()\n",
      "The keyword arguments are {}\n",
      "The positional arguments are ()\n",
      "The keyword arguments are {}\n",
      "The positional arguments are ()\n",
      "The keyword arguments are {}\n",
      "The positional arguments are ()\n",
      "The keyword arguments are {}\n",
      "The positional arguments are ()\n",
      "The keyword arguments are {}\n",
      "The positional arguments are ()\n",
      "The keyword arguments are {}\n",
      "The positional arguments are ()\n",
      "The keyword arguments are {}\n",
      "The positional arguments are ()\n",
      "The keyword arguments are {}\n",
      "The positional arguments are ()\n",
      "The keyword arguments are {}\n",
      "The positional arguments are ()\n",
      "The keyword arguments are {}\n",
      "The positional arguments are ()\n",
      "The keyword arguments are {}\n",
      "The positional arguments are ()\n",
      "The keyword arguments are {}\n",
      "The positional arguments are ()\n",
      "The keyword arguments are {}\n",
      "The positional arguments are ()\n",
      "The keyword arguments are {}\n",
      "The positional arguments are ()\n",
      "The keyword arguments are {}\n",
      "The positional arguments are ()\n",
      "The keyword arguments are {}\n",
      "The positional arguments are ()\n",
      "The keyword arguments are {}\n",
      "The positional arguments are ()\n",
      "The keyword arguments are {}\n",
      "The positional arguments are ()\n",
      "The keyword arguments are {}\n",
      "The positional arguments are ()\n",
      "The keyword arguments are {}\n",
      "The positional arguments are ()\n",
      "The keyword arguments are {}\n",
      "The positional arguments are ()\n",
      "The keyword arguments are {}\n",
      "The positional arguments are ()\n",
      "The keyword arguments are {}\n",
      "The positional arguments are ()\n",
      "The keyword arguments are {}\n",
      "The positional arguments are ()\n",
      "The keyword arguments are {}\n",
      "The positional arguments are ()\n",
      "The keyword arguments are {}\n",
      "The positional arguments are ()\n",
      "The keyword arguments are {}\n",
      "The positional arguments are ()\n",
      "The keyword arguments are {}\n",
      "The positional arguments are ()\n",
      "The keyword arguments are {}\n",
      "The positional arguments are ()\n",
      "The keyword arguments are {}\n",
      "The positional arguments are ()\n",
      "The keyword arguments are {}\n",
      "The positional arguments are ()\n",
      "The keyword arguments are {}\n",
      "The positional arguments are ()\n",
      "The keyword arguments are {}\n",
      "The positional arguments are ()\n",
      "The keyword arguments are {}\n",
      "The positional arguments are ()\n",
      "The keyword arguments are {}\n",
      "The positional arguments are ()\n",
      "The keyword arguments are {}\n",
      "The positional arguments are ()\n",
      "The keyword arguments are {}\n",
      "The positional arguments are ()\n",
      "The keyword arguments are {}\n",
      "The positional arguments are ()\n",
      "The keyword arguments are {}\n",
      "The positional arguments are ()\n",
      "The keyword arguments are {}\n",
      "The positional arguments are ()\n",
      "The keyword arguments are {}\n",
      "The positional arguments are ()\n",
      "The keyword arguments are {}\n",
      "The positional arguments are ()\n",
      "The keyword arguments are {}\n",
      "The positional arguments are ()\n",
      "The keyword arguments are {}\n",
      "The positional arguments are ()\n",
      "The keyword arguments are {}\n",
      "The positional arguments are ()\n",
      "The keyword arguments are {}\n",
      "The positional arguments are ()\n",
      "The keyword arguments are {}\n",
      "The positional arguments are ()\n",
      "The keyword arguments are {}\n",
      "The positional arguments are ()\n",
      "The keyword arguments are {}\n",
      "The positional arguments are ()\n",
      "The keyword arguments are {}\n",
      "The positional arguments are ()\n",
      "The keyword arguments are {}\n",
      "The positional arguments are ()\n",
      "The keyword arguments are {}\n",
      "The positional arguments are ()\n",
      "The keyword arguments are {}\n",
      "The positional arguments are ()\n",
      "The keyword arguments are {}\n",
      "The positional arguments are ()\n",
      "The keyword arguments are {}\n",
      "The positional arguments are ()\n",
      "The keyword arguments are {}\n",
      "The positional arguments are ()\n",
      "The keyword arguments are {}\n",
      "The positional arguments are ()\n",
      "The keyword arguments are {}\n",
      "The positional arguments are ()\n",
      "The keyword arguments are {}\n",
      "The positional arguments are ()\n",
      "The keyword arguments are {}\n",
      "The positional arguments are ()\n",
      "The keyword arguments are {}\n",
      "The positional arguments are ()\n",
      "The keyword arguments are {}\n",
      "The positional arguments are ()\n",
      "The keyword arguments are {}\n",
      "The positional arguments are ()\n",
      "The keyword arguments are {}\n",
      "The positional arguments are ()\n",
      "The keyword arguments are {}\n",
      "The positional arguments are ()\n",
      "The keyword arguments are {}\n",
      "The positional arguments are ()\n",
      "The keyword arguments are {}\n",
      "The positional arguments are ()\n",
      "The keyword arguments are {}\n",
      "The positional arguments are ()\n",
      "The keyword arguments are {}\n",
      "The positional arguments are ()\n",
      "The keyword arguments are {}\n",
      "The positional arguments are ()\n",
      "The keyword arguments are {}\n",
      "The positional arguments are ()\n",
      "The keyword arguments are {}\n",
      "The positional arguments are ()\n",
      "The keyword arguments are {}\n",
      "The positional arguments are ()\n",
      "The keyword arguments are {}\n",
      "The positional arguments are ()\n",
      "The keyword arguments are {}\n",
      "The positional arguments are ()\n",
      "The keyword arguments are {}\n",
      "The positional arguments are ()\n",
      "The keyword arguments are {}\n",
      "The positional arguments are ()\n",
      "The keyword arguments are {}\n",
      "The positional arguments are ()\n",
      "The keyword arguments are {}\n",
      "The positional arguments are ()\n",
      "The keyword arguments are {}\n",
      "The positional arguments are ()\n",
      "The keyword arguments are {}\n",
      "The positional arguments are ()\n",
      "The keyword arguments are {}\n",
      "The positional arguments are ()\n",
      "The keyword arguments are {}\n",
      "The positional arguments are ()\n",
      "The keyword arguments are {}\n",
      "The positional arguments are ()\n",
      "The keyword arguments are {}\n",
      "The positional arguments are ()\n",
      "The keyword arguments are {}\n",
      "The positional arguments are ()\n",
      "The keyword arguments are {}\n",
      "The positional arguments are ()\n",
      "The keyword arguments are {}\n",
      "The positional arguments are ()\n",
      "The keyword arguments are {}\n",
      "The positional arguments are ()\n",
      "The keyword arguments are {}\n",
      "The positional arguments are ()\n",
      "The keyword arguments are {}\n",
      "The positional arguments are ()\n",
      "The keyword arguments are {}\n",
      "The positional arguments are ()\n",
      "The keyword arguments are {}\n",
      "The positional arguments are ()\n",
      "The keyword arguments are {}\n",
      "The positional arguments are ()\n",
      "The keyword arguments are {}\n",
      "The positional arguments are ()\n",
      "The keyword arguments are {}\n",
      "The positional arguments are ()\n",
      "The keyword arguments are {}\n",
      "The positional arguments are ()\n",
      "The keyword arguments are {}\n",
      "The positional arguments are ()\n",
      "The keyword arguments are {}\n",
      "The positional arguments are ()\n",
      "The keyword arguments are {}\n",
      "The positional arguments are ()\n",
      "The keyword arguments are {}\n",
      "The positional arguments are ()\n",
      "The keyword arguments are {}\n",
      "The positional arguments are ()\n",
      "The keyword arguments are {}\n",
      "The positional arguments are ()\n",
      "The keyword arguments are {}\n",
      "The positional arguments are ()\n",
      "The keyword arguments are {}\n",
      "The positional arguments are ()\n",
      "The keyword arguments are {}\n",
      "The positional arguments are ()\n",
      "The keyword arguments are {}\n",
      "The positional arguments are ()\n",
      "The keyword arguments are {}\n",
      "The positional arguments are ()\n",
      "The keyword arguments are {}\n",
      "The positional arguments are ()\n",
      "The keyword arguments are {}\n",
      "The positional arguments are ()\n",
      "The keyword arguments are {}\n",
      "The positional arguments are ()\n",
      "The keyword arguments are {}\n",
      "The positional arguments are ()\n",
      "The keyword arguments are {}\n",
      "The positional arguments are ()\n",
      "The keyword arguments are {}\n",
      "The positional arguments are ()\n",
      "The keyword arguments are {}\n",
      "The positional arguments are ()\n",
      "The keyword arguments are {}\n",
      "The positional arguments are ()\n",
      "The keyword arguments are {}\n",
      "The positional arguments are ()\n",
      "The keyword arguments are {}\n",
      "The positional arguments are ()\n",
      "The keyword arguments are {}\n",
      "The positional arguments are ()\n",
      "The keyword arguments are {}\n",
      "The positional arguments are ()\n",
      "The keyword arguments are {}\n",
      "The positional arguments are ()\n",
      "The keyword arguments are {}\n",
      "The positional arguments are ()\n",
      "The keyword arguments are {}\n",
      "The positional arguments are ()\n",
      "The keyword arguments are {}\n",
      "The positional arguments are ()\n",
      "The keyword arguments are {}\n",
      "The positional arguments are ()\n",
      "The keyword arguments are {}\n",
      "The positional arguments are ()\n",
      "The keyword arguments are {}\n",
      "The positional arguments are ()\n",
      "The keyword arguments are {}\n",
      "The positional arguments are ()\n",
      "The keyword arguments are {}\n",
      "The positional arguments are ()\n",
      "The keyword arguments are {}\n",
      "The positional arguments are ()\n",
      "The keyword arguments are {}\n",
      "The positional arguments are ()\n",
      "The keyword arguments are {}\n",
      "The positional arguments are ()\n",
      "The keyword arguments are {}\n",
      "The positional arguments are ()\n",
      "The keyword arguments are {}\n",
      "The positional arguments are ()\n",
      "The keyword arguments are {}\n",
      "The positional arguments are ()\n",
      "The keyword arguments are {}\n",
      "The positional arguments are ()\n",
      "The keyword arguments are {}\n",
      "The positional arguments are ()\n",
      "The keyword arguments are {}\n",
      "The positional arguments are ()\n",
      "The keyword arguments are {}\n",
      "The positional arguments are ()\n",
      "The keyword arguments are {}\n",
      "The positional arguments are ()\n",
      "The keyword arguments are {}\n",
      "The positional arguments are ()\n",
      "The keyword arguments are {}\n",
      "The positional arguments are ()\n",
      "The keyword arguments are {}\n",
      "The positional arguments are ()\n",
      "The keyword arguments are {}\n"
     ]
    },
    {
     "ename": "RecursionError",
     "evalue": "maximum recursion depth exceeded while calling a Python object",
     "output_type": "error",
     "traceback": [
      "\u001b[0;31m---------------------------------------------------------------------------\u001b[0m",
      "\u001b[0;31mRecursionError\u001b[0m                            Traceback (most recent call last)",
      "\u001b[0;32m<ipython-input-551-0c83795cf224>\u001b[0m in \u001b[0;36m<module>\u001b[0;34m\u001b[0m\n\u001b[1;32m     12\u001b[0m \u001b[0;32mdef\u001b[0m \u001b[0mfunction_with_no_argument\u001b[0m\u001b[0;34m(\u001b[0m\u001b[0;34m)\u001b[0m\u001b[0;34m:\u001b[0m\u001b[0;34m\u001b[0m\u001b[0;34m\u001b[0m\u001b[0m\n\u001b[1;32m     13\u001b[0m     \u001b[0mprint\u001b[0m\u001b[0;34m(\u001b[0m\u001b[0;34m\"No arguments here\"\u001b[0m\u001b[0;34m)\u001b[0m\u001b[0;34m\u001b[0m\u001b[0;34m\u001b[0m\u001b[0m\n\u001b[0;32m---> 14\u001b[0;31m \u001b[0mfunction_with_no_argument\u001b[0m\u001b[0;34m(\u001b[0m\u001b[0;34m)\u001b[0m\u001b[0;34m\u001b[0m\u001b[0;34m\u001b[0m\u001b[0m\n\u001b[0m",
      "\u001b[0;32m<ipython-input-551-0c83795cf224>\u001b[0m in \u001b[0;36ma_wrapper_accepting_arguments\u001b[0;34m(*args, **kwargs)\u001b[0m\n\u001b[1;32m      5\u001b[0m         \u001b[0mprint\u001b[0m\u001b[0;34m(\u001b[0m\u001b[0;34m\"The positional arguments are\"\u001b[0m\u001b[0;34m,\u001b[0m \u001b[0margs\u001b[0m\u001b[0;34m)\u001b[0m\u001b[0;34m\u001b[0m\u001b[0;34m\u001b[0m\u001b[0m\n\u001b[1;32m      6\u001b[0m         \u001b[0mprint\u001b[0m\u001b[0;34m(\u001b[0m\u001b[0;34m\"The keyword arguments are\"\u001b[0m\u001b[0;34m,\u001b[0m \u001b[0mkwargs\u001b[0m\u001b[0;34m)\u001b[0m\u001b[0;34m\u001b[0m\u001b[0;34m\u001b[0m\u001b[0m\n\u001b[0;32m----> 7\u001b[0;31m         \u001b[0mfunction_with_no_argument\u001b[0m\u001b[0;34m(\u001b[0m\u001b[0;34m)\u001b[0m\u001b[0;34m\u001b[0m\u001b[0;34m\u001b[0m\u001b[0m\n\u001b[0m\u001b[1;32m      8\u001b[0m     \u001b[0;32mreturn\u001b[0m \u001b[0ma_wrapper_accepting_arguments\u001b[0m\u001b[0;34m\u001b[0m\u001b[0;34m\u001b[0m\u001b[0m\n\u001b[1;32m      9\u001b[0m \u001b[0;34m\u001b[0m\u001b[0m\n",
      "... last 1 frames repeated, from the frame below ...\n",
      "\u001b[0;32m<ipython-input-551-0c83795cf224>\u001b[0m in \u001b[0;36ma_wrapper_accepting_arguments\u001b[0;34m(*args, **kwargs)\u001b[0m\n\u001b[1;32m      5\u001b[0m         \u001b[0mprint\u001b[0m\u001b[0;34m(\u001b[0m\u001b[0;34m\"The positional arguments are\"\u001b[0m\u001b[0;34m,\u001b[0m \u001b[0margs\u001b[0m\u001b[0;34m)\u001b[0m\u001b[0;34m\u001b[0m\u001b[0;34m\u001b[0m\u001b[0m\n\u001b[1;32m      6\u001b[0m         \u001b[0mprint\u001b[0m\u001b[0;34m(\u001b[0m\u001b[0;34m\"The keyword arguments are\"\u001b[0m\u001b[0;34m,\u001b[0m \u001b[0mkwargs\u001b[0m\u001b[0;34m)\u001b[0m\u001b[0;34m\u001b[0m\u001b[0;34m\u001b[0m\u001b[0m\n\u001b[0;32m----> 7\u001b[0;31m         \u001b[0mfunction_with_no_argument\u001b[0m\u001b[0;34m(\u001b[0m\u001b[0;34m)\u001b[0m\u001b[0;34m\u001b[0m\u001b[0;34m\u001b[0m\u001b[0m\n\u001b[0m\u001b[1;32m      8\u001b[0m     \u001b[0;32mreturn\u001b[0m \u001b[0ma_wrapper_accepting_arguments\u001b[0m\u001b[0;34m\u001b[0m\u001b[0;34m\u001b[0m\u001b[0m\n\u001b[1;32m      9\u001b[0m \u001b[0;34m\u001b[0m\u001b[0m\n",
      "\u001b[0;31mRecursionError\u001b[0m: maximum recursion depth exceeded while calling a Python object"
     ]
    }
   ],
   "source": [
    "# general purpose decorator\n",
    "\n",
    "def a_dectorator_passing_arbitary_argument(function_to_decorate):\n",
    "    def a_wrapper_accepting_arguments(*args, **kwargs):\n",
    "        print(\"The positional arguments are\", args)\n",
    "        print(\"The keyword arguments are\", kwargs)\n",
    "        function_with_no_argument()\n",
    "    return a_wrapper_accepting_arguments\n",
    "\n",
    "\n",
    "@a_dectorator_passing_arbitary_argument\n",
    "def function_with_no_argument():\n",
    "    print(\"No arguments here\")\n",
    "function_with_no_argument()\n"
   ]
  },
  {
   "cell_type": "code",
   "execution_count": 552,
   "metadata": {},
   "outputs": [],
   "source": [
    "exit()\n"
   ]
  },
  {
   "cell_type": "code",
   "execution_count": 1,
   "metadata": {},
   "outputs": [
    {
     "name": "stdout",
     "output_type": "stream",
     "text": [
      "hi\n"
     ]
    }
   ],
   "source": [
    "print(\"hi\")"
   ]
  },
  {
   "cell_type": "code",
   "execution_count": 3,
   "metadata": {},
   "outputs": [],
   "source": [
    "def a_dectorator_passing_arbitary_argument(function_to_decorate):  \n",
    "    def a_wrapper_accepting_arguments(*args, **kwargs):\n",
    "        print(\"The positional arguments are\", args)\n",
    "        print(\"The keyword arguments are\", kwargs)\n",
    "        function_to_decorate()  #function_with_no_argument()\n",
    "    return a_wrapper_accepting_arguments\n",
    "\n",
    "\n",
    "@a_dectorator_passing_arbitary_argument\n",
    "def function_with_no_argument():   --- 101\n",
    "    print(\"No arguments here\")\n"
   ]
  },
  {
   "cell_type": "code",
   "execution_count": null,
   "metadata": {},
   "outputs": [],
   "source": []
  },
  {
   "cell_type": "code",
   "execution_count": null,
   "metadata": {},
   "outputs": [],
   "source": []
  },
  {
   "cell_type": "code",
   "execution_count": 4,
   "metadata": {},
   "outputs": [
    {
     "name": "stdout",
     "output_type": "stream",
     "text": [
      "The positional arguments are ()\n",
      "The keyword arguments are {}\n",
      "No arguments here\n"
     ]
    }
   ],
   "source": [
    "function_with_no_argument()"
   ]
  },
  {
   "cell_type": "code",
   "execution_count": null,
   "metadata": {},
   "outputs": [],
   "source": [
    "a_dectorator_passing_arbitary_argument(a, b)\n",
    "  a = a+1\n",
    "  a = 10+1 \n",
    "111\n",
    "\n",
    "\n",
    "\n",
    "a = 10 ---> 101\n",
    "b = 12 ---> 102\n",
    "\n",
    "a_dectorator_passing_arbitary_argument(a, b)"
   ]
  },
  {
   "cell_type": "code",
   "execution_count": 7,
   "metadata": {},
   "outputs": [
    {
     "name": "stdout",
     "output_type": "stream",
     "text": [
      "positional args: (1, 2, 3)\n",
      "kwargs: {}\n",
      "1 2 3\n",
      "(1, 2, 3)\n"
     ]
    }
   ],
   "source": [
    "# pasing positional based arguments\n",
    "def outer(func):\n",
    "    def inner(*args, **kwargs):\n",
    "        print(\"positional args:\", args)\n",
    "        print(\"kwargs:\", kwargs)\n",
    "        s = func(*args)\n",
    "        print(s)\n",
    "    return inner\n",
    "\n",
    "@outer\n",
    "def func_with_arguments(a,b,c):\n",
    "    print(a,b,c)\n",
    "    return a, b, c\n",
    "    s = \"hi how are you?##$$\"\n",
    "    return s\n",
    "\n",
    "\n",
    "func_with_arguments(1,2,3)"
   ]
  },
  {
   "cell_type": "code",
   "execution_count": null,
   "metadata": {},
   "outputs": [],
   "source": [
    "# passing kwargs based arguments"
   ]
  },
  {
   "cell_type": "code",
   "execution_count": 8,
   "metadata": {},
   "outputs": [
    {
     "data": {
      "text/plain": [
       "'hi how are you?'"
      ]
     },
     "execution_count": 8,
     "metadata": {},
     "output_type": "execute_result"
    }
   ],
   "source": [
    " \"hi how are you?##$$\".split(\"##$$\")[0]"
   ]
  },
  {
   "cell_type": "code",
   "execution_count": null,
   "metadata": {},
   "outputs": [],
   "source": [
    "# passing kwargs based arguments"
   ]
  },
  {
   "cell_type": "code",
   "execution_count": 9,
   "metadata": {},
   "outputs": [
    {
     "name": "stdout",
     "output_type": "stream",
     "text": [
      "args# (10, 12)\n",
      "keyword args {'addr': 'pune', 'name': 'derick'}\n",
      "Kwargs {'addr': 'pune', 'name': 'derick'}\n"
     ]
    }
   ],
   "source": [
    "def outer(func):\n",
    "    def inner(*args, **kwargs):\n",
    "        print(\"args#\", args)\n",
    "        print(\"keyword args\", kwargs)\n",
    "        func(*args, **kwargs)\n",
    "    return inner\n",
    "\n",
    "@outer\n",
    "def function_with_keyword_arguments(a,b, **kwargs):\n",
    "    print(\"Kwargs\", kwargs)\n",
    "\n",
    "function_with_keyword_arguments(10,12, addr='pune', name='derick')"
   ]
  },
  {
   "cell_type": "code",
   "execution_count": 12,
   "metadata": {},
   "outputs": [],
   "source": [
    "def outer(func):\n",
    "    def inner(arg1, arg2):\n",
    "        print(\"my args:\",arg1, arg2)\n",
    "        func(arg1, arg2)\n",
    "    return inner\n",
    "\n",
    "@outer\n",
    "def list_cities(city1, city2):\n",
    "    print(\"city1\", city1)\n",
    "    print(\"city2\", city2)"
   ]
  },
  {
   "cell_type": "code",
   "execution_count": 13,
   "metadata": {},
   "outputs": [
    {
     "name": "stdout",
     "output_type": "stream",
     "text": [
      "my args: pune mumbai\n",
      "city1 pune\n",
      "city2 mumbai\n"
     ]
    }
   ],
   "source": [
    "list_cities(\"pune\", \"mumbai\")"
   ]
  },
  {
   "cell_type": "code",
   "execution_count": null,
   "metadata": {},
   "outputs": [],
   "source": []
  },
  {
   "cell_type": "code",
   "execution_count": 24,
   "metadata": {},
   "outputs": [],
   "source": [
    "# passing arguments to decorator \n",
    "def decorator_maker_with_args(*args):\n",
    "    def decorator(func):\n",
    "        def wrapper(fun_arg1, fun_arg2, fun_arg3):\n",
    "            \"This is wrapper function\"\n",
    "            print(\"this function have access to all variables\")\n",
    "            print(\"decorator args\", args)\n",
    "            return func(fun_arg1, fun_arg2, fun_arg3)\n",
    "        return wrapper\n",
    "    return decorator        \n",
    "\n",
    "@decorator_maker_with_args(\"pandas\", \"numpy\", \"java\")\n",
    "def function_with_arguments(func_args1, func_args2, func_arg3):\n",
    "    print('inside the function', func_args1, func_args2, func_arg3)"
   ]
  },
  {
   "cell_type": "code",
   "execution_count": null,
   "metadata": {},
   "outputs": [],
   "source": []
  },
  {
   "cell_type": "code",
   "execution_count": null,
   "metadata": {},
   "outputs": [],
   "source": []
  },
  {
   "cell_type": "code",
   "execution_count": 16,
   "metadata": {},
   "outputs": [
    {
     "name": "stdout",
     "output_type": "stream",
     "text": [
      "this function have access to all variables\n",
      "decorator args pandas numpy java\n",
      "inside the function onkar science tech\n"
     ]
    }
   ],
   "source": [
    "function_with_arguments(\"onkar\", \"science\", \"tech\")"
   ]
  },
  {
   "cell_type": "code",
   "execution_count": null,
   "metadata": {},
   "outputs": [],
   "source": [
    "# decorted ---> d1 (10) -> d2(i/p->10) ---further calcultion"
   ]
  },
  {
   "cell_type": "code",
   "execution_count": null,
   "metadata": {},
   "outputs": [],
   "source": []
  },
  {
   "cell_type": "code",
   "execution_count": 22,
   "metadata": {},
   "outputs": [],
   "source": [
    "\n",
    "def decor1(func):\n",
    "    def inner():\n",
    "        x = func()\n",
    "        print(\"x in deco2\", x)\n",
    "        return x*x\n",
    "    return inner\n",
    "\n",
    "def decor(func):\n",
    "    def inner():\n",
    "        x = func() #num()\n",
    "        print(\"x in decor1...\", x)\n",
    "        return 2 * x\n",
    "    return inner\n",
    "\n",
    "@decor1\n",
    "@decor\n",
    "def num():\n",
    "    return 10\n"
   ]
  },
  {
   "cell_type": "code",
   "execution_count": 23,
   "metadata": {},
   "outputs": [
    {
     "name": "stdout",
     "output_type": "stream",
     "text": [
      "x in decor1... 10\n",
      "x in deco2 20\n",
      "400\n"
     ]
    }
   ],
   "source": [
    "print(num())"
   ]
  },
  {
   "cell_type": "code",
   "execution_count": null,
   "metadata": {},
   "outputs": [],
   "source": []
  },
  {
   "cell_type": "code",
   "execution_count": null,
   "metadata": {},
   "outputs": [],
   "source": []
  },
  {
   "cell_type": "code",
   "execution_count": null,
   "metadata": {},
   "outputs": [],
   "source": []
  },
  {
   "cell_type": "code",
   "execution_count": 20,
   "metadata": {},
   "outputs": [
    {
     "ename": "TypeError",
     "evalue": "'NoneType' object is not callable",
     "output_type": "error",
     "traceback": [
      "\u001b[0;31m---------------------------------------------------------------------------\u001b[0m",
      "\u001b[0;31mTypeError\u001b[0m                                 Traceback (most recent call last)",
      "\u001b[0;32m<ipython-input-20-758f9726a4ea>\u001b[0m in \u001b[0;36m<module>\u001b[0;34m\u001b[0m\n\u001b[0;32m----> 1\u001b[0;31m \u001b[0mprint\u001b[0m\u001b[0;34m(\u001b[0m\u001b[0mnum\u001b[0m\u001b[0;34m(\u001b[0m\u001b[0;34m)\u001b[0m\u001b[0;34m)\u001b[0m\u001b[0;34m\u001b[0m\u001b[0;34m\u001b[0m\u001b[0m\n\u001b[0m",
      "\u001b[0;31mTypeError\u001b[0m: 'NoneType' object is not callable"
     ]
    }
   ],
   "source": []
  },
  {
   "cell_type": "code",
   "execution_count": 26,
   "metadata": {},
   "outputs": [
    {
     "name": "stdout",
     "output_type": "stream",
     "text": [
      "args1 ('pandas', 'numpy', 'java')\n",
      "args2 ('pandas', 'numpy', 'java')\n",
      "this function have access to all variables\n",
      "args ('pandas', 'numpy', 'java')\n",
      "arsgs# ('onkar', 'science', 'tech')\n",
      "inside the function onkar science tech\n"
     ]
    }
   ],
   "source": [
    "# passing arguments to decorator\n",
    "def decorator_maker_with_args(*args):\n",
    "    print('args1',args)\n",
    "    def decorator(func):\n",
    "        print('args2',args)\n",
    "        def wrapper(*args1):\n",
    "            \"This is wrapper function\"\n",
    "            print(\"this function have access to all variables\")\n",
    "            print('args',args)\n",
    "            print(\"arsgs#\", args1)\n",
    "          #  print(\"decorator args\", decorator_arg1, decorator_arg2, decorator_arg3)\n",
    "            return func(*args1)\n",
    "        return wrapper\n",
    "    return decorator\n",
    "\n",
    "@decorator_maker_with_args(\"pandas\", \"numpy\", \"java\")\n",
    "def function_with_arguments(func_args1, func_args2, func_arg3):\n",
    "    print('inside the function', func_args1, func_args2, func_arg3)\n",
    "\n",
    "function_with_arguments(\"onkar\", \"science\", \"tech\")"
   ]
  },
  {
   "cell_type": "code",
   "execution_count": null,
   "metadata": {},
   "outputs": [],
   "source": [
    "# Operators in python\n",
    "\n",
    "\n",
    "# 1. Arithemtic operator: +, -, *, /, %, **, //\n",
    "# 2. Assignment Operators: =, +=, -=,*=, /=, %=, //=,**= &=, |=, ^=, >>==, <<= \n",
    "# 3. Comparision Operator:  ==, !=, >, <, >=, <=\n",
    "# 4. Logical Operator: and , or , not\n",
    "# 5. Identity operator: is, is not\n",
    "# 6. Membership Operator: in, not in\n",
    "# 7. bitwise operator: &, |, ^, ~, <<, >>\n",
    "\n",
    "5 | 4\n",
    "11001 & \n",
    "11101\n",
    "00110\n",
    "\n",
    "5 & 4\n",
    "x =5\n",
    "x = x+5\n",
    "x = x -5\n",
    "x = x*5\n",
    "x = x/5\n",
    "\n"
   ]
  },
  {
   "cell_type": "code",
   "execution_count": 44,
   "metadata": {},
   "outputs": [],
   "source": [
    "x = 5//2"
   ]
  },
  {
   "cell_type": "code",
   "execution_count": 48,
   "metadata": {},
   "outputs": [
    {
     "name": "stdout",
     "output_type": "stream",
     "text": [
      "True\n"
     ]
    }
   ],
   "source": [
    "x = ['pune', 'mumbai']\n",
    "# print(\"pun1e\" in x)\n",
    "\n",
    "print(\"bang\" not in x)"
   ]
  },
  {
   "cell_type": "code",
   "execution_count": null,
   "metadata": {},
   "outputs": [],
   "source": [
    "# assignment\n",
    "# 12345\n",
    "5\n",
    "1235455\n",
    "6\n",
    "# Assignment: write code to count the number of digits in a number\n",
    "\n",
    "# input: str = \"a,b$c\"\n",
    "# output: str = \"c,b$a\"\n",
    "\n",
    "# String that contain special character with english alphabets(\"a\" to \"z\" and \"A\" to \"Z\")\n",
    "# reverse the string in a way that special character are not affected.\n",
    "\n",
    "# note: any character that is not an alphabet should be consider as special character\n"
   ]
  },
  {
   "cell_type": "code",
   "execution_count": null,
   "metadata": {},
   "outputs": [],
   "source": []
  },
  {
   "cell_type": "code",
   "execution_count": null,
   "metadata": {},
   "outputs": [],
   "source": [
    "def f1():\n",
    "    print(\"hello\")\n",
    "    \n",
    "def f2(a,b):\n",
    "    print(a)\n",
    "\n",
    "f2(f1, 10)\n",
    "f2(f1(), 10)"
   ]
  },
  {
   "cell_type": "code",
   "execution_count": null,
   "metadata": {},
   "outputs": [],
   "source": [
    "l = [0,1,2,3]\n",
    "for l[-1] in l:\n",
    "    print(l[-1])\n",
    "    \n",
    "# output of above code"
   ]
  },
  {
   "cell_type": "code",
   "execution_count": null,
   "metadata": {},
   "outputs": [],
   "source": []
  },
  {
   "cell_type": "code",
   "execution_count": 28,
   "metadata": {},
   "outputs": [
    {
     "data": {
      "text/plain": [
       "2"
      ]
     },
     "execution_count": 28,
     "metadata": {},
     "output_type": "execute_result"
    }
   ],
   "source": [
    "x"
   ]
  },
  {
   "cell_type": "code",
   "execution_count": 29,
   "metadata": {},
   "outputs": [
    {
     "data": {
      "text/plain": [
       "True"
      ]
     },
     "execution_count": 29,
     "metadata": {},
     "output_type": "execute_result"
    }
   ],
   "source": [
    "'nitin' == 'nitin'"
   ]
  },
  {
   "cell_type": "code",
   "execution_count": 33,
   "metadata": {},
   "outputs": [
    {
     "name": "stdout",
     "output_type": "stream",
     "text": [
      "hi\n"
     ]
    }
   ],
   "source": [
    "x = 5 \n",
    "y = False\n",
    "\n",
    "if x == 5 and not y:\n",
    "    print(\"hi\")"
   ]
  },
  {
   "cell_type": "code",
   "execution_count": 34,
   "metadata": {},
   "outputs": [
    {
     "data": {
      "text/plain": [
       "True"
      ]
     },
     "execution_count": 34,
     "metadata": {},
     "output_type": "execute_result"
    }
   ],
   "source": [
    "x = [1,2,3,4,5]\n",
    "y = [1,2,3,4,5]\n",
    "\n",
    "x == y"
   ]
  },
  {
   "cell_type": "code",
   "execution_count": 35,
   "metadata": {},
   "outputs": [
    {
     "data": {
      "text/plain": [
       "False"
      ]
     },
     "execution_count": 35,
     "metadata": {},
     "output_type": "execute_result"
    }
   ],
   "source": [
    "x is y"
   ]
  },
  {
   "cell_type": "code",
   "execution_count": 36,
   "metadata": {},
   "outputs": [
    {
     "data": {
      "text/plain": [
       "140642320973760"
      ]
     },
     "execution_count": 36,
     "metadata": {},
     "output_type": "execute_result"
    }
   ],
   "source": [
    "id(y)"
   ]
  },
  {
   "cell_type": "code",
   "execution_count": 37,
   "metadata": {},
   "outputs": [
    {
     "data": {
      "text/plain": [
       "140642321025792"
      ]
     },
     "execution_count": 37,
     "metadata": {},
     "output_type": "execute_result"
    }
   ],
   "source": [
    "id(x)"
   ]
  },
  {
   "cell_type": "code",
   "execution_count": 38,
   "metadata": {},
   "outputs": [],
   "source": [
    "d = x"
   ]
  },
  {
   "cell_type": "code",
   "execution_count": 39,
   "metadata": {},
   "outputs": [
    {
     "data": {
      "text/plain": [
       "140642321025792"
      ]
     },
     "execution_count": 39,
     "metadata": {},
     "output_type": "execute_result"
    }
   ],
   "source": [
    "id(d)"
   ]
  },
  {
   "cell_type": "code",
   "execution_count": 40,
   "metadata": {},
   "outputs": [
    {
     "data": {
      "text/plain": [
       "True"
      ]
     },
     "execution_count": 40,
     "metadata": {},
     "output_type": "execute_result"
    }
   ],
   "source": [
    "x is d"
   ]
  },
  {
   "cell_type": "code",
   "execution_count": 41,
   "metadata": {},
   "outputs": [
    {
     "data": {
      "text/plain": [
       "False"
      ]
     },
     "execution_count": 41,
     "metadata": {},
     "output_type": "execute_result"
    }
   ],
   "source": [
    "x is not d"
   ]
  },
  {
   "cell_type": "code",
   "execution_count": 42,
   "metadata": {},
   "outputs": [
    {
     "data": {
      "text/plain": [
       "False"
      ]
     },
     "execution_count": 42,
     "metadata": {},
     "output_type": "execute_result"
    }
   ],
   "source": [
    "x !=y"
   ]
  },
  {
   "cell_type": "code",
   "execution_count": 43,
   "metadata": {},
   "outputs": [
    {
     "data": {
      "text/plain": [
       "True"
      ]
     },
     "execution_count": 43,
     "metadata": {},
     "output_type": "execute_result"
    }
   ],
   "source": [
    "x is not y"
   ]
  },
  {
   "cell_type": "code",
   "execution_count": 55,
   "metadata": {},
   "outputs": [
    {
     "name": "stdout",
     "output_type": "stream",
     "text": [
      "[2, 4, 8, 16, 32]\n"
     ]
    }
   ],
   "source": []
  },
  {
   "cell_type": "code",
   "execution_count": null,
   "metadata": {},
   "outputs": [],
   "source": []
  },
  {
   "cell_type": "code",
   "execution_count": 54,
   "metadata": {},
   "outputs": [
    {
     "name": "stdout",
     "output_type": "stream",
     "text": [
      "[1, -2, -3]\n"
     ]
    }
   ],
   "source": []
  },
  {
   "cell_type": "code",
   "execution_count": null,
   "metadata": {},
   "outputs": [],
   "source": []
  },
  {
   "cell_type": "code",
   "execution_count": 53,
   "metadata": {},
   "outputs": [
    {
     "data": {
      "text/plain": [
       "0"
      ]
     },
     "execution_count": 53,
     "metadata": {},
     "output_type": "execute_result"
    }
   ],
   "source": [
    "20%2"
   ]
  },
  {
   "cell_type": "code",
   "execution_count": 2,
   "metadata": {},
   "outputs": [
    {
     "name": "stdout",
     "output_type": "stream",
     "text": [
      "hello python\n"
     ]
    },
    {
     "ename": "NameError",
     "evalue": "name 's' is not defined",
     "output_type": "error",
     "traceback": [
      "\u001b[0;31m---------------------------------------------------------------------------\u001b[0m",
      "\u001b[0;31mNameError\u001b[0m                                 Traceback (most recent call last)",
      "\u001b[0;32m<ipython-input-2-eb76465c8494>\u001b[0m in \u001b[0;36m<module>\u001b[0;34m\u001b[0m\n\u001b[1;32m      6\u001b[0m     \u001b[0mprint\u001b[0m\u001b[0;34m(\u001b[0m\u001b[0ms\u001b[0m\u001b[0;34m)\u001b[0m\u001b[0;34m\u001b[0m\u001b[0;34m\u001b[0m\u001b[0m\n\u001b[1;32m      7\u001b[0m \u001b[0mlocal_f\u001b[0m\u001b[0;34m(\u001b[0m\u001b[0;34m)\u001b[0m\u001b[0;34m\u001b[0m\u001b[0;34m\u001b[0m\u001b[0m\n\u001b[0;32m----> 8\u001b[0;31m \u001b[0mprint\u001b[0m\u001b[0;34m(\u001b[0m\u001b[0ms\u001b[0m\u001b[0;34m)\u001b[0m\u001b[0;34m\u001b[0m\u001b[0;34m\u001b[0m\u001b[0m\n\u001b[0m",
      "\u001b[0;31mNameError\u001b[0m: name 's' is not defined"
     ]
    }
   ],
   "source": [
    "# local vs global varaibles\n",
    "\n",
    "def local_f():\n",
    "    # local varaibles\n",
    "    s = \"hello python\" # local variable\n",
    "    print(s) \n",
    "local_f() \n",
    "print(s)"
   ]
  },
  {
   "cell_type": "code",
   "execution_count": 3,
   "metadata": {},
   "outputs": [
    {
     "name": "stdout",
     "output_type": "stream",
     "text": [
      "inside the global f function Hi python\n",
      "outside of function Hi python\n"
     ]
    }
   ],
   "source": [
    "def global_f():\n",
    "    print(\"inside the global f function\", s)\n",
    "\n",
    "# Global scope\n",
    "s = \"Hi python\"\n",
    "global_f()\n",
    "print(\"outside of function\", s)\n"
   ]
  },
  {
   "cell_type": "code",
   "execution_count": 4,
   "metadata": {},
   "outputs": [
    {
     "name": "stdout",
     "output_type": "stream",
     "text": [
      "hello java\n",
      "hi python\n"
     ]
    }
   ],
   "source": [
    "# what if the local and global variable have same name\n",
    "\n",
    "def f():\n",
    "    s = \"hello java\"\n",
    "    print(s)\n",
    "\n",
    "# global scope\n",
    "s = \"hi python\"\n",
    "f()\n",
    "print(s)\n"
   ]
  },
  {
   "cell_type": "code",
   "execution_count": 5,
   "metadata": {},
   "outputs": [
    {
     "ename": "UnboundLocalError",
     "evalue": "local variable 's' referenced before assignment",
     "output_type": "error",
     "traceback": [
      "\u001b[0;31m---------------------------------------------------------------------------\u001b[0m",
      "\u001b[0;31mUnboundLocalError\u001b[0m                         Traceback (most recent call last)",
      "\u001b[0;32m<ipython-input-5-2c2abd5107a1>\u001b[0m in \u001b[0;36m<module>\u001b[0;34m\u001b[0m\n\u001b[1;32m      5\u001b[0m \u001b[0;31m# global scope\u001b[0m\u001b[0;34m\u001b[0m\u001b[0;34m\u001b[0m\u001b[0;34m\u001b[0m\u001b[0m\n\u001b[1;32m      6\u001b[0m \u001b[0ms\u001b[0m \u001b[0;34m=\u001b[0m \u001b[0;34m\"python\"\u001b[0m\u001b[0;34m\u001b[0m\u001b[0;34m\u001b[0m\u001b[0m\n\u001b[0;32m----> 7\u001b[0;31m \u001b[0mf\u001b[0m\u001b[0;34m(\u001b[0m\u001b[0;34m)\u001b[0m\u001b[0;34m\u001b[0m\u001b[0;34m\u001b[0m\u001b[0m\n\u001b[0m",
      "\u001b[0;32m<ipython-input-5-2c2abd5107a1>\u001b[0m in \u001b[0;36mf\u001b[0;34m()\u001b[0m\n\u001b[1;32m      1\u001b[0m \u001b[0;31m# modify the global variable value inside the block or function\u001b[0m\u001b[0;34m\u001b[0m\u001b[0;34m\u001b[0m\u001b[0;34m\u001b[0m\u001b[0m\n\u001b[1;32m      2\u001b[0m \u001b[0;32mdef\u001b[0m \u001b[0mf\u001b[0m\u001b[0;34m(\u001b[0m\u001b[0;34m)\u001b[0m\u001b[0;34m:\u001b[0m\u001b[0;34m\u001b[0m\u001b[0;34m\u001b[0m\u001b[0m\n\u001b[0;32m----> 3\u001b[0;31m     \u001b[0ms\u001b[0m \u001b[0;34m+=\u001b[0m\u001b[0;34m'abc'\u001b[0m \u001b[0;31m# s = s+ \"abc\"\u001b[0m\u001b[0;34m\u001b[0m\u001b[0;34m\u001b[0m\u001b[0m\n\u001b[0m\u001b[1;32m      4\u001b[0m     \u001b[0mprint\u001b[0m\u001b[0;34m(\u001b[0m\u001b[0;34m\"inside the function\"\u001b[0m\u001b[0;34m,\u001b[0m\u001b[0ms\u001b[0m\u001b[0;34m)\u001b[0m\u001b[0;34m\u001b[0m\u001b[0;34m\u001b[0m\u001b[0m\n\u001b[1;32m      5\u001b[0m \u001b[0;31m# global scope\u001b[0m\u001b[0;34m\u001b[0m\u001b[0;34m\u001b[0m\u001b[0;34m\u001b[0m\u001b[0m\n",
      "\u001b[0;31mUnboundLocalError\u001b[0m: local variable 's' referenced before assignment"
     ]
    }
   ],
   "source": [
    "# modify the global variable value inside the block or function\n",
    "def f():\n",
    "    s +='abc' # s = s+ \"abc\"\n",
    "    print(\"inside the function\",s)\n",
    "# global scope\n",
    "s = \"python\"\n",
    "f()"
   ]
  },
  {
   "cell_type": "code",
   "execution_count": 7,
   "metadata": {},
   "outputs": [
    {
     "name": "stdout",
     "output_type": "stream",
     "text": [
      "python is simple\n",
      "value of s python is simpleabvc\n",
      "java\n",
      "java\n"
     ]
    }
   ],
   "source": [
    "def f():\n",
    "    global s\n",
    "    s +=\"abvc\"\n",
    "    print(\"value of s\", s)\n",
    "    s = \"java\"\n",
    "    print(s)\n",
    "    \n",
    "s = \"python is simple\" # global scope \n",
    "print(s)\n",
    "f()\n",
    "print(s)"
   ]
  },
  {
   "cell_type": "code",
   "execution_count": 8,
   "metadata": {},
   "outputs": [
    {
     "name": "stdout",
     "output_type": "stream",
     "text": [
      "Global: 1\n",
      "Inside f(): 1\n",
      "Global: 1\n",
      "inside the g() function 2\n",
      "Global: 1\n",
      "Inside the h() 3\n",
      "Global: 3\n"
     ]
    }
   ],
   "source": [
    "# local vs global\n",
    "\n",
    "a = 1\n",
    "\n",
    "def f():\n",
    "    print(\"Inside f():\", a)\n",
    "\n",
    "def g():\n",
    "    a = 2  # local scope \n",
    "    print(\"inside the g() function\", a)\n",
    "\n",
    "def h():\n",
    "    global a  # global scope\n",
    "    a = 3\n",
    "    print(\"Inside the h()\", a)\n",
    "\n",
    "\n",
    "print(\"Global:\", a)\n",
    "f()\n",
    "print(\"Global:\", a)\n",
    "g()\n",
    "print(\"Global:\", a)\n",
    "h()\n",
    "print(\"Global:\", a)"
   ]
  },
  {
   "cell_type": "code",
   "execution_count": null,
   "metadata": {},
   "outputs": [],
   "source": [
    "# iterator in python\n",
    "\n",
    "# iter\n",
    "# next"
   ]
  },
  {
   "cell_type": "code",
   "execution_count": 9,
   "metadata": {},
   "outputs": [],
   "source": [
    "iter_list = iter(['a', 'b', 'c'])"
   ]
  },
  {
   "cell_type": "code",
   "execution_count": 10,
   "metadata": {},
   "outputs": [
    {
     "data": {
      "text/plain": [
       "list_iterator"
      ]
     },
     "execution_count": 10,
     "metadata": {},
     "output_type": "execute_result"
    }
   ],
   "source": [
    "type(iter_list)"
   ]
  },
  {
   "cell_type": "code",
   "execution_count": 11,
   "metadata": {},
   "outputs": [
    {
     "name": "stdout",
     "output_type": "stream",
     "text": [
      "a\n"
     ]
    }
   ],
   "source": [
    "print(next(iter_list))"
   ]
  },
  {
   "cell_type": "code",
   "execution_count": 12,
   "metadata": {},
   "outputs": [
    {
     "name": "stdout",
     "output_type": "stream",
     "text": [
      "b\n"
     ]
    }
   ],
   "source": [
    "print(next(iter_list))"
   ]
  },
  {
   "cell_type": "code",
   "execution_count": 13,
   "metadata": {},
   "outputs": [
    {
     "name": "stdout",
     "output_type": "stream",
     "text": [
      "c\n"
     ]
    }
   ],
   "source": [
    "print(next(iter_list))"
   ]
  },
  {
   "cell_type": "code",
   "execution_count": 14,
   "metadata": {},
   "outputs": [
    {
     "ename": "StopIteration",
     "evalue": "",
     "output_type": "error",
     "traceback": [
      "\u001b[0;31m---------------------------------------------------------------------------\u001b[0m",
      "\u001b[0;31mStopIteration\u001b[0m                             Traceback (most recent call last)",
      "\u001b[0;32m<ipython-input-14-623a870b19b7>\u001b[0m in \u001b[0;36m<module>\u001b[0;34m\u001b[0m\n\u001b[0;32m----> 1\u001b[0;31m \u001b[0mprint\u001b[0m\u001b[0;34m(\u001b[0m\u001b[0mnext\u001b[0m\u001b[0;34m(\u001b[0m\u001b[0miter_list\u001b[0m\u001b[0;34m)\u001b[0m\u001b[0;34m)\u001b[0m\u001b[0;34m\u001b[0m\u001b[0;34m\u001b[0m\u001b[0m\n\u001b[0m",
      "\u001b[0;31mStopIteration\u001b[0m: "
     ]
    }
   ],
   "source": [
    "print(next(iter_list))"
   ]
  },
  {
   "cell_type": "code",
   "execution_count": 15,
   "metadata": {},
   "outputs": [
    {
     "name": "stdout",
     "output_type": "stream",
     "text": [
      "p\n",
      "y\n",
      "t\n",
      "h\n",
      "o\n",
      "n\n",
      "end of the element\n"
     ]
    }
   ],
   "source": [
    "iteralable_value = \"python\"\n",
    "iterable_object = iter(iteralable_value)\n",
    "\n",
    "while True:\n",
    "    try:\n",
    "        # iterate by calling next()\n",
    "        item = next(iterable_object)\n",
    "        print(item)\n",
    "        \n",
    "    except StopIteration:\n",
    "        print(\"end of the element\")\n",
    "        break"
   ]
  },
  {
   "cell_type": "code",
   "execution_count": 23,
   "metadata": {},
   "outputs": [
    {
     "name": "stdout",
     "output_type": "stream",
     "text": [
      "5\n"
     ]
    }
   ],
   "source": [
    "class Test:\n",
    "    # constructor # initializer\n",
    "    def __init__(self, limit):\n",
    "        self.limit = limit\n",
    "    \n",
    "    # creates the iterator object , iteration is initailized \n",
    "    def __iter__(self):\n",
    "        self.x = 5\n",
    "        return self\n",
    "    \n",
    "    # move ele next ele \n",
    "    # python next(), iter()\n",
    "    def __next__(self):\n",
    "        x = self.x\n",
    "        if x > self.limit:\n",
    "            raise StopIteration # break condition \n",
    "        # increments the value\n",
    "        self.x = x +1\n",
    "        return x\n",
    "\n",
    "\n",
    "\n",
    "    \n",
    "b = iter(Test(10))\n",
    "print(next(b))\n",
    "    "
   ]
  },
  {
   "cell_type": "code",
   "execution_count": 24,
   "metadata": {},
   "outputs": [
    {
     "name": "stdout",
     "output_type": "stream",
     "text": [
      "6\n"
     ]
    }
   ],
   "source": [
    "print(next(b))"
   ]
  },
  {
   "cell_type": "code",
   "execution_count": 25,
   "metadata": {},
   "outputs": [
    {
     "name": "stdout",
     "output_type": "stream",
     "text": [
      "7\n"
     ]
    }
   ],
   "source": [
    "print(next(b))"
   ]
  },
  {
   "cell_type": "code",
   "execution_count": 26,
   "metadata": {},
   "outputs": [
    {
     "name": "stdout",
     "output_type": "stream",
     "text": [
      "8\n"
     ]
    }
   ],
   "source": [
    "print(next(b))"
   ]
  },
  {
   "cell_type": "code",
   "execution_count": 27,
   "metadata": {},
   "outputs": [
    {
     "name": "stdout",
     "output_type": "stream",
     "text": [
      "9\n"
     ]
    }
   ],
   "source": [
    "print(next(b))"
   ]
  },
  {
   "cell_type": "code",
   "execution_count": 28,
   "metadata": {},
   "outputs": [
    {
     "name": "stdout",
     "output_type": "stream",
     "text": [
      "10\n"
     ]
    }
   ],
   "source": [
    "print(next(b))"
   ]
  },
  {
   "cell_type": "code",
   "execution_count": 29,
   "metadata": {},
   "outputs": [
    {
     "ename": "StopIteration",
     "evalue": "",
     "output_type": "error",
     "traceback": [
      "\u001b[0;31m---------------------------------------------------------------------------\u001b[0m",
      "\u001b[0;31mStopIteration\u001b[0m                             Traceback (most recent call last)",
      "\u001b[0;32m<ipython-input-29-0b064482c990>\u001b[0m in \u001b[0;36m<module>\u001b[0;34m\u001b[0m\n\u001b[0;32m----> 1\u001b[0;31m \u001b[0mprint\u001b[0m\u001b[0;34m(\u001b[0m\u001b[0mnext\u001b[0m\u001b[0;34m(\u001b[0m\u001b[0mb\u001b[0m\u001b[0;34m)\u001b[0m\u001b[0;34m)\u001b[0m\u001b[0;34m\u001b[0m\u001b[0;34m\u001b[0m\u001b[0m\n\u001b[0m",
      "\u001b[0;32m<ipython-input-23-6f99945e9a7c>\u001b[0m in \u001b[0;36m__next__\u001b[0;34m(self)\u001b[0m\n\u001b[1;32m     14\u001b[0m         \u001b[0mx\u001b[0m \u001b[0;34m=\u001b[0m \u001b[0mself\u001b[0m\u001b[0;34m.\u001b[0m\u001b[0mx\u001b[0m\u001b[0;34m\u001b[0m\u001b[0;34m\u001b[0m\u001b[0m\n\u001b[1;32m     15\u001b[0m         \u001b[0;32mif\u001b[0m \u001b[0mx\u001b[0m \u001b[0;34m>\u001b[0m \u001b[0mself\u001b[0m\u001b[0;34m.\u001b[0m\u001b[0mlimit\u001b[0m\u001b[0;34m:\u001b[0m\u001b[0;34m\u001b[0m\u001b[0;34m\u001b[0m\u001b[0m\n\u001b[0;32m---> 16\u001b[0;31m             \u001b[0;32mraise\u001b[0m \u001b[0mStopIteration\u001b[0m \u001b[0;31m# break condition\u001b[0m\u001b[0;34m\u001b[0m\u001b[0;34m\u001b[0m\u001b[0m\n\u001b[0m\u001b[1;32m     17\u001b[0m         \u001b[0;31m# increments the value\u001b[0m\u001b[0;34m\u001b[0m\u001b[0;34m\u001b[0m\u001b[0;34m\u001b[0m\u001b[0m\n\u001b[1;32m     18\u001b[0m         \u001b[0mself\u001b[0m\u001b[0;34m.\u001b[0m\u001b[0mx\u001b[0m \u001b[0;34m=\u001b[0m \u001b[0mx\u001b[0m \u001b[0;34m+\u001b[0m\u001b[0;36m1\u001b[0m\u001b[0;34m\u001b[0m\u001b[0;34m\u001b[0m\u001b[0m\n",
      "\u001b[0;31mStopIteration\u001b[0m: "
     ]
    }
   ],
   "source": [
    "print(next(b))"
   ]
  },
  {
   "cell_type": "code",
   "execution_count": 30,
   "metadata": {},
   "outputs": [
    {
     "name": "stdout",
     "output_type": "stream",
     "text": [
      "1\n",
      "2\n",
      "3\n",
      "4\n",
      "5\n"
     ]
    }
   ],
   "source": [
    "l = [1,2,3,4,5]\n",
    "for i in l:\n",
    "    print(i)"
   ]
  },
  {
   "cell_type": "code",
   "execution_count": 31,
   "metadata": {},
   "outputs": [
    {
     "data": {
      "text/plain": [
       "list"
      ]
     },
     "execution_count": 31,
     "metadata": {},
     "output_type": "execute_result"
    }
   ],
   "source": [
    "type(l)"
   ]
  },
  {
   "cell_type": "code",
   "execution_count": 32,
   "metadata": {},
   "outputs": [
    {
     "data": {
      "text/plain": [
       "['__add__',\n",
       " '__class__',\n",
       " '__contains__',\n",
       " '__delattr__',\n",
       " '__delitem__',\n",
       " '__dir__',\n",
       " '__doc__',\n",
       " '__eq__',\n",
       " '__format__',\n",
       " '__ge__',\n",
       " '__getattribute__',\n",
       " '__getitem__',\n",
       " '__gt__',\n",
       " '__hash__',\n",
       " '__iadd__',\n",
       " '__imul__',\n",
       " '__init__',\n",
       " '__init_subclass__',\n",
       " '__iter__',\n",
       " '__le__',\n",
       " '__len__',\n",
       " '__lt__',\n",
       " '__mul__',\n",
       " '__ne__',\n",
       " '__new__',\n",
       " '__reduce__',\n",
       " '__reduce_ex__',\n",
       " '__repr__',\n",
       " '__reversed__',\n",
       " '__rmul__',\n",
       " '__setattr__',\n",
       " '__setitem__',\n",
       " '__sizeof__',\n",
       " '__str__',\n",
       " '__subclasshook__',\n",
       " 'append',\n",
       " 'clear',\n",
       " 'copy',\n",
       " 'count',\n",
       " 'extend',\n",
       " 'index',\n",
       " 'insert',\n",
       " 'pop',\n",
       " 'remove',\n",
       " 'reverse',\n",
       " 'sort']"
      ]
     },
     "execution_count": 32,
     "metadata": {},
     "output_type": "execute_result"
    }
   ],
   "source": [
    "dir(l)"
   ]
  },
  {
   "cell_type": "code",
   "execution_count": 34,
   "metadata": {},
   "outputs": [
    {
     "name": "stdout",
     "output_type": "stream",
     "text": [
      "1\n"
     ]
    },
    {
     "data": {
      "text/plain": [
       "'a'"
      ]
     },
     "execution_count": 34,
     "metadata": {},
     "output_type": "execute_result"
    }
   ],
   "source": [
    "\n",
    "def sq_number(n):\n",
    "    for i in range(1, n+1):\n",
    "        print(i*i)\n",
    "        return \"a\"\n",
    "        \"other logic\"\n",
    "sq_number(3)\n"
   ]
  },
  {
   "cell_type": "code",
   "execution_count": 61,
   "metadata": {},
   "outputs": [],
   "source": [
    "def sq_number(n):\n",
    "    for i in range(1, n+1): \n",
    "        yield i*i\n",
    "        #return i*i\n",
    "a = sq_number(3)\n"
   ]
  },
  {
   "cell_type": "code",
   "execution_count": null,
   "metadata": {},
   "outputs": [],
   "source": []
  },
  {
   "cell_type": "code",
   "execution_count": 63,
   "metadata": {},
   "outputs": [],
   "source": [
    "b = list(a)"
   ]
  },
  {
   "cell_type": "code",
   "execution_count": 64,
   "metadata": {},
   "outputs": [],
   "source": [
    "for i in b:\n",
    "    print(i)"
   ]
  },
  {
   "cell_type": "code",
   "execution_count": null,
   "metadata": {},
   "outputs": [],
   "source": []
  },
  {
   "cell_type": "code",
   "execution_count": null,
   "metadata": {},
   "outputs": [],
   "source": []
  },
  {
   "cell_type": "code",
   "execution_count": 57,
   "metadata": {},
   "outputs": [
    {
     "data": {
      "text/plain": [
       "1"
      ]
     },
     "execution_count": 57,
     "metadata": {},
     "output_type": "execute_result"
    }
   ],
   "source": [
    "next(a) "
   ]
  },
  {
   "cell_type": "code",
   "execution_count": 58,
   "metadata": {},
   "outputs": [
    {
     "name": "stdout",
     "output_type": "stream",
     "text": [
      "4\n",
      "9\n"
     ]
    }
   ],
   "source": [
    "for i in a:\n",
    "    print(i)"
   ]
  },
  {
   "cell_type": "code",
   "execution_count": 59,
   "metadata": {},
   "outputs": [
    {
     "data": {
      "text/plain": [
       "<generator object sq_number at 0x7f838d14d970>"
      ]
     },
     "execution_count": 59,
     "metadata": {},
     "output_type": "execute_result"
    }
   ],
   "source": [
    "a"
   ]
  },
  {
   "cell_type": "code",
   "execution_count": 60,
   "metadata": {},
   "outputs": [],
   "source": [
    "for i in a:\n",
    "    print(i)"
   ]
  },
  {
   "cell_type": "code",
   "execution_count": null,
   "metadata": {},
   "outputs": [],
   "source": []
  },
  {
   "cell_type": "code",
   "execution_count": null,
   "metadata": {},
   "outputs": [],
   "source": []
  },
  {
   "cell_type": "code",
   "execution_count": null,
   "metadata": {},
   "outputs": [],
   "source": []
  },
  {
   "cell_type": "code",
   "execution_count": 50,
   "metadata": {},
   "outputs": [
    {
     "data": {
      "text/plain": [
       "1"
      ]
     },
     "execution_count": 50,
     "metadata": {},
     "output_type": "execute_result"
    }
   ],
   "source": [
    "a"
   ]
  },
  {
   "cell_type": "code",
   "execution_count": 51,
   "metadata": {},
   "outputs": [
    {
     "data": {
      "text/plain": [
       "1"
      ]
     },
     "execution_count": 51,
     "metadata": {},
     "output_type": "execute_result"
    }
   ],
   "source": [
    "a"
   ]
  },
  {
   "cell_type": "code",
   "execution_count": 52,
   "metadata": {},
   "outputs": [
    {
     "data": {
      "text/plain": [
       "1"
      ]
     },
     "execution_count": 52,
     "metadata": {},
     "output_type": "execute_result"
    }
   ],
   "source": [
    "a\n"
   ]
  },
  {
   "cell_type": "code",
   "execution_count": 65,
   "metadata": {},
   "outputs": [
    {
     "data": {
      "text/plain": [
       "[1, 2, 3, 4, 5]"
      ]
     },
     "execution_count": 65,
     "metadata": {},
     "output_type": "execute_result"
    }
   ],
   "source": [
    "l"
   ]
  },
  {
   "cell_type": "code",
   "execution_count": 66,
   "metadata": {},
   "outputs": [
    {
     "ename": "TypeError",
     "evalue": "'list' object is not an iterator",
     "output_type": "error",
     "traceback": [
      "\u001b[0;31m---------------------------------------------------------------------------\u001b[0m",
      "\u001b[0;31mTypeError\u001b[0m                                 Traceback (most recent call last)",
      "\u001b[0;32m<ipython-input-66-cdc8a39da60d>\u001b[0m in \u001b[0;36m<module>\u001b[0;34m\u001b[0m\n\u001b[0;32m----> 1\u001b[0;31m \u001b[0mnext\u001b[0m\u001b[0;34m(\u001b[0m\u001b[0ml\u001b[0m\u001b[0;34m)\u001b[0m\u001b[0;34m\u001b[0m\u001b[0;34m\u001b[0m\u001b[0m\n\u001b[0m",
      "\u001b[0;31mTypeError\u001b[0m: 'list' object is not an iterator"
     ]
    }
   ],
   "source": [
    "next(l)"
   ]
  },
  {
   "cell_type": "code",
   "execution_count": null,
   "metadata": {},
   "outputs": [],
   "source": []
  },
  {
   "cell_type": "code",
   "execution_count": null,
   "metadata": {},
   "outputs": [],
   "source": []
  },
  {
   "cell_type": "code",
   "execution_count": null,
   "metadata": {},
   "outputs": [],
   "source": []
  },
  {
   "cell_type": "code",
   "execution_count": 43,
   "metadata": {},
   "outputs": [
    {
     "data": {
      "text/plain": [
       "<generator object sq_number at 0x7f838d159d60>"
      ]
     },
     "execution_count": 43,
     "metadata": {},
     "output_type": "execute_result"
    }
   ],
   "source": [
    "a"
   ]
  },
  {
   "cell_type": "code",
   "execution_count": 44,
   "metadata": {},
   "outputs": [
    {
     "data": {
      "text/plain": [
       "1"
      ]
     },
     "execution_count": 44,
     "metadata": {},
     "output_type": "execute_result"
    }
   ],
   "source": [
    "next(a)"
   ]
  },
  {
   "cell_type": "code",
   "execution_count": 48,
   "metadata": {},
   "outputs": [
    {
     "name": "stdout",
     "output_type": "stream",
     "text": [
      "1\n",
      "hi\n",
      "4\n",
      "hi\n",
      "9\n",
      "hi\n"
     ]
    }
   ],
   "source": [
    "for i in a:\n",
    "    print(i)"
   ]
  },
  {
   "cell_type": "code",
   "execution_count": null,
   "metadata": {},
   "outputs": [],
   "source": []
  },
  {
   "cell_type": "code",
   "execution_count": null,
   "metadata": {},
   "outputs": [],
   "source": []
  },
  {
   "cell_type": "code",
   "execution_count": null,
   "metadata": {},
   "outputs": [],
   "source": []
  },
  {
   "cell_type": "code",
   "execution_count": 40,
   "metadata": {},
   "outputs": [
    {
     "data": {
      "text/plain": [
       "1"
      ]
     },
     "execution_count": 40,
     "metadata": {},
     "output_type": "execute_result"
    }
   ],
   "source": [
    "a"
   ]
  },
  {
   "cell_type": "code",
   "execution_count": 41,
   "metadata": {},
   "outputs": [
    {
     "data": {
      "text/plain": [
       "1"
      ]
     },
     "execution_count": 41,
     "metadata": {},
     "output_type": "execute_result"
    }
   ],
   "source": [
    "a"
   ]
  },
  {
   "cell_type": "code",
   "execution_count": null,
   "metadata": {},
   "outputs": [],
   "source": []
  },
  {
   "cell_type": "code",
   "execution_count": 37,
   "metadata": {},
   "outputs": [
    {
     "data": {
      "text/plain": [
       "generator"
      ]
     },
     "execution_count": 37,
     "metadata": {},
     "output_type": "execute_result"
    }
   ],
   "source": [
    "type(a)"
   ]
  },
  {
   "cell_type": "code",
   "execution_count": null,
   "metadata": {},
   "outputs": [],
   "source": []
  },
  {
   "cell_type": "code",
   "execution_count": null,
   "metadata": {},
   "outputs": [],
   "source": [
    "\n",
    "\n",
    "#.1 create  ----> create devices, create db, create profile in cache \n",
    "# update \n",
    "# delete"
   ]
  },
  {
   "cell_type": "code",
   "execution_count": 67,
   "metadata": {},
   "outputs": [],
   "source": [
    "def simple_fun():\n",
    "    print(\"hi\")\n",
    "    return \"hello\""
   ]
  },
  {
   "cell_type": "code",
   "execution_count": 68,
   "metadata": {},
   "outputs": [
    {
     "name": "stdout",
     "output_type": "stream",
     "text": [
      "hi\n"
     ]
    },
    {
     "data": {
      "text/plain": [
       "function"
      ]
     },
     "execution_count": 68,
     "metadata": {},
     "output_type": "execute_result"
    }
   ],
   "source": [
    "f = simple_fun()\n",
    "type(simple_fun)"
   ]
  },
  {
   "cell_type": "code",
   "execution_count": 83,
   "metadata": {},
   "outputs": [],
   "source": [
    "def simple_generator():\n",
    "    print(\"hi\")\n",
    "    yield \"hello\"\n",
    "    x = 10\n",
    "    y = x + 5\n",
    "    print(y)\n",
    "    yield \"world\"\n",
    "    yield x"
   ]
  },
  {
   "cell_type": "code",
   "execution_count": null,
   "metadata": {},
   "outputs": [],
   "source": []
  },
  {
   "cell_type": "code",
   "execution_count": null,
   "metadata": {},
   "outputs": [],
   "source": []
  },
  {
   "cell_type": "code",
   "execution_count": 86,
   "metadata": {},
   "outputs": [],
   "source": [
    "ret = simple_generator()"
   ]
  },
  {
   "cell_type": "code",
   "execution_count": 87,
   "metadata": {},
   "outputs": [
    {
     "name": "stdout",
     "output_type": "stream",
     "text": [
      "hi\n"
     ]
    },
    {
     "data": {
      "text/plain": [
       "'hello'"
      ]
     },
     "execution_count": 87,
     "metadata": {},
     "output_type": "execute_result"
    }
   ],
   "source": [
    "next(ret)"
   ]
  },
  {
   "cell_type": "code",
   "execution_count": 88,
   "metadata": {},
   "outputs": [
    {
     "name": "stdout",
     "output_type": "stream",
     "text": [
      "15\n"
     ]
    },
    {
     "data": {
      "text/plain": [
       "'world'"
      ]
     },
     "execution_count": 88,
     "metadata": {},
     "output_type": "execute_result"
    }
   ],
   "source": [
    "next(ret)"
   ]
  },
  {
   "cell_type": "code",
   "execution_count": 89,
   "metadata": {},
   "outputs": [
    {
     "data": {
      "text/plain": [
       "10"
      ]
     },
     "execution_count": 89,
     "metadata": {},
     "output_type": "execute_result"
    }
   ],
   "source": [
    "next(ret)"
   ]
  },
  {
   "cell_type": "code",
   "execution_count": 90,
   "metadata": {},
   "outputs": [
    {
     "ename": "StopIteration",
     "evalue": "",
     "output_type": "error",
     "traceback": [
      "\u001b[0;31m---------------------------------------------------------------------------\u001b[0m",
      "\u001b[0;31mStopIteration\u001b[0m                             Traceback (most recent call last)",
      "\u001b[0;32m<ipython-input-90-2216548e65ed>\u001b[0m in \u001b[0;36m<module>\u001b[0;34m\u001b[0m\n\u001b[0;32m----> 1\u001b[0;31m \u001b[0mnext\u001b[0m\u001b[0;34m(\u001b[0m\u001b[0mret\u001b[0m\u001b[0;34m)\u001b[0m\u001b[0;34m\u001b[0m\u001b[0;34m\u001b[0m\u001b[0m\n\u001b[0m",
      "\u001b[0;31mStopIteration\u001b[0m: "
     ]
    }
   ],
   "source": [
    "next(ret)"
   ]
  },
  {
   "cell_type": "code",
   "execution_count": null,
   "metadata": {},
   "outputs": [],
   "source": []
  },
  {
   "cell_type": "code",
   "execution_count": 85,
   "metadata": {},
   "outputs": [
    {
     "name": "stdout",
     "output_type": "stream",
     "text": [
      "hi\n",
      "hello\n",
      "15\n",
      "world\n",
      "10\n"
     ]
    }
   ],
   "source": [
    "for i in ret:\n",
    "    print(i)"
   ]
  },
  {
   "cell_type": "code",
   "execution_count": null,
   "metadata": {},
   "outputs": [],
   "source": []
  },
  {
   "cell_type": "code",
   "execution_count": 71,
   "metadata": {},
   "outputs": [
    {
     "data": {
      "text/plain": [
       "<generator object simple_generator at 0x7f838d169dd0>"
      ]
     },
     "execution_count": 71,
     "metadata": {},
     "output_type": "execute_result"
    }
   ],
   "source": [
    "ret"
   ]
  },
  {
   "cell_type": "code",
   "execution_count": 72,
   "metadata": {},
   "outputs": [
    {
     "name": "stdout",
     "output_type": "stream",
     "text": [
      "hi\n",
      "15\n"
     ]
    },
    {
     "data": {
      "text/plain": [
       "['hello', 'world', 10]"
      ]
     },
     "execution_count": 72,
     "metadata": {},
     "output_type": "execute_result"
    }
   ],
   "source": [
    "list(ret)"
   ]
  },
  {
   "cell_type": "code",
   "execution_count": 81,
   "metadata": {},
   "outputs": [
    {
     "ename": "TypeError",
     "evalue": "isinstance() arg 2 must be a type or tuple of types",
     "output_type": "error",
     "traceback": [
      "\u001b[0;31m---------------------------------------------------------------------------\u001b[0m",
      "\u001b[0;31mTypeError\u001b[0m                                 Traceback (most recent call last)",
      "\u001b[0;32m<ipython-input-81-6235ababdef8>\u001b[0m in \u001b[0;36m<module>\u001b[0;34m\u001b[0m\n\u001b[1;32m      1\u001b[0m \u001b[0;32mimport\u001b[0m \u001b[0mcollections\u001b[0m\u001b[0;34m\u001b[0m\u001b[0;34m\u001b[0m\u001b[0m\n\u001b[1;32m      2\u001b[0m \u001b[0;34m\u001b[0m\u001b[0m\n\u001b[0;32m----> 3\u001b[0;31m \u001b[0misinstance\u001b[0m\u001b[0;34m(\u001b[0m\u001b[0mlist\u001b[0m\u001b[0;34m,\u001b[0m \u001b[0;34m\"__iter__\"\u001b[0m\u001b[0;34m)\u001b[0m\u001b[0;34m\u001b[0m\u001b[0;34m\u001b[0m\u001b[0m\n\u001b[0m",
      "\u001b[0;31mTypeError\u001b[0m: isinstance() arg 2 must be a type or tuple of types"
     ]
    }
   ],
   "source": []
  },
  {
   "cell_type": "code",
   "execution_count": 95,
   "metadata": {},
   "outputs": [],
   "source": [
    "def fib(n):\n",
    "    numbers = []\n",
    "    first, second = 0,1\n",
    "    while first < n:\n",
    "        numbers.append(first)\n",
    "        first, second = second, first+second\n",
    "    print(numbers)"
   ]
  },
  {
   "cell_type": "code",
   "execution_count": null,
   "metadata": {},
   "outputs": [],
   "source": []
  },
  {
   "cell_type": "code",
   "execution_count": null,
   "metadata": {},
   "outputs": [],
   "source": []
  },
  {
   "cell_type": "code",
   "execution_count": 96,
   "metadata": {},
   "outputs": [
    {
     "name": "stdout",
     "output_type": "stream",
     "text": [
      "[0, 1, 1, 2, 3, 5, 8]\n"
     ]
    }
   ],
   "source": [
    "fib(10)"
   ]
  },
  {
   "cell_type": "code",
   "execution_count": 97,
   "metadata": {},
   "outputs": [],
   "source": [
    "def fib(n):\n",
    "    first, second = 0,1\n",
    "    while n:\n",
    "        yield first\n",
    "        first, second = second, first+second\n",
    "        n-=1"
   ]
  },
  {
   "cell_type": "code",
   "execution_count": 98,
   "metadata": {},
   "outputs": [],
   "source": [
    "ret = fib(50)"
   ]
  },
  {
   "cell_type": "code",
   "execution_count": 99,
   "metadata": {},
   "outputs": [
    {
     "data": {
      "text/plain": [
       "[0,\n",
       " 1,\n",
       " 1,\n",
       " 2,\n",
       " 3,\n",
       " 5,\n",
       " 8,\n",
       " 13,\n",
       " 21,\n",
       " 34,\n",
       " 55,\n",
       " 89,\n",
       " 144,\n",
       " 233,\n",
       " 377,\n",
       " 610,\n",
       " 987,\n",
       " 1597,\n",
       " 2584,\n",
       " 4181,\n",
       " 6765,\n",
       " 10946,\n",
       " 17711,\n",
       " 28657,\n",
       " 46368,\n",
       " 75025,\n",
       " 121393,\n",
       " 196418,\n",
       " 317811,\n",
       " 514229,\n",
       " 832040,\n",
       " 1346269,\n",
       " 2178309,\n",
       " 3524578,\n",
       " 5702887,\n",
       " 9227465,\n",
       " 14930352,\n",
       " 24157817,\n",
       " 39088169,\n",
       " 63245986,\n",
       " 102334155,\n",
       " 165580141,\n",
       " 267914296,\n",
       " 433494437,\n",
       " 701408733,\n",
       " 1134903170,\n",
       " 1836311903,\n",
       " 2971215073,\n",
       " 4807526976,\n",
       " 7778742049]"
      ]
     },
     "execution_count": 99,
     "metadata": {},
     "output_type": "execute_result"
    }
   ],
   "source": [
    "list(ret)"
   ]
  },
  {
   "cell_type": "code",
   "execution_count": 100,
   "metadata": {},
   "outputs": [],
   "source": [
    "# custom generator function range\n",
    "\n",
    "def frange(start, stop, increment):\n",
    "    x = start\n",
    "    while x<stop:\n",
    "        yield x\n",
    "        x+=increment"
   ]
  },
  {
   "cell_type": "code",
   "execution_count": 101,
   "metadata": {},
   "outputs": [
    {
     "name": "stdout",
     "output_type": "stream",
     "text": [
      "<class 'generator'>\n"
     ]
    }
   ],
   "source": [
    "c = frange(0, 4, 0.5)\n",
    "print(type(c))"
   ]
  },
  {
   "cell_type": "code",
   "execution_count": 102,
   "metadata": {},
   "outputs": [
    {
     "name": "stdout",
     "output_type": "stream",
     "text": [
      "0\n",
      "0.5\n",
      "1.0\n",
      "1.5\n",
      "2.0\n",
      "2.5\n",
      "3.0\n",
      "3.5\n"
     ]
    }
   ],
   "source": [
    "for i in c:\n",
    "    print(i)"
   ]
  },
  {
   "cell_type": "code",
   "execution_count": 107,
   "metadata": {},
   "outputs": [
    {
     "name": "stdout",
     "output_type": "stream",
     "text": [
      "('a', 'b', 'c')\n",
      "('a', 'c', 'b')\n",
      "('b', 'a', 'c')\n",
      "('b', 'c', 'a')\n",
      "('c', 'a', 'b')\n",
      "('c', 'b', 'a')\n"
     ]
    }
   ],
   "source": [
    "item = ['a', 'b', 'c']\n",
    "\n",
    "from itertools import permutations\n",
    "for p in permutations(item,3):\n",
    "    print(p)"
   ]
  },
  {
   "cell_type": "code",
   "execution_count": 110,
   "metadata": {},
   "outputs": [
    {
     "name": "stdout",
     "output_type": "stream",
     "text": [
      "('a',)\n",
      "('b',)\n",
      "('c',)\n"
     ]
    }
   ],
   "source": [
    "from itertools import combinations\n",
    "for c in combinations(item, 1):\n",
    "    print(c)\n",
    "    "
   ]
  },
  {
   "cell_type": "code",
   "execution_count": 114,
   "metadata": {},
   "outputs": [
    {
     "name": "stdout",
     "output_type": "stream",
     "text": [
      "2 a\n",
      "3 b\n",
      "4 c\n"
     ]
    }
   ],
   "source": [
    "mylist = ('a', 'b', 'c')\n",
    "for idx, val in enumerate(mylist,2):\n",
    "    print(idx, val)\n",
    "    "
   ]
  },
  {
   "cell_type": "code",
   "execution_count": 116,
   "metadata": {},
   "outputs": [
    {
     "name": "stdout",
     "output_type": "stream",
     "text": [
      "1 x\n",
      "2 y\n",
      "3 a\n",
      "5 b\n"
     ]
    }
   ],
   "source": [
    "# zip(*iterable)\n",
    "l = [1,2,3,5]\n",
    "l2 = ['x','y','a', 'b', 'z']\n",
    "for x, y in zip(l, l2):\n",
    "    print(x,y)\n",
    "\n"
   ]
  },
  {
   "cell_type": "code",
   "execution_count": 118,
   "metadata": {
    "scrolled": true
   },
   "outputs": [
    {
     "name": "stdout",
     "output_type": "stream",
     "text": [
      "(1, 'x')\n",
      "(2, 'y')\n",
      "(3, 'a')\n",
      "(5, 'b')\n",
      "(None, 'z')\n"
     ]
    }
   ],
   "source": [
    "from itertools import zip_longest\n",
    "for i in zip_longest(l, l2):\n",
    "    print(i)"
   ]
  },
  {
   "cell_type": "code",
   "execution_count": 119,
   "metadata": {},
   "outputs": [
    {
     "name": "stdout",
     "output_type": "stream",
     "text": [
      "(1, '10', 'x')\n",
      "(2, '11', 'y')\n",
      "(3, '22', 'z')\n",
      "(4, '34', 'a')\n",
      "(5, '44', 'b')\n"
     ]
    }
   ],
   "source": [
    "a = [1,2,3,4,5]\n",
    "b = ['10','11', '22', '34', '44']\n",
    "c = ['x','y', 'z', 'a', 'b']\n",
    "\n",
    "for i in zip(a,b,c):\n",
    "    print(i)"
   ]
  },
  {
   "cell_type": "code",
   "execution_count": 120,
   "metadata": {},
   "outputs": [
    {
     "name": "stdout",
     "output_type": "stream",
     "text": [
      "1\n",
      "2\n",
      "3\n",
      "4\n",
      "5\n",
      "x\n",
      "y\n",
      "z\n",
      "a\n",
      "b\n",
      "c\n"
     ]
    }
   ],
   "source": [
    "from itertools import chain\n",
    "a = [1,2,3,4,5]\n",
    "b = ['x', 'y', 'z', 'a', 'b', 'c']\n",
    "for x in chain(a,b):\n",
    "    print(x)"
   ]
  },
  {
   "cell_type": "code",
   "execution_count": 123,
   "metadata": {},
   "outputs": [],
   "source": [
    "from collections import Iterable \n",
    "def flatten(items, ignore_type=(str, bytes)):\n",
    "    for x in items:\n",
    "        if isinstance(x, Iterable) and not isinstance(x, ignore_type):\n",
    "            yield from flatten(x)\n",
    "        else:\n",
    "            yield x"
   ]
  },
  {
   "cell_type": "code",
   "execution_count": null,
   "metadata": {},
   "outputs": [],
   "source": []
  },
  {
   "cell_type": "code",
   "execution_count": null,
   "metadata": {},
   "outputs": [],
   "source": []
  },
  {
   "cell_type": "code",
   "execution_count": 124,
   "metadata": {},
   "outputs": [
    {
     "name": "stdout",
     "output_type": "stream",
     "text": [
      "1\n",
      "23\n",
      "3\n",
      "4\n",
      "5\n",
      "6\n",
      "9\n",
      "8\n",
      "a\n"
     ]
    }
   ],
   "source": [
    "items = [1,23, [3,4,[5,6], 9], 8, 'a']\n",
    "for x in flatten(items):\n",
    "    print(x)\n"
   ]
  },
  {
   "cell_type": "code",
   "execution_count": 125,
   "metadata": {},
   "outputs": [
    {
     "data": {
      "text/plain": [
       "28"
      ]
     },
     "execution_count": 125,
     "metadata": {},
     "output_type": "execute_result"
    }
   ],
   "source": [
    "import os, sys\n",
    "\n",
    "sys.getsizeof(1)"
   ]
  },
  {
   "cell_type": "code",
   "execution_count": 126,
   "metadata": {},
   "outputs": [
    {
     "data": {
      "text/plain": [
       "'/Users/onkar/Documents/Traning-python-5:08/material 2'"
      ]
     },
     "execution_count": 126,
     "metadata": {},
     "output_type": "execute_result"
    }
   ],
   "source": [
    "os.getcwd()"
   ]
  },
  {
   "cell_type": "code",
   "execution_count": 127,
   "metadata": {},
   "outputs": [],
   "source": [
    "l = [122,2,2,2,2,2,2]"
   ]
  },
  {
   "cell_type": "code",
   "execution_count": 128,
   "metadata": {},
   "outputs": [
    {
     "data": {
      "text/plain": [
       "112"
      ]
     },
     "execution_count": 128,
     "metadata": {},
     "output_type": "execute_result"
    }
   ],
   "source": [
    "sys.getsizeof(l)"
   ]
  },
  {
   "cell_type": "code",
   "execution_count": 129,
   "metadata": {},
   "outputs": [
    {
     "name": "stdout",
     "output_type": "stream",
     "text": [
      "python is fun.\n",
      "thank you\n",
      "today is sunday\n",
      "its a fun day\n",
      "python is \n",
      "new\n",
      "today python is preferred\n",
      "done with sample test\n",
      "new Python\n",
      "end\n",
      "\n"
     ]
    }
   ],
   "source": [
    "# file \n",
    "\n",
    "# read the file as a single string\n",
    "with open(\"sample.txt\", \"rt\") as f:\n",
    "    data = f.read()\n",
    "print(data)\n",
    "    "
   ]
  },
  {
   "cell_type": "code",
   "execution_count": 130,
   "metadata": {},
   "outputs": [
    {
     "name": "stdout",
     "output_type": "stream",
     "text": [
      "python is fun.\n",
      "\n",
      "thank you\n",
      "\n",
      "today is sunday\n",
      "\n",
      "its a fun day\n",
      "\n",
      "python is \n",
      "\n",
      "new\n",
      "\n",
      "today python is preferred\n",
      "\n",
      "done with sample test\n",
      "\n",
      "new Python\n",
      "\n",
      "end\n",
      "\n"
     ]
    }
   ],
   "source": [
    "# iterate over the lines of file\n",
    "\n",
    "with open(\"sample.txt\", \"rt\") as f:\n",
    "    for line in f:\n",
    "        # process the line\n",
    "        print(line)"
   ]
  },
  {
   "cell_type": "code",
   "execution_count": 131,
   "metadata": {},
   "outputs": [],
   "source": [
    "# \n",
    "with open(\"somefile.txt\", \"wt\") as f:\n",
    "    f.write(\"hi\")\n",
    "    f.write(\"hello\")"
   ]
  },
  {
   "cell_type": "code",
   "execution_count": 132,
   "metadata": {},
   "outputs": [
    {
     "name": "stdout",
     "output_type": "stream",
     "text": [
      "Help on built-in function print in module builtins:\n",
      "\n",
      "print(...)\n",
      "    print(value, ..., sep=' ', end='\\n', file=sys.stdout, flush=False)\n",
      "    \n",
      "    Prints the values to a stream, or to sys.stdout by default.\n",
      "    Optional keyword arguments:\n",
      "    file:  a file-like object (stream); defaults to the current sys.stdout.\n",
      "    sep:   string inserted between values, default a space.\n",
      "    end:   string appended after the last value, default a newline.\n",
      "    flush: whether to forcibly flush the stream.\n",
      "\n"
     ]
    }
   ],
   "source": [
    "help(print)"
   ]
  },
  {
   "cell_type": "code",
   "execution_count": 134,
   "metadata": {},
   "outputs": [],
   "source": [
    "with open(\"somefile-ir.txt\", \"wt\") as f:\n",
    "    print(\"hi python\" ,file=f)\n",
    "    print(\"line2\", file=f)"
   ]
  },
  {
   "cell_type": "code",
   "execution_count": null,
   "metadata": {},
   "outputs": [],
   "source": []
  },
  {
   "cell_type": "code",
   "execution_count": null,
   "metadata": {},
   "outputs": [],
   "source": []
  },
  {
   "cell_type": "code",
   "execution_count": null,
   "metadata": {},
   "outputs": [],
   "source": []
  },
  {
   "cell_type": "code",
   "execution_count": null,
   "metadata": {},
   "outputs": [],
   "source": []
  },
  {
   "cell_type": "code",
   "execution_count": null,
   "metadata": {},
   "outputs": [],
   "source": []
  },
  {
   "cell_type": "code",
   "execution_count": null,
   "metadata": {},
   "outputs": [],
   "source": []
  },
  {
   "cell_type": "code",
   "execution_count": null,
   "metadata": {},
   "outputs": [],
   "source": []
  },
  {
   "cell_type": "code",
   "execution_count": null,
   "metadata": {},
   "outputs": [],
   "source": []
  },
  {
   "cell_type": "code",
   "execution_count": null,
   "metadata": {},
   "outputs": [],
   "source": []
  },
  {
   "cell_type": "code",
   "execution_count": null,
   "metadata": {},
   "outputs": [],
   "source": []
  },
  {
   "cell_type": "code",
   "execution_count": null,
   "metadata": {},
   "outputs": [],
   "source": []
  },
  {
   "cell_type": "code",
   "execution_count": null,
   "metadata": {},
   "outputs": [],
   "source": []
  },
  {
   "cell_type": "code",
   "execution_count": null,
   "metadata": {},
   "outputs": [],
   "source": []
  },
  {
   "cell_type": "code",
   "execution_count": null,
   "metadata": {},
   "outputs": [],
   "source": []
  },
  {
   "cell_type": "code",
   "execution_count": null,
   "metadata": {},
   "outputs": [],
   "source": []
  },
  {
   "cell_type": "code",
   "execution_count": null,
   "metadata": {},
   "outputs": [],
   "source": []
  },
  {
   "cell_type": "code",
   "execution_count": null,
   "metadata": {},
   "outputs": [],
   "source": []
  },
  {
   "cell_type": "code",
   "execution_count": null,
   "metadata": {},
   "outputs": [],
   "source": []
  },
  {
   "cell_type": "code",
   "execution_count": null,
   "metadata": {},
   "outputs": [],
   "source": []
  },
  {
   "cell_type": "code",
   "execution_count": null,
   "metadata": {},
   "outputs": [],
   "source": []
  },
  {
   "cell_type": "code",
   "execution_count": null,
   "metadata": {},
   "outputs": [],
   "source": []
  },
  {
   "cell_type": "code",
   "execution_count": null,
   "metadata": {},
   "outputs": [],
   "source": []
  },
  {
   "cell_type": "code",
   "execution_count": null,
   "metadata": {},
   "outputs": [],
   "source": []
  },
  {
   "cell_type": "code",
   "execution_count": null,
   "metadata": {},
   "outputs": [],
   "source": []
  },
  {
   "cell_type": "code",
   "execution_count": null,
   "metadata": {},
   "outputs": [],
   "source": []
  },
  {
   "cell_type": "code",
   "execution_count": null,
   "metadata": {},
   "outputs": [],
   "source": []
  },
  {
   "cell_type": "code",
   "execution_count": null,
   "metadata": {},
   "outputs": [],
   "source": []
  },
  {
   "cell_type": "code",
   "execution_count": null,
   "metadata": {},
   "outputs": [],
   "source": []
  },
  {
   "cell_type": "code",
   "execution_count": null,
   "metadata": {},
   "outputs": [],
   "source": []
  },
  {
   "cell_type": "code",
   "execution_count": null,
   "metadata": {},
   "outputs": [],
   "source": []
  },
  {
   "cell_type": "code",
   "execution_count": null,
   "metadata": {},
   "outputs": [],
   "source": []
  },
  {
   "cell_type": "code",
   "execution_count": null,
   "metadata": {},
   "outputs": [],
   "source": []
  },
  {
   "cell_type": "code",
   "execution_count": null,
   "metadata": {},
   "outputs": [],
   "source": []
  },
  {
   "cell_type": "code",
   "execution_count": null,
   "metadata": {},
   "outputs": [],
   "source": []
  },
  {
   "cell_type": "code",
   "execution_count": null,
   "metadata": {},
   "outputs": [],
   "source": []
  },
  {
   "cell_type": "code",
   "execution_count": null,
   "metadata": {},
   "outputs": [],
   "source": []
  },
  {
   "cell_type": "code",
   "execution_count": null,
   "metadata": {},
   "outputs": [],
   "source": []
  },
  {
   "cell_type": "code",
   "execution_count": null,
   "metadata": {},
   "outputs": [],
   "source": []
  },
  {
   "cell_type": "code",
   "execution_count": null,
   "metadata": {},
   "outputs": [],
   "source": []
  },
  {
   "cell_type": "code",
   "execution_count": null,
   "metadata": {},
   "outputs": [],
   "source": []
  },
  {
   "cell_type": "code",
   "execution_count": null,
   "metadata": {},
   "outputs": [],
   "source": []
  },
  {
   "cell_type": "code",
   "execution_count": null,
   "metadata": {},
   "outputs": [],
   "source": []
  },
  {
   "cell_type": "code",
   "execution_count": null,
   "metadata": {},
   "outputs": [],
   "source": []
  },
  {
   "cell_type": "code",
   "execution_count": null,
   "metadata": {},
   "outputs": [],
   "source": []
  },
  {
   "cell_type": "code",
   "execution_count": null,
   "metadata": {},
   "outputs": [],
   "source": []
  },
  {
   "cell_type": "code",
   "execution_count": null,
   "metadata": {},
   "outputs": [],
   "source": []
  },
  {
   "cell_type": "code",
   "execution_count": null,
   "metadata": {},
   "outputs": [],
   "source": []
  },
  {
   "cell_type": "code",
   "execution_count": null,
   "metadata": {},
   "outputs": [],
   "source": []
  },
  {
   "cell_type": "code",
   "execution_count": null,
   "metadata": {},
   "outputs": [],
   "source": []
  },
  {
   "cell_type": "code",
   "execution_count": null,
   "metadata": {},
   "outputs": [],
   "source": []
  },
  {
   "cell_type": "code",
   "execution_count": null,
   "metadata": {},
   "outputs": [],
   "source": []
  },
  {
   "cell_type": "code",
   "execution_count": null,
   "metadata": {},
   "outputs": [],
   "source": []
  },
  {
   "cell_type": "code",
   "execution_count": null,
   "metadata": {},
   "outputs": [],
   "source": []
  },
  {
   "cell_type": "code",
   "execution_count": null,
   "metadata": {},
   "outputs": [],
   "source": []
  },
  {
   "cell_type": "code",
   "execution_count": null,
   "metadata": {},
   "outputs": [],
   "source": []
  },
  {
   "cell_type": "code",
   "execution_count": null,
   "metadata": {},
   "outputs": [],
   "source": []
  },
  {
   "cell_type": "code",
   "execution_count": null,
   "metadata": {},
   "outputs": [],
   "source": []
  },
  {
   "cell_type": "code",
   "execution_count": null,
   "metadata": {},
   "outputs": [],
   "source": []
  },
  {
   "cell_type": "code",
   "execution_count": null,
   "metadata": {},
   "outputs": [],
   "source": []
  },
  {
   "cell_type": "code",
   "execution_count": null,
   "metadata": {},
   "outputs": [],
   "source": []
  },
  {
   "cell_type": "code",
   "execution_count": null,
   "metadata": {},
   "outputs": [],
   "source": []
  },
  {
   "cell_type": "code",
   "execution_count": null,
   "metadata": {},
   "outputs": [],
   "source": []
  },
  {
   "cell_type": "code",
   "execution_count": null,
   "metadata": {},
   "outputs": [],
   "source": []
  },
  {
   "cell_type": "code",
   "execution_count": null,
   "metadata": {},
   "outputs": [],
   "source": []
  },
  {
   "cell_type": "code",
   "execution_count": null,
   "metadata": {},
   "outputs": [],
   "source": []
  },
  {
   "cell_type": "code",
   "execution_count": null,
   "metadata": {},
   "outputs": [],
   "source": []
  },
  {
   "cell_type": "code",
   "execution_count": null,
   "metadata": {},
   "outputs": [],
   "source": []
  },
  {
   "cell_type": "code",
   "execution_count": null,
   "metadata": {},
   "outputs": [],
   "source": []
  },
  {
   "cell_type": "code",
   "execution_count": null,
   "metadata": {},
   "outputs": [],
   "source": []
  },
  {
   "cell_type": "code",
   "execution_count": null,
   "metadata": {},
   "outputs": [],
   "source": []
  },
  {
   "cell_type": "code",
   "execution_count": null,
   "metadata": {},
   "outputs": [],
   "source": []
  },
  {
   "cell_type": "code",
   "execution_count": null,
   "metadata": {},
   "outputs": [],
   "source": []
  },
  {
   "cell_type": "code",
   "execution_count": null,
   "metadata": {},
   "outputs": [],
   "source": []
  },
  {
   "cell_type": "code",
   "execution_count": null,
   "metadata": {},
   "outputs": [],
   "source": []
  },
  {
   "cell_type": "code",
   "execution_count": null,
   "metadata": {},
   "outputs": [],
   "source": []
  },
  {
   "cell_type": "code",
   "execution_count": null,
   "metadata": {},
   "outputs": [],
   "source": []
  },
  {
   "cell_type": "code",
   "execution_count": null,
   "metadata": {},
   "outputs": [],
   "source": []
  },
  {
   "cell_type": "code",
   "execution_count": null,
   "metadata": {},
   "outputs": [],
   "source": []
  },
  {
   "cell_type": "code",
   "execution_count": null,
   "metadata": {},
   "outputs": [],
   "source": []
  },
  {
   "cell_type": "code",
   "execution_count": null,
   "metadata": {},
   "outputs": [],
   "source": []
  },
  {
   "cell_type": "code",
   "execution_count": null,
   "metadata": {},
   "outputs": [],
   "source": []
  },
  {
   "cell_type": "code",
   "execution_count": null,
   "metadata": {},
   "outputs": [],
   "source": []
  },
  {
   "cell_type": "code",
   "execution_count": null,
   "metadata": {},
   "outputs": [],
   "source": []
  },
  {
   "cell_type": "code",
   "execution_count": null,
   "metadata": {},
   "outputs": [],
   "source": []
  },
  {
   "cell_type": "code",
   "execution_count": null,
   "metadata": {},
   "outputs": [],
   "source": []
  }
 ],
 "metadata": {
  "kernelspec": {
   "display_name": "Python 3",
   "language": "python",
   "name": "python3"
  },
  "language_info": {
   "codemirror_mode": {
    "name": "ipython",
    "version": 3
   },
   "file_extension": ".py",
   "mimetype": "text/x-python",
   "name": "python",
   "nbconvert_exporter": "python",
   "pygments_lexer": "ipython3",
   "version": "3.8.5"
  }
 },
 "nbformat": 4,
 "nbformat_minor": 4
}
