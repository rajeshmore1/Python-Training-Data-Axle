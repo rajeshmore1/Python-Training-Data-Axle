{
 "cells": [
  {
   "cell_type": "code",
   "execution_count": 8,
   "id": "5036dcbc-9f97-4811-9c15-539e3ea02e0f",
   "metadata": {},
   "outputs": [],
   "source": [
    "import os\n",
    "import datetime\n",
    "\n",
    "def depositcash():\n",
    "    deposit_amount = float(input('Please enter amount to be deposited:'))\n",
    "    username = input('Please enter username:')\n",
    "    filename = username+'.txt'\n",
    "    transactionfilename = username+'_transactionhistory.txt'\n",
    "    transactionfile = open(transactionfilename,'a')\n",
    "    file = open(filename,'a')\n",
    "    balance = 0\n",
    "    new_balance = 0\n",
    "    with open(filename,'r') as file:\n",
    "        for i in file:\n",
    "            balance = float(i)\n",
    "    with open(filename,'w+') as file2:\n",
    "        new_balance = balance + deposit_amount\n",
    "        new_balance = str(new_balance)\n",
    "        file2.write(new_balance)\n",
    "        print('Your new balance is:',new_balance)\n",
    "    with open (transactionfilename,'a') as file3:\n",
    "        balance = str(balance)\n",
    "        deposit_amount = str(deposit_amount)\n",
    "        file3.write(str(datetime.datetime.now()))\n",
    "        file3.write('\\nPrevious balance: '+balance+'. Deposit amount is:'+deposit_amount+'. New balance:'+new_balance+'\\n')\n",
    "    \n",
    "    file.close()\n"
   ]
  },
  {
   "cell_type": "code",
   "execution_count": 9,
   "id": "ba0f2f68-f575-4b06-aa3c-0f19881fefb6",
   "metadata": {},
   "outputs": [
    {
     "name": "stdin",
     "output_type": "stream",
     "text": [
      "Please enter amount to be deposited: 200\n",
      "Please enter username: rajesh\n"
     ]
    },
    {
     "name": "stdout",
     "output_type": "stream",
     "text": [
      "Your new balance is: 200.0\n"
     ]
    }
   ],
   "source": [
    "depositcash()"
   ]
  },
  {
   "cell_type": "code",
   "execution_count": 24,
   "id": "8ee7fcec-e680-4090-973a-d7ed92f25f33",
   "metadata": {},
   "outputs": [],
   "source": [
    "\n",
    "def withdrawalcash():\n",
    "    withdrawn_amount = float(input('Please enter amount to be withdrawn:'))\n",
    "    username = input('Please enter username:')\n",
    "    filename = username+'.txt'\n",
    "    transactionfilename = username+'_transactionhistory.txt'\n",
    "    transactionfile = open(transactionfilename,'a')\n",
    "    file = open(filename,'a')\n",
    "    balance = 0\n",
    "    new_balance = 0\n",
    "\n",
    "    with open(filename,'r') as file:\n",
    "        for i in file:\n",
    "            balance = float(i)\n",
    "    with open(filename,'w+') as file2:\n",
    "        if withdrawn_amount > balance:\n",
    "            print('You have insufficient balance. Your balance is:',balance)\n",
    "            \n",
    "            \n",
    "        else:\n",
    "            new_balance =  balance - withdrawn_amount\n",
    "            new_balance = str(new_balance)\n",
    "            file2.write(new_balance)\n",
    "            print('Your new balance is:',new_balance)\n",
    "            with open (transactionfilename,'a') as file3:\n",
    "                balance = str(balance)\n",
    "                withdrawn_amount = str(withdrawn_amount)\n",
    "                file3.write(str(datetime.datetime.now()))\n",
    "                file3.write('\\nPrevious balance: '+balance+'. Withdrawn amount is:'+withdrawn_amount+'. New balance:'+new_balance+'\\n')\n",
    "    file.close()\n"
   ]
  },
  {
   "cell_type": "code",
   "execution_count": 25,
   "id": "27791803-d1fe-4fde-9b81-6e8b8852495a",
   "metadata": {},
   "outputs": [
    {
     "name": "stdin",
     "output_type": "stream",
     "text": [
      "Please enter amount to be withdrawn: 1000\n",
      "Please enter username: raaj\n"
     ]
    },
    {
     "name": "stdout",
     "output_type": "stream",
     "text": [
      "You have insufficient balance. Your balance is: 0\n"
     ]
    }
   ],
   "source": [
    "withdrawalcash()"
   ]
  },
  {
   "cell_type": "code",
   "execution_count": 13,
   "id": "5cb6c764-a8a3-42f7-b073-1f0857d47835",
   "metadata": {},
   "outputs": [
    {
     "name": "stdin",
     "output_type": "stream",
     "text": [
      "Please enter amount to be withdrawn: 150\n",
      "Please enter username: rajesh\n"
     ]
    },
    {
     "name": "stdout",
     "output_type": "stream",
     "text": [
      "You have insufficient balance. Your balance is: 100.0\n"
     ]
    }
   ],
   "source": [
    "withdrawalcash()"
   ]
  },
  {
   "cell_type": "code",
   "execution_count": 18,
   "id": "c14ec7c2-09c8-4201-81e9-6cf0c0be18f4",
   "metadata": {},
   "outputs": [],
   "source": [
    "def balance():\n",
    "    username = input('Please enter username:')\n",
    "    filename = username+'.txt'\n",
    "    file = open(filename,'a')\n",
    "    with open(filename,'r') as file:\n",
    "        for i in file:\n",
    "            balance = float(i)\n",
    "        file.seek(0)\n",
    "        if file.read(1):\n",
    "            print ('Your balance is:', balance)\n",
    "            \n",
    "        else:\n",
    "            print('You have no balance left.')  \n",
    "    file.close()"
   ]
  },
  {
   "cell_type": "code",
   "execution_count": 20,
   "id": "795c0c47-ef41-475c-a38e-d05c5fff790c",
   "metadata": {},
   "outputs": [
    {
     "name": "stdin",
     "output_type": "stream",
     "text": [
      "Please enter username: rajesh\n"
     ]
    },
    {
     "name": "stdout",
     "output_type": "stream",
     "text": [
      "You have no balance left.\n"
     ]
    }
   ],
   "source": [
    "balance()\n"
   ]
  },
  {
   "cell_type": "markdown",
   "id": "8af150e5-3f3b-45be-9235-ca168d83d70c",
   "metadata": {},
   "source": [
    "# Answer:"
   ]
  },
  {
   "cell_type": "code",
   "execution_count": 71,
   "id": "e035f8e4-4e11-46fe-9737-c027eefe046f",
   "metadata": {},
   "outputs": [
    {
     "name": "stdout",
     "output_type": "stream",
     "text": [
      "\n",
      "   1.Add username and account\n",
      "   2.Deposit Cash\n",
      "   3.Withdraw amount\n",
      "   4.Pin Exchange\n",
      "   5. Block Card\n",
      "   \n"
     ]
    },
    {
     "name": "stdin",
     "output_type": "stream",
     "text": [
      "What would you like to do?  2\n",
      "Please enter amount to be deposited: 255\n",
      "Please enter username: rajesh\n"
     ]
    },
    {
     "name": "stdout",
     "output_type": "stream",
     "text": [
      "Your new balance is: 6955.0\n"
     ]
    }
   ],
   "source": [
    " print(\"\"\"\n",
    "    1.Add username and account\n",
    "    2.Deposit Cash\n",
    "    3.Withdraw amount\n",
    "    4.Pin Exchange\n",
    "    5. Block Card\n",
    "    \"\"\")\n",
    "ans=float(input(\"What would you like to do? \"))\n",
    "\n",
    "if ans==1:\n",
    "    deposit_amount = float(input('Please enter amount to be deposited:'))\n",
    "    username = input('Please enter username:')\n",
    "    filename = username+'.txt'\n",
    "    transactionfilename = username+'_transactionhistory.txt'\n",
    "    transactionfile = open(transactionfilename,'a')\n",
    "    file = open(filename,'a')\n",
    "    balance = 0\n",
    "    new_balance = 0\n",
    "    with open(filename,'r') as file:\n",
    "        for i in file:\n",
    "            balance = float(i)\n",
    "    with open(filename,'w+') as file2:\n",
    "        new_balance = balance + deposit_amount\n",
    "        new_balance = str(new_balance)\n",
    "        file2.write(new_balance)\n",
    "        print('Your new balance is:',new_balance)\n",
    "    with open (transactionfilename,'a') as file3:\n",
    "        balance = str(balance)\n",
    "        deposit_amount = str(deposit_amount)\n",
    "        file3.write(str(datetime.datetime.now()))\n",
    "        file3.write('\\nPrevious balance: '+balance+'. Deposit amount is:'+deposit_amount+'. New balance:'+new_balance+'\\n')\n",
    "\n",
    "    file.close()\n",
    "    print(\"\\nAcount Holder Added\")\n",
    "elif ans==2:    \n",
    "    deposit_amount = float(input('Please enter amount to be deposited:'))\n",
    "    username = input('Please enter username:')\n",
    "    filename = username+'.txt'\n",
    "    transactionfilename = username+'_transactionhistory.txt'\n",
    "    transactionfile = open(transactionfilename,'a')\n",
    "    file = open(filename,'a')\n",
    "    balance = 0\n",
    "    new_balance = 0\n",
    "    with open(filename,'r') as file:\n",
    "        for i in file:\n",
    "            balance = float(i)\n",
    "    with open(filename,'w+') as file2:\n",
    "        new_balance = balance + deposit_amount\n",
    "        new_balance = str(new_balance)\n",
    "        file2.write(new_balance)\n",
    "        print('Your new balance is:',new_balance)\n",
    "    with open (transactionfilename,'a') as file3:\n",
    "        balance = str(balance)\n",
    "        deposit_amount = str(deposit_amount)\n",
    "        file3.write(str(datetime.datetime.now()))\n",
    "        file3.write('\\nPrevious balance: '+balance+'. Deposit amount is:'+deposit_amount+'. New balance:'+new_balance+'\\n')\n",
    "    \n",
    "    file.close()\n",
    "\n",
    "elif ans==3:    \n",
    "    withdrawn_amount = float(input('Please enter amount to be withdrawn:'))\n",
    "    username = input('Please enter username:')\n",
    "    filename = username+'.txt'\n",
    "    transactionfilename = username+'_transactionhistory.txt'\n",
    "    transactionfile = open(transactionfilename,'a')\n",
    "    file = open(filename,'a')\n",
    "    balance = 0\n",
    "    new_balance = 0\n",
    "\n",
    "    with open(filename,'r') as file:\n",
    "        for i in file:\n",
    "            balance = float(i)\n",
    "    with open(filename,'w+') as file2:\n",
    "        if withdrawn_amount > balance:\n",
    "            print('You have insufficient balance. Your balance is:',balance)\n",
    "            \n",
    "            \n",
    "        else:\n",
    "            new_balance =  balance - withdrawn_amount\n",
    "            new_balance = str(new_balance)\n",
    "            file2.write(new_balance)\n",
    "            print('Your new balance is:',new_balance)\n",
    "            with open (transactionfilename,'a') as file3:\n",
    "                balance = str(balance)\n",
    "                withdrawn_amount = str(withdrawn_amount)\n",
    "                file3.write(str(datetime.datetime.now()))\n",
    "                file3.write('\\nPrevious balance: '+balance+'. Withdrawn amount is:'+withdrawn_amount+'. New balance:'+new_balance+'\\n')\n",
    "    file.close()\n",
    "\n",
    "elif ans==4:\n",
    "    def verify_pin(pin):\n",
    "        if pin == '1234':\n",
    "            return True\n",
    "        else:\n",
    "            print(\"Your card will be blocked after 4 unsuccessfull attempts\")\n",
    "            return False\n",
    "            \n",
    "\n",
    "    def log_in():\n",
    "        tries = 0\n",
    "        while tries < 4:\n",
    "            pin = input('Please Enter Your 4 Digit Pin: ')\n",
    "            if verify_pin(pin):\n",
    "                print(\"Pin accepted!\")\n",
    "                return True\n",
    "            else:\n",
    "                print(\"Invalid pin\")\n",
    "                tries += 1\n",
    "        print(\"To many incorrect tries. Could not log in\")\n",
    "        return False\n",
    "\n",
    "    def start_menu():\n",
    "        print(\"Welcome to the atm!\")\n",
    "        if log_in():\n",
    "            new_user_pin_list = list()\n",
    "            new_pin = input(\"please enter new pin:\")\n",
    "            new_user_pin_list.append(new_pin)\n",
    "        print(\"Ypur new pin is:\",new_user_pin_list)\n",
    "        print(\"Your new pin is successfully updated\")\n",
    "        print(\"Exiting Program\")\n",
    "\n",
    "    start_menu()\n",
    "\n",
    "else:\n",
    "    print('Enter correct card number, Mobile Number and OTP combo to continue')\n",
    "    count=0\n",
    "    while count < 3:\n",
    "        username = int(input('Enter card number: '))\n",
    "        mobile = input('Enter mobile number: ')\n",
    "        password = int(input('Enter OTP: '))\n",
    "        if password==1234 and username==123456789:\n",
    "            print('Access granted')\n",
    "            break\n",
    "        else:\n",
    "            print('Access denied. Try again.')\n",
    "            count += 1\n"
   ]
  },
  {
   "cell_type": "code",
   "execution_count": null,
   "id": "aeb13db4-cbd6-48cc-936c-225a655be5c3",
   "metadata": {},
   "outputs": [],
   "source": []
  }
 ],
 "metadata": {
  "kernelspec": {
   "display_name": "CuisineModel",
   "language": "python",
   "name": "python3"
  },
  "language_info": {
   "codemirror_mode": {
    "name": "ipython",
    "version": 3
   },
   "file_extension": ".py",
   "mimetype": "text/x-python",
   "name": "python",
   "nbconvert_exporter": "python",
   "pygments_lexer": "ipython3",
   "version": "3.8.9"
  }
 },
 "nbformat": 4,
 "nbformat_minor": 5
}
